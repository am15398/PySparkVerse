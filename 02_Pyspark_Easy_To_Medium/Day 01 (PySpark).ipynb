{
 "cells": [
  {
   "cell_type": "code",
   "execution_count": 0,
   "metadata": {
    "application/vnd.databricks.v1+cell": {
     "cellMetadata": {
      "byteLimit": 2048000,
      "rowLimit": 10000
     },
     "inputWidgets": {},
     "nuid": "6d36406e-76cb-47e7-a6a7-30d57fc0f84b",
     "showTitle": false,
     "title": ""
    }
   },
   "outputs": [],
   "source": [
    "from pyspark.sql import functions as F"
   ]
  },
  {
   "cell_type": "code",
   "execution_count": 0,
   "metadata": {
    "application/vnd.databricks.v1+cell": {
     "cellMetadata": {
      "byteLimit": 2048000,
      "rowLimit": 10000
     },
     "inputWidgets": {},
     "nuid": "e6d26a1c-a1d8-4637-a7d1-ab8d1ec0889a",
     "showTitle": false,
     "title": ""
    }
   },
   "outputs": [
    {
     "output_type": "stream",
     "name": "stdout",
     "output_type": "stream",
     "text": [
      "+----+-----------------+-----------+-----------------+----------+\n|  id|             name|countrycode|         district|population|\n+----+-----------------+-----------+-----------------+----------+\n|   6|        Rotterdam|        NLD|     Zuid-Holland|    593321|\n|  19|         Zaanstad|        NLD|    Noord-Holland|    135621|\n| 214|     Porto Alegre|        BRA|Rio Grande do Sul|   1314032|\n| 397| Lauro de Freitas|        BRA|            Bahia|    109236|\n| 547|           Dobric|        BGR|            Varna|    100399|\n| 552|        Bujumbura|        BDI|        Bujumbura|    300000|\n| 554|Santiago de Chile|        CHL|         Santiago|   4703954|\n| 626|         al-Minya|        EGY|         al-Minya|    201360|\n| 646|        Santa Ana|        SLV|        Santa Ana|    139389|\n| 762|        Bahir Dar|        ETH|           Amhara|     96140|\n| 796|           Baguio|        PHL|              CAR|    252386|\n| 896|         Malungon|        PHL|Southern Mindanao|     93232|\n| 904|           Banjul|        GMB|           Banjul|     42326|\n| 924|      Villa Nueva|        GTM|        Guatemala|    101295|\n| 990|             Waru|        IDN|        East Java|    124300|\n|1155|            Latur|        IND|      Maharashtra|    197408|\n|1222|           Tenali|        IND|   Andhra Pradesh|    143726|\n|1235|      Tirunelveli|        IND|       Tamil Nadu|    135825|\n|1256|          Alandur|        IND|       Tamil Nadu|    125244|\n|1279|          Neyveli|        IND|       Tamil Nadu|    118080|\n+----+-----------------+-----------+-----------------+----------+\nonly showing top 20 rows\n\n"
     ]
    }
   ],
   "source": [
    "data=[(\"6\",\"Rotterdam\",\"NLD\",\"Zuid-Holland\",\"593321\"),(\"19\",\"Zaanstad\",\"NLD\",\"Noord-Holland\",\"135621\"),(\"214\",\"Porto Alegre\",\"BRA\",\"Rio Grande do Sul\",\"1314032\"),(\"397\",\"Lauro de Freitas\",\"BRA\",\"Bahia\",\"109236\"),(\"547\",\"Dobric\",\"BGR\",\"Varna\",\"100399\"),(\"552\",\"Bujumbura\",\"BDI\",\"Bujumbura\",\"300000\"),(\"554\",\"Santiago de Chile\",\"CHL\",\"Santiago\",\"4703954\"),(\"626\",\"al-Minya\",\"EGY\",\"al-Minya\",\"201360\"),(\"646\",\"Santa Ana\",\"SLV\",\"Santa Ana\",\"139389\"),\n",
    "(\"762\",\"Bahir Dar\",\"ETH\",\"Amhara\",\"96140\"),(\"796\",\"Baguio\",\"PHL\",\"CAR\",\"252386\"),(\"896\",\"Malungon\",\"PHL\",\"Southern Mindanao\",\"93232\"),\n",
    "(\"904\",\"Banjul\",\"GMB\",\"Banjul\",\"42326\"),(\"924\",\"Villa Nueva\",\"GTM\",\"Guatemala\",\"101295\"),(\"990\",\"Waru\",\"IDN\",\"East Java\",\"124300\"),(\"1155\",\"Latur\",\"IND\",\"Maharashtra\",\"197408\"),(\"1222\",\"Tenali\",\"IND\",\"Andhra Pradesh\",\"143726\"),(\"1235\",\"Tirunelveli\",\"IND\",\"Tamil Nadu\",\"135825\"),(\"1256\",\"Alandur\",\"IND\",\"Tamil Nadu\",\"125244\"),(\"1279\",\"Neyveli\",\"IND\",\"Tamil Nadu\",\"118080\"),(\"1293\",\"Pallavaram\",\"IND\",\"Tamil Nadu\",\"111866\"),(\"1350\",\"Dehri\",\"IND\",\"Bihar\",\"94526\"),(\"1383\",\"Tabriz\",\"IRN\",\"East Azerbaidzan\",\"1191043\"),(\"1385\",\"Karaj\",\"IRN\",\"Teheran\",\"940968\"),(\"1508\",\"Bolzano\",\"ITA\",\"Trentino-Alto Adige\",\"97232\"),\n",
    "(\"1520\",\"Cesena\",\"ITA\",\"Emilia-Romagna\",\"89852\"),(\"1613\",\"Neyagawa\",\"JPN\",\"Osaka\",\"257315\"),(\"1630\",\"Ageo\",\"JPN\",\"Saitama\",\"209442\"),(\"1661\",\"Sayama\",\"JPN\",\"Saitama\",\"162472\"),(\"1681\",\"Omuta\",\"JPN\",\"Fukuoka\",\"142889\"),(\"1739\",\"Tokuyama\",\"JPN\",\"Yamaguchi\",\"107078\"),(\"1793\",\"Novi Sad\",\"YUG\",\"Vojvodina\",\"179626\"),(\"1857\",\"Kelowna\",\"CAN\",\"British Colombia\",\"89442\"),(\"1895\",\"Harbin\",\"CHN\",\"Heilongjiang\",\"4289800\"),(\"1900\",\"Changchun\",\"CHN\",\"Jilin\",\"2812000\"),(\"1913\",\"Lanzhou\",\"CHN\",\"Gansu\",\"1565800\"),(\"1947\",\"Changzhou\",\"CHN\",\"Jiangsu\",\"530000\"),(\"2070\",\"Dezhou\",\"CHN\",\"Shandong\",\"195485\"),(\"2081\",\"Heze\",\"CHN\",\"Shandong\",\"189293\"),(\"2111\",\"Chenzhou\",\"CHN\",\"Hunan\",\"169400\"),(\"2153\",\"Xianning\",\"CHN\",\"Hubei\",\"136811\"),(\"2192\",\"Lhasa\",\"CHN\",\"Tibet\",\"120000\"),(\"2193\",\"Lianyuan\",\"CHN\",\"Hunan\",\"118858\"),(\"2227\",\"Xingcheng\",\"CHN\",\"Liaoning\",\"102384\"),(\"2273\",\"Villavicencio\",\"COL\",\"Meta\",\"273140\"),(\"2384\",\"Tong-yong\",\"KOR\",\"Kyongsangnam\",\"131717\"),(\"2386\",\"Yongju\",\"KOR\",\"Kyongsangbuk\",\"131097\"),(\"2387\",\"Chinhae\",\"KOR\",\"Kyongsangnam\",\"125997\"),(\"2388\",\"Sangju\",\"KOR\",\"Kyongsangbuk\",\"124116\"),\n",
    "(\"2406\",\"Herakleion\",\"GRC\",\"Crete\",\"116178\"),(\"2440\",\"Monrovia\",\"LBR\",\"Montserrado\",\"850000\"),(\"2462\",\"Lilongwe\",\"MWI\",\"Lilongwe\",\"435964\"),(\"2505\",\"Taza\",\"MAR\",\"Taza-Al Hoceima-Taou\",\"92700\"),(\"2555\",\"Xalapa\",\"MEX\",\"Veracruz\",\"390058\"),(\"2602\",\"Ocosingo\",\"MEX\",\"Chiapas\",\"171495\"),(\"2609\",\"Nogales\",\"MEX\",\"Sonora\",\"159103\"),(\"2670\",\"San Pedro Cholula\",\"MEX\",\"Puebla\",\"99734\"),(\"2689\",\"Palikir\",\"FSM\",\"Pohnpei\",\"8600\"),(\"2706\",\"Tete\",\"MOZ\",\"Tete\",\"101984\"),\n",
    "(\"2716\",\"Sittwe (Akyab)\",\"MMR\",\"Rakhine\",\"37600\"),(\"2922\",\"Carolina\",\"PRI\",\"Carolina\",\"186076\"),(\"2967\",\"Grudziadz\",\"POL\",\"Kujawsko-Pomorskie\",\"102434\"),\n",
    "(\"2972\",\"Malabo\",\"GNQ\",\"Bioko\",\"40000\"),(\"3073\",\"Essen\",\"DEU\",\"Nordrhein-Westfalen\",\"599515\"),(\"3169\",\"Apia\",\"WSM\",\"Upolu\",\"35900\"),(\"3198\",\"Dakar\",\"SEN\",\"Cap-Vert\",\"785071\"),(\"3253\",\"Hama\",\"SYR\",\"Hama\",\"343361\"),(\"3288\",\"Luchou\",\"TWN\",\"Taipei\",\"160516\"),(\"3309\",\"Tanga\",\"TZA\",\"Tanga\",\"137400\"),(\"3353\",\"Sousse\",\"TUN\",\"Sousse\",\"145900\"),(\"3377\",\"Kahramanmaras\",\"TUR\",\"Kahramanmaras\",\"245772\"),(\"3430\",\"Odesa\",\"UKR\",\"Odesa\",\"1011000\"),(\"3581\",\"St Petersburg\",\"RUS\",\"Pietari\",\"4694000\"),(\"3770\",\"Hanoi\",\"VNM\",\"Hanoi\",\"1410000\"),(\"3815\",\"El Paso\",\"USA\",\"Texas\",\"563662\"),(\"3878\",\"Scottsdale\",\"USA\",\"Arizona\",\"202705\"),(\"3965\",\"Corona\",\"USA\",\"California\",\"124966\"),(\"3973\",\"Concord\",\"USA\",\"California\",\"121780\"),(\"3977\",\"Cedar Rapids\",\"USA\",\"Iowa\",\"120758\"),(\"3982\",\"Coral Springs\",\"USA\",\"Florida\",\"117549\"),(\"4054\",\"Fairfield\",\"USA\",\"California\",\"92256\"),(\"4058\",\"Boulder\",\"USA\",\"Colorado\",\"91238\"),(\"4061\",\"Fall River\",\"USA\",\"Massachusetts\",\"90555\")]\n",
    "schema=[\"id\",\"name\",\"countrycode\",\"district\",\"population\"]\n",
    "df=spark.createDataFrame(data,schema)\n",
    "df.show()"
   ]
  },
  {
   "cell_type": "markdown",
   "metadata": {
    "application/vnd.databricks.v1+cell": {
     "cellMetadata": {
      "byteLimit": 2048000,
      "rowLimit": 10000
     },
     "inputWidgets": {},
     "nuid": "ab2c2871-d120-4490-a8c2-bd59779009c6",
     "showTitle": false,
     "title": ""
    }
   },
   "source": [
    "<h2> Revising the Select Query I Hacker Rank </h2> \n",
    "<h3> PySpark code  all columns for all American cities in the CITY DF with populations larger than 100000. The CountryCode for America is USA. </h3>"
   ]
  },
  {
   "cell_type": "code",
   "execution_count": 0,
   "metadata": {
    "application/vnd.databricks.v1+cell": {
     "cellMetadata": {
      "byteLimit": 2048000,
      "rowLimit": 10000
     },
     "inputWidgets": {},
     "nuid": "5b7c4993-f6ce-4e67-a089-ac98776a2c9d",
     "showTitle": false,
     "title": ""
    }
   },
   "outputs": [
    {
     "output_type": "stream",
     "name": "stdout",
     "output_type": "stream",
     "text": [
      "+----+-------------+-----------+----------+----------+\n|  id|         name|countrycode|  district|population|\n+----+-------------+-----------+----------+----------+\n|3815|      El Paso|        USA|     Texas|    563662|\n|3878|   Scottsdale|        USA|   Arizona|    202705|\n|3965|       Corona|        USA|California|    124966|\n|3973|      Concord|        USA|California|    121780|\n|3977| Cedar Rapids|        USA|      Iowa|    120758|\n|3982|Coral Springs|        USA|   Florida|    117549|\n+----+-------------+-----------+----------+----------+\n\n"
     ]
    }
   ],
   "source": [
    "df.filter((F.col(\"population\")>100000) & (F.col(\"countrycode\")==\"USA\")).show()"
   ]
  },
  {
   "cell_type": "markdown",
   "metadata": {
    "application/vnd.databricks.v1+cell": {
     "cellMetadata": {
      "byteLimit": 2048000,
      "rowLimit": 10000
     },
     "inputWidgets": {},
     "nuid": "be6393b5-7487-4c6d-b43c-2954042f7851",
     "showTitle": false,
     "title": ""
    }
   },
   "source": [
    "<h4> Revising the Select Query II Hacker Rank </h4> \n",
    "<h3> PySpark code  all columns for all American cities in the CITY DF with populations larger than 120000. The CountryCode for America is USA. </h3>"
   ]
  },
  {
   "cell_type": "code",
   "execution_count": 0,
   "metadata": {
    "application/vnd.databricks.v1+cell": {
     "cellMetadata": {
      "byteLimit": 2048000,
      "rowLimit": 10000
     },
     "inputWidgets": {},
     "nuid": "6c0e6efd-e015-42f9-ad7f-128498d0d81c",
     "showTitle": false,
     "title": ""
    }
   },
   "outputs": [
    {
     "output_type": "stream",
     "name": "stdout",
     "output_type": "stream",
     "text": [
      "+----+------------+-----------+----------+----------+\n|  id|        name|countrycode|  district|population|\n+----+------------+-----------+----------+----------+\n|3815|     El Paso|        USA|     Texas|    563662|\n|3878|  Scottsdale|        USA|   Arizona|    202705|\n|3965|      Corona|        USA|California|    124966|\n|3973|     Concord|        USA|California|    121780|\n|3977|Cedar Rapids|        USA|      Iowa|    120758|\n+----+------------+-----------+----------+----------+\n\n"
     ]
    }
   ],
   "source": [
    "df.filter((F.col(\"population\")>120000) & (F.col(\"countrycode\")==\"USA\")).show()"
   ]
  },
  {
   "cell_type": "markdown",
   "metadata": {
    "application/vnd.databricks.v1+cell": {
     "cellMetadata": {
      "byteLimit": 2048000,
      "rowLimit": 10000
     },
     "inputWidgets": {},
     "nuid": "31acf318-76f0-4649-8596-597525a83463",
     "showTitle": false,
     "title": ""
    }
   },
   "source": [
    "<h4> Select All Hacker Rank </h4> \n",
    "<h3> PySpark code  all columns (attributes) for every row in the City df. </h3>"
   ]
  },
  {
   "cell_type": "code",
   "execution_count": 0,
   "metadata": {
    "application/vnd.databricks.v1+cell": {
     "cellMetadata": {
      "byteLimit": 2048000,
      "rowLimit": 10000
     },
     "inputWidgets": {},
     "nuid": "d53229c4-107f-406d-b38c-37f86827be55",
     "showTitle": false,
     "title": ""
    }
   },
   "outputs": [
    {
     "output_type": "stream",
     "name": "stdout",
     "output_type": "stream",
     "text": [
      "+----+-----------------+-----------+-----------------+----------+\n|  id|             name|countrycode|         district|population|\n+----+-----------------+-----------+-----------------+----------+\n|   6|        Rotterdam|        NLD|     Zuid-Holland|    593321|\n|  19|         Zaanstad|        NLD|    Noord-Holland|    135621|\n| 214|     Porto Alegre|        BRA|Rio Grande do Sul|   1314032|\n| 397| Lauro de Freitas|        BRA|            Bahia|    109236|\n| 547|           Dobric|        BGR|            Varna|    100399|\n| 552|        Bujumbura|        BDI|        Bujumbura|    300000|\n| 554|Santiago de Chile|        CHL|         Santiago|   4703954|\n| 626|         al-Minya|        EGY|         al-Minya|    201360|\n| 646|        Santa Ana|        SLV|        Santa Ana|    139389|\n| 762|        Bahir Dar|        ETH|           Amhara|     96140|\n| 796|           Baguio|        PHL|              CAR|    252386|\n| 896|         Malungon|        PHL|Southern Mindanao|     93232|\n| 904|           Banjul|        GMB|           Banjul|     42326|\n| 924|      Villa Nueva|        GTM|        Guatemala|    101295|\n| 990|             Waru|        IDN|        East Java|    124300|\n|1155|            Latur|        IND|      Maharashtra|    197408|\n|1222|           Tenali|        IND|   Andhra Pradesh|    143726|\n|1235|      Tirunelveli|        IND|       Tamil Nadu|    135825|\n|1256|          Alandur|        IND|       Tamil Nadu|    125244|\n|1279|          Neyveli|        IND|       Tamil Nadu|    118080|\n+----+-----------------+-----------+-----------------+----------+\nonly showing top 20 rows\n\n"
     ]
    }
   ],
   "source": [
    "df.select(\"*\").show()"
   ]
  },
  {
   "cell_type": "markdown",
   "metadata": {
    "application/vnd.databricks.v1+cell": {
     "cellMetadata": {
      "byteLimit": 2048000,
      "rowLimit": 10000
     },
     "inputWidgets": {},
     "nuid": "aaddc5ef-e6bb-48c9-8442-2bc1f12b2e34",
     "showTitle": false,
     "title": ""
    }
   },
   "source": [
    "<h4> Select By ID Hacker Rank </h4> \n",
    "<h3> PySpark code columns for a city in CITY df with the ID 1661. </h3>"
   ]
  },
  {
   "cell_type": "code",
   "execution_count": 0,
   "metadata": {
    "application/vnd.databricks.v1+cell": {
     "cellMetadata": {
      "byteLimit": 2048000,
      "rowLimit": 10000
     },
     "inputWidgets": {},
     "nuid": "5425b962-f1de-485f-979c-a80a6ceb98ed",
     "showTitle": false,
     "title": ""
    }
   },
   "outputs": [
    {
     "output_type": "stream",
     "name": "stdout",
     "output_type": "stream",
     "text": [
      "+----+------+-----------+--------+----------+\n|  id|  name|countrycode|district|population|\n+----+------+-----------+--------+----------+\n|1661|Sayama|        JPN| Saitama|    162472|\n+----+------+-----------+--------+----------+\n\n"
     ]
    }
   ],
   "source": [
    "df.filter(F.col(\"id\")==1661).show()"
   ]
  },
  {
   "cell_type": "markdown",
   "metadata": {
    "application/vnd.databricks.v1+cell": {
     "cellMetadata": {
      "byteLimit": 2048000,
      "rowLimit": 10000
     },
     "inputWidgets": {},
     "nuid": "2b661486-96db-4dee-b156-de569f74846b",
     "showTitle": false,
     "title": ""
    }
   },
   "source": [
    "<h2> Japanese Cities' Attributes Hacker Rank </h2> \n",
    "<h3> PySpark code all attributes of every Japanese city in the CITY DF. The COUNTRYCODE for Japan is JPN. </h3>"
   ]
  },
  {
   "cell_type": "code",
   "execution_count": 0,
   "metadata": {
    "application/vnd.databricks.v1+cell": {
     "cellMetadata": {
      "byteLimit": 2048000,
      "rowLimit": 10000
     },
     "inputWidgets": {},
     "nuid": "082cf8f2-5e43-48f2-9544-b3b574b9dfeb",
     "showTitle": false,
     "title": ""
    }
   },
   "outputs": [
    {
     "output_type": "stream",
     "name": "stdout",
     "output_type": "stream",
     "text": [
      "+----+--------+-----------+---------+----------+\n|  id|    name|countrycode| district|population|\n+----+--------+-----------+---------+----------+\n|1613|Neyagawa|        JPN|    Osaka|    257315|\n|1630|    Ageo|        JPN|  Saitama|    209442|\n|1661|  Sayama|        JPN|  Saitama|    162472|\n|1681|   Omuta|        JPN|  Fukuoka|    142889|\n|1739|Tokuyama|        JPN|Yamaguchi|    107078|\n+----+--------+-----------+---------+----------+\n\n"
     ]
    }
   ],
   "source": [
    "df.filter(F.col(\"countrycode\")=='JPN').show()"
   ]
  },
  {
   "cell_type": "markdown",
   "metadata": {
    "application/vnd.databricks.v1+cell": {
     "cellMetadata": {
      "byteLimit": 2048000,
      "rowLimit": 10000
     },
     "inputWidgets": {},
     "nuid": "ccc66948-4c3c-422a-ad7a-6b32c0fce5d5",
     "showTitle": false,
     "title": ""
    }
   },
   "source": [
    "<h2> Japanese Cities' Names Hacker Rank </h2> \n",
    "<h3> PySpark code names of all the Japanese cities in the CITY DF. The COUNTRYCODE for Japan is JPN. </h3>"
   ]
  },
  {
   "cell_type": "code",
   "execution_count": 0,
   "metadata": {
    "application/vnd.databricks.v1+cell": {
     "cellMetadata": {
      "byteLimit": 2048000,
      "rowLimit": 10000
     },
     "inputWidgets": {},
     "nuid": "0cb227a2-dde3-4d8e-ac5b-faee58a0da23",
     "showTitle": false,
     "title": ""
    }
   },
   "outputs": [
    {
     "output_type": "stream",
     "name": "stdout",
     "output_type": "stream",
     "text": [
      "+--------+\n|    Name|\n+--------+\n|Neyagawa|\n|    Ageo|\n|  Sayama|\n|   Omuta|\n|Tokuyama|\n+--------+\n\n"
     ]
    }
   ],
   "source": [
    "df.filter(F.col(\"countrycode\")=='JPN').select(\"Name\").show()"
   ]
  }
 ],
 "metadata": {
  "application/vnd.databricks.v1+notebook": {
   "dashboards": [],
   "language": "python",
   "notebookMetadata": {
    "mostRecentlyExecutedCommandWithImplicitDF": {
     "commandId": -1,
     "dataframes": [
      "_sqldf"
     ]
    },
    "pythonIndentUnit": 4
   },
   "notebookName": "Day 01 (PySpark)",
   "widgets": {}
  }
 },
 "nbformat": 4,
 "nbformat_minor": 0
}
