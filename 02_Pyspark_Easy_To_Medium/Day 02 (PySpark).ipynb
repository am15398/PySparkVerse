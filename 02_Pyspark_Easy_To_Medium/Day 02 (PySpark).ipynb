{
 "cells": [
  {
   "cell_type": "code",
   "execution_count": 0,
   "metadata": {
    "application/vnd.databricks.v1+cell": {
     "cellMetadata": {
      "byteLimit": 2048000,
      "rowLimit": 10000
     },
     "inputWidgets": {},
     "nuid": "8b20ca4a-57a0-4d42-a5dc-0a39656cbe05",
     "showTitle": false,
     "title": ""
    }
   },
   "outputs": [
    {
     "output_type": "stream",
     "name": "stdout",
     "output_type": "stream",
     "text": [
      "+---+--------------+-----+-----+------+\n| ID|          CITY|STATE|LAT_N|LONG_W|\n+---+--------------+-----+-----+------+\n|794|  Kissee Mills|   MO|  140|    73|\n|824|      Loma Mar|   CA|   49|   131|\n|603|    Sandy Hook|   CT|   72|   148|\n|478|        Tipton|   IN|   34|    98|\n|619|     Arlington|   CO|   75|    93|\n|711|        Turner|   AR|   50|   101|\n|839|       Slidell|   LA|   85|   152|\n|411|       Negreet|   LA|   99|   105|\n|588|       Glencoe|   KY|   46|   136|\n|665|       Chelsea|   IA|   99|    60|\n|342|Chignik Lagoon|   AK|  103|   153|\n|733|   Pelahatchie|   MS|   39|    28|\n|441|    Hanna City|   IL|   51|   137|\n|811|      Dorrance|   KS|  102|   122|\n|698|        Albany|   CA|   50|    80|\n|325|      Monument|   KS|   71|   142|\n|414|    Manchester|   MD|   74|    37|\n|113|      Prescott|   IA|   40|    66|\n|971|   Graettinger|   IA|   95|   150|\n|266|        Cahone|   CO|  116|   127|\n+---+--------------+-----+-----+------+\nonly showing top 20 rows\n\n"
     ]
    }
   ],
   "source": [
    "data=[(\"794\",\"Kissee Mills\",\"MO\",\"140\",\"73\"), (\"824\",\"Loma Mar\",\"CA\",\"49\",\"131\"), (\"603\",\"Sandy Hook\",\"CT\",\"72\",\"148\"), (\"478\",\"Tipton\",\"IN\",\"34\",\"98\"), (\"619\",\"Arlington\",\"CO\",\"75\",\"93\"), (\"711\",\"Turner\",\"AR\",\"50\",\"101\"), (\"839\",\"Slidell\",\"LA\",\"85\",\"152\"), (\"411\",\"Negreet\",\"LA\",\"99\",\"105\"), (\"588\",\"Glencoe\",\"KY\",\"46\",\"136\"), (\"665\",\"Chelsea\",\"IA\",\"99\",\"60\"), (\"342\",\"Chignik Lagoon\",\"AK\",\"103\",\"153\"), (\"733\",\"Pelahatchie\",\"MS\",\"39\",\"28\"), (\"441\",\"Hanna City\",\"IL\",\"51\",\"137\"), (\"811\",\"Dorrance\",\"KS\",\"102\",\"122\"), (\"698\",\"Albany\",\"CA\",\"50\",\"80\"), (\"325\",\"Monument\",\"KS\",\"71\",\"142\"), (\"414\",\"Manchester\",\"MD\",\"74\",\"37\"), (\"113\",\"Prescott\",\"IA\",\"40\",\"66\"), (\"971\",\"Graettinger\",\"IA\",\"95\",\"150\"), (\"266\",\"Cahone\",\"CO\",\"116\",\"127\"), (\"617\",\"Sturgis\",\"MS\",\"36\",\"126\"), (\"495\",\"Upperco\",\"MD\",\"114\",\"30\"), (\"473\",\"Highwood\",\"IL\",\"27\",\"151\"), (\"959\",\"Waipahu\",\"HI\",\"106\",\"34\"), (\"438\",\"Bowdon\",\"GA\",\"89\",\"78\"), (\"571\",\"Tyler\",\"MN\",\"133\",\"59\"), (\"92\",\"Watkins\",\"CO\",\"83\",\"97\"), (\"399\",\"Republic\",\"MI\",\"75\",\"130\"), (\"426\",\"Millville\",\"CA\",\"33\",\"146\"), (\"844\",\"Aguanga\",\"CA\",\"80\",\"66\"), (\"321\",\"Bowdon Junction\",\"GA\",\"86\",\"34\"), (\"606\",\"Morenci\",\"AZ\",\"105\",\"110\"), (\"957\",\"South El Monte\",\"CA\",\"74\",\"80\"), (\"833\",\"Hoskinston\",\"KY\",\"66\",\"66\"), (\"843\",\"Talbert\",\"KY\",\"40\",\"59\"), (\"166\",\"Mccomb\",\"MS\",\"74\",\"43\"), (\"339\",\"Kirk\",\"CO\",\"141\",\"136\"), (\"909\",\"Carlock\",\"IL\",\"117\",\"85\"), (\"829\",\"Seward\",\"IL\",\"72\",\"90\"), (\"766\",\"Gustine\",\"CA\",\"111\",\"141\"), (\"392\",\"Delano\",\"CA\",\"126\",\"92\"), (\"555\",\"Westphalia\",\"MI\",\"33\",\"144\"), (\"33\",\"Saint Elmo\",\"AL\",\"27\",\"51\"), (\"728\",\"Roy\",\"MT\",\"41\",\"52\"), (\"656\",\"Pattonsburg\",\"MO\",\"138\",\"32\"), (\"394\",\"Centertown\",\"MO\",\"134\",\"93\"), (\"366\",\"Norvell\",\"MI\",\"125\",\"94\"), (\"96\",\"Raymondville\",\"MO\",\"71\",\"148\"), (\"867\",\"Beaver Island\",\"MI\",\"82\",\"165\"), (\"977\",\"Odin\",\"IL\",\"53\",\"116\"), (\"741\",\"Jemison\",\"AL\",\"62\",\"26\"), (\"436\",\"West Hills\",\"CA\",\"68\",\"73\"), (\"323\",\"Barrigada\",\"GU\",\"61\",\"148\"), (\"3\",\"Hesperia\",\"CA\",\"106\",\"71\"), (\"814\",\"Wickliffe\",\"KY\",\"80\",\"46\"), (\"375\",\"Culdesac\",\"ID\",\"48\",\"78\"), (\"467\",\"Roselawn\",\"IN\",\"88\",\"52\"), (\"604\",\"Forest Lakes\",\"AZ\",\"145\",\"114\"), (\"551\",\"San Simeon\",\"CA\",\"38\",\"28\"), (\"706\",\"Little Rock\",\"AR\",\"122\",\"121\"), (\"647\",\"Portland\",\"AR\",\"84\",\"45\"), (\"25\",\"New Century\",\"KS\",\"135\",\"79\"), (\"250\",\"Hampden\",\"MA\",\"76\",\"26\"), (\"124\",\"Pine City\",\"MN\",\"119\",\"129\"), (\"547\",\"Sandborn\",\"IN\",\"56\",\"94\"), (\"701\",\"Seaton\",\"IL\",\"128\",\"78\"), (\"197\",\"Milledgeville\",\"IL\",\"91\",\"113\"), (\"613\",\"East China\",\"MI\",\"109\",\"42\"), (\"630\",\"Prince Frederick\",\"MD\",\"105\",\"58\"), (\"767\",\"Pomona Park\",\"FL\",\"101\",\"163\"), (\"679\",\"Gretna\",\"LA\",\"75\",\"143\"), (\"896\",\"Yazoo City\",\"MS\",\"95\",\"85\"), (\"403\",\"Zionsville\",\"IN\",\"58\",\"36\"), (\"519\",\"Rio Oso\",\"CA\",\"29\",\"106\"), (\"482\",\"Jolon\",\"CA\",\"67\",\"53\"), (\"252\",\"Childs\",\"MD\",\"93\",\"104\"), (\"600\",\"Shreveport\",\"LA\",\"136\",\"39\"), (\"14\",\"Forest\",\"MS\",\"120\",\"50\"), (\"260\",\"Sizerock\",\"KY\",\"116\",\"113\"), (\"65\",\"Buffalo Creek\",\"CO\",\"48\",\"148\"), (\"753\",\"Algonac\",\"MI\",\"119\",\"80\"), (\"174\",\"Onaway\",\"MI\",\"109\",\"56\"), (\"263\",\"Irvington\",\"IL\",\"97\",\"68\"), (\"253\",\"Winsted\",\"MN\",\"69\",\"73\"), (\"557\",\"Woodbury\",\"GA\",\"103\",\"93\"), (\"897\",\"Samantha\",\"AL\",\"75\",\"36\"), (\"98\",\"Hackleburg\",\"AL\",\"120\",\"121\"), (\"423\",\"Soldier\",\"KS\",\"77\",\"153\"), (\"361\",\"Arrowsmith\",\"IL\",\"28\",\"109\"), (\"409\",\"Columbus\",\"GA\",\"67\",\"47\"), (\"312\",\"Bentonville\",\"AR\",\"37\",\"78\"), (\"854\",\"Kirkland\",\"AZ\",\"86\",\"58\"), (\"160\",\"Grosse Pointe\",\"MI\",\"102\",\"91\"), (\"735\",\"Wilton\",\"ME\",\"57\",\"157\"), (\"608\",\"Busby\",\"MT\",\"104\",\"30\"), (\"122\",\"Robertsdale\",\"AL\",\"98\",\"85\"), (\"93\",\"Dale\",\"IN\",\"70\",\"34\"), (\"67\",\"Reeds\",\"MO\",\"31\",\"43\"), (\"906\",\"Hayfork\",\"CA\",\"35\",\"117\"), (\"34\",\"Mcbrides\",\"MI\",\"74\",\"36\"), (\"921\",\"Lee Center\",\"IL\",\"96\",\"77\"), (\"401\",\"Tennessee\",\"IL\",\"55\",\"156\"), (\"536\",\"Henderson\",\"IA\",\"78\",\"78\"), (\"953\",\"Udall\",\"KS\",\"113\",\"60\"), (\"370\",\"Palm Desert\",\"CA\",\"107\",\"146\"), (\"614\",\"Benedict\",\"KS\",\"138\",\"96\"), (\"998\",\"Oakfield\",\"ME\",\"48\",\"132\"), (\"805\",\"Tamms\",\"IL\",\"60\",\"75\"), (\"235\",\"Haubstadt\",\"IN\",\"28\",\"32\"), (\"820\",\"Chokio\",\"MN\",\"81\",\"134\"), (\"650\",\"Clancy\",\"MT\",\"46\",\"164\"), (\"791\",\"Scotts Valley\",\"CA\",\"120\",\"91\"), (\"324\",\"Norwood\",\"MN\",\"144\",\"35\"), (\"442\",\"Elkton\",\"MD\",\"103\",\"157\"), (\"633\",\"Bertha\",\"MN\",\"40\",\"105\"), (\"109\",\"Bridgeport\",\"MI\",\"51\",\"80\"), (\"780\",\"Cherry\",\"IL\",\"68\",\"47\"), (\"492\",\"Regina\",\"KY\",\"132\",\"90\"), (\"965\",\"Griffin\",\"GA\",\"39\",\"152\"), (\"778\",\"Pine Bluff\",\"AR\",\"60\",\"146\"), (\"337\",\"Mascotte\",\"FL\",\"121\",\"146\"), (\"259\",\"Baldwin\",\"MD\",\"82\",\"40\"), (\"955\",\"Netawaka\",\"KS\",\"109\",\"120\"), (\"752\",\"East Irvine\",\"CA\",\"106\",\"115\"), (\"886\",\"Pony\",\"MT\",\"99\",\"163\"), (\"200\",\"Franklin\",\"LA\",\"82\",\"32\"), (\"384\",\"Amo\",\"IN\",\"104\",\"159\"), (\"518\",\"Vulcan\",\"MO\",\"109\",\"92\"), (\"188\",\"Prairie Du Rocher\",\"IL\",\"76\",\"71\"), (\"161\",\"Alanson\",\"MI\",\"91\",\"72\"), (\"486\",\"Delta\",\"LA\",\"137\",\"50\"), (\"406\",\"Carver\",\"MN\",\"46\",\"122\"), (\"940\",\"Paron\",\"AR\",\"59\",\"104\"), (\"237\",\"Winchester\",\"ID\",\"38\",\"80\"), (\"465\",\"Jerome\",\"AZ\",\"122\",\"34\"), (\"591\",\"Baton Rouge\",\"LA\",\"130\",\"72\"), (\"570\",\"Greenview\",\"CA\",\"81\",\"58\"), (\"429\",\"Lucerne Valley\",\"CA\",\"36\",\"48\"), (\"278\",\"Cromwell\",\"MN\",\"129\",\"54\"), (\"927\",\"Quinter\",\"KS\",\"60\",\"25\"), (\"59\",\"Whitewater\",\"MO\",\"83\",\"71\"), (\"218\",\"Round Pond\",\"ME\",\"127\",\"124\"), (\"291\",\"Clarkdale\",\"AZ\",\"58\",\"74\"), (\"668\",\"Rockton\",\"IL\",\"116\",\"87\"), (\"682\",\"Pheba\",\"MS\",\"91\",\"127\"), (\"775\",\"Eleele\",\"HI\",\"81\",\"153\"), (\"527\",\"Auburn\",\"IA\",\"95\",\"137\"), (\"108\",\"North Berwick\",\"ME\",\"71\",\"27\"), (\"190\",\"Oconee\",\"GA\",\"93\",\"119\"), (\"232\",\"Grandville\",\"MI\",\"39\",\"70\"), (\"405\",\"Susanville\",\"CA\",\"128\",\"80\"), (\"273\",\"Rosie\",\"AR\",\"73\",\"162\"), (\"813\",\"Verona\",\"MO\",\"110\",\"153\"), (\"444\",\"Richland\",\"GA\",\"105\",\"113\"), (\"899\",\"Fremont\",\"MI\",\"54\",\"151\"), (\"738\",\"Philipsburg\",\"MT\",\"96\",\"72\"), (\"215\",\"Kensett\",\"IA\",\"56\",\"140\"), (\"743\",\"De Tour Village\",\"MI\",\"25\",\"25\"), (\"377\",\"Koleen\",\"IN\",\"138\",\"111\"), (\"727\",\"Winslow\",\"IL\",\"113\",\"39\"), (\"363\",\"Reasnor\",\"IA\",\"42\",\"163\"), (\"117\",\"West Grove\",\"IA\",\"127\",\"99\"), (\"420\",\"Frankfort Heights\",\"IL\",\"72\",\"30\"), (\"888\",\"Bono\",\"AR\",\"133\",\"150\"), (\"784\",\"Biggsville\",\"IL\",\"86\",\"139\"), (\"413\",\"Linthicum Heights\",\"MD\",\"128\",\"68\"), (\"695\",\"Amazonia\",\"MO\",\"46\",\"148\"), (\"609\",\"Marysville\",\"MI\",\"86\",\"133\"), (\"471\",\"Cape Girardeau\",\"MO\",\"74\",\"91\"), (\"649\",\"Pengilly\",\"MN\",\"25\",\"154\"), (\"946\",\"Newton Center\",\"MA\",\"48\",\"145\"), (\"380\",\"Crane Lake\",\"MN\",\"73\",\"43\"), (\"383\",\"Newbury\",\"MA\",\"128\",\"85\"), (\"44\",\"Kismet\",\"KS\",\"100\",\"157\"), (\"433\",\"Canton\",\"ME\",\"99\",\"106\"), (\"283\",\"Clipper Mills\",\"CA\",\"114\",\"57\"), (\"474\",\"Grayslake\",\"IL\",\"61\",\"33\"), (\"233\",\"Pierre Part\",\"LA\",\"52\",\"90\"), (\"990\",\"Bison\",\"KS\",\"132\",\"75\"), (\"502\",\"Bellevue\",\"KY\",\"127\",\"122\"), (\"327\",\"Ridgway\",\"CO\",\"77\",\"110\"), (\"4\",\"South Britain\",\"CT\",\"66\",\"34\"), (\"228\",\"Rydal\",\"GA\",\"36\",\"79\"), (\"642\",\"Lynnville\",\"KY\",\"25\",\"146\"), (\"885\",\"Deerfield\",\"MO\",\"40\",\"36\"), (\"539\",\"Montreal\",\"MO\",\"129\",\"127\"), (\"202\",\"Hope\",\"MN\",\"140\",\"44\"), (\"593\",\"Aliso Viejo\",\"CA\",\"68\",\"131\"), (\"521\",\"Gowrie\",\"IA\",\"130\",\"128\"), (\"938\",\"Andersonville\",\"GA\",\"141\",\"73\"), (\"919\",\"Knob Lick\",\"KY\",\"136\",\"33\"), (\"528\",\"Crouseville\",\"ME\",\"37\",\"82\"), (\"331\",\"Cranks\",\"KY\",\"56\",\"27\"), (\"45\",\"Rives Junction\",\"MI\",\"94\",\"117\"), (\"944\",\"Ledyard\",\"CT\",\"135\",\"144\"), (\"949\",\"Norway\",\"ME\",\"84\",\"88\"), (\"88\",\"Eros\",\"LA\",\"95\",\"58\"), (\"878\",\"Rantoul\",\"KS\",\"32\",\"119\"), (\"35\",\"Richmond Hill\",\"GA\",\"39\",\"114\"), (\"17\",\"Fredericktown\",\"MO\",\"106\",\"113\"), (\"447\",\"Arkadelphia\",\"AR\",\"99\",\"50\"), (\"498\",\"Glen Carbon\",\"IL\",\"61\",\"141\"), (\"351\",\"Fredericksburg\",\"IN\",\"45\",\"78\"), (\"774\",\"Manchester\",\"IA\",\"130\",\"123\"), (\"116\",\"Mc Henry\",\"MD\",\"93\",\"113\"), (\"963\",\"Eriline\",\"KY\",\"94\",\"65\"), (\"643\",\"Wellington\",\"KY\",\"100\",\"32\"), (\"781\",\"Hoffman Estates\",\"IL\",\"129\",\"53\"), (\"364\",\"Howard Lake\",\"MN\",\"126\",\"78\"), (\"777\",\"Edgewater\",\"MD\",\"130\",\"72\"), (\"15\",\"Ducor\",\"CA\",\"141\",\"102\"), (\"910\",\"Salem\",\"KY\",\"87\",\"114\"), (\"612\",\"Sturdivant\",\"MO\",\"94\",\"86\"), (\"537\",\"Hagatna\",\"GU\",\"97\",\"152\"), (\"970\",\"East Haddam\",\"CT\",\"116\",\"132\"), (\"510\",\"Eastlake\",\"MI\",\"134\",\"39\"), (\"354\",\"Larkspur\",\"CA\",\"107\",\"66\"), (\"983\",\"Patriot\",\"IN\",\"83\",\"46\"), (\"799\",\"Corriganville\",\"MD\",\"141\",\"154\"), (\"581\",\"Carlos\",\"MN\",\"115\",\"66\"), (\"825\",\"Addison\",\"MI\",\"96\",\"142\"), (\"526\",\"Tarzana\",\"CA\",\"136\",\"81\"), (\"176\",\"Grapevine\",\"AR\",\"92\",\"85\"), (\"994\",\"Kanorado\",\"KS\",\"65\",\"86\"), (\"704\",\"Climax\",\"MI\",\"127\",\"107\"), (\"582\",\"Curdsville\",\"KY\",\"85\",\"150\"), (\"884\",\"Southport\",\"CT\",\"59\",\"63\"), (\"196\",\"Compton\",\"IL\",\"107\",\"99\"), (\"605\",\"Notasulga\",\"AL\",\"67\",\"116\"), (\"430\",\"Rumsey\",\"KY\",\"71\",\"50\"), (\"234\",\"Rogers\",\"CT\",\"140\",\"33\"), (\"700\",\"Pleasant Grove\",\"AR\",\"135\",\"146\"), (\"702\",\"Everton\",\"MO\",\"119\",\"51\"), (\"662\",\"Skanee\",\"MI\",\"70\",\"130\"), (\"171\",\"Springerville\",\"AZ\",\"125\",\"151\"), (\"615\",\"Libertytown\",\"MD\",\"145\",\"112\"), (\"26\",\"Church Creek\",\"MD\",\"39\",\"91\"), (\"692\",\"Yellow Pine\",\"ID\",\"83\",\"151\"), (\"336\",\"Dumont\",\"MN\",\"57\",\"129\"), (\"464\",\"Gales Ferry\",\"CT\",\"105\",\"37\"), (\"315\",\"Ravenna\",\"KY\",\"79\",\"106\"), (\"505\",\"Williams\",\"AZ\",\"73\",\"112\"), (\"842\",\"Decatur\",\"MI\",\"63\",\"161\"), (\"982\",\"Holbrook\",\"AZ\",\"135\",\"104\"), (\"868\",\"Sherrill\",\"AR\",\"80\",\"152\"), (\"554\",\"Brownsdale\",\"MN\",\"52\",\"51\"), (\"199\",\"Linden\",\"MI\",\"53\",\"33\"), (\"453\",\"Sedgwick\",\"AR\",\"69\",\"75\"), (\"451\",\"Fort Atkinson\",\"IA\",\"143\",\"141\"), (\"950\",\"Peachtree City\",\"GA\",\"80\",\"156\"), (\"326\",\"Rocheport\",\"MO\",\"114\",\"64\"), (\"189\",\"West Somerset\",\"KY\",\"74\",\"45\"), (\"638\",\"Clovis\",\"CA\",\"92\",\"138\"), (\"156\",\"Heyburn\",\"ID\",\"82\",\"121\"), (\"861\",\"Peabody\",\"KS\",\"75\",\"152\"), (\"722\",\"Marion Junction\",\"AL\",\"53\",\"31\"), (\"428\",\"Randall\",\"KS\",\"48\",\"136\"), (\"677\",\"Hayesville\",\"IA\",\"120\",\"42\"), (\"183\",\"Jordan\",\"MN\",\"69\",\"35\"), (\"322\",\"White Horse Beach\",\"MA\",\"54\",\"59\"), (\"827\",\"Greenville\",\"IL\",\"51\",\"153\"), (\"242\",\"Macy\",\"IN\",\"139\",\"152\"), (\"621\",\"Flowood\",\"MS\",\"65\",\"149\"), (\"960\",\"Deep River\",\"IA\",\"75\",\"39\"), (\"180\",\"Napoleon\",\"IN\",\"32\",\"160\"), (\"382\",\"Leavenworth\",\"IN\",\"100\",\"122\"), (\"853\",\"Coldwater\",\"KS\",\"48\",\"26\"), (\"105\",\"Weldon\",\"CA\",\"134\",\"119\"), (\"357\",\"Yellville\",\"AR\",\"36\",\"42\"), (\"710\",\"Turners Falls\",\"MA\",\"31\",\"125\"), (\"520\",\"Delray Beach\",\"FL\",\"27\",\"159\"), (\"920\",\"Eustis\",\"FL\",\"43\",\"39\"), (\"684\",\"Mineral Point\",\"MO\",\"91\",\"41\"), (\"355\",\"Weldona\",\"CO\",\"33\",\"58\"), (\"389\",\"Midpines\",\"CA\",\"106\",\"59\"), (\"303\",\"Cascade\",\"ID\",\"32\",\"157\"), (\"501\",\"Tefft\",\"IN\",\"93\",\"150\"), (\"673\",\"Showell\",\"MD\",\"44\",\"164\"), (\"834\",\"Bayville\",\"ME\",\"107\",\"143\"), (\"255\",\"Brighton\",\"IL\",\"108\",\"33\"), (\"595\",\"Grimes\",\"IA\",\"42\",\"75\"), (\"709\",\"Nubieber\",\"CA\",\"133\",\"49\"), (\"100\",\"North Monmouth\",\"ME\",\"131\",\"78\"), (\"522\",\"Harmony\",\"MN\",\"124\",\"126\"), (\"16\",\"Beaufort\",\"MO\",\"72\",\"86\"), (\"231\",\"Arispe\",\"IA\",\"31\",\"138\"), (\"923\",\"Union Star\",\"MO\",\"79\",\"133\"), (\"891\",\"Humeston\",\"IA\",\"75\",\"122\"), (\"165\",\"Baileyville\",\"IL\",\"82\",\"61\"), (\"757\",\"Lakeville\",\"CT\",\"60\",\"95\"), (\"506\",\"Firebrick\",\"KY\",\"50\",\"95\"), (\"76\",\"Pico Rivera\",\"CA\",\"143\",\"117\"), (\"246\",\"Ludington\",\"MI\",\"30\",\"120\"), (\"583\",\"Channing\",\"MI\",\"117\",\"57\"), (\"666\",\"West Baden Springs\",\"IN\",\"30\",\"96\"), (\"373\",\"Pawnee\",\"IL\",\"85\",\"81\"), (\"504\",\"Melber\",\"KY\",\"37\",\"56\"), (\"901\",\"Manchester\",\"MN\",\"71\",\"84\"), (\"306\",\"Bainbridge\",\"GA\",\"62\",\"57\"), (\"821\",\"Sanders\",\"AZ\",\"131\",\"97\"), (\"586\",\"Ottertail\",\"MN\",\"100\",\"44\"), (\"95\",\"Dupo\",\"IL\",\"41\",\"29\"), (\"524\",\"Montrose\",\"CA\",\"136\",\"119\"), (\"716\",\"Schleswig\",\"IA\",\"119\",\"52\"), (\"849\",\"Harbor Springs\",\"MI\",\"141\",\"149\"), (\"611\",\"Richmond\",\"IL\",\"113\",\"163\"), (\"904\",\"Ermine\",\"KY\",\"120\",\"63\"), (\"740\",\"Siler\",\"KY\",\"137\",\"117\"), (\"439\",\"Reeves\",\"LA\",\"35\",\"51\"), (\"57\",\"Clifton\",\"AZ\",\"30\",\"136\"), (\"155\",\"Casco\",\"MI\",\"139\",\"109\"), (\"755\",\"Sturgis\",\"MI\",\"117\",\"135\"), (\"11\",\"Crescent City\",\"FL\",\"58\",\"118\"), (\"287\",\"Madisonville\",\"LA\",\"112\",\"53\"), (\"435\",\"Albion\",\"IN\",\"44\",\"122\"), (\"672\",\"Lismore\",\"MN\",\"59\",\"104\"), (\"572\",\"Athens\",\"IN\",\"75\",\"121\"), (\"890\",\"Eufaula\",\"AL\",\"140\",\"103\"), (\"975\",\"Panther Burn\",\"MS\",\"117\",\"165\"), (\"914\",\"Hanscom Afb\",\"MA\",\"129\",\"136\"), (\"119\",\"Wildie\",\"KY\",\"70\",\"112\"), (\"540\",\"Mosca\",\"CO\",\"89\",\"141\"), (\"678\",\"Bennington\",\"IN\",\"36\",\"27\"), (\"208\",\"Lottie\",\"LA\",\"110\",\"83\"), (\"512\",\"Garland\",\"ME\",\"109\",\"134\"), (\"352\",\"Clutier\",\"IA\",\"61\",\"127\"), (\"948\",\"Lupton\",\"MI\",\"140\",\"53\"), (\"503\",\"Northfield\",\"MN\",\"61\",\"37\"), (\"288\",\"Daleville\",\"AL\",\"122\",\"136\"), (\"560\",\"Osage City\",\"KS\",\"110\",\"90\"), (\"479\",\"Cuba\",\"MO\",\"64\",\"88\"), (\"826\",\"Norris\",\"MT\",\"47\",\"37\"), (\"651\",\"Clopton\",\"AL\",\"41\",\"85\"), (\"143\",\"Renville\",\"MN\",\"142\",\"99\"), (\"240\",\"Saint Paul\",\"KS\",\"66\",\"163\"), (\"102\",\"Kirksville\",\"MO\",\"140\",\"144\"), (\"69\",\"Kingsland\",\"AR\",\"78\",\"85\"), (\"181\",\"Fairview\",\"KS\",\"80\",\"165\"), (\"175\",\"Lydia\",\"LA\",\"42\",\"40\"), (\"80\",\"Bridgton\",\"ME\",\"93\",\"140\"), (\"596\",\"Brownstown\",\"IL\",\"49\",\"63\"), (\"301\",\"Monona\",\"IA\",\"144\",\"82\"), (\"987\",\"Hartland\",\"MI\",\"136\",\"108\"), (\"973\",\"Andover\",\"CT\",\"52\",\"53\"), (\"981\",\"Lakota\",\"IA\",\"56\",\"92\"), (\"440\",\"Grand Terrace\",\"CA\",\"37\",\"127\"), (\"110\",\"Mesick\",\"MI\",\"82\",\"109\"), (\"396\",\"Dryden\",\"MI\",\"70\",\"48\"), (\"637\",\"Beverly\",\"KY\",\"58\",\"127\"), (\"566\",\"Marine On Saint Croix\",\"MN\",\"126\",\"116\"), (\"801\",\"Pocahontas\",\"IL\",\"110\",\"83\"), (\"739\",\"Fort Meade\",\"FL\",\"44\",\"35\"), (\"130\",\"Hayneville\",\"AL\",\"110\",\"157\"), (\"345\",\"Yoder\",\"IN\",\"83\",\"144\"), (\"851\",\"Gatewood\",\"MO\",\"76\",\"146\"), (\"489\",\"Madden\",\"MS\",\"81\",\"99\"), (\"223\",\"Losantville\",\"IN\",\"113\",\"107\"), (\"538\",\"Cheswold\",\"DE\",\"32\",\"59\"), (\"329\",\"Caseville\",\"MI\",\"103\",\"98\"), (\"815\",\"Pomona\",\"MO\",\"52\",\"50\"), (\"789\",\"Hopkinsville\",\"KY\",\"27\",\"48\"), (\"269\",\"Jack\",\"AL\",\"50\",\"86\"), (\"969\",\"Dixie\",\"GA\",\"27\",\"36\"), (\"271\",\"Hillside\",\"CO\",\"99\",\"69\"), (\"667\",\"Hawarden\",\"IA\",\"91\",\"47\"), (\"350\",\"Cannonsburg\",\"MI\",\"91\",\"121\"), (\"49\",\"Osborne\",\"KS\",\"70\",\"140\"), (\"332\",\"Elm Grove\",\"LA\",\"46\",\"29\"), (\"172\",\"Atlantic Mine\",\"MI\",\"131\",\"99\"), (\"699\",\"North Branford\",\"CT\",\"38\",\"95\"), (\"417\",\"New Liberty\",\"IA\",\"140\",\"95\"), (\"99\",\"Woodstock Valley\",\"CT\",\"117\",\"163\"), (\"404\",\"Farmington\",\"IL\",\"92\",\"72\"), (\"23\",\"Honolulu\",\"HI\",\"110\",\"140\"), (\"1\",\"Pfeifer\",\"KS\",\"37\",\"66\"), (\"127\",\"Oshtemo\",\"MI\",\"100\",\"136\"), (\"657\",\"Gridley\",\"KS\",\"118\",\"56\"), (\"261\",\"Fulton\",\"KY\",\"111\",\"52\"), (\"182\",\"Winter Park\",\"FL\",\"133\",\"33\"), (\"328\",\"Monroe\",\"LA\",\"28\",\"108\"), (\"779\",\"Del Mar\",\"CA\",\"59\",\"96\"), (\"646\",\"Greens Fork\",\"IN\",\"134\",\"135\"), (\"756\",\"Garden City\",\"AL\",\"96\",\"105\"), (\"157\",\"Blue River\",\"KY\",\"117\",\"162\"), (\"400\",\"New Ross\",\"IN\",\"134\",\"121\"), (\"61\",\"Brilliant\",\"AL\",\"86\",\"160\"), (\"610\",\"Archie\",\"MO\",\"40\",\"28\"), (\"985\",\"Winslow\",\"AR\",\"126\",\"126\"), (\"207\",\"Olmitz\",\"KS\",\"29\",\"38\"), (\"941\",\"Allerton\",\"IA\",\"62\",\"113\"), (\"70\",\"Norphlet\",\"AR\",\"144\",\"61\"), (\"343\",\"Mechanic Falls\",\"ME\",\"72\",\"71\"), (\"531\",\"North Middletown\",\"KY\",\"43\",\"142\"), (\"996\",\"Keyes\",\"CA\",\"77\",\"86\"), (\"167\",\"Equality\",\"AL\",\"107\",\"116\"), (\"750\",\"Neon\",\"KY\",\"102\",\"148\"), (\"410\",\"Calhoun\",\"KY\",\"96\",\"57\"), (\"725\",\"Alpine\",\"AR\",\"117\",\"115\"), (\"988\",\"Mullan\",\"ID\",\"143\",\"155\"), (\"55\",\"Coalgood\",\"KY\",\"57\",\"149\"), (\"640\",\"Walnut\",\"MS\",\"41\",\"77\"), (\"302\",\"Saint Petersburg\",\"FL\",\"52\",\"120\"), (\"387\",\"Ojai\",\"CA\",\"69\",\"119\"), (\"476\",\"Julian\",\"CA\",\"131\",\"102\"), (\"907\",\"Veedersburg\",\"IN\",\"79\",\"95\"), (\"294\",\"Orange Park\",\"FL\",\"59\",\"137\"), (\"661\",\"Payson\",\"AZ\",\"126\",\"154\"), (\"745\",\"Windom\",\"KS\",\"114\",\"126\"), (\"631\",\"Urbana\",\"IA\",\"143\",\"29\"), (\"356\",\"Ludlow\",\"CA\",\"111\",\"88\"), (\"419\",\"Lindsay\",\"MT\",\"143\",\"68\"), (\"494\",\"Palatka\",\"FL\",\"95\",\"52\"), (\"625\",\"Bristol\",\"ME\",\"88\",\"95\"), (\"459\",\"Harmony\",\"IN\",\"135\",\"71\"), (\"636\",\"Ukiah\",\"CA\",\"87\",\"90\"), (\"106\",\"Yuma\",\"AZ\",\"111\",\"154\"), (\"204\",\"Alba\",\"MI\",\"92\",\"104\"), (\"344\",\"Zachary\",\"LA\",\"61\",\"152\"), (\"599\",\"Esmond\",\"IL\",\"76\",\"91\"), (\"515\",\"Waresboro\",\"GA\",\"144\",\"154\"), (\"497\",\"Hills\",\"MN\",\"138\",\"135\"), (\"162\",\"Montgomery City\",\"MO\",\"70\",\"45\"), (\"499\",\"Delavan\",\"MN\",\"33\",\"65\"), (\"362\",\"Magnolia\",\"MS\",\"113\",\"32\"), (\"545\",\"Byron\",\"CA\",\"137\",\"120\"), (\"712\",\"Dundee\",\"IA\",\"62\",\"105\"), (\"257\",\"Eureka Springs\",\"AR\",\"72\",\"35\"), (\"154\",\"Baker\",\"CA\",\"31\",\"148\"), (\"715\",\"Hyde Park\",\"MA\",\"65\",\"156\"), (\"493\",\"Groveoak\",\"AL\",\"53\",\"88\"), (\"836\",\"Kenner\",\"LA\",\"92\",\"127\"), (\"82\",\"Many\",\"LA\",\"36\",\"95\"), (\"644\",\"Seward\",\"AK\",\"120\",\"36\"), (\"391\",\"Berryton\",\"KS\",\"61\",\"140\"), (\"696\",\"Chilhowee\",\"MO\",\"80\",\"49\"), (\"905\",\"Newark\",\"IL\",\"73\",\"130\"), (\"81\",\"Cowgill\",\"MO\",\"137\",\"28\"), (\"31\",\"Novinger\",\"MO\",\"108\",\"112\"), (\"299\",\"Goodman\",\"MS\",\"101\",\"117\"), (\"84\",\"Cobalt\",\"CT\",\"87\",\"27\"), (\"754\",\"South Haven\",\"MI\",\"145\",\"53\"), (\"144\",\"Eskridge\",\"KS\",\"108\",\"63\"), (\"305\",\"Bennington\",\"KS\",\"94\",\"83\"), (\"226\",\"Decatur\",\"MS\",\"71\",\"118\"), (\"224\",\"West Hyannisport\",\"MA\",\"59\",\"96\"), (\"694\",\"Ozona\",\"FL\",\"145\",\"121\"), (\"623\",\"Jackson\",\"AL\",\"111\",\"67\"), (\"543\",\"Lapeer\",\"MI\",\"129\",\"114\"), (\"819\",\"Peaks Island\",\"ME\",\"59\",\"111\"), (\"243\",\"Hazlehurst\",\"MS\",\"49\",\"109\"), (\"457\",\"Chester\",\"CA\",\"70\",\"124\"), (\"871\",\"Clarkston\",\"MI\",\"94\",\"81\"), (\"470\",\"Healdsburg\",\"CA\",\"111\",\"54\"), (\"705\",\"Hotchkiss\",\"CO\",\"70\",\"72\"), (\"690\",\"Ravenden Springs\",\"AR\",\"68\",\"108\"), (\"62\",\"Monroe\",\"AR\",\"132\",\"150\"), (\"365\",\"Payson\",\"IL\",\"82\",\"92\"), (\"922\",\"Kell\",\"IL\",\"70\",\"59\"), (\"838\",\"Strasburg\",\"CO\",\"89\",\"48\"), (\"286\",\"Five Points\",\"AL\",\"46\",\"122\"), (\"968\",\"Norris City\",\"IL\",\"54\",\"76\"), (\"928\",\"Coaling\",\"AL\",\"144\",\"52\"), (\"746\",\"Orange City\",\"IA\",\"94\",\"163\"), (\"892\",\"Effingham\",\"KS\",\"133\",\"98\"), (\"193\",\"Corcoran\",\"CA\",\"81\",\"140\"), (\"225\",\"Garden City\",\"IA\",\"54\",\"120\"), (\"573\",\"Alton\",\"MO\",\"80\",\"112\"), (\"830\",\"Greenway\",\"AR\",\"119\",\"36\"), (\"241\",\"Woodsboro\",\"MD\",\"77\",\"142\"), (\"783\",\"Strawn\",\"IL\",\"30\",\"51\"), (\"675\",\"Dent\",\"MN\",\"71\",\"137\"), (\"270\",\"Shingletown\",\"CA\",\"61\",\"102\"), (\"378\",\"Clio\",\"IA\",\"46\",\"115\"), (\"104\",\"Yalaha\",\"FL\",\"120\",\"120\"), (\"460\",\"Leakesville\",\"MS\",\"107\",\"73\"), (\"804\",\"Fort Lupton\",\"CO\",\"39\",\"93\"), (\"53\",\"Shasta\",\"CA\",\"99\",\"156\"), (\"448\",\"Canton\",\"MN\",\"124\",\"151\"), (\"751\",\"Agency\",\"MO\",\"59\",\"96\"), (\"29\",\"South Carrollton\",\"KY\",\"58\",\"117\"), (\"718\",\"Taft\",\"CA\",\"108\",\"147\"), (\"213\",\"Calpine\",\"CA\",\"47\",\"43\"), (\"624\",\"Knobel\",\"AR\",\"95\",\"62\"), (\"908\",\"Bullhead City\",\"AZ\",\"95\",\"30\"), (\"845\",\"Tina\",\"MO\",\"132\",\"28\"), (\"685\",\"Anthony\",\"KS\",\"45\",\"161\"), (\"731\",\"Emmett\",\"ID\",\"57\",\"32\"), (\"311\",\"South Haven\",\"MN\",\"30\",\"87\"), (\"866\",\"Haverhill\",\"IA\",\"62\",\"109\"), (\"598\",\"Middleboro\",\"MA\",\"108\",\"149\"), (\"541\",\"Siloam\",\"GA\",\"105\",\"92\"), (\"889\",\"Lena\",\"LA\",\"78\",\"130\"), (\"654\",\"Lee\",\"IL\",\"28\",\"51\"), (\"841\",\"Freeport\",\"MI\",\"114\",\"51\"), (\"446\",\"Mid Florida\",\"FL\",\"110\",\"51\"), (\"249\",\"Acme\",\"LA\",\"73\",\"68\"), (\"376\",\"Gorham\",\"KS\",\"111\",\"65\"), (\"136\",\"Bass Harbor\",\"ME\",\"138\",\"61\"), (\"455\",\"Granger\",\"IA\",\"33\",\"102\")]\n",
    "schema =[\"ID\",\"CITY\",\"STATE\",\"LAT_N\",\"LONG_W\"]\n",
    "df=spark.createDataFrame(data,schema)\n",
    "df.show()"
   ]
  },
  {
   "cell_type": "code",
   "execution_count": 0,
   "metadata": {
    "application/vnd.databricks.v1+cell": {
     "cellMetadata": {
      "byteLimit": 2048000,
      "rowLimit": 10000
     },
     "inputWidgets": {},
     "nuid": "c2c04bfc-81e8-4d58-91a9-198449884044",
     "showTitle": false,
     "title": ""
    }
   },
   "outputs": [],
   "source": [
    "from pyspark.sql import functions as F\n"
   ]
  },
  {
   "cell_type": "markdown",
   "metadata": {
    "application/vnd.databricks.v1+cell": {
     "cellMetadata": {
      "byteLimit": 2048000,
      "rowLimit": 10000
     },
     "inputWidgets": {},
     "nuid": "531b385d-42fb-46f8-9553-b8f064660ab0",
     "showTitle": false,
     "title": ""
    }
   },
   "source": [
    "<h2> Weather Observation Station 1 Hacker Rank </h2>\n",
    "<h3> Pyspark code to list of CITY and STATE from the STATION DF </h3>"
   ]
  },
  {
   "cell_type": "code",
   "execution_count": 0,
   "metadata": {
    "application/vnd.databricks.v1+cell": {
     "cellMetadata": {
      "byteLimit": 2048000,
      "rowLimit": 10000
     },
     "inputWidgets": {},
     "nuid": "e55b78a9-9453-4ed5-b945-825304558d60",
     "showTitle": false,
     "title": ""
    }
   },
   "outputs": [
    {
     "output_type": "stream",
     "name": "stdout",
     "output_type": "stream",
     "text": [
      "+--------------+-----+\n|          city|state|\n+--------------+-----+\n|  Kissee Mills|   MO|\n|      Loma Mar|   CA|\n|    Sandy Hook|   CT|\n|        Tipton|   IN|\n|     Arlington|   CO|\n|        Turner|   AR|\n|       Slidell|   LA|\n|       Negreet|   LA|\n|       Glencoe|   KY|\n|       Chelsea|   IA|\n|Chignik Lagoon|   AK|\n|   Pelahatchie|   MS|\n|    Hanna City|   IL|\n|      Dorrance|   KS|\n|        Albany|   CA|\n|      Monument|   KS|\n|    Manchester|   MD|\n|      Prescott|   IA|\n|   Graettinger|   IA|\n|        Cahone|   CO|\n+--------------+-----+\nonly showing top 20 rows\n\n"
     ]
    }
   ],
   "source": [
    "df.select(\"city\",\"state\").show()"
   ]
  },
  {
   "cell_type": "markdown",
   "metadata": {
    "application/vnd.databricks.v1+cell": {
     "cellMetadata": {
      "byteLimit": 2048000,
      "rowLimit": 10000
     },
     "inputWidgets": {},
     "nuid": "6b7a4041-c536-4380-b82d-a9a189687e7d",
     "showTitle": false,
     "title": ""
    }
   },
   "source": [
    "<h2> Weather Observation Station 3 Hacker Rank </h2>\n",
    "<h3> Pyspark code to CITY names from STATION DF for cities that have an even ID number </h3>"
   ]
  },
  {
   "cell_type": "code",
   "execution_count": 0,
   "metadata": {
    "application/vnd.databricks.v1+cell": {
     "cellMetadata": {
      "byteLimit": 2048000,
      "rowLimit": 10000
     },
     "inputWidgets": {},
     "nuid": "164151e4-03a9-4b64-909d-ad611ada09d7",
     "showTitle": false,
     "title": ""
    }
   },
   "outputs": [
    {
     "output_type": "stream",
     "name": "stdout",
     "output_type": "stream",
     "text": [
      "+--------------+\n|          city|\n+--------------+\n|       Norvell|\n|       Watkins|\n|    Manchester|\n|        Tipton|\n|       Morenci|\n|        Mccomb|\n|           Roy|\n|       Gustine|\n|      Loma Mar|\n|        Albany|\n|        Bowdon|\n|       Aguanga|\n|        Delano|\n|        Cahone|\n|       Glencoe|\n|  Kissee Mills|\n|   Pattonsburg|\n|  Raymondville|\n|    Centertown|\n|Chignik Lagoon|\n+--------------+\nonly showing top 20 rows\n\n"
     ]
    }
   ],
   "source": [
    "df.filter(F.col(\"id\")%2==0).select(\"city\").distinct().show()"
   ]
  },
  {
   "cell_type": "markdown",
   "metadata": {
    "application/vnd.databricks.v1+cell": {
     "cellMetadata": {
      "byteLimit": 2048000,
      "rowLimit": 10000
     },
     "inputWidgets": {},
     "nuid": "3b334468-6ca0-496b-9b9f-683b63c23e51",
     "showTitle": false,
     "title": ""
    }
   },
   "source": [
    "<h2> Weather Observation Station 4 Hacker Rank </h2>\n",
    "<h3> Pyspark code to Find the difference between the total number of CITY entries in the df and the number of distinct CITY entries in DF </h3>"
   ]
  },
  {
   "cell_type": "code",
   "execution_count": 0,
   "metadata": {
    "application/vnd.databricks.v1+cell": {
     "cellMetadata": {
      "byteLimit": 2048000,
      "rowLimit": 10000
     },
     "inputWidgets": {},
     "nuid": "bc6c9075-df51-4bbe-a31d-7c067c27dc30",
     "showTitle": false,
     "title": ""
    }
   },
   "outputs": [
    {
     "output_type": "stream",
     "name": "stdout",
     "output_type": "stream",
     "text": [
      "+-------------+\n|City_cnt_diff|\n+-------------+\n|           13|\n+-------------+\n\n"
     ]
    }
   ],
   "source": [
    "df.select((F.count(\"city\")-F.countDistinct(\"city\")).alias(\"City_cnt_diff\")).show()"
   ]
  },
  {
   "cell_type": "markdown",
   "metadata": {
    "application/vnd.databricks.v1+cell": {
     "cellMetadata": {
      "byteLimit": 2048000,
      "rowLimit": 10000
     },
     "inputWidgets": {},
     "nuid": "2762a9cf-0af4-4a9d-9bfd-646f5f3f6cd1",
     "showTitle": false,
     "title": ""
    }
   },
   "source": [
    "<h2> Weather Observation Station 6 & 7 Hacker Rank </h2>\n",
    "<h3> Pyspark code the list of CITY names starting with vowels (i.e., a, e, i, o, or u) from STATION DF </h3>\n"
   ]
  },
  {
   "cell_type": "code",
   "execution_count": 0,
   "metadata": {
    "application/vnd.databricks.v1+cell": {
     "cellMetadata": {
      "byteLimit": 2048000,
      "rowLimit": 10000
     },
     "inputWidgets": {},
     "nuid": "62bba0d0-1fa3-4fde-9087-dfecaa32fa39",
     "showTitle": false,
     "title": ""
    }
   },
   "outputs": [
    {
     "output_type": "stream",
     "name": "stdout",
     "output_type": "stream",
     "text": [
      "+---+-----------+-----+-----+------+\n| ID|       CITY|STATE|LAT_N|LONG_W|\n+---+-----------+-----+-----+------+\n|495|    Upperco|   MD|  114|    30|\n|619|  Arlington|   CO|   75|    93|\n|844|    Aguanga|   CA|   80|    66|\n|698|     Albany|   CA|   50|    80|\n|977|       Odin|   IL|   53|   116|\n|174|     Onaway|   MI|  109|    56|\n|753|    Algonac|   MI|  119|    80|\n|752|East Irvine|   CA|  106|   115|\n|953|      Udall|   KS|  113|    60|\n|263|  Irvington|   IL|   97|    68|\n|613| East China|   MI|  109|    42|\n|442|     Elkton|   MD|  103|   157|\n|361| Arrowsmith|   IL|   28|   109|\n|998|   Oakfield|   ME|   48|   132|\n|384|        Amo|   IN|  104|   159|\n|775|     Eleele|   HI|   81|   153|\n|190|     Oconee|   GA|   93|   119|\n|161|    Alanson|   MI|   91|    72|\n|695|   Amazonia|   MO|   46|   148|\n|527|     Auburn|   IA|   95|   137|\n+---+-----------+-----+-----+------+\nonly showing top 20 rows\n\n"
     ]
    }
   ],
   "source": [
    "vowels = ['A', 'E', 'I', 'O', 'U','a', 'e', 'i', 'o', 'u']\n",
    "df.filter(F.substring(F.col(\"city\"), 1, 1).isin(vowels)).distinct().show()\n"
   ]
  },
  {
   "cell_type": "markdown",
   "metadata": {
    "application/vnd.databricks.v1+cell": {
     "cellMetadata": {
      "byteLimit": 2048000,
      "rowLimit": 10000
     },
     "inputWidgets": {},
     "nuid": "4aea9c34-dfbe-4328-aecf-b3a277c62f7b",
     "showTitle": false,
     "title": ""
    }
   },
   "source": [
    "<h2> Weather Observation Station 8 Hacker Rank </h2>\n",
    "<h3> Pyspark code  the list of CITY names from STATION which have vowels (i.e., a, e, i, o, and u) as both their first and last characters DF </h3>"
   ]
  },
  {
   "cell_type": "code",
   "execution_count": 0,
   "metadata": {
    "application/vnd.databricks.v1+cell": {
     "cellMetadata": {
      "byteLimit": 2048000,
      "rowLimit": 10000
     },
     "inputWidgets": {},
     "nuid": "35c18296-1d98-4e7e-bf3d-b40a9ba6470d",
     "showTitle": false,
     "title": ""
    }
   },
   "outputs": [
    {
     "output_type": "stream",
     "name": "stdout",
     "output_type": "stream",
     "text": [
      "+---+-------------+-----+-----+------+\n| ID|         CITY|STATE|LAT_N|LONG_W|\n+---+-------------+-----+-----+------+\n|495|      Upperco|   MD|  114|    30|\n|844|      Aguanga|   CA|   80|    66|\n|752|  East Irvine|   CA|  106|   115|\n|613|   East China|   MI|  109|    42|\n|384|          Amo|   IN|  104|   159|\n|775|       Eleele|   HI|   81|   153|\n|190|       Oconee|   GA|   93|   119|\n|695|     Amazonia|   MO|   46|   148|\n|447|  Arkadelphia|   AR|   99|    50|\n|510|     Eastlake|   MI|  134|    39|\n|593|  Aliso Viejo|   CA|   68|   131|\n|963|      Eriline|   KY|   94|    65|\n|938|Andersonville|   GA|  141|    73|\n|231|       Arispe|   IA|   31|   138|\n|904|       Ermine|   KY|  120|    63|\n|332|    Elm Grove|   LA|   46|    29|\n| 49|      Osborne|   KS|   70|   140|\n|172|Atlantic Mine|   MI|  131|    99|\n|890|      Eufaula|   AL|  140|   103|\n|127|      Oshtemo|   MI|  100|   136|\n+---+-------------+-----+-----+------+\nonly showing top 20 rows\n\n"
     ]
    }
   ],
   "source": [
    "\n",
    "vowels = ['A', 'E', 'I', 'O', 'U','a', 'e', 'i', 'o', 'u']\n",
    "df.filter((F.substring(F.col(\"city\"), 0, 1).isin(vowels)) &\n",
    "    (F.substring(F.col(\"city\"), -1, 1).isin(vowels))).distinct().show()"
   ]
  },
  {
   "cell_type": "markdown",
   "metadata": {
    "application/vnd.databricks.v1+cell": {
     "cellMetadata": {
      "byteLimit": 2048000,
      "rowLimit": 10000
     },
     "inputWidgets": {},
     "nuid": "fdf65ad1-9fbd-4e72-8ff2-af437fdbbac8",
     "showTitle": false,
     "title": ""
    }
   },
   "source": [
    "<h2> Weather Observation Station 9 Hacker Rank </h2>\n",
    "<h3> Pyspark code list of CITY names from STATION that do not start with vowels /h3>"
   ]
  },
  {
   "cell_type": "code",
   "execution_count": 0,
   "metadata": {
    "application/vnd.databricks.v1+cell": {
     "cellMetadata": {
      "byteLimit": 2048000,
      "rowLimit": 10000
     },
     "inputWidgets": {},
     "nuid": "eabbcdc4-f31d-4cb3-bbb3-bbf34446428b",
     "showTitle": false,
     "title": ""
    }
   },
   "outputs": [
    {
     "output_type": "stream",
     "name": "stdout",
     "output_type": "stream",
     "text": [
      "+---+--------------+-----+-----+------+\n| ID|          CITY|STATE|LAT_N|LONG_W|\n+---+--------------+-----+-----+------+\n|414|    Manchester|   MD|   74|    37|\n|441|    Hanna City|   IL|   51|   137|\n|588|       Glencoe|   KY|   46|   136|\n|665|       Chelsea|   IA|   99|    60|\n|711|        Turner|   AR|   50|   101|\n|811|      Dorrance|   KS|  102|   122|\n|325|      Monument|   KS|   71|   142|\n|266|        Cahone|   CO|  116|   127|\n|839|       Slidell|   LA|   85|   152|\n|478|        Tipton|   IN|   34|    98|\n|959|       Waipahu|   HI|  106|    34|\n|411|       Negreet|   LA|   99|   105|\n|603|    Sandy Hook|   CT|   72|   148|\n|113|      Prescott|   IA|   40|    66|\n|971|   Graettinger|   IA|   95|   150|\n|342|Chignik Lagoon|   AK|  103|   153|\n|473|      Highwood|   IL|   27|   151|\n|733|   Pelahatchie|   MS|   39|    28|\n|824|      Loma Mar|   CA|   49|   131|\n|794|  Kissee Mills|   MO|  140|    73|\n+---+--------------+-----+-----+------+\nonly showing top 20 rows\n\n"
     ]
    }
   ],
   "source": [
    "vowels = ['A', 'E', 'I', 'O', 'U','a', 'e', 'i', 'o', 'u']\n",
    "df.filter(~F.substring(F.col(\"city\"), 1, 1).isin(vowels)).distinct().show()"
   ]
  },
  {
   "cell_type": "markdown",
   "metadata": {
    "application/vnd.databricks.v1+cell": {
     "cellMetadata": {
      "byteLimit": 2048000,
      "rowLimit": 10000
     },
     "inputWidgets": {},
     "nuid": "dbd958b4-ceab-49d0-a694-48d8bd3335cb",
     "showTitle": false,
     "title": ""
    }
   },
   "source": [
    "<h2> Weather Observation Station 10 Hacker Rank </h2>\n",
    "<h3> Pyspark code list of CITY names from STATION that do not end with vowels /h3>"
   ]
  },
  {
   "cell_type": "code",
   "execution_count": 0,
   "metadata": {
    "application/vnd.databricks.v1+cell": {
     "cellMetadata": {
      "byteLimit": 2048000,
      "rowLimit": 10000
     },
     "inputWidgets": {},
     "nuid": "1789bc7d-9e54-4927-9ead-ff751b2d7b5e",
     "showTitle": false,
     "title": ""
    }
   },
   "outputs": [
    {
     "output_type": "stream",
     "name": "stdout",
     "output_type": "stream",
     "text": [
      "+---+--------------+-----+-----+------+\n| ID|          CITY|STATE|LAT_N|LONG_W|\n+---+--------------+-----+-----+------+\n|414|    Manchester|   MD|   74|    37|\n|441|    Hanna City|   IL|   51|   137|\n|588|       Glencoe|   KY|   46|   136|\n|665|       Chelsea|   IA|   99|    60|\n|619|     Arlington|   CO|   75|    93|\n|711|        Turner|   AR|   50|   101|\n|811|      Dorrance|   KS|  102|   122|\n|325|      Monument|   KS|   71|   142|\n|266|        Cahone|   CO|  116|   127|\n|839|       Slidell|   LA|   85|   152|\n|478|        Tipton|   IN|   34|    98|\n|411|       Negreet|   LA|   99|   105|\n|603|    Sandy Hook|   CT|   72|   148|\n|113|      Prescott|   IA|   40|    66|\n|971|   Graettinger|   IA|   95|   150|\n|342|Chignik Lagoon|   AK|  103|   153|\n|698|        Albany|   CA|   50|    80|\n|733|   Pelahatchie|   MS|   39|    28|\n|824|      Loma Mar|   CA|   49|   131|\n|794|  Kissee Mills|   MO|  140|    73|\n+---+--------------+-----+-----+------+\nonly showing top 20 rows\n\n"
     ]
    }
   ],
   "source": [
    "vowels = ['A', 'E', 'I', 'O', 'U','a', 'e', 'i', 'o', 'u']\n",
    "df.filter(~((F.substring(F.col(\"city\"), 0, 1).isin(vowels)) &\n",
    "    (F.substring(F.col(\"city\"), -1, 1).isin(vowels)))).distinct().show()"
   ]
  },
  {
   "cell_type": "markdown",
   "metadata": {
    "application/vnd.databricks.v1+cell": {
     "cellMetadata": {
      "byteLimit": 2048000,
      "rowLimit": 10000
     },
     "inputWidgets": {},
     "nuid": "6c2ab7bb-23d1-4e5d-b1fd-729648e75095",
     "showTitle": false,
     "title": ""
    }
   },
   "source": [
    "<h2> Weather Observation Station 11 Hacker Rank </h2>\n",
    "<h3> Pyspark code the list of CITY names from STATION that either do not start with vowels or do not end with vowels /h3>"
   ]
  },
  {
   "cell_type": "code",
   "execution_count": 0,
   "metadata": {
    "application/vnd.databricks.v1+cell": {
     "cellMetadata": {
      "byteLimit": 2048000,
      "rowLimit": 10000
     },
     "inputWidgets": {},
     "nuid": "115b32b7-ed7d-407f-a61d-99dc7a089d69",
     "showTitle": false,
     "title": ""
    }
   },
   "outputs": [
    {
     "output_type": "stream",
     "name": "stdout",
     "output_type": "stream",
     "text": [
      "+--------------+\n|          city|\n+--------------+\n|    Manchester|\n|        Tipton|\n|   Pelahatchie|\n|      Loma Mar|\n|        Albany|\n|       Sturgis|\n|        Cahone|\n|       Glencoe|\n|    Sandy Hook|\n|     Arlington|\n|  Kissee Mills|\n|      Dorrance|\n|       Negreet|\n|    Hanna City|\n|Chignik Lagoon|\n|        Turner|\n|       Slidell|\n|       Chelsea|\n|      Monument|\n|   Graettinger|\n+--------------+\nonly showing top 20 rows\n\n"
     ]
    }
   ],
   "source": [
    "df.filter((~F.substring(F.col(\"city\"), 0, 1).isin(vowels)) |\n",
    "    (~F.substring(F.col(\"city\"), -1, 1).isin(vowels))).select(\"city\").distinct().show()"
   ]
  },
  {
   "cell_type": "markdown",
   "metadata": {
    "application/vnd.databricks.v1+cell": {
     "cellMetadata": {
      "byteLimit": 2048000,
      "rowLimit": 10000
     },
     "inputWidgets": {},
     "nuid": "c061bdaf-97fc-439e-9938-ee0d10ccebf1",
     "showTitle": false,
     "title": ""
    }
   },
   "source": [
    "<h2> Weather Observation Station 12 Hacker Rank </h2>\n",
    "<h3> Pyspark code  list of CITY names from STATION that do not start with vowels and do not end with vowels </h3>"
   ]
  },
  {
   "cell_type": "code",
   "execution_count": 0,
   "metadata": {
    "application/vnd.databricks.v1+cell": {
     "cellMetadata": {
      "byteLimit": 2048000,
      "rowLimit": 10000
     },
     "inputWidgets": {},
     "nuid": "b13b8bcb-7507-4a1d-984c-964633be1dea",
     "showTitle": false,
     "title": ""
    }
   },
   "outputs": [
    {
     "output_type": "stream",
     "name": "stdout",
     "output_type": "stream",
     "text": [
      "+---------------+\n|           city|\n+---------------+\n|          Tyler|\n|        Watkins|\n|     Manchester|\n|         Tipton|\n|       Loma Mar|\n|Bowdon Junction|\n|         Bowdon|\n|        Sturgis|\n|     Sandy Hook|\n|   Kissee Mills|\n|        Negreet|\n|       Highwood|\n|     Hanna City|\n| Chignik Lagoon|\n|         Turner|\n|        Slidell|\n|       Monument|\n|    Graettinger|\n|     Hoskinston|\n|       Republic|\n+---------------+\nonly showing top 20 rows\n\n"
     ]
    }
   ],
   "source": [
    "df.filter((~F.substring(F.col(\"city\"), 0, 1).isin(vowels)) &\n",
    "    (~F.substring(F.col(\"city\"), -1, 1).isin(vowels))\n",
    ").select(\"city\").distinct().show()"
   ]
  }
 ],
 "metadata": {
  "application/vnd.databricks.v1+notebook": {
   "dashboards": [],
   "language": "python",
   "notebookMetadata": {
    "pythonIndentUnit": 4
   },
   "notebookName": "Day 02 (PySpark)",
   "widgets": {}
  }
 },
 "nbformat": 4,
 "nbformat_minor": 0
}
