{
 "cells": [
  {
   "cell_type": "code",
   "execution_count": 0,
   "metadata": {
    "application/vnd.databricks.v1+cell": {
     "cellMetadata": {
      "byteLimit": 2048000,
      "rowLimit": 10000
     },
     "inputWidgets": {},
     "nuid": "ce7b57a9-225c-4375-ac4d-702589ae5ad7",
     "showTitle": false,
     "title": ""
    }
   },
   "outputs": [],
   "source": [
    "from pyspark.sql import functions as F"
   ]
  },
  {
   "cell_type": "code",
   "execution_count": 0,
   "metadata": {
    "application/vnd.databricks.v1+cell": {
     "cellMetadata": {
      "byteLimit": 2048000,
      "rowLimit": 10000
     },
     "inputWidgets": {},
     "nuid": "0868e332-c6d6-463a-a060-66f6dce09e57",
     "showTitle": false,
     "title": ""
    }
   },
   "outputs": [
    {
     "output_type": "stream",
     "name": "stdout",
     "output_type": "stream",
     "text": [
      "+----+-----------------+-----------+-----------------+----------+\n|  id|             name|countrycode|         district|population|\n+----+-----------------+-----------+-----------------+----------+\n|   6|        Rotterdam|        NLD|     Zuid-Holland|    593321|\n|  19|         Zaanstad|        NLD|    Noord-Holland|    135621|\n| 214|     Porto Alegre|        BRA|Rio Grande do Sul|   1314032|\n| 397| Lauro de Freitas|        BRA|            Bahia|    109236|\n| 547|           Dobric|        BGR|            Varna|    100399|\n| 552|        Bujumbura|        BDI|        Bujumbura|    300000|\n| 554|Santiago de Chile|        CHL|         Santiago|   4703954|\n| 626|         al-Minya|        EGY|         al-Minya|    201360|\n| 646|        Santa Ana|        SLV|        Santa Ana|    139389|\n| 762|        Bahir Dar|        ETH|           Amhara|     96140|\n| 796|           Baguio|        PHL|              CAR|    252386|\n| 896|         Malungon|        PHL|Southern Mindanao|     93232|\n| 904|           Banjul|        GMB|           Banjul|     42326|\n| 924|      Villa Nueva|        GTM|        Guatemala|    101295|\n| 990|             Waru|        IDN|        East Java|    124300|\n|1155|            Latur|        IND|      Maharashtra|    197408|\n|1222|           Tenali|        IND|   Andhra Pradesh|    143726|\n|1235|      Tirunelveli|        IND|       Tamil Nadu|    135825|\n|1256|          Alandur|        IND|       Tamil Nadu|    125244|\n|1279|          Neyveli|        IND|       Tamil Nadu|    118080|\n+----+-----------------+-----------+-----------------+----------+\nonly showing top 20 rows\n\n"
     ]
    }
   ],
   "source": [
    "data=[(\"6\",\"Rotterdam\",\"NLD\",\"Zuid-Holland\",\"593321\"),(\"19\",\"Zaanstad\",\"NLD\",\"Noord-Holland\",\"135621\"),(\"214\",\"Porto Alegre\",\"BRA\",\"Rio Grande do Sul\",\"1314032\"),(\"397\",\"Lauro de Freitas\",\"BRA\",\"Bahia\",\"109236\"),(\"547\",\"Dobric\",\"BGR\",\"Varna\",\"100399\"),(\"552\",\"Bujumbura\",\"BDI\",\"Bujumbura\",\"300000\"),(\"554\",\"Santiago de Chile\",\"CHL\",\"Santiago\",\"4703954\"),(\"626\",\"al-Minya\",\"EGY\",\"al-Minya\",\"201360\"),(\"646\",\"Santa Ana\",\"SLV\",\"Santa Ana\",\"139389\"),(\"762\",\"Bahir Dar\",\"ETH\",\"Amhara\",\"96140\"),(\"796\",\"Baguio\",\"PHL\",\"CAR\",\"252386\"),(\"896\",\"Malungon\",\"PHL\",\"Southern Mindanao\",\"93232\"),(\"904\",\"Banjul\",\"GMB\",\"Banjul\",\"42326\"),(\"924\",\"Villa Nueva\",\"GTM\",\"Guatemala\",\"101295\"),(\"990\",\"Waru\",\"IDN\",\"East Java\",\"124300\"),(\"1155\",\"Latur\",\"IND\",\"Maharashtra\",\"197408\"),(\"1222\",\"Tenali\",\"IND\",\"Andhra Pradesh\",\"143726\"),(\"1235\",\"Tirunelveli\",\"IND\",\"Tamil Nadu\",\"135825\"),(\"1256\",\"Alandur\",\"IND\",\"Tamil Nadu\",\"125244\"),(\"1279\",\"Neyveli\",\"IND\",\"Tamil Nadu\",\"118080\"),(\"1293\",\"Pallavaram\",\"IND\",\"Tamil Nadu\",\"111866\"),(\"1350\",\"Dehri\",\"IND\",\"Bihar\",\"94526\"),(\"1383\",\"Tabriz\",\"IRN\",\"East Azerbaidzan\",\"1191043\"),(\"1385\",\"Karaj\",\"IRN\",\"Teheran\",\"940968\"),(\"1508\",\"Bolzano\",\"ITA\",\"Trentino-Alto Adige\",\"97232\"),(\"1520\",\"Cesena\",\"ITA\",\"Emilia-Romagna\",\"89852\"),(\"1613\",\"Neyagawa\",\"JPN\",\"Osaka\",\"257315\"),(\"1630\",\"Ageo\",\"JPN\",\"Saitama\",\"209442\"),(\"1661\",\"Sayama\",\"JPN\",\"Saitama\",\"162472\"),(\"1681\",\"Omuta\",\"JPN\",\"Fukuoka\",\"142889\"),(\"1739\",\"Tokuyama\",\"JPN\",\"Yamaguchi\",\"107078\"),(\"1793\",\"Novi Sad\",\"YUG\",\"Vojvodina\",\"179626\"),(\"1857\",\"Kelowna\",\"CAN\",\"British Colombia\",\"89442\"),(\"1895\",\"Harbin\",\"CHN\",\"Heilongjiang\",\"4289800\"),(\"1900\",\"Changchun\",\"CHN\",\"Jilin\",\"2812000\"),(\"1913\",\"Lanzhou\",\"CHN\",\"Gansu\",\"1565800\"),(\"1947\",\"Changzhou\",\"CHN\",\"Jiangsu\",\"530000\"),(\"2070\",\"Dezhou\",\"CHN\",\"Shandong\",\"195485\"),(\"2081\",\"Heze\",\"CHN\",\"Shandong\",\"189293\"),(\"2111\",\"Chenzhou\",\"CHN\",\"Hunan\",\"169400\"),(\"2153\",\"Xianning\",\"CHN\",\"Hubei\",\"136811\"),(\"2192\",\"Lhasa\",\"CHN\",\"Tibet\",\"120000\"),(\"2193\",\"Lianyuan\",\"CHN\",\"Hunan\",\"118858\"),(\"2227\",\"Xingcheng\",\"CHN\",\"Liaoning\",\"102384\"),(\"2273\",\"Villavicencio\",\"COL\",\"Meta\",\"273140\"),(\"2384\",\"Tong-yong\",\"KOR\",\"Kyongsangnam\",\"131717\"),(\"2386\",\"Yongju\",\"KOR\",\"Kyongsangbuk\",\"131097\"),(\"2387\",\"Chinhae\",\"KOR\",\"Kyongsangnam\",\"125997\"),(\"2388\",\"Sangju\",\"KOR\",\"Kyongsangbuk\",\"124116\"),(\"2406\",\"Herakleion\",\"GRC\",\"Crete\",\"116178\"),(\"2440\",\"Monrovia\",\"LBR\",\"Montserrado\",\"850000\"),(\"2462\",\"Lilongwe\",\"MWI\",\"Lilongwe\",\"435964\"),(\"2505\",\"Taza\",\"MAR\",\"Taza-Al Hoceima-Taou\",\"92700\"),(\"2555\",\"Xalapa\",\"MEX\",\"Veracruz\",\"390058\"),(\"2602\",\"Ocosingo\",\"MEX\",\"Chiapas\",\"171495\"),(\"2609\",\"Nogales\",\"MEX\",\"Sonora\",\"159103\"),(\"2670\",\"San Pedro Cholula\",\"MEX\",\"Puebla\",\"99734\"),(\"2689\",\"Palikir\",\"FSM\",\"Pohnpei\",\"8600\"),(\"2706\",\"Tete\",\"MOZ\",\"Tete\",\"101984\"),(\"2716\",\"Sittwe (Akyab)\",\"MMR\",\"Rakhine\",\"137600\"),(\"2922\",\"Carolina\",\"PRI\",\"Carolina\",\"186076\"),(\"2967\",\"Grudziadz\",\"POL\",\"Kujawsko-Pomorskie\",\"102434\"),(\"2972\",\"Malabo\",\"GNQ\",\"Bioko\",\"40000\"),(\"3073\",\"Essen\",\"DEU\",\"Nordrhein-Westfalen\",\"599515\"),(\"3169\",\"Apia\",\"WSM\",\"Upolu\",\"35900\"),(\"3198\",\"Dakar\",\"SEN\",\"Cap-Vert\",\"785071\"),(\"3253\",\"Hama\",\"SYR\",\"Hama\",\"343361\"),(\"3288\",\"Luchou\",\"TWN\",\"Taipei\",\"160516\"),(\"3309\",\"Tanga\",\"TZA\",\"Tanga\",\"137400\"),(\"3353\",\"Sousse\",\"TUN\",\"Sousse\",\"145900\"),(\"3377\",\"Kahramanmaras\",\"TUR\",\"Kahramanmaras\",\"245772\"),(\"3430\",\"Odesa\",\"UKR\",\"Odesa\",\"1011000\"),(\"3581\",\"St Petersburg\",\"RUS\",\"Pietari\",\"4694000\"),(\"3770\",\"Hanoi\",\"VNM\",\"Hanoi\",\"1410000\"),(\"3815\",\"El Paso\",\"USA\",\"Texas\",\"563662\"),(\"3878\",\"Scottsdale\",\"USA\",\"Arizona\",\"202705\"),(\"3965\",\"Corona\",\"USA\",\"California\",\"124966\"),(\"3973\",\"Concord\",\"USA\",\"California\",\"121780\"),(\"3977\",\"Cedar Rapids\",\"USA\",\"Iowa\",\"120758\"),(\"3982\",\"Coral Springs\",\"USA\",\"Florida\",\"117549\"),(\"4054\",\"Fairfield\",\"USA\",\"California\",\"92256\"),(\"4058\",\"Boulder\",\"USA\",\"Colorado\",\"91238\"),(\"4061\",\"Fall River\",\"USA\",\"Massachusetts\",\"90555\")]\n",
    "schema=[\"id\",\"name\",\"countrycode\",\"district\",\"population\"]\n",
    "df= spark.createDataFrame(data,schema)\n",
    "df.show()"
   ]
  },
  {
   "cell_type": "markdown",
   "metadata": {
    "application/vnd.databricks.v1+cell": {
     "cellMetadata": {
      "byteLimit": 2048000,
      "rowLimit": 10000
     },
     "inputWidgets": {},
     "nuid": "4b8269c1-d664-462d-b090-e7f71ab1aff2",
     "showTitle": false,
     "title": ""
    }
   },
   "source": [
    "<h2> Revising Aggregations - The Count Function Hacker Rank </h2>\n",
    "<h3> Pyspark code count of the number of cities in CITY having a Population larger than. </h3>"
   ]
  },
  {
   "cell_type": "code",
   "execution_count": 0,
   "metadata": {
    "application/vnd.databricks.v1+cell": {
     "cellMetadata": {
      "byteLimit": 2048000,
      "rowLimit": 10000
     },
     "inputWidgets": {},
     "nuid": "6d447b3d-f875-4f88-91a5-68436ff381e7",
     "showTitle": false,
     "title": ""
    }
   },
   "outputs": [
    {
     "output_type": "stream",
     "name": "stdout",
     "output_type": "stream",
     "text": [
      "Out[32]: 68"
     ]
    }
   ],
   "source": [
    "df.filter(df[\"population\"] > 100000).count()"
   ]
  },
  {
   "cell_type": "markdown",
   "metadata": {
    "application/vnd.databricks.v1+cell": {
     "cellMetadata": {
      "byteLimit": 2048000,
      "rowLimit": 10000
     },
     "inputWidgets": {},
     "nuid": "60005e01-5ce0-42e0-b2ff-69578961606f",
     "showTitle": false,
     "title": ""
    }
   },
   "source": [
    "<h2> Revising Aggregations - The Sum Function Hacker Rank </h2>\n",
    "<h3> Pyspark code total population of all cities in CITY where District is California. </h3>"
   ]
  },
  {
   "cell_type": "code",
   "execution_count": 0,
   "metadata": {
    "application/vnd.databricks.v1+cell": {
     "cellMetadata": {
      "byteLimit": 2048000,
      "rowLimit": 10000
     },
     "inputWidgets": {},
     "nuid": "c1d2c7e4-4327-4986-84b9-14e17caaf9fa",
     "showTitle": false,
     "title": ""
    }
   },
   "outputs": [
    {
     "output_type": "stream",
     "name": "stdout",
     "output_type": "stream",
     "text": [
      "+----------------+\n|total_population|\n+----------------+\n|          339002|\n+----------------+\n\n"
     ]
    }
   ],
   "source": [
    "df.filter(df[\"district\"] == \"California\").agg(F.sum(\"population\").cast(\"int\").alias(\"total_population\")).show()"
   ]
  },
  {
   "cell_type": "markdown",
   "metadata": {
    "application/vnd.databricks.v1+cell": {
     "cellMetadata": {
      "byteLimit": 2048000,
      "rowLimit": 10000
     },
     "inputWidgets": {},
     "nuid": "a78d8f7f-8795-4307-99dd-6c6358eeb50e",
     "showTitle": false,
     "title": ""
    }
   },
   "source": [
    "<h2> Revising Aggregations - Averages Hacker Rank </h2>\n",
    "<h3> Pyspark code the average population of all cities in CITY where District is California.. </h3>"
   ]
  },
  {
   "cell_type": "code",
   "execution_count": 0,
   "metadata": {
    "application/vnd.databricks.v1+cell": {
     "cellMetadata": {
      "byteLimit": 2048000,
      "rowLimit": 10000
     },
     "inputWidgets": {},
     "nuid": "95591062-5030-444e-aeeb-67ea76cd829f",
     "showTitle": false,
     "title": ""
    }
   },
   "outputs": [
    {
     "output_type": "stream",
     "name": "stdout",
     "output_type": "stream",
     "text": [
      "+--------------+\n|avg_population|\n+--------------+\n|    113000.664|\n+--------------+\n\n"
     ]
    }
   ],
   "source": [
    "df.filter(df[\"district\"] == \"California\").agg(F.avg(\"population\").cast(\"float\").alias(\"avg_population\")).show()"
   ]
  },
  {
   "cell_type": "markdown",
   "metadata": {
    "application/vnd.databricks.v1+cell": {
     "cellMetadata": {
      "byteLimit": 2048000,
      "rowLimit": 10000
     },
     "inputWidgets": {},
     "nuid": "60a507f7-6d06-4d1c-a2b2-a598811b1322",
     "showTitle": false,
     "title": ""
    }
   },
   "source": [
    "<h2> Average Population Hacker Rank </h2>\n",
    "<h3> Pyspark code average population for all cities in CITY, rounded down to the nearest integer. </h3>"
   ]
  },
  {
   "cell_type": "code",
   "execution_count": 0,
   "metadata": {
    "application/vnd.databricks.v1+cell": {
     "cellMetadata": {
      "byteLimit": 2048000,
      "rowLimit": 10000
     },
     "inputWidgets": {},
     "nuid": "e7dc3c9a-4846-4618-b2cc-ae06c189d27e",
     "showTitle": false,
     "title": ""
    }
   },
   "outputs": [
    {
     "output_type": "stream",
     "name": "stdout",
     "output_type": "stream",
     "text": [
      "+--------------+\n|avg_population|\n+--------------+\n|        454250|\n+--------------+\n\n"
     ]
    }
   ],
   "source": [
    "df.select(F.avg(\"population\").alias(\"avg_population\"))\\\n",
    "    .withColumn(\"avg_population\", F.col(\"avg_population\").cast(\"int\")).show()"
   ]
  },
  {
   "cell_type": "markdown",
   "metadata": {
    "application/vnd.databricks.v1+cell": {
     "cellMetadata": {
      "byteLimit": 2048000,
      "rowLimit": 10000
     },
     "inputWidgets": {},
     "nuid": "517ece96-4bfb-4e93-acaa-9969d01e6018",
     "showTitle": false,
     "title": ""
    }
   },
   "source": [
    "<h2> Japan Population Hacker Rank </h2>\n",
    "<h3> Pyspark code the sum of the populations for all Japanese cities in CITY. The COUNTRYCODE for Japan is JPN. </h3>"
   ]
  },
  {
   "cell_type": "code",
   "execution_count": 0,
   "metadata": {
    "application/vnd.databricks.v1+cell": {
     "cellMetadata": {
      "byteLimit": 2048000,
      "rowLimit": 10000
     },
     "inputWidgets": {},
     "nuid": "64a2742d-84ba-47e4-8cc1-e4caf8c9a58e",
     "showTitle": false,
     "title": ""
    }
   },
   "outputs": [
    {
     "output_type": "stream",
     "name": "stdout",
     "output_type": "stream",
     "text": [
      "+----------------+\n|total_population|\n+----------------+\n|          879196|\n+----------------+\n\n"
     ]
    }
   ],
   "source": [
    "df.filter(df[\"COUNTRYCODE\"] == \"JPN\").agg(F.sum(\"population\").cast(\"int\").alias(\"total_population\")).show()"
   ]
  },
  {
   "cell_type": "markdown",
   "metadata": {
    "application/vnd.databricks.v1+cell": {
     "cellMetadata": {
      "byteLimit": 2048000,
      "rowLimit": 10000
     },
     "inputWidgets": {},
     "nuid": "283e0c92-689c-4012-a606-bbb6d648e1f8",
     "showTitle": false,
     "title": ""
    }
   },
   "source": [
    "<h2> Population Density Difference Hacker Rank </h2>\n",
    "<h3> Pyspark code difference between the maximum and minimum populations in CITY. </h3>"
   ]
  },
  {
   "cell_type": "code",
   "execution_count": 0,
   "metadata": {
    "application/vnd.databricks.v1+cell": {
     "cellMetadata": {
      "byteLimit": 2048000,
      "rowLimit": 10000
     },
     "inputWidgets": {},
     "nuid": "23953096-29ee-42b6-8e13-7d74ac7b0d14",
     "showTitle": false,
     "title": ""
    }
   },
   "outputs": [
    {
     "output_type": "stream",
     "name": "stdout",
     "output_type": "stream",
     "text": [
      "+-------+-------+\n|max_pol|min_pol|\n+-------+-------+\n|  99734| 100399|\n+-------+-------+\n\n"
     ]
    }
   ],
   "source": [
    "df.agg(F.max(\"POPULATION\").alias(\"max_pol\"),F.min(\"POPULATION\").alias(\"min_pol\")).show()"
   ]
  },
  {
   "cell_type": "markdown",
   "metadata": {
    "application/vnd.databricks.v1+cell": {
     "cellMetadata": {
      "byteLimit": 2048000,
      "rowLimit": 10000
     },
     "inputWidgets": {},
     "nuid": "925b486d-a637-4516-bcc6-391bc78568f3",
     "showTitle": false,
     "title": ""
    }
   },
   "source": [
    "<h2> The Blunder Hacker Rank </h2>\n",
    "<h3> Pyspark code,Write a query calculating the amount of error (i.e.:  average monthly salaries), and round it up to the next integer. </h3>"
   ]
  },
  {
   "cell_type": "code",
   "execution_count": 0,
   "metadata": {
    "application/vnd.databricks.v1+cell": {
     "cellMetadata": {
      "byteLimit": 2048000,
      "rowLimit": 10000
     },
     "inputWidgets": {},
     "nuid": "f07b562c-b874-47a7-9a4b-63465c646f0d",
     "showTitle": false,
     "title": ""
    }
   },
   "outputs": [
    {
     "output_type": "stream",
     "name": "stdout",
     "output_type": "stream",
     "text": [
      "+---+---------+------+\n| ID|     Name|Salary|\n+---+---------+------+\n|  1|   Ashley|  2340|\n|  2|    Julia|  1198|\n|  3|  Britney|  9009|\n|  4| Kristeen|  2341|\n|  5|    Dyana|  9990|\n|  6|    Diana|  8011|\n|  7|    Jenny|  2341|\n|  8|Christeen|  2342|\n|  9|    Meera|  2343|\n| 10|    Priya|  2344|\n| 11| Priyanka|  2345|\n| 12|    Paige|  2346|\n| 13|     Jane|  2347|\n| 14|   Belvet|  2348|\n| 15|  Scarlet|  2349|\n| 16|    Salma|  9087|\n| 17|   Amanda|  7777|\n| 18|   Aamina|  5500|\n| 19|    Amina|  2570|\n| 20|    Ketty|  2007|\n+---+---------+------+\n\n"
     ]
    }
   ],
   "source": [
    "data=[(\"1\",\"Ashley\",\"2340\"),(\"2\",\"Julia\",\"1198\"),(\"3\",\"Britney\",\"9009\"),(\"4\",\"Kristeen\",\"2341\"),(\"5\",\"Dyana\",\"9990\"),(\"6\",\"Diana\",\"8011\"),(\"7\",\"Jenny\",\"2341\"),(\"8\",\"Christeen\",\"2342\"),(\"9\",\"Meera\",\"2343\"),(\"10\",\"Priya\",\"2344\"),(\"11\",\"Priyanka\",\"2345\"),(\"12\",\"Paige\",\"2346\"),(\"13\",\"Jane\",\"2347\"),(\"14\",\"Belvet\",\"2348\"),(\"15\",\"Scarlet\",\"2349\"),(\"16\",\"Salma\",\"9087\"),(\"17\",\"Amanda\",\"7777\"),(\"18\",\"Aamina\",\"5500\"),(\"19\",\"Amina\",\"2570\"),(\"20\",\"Ketty\",\"2007\")]\n",
    "schema=[\"ID\",\"Name\",\"Salary\"]\n",
    "df=spark.createDataFrame(data,schema)\n",
    "df.show()"
   ]
  },
  {
   "cell_type": "code",
   "execution_count": 0,
   "metadata": {
    "application/vnd.databricks.v1+cell": {
     "cellMetadata": {
      "byteLimit": 2048000,
      "rowLimit": 10000
     },
     "inputWidgets": {},
     "nuid": "38cea199-ba7a-4342-938b-08d8557c8f35",
     "showTitle": false,
     "title": ""
    }
   },
   "outputs": [
    {
     "output_type": "stream",
     "name": "stdout",
     "output_type": "stream",
     "text": [
      "+-----------+\n|salary_diff|\n+-----------+\n|    2252.25|\n+-----------+\n\n"
     ]
    }
   ],
   "source": [
    "df.withColumn(\n",
    "    \"SalaryNoZeros\",\n",
    "    F.regexp_replace(F.col(\"Salary\"), \"0\", \"\")  # Replace '0' characters in Salary\n",
    ").select((F.avg(\"Salary\")-F.avg(\"SalaryNoZeros\")).alias(\"salary_diff\")).show()"
   ]
  },
  {
   "cell_type": "markdown",
   "metadata": {
    "application/vnd.databricks.v1+cell": {
     "cellMetadata": {
      "byteLimit": 2048000,
      "rowLimit": 10000
     },
     "inputWidgets": {},
     "nuid": "14bf4918-c123-4967-9f1e-7f563678f413",
     "showTitle": false,
     "title": ""
    }
   },
   "source": [
    "<h2> Top Earners Hacker Rank </h2>\n",
    "<h3> Pyspark code, to find the maximum total earnings for all employees as well as the total number of employees who have maximum total earnings. Then print these values as  space-separated integers. </h3>"
   ]
  },
  {
   "cell_type": "code",
   "execution_count": 0,
   "metadata": {
    "application/vnd.databricks.v1+cell": {
     "cellMetadata": {
      "byteLimit": 2048000,
      "rowLimit": 10000
     },
     "inputWidgets": {},
     "nuid": "ceef4d1b-5db4-4468-9a8f-1daf4faad2f4",
     "showTitle": false,
     "title": ""
    }
   },
   "outputs": [
    {
     "output_type": "stream",
     "name": "stdout",
     "output_type": "stream",
     "text": [
      "+-----------+--------+------+------+\n|employee_id|    name|months|salary|\n+-----------+--------+------+------+\n|        330|    Rose|     5|  2248|\n|       1233|  Angela|     7|  1296|\n|       1901|   Frank|    10|  2763|\n|       2035| Patrick|     1|  4583|\n|       2405|    Lisa|     7|  4350|\n|       2974|Kimberly|    11|  2874|\n|       3190|  Bonnie|    11|  3758|\n|       3506| Michael|     9|  1936|\n|       3708|    Todd|    22|  4046|\n|       4428|     Joe|    22|  3802|\n|       5962|    Earl|    11|  2958|\n|       6060|  Robert|    22|  4128|\n|       6418|     Amy|     2|  4832|\n|       7466|  Pamela|     1|  4199|\n|       9102|   Maria|    11|  2958|\n|      11863|     Joe|    18|  1721|\n|      12004|   Linda|    15|  2306|\n|      12387| Melissa|    20|  1854|\n|      13835|   Carol|    20|  4340|\n|      15151|   Paula|    15|  1526|\n+-----------+--------+------+------+\nonly showing top 20 rows\n\n"
     ]
    }
   ],
   "source": [
    "data=[(\"330\",\"Rose\",\"5\",\"2248\"),(\"1233\",\"Angela\",\"7\",\"1296\"),(\"1901\",\"Frank\",\"10\",\"2763\"),(\"2035\",\"Patrick\",\"1\",\"4583\"),(\"2405\",\"Lisa\",\"7\",\"4350\"),(\"2974\",\"Kimberly\",\"11\",\"2874\"),(\"3190\",\"Bonnie\",\"11\",\"3758\"),(\"3506\",\"Michael\",\"9\",\"1936\"),(\"3708\",\"Todd\",\"22\",\"4046\"),(\"4428\",\"Joe\",\"22\",\"3802\"),(\"5962\",\"Earl\",\"11\",\"2958\"),(\"6060\",\"Robert\",\"22\",\"4128\"),(\"6418\",\"Amy\",\"2\",\"4832\"),(\"7466\",\"Pamela\",\"1\",\"4199\"),(\"9102\",\"Maria\",\"11\",\"2958\"),(\"11863\",\"Joe\",\"18\",\"1721\"),(\"12004\",\"Linda\",\"15\",\"2306\"),(\"12387\",\"Melissa\",\"20\",\"1854\"),(\"13835\",\"Carol\",\"20\",\"4340\"),(\"15151\",\"Paula\",\"15\",\"1526\"),(\"15286\",\"Marilyn\",\"10\",\"3087\"),(\"15675\",\"Jennifer\",\"2\",\"2336\"),(\"16493\",\"Harry\",\"14\",\"4755\"),(\"17858\",\"David\",\"13\",\"3658\"),(\"19035\",\"Julia\",\"4\",\"2195\"),(\"19172\",\"Kevin\",\"1\",\"2113\"),(\"21638\",\"Paul\",\"6\",\"3120\"),(\"22684\",\"James\",\"14\",\"1370\"),(\"23621\",\"Kelly\",\"7\",\"1923\"),(\"24011\",\"Robin\",\"22\",\"1880\"),(\"24611\",\"Ralph\",\"22\",\"1495\"),(\"25109\",\"Gloria\",\"2\",\"1979\"),(\"25120\",\"Victor\",\"20\",\"1557\"),(\"28247\",\"David\",\"23\",\"2212\"),(\"30183\",\"Joyce\",\"20\",\"2748\"),(\"30712\",\"Donna\",\"8\",\"2604\"),(\"32502\",\"Michelle\",\"1\",\"2086\"),(\"32654\",\"Stephanie\",\"17\",\"1444\"),(\"33086\",\"Gerald\",\"23\",\"2206\"),(\"33132\",\"Walter\",\"11\",\"4180\"),(\"37008\",\"Christina\",\"8\",\"3100\"),(\"38246\",\"Brandon\",\"3\",\"4339\"),(\"38272\",\"Elizabeth\",\"23\",\"3967\"),(\"38964\",\"Joseph\",\"4\",\"2194\"),(\"39789\",\"Lawrence\",\"9\",\"1872\"),(\"40797\",\"Marilyn\",\"15\",\"2112\"),(\"41228\",\"Lori\",\"13\",\"4350\"),(\"44436\",\"Matthew\",\"15\",\"4673\"),(\"45285\",\"Jesse\",\"1\",\"3768\"),(\"47458\",\"John\",\"13\",\"3104\"),(\"47496\",\"Martha\",\"15\",\"4020\"),(\"47920\",\"Timothy\",\"10\",\"1745\"),(\"48129\",\"Christine\",\"22\",\"3738\"),(\"50664\",\"Anthony\",\"22\",\"4912\"),(\"51741\",\"Paula\",\"1\",\"2492\"),(\"52923\",\"Kimberly\",\"17\",\"1955\"),(\"55238\",\"Louise\",\"1\",\"2717\"),(\"56775\",\"Martin\",\"16\",\"1385\"),(\"57065\",\"Paul\",\"23\",\"3379\"),(\"58343\",\"Antonio\",\"21\",\"3268\"),(\"59256\",\"Jacqueline\",\"14\",\"3913\"),(\"60119\",\"Diana\",\"13\",\"5149\"),(\"61191\",\"John\",\"5\",\"1775\"),(\"65288\",\"Dorothy\",\"22\",\"3792\"),(\"65375\",\"Evelyn\",\"6\",\"4079\"),(\"66442\",\"Phillip\",\"9\",\"1894\"),(\"67137\",\"Evelyn\",\"15\",\"1311\"),(\"68942\",\"Debra\",\"20\",\"3704\"),(\"69085\",\"David\",\"11\",\"1845\"),(\"69234\",\"Willie\",\"12\",\"5088\"),(\"69475\",\"Brandon\",\"19\",\"2279\"),(\"69787\",\"Ann\",\"9\",\"1311\"),(\"70963\",\"Emily\",\"8\",\"5247\"),(\"71569\",\"Dorothy\",\"22\",\"4088\"),(\"72030\",\"Jonathan\",\"4\",\"5009\"),(\"72370\",\"Dorothy\",\"18\",\"3174\"),(\"72785\",\"Marilyn\",\"1\",\"1860\"),(\"72974\",\"Norma\",\"21\",\"1558\"),(\"74662\",\"Nancy\",\"6\",\"3223\"),(\"76876\",\"Andrew\",\"11\",\"1746\"),(\"77609\",\"Keith\",\"2\",\"1219\"),(\"78101\",\"Benjamin\",\"7\",\"4414\"),(\"79744\",\"Charles\",\"11\",\"1911\"),(\"80475\",\"Alan\",\"16\",\"1853\"),(\"80895\",\"Tammy\",\"8\",\"1591\"),(\"81381\",\"Anna\",\"16\",\"1569\"),(\"82828\",\"James\",\"23\",\"4398\"),(\"85287\",\"Robin\",\"23\",\"2078\"),(\"87170\",\"Jean\",\"18\",\"3895\"),(\"87355\",\"Andrew\",\"15\",\"1446\"),(\"89017\",\"Roy\",\"8\",\"3443\"),(\"90507\",\"Diana\",\"9\",\"5101\"),(\"90558\",\"Christina\",\"23\",\"3498\"),(\"92908\",\"Jesse\",\"13\",\"4753\"),(\"95322\",\"Joyce\",\"18\",\"1577\"),(\"95983\",\"Patricia\",\"23\",\"1469\"),(\"96963\",\"Gregory\",\"16\",\"5071\"),(\"97178\",\"Brian\",\"19\",\"3144\"),(\"98271\",\"Christine\",\"3\",\"3796\"),(\"98491\",\"Lillian\",\"3\",\"1920\"),(\"98493\",\"Nancy\",\"22\",\"4912\"),(\"98495\",\"Patricia\",\"22\",\"4912\"),(\"98497\",\"Angela\",\"22\",\"4912\"),(\"98499\",\"Gregory\",\"22\",\"4912\"),(\"99491\",\"Lillian\",\"22\",\"4912\"),(\"99493\",\"Evelyn\",\"22\",\"4912\")]\n",
    "schema=[\"employee_id\",\"name\",\"months\",\"salary\"]\n",
    "df=spark.createDataFrame(data,schema)\n",
    "df.show()"
   ]
  },
  {
   "cell_type": "code",
   "execution_count": 0,
   "metadata": {
    "application/vnd.databricks.v1+cell": {
     "cellMetadata": {
      "byteLimit": 2048000,
      "rowLimit": 10000
     },
     "inputWidgets": {},
     "nuid": "e8bc34f0-3d5c-4201-ad01-af0c98b1e7f8",
     "showTitle": false,
     "title": ""
    }
   },
   "outputs": [
    {
     "output_type": "stream",
     "name": "stdout",
     "output_type": "stream",
     "text": [
      "+--------+-----+\n|earnings|count|\n+--------+-----+\n|108064.0|    7|\n+--------+-----+\n\n"
     ]
    }
   ],
   "source": [
    "df.withColumn(\"earnings\", F.col(\"MONTHS\") * F.col(\"SALARY\")).groupBy(\"earnings\").count().orderBy(F.col(\"count\").desc()).limit(1).show()"
   ]
  }
 ],
 "metadata": {
  "application/vnd.databricks.v1+notebook": {
   "dashboards": [],
   "language": "python",
   "notebookMetadata": {
    "pythonIndentUnit": 4
   },
   "notebookName": "Day 05 (PySpark)",
   "widgets": {}
  }
 },
 "nbformat": 4,
 "nbformat_minor": 0
}
