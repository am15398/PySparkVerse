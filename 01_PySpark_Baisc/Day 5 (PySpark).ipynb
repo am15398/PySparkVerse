{
 "cells": [
  {
   "cell_type": "code",
   "execution_count": 0,
   "metadata": {
    "application/vnd.databricks.v1+cell": {
     "cellMetadata": {
      "byteLimit": 2048000,
      "rowLimit": 10000
     },
     "inputWidgets": {},
     "nuid": "5b6c8ee7-8588-4fc0-addd-1d27fcd31e7f",
     "showTitle": false,
     "title": ""
    }
   },
   "outputs": [],
   "source": [
    "from pyspark.sql import SparkSession\n",
    "from pyspark.sql import functions as F\n",
    "from pyspark.sql.window import Window \n",
    "# Create a Spark session\n",
    "spark = SparkSession.builder.appName(\"Day5\").getOrCreate()"
   ]
  },
  {
   "cell_type": "code",
   "execution_count": 0,
   "metadata": {
    "application/vnd.databricks.v1+cell": {
     "cellMetadata": {
      "byteLimit": 2048000,
      "rowLimit": 10000
     },
     "inputWidgets": {},
     "nuid": "1faba503-a7f8-4b0a-9ed8-7922c426515f",
     "showTitle": false,
     "title": ""
    }
   },
   "outputs": [
    {
     "output_type": "stream",
     "name": "stdout",
     "output_type": "stream",
     "text": [
      "+-------+-----------+------+-------------+\n|   name|       dept|salary|         city|\n+-------+-----------+------+-------------+\n|  Alice|         HR| 50000|     New York|\n|    Bob|Engineering| 60000|San Francisco|\n|Charlie|         HR| 55000|  Los Angeles|\n|  David|Engineering| 62000|      Seattle|\n|    Eva|    Finance| 70000|      Chicago|\n|  Frank|    Finance| 75000|      Houston|\n|  Grace|Engineering| 65000|       Boston|\n| Hannah|         HR| 48000|        Miami|\n|    Ian|    Finance| 68000|       Dallas|\n|Jessica|Engineering| 63000|      Atlanta|\n+-------+-----------+------+-------------+\n\n"
     ]
    }
   ],
   "source": [
    "# Sample data \n",
    "data = [\n",
    "    (\"Alice\", \"HR\", 50000, \"New York\"),\n",
    "    (\"Bob\", \"Engineering\", 60000, \"San Francisco\"),\n",
    "    (\"Charlie\", \"HR\", 55000, \"Los Angeles\"),\n",
    "    (\"David\", \"Engineering\", 62000, \"Seattle\"),\n",
    "    (\"Eva\", \"Finance\", 70000, \"Chicago\"),\n",
    "    (\"Frank\", \"Finance\", 75000, \"Houston\"),\n",
    "    (\"Grace\", \"Engineering\", 65000, \"Boston\"),\n",
    "    (\"Hannah\", \"HR\", 48000, \"Miami\"),\n",
    "    (\"Ian\", \"Finance\", 68000, \"Dallas\"),\n",
    "    (\"Jessica\", \"Engineering\", 63000, \"Atlanta\")\n",
    "]\n",
    "\n",
    "# Define the schema for the DataFrame\n",
    "schema = [\"name\", \"dept\", \"salary\", \"city\"]\n",
    "\n",
    "# Create the DataFrame\n",
    "df = spark.createDataFrame(data, schema)\n",
    "\n",
    "df.show()"
   ]
  },
  {
   "cell_type": "code",
   "execution_count": 0,
   "metadata": {
    "application/vnd.databricks.v1+cell": {
     "cellMetadata": {
      "byteLimit": 2048000,
      "rowLimit": 10000
     },
     "inputWidgets": {},
     "nuid": "43d20606-a4d7-4163-a2f7-0914af6ccfa9",
     "showTitle": false,
     "title": ""
    }
   },
   "outputs": [
    {
     "output_type": "stream",
     "name": "stdout",
     "output_type": "stream",
     "text": [
      "+-------+-----------+------+-------------+-----------+\n|   name|       dept|salary|         city|first_value|\n+-------+-----------+------+-------------+-----------+\n|    Bob|Engineering| 60000|San Francisco|        Bob|\n|  David|Engineering| 62000|      Seattle|        Bob|\n|  Grace|Engineering| 65000|       Boston|        Bob|\n|Jessica|Engineering| 63000|      Atlanta|        Bob|\n|    Eva|    Finance| 70000|      Chicago|        Eva|\n|  Frank|    Finance| 75000|      Houston|        Eva|\n|    Ian|    Finance| 68000|       Dallas|        Eva|\n|  Alice|         HR| 50000|     New York|      Alice|\n|Charlie|         HR| 55000|  Los Angeles|      Alice|\n| Hannah|         HR| 48000|        Miami|      Alice|\n+-------+-----------+------+-------------+-----------+\n\n"
     ]
    }
   ],
   "source": [
    "# first value in group\n",
    "df.withColumn(\"first_value\",F.first(\"name\").over(Window.partitionBy(\"dept\"))).show()"
   ]
  },
  {
   "cell_type": "code",
   "execution_count": 0,
   "metadata": {
    "application/vnd.databricks.v1+cell": {
     "cellMetadata": {
      "byteLimit": 2048000,
      "rowLimit": 10000
     },
     "inputWidgets": {},
     "nuid": "d34b18e9-4a2c-4ab7-bc04-8ec7553907dc",
     "showTitle": false,
     "title": ""
    }
   },
   "outputs": [
    {
     "output_type": "stream",
     "name": "stdout",
     "output_type": "stream",
     "text": [
      "+-------+-----------+------+-------------+----------+\n|   name|       dept|salary|         city|last_value|\n+-------+-----------+------+-------------+----------+\n|    Bob|Engineering| 60000|San Francisco|   Jessica|\n|  David|Engineering| 62000|      Seattle|   Jessica|\n|  Grace|Engineering| 65000|       Boston|   Jessica|\n|Jessica|Engineering| 63000|      Atlanta|   Jessica|\n|    Eva|    Finance| 70000|      Chicago|       Ian|\n|  Frank|    Finance| 75000|      Houston|       Ian|\n|    Ian|    Finance| 68000|       Dallas|       Ian|\n|  Alice|         HR| 50000|     New York|    Hannah|\n|Charlie|         HR| 55000|  Los Angeles|    Hannah|\n| Hannah|         HR| 48000|        Miami|    Hannah|\n+-------+-----------+------+-------------+----------+\n\n"
     ]
    }
   ],
   "source": [
    "# last value in group\n",
    "df.withColumn(\"last_value\",F.last(\"name\").over(Window.partitionBy(\"dept\"))).show()"
   ]
  },
  {
   "cell_type": "code",
   "execution_count": 0,
   "metadata": {
    "application/vnd.databricks.v1+cell": {
     "cellMetadata": {
      "byteLimit": 2048000,
      "rowLimit": 10000
     },
     "inputWidgets": {},
     "nuid": "19dc94ff-5064-4a78-813b-3f3a9a8e28e8",
     "showTitle": false,
     "title": ""
    }
   },
   "outputs": [
    {
     "output_type": "stream",
     "name": "stdout",
     "output_type": "stream",
     "text": [
      "+-------+-----------+------+-------------+----------+\n|   name|       dept|salary|         city|row_number|\n+-------+-----------+------+-------------+----------+\n|    Bob|Engineering| 60000|San Francisco|         1|\n|  David|Engineering| 62000|      Seattle|         2|\n|Jessica|Engineering| 63000|      Atlanta|         3|\n|  Grace|Engineering| 65000|       Boston|         4|\n|    Ian|    Finance| 68000|       Dallas|         1|\n|    Eva|    Finance| 70000|      Chicago|         2|\n|  Frank|    Finance| 75000|      Houston|         3|\n| Hannah|         HR| 48000|        Miami|         1|\n|  Alice|         HR| 50000|     New York|         2|\n|Charlie|         HR| 55000|  Los Angeles|         3|\n+-------+-----------+------+-------------+----------+\n\n"
     ]
    }
   ],
   "source": [
    "# row number over partition \n",
    "df.withColumn(\"row_number\",F.row_number().over(Window.partitionBy(\"dept\").orderBy(\"salary\"))).show()"
   ]
  },
  {
   "cell_type": "code",
   "execution_count": 0,
   "metadata": {
    "application/vnd.databricks.v1+cell": {
     "cellMetadata": {
      "byteLimit": 2048000,
      "rowLimit": 10000
     },
     "inputWidgets": {},
     "nuid": "20d002a8-cbae-47e2-8fc7-3cf36c9e10cc",
     "showTitle": false,
     "title": ""
    }
   },
   "outputs": [
    {
     "output_type": "stream",
     "name": "stdout",
     "output_type": "stream",
     "text": [
      "+-------+-----------+------+-------------+----+\n|   name|       dept|salary|         city|rank|\n+-------+-----------+------+-------------+----+\n|    Bob|Engineering| 60000|San Francisco|   1|\n|  David|Engineering| 62000|      Seattle|   2|\n|Jessica|Engineering| 63000|      Atlanta|   3|\n|  Grace|Engineering| 65000|       Boston|   4|\n|    Ian|    Finance| 68000|       Dallas|   1|\n|    Eva|    Finance| 70000|      Chicago|   2|\n|  Frank|    Finance| 75000|      Houston|   3|\n| Hannah|         HR| 48000|        Miami|   1|\n|  Alice|         HR| 50000|     New York|   2|\n|Charlie|         HR| 55000|  Los Angeles|   3|\n+-------+-----------+------+-------------+----+\n\n"
     ]
    }
   ],
   "source": [
    "# rank number over partition \n",
    "df.withColumn(\"rank\",F.rank().over(Window.partitionBy(\"dept\").orderBy(\"salary\"))).show()"
   ]
  },
  {
   "cell_type": "code",
   "execution_count": 0,
   "metadata": {
    "application/vnd.databricks.v1+cell": {
     "cellMetadata": {
      "byteLimit": 2048000,
      "rowLimit": 10000
     },
     "inputWidgets": {},
     "nuid": "c7472dd7-412d-4182-92c8-bf735866bdec",
     "showTitle": false,
     "title": ""
    }
   },
   "outputs": [
    {
     "output_type": "stream",
     "name": "stdout",
     "output_type": "stream",
     "text": [
      "+-------+-----------+------+-------------+----------+\n|   name|       dept|salary|         city|dense_rank|\n+-------+-----------+------+-------------+----------+\n|    Bob|Engineering| 60000|San Francisco|         1|\n|  David|Engineering| 62000|      Seattle|         2|\n|Jessica|Engineering| 63000|      Atlanta|         3|\n|  Grace|Engineering| 65000|       Boston|         4|\n|    Ian|    Finance| 68000|       Dallas|         1|\n|    Eva|    Finance| 70000|      Chicago|         2|\n|  Frank|    Finance| 75000|      Houston|         3|\n| Hannah|         HR| 48000|        Miami|         1|\n|  Alice|         HR| 50000|     New York|         2|\n|Charlie|         HR| 55000|  Los Angeles|         3|\n+-------+-----------+------+-------------+----------+\n\n"
     ]
    }
   ],
   "source": [
    "# dense rank number over partition \n",
    "df.withColumn(\"dense_rank\",F.dense_rank().over(Window.partitionBy(\"dept\").orderBy(\"salary\"))).show()"
   ]
  },
  {
   "cell_type": "code",
   "execution_count": 0,
   "metadata": {
    "application/vnd.databricks.v1+cell": {
     "cellMetadata": {
      "byteLimit": 2048000,
      "rowLimit": 10000
     },
     "inputWidgets": {},
     "nuid": "706bef79-fc22-4bc6-89b8-c1afcbb3b700",
     "showTitle": false,
     "title": ""
    }
   },
   "outputs": [
    {
     "output_type": "stream",
     "name": "stdout",
     "output_type": "stream",
     "text": [
      "+-------+-----------+------+-------------+-----+\n|   name|       dept|salary|         city|  min|\n+-------+-----------+------+-------------+-----+\n|    Bob|Engineering| 60000|San Francisco|60000|\n|  David|Engineering| 62000|      Seattle|60000|\n|  Grace|Engineering| 65000|       Boston|60000|\n|Jessica|Engineering| 63000|      Atlanta|60000|\n|    Eva|    Finance| 70000|      Chicago|68000|\n|  Frank|    Finance| 75000|      Houston|68000|\n|    Ian|    Finance| 68000|       Dallas|68000|\n|  Alice|         HR| 50000|     New York|48000|\n|Charlie|         HR| 55000|  Los Angeles|48000|\n| Hannah|         HR| 48000|        Miami|48000|\n+-------+-----------+------+-------------+-----+\n\n"
     ]
    }
   ],
   "source": [
    "# min value in group \n",
    "df.withColumn(\"min\",F.min(\"salary\").over(Window.partitionBy(\"dept\"))).show()"
   ]
  },
  {
   "cell_type": "code",
   "execution_count": 0,
   "metadata": {
    "application/vnd.databricks.v1+cell": {
     "cellMetadata": {
      "byteLimit": 2048000,
      "rowLimit": 10000
     },
     "inputWidgets": {},
     "nuid": "3a99946d-7b7d-4d6e-b219-c99a77f4ac13",
     "showTitle": false,
     "title": ""
    }
   },
   "outputs": [
    {
     "output_type": "stream",
     "name": "stdout",
     "output_type": "stream",
     "text": [
      "+-----+\n|  min|\n+-----+\n|48000|\n+-----+\n\n"
     ]
    }
   ],
   "source": [
    "# min value in table \n",
    "df.select(F.min(\"salary\").alias(\"min\")).show()"
   ]
  },
  {
   "cell_type": "code",
   "execution_count": 0,
   "metadata": {
    "application/vnd.databricks.v1+cell": {
     "cellMetadata": {
      "byteLimit": 2048000,
      "rowLimit": 10000
     },
     "inputWidgets": {},
     "nuid": "36cfa8b9-2030-4903-9a3b-358c99f7455c",
     "showTitle": false,
     "title": ""
    }
   },
   "outputs": [
    {
     "output_type": "stream",
     "name": "stdout",
     "output_type": "stream",
     "text": [
      "+-------+-----------+------+-------------+-----+\n|   name|       dept|salary|         city|  max|\n+-------+-----------+------+-------------+-----+\n|    Bob|Engineering| 60000|San Francisco|65000|\n|  David|Engineering| 62000|      Seattle|65000|\n|  Grace|Engineering| 65000|       Boston|65000|\n|Jessica|Engineering| 63000|      Atlanta|65000|\n|    Eva|    Finance| 70000|      Chicago|75000|\n|  Frank|    Finance| 75000|      Houston|75000|\n|    Ian|    Finance| 68000|       Dallas|75000|\n|  Alice|         HR| 50000|     New York|55000|\n|Charlie|         HR| 55000|  Los Angeles|55000|\n| Hannah|         HR| 48000|        Miami|55000|\n+-------+-----------+------+-------------+-----+\n\n"
     ]
    }
   ],
   "source": [
    "# max value in group \n",
    "df.withColumn(\"max\",F.max(\"salary\").over(Window.partitionBy(\"dept\"))).show()"
   ]
  },
  {
   "cell_type": "code",
   "execution_count": 0,
   "metadata": {
    "application/vnd.databricks.v1+cell": {
     "cellMetadata": {
      "byteLimit": 2048000,
      "rowLimit": 10000
     },
     "inputWidgets": {},
     "nuid": "5d146530-3b9b-489e-bbf2-d202a4143b25",
     "showTitle": false,
     "title": ""
    }
   },
   "outputs": [
    {
     "output_type": "stream",
     "name": "stdout",
     "output_type": "stream",
     "text": [
      "+-----+\n|  max|\n+-----+\n|75000|\n+-----+\n\n"
     ]
    }
   ],
   "source": [
    "# max value in table \n",
    "df.select(F.max(\"salary\").alias(\"max\")).show()"
   ]
  }
 ],
 "metadata": {
  "application/vnd.databricks.v1+notebook": {
   "dashboards": [],
   "language": "python",
   "notebookMetadata": {
    "pythonIndentUnit": 4
   },
   "notebookName": "Day 5 (PySpark)",
   "widgets": {}
  }
 },
 "nbformat": 4,
 "nbformat_minor": 0
}
