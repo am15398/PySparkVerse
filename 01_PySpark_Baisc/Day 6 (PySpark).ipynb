{
 "cells": [
  {
   "cell_type": "code",
   "execution_count": 0,
   "metadata": {
    "application/vnd.databricks.v1+cell": {
     "cellMetadata": {
      "byteLimit": 2048000,
      "rowLimit": 10000
     },
     "inputWidgets": {},
     "nuid": "fa4adb36-b00c-40f0-b5d8-876ad9eb0e9d",
     "showTitle": false,
     "title": ""
    }
   },
   "outputs": [],
   "source": [
    "from pyspark.sql import SparkSession\n",
    "from pyspark.sql import functions as F\n",
    "# Create a Spark session\n",
    "spark = SparkSession.builder.appName(\"Day6\").getOrCreate()"
   ]
  },
  {
   "cell_type": "code",
   "execution_count": 0,
   "metadata": {
    "application/vnd.databricks.v1+cell": {
     "cellMetadata": {
      "byteLimit": 2048000,
      "rowLimit": 10000
     },
     "inputWidgets": {},
     "nuid": "3f90c6b1-9755-41b8-a245-bae5a1ad8005",
     "showTitle": false,
     "title": ""
    }
   },
   "outputs": [
    {
     "output_type": "stream",
     "name": "stdout",
     "output_type": "stream",
     "text": [
      "+-------+-----------+------+-----------------+------------+\n|   name|       dept|salary|             city|joining_date|\n+-------+-----------+------+-----------------+------------+\n|  Alice|         HR| 50000|         New York|  2022-01-15|\n|    Bob|Engineering| 60000|    San Francisco|  2021-11-20|\n|Charlie|         HR| 55000|   Los Angeles   |  2022-02-10|\n|  David|Engineering| 62000|          Seattle|  2022-03-05|\n|    Eva|    Finance| 70000|        Chicago  |  2021-09-30|\n|  Frank|    Finance| 75000|          Houston|  2022-04-01|\n|  Grace|Engineering| 65000|           Boston|  2022-01-05|\n| Hannah|         HR| 48000|            Miami|  2021-12-10|\n|    Ian|    Finance| 68000|           Dallas|  2022-02-20|\n|Jessica|Engineering| 63000|          Atlanta|        null|\n+-------+-----------+------+-----------------+------------+\n\n+-------+----------+\n|   name|emp_status|\n+-------+----------+\n|  Alice|    Active|\n|    Bob|  Inactive|\n|Charlie|  Inactive|\n|  David|    Active|\n|    Eva|    Active|\n|  Frank|    Active|\n|   Jess|  Inactive|\n+-------+----------+\n\n"
     ]
    }
   ],
   "source": [
    "# Sample data \n",
    "data = [\n",
    "    (\"Alice\", \"HR\", 50000, \"New York\",\"2022-01-15\"),\n",
    "    (\"Bob\", \"Engineering\", 60000, \"    San Francisco\",\"2021-11-20\"),\n",
    "    (\"Charlie\", \"HR\", 55000, \"Los Angeles   \", \"2022-02-10\"),\n",
    "    (\"David\", \"Engineering\", 62000, \"Seattle\", \"2022-03-05\"),\n",
    "    (\"Eva\", \"Finance\", 70000, \"Chicago  \", \"2021-09-30\"),\n",
    "    (\"Frank\", \"Finance\", 75000, \"Houston\", \"2022-04-01\"),\n",
    "    (\"Grace\", \"Engineering\", 65000, \"Boston\", \"2022-01-05\"),\n",
    "    (\"Hannah\", \"HR\", 48000, \"Miami\", \"2021-12-10\"),\n",
    "    (\"Ian\", \"Finance\", 68000, \"Dallas\", \"2022-02-20\"),\n",
    "    (\"Jessica\", \"Engineering\", 63000, \"Atlanta\",None)\n",
    "]\n",
    "\n",
    "# Define the schema for the DataFrame\n",
    "schema = [\"name\", \"dept\", \"salary\", \"city\",\"joining_date\"]\n",
    "\n",
    "# Create the DataFrame\n",
    "df = spark.createDataFrame(data, schema)\n",
    "\n",
    "df.show()\n",
    "\n",
    "\n",
    "\n",
    "# Sample data \n",
    "j_data = [\n",
    "    (\"Alice\", \"Active\"),\n",
    "    (\"Bob\", \"Inactive\"),\n",
    "    (\"Charlie\", \"Inactive\"),\n",
    "    (\"David\", \"Active\"),\n",
    "    (\"Eva\", \"Active\"),\n",
    "    (\"Frank\", \"Active\"),\n",
    "    (\"Jess\", \"Inactive\")\n",
    "]\n",
    "\n",
    "# Define the schema for the DataFrame\n",
    "j_schema = [\"name\", \"emp_status\"]\n",
    "\n",
    "# Create the DataFrame\n",
    "j_df = spark.createDataFrame(j_data, j_schema)\n",
    "\n",
    "j_df.show()"
   ]
  },
  {
   "cell_type": "code",
   "execution_count": 0,
   "metadata": {
    "application/vnd.databricks.v1+cell": {
     "cellMetadata": {
      "byteLimit": 2048000,
      "rowLimit": 10000
     },
     "inputWidgets": {},
     "nuid": "8b7b7e32-348a-492a-849b-c9ad69b61cc2",
     "showTitle": false,
     "title": ""
    }
   },
   "outputs": [
    {
     "output_type": "stream",
     "name": "stdout",
     "output_type": "stream",
     "text": [
      "+-------+-----------+------+-----------------+------------+----------+\n|   name|       dept|salary|             city|joining_date|emp_status|\n+-------+-----------+------+-----------------+------------+----------+\n|  Alice|         HR| 50000|         New York|  2022-01-15|    Active|\n|    Bob|Engineering| 60000|    San Francisco|  2021-11-20|  Inactive|\n|Charlie|         HR| 55000|   Los Angeles   |  2022-02-10|  Inactive|\n|    Eva|    Finance| 70000|        Chicago  |  2021-09-30|    Active|\n|  David|Engineering| 62000|          Seattle|  2022-03-05|    Active|\n|  Frank|    Finance| 75000|          Houston|  2022-04-01|    Active|\n|  Grace|Engineering| 65000|           Boston|  2022-01-05|      null|\n| Hannah|         HR| 48000|            Miami|  2021-12-10|      null|\n|Jessica|Engineering| 63000|          Atlanta|        null|      null|\n|    Ian|    Finance| 68000|           Dallas|  2022-02-20|      null|\n+-------+-----------+------+-----------------+------------+----------+\n\n"
     ]
    }
   ],
   "source": [
    "# left join\n",
    "df.join(j_df,\"name\",\"left\").show()"
   ]
  },
  {
   "cell_type": "code",
   "execution_count": 0,
   "metadata": {
    "application/vnd.databricks.v1+cell": {
     "cellMetadata": {
      "byteLimit": 2048000,
      "rowLimit": 10000
     },
     "inputWidgets": {},
     "nuid": "8d8aa789-c70e-44e1-97fa-ec376076aaa8",
     "showTitle": false,
     "title": ""
    }
   },
   "outputs": [
    {
     "output_type": "stream",
     "name": "stdout",
     "output_type": "stream",
     "text": [
      "+-------+-----------+------+-----------------+------------+----------+\n|   name|       dept|salary|             city|joining_date|emp_status|\n+-------+-----------+------+-----------------+------------+----------+\n|  Alice|         HR| 50000|         New York|  2022-01-15|    Active|\n|    Bob|Engineering| 60000|    San Francisco|  2021-11-20|  Inactive|\n|Charlie|         HR| 55000|   Los Angeles   |  2022-02-10|  Inactive|\n|  David|Engineering| 62000|          Seattle|  2022-03-05|    Active|\n|    Eva|    Finance| 70000|        Chicago  |  2021-09-30|    Active|\n|  Frank|    Finance| 75000|          Houston|  2022-04-01|    Active|\n|   Jess|       null|  null|             null|        null|  Inactive|\n+-------+-----------+------+-----------------+------------+----------+\n\n"
     ]
    }
   ],
   "source": [
    "# right join\n",
    "df.join(j_df,\"name\",\"right\").show()"
   ]
  },
  {
   "cell_type": "code",
   "execution_count": 0,
   "metadata": {
    "application/vnd.databricks.v1+cell": {
     "cellMetadata": {
      "byteLimit": 2048000,
      "rowLimit": 10000
     },
     "inputWidgets": {},
     "nuid": "86c7bc32-17b1-4292-9013-8d19a8db0bd6",
     "showTitle": false,
     "title": ""
    }
   },
   "outputs": [
    {
     "output_type": "stream",
     "name": "stdout",
     "output_type": "stream",
     "text": [
      "+-------+-----------+------+-----------------+------------+----------+\n|   name|       dept|salary|             city|joining_date|emp_status|\n+-------+-----------+------+-----------------+------------+----------+\n|  Alice|         HR| 50000|         New York|  2022-01-15|    Active|\n|    Bob|Engineering| 60000|    San Francisco|  2021-11-20|  Inactive|\n|Charlie|         HR| 55000|   Los Angeles   |  2022-02-10|  Inactive|\n|  David|Engineering| 62000|          Seattle|  2022-03-05|    Active|\n|    Eva|    Finance| 70000|        Chicago  |  2021-09-30|    Active|\n|  Frank|    Finance| 75000|          Houston|  2022-04-01|    Active|\n|  Grace|Engineering| 65000|           Boston|  2022-01-05|      null|\n| Hannah|         HR| 48000|            Miami|  2021-12-10|      null|\n|    Ian|    Finance| 68000|           Dallas|  2022-02-20|      null|\n|   Jess|       null|  null|             null|        null|  Inactive|\n|Jessica|Engineering| 63000|          Atlanta|        null|      null|\n+-------+-----------+------+-----------------+------------+----------+\n\n"
     ]
    }
   ],
   "source": [
    "# outer join\n",
    "df.join(j_df,\"name\",\"outer\").show()"
   ]
  },
  {
   "cell_type": "code",
   "execution_count": 0,
   "metadata": {
    "application/vnd.databricks.v1+cell": {
     "cellMetadata": {
      "byteLimit": 2048000,
      "rowLimit": 10000
     },
     "inputWidgets": {},
     "nuid": "ba68aba4-6211-43e1-b024-6afcf5f43b75",
     "showTitle": false,
     "title": ""
    }
   },
   "outputs": [
    {
     "output_type": "stream",
     "name": "stdout",
     "output_type": "stream",
     "text": [
      "+-------+---+\n|   dept|cnt|\n+-------+---+\n|     HR|  3|\n|Finance|  3|\n+-------+---+\n\n"
     ]
    }
   ],
   "source": [
    "# group by having\n",
    "df.groupBy(\"dept\").agg(F.count(\"*\").alias(\"cnt\")).filter(F.col(\"cnt\")<4).show()"
   ]
  },
  {
   "cell_type": "code",
   "execution_count": 0,
   "metadata": {
    "application/vnd.databricks.v1+cell": {
     "cellMetadata": {
      "byteLimit": 2048000,
      "rowLimit": 10000
     },
     "inputWidgets": {},
     "nuid": "766703a3-27c5-48c8-b067-d1ad5b55969e",
     "showTitle": false,
     "title": ""
    }
   },
   "outputs": [
    {
     "output_type": "stream",
     "name": "stdout",
     "output_type": "stream",
     "text": [
      "+-----------------+\n|round(new_sal, 2)|\n+-----------------+\n|           6170.0|\n|           7404.0|\n|           6787.0|\n|           7650.8|\n|           8638.0|\n|           9255.0|\n|           8021.0|\n|           5923.2|\n|           8391.2|\n|           7774.2|\n+-----------------+\n\n"
     ]
    }
   ],
   "source": [
    "# round decimal value \n",
    "df.withColumn(\"new_sal\",F.col(\"salary\")*.1234).select(F.round(\"new_sal\",2)).show()"
   ]
  },
  {
   "cell_type": "code",
   "execution_count": 0,
   "metadata": {
    "application/vnd.databricks.v1+cell": {
     "cellMetadata": {
      "byteLimit": 2048000,
      "rowLimit": 10000
     },
     "inputWidgets": {},
     "nuid": "06445ac6-ac44-4145-a47d-2ac775de3c6e",
     "showTitle": false,
     "title": ""
    }
   },
   "outputs": [
    {
     "output_type": "stream",
     "name": "stdout",
     "output_type": "stream",
     "text": [
      "+------------+\n|current_date|\n+------------+\n|  2024-04-08|\n|  2024-04-08|\n|  2024-04-08|\n|  2024-04-08|\n|  2024-04-08|\n|  2024-04-08|\n|  2024-04-08|\n|  2024-04-08|\n|  2024-04-08|\n|  2024-04-08|\n+------------+\n\n"
     ]
    }
   ],
   "source": [
    "# today date\n",
    "df.select(F.current_date().alias(\"current_date\")).show()"
   ]
  },
  {
   "cell_type": "code",
   "execution_count": 0,
   "metadata": {
    "application/vnd.databricks.v1+cell": {
     "cellMetadata": {
      "byteLimit": 2048000,
      "rowLimit": 10000
     },
     "inputWidgets": {},
     "nuid": "fac296d5-44ae-4e1f-bd3d-46ce717c826d",
     "showTitle": false,
     "title": ""
    }
   },
   "outputs": [
    {
     "output_type": "stream",
     "name": "stdout",
     "output_type": "stream",
     "text": [
      "+------------+\n|after_10_day|\n+------------+\n|  2022-01-25|\n|  2021-11-30|\n|  2022-02-20|\n|  2022-03-15|\n|  2021-10-10|\n|  2022-04-11|\n|  2022-01-15|\n|  2021-12-20|\n|  2022-03-02|\n|        null|\n+------------+\n\n"
     ]
    }
   ],
   "source": [
    "# date addition \n",
    "df.select(F.date_add(\"joining_date\",10).alias(\"after_10_day\")).show()"
   ]
  },
  {
   "cell_type": "code",
   "execution_count": 0,
   "metadata": {
    "application/vnd.databricks.v1+cell": {
     "cellMetadata": {
      "byteLimit": 2048000,
      "rowLimit": 10000
     },
     "inputWidgets": {},
     "nuid": "2c5ddc08-82bc-4628-bf8a-814734cddc37",
     "showTitle": false,
     "title": ""
    }
   },
   "outputs": [
    {
     "output_type": "stream",
     "name": "stdout",
     "output_type": "stream",
     "text": [
      "+-----------+\n|prev_10_day|\n+-----------+\n| 2022-01-05|\n| 2021-11-10|\n| 2022-01-31|\n| 2022-02-23|\n| 2021-09-20|\n| 2022-03-22|\n| 2021-12-26|\n| 2021-11-30|\n| 2022-02-10|\n|       null|\n+-----------+\n\n"
     ]
    }
   ],
   "source": [
    "# date substract \n",
    "df.select(F.date_sub(\"joining_date\",10).alias(\"prev_10_day\")).show()"
   ]
  },
  {
   "cell_type": "code",
   "execution_count": 0,
   "metadata": {
    "application/vnd.databricks.v1+cell": {
     "cellMetadata": {
      "byteLimit": 2048000,
      "rowLimit": 10000
     },
     "inputWidgets": {},
     "nuid": "8c0b6af1-0f0c-4c9f-8030-d4dfac840434",
     "showTitle": false,
     "title": ""
    }
   },
   "outputs": [
    {
     "output_type": "stream",
     "name": "stdout",
     "output_type": "stream",
     "text": [
      "+----+\n|year|\n+----+\n|2022|\n|2021|\n|2022|\n|2022|\n|2021|\n|2022|\n|2022|\n|2021|\n|2022|\n|null|\n+----+\n\n"
     ]
    }
   ],
   "source": [
    "# year from date\n",
    "df.select(F.year(\"joining_date\").alias(\"year\")).show()"
   ]
  },
  {
   "cell_type": "code",
   "execution_count": 0,
   "metadata": {
    "application/vnd.databricks.v1+cell": {
     "cellMetadata": {
      "byteLimit": 2048000,
      "rowLimit": 10000
     },
     "inputWidgets": {},
     "nuid": "1fc2e5a3-69b6-474a-9d7e-941c19330bee",
     "showTitle": false,
     "title": ""
    }
   },
   "outputs": [
    {
     "output_type": "stream",
     "name": "stdout",
     "output_type": "stream",
     "text": [
      "+-----+\n|month|\n+-----+\n|    1|\n|   11|\n|    2|\n|    3|\n|    9|\n|    4|\n|    1|\n|   12|\n|    2|\n| null|\n+-----+\n\n"
     ]
    }
   ],
   "source": [
    "# Month from date\n",
    "df.select(F.month(\"joining_date\").alias(\"month\")).show()"
   ]
  },
  {
   "cell_type": "code",
   "execution_count": 0,
   "metadata": {
    "application/vnd.databricks.v1+cell": {
     "cellMetadata": {
      "byteLimit": 2048000,
      "rowLimit": 10000
     },
     "inputWidgets": {},
     "nuid": "5ee9db7a-24f0-46d2-a34d-1114beb06bb7",
     "showTitle": false,
     "title": ""
    }
   },
   "outputs": [
    {
     "output_type": "stream",
     "name": "stdout",
     "output_type": "stream",
     "text": [
      "+----+\n| day|\n+----+\n|  15|\n|  20|\n|  10|\n|   5|\n|  30|\n|   1|\n|   5|\n|  10|\n|  20|\n|null|\n+----+\n\n"
     ]
    }
   ],
   "source": [
    "# Day from date\n",
    "df.select(F.dayofmonth(\"joining_date\").alias(\"day\")).show()"
   ]
  },
  {
   "cell_type": "code",
   "execution_count": 0,
   "metadata": {
    "application/vnd.databricks.v1+cell": {
     "cellMetadata": {
      "byteLimit": 2048000,
      "rowLimit": 10000
     },
     "inputWidgets": {},
     "nuid": "f9233704-5827-4a3c-9391-1da41773600b",
     "showTitle": false,
     "title": ""
    }
   },
   "outputs": [
    {
     "output_type": "stream",
     "name": "stdout",
     "output_type": "stream",
     "text": [
      "+-------+-----------+------+-----------------+------------+\n|   name|       dept|salary|             city|joining_date|\n+-------+-----------+------+-----------------+------------+\n|  Frank|    Finance| 75000|          Houston|  2022-04-01|\n|    Eva|    Finance| 70000|        Chicago  |  2021-09-30|\n|    Ian|    Finance| 68000|           Dallas|  2022-02-20|\n|  Grace|Engineering| 65000|           Boston|  2022-01-05|\n|Jessica|Engineering| 63000|          Atlanta|        null|\n|  David|Engineering| 62000|          Seattle|  2022-03-05|\n|    Bob|Engineering| 60000|    San Francisco|  2021-11-20|\n|Charlie|         HR| 55000|   Los Angeles   |  2022-02-10|\n|  Alice|         HR| 50000|         New York|  2022-01-15|\n| Hannah|         HR| 48000|            Miami|  2021-12-10|\n+-------+-----------+------+-----------------+------------+\n\n"
     ]
    }
   ],
   "source": [
    "# sorting \n",
    "df.orderBy(F.col(\"salary\").desc()).show()"
   ]
  }
 ],
 "metadata": {
  "application/vnd.databricks.v1+notebook": {
   "dashboards": [],
   "language": "python",
   "notebookMetadata": {
    "pythonIndentUnit": 4
   },
   "notebookName": "Day 6 (PySpark)",
   "widgets": {}
  }
 },
 "nbformat": 4,
 "nbformat_minor": 0
}
