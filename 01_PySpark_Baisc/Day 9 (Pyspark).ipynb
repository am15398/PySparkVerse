{
 "cells": [
  {
   "cell_type": "markdown",
   "metadata": {
    "application/vnd.databricks.v1+cell": {
     "cellMetadata": {
      "byteLimit": 2048000,
      "rowLimit": 10000
     },
     "inputWidgets": {},
     "nuid": "62f27861-99c3-4b44-a6f4-e78c2b98b68d",
     "showTitle": false,
     "title": ""
    }
   },
   "source": [
    "<h1><b>Window Functions</b></h1>"
   ]
  },
  {
   "cell_type": "code",
   "execution_count": 0,
   "metadata": {
    "application/vnd.databricks.v1+cell": {
     "cellMetadata": {
      "byteLimit": 2048000,
      "implicitDf": true,
      "rowLimit": 10000
     },
     "inputWidgets": {},
     "nuid": "718ad8ee-40d0-4c00-8190-bc4c21ceed43",
     "showTitle": false,
     "title": ""
    }
   },
   "outputs": [
    {
     "output_type": "display_data",
     "data": {
      "text/html": [
       "<style scoped>\n",
       "  .table-result-container {\n",
       "    max-height: 300px;\n",
       "    overflow: auto;\n",
       "  }\n",
       "  table, th, td {\n",
       "    border: 1px solid black;\n",
       "    border-collapse: collapse;\n",
       "  }\n",
       "  th, td {\n",
       "    padding: 5px;\n",
       "  }\n",
       "  th {\n",
       "    text-align: left;\n",
       "  }\n",
       "</style><div class='table-result-container'><table class='table-result'><thead style='background-color: white'><tr><th>num_affected_rows</th><th>num_inserted_rows</th></tr></thead><tbody><tr><td>1</td><td>1</td></tr></tbody></table></div>"
      ]
     },
     "metadata": {
      "application/vnd.databricks.v1+output": {
       "addedWidgets": {},
       "aggData": [],
       "aggError": "",
       "aggOverflow": false,
       "aggSchema": [],
       "aggSeriesLimitReached": false,
       "aggType": "",
       "arguments": {},
       "columnCustomDisplayInfos": {},
       "data": [
        [
         1,
         1
        ]
       ],
       "datasetInfos": [],
       "dbfsResultPath": null,
       "isJsonSchema": true,
       "metadata": {},
       "overflow": false,
       "plotOptions": {
        "customPlotOptions": {},
        "displayType": "table",
        "pivotAggregation": null,
        "pivotColumns": null,
        "xColumns": null,
        "yColumns": null
       },
       "removedWidgets": [],
       "schema": [
        {
         "metadata": "{}",
         "name": "num_affected_rows",
         "type": "\"long\""
        },
        {
         "metadata": "{}",
         "name": "num_inserted_rows",
         "type": "\"long\""
        }
       ],
       "type": "table"
      }
     },
     "output_type": "display_data"
    }
   ],
   "source": [
    "%sql\n",
    "DROP TABLE IF EXISTS ExamResult;\n",
    "CREATE TABLE ExamResult\n",
    "(StudentName VARCHAR(70), \n",
    " Subject     VARCHAR(20), \n",
    " Marks       INT\n",
    ");\n",
    "INSERT INTO ExamResult VALUES('Lily',  'Maths',  65);\n",
    "INSERT INTO ExamResult VALUES('Lily','Science',80);\n",
    "INSERT INTO ExamResult VALUES('Lily','english',70);\n",
    "INSERT INTO ExamResult VALUES('Isabella','Maths',50);\n",
    "INSERT INTO ExamResult VALUES('Isabella','Science',70);\n",
    "INSERT INTO ExamResult VALUES('Isabella','english',90);\n",
    "INSERT INTO ExamResult VALUES('Olivia','Maths',55);\n",
    "INSERT INTO ExamResult VALUES('Olivia','Science',60);\n",
    "INSERT INTO ExamResult VALUES('Olivia','english',89);"
   ]
  },
  {
   "cell_type": "code",
   "execution_count": 0,
   "metadata": {
    "application/vnd.databricks.v1+cell": {
     "cellMetadata": {
      "byteLimit": 2048000,
      "implicitDf": true,
      "rowLimit": 10000
     },
     "inputWidgets": {},
     "nuid": "09c18c2d-039c-4ebc-b3bc-befe90880854",
     "showTitle": false,
     "title": ""
    }
   },
   "outputs": [
    {
     "output_type": "display_data",
     "data": {
      "text/html": [
       "<style scoped>\n",
       "  .table-result-container {\n",
       "    max-height: 300px;\n",
       "    overflow: auto;\n",
       "  }\n",
       "  table, th, td {\n",
       "    border: 1px solid black;\n",
       "    border-collapse: collapse;\n",
       "  }\n",
       "  th, td {\n",
       "    padding: 5px;\n",
       "  }\n",
       "  th {\n",
       "    text-align: left;\n",
       "  }\n",
       "</style><div class='table-result-container'><table class='table-result'><thead style='background-color: white'><tr><th>StudentName</th><th>Subject</th><th>Marks</th></tr></thead><tbody><tr><td>Isabella</td><td>Science</td><td>70</td></tr><tr><td>Isabella</td><td>english</td><td>90</td></tr><tr><td>Isabella</td><td>Maths</td><td>50</td></tr><tr><td>Olivia</td><td>Science</td><td>60</td></tr><tr><td>Olivia</td><td>english</td><td>89</td></tr><tr><td>Lily</td><td>Science</td><td>80</td></tr><tr><td>Lily</td><td>english</td><td>70</td></tr><tr><td>Olivia</td><td>Maths</td><td>55</td></tr><tr><td>Lily</td><td>Maths</td><td>65</td></tr></tbody></table></div>"
      ]
     },
     "metadata": {
      "application/vnd.databricks.v1+output": {
       "addedWidgets": {},
       "aggData": [],
       "aggError": "",
       "aggOverflow": false,
       "aggSchema": [],
       "aggSeriesLimitReached": false,
       "aggType": "",
       "arguments": {},
       "columnCustomDisplayInfos": {},
       "data": [
        [
         "Isabella",
         "Science",
         70
        ],
        [
         "Isabella",
         "english",
         90
        ],
        [
         "Isabella",
         "Maths",
         50
        ],
        [
         "Olivia",
         "Science",
         60
        ],
        [
         "Olivia",
         "english",
         89
        ],
        [
         "Lily",
         "Science",
         80
        ],
        [
         "Lily",
         "english",
         70
        ],
        [
         "Olivia",
         "Maths",
         55
        ],
        [
         "Lily",
         "Maths",
         65
        ]
       ],
       "datasetInfos": [],
       "dbfsResultPath": null,
       "isJsonSchema": true,
       "metadata": {},
       "overflow": false,
       "plotOptions": {
        "customPlotOptions": {},
        "displayType": "table",
        "pivotAggregation": null,
        "pivotColumns": null,
        "xColumns": null,
        "yColumns": null
       },
       "removedWidgets": [],
       "schema": [
        {
         "metadata": "{\"__CHAR_VARCHAR_TYPE_STRING\":\"varchar(70)\"}",
         "name": "StudentName",
         "type": "\"string\""
        },
        {
         "metadata": "{\"__CHAR_VARCHAR_TYPE_STRING\":\"varchar(20)\"}",
         "name": "Subject",
         "type": "\"string\""
        },
        {
         "metadata": "{}",
         "name": "Marks",
         "type": "\"integer\""
        }
       ],
       "type": "table"
      }
     },
     "output_type": "display_data"
    }
   ],
   "source": [
    "%sql\n",
    "select * from ExamResult"
   ]
  },
  {
   "cell_type": "markdown",
   "metadata": {
    "application/vnd.databricks.v1+cell": {
     "cellMetadata": {
      "byteLimit": 2048000,
      "rowLimit": 10000
     },
     "inputWidgets": {},
     "nuid": "335a8a39-542a-4505-903d-448f7d04ae2c",
     "showTitle": false,
     "title": ""
    }
   },
   "source": [
    "<h2><b> Aggregate</b></h2>"
   ]
  },
  {
   "cell_type": "markdown",
   "metadata": {
    "application/vnd.databricks.v1+cell": {
     "cellMetadata": {
      "byteLimit": 2048000,
      "rowLimit": 10000
     },
     "inputWidgets": {},
     "nuid": "788ad7f5-1104-45e1-94a2-68716350a505",
     "showTitle": false,
     "title": ""
    }
   },
   "source": [
    "<h3><b>AVG()</b></h3>"
   ]
  },
  {
   "cell_type": "code",
   "execution_count": 0,
   "metadata": {
    "application/vnd.databricks.v1+cell": {
     "cellMetadata": {
      "byteLimit": 2048000,
      "implicitDf": true,
      "rowLimit": 10000
     },
     "inputWidgets": {},
     "nuid": "3c13bbf8-3880-4b05-abda-50d2cb5bc3b7",
     "showTitle": false,
     "title": ""
    }
   },
   "outputs": [
    {
     "output_type": "display_data",
     "data": {
      "text/html": [
       "<style scoped>\n",
       "  .table-result-container {\n",
       "    max-height: 300px;\n",
       "    overflow: auto;\n",
       "  }\n",
       "  table, th, td {\n",
       "    border: 1px solid black;\n",
       "    border-collapse: collapse;\n",
       "  }\n",
       "  th, td {\n",
       "    padding: 5px;\n",
       "  }\n",
       "  th {\n",
       "    text-align: left;\n",
       "  }\n",
       "</style><div class='table-result-container'><table class='table-result'><thead style='background-color: white'><tr><th>StudentName</th><th>Subject</th><th>Marks</th><th>GROUP_AVG</th><th>running_GROUP_AVG</th></tr></thead><tbody><tr><td>Isabella</td><td>Maths</td><td>50</td><td>56.666666666666664</td><td>50.0</td></tr><tr><td>Olivia</td><td>Maths</td><td>55</td><td>56.666666666666664</td><td>52.5</td></tr><tr><td>Lily</td><td>Maths</td><td>65</td><td>56.666666666666664</td><td>56.666666666666664</td></tr><tr><td>Olivia</td><td>Science</td><td>60</td><td>70.0</td><td>60.0</td></tr><tr><td>Isabella</td><td>Science</td><td>70</td><td>70.0</td><td>65.0</td></tr><tr><td>Lily</td><td>Science</td><td>80</td><td>70.0</td><td>70.0</td></tr><tr><td>Lily</td><td>english</td><td>70</td><td>83.0</td><td>70.0</td></tr><tr><td>Olivia</td><td>english</td><td>89</td><td>83.0</td><td>79.5</td></tr><tr><td>Isabella</td><td>english</td><td>90</td><td>83.0</td><td>83.0</td></tr></tbody></table></div>"
      ]
     },
     "metadata": {
      "application/vnd.databricks.v1+output": {
       "addedWidgets": {},
       "aggData": [],
       "aggError": "",
       "aggOverflow": false,
       "aggSchema": [],
       "aggSeriesLimitReached": false,
       "aggType": "",
       "arguments": {},
       "columnCustomDisplayInfos": {},
       "data": [
        [
         "Isabella",
         "Maths",
         50,
         56.666666666666664,
         50.0
        ],
        [
         "Olivia",
         "Maths",
         55,
         56.666666666666664,
         52.5
        ],
        [
         "Lily",
         "Maths",
         65,
         56.666666666666664,
         56.666666666666664
        ],
        [
         "Olivia",
         "Science",
         60,
         70.0,
         60.0
        ],
        [
         "Isabella",
         "Science",
         70,
         70.0,
         65.0
        ],
        [
         "Lily",
         "Science",
         80,
         70.0,
         70.0
        ],
        [
         "Lily",
         "english",
         70,
         83.0,
         70.0
        ],
        [
         "Olivia",
         "english",
         89,
         83.0,
         79.5
        ],
        [
         "Isabella",
         "english",
         90,
         83.0,
         83.0
        ]
       ],
       "datasetInfos": [],
       "dbfsResultPath": null,
       "isJsonSchema": true,
       "metadata": {},
       "overflow": false,
       "plotOptions": {
        "customPlotOptions": {},
        "displayType": "table",
        "pivotAggregation": null,
        "pivotColumns": null,
        "xColumns": null,
        "yColumns": null
       },
       "removedWidgets": [],
       "schema": [
        {
         "metadata": "{\"__CHAR_VARCHAR_TYPE_STRING\":\"varchar(70)\"}",
         "name": "StudentName",
         "type": "\"string\""
        },
        {
         "metadata": "{\"__CHAR_VARCHAR_TYPE_STRING\":\"varchar(20)\"}",
         "name": "Subject",
         "type": "\"string\""
        },
        {
         "metadata": "{}",
         "name": "Marks",
         "type": "\"integer\""
        },
        {
         "metadata": "{}",
         "name": "GROUP_AVG",
         "type": "\"double\""
        },
        {
         "metadata": "{}",
         "name": "running_GROUP_AVG",
         "type": "\"double\""
        }
       ],
       "type": "table"
      }
     },
     "output_type": "display_data"
    }
   ],
   "source": [
    "%sql\n",
    "SELECT StudentName,Subject,Marks,\n",
    "    AVG(Marks) OVER ( PARTITION BY Subject ) AS GROUP_AVG,\n",
    "    AVG(Marks) OVER ( PARTITION BY Subject order by Marks) AS running_GROUP_AVG\n",
    "FROM\n",
    "    ExamResult ORDER BY Subject;"
   ]
  },
  {
   "cell_type": "markdown",
   "metadata": {
    "application/vnd.databricks.v1+cell": {
     "cellMetadata": {
      "byteLimit": 2048000,
      "rowLimit": 10000
     },
     "inputWidgets": {},
     "nuid": "3ce66830-6c68-4fe6-be02-24be8d43224b",
     "showTitle": false,
     "title": ""
    }
   },
   "source": [
    "<h3><b>MAX()</b></h3>"
   ]
  },
  {
   "cell_type": "code",
   "execution_count": 0,
   "metadata": {
    "application/vnd.databricks.v1+cell": {
     "cellMetadata": {
      "byteLimit": 2048000,
      "implicitDf": true,
      "rowLimit": 10000
     },
     "inputWidgets": {},
     "nuid": "691fe72d-1a48-447b-a45b-a6a58008d2af",
     "showTitle": false,
     "title": ""
    }
   },
   "outputs": [
    {
     "output_type": "display_data",
     "data": {
      "text/html": [
       "<style scoped>\n",
       "  .table-result-container {\n",
       "    max-height: 300px;\n",
       "    overflow: auto;\n",
       "  }\n",
       "  table, th, td {\n",
       "    border: 1px solid black;\n",
       "    border-collapse: collapse;\n",
       "  }\n",
       "  th, td {\n",
       "    padding: 5px;\n",
       "  }\n",
       "  th {\n",
       "    text-align: left;\n",
       "  }\n",
       "</style><div class='table-result-container'><table class='table-result'><thead style='background-color: white'><tr><th>StudentName</th><th>Subject</th><th>Marks</th><th>GROUP_MAX</th><th>running_GROUP_MAX</th></tr></thead><tbody><tr><td>Isabella</td><td>Maths</td><td>50</td><td>65</td><td>50</td></tr><tr><td>Olivia</td><td>Maths</td><td>55</td><td>65</td><td>55</td></tr><tr><td>Lily</td><td>Maths</td><td>65</td><td>65</td><td>65</td></tr><tr><td>Olivia</td><td>Science</td><td>60</td><td>80</td><td>60</td></tr><tr><td>Isabella</td><td>Science</td><td>70</td><td>80</td><td>70</td></tr><tr><td>Lily</td><td>Science</td><td>80</td><td>80</td><td>80</td></tr><tr><td>Lily</td><td>english</td><td>70</td><td>90</td><td>70</td></tr><tr><td>Olivia</td><td>english</td><td>89</td><td>90</td><td>89</td></tr><tr><td>Isabella</td><td>english</td><td>90</td><td>90</td><td>90</td></tr></tbody></table></div>"
      ]
     },
     "metadata": {
      "application/vnd.databricks.v1+output": {
       "addedWidgets": {},
       "aggData": [],
       "aggError": "",
       "aggOverflow": false,
       "aggSchema": [],
       "aggSeriesLimitReached": false,
       "aggType": "",
       "arguments": {},
       "columnCustomDisplayInfos": {},
       "data": [
        [
         "Isabella",
         "Maths",
         50,
         65,
         50
        ],
        [
         "Olivia",
         "Maths",
         55,
         65,
         55
        ],
        [
         "Lily",
         "Maths",
         65,
         65,
         65
        ],
        [
         "Olivia",
         "Science",
         60,
         80,
         60
        ],
        [
         "Isabella",
         "Science",
         70,
         80,
         70
        ],
        [
         "Lily",
         "Science",
         80,
         80,
         80
        ],
        [
         "Lily",
         "english",
         70,
         90,
         70
        ],
        [
         "Olivia",
         "english",
         89,
         90,
         89
        ],
        [
         "Isabella",
         "english",
         90,
         90,
         90
        ]
       ],
       "datasetInfos": [],
       "dbfsResultPath": null,
       "isJsonSchema": true,
       "metadata": {},
       "overflow": false,
       "plotOptions": {
        "customPlotOptions": {},
        "displayType": "table",
        "pivotAggregation": null,
        "pivotColumns": null,
        "xColumns": null,
        "yColumns": null
       },
       "removedWidgets": [],
       "schema": [
        {
         "metadata": "{\"__CHAR_VARCHAR_TYPE_STRING\":\"varchar(70)\"}",
         "name": "StudentName",
         "type": "\"string\""
        },
        {
         "metadata": "{\"__CHAR_VARCHAR_TYPE_STRING\":\"varchar(20)\"}",
         "name": "Subject",
         "type": "\"string\""
        },
        {
         "metadata": "{}",
         "name": "Marks",
         "type": "\"integer\""
        },
        {
         "metadata": "{}",
         "name": "GROUP_MAX",
         "type": "\"integer\""
        },
        {
         "metadata": "{}",
         "name": "running_GROUP_MAX",
         "type": "\"integer\""
        }
       ],
       "type": "table"
      }
     },
     "output_type": "display_data"
    }
   ],
   "source": [
    "%sql\n",
    "SELECT StudentName,Subject,Marks,\n",
    "    MAX(Marks) OVER ( PARTITION BY Subject  ) AS GROUP_MAX,\n",
    "    MAX(Marks) OVER ( PARTITION BY Subject ORDER BY Marks  ) AS running_GROUP_MAX\n",
    "FROM\n",
    "    ExamResult ORDER BY Subject;"
   ]
  },
  {
   "cell_type": "markdown",
   "metadata": {
    "application/vnd.databricks.v1+cell": {
     "cellMetadata": {
      "byteLimit": 2048000,
      "rowLimit": 10000
     },
     "inputWidgets": {},
     "nuid": "667b1d64-8295-4f4e-9e6e-e52bae45fb71",
     "showTitle": false,
     "title": ""
    }
   },
   "source": [
    "<h3><b>MIN()</b></h3>"
   ]
  },
  {
   "cell_type": "code",
   "execution_count": 0,
   "metadata": {
    "application/vnd.databricks.v1+cell": {
     "cellMetadata": {
      "byteLimit": 2048000,
      "implicitDf": true,
      "rowLimit": 10000
     },
     "inputWidgets": {},
     "nuid": "a3e6ed3b-8862-4cae-a748-c2bf5fb24574",
     "showTitle": false,
     "title": ""
    }
   },
   "outputs": [
    {
     "output_type": "display_data",
     "data": {
      "text/html": [
       "<style scoped>\n",
       "  .table-result-container {\n",
       "    max-height: 300px;\n",
       "    overflow: auto;\n",
       "  }\n",
       "  table, th, td {\n",
       "    border: 1px solid black;\n",
       "    border-collapse: collapse;\n",
       "  }\n",
       "  th, td {\n",
       "    padding: 5px;\n",
       "  }\n",
       "  th {\n",
       "    text-align: left;\n",
       "  }\n",
       "</style><div class='table-result-container'><table class='table-result'><thead style='background-color: white'><tr><th>StudentName</th><th>Subject</th><th>Marks</th><th>GROUP_MIN</th><th>running_GROUP_MIN</th></tr></thead><tbody><tr><td>Isabella</td><td>Maths</td><td>50</td><td>50</td><td>50</td></tr><tr><td>Olivia</td><td>Maths</td><td>55</td><td>50</td><td>50</td></tr><tr><td>Lily</td><td>Maths</td><td>65</td><td>50</td><td>50</td></tr><tr><td>Olivia</td><td>Science</td><td>60</td><td>60</td><td>60</td></tr><tr><td>Isabella</td><td>Science</td><td>70</td><td>60</td><td>60</td></tr><tr><td>Lily</td><td>Science</td><td>80</td><td>60</td><td>60</td></tr><tr><td>Lily</td><td>english</td><td>70</td><td>70</td><td>70</td></tr><tr><td>Olivia</td><td>english</td><td>89</td><td>70</td><td>70</td></tr><tr><td>Isabella</td><td>english</td><td>90</td><td>70</td><td>70</td></tr></tbody></table></div>"
      ]
     },
     "metadata": {
      "application/vnd.databricks.v1+output": {
       "addedWidgets": {},
       "aggData": [],
       "aggError": "",
       "aggOverflow": false,
       "aggSchema": [],
       "aggSeriesLimitReached": false,
       "aggType": "",
       "arguments": {},
       "columnCustomDisplayInfos": {},
       "data": [
        [
         "Isabella",
         "Maths",
         50,
         50,
         50
        ],
        [
         "Olivia",
         "Maths",
         55,
         50,
         50
        ],
        [
         "Lily",
         "Maths",
         65,
         50,
         50
        ],
        [
         "Olivia",
         "Science",
         60,
         60,
         60
        ],
        [
         "Isabella",
         "Science",
         70,
         60,
         60
        ],
        [
         "Lily",
         "Science",
         80,
         60,
         60
        ],
        [
         "Lily",
         "english",
         70,
         70,
         70
        ],
        [
         "Olivia",
         "english",
         89,
         70,
         70
        ],
        [
         "Isabella",
         "english",
         90,
         70,
         70
        ]
       ],
       "datasetInfos": [],
       "dbfsResultPath": null,
       "isJsonSchema": true,
       "metadata": {},
       "overflow": false,
       "plotOptions": {
        "customPlotOptions": {},
        "displayType": "table",
        "pivotAggregation": null,
        "pivotColumns": null,
        "xColumns": null,
        "yColumns": null
       },
       "removedWidgets": [],
       "schema": [
        {
         "metadata": "{\"__CHAR_VARCHAR_TYPE_STRING\":\"varchar(70)\"}",
         "name": "StudentName",
         "type": "\"string\""
        },
        {
         "metadata": "{\"__CHAR_VARCHAR_TYPE_STRING\":\"varchar(20)\"}",
         "name": "Subject",
         "type": "\"string\""
        },
        {
         "metadata": "{}",
         "name": "Marks",
         "type": "\"integer\""
        },
        {
         "metadata": "{}",
         "name": "GROUP_MIN",
         "type": "\"integer\""
        },
        {
         "metadata": "{}",
         "name": "running_GROUP_MIN",
         "type": "\"integer\""
        }
       ],
       "type": "table"
      }
     },
     "output_type": "display_data"
    }
   ],
   "source": [
    "%sql\n",
    "SELECT StudentName,Subject,Marks,\n",
    "    MIN(Marks) OVER ( PARTITION BY Subject ) AS GROUP_MIN,\n",
    "    MIN(Marks) OVER ( PARTITION BY Subject ORDER BY Marks) AS running_GROUP_MIN\n",
    "FROM\n",
    "    ExamResult ORDER BY Subject;"
   ]
  },
  {
   "cell_type": "markdown",
   "metadata": {
    "application/vnd.databricks.v1+cell": {
     "cellMetadata": {
      "byteLimit": 2048000,
      "rowLimit": 10000
     },
     "inputWidgets": {},
     "nuid": "8eb0349b-398e-461c-852c-8e991e5630e2",
     "showTitle": false,
     "title": ""
    }
   },
   "source": [
    "<h3><b>SUM()</b></h3>"
   ]
  },
  {
   "cell_type": "code",
   "execution_count": 0,
   "metadata": {
    "application/vnd.databricks.v1+cell": {
     "cellMetadata": {
      "byteLimit": 2048000,
      "implicitDf": true,
      "rowLimit": 10000
     },
     "inputWidgets": {},
     "nuid": "cbb1b7ed-0e74-4ed2-a5f7-e20e87a29dda",
     "showTitle": false,
     "title": ""
    }
   },
   "outputs": [
    {
     "output_type": "display_data",
     "data": {
      "text/html": [
       "<style scoped>\n",
       "  .table-result-container {\n",
       "    max-height: 300px;\n",
       "    overflow: auto;\n",
       "  }\n",
       "  table, th, td {\n",
       "    border: 1px solid black;\n",
       "    border-collapse: collapse;\n",
       "  }\n",
       "  th, td {\n",
       "    padding: 5px;\n",
       "  }\n",
       "  th {\n",
       "    text-align: left;\n",
       "  }\n",
       "</style><div class='table-result-container'><table class='table-result'><thead style='background-color: white'><tr><th>StudentName</th><th>Subject</th><th>Marks</th><th>GROUP_SUM</th><th>RUNNING_GROUP_SUM</th></tr></thead><tbody><tr><td>Isabella</td><td>Maths</td><td>50</td><td>170</td><td>50</td></tr><tr><td>Olivia</td><td>Maths</td><td>55</td><td>170</td><td>105</td></tr><tr><td>Lily</td><td>Maths</td><td>65</td><td>170</td><td>170</td></tr><tr><td>Olivia</td><td>Science</td><td>60</td><td>210</td><td>60</td></tr><tr><td>Isabella</td><td>Science</td><td>70</td><td>210</td><td>130</td></tr><tr><td>Lily</td><td>Science</td><td>80</td><td>210</td><td>210</td></tr><tr><td>Lily</td><td>english</td><td>70</td><td>249</td><td>70</td></tr><tr><td>Olivia</td><td>english</td><td>89</td><td>249</td><td>159</td></tr><tr><td>Isabella</td><td>english</td><td>90</td><td>249</td><td>249</td></tr></tbody></table></div>"
      ]
     },
     "metadata": {
      "application/vnd.databricks.v1+output": {
       "addedWidgets": {},
       "aggData": [],
       "aggError": "",
       "aggOverflow": false,
       "aggSchema": [],
       "aggSeriesLimitReached": false,
       "aggType": "",
       "arguments": {},
       "columnCustomDisplayInfos": {},
       "data": [
        [
         "Isabella",
         "Maths",
         50,
         170,
         50
        ],
        [
         "Olivia",
         "Maths",
         55,
         170,
         105
        ],
        [
         "Lily",
         "Maths",
         65,
         170,
         170
        ],
        [
         "Olivia",
         "Science",
         60,
         210,
         60
        ],
        [
         "Isabella",
         "Science",
         70,
         210,
         130
        ],
        [
         "Lily",
         "Science",
         80,
         210,
         210
        ],
        [
         "Lily",
         "english",
         70,
         249,
         70
        ],
        [
         "Olivia",
         "english",
         89,
         249,
         159
        ],
        [
         "Isabella",
         "english",
         90,
         249,
         249
        ]
       ],
       "datasetInfos": [],
       "dbfsResultPath": null,
       "isJsonSchema": true,
       "metadata": {},
       "overflow": false,
       "plotOptions": {
        "customPlotOptions": {},
        "displayType": "table",
        "pivotAggregation": null,
        "pivotColumns": null,
        "xColumns": null,
        "yColumns": null
       },
       "removedWidgets": [],
       "schema": [
        {
         "metadata": "{\"__CHAR_VARCHAR_TYPE_STRING\":\"varchar(70)\"}",
         "name": "StudentName",
         "type": "\"string\""
        },
        {
         "metadata": "{\"__CHAR_VARCHAR_TYPE_STRING\":\"varchar(20)\"}",
         "name": "Subject",
         "type": "\"string\""
        },
        {
         "metadata": "{}",
         "name": "Marks",
         "type": "\"integer\""
        },
        {
         "metadata": "{}",
         "name": "GROUP_SUM",
         "type": "\"long\""
        },
        {
         "metadata": "{}",
         "name": "RUNNING_GROUP_SUM",
         "type": "\"long\""
        }
       ],
       "type": "table"
      }
     },
     "output_type": "display_data"
    }
   ],
   "source": [
    "%sql\n",
    "SELECT StudentName,Subject,Marks,\n",
    "    SUM(Marks) OVER ( PARTITION BY Subject ) AS GROUP_SUM,\n",
    "    SUM(Marks) OVER ( PARTITION BY Subject ORDER BY Marks) AS RUNNING_GROUP_SUM\n",
    "FROM\n",
    "    ExamResult ORDER BY Subject;"
   ]
  },
  {
   "cell_type": "markdown",
   "metadata": {
    "application/vnd.databricks.v1+cell": {
     "cellMetadata": {
      "byteLimit": 2048000,
      "rowLimit": 10000
     },
     "inputWidgets": {},
     "nuid": "882a869d-1b2c-424b-9702-0dc7fac55019",
     "showTitle": false,
     "title": ""
    }
   },
   "source": [
    "<h3><b>COUNT()</b></h3>"
   ]
  },
  {
   "cell_type": "code",
   "execution_count": 0,
   "metadata": {
    "application/vnd.databricks.v1+cell": {
     "cellMetadata": {
      "byteLimit": 2048000,
      "implicitDf": true,
      "rowLimit": 10000
     },
     "inputWidgets": {},
     "nuid": "88ddfa25-5eaa-4be9-9e50-c716ab805f45",
     "showTitle": false,
     "title": ""
    }
   },
   "outputs": [
    {
     "output_type": "display_data",
     "data": {
      "text/html": [
       "<style scoped>\n",
       "  .table-result-container {\n",
       "    max-height: 300px;\n",
       "    overflow: auto;\n",
       "  }\n",
       "  table, th, td {\n",
       "    border: 1px solid black;\n",
       "    border-collapse: collapse;\n",
       "  }\n",
       "  th, td {\n",
       "    padding: 5px;\n",
       "  }\n",
       "  th {\n",
       "    text-align: left;\n",
       "  }\n",
       "</style><div class='table-result-container'><table class='table-result'><thead style='background-color: white'><tr><th>StudentName</th><th>Subject</th><th>Marks</th><th>GROUP_COUNT</th><th>RUNNING_GROUP_COUNT</th></tr></thead><tbody><tr><td>Isabella</td><td>Maths</td><td>50</td><td>3</td><td>1</td></tr><tr><td>Olivia</td><td>Maths</td><td>55</td><td>3</td><td>2</td></tr><tr><td>Lily</td><td>Maths</td><td>65</td><td>3</td><td>3</td></tr><tr><td>Olivia</td><td>Science</td><td>60</td><td>3</td><td>1</td></tr><tr><td>Isabella</td><td>Science</td><td>70</td><td>3</td><td>2</td></tr><tr><td>Lily</td><td>Science</td><td>80</td><td>3</td><td>3</td></tr><tr><td>Lily</td><td>english</td><td>70</td><td>3</td><td>1</td></tr><tr><td>Olivia</td><td>english</td><td>89</td><td>3</td><td>2</td></tr><tr><td>Isabella</td><td>english</td><td>90</td><td>3</td><td>3</td></tr></tbody></table></div>"
      ]
     },
     "metadata": {
      "application/vnd.databricks.v1+output": {
       "addedWidgets": {},
       "aggData": [],
       "aggError": "",
       "aggOverflow": false,
       "aggSchema": [],
       "aggSeriesLimitReached": false,
       "aggType": "",
       "arguments": {},
       "columnCustomDisplayInfos": {},
       "data": [
        [
         "Isabella",
         "Maths",
         50,
         3,
         1
        ],
        [
         "Olivia",
         "Maths",
         55,
         3,
         2
        ],
        [
         "Lily",
         "Maths",
         65,
         3,
         3
        ],
        [
         "Olivia",
         "Science",
         60,
         3,
         1
        ],
        [
         "Isabella",
         "Science",
         70,
         3,
         2
        ],
        [
         "Lily",
         "Science",
         80,
         3,
         3
        ],
        [
         "Lily",
         "english",
         70,
         3,
         1
        ],
        [
         "Olivia",
         "english",
         89,
         3,
         2
        ],
        [
         "Isabella",
         "english",
         90,
         3,
         3
        ]
       ],
       "datasetInfos": [],
       "dbfsResultPath": null,
       "isJsonSchema": true,
       "metadata": {},
       "overflow": false,
       "plotOptions": {
        "customPlotOptions": {},
        "displayType": "table",
        "pivotAggregation": null,
        "pivotColumns": null,
        "xColumns": null,
        "yColumns": null
       },
       "removedWidgets": [],
       "schema": [
        {
         "metadata": "{\"__CHAR_VARCHAR_TYPE_STRING\":\"varchar(70)\"}",
         "name": "StudentName",
         "type": "\"string\""
        },
        {
         "metadata": "{\"__CHAR_VARCHAR_TYPE_STRING\":\"varchar(20)\"}",
         "name": "Subject",
         "type": "\"string\""
        },
        {
         "metadata": "{}",
         "name": "Marks",
         "type": "\"integer\""
        },
        {
         "metadata": "{}",
         "name": "GROUP_COUNT",
         "type": "\"long\""
        },
        {
         "metadata": "{}",
         "name": "RUNNING_GROUP_COUNT",
         "type": "\"long\""
        }
       ],
       "type": "table"
      }
     },
     "output_type": "display_data"
    }
   ],
   "source": [
    "%sql\n",
    "SELECT StudentName,Subject,Marks,\n",
    "    COUNT(Marks) OVER ( PARTITION BY Subject ) AS GROUP_COUNT,\n",
    "    COUNT(Marks) OVER ( PARTITION BY Subject ORDER BY MARKS) AS RUNNING_GROUP_COUNT\n",
    "FROM\n",
    "    ExamResult ORDER BY Subject;"
   ]
  },
  {
   "cell_type": "markdown",
   "metadata": {
    "application/vnd.databricks.v1+cell": {
     "cellMetadata": {
      "byteLimit": 2048000,
      "rowLimit": 10000
     },
     "inputWidgets": {},
     "nuid": "8ec59b89-a623-4aee-9c29-c73edb5b7e83",
     "showTitle": false,
     "title": ""
    }
   },
   "source": [
    "<h2><b>RANKING</b></h2>"
   ]
  },
  {
   "cell_type": "markdown",
   "metadata": {
    "application/vnd.databricks.v1+cell": {
     "cellMetadata": {
      "byteLimit": 2048000,
      "rowLimit": 10000
     },
     "inputWidgets": {},
     "nuid": "88ffd16a-098c-4de2-988c-6afb3b93a3e0",
     "showTitle": false,
     "title": ""
    }
   },
   "source": [
    "<h3><b>ROW_NUMBER</b></h3>"
   ]
  },
  {
   "cell_type": "code",
   "execution_count": 0,
   "metadata": {
    "application/vnd.databricks.v1+cell": {
     "cellMetadata": {
      "byteLimit": 2048000,
      "implicitDf": true,
      "rowLimit": 10000
     },
     "inputWidgets": {},
     "nuid": "9ff3e7ee-83d7-4964-a743-382f04e69f75",
     "showTitle": false,
     "title": ""
    }
   },
   "outputs": [
    {
     "output_type": "display_data",
     "data": {
      "text/html": [
       "<style scoped>\n",
       "  .table-result-container {\n",
       "    max-height: 300px;\n",
       "    overflow: auto;\n",
       "  }\n",
       "  table, th, td {\n",
       "    border: 1px solid black;\n",
       "    border-collapse: collapse;\n",
       "  }\n",
       "  th, td {\n",
       "    padding: 5px;\n",
       "  }\n",
       "  th {\n",
       "    text-align: left;\n",
       "  }\n",
       "</style><div class='table-result-container'><table class='table-result'><thead style='background-color: white'><tr><th>StudentName</th><th>Subject</th><th>Marks</th><th>ROW_NUMBER</th><th>ROW_GROUP_NUMBER</th></tr></thead><tbody><tr><td>Isabella</td><td>Maths</td><td>50</td><td>1</td><td>1</td></tr><tr><td>Olivia</td><td>Maths</td><td>55</td><td>2</td><td>2</td></tr><tr><td>Olivia</td><td>Science</td><td>60</td><td>3</td><td>1</td></tr><tr><td>Lily</td><td>Maths</td><td>65</td><td>4</td><td>3</td></tr><tr><td>Isabella</td><td>Science</td><td>70</td><td>5</td><td>2</td></tr><tr><td>Lily</td><td>english</td><td>70</td><td>6</td><td>1</td></tr><tr><td>Lily</td><td>Science</td><td>80</td><td>7</td><td>3</td></tr><tr><td>Olivia</td><td>english</td><td>89</td><td>8</td><td>2</td></tr><tr><td>Isabella</td><td>english</td><td>90</td><td>9</td><td>3</td></tr></tbody></table></div>"
      ]
     },
     "metadata": {
      "application/vnd.databricks.v1+output": {
       "addedWidgets": {},
       "aggData": [],
       "aggError": "",
       "aggOverflow": false,
       "aggSchema": [],
       "aggSeriesLimitReached": false,
       "aggType": "",
       "arguments": {},
       "columnCustomDisplayInfos": {},
       "data": [
        [
         "Isabella",
         "Maths",
         50,
         1,
         1
        ],
        [
         "Olivia",
         "Maths",
         55,
         2,
         2
        ],
        [
         "Olivia",
         "Science",
         60,
         3,
         1
        ],
        [
         "Lily",
         "Maths",
         65,
         4,
         3
        ],
        [
         "Isabella",
         "Science",
         70,
         5,
         2
        ],
        [
         "Lily",
         "english",
         70,
         6,
         1
        ],
        [
         "Lily",
         "Science",
         80,
         7,
         3
        ],
        [
         "Olivia",
         "english",
         89,
         8,
         2
        ],
        [
         "Isabella",
         "english",
         90,
         9,
         3
        ]
       ],
       "datasetInfos": [],
       "dbfsResultPath": null,
       "isJsonSchema": true,
       "metadata": {},
       "overflow": false,
       "plotOptions": {
        "customPlotOptions": {},
        "displayType": "table",
        "pivotAggregation": null,
        "pivotColumns": null,
        "xColumns": null,
        "yColumns": null
       },
       "removedWidgets": [],
       "schema": [
        {
         "metadata": "{\"__CHAR_VARCHAR_TYPE_STRING\":\"varchar(70)\"}",
         "name": "StudentName",
         "type": "\"string\""
        },
        {
         "metadata": "{\"__CHAR_VARCHAR_TYPE_STRING\":\"varchar(20)\"}",
         "name": "Subject",
         "type": "\"string\""
        },
        {
         "metadata": "{}",
         "name": "Marks",
         "type": "\"integer\""
        },
        {
         "metadata": "{}",
         "name": "ROW_NUMBER",
         "type": "\"integer\""
        },
        {
         "metadata": "{}",
         "name": "ROW_GROUP_NUMBER",
         "type": "\"integer\""
        }
       ],
       "type": "table"
      }
     },
     "output_type": "display_data"
    }
   ],
   "source": [
    "%sql\n",
    "SELECT StudentName,Subject,Marks,\n",
    "    row_number() OVER (  ORDER BY MARKS) AS ROW_NUMBER,\n",
    "    row_number() OVER ( PARTITION BY Subject ORDER BY MARKS) AS ROW_GROUP_NUMBER\n",
    "FROM\n",
    "    ExamResult ORDER BY MARKS;"
   ]
  },
  {
   "cell_type": "markdown",
   "metadata": {
    "application/vnd.databricks.v1+cell": {
     "cellMetadata": {
      "byteLimit": 2048000,
      "rowLimit": 10000
     },
     "inputWidgets": {},
     "nuid": "6f70ec6c-65c0-4f8a-9f9a-5693ed0eaba1",
     "showTitle": false,
     "title": ""
    }
   },
   "source": [
    "<h3><b>RANK</b></h3>"
   ]
  },
  {
   "cell_type": "code",
   "execution_count": 0,
   "metadata": {
    "application/vnd.databricks.v1+cell": {
     "cellMetadata": {
      "byteLimit": 2048000,
      "implicitDf": true,
      "rowLimit": 10000
     },
     "inputWidgets": {},
     "nuid": "67c3b7e0-408d-4ddd-be8f-36257bf19f04",
     "showTitle": false,
     "title": ""
    }
   },
   "outputs": [
    {
     "output_type": "display_data",
     "data": {
      "text/html": [
       "<style scoped>\n",
       "  .table-result-container {\n",
       "    max-height: 300px;\n",
       "    overflow: auto;\n",
       "  }\n",
       "  table, th, td {\n",
       "    border: 1px solid black;\n",
       "    border-collapse: collapse;\n",
       "  }\n",
       "  th, td {\n",
       "    padding: 5px;\n",
       "  }\n",
       "  th {\n",
       "    text-align: left;\n",
       "  }\n",
       "</style><div class='table-result-container'><table class='table-result'><thead style='background-color: white'><tr><th>StudentName</th><th>Subject</th><th>Marks</th><th>RANK</th><th>RANK_GROUP</th></tr></thead><tbody><tr><td>Isabella</td><td>Maths</td><td>50</td><td>1</td><td>1</td></tr><tr><td>Olivia</td><td>Maths</td><td>55</td><td>2</td><td>2</td></tr><tr><td>Olivia</td><td>Science</td><td>60</td><td>3</td><td>1</td></tr><tr><td>Lily</td><td>Maths</td><td>65</td><td>4</td><td>3</td></tr><tr><td>Isabella</td><td>Science</td><td>70</td><td>5</td><td>2</td></tr><tr><td>Lily</td><td>english</td><td>70</td><td>5</td><td>1</td></tr><tr><td>Lily</td><td>Science</td><td>80</td><td>7</td><td>3</td></tr><tr><td>Olivia</td><td>english</td><td>89</td><td>8</td><td>2</td></tr><tr><td>Isabella</td><td>english</td><td>90</td><td>9</td><td>3</td></tr></tbody></table></div>"
      ]
     },
     "metadata": {
      "application/vnd.databricks.v1+output": {
       "addedWidgets": {},
       "aggData": [],
       "aggError": "",
       "aggOverflow": false,
       "aggSchema": [],
       "aggSeriesLimitReached": false,
       "aggType": "",
       "arguments": {},
       "columnCustomDisplayInfos": {},
       "data": [
        [
         "Isabella",
         "Maths",
         50,
         1,
         1
        ],
        [
         "Olivia",
         "Maths",
         55,
         2,
         2
        ],
        [
         "Olivia",
         "Science",
         60,
         3,
         1
        ],
        [
         "Lily",
         "Maths",
         65,
         4,
         3
        ],
        [
         "Isabella",
         "Science",
         70,
         5,
         2
        ],
        [
         "Lily",
         "english",
         70,
         5,
         1
        ],
        [
         "Lily",
         "Science",
         80,
         7,
         3
        ],
        [
         "Olivia",
         "english",
         89,
         8,
         2
        ],
        [
         "Isabella",
         "english",
         90,
         9,
         3
        ]
       ],
       "datasetInfos": [],
       "dbfsResultPath": null,
       "isJsonSchema": true,
       "metadata": {},
       "overflow": false,
       "plotOptions": {
        "customPlotOptions": {},
        "displayType": "table",
        "pivotAggregation": null,
        "pivotColumns": null,
        "xColumns": null,
        "yColumns": null
       },
       "removedWidgets": [],
       "schema": [
        {
         "metadata": "{\"__CHAR_VARCHAR_TYPE_STRING\":\"varchar(70)\"}",
         "name": "StudentName",
         "type": "\"string\""
        },
        {
         "metadata": "{\"__CHAR_VARCHAR_TYPE_STRING\":\"varchar(20)\"}",
         "name": "Subject",
         "type": "\"string\""
        },
        {
         "metadata": "{}",
         "name": "Marks",
         "type": "\"integer\""
        },
        {
         "metadata": "{}",
         "name": "RANK",
         "type": "\"integer\""
        },
        {
         "metadata": "{}",
         "name": "RANK_GROUP",
         "type": "\"integer\""
        }
       ],
       "type": "table"
      }
     },
     "output_type": "display_data"
    }
   ],
   "source": [
    "%sql\n",
    "SELECT StudentName,Subject,Marks,\n",
    "    RANK() OVER (  ORDER BY MARKS) AS RANK,\n",
    "    RANK() OVER ( PARTITION BY Subject ORDER BY MARKS) AS RANK_GROUP\n",
    "FROM\n",
    "    ExamResult ORDER BY MARKS;"
   ]
  },
  {
   "cell_type": "markdown",
   "metadata": {
    "application/vnd.databricks.v1+cell": {
     "cellMetadata": {
      "byteLimit": 2048000,
      "rowLimit": 10000
     },
     "inputWidgets": {},
     "nuid": "7a60befc-976b-4a51-ad3f-2769c0169500",
     "showTitle": false,
     "title": ""
    }
   },
   "source": [
    "<h3><b>DESNSE_RANK</b></h3>"
   ]
  },
  {
   "cell_type": "code",
   "execution_count": 0,
   "metadata": {
    "application/vnd.databricks.v1+cell": {
     "cellMetadata": {
      "byteLimit": 2048000,
      "implicitDf": true,
      "rowLimit": 10000
     },
     "inputWidgets": {},
     "nuid": "e6e067f0-99aa-4b75-81b4-9dce9293dd1d",
     "showTitle": false,
     "title": ""
    }
   },
   "outputs": [
    {
     "output_type": "display_data",
     "data": {
      "text/html": [
       "<style scoped>\n",
       "  .table-result-container {\n",
       "    max-height: 300px;\n",
       "    overflow: auto;\n",
       "  }\n",
       "  table, th, td {\n",
       "    border: 1px solid black;\n",
       "    border-collapse: collapse;\n",
       "  }\n",
       "  th, td {\n",
       "    padding: 5px;\n",
       "  }\n",
       "  th {\n",
       "    text-align: left;\n",
       "  }\n",
       "</style><div class='table-result-container'><table class='table-result'><thead style='background-color: white'><tr><th>StudentName</th><th>Subject</th><th>Marks</th><th>DENSE_RANK</th><th>DENSE_RANK_GROUP</th></tr></thead><tbody><tr><td>Isabella</td><td>Maths</td><td>50</td><td>1</td><td>1</td></tr><tr><td>Olivia</td><td>Maths</td><td>55</td><td>2</td><td>2</td></tr><tr><td>Olivia</td><td>Science</td><td>60</td><td>3</td><td>1</td></tr><tr><td>Lily</td><td>Maths</td><td>65</td><td>4</td><td>3</td></tr><tr><td>Isabella</td><td>Science</td><td>70</td><td>5</td><td>2</td></tr><tr><td>Lily</td><td>english</td><td>70</td><td>5</td><td>1</td></tr><tr><td>Lily</td><td>Science</td><td>80</td><td>6</td><td>3</td></tr><tr><td>Olivia</td><td>english</td><td>89</td><td>7</td><td>2</td></tr><tr><td>Isabella</td><td>english</td><td>90</td><td>8</td><td>3</td></tr></tbody></table></div>"
      ]
     },
     "metadata": {
      "application/vnd.databricks.v1+output": {
       "addedWidgets": {},
       "aggData": [],
       "aggError": "",
       "aggOverflow": false,
       "aggSchema": [],
       "aggSeriesLimitReached": false,
       "aggType": "",
       "arguments": {},
       "columnCustomDisplayInfos": {},
       "data": [
        [
         "Isabella",
         "Maths",
         50,
         1,
         1
        ],
        [
         "Olivia",
         "Maths",
         55,
         2,
         2
        ],
        [
         "Olivia",
         "Science",
         60,
         3,
         1
        ],
        [
         "Lily",
         "Maths",
         65,
         4,
         3
        ],
        [
         "Isabella",
         "Science",
         70,
         5,
         2
        ],
        [
         "Lily",
         "english",
         70,
         5,
         1
        ],
        [
         "Lily",
         "Science",
         80,
         6,
         3
        ],
        [
         "Olivia",
         "english",
         89,
         7,
         2
        ],
        [
         "Isabella",
         "english",
         90,
         8,
         3
        ]
       ],
       "datasetInfos": [],
       "dbfsResultPath": null,
       "isJsonSchema": true,
       "metadata": {},
       "overflow": false,
       "plotOptions": {
        "customPlotOptions": {},
        "displayType": "table",
        "pivotAggregation": null,
        "pivotColumns": null,
        "xColumns": null,
        "yColumns": null
       },
       "removedWidgets": [],
       "schema": [
        {
         "metadata": "{\"__CHAR_VARCHAR_TYPE_STRING\":\"varchar(70)\"}",
         "name": "StudentName",
         "type": "\"string\""
        },
        {
         "metadata": "{\"__CHAR_VARCHAR_TYPE_STRING\":\"varchar(20)\"}",
         "name": "Subject",
         "type": "\"string\""
        },
        {
         "metadata": "{}",
         "name": "Marks",
         "type": "\"integer\""
        },
        {
         "metadata": "{}",
         "name": "DENSE_RANK",
         "type": "\"integer\""
        },
        {
         "metadata": "{}",
         "name": "DENSE_RANK_GROUP",
         "type": "\"integer\""
        }
       ],
       "type": "table"
      }
     },
     "output_type": "display_data"
    }
   ],
   "source": [
    "%sql\n",
    "SELECT StudentName,Subject,Marks,\n",
    "    dense_rank() OVER (  ORDER BY MARKS) AS DENSE_RANK,\n",
    "    dense_rank() OVER ( PARTITION BY Subject ORDER BY MARKS) AS DENSE_RANK_GROUP\n",
    "FROM\n",
    "    ExamResult ORDER BY MARKS;"
   ]
  },
  {
   "cell_type": "markdown",
   "metadata": {
    "application/vnd.databricks.v1+cell": {
     "cellMetadata": {
      "byteLimit": 2048000,
      "rowLimit": 10000
     },
     "inputWidgets": {},
     "nuid": "bcbc4cce-0da1-4501-8eb8-dda015d00d88",
     "showTitle": false,
     "title": ""
    }
   },
   "source": [
    "<h3><b>PERCENT_RANK</b></h3>"
   ]
  },
  {
   "cell_type": "code",
   "execution_count": 0,
   "metadata": {
    "application/vnd.databricks.v1+cell": {
     "cellMetadata": {
      "byteLimit": 2048000,
      "implicitDf": true,
      "rowLimit": 10000
     },
     "inputWidgets": {},
     "nuid": "34f418b1-2064-4528-b2a0-03176009f5a0",
     "showTitle": false,
     "title": ""
    }
   },
   "outputs": [
    {
     "output_type": "display_data",
     "data": {
      "text/html": [
       "<style scoped>\n",
       "  .table-result-container {\n",
       "    max-height: 300px;\n",
       "    overflow: auto;\n",
       "  }\n",
       "  table, th, td {\n",
       "    border: 1px solid black;\n",
       "    border-collapse: collapse;\n",
       "  }\n",
       "  th, td {\n",
       "    padding: 5px;\n",
       "  }\n",
       "  th {\n",
       "    text-align: left;\n",
       "  }\n",
       "</style><div class='table-result-container'><table class='table-result'><thead style='background-color: white'><tr><th>StudentName</th><th>Subject</th><th>Marks</th><th>PERCENT_RANK</th><th>PERCENT_RANK_GROUP</th></tr></thead><tbody><tr><td>Isabella</td><td>Maths</td><td>50</td><td>0.0</td><td>0.0</td></tr><tr><td>Olivia</td><td>Maths</td><td>55</td><td>0.125</td><td>0.5</td></tr><tr><td>Olivia</td><td>Science</td><td>60</td><td>0.25</td><td>0.0</td></tr><tr><td>Lily</td><td>Maths</td><td>65</td><td>0.375</td><td>1.0</td></tr><tr><td>Isabella</td><td>Science</td><td>70</td><td>0.5</td><td>0.5</td></tr><tr><td>Lily</td><td>english</td><td>70</td><td>0.5</td><td>0.0</td></tr><tr><td>Lily</td><td>Science</td><td>80</td><td>0.75</td><td>1.0</td></tr><tr><td>Olivia</td><td>english</td><td>89</td><td>0.875</td><td>0.5</td></tr><tr><td>Isabella</td><td>english</td><td>90</td><td>1.0</td><td>1.0</td></tr></tbody></table></div>"
      ]
     },
     "metadata": {
      "application/vnd.databricks.v1+output": {
       "addedWidgets": {},
       "aggData": [],
       "aggError": "",
       "aggOverflow": false,
       "aggSchema": [],
       "aggSeriesLimitReached": false,
       "aggType": "",
       "arguments": {},
       "columnCustomDisplayInfos": {},
       "data": [
        [
         "Isabella",
         "Maths",
         50,
         0.0,
         0.0
        ],
        [
         "Olivia",
         "Maths",
         55,
         0.125,
         0.5
        ],
        [
         "Olivia",
         "Science",
         60,
         0.25,
         0.0
        ],
        [
         "Lily",
         "Maths",
         65,
         0.375,
         1.0
        ],
        [
         "Isabella",
         "Science",
         70,
         0.5,
         0.5
        ],
        [
         "Lily",
         "english",
         70,
         0.5,
         0.0
        ],
        [
         "Lily",
         "Science",
         80,
         0.75,
         1.0
        ],
        [
         "Olivia",
         "english",
         89,
         0.875,
         0.5
        ],
        [
         "Isabella",
         "english",
         90,
         1.0,
         1.0
        ]
       ],
       "datasetInfos": [],
       "dbfsResultPath": null,
       "isJsonSchema": true,
       "metadata": {},
       "overflow": false,
       "plotOptions": {
        "customPlotOptions": {},
        "displayType": "table",
        "pivotAggregation": null,
        "pivotColumns": null,
        "xColumns": null,
        "yColumns": null
       },
       "removedWidgets": [],
       "schema": [
        {
         "metadata": "{\"__CHAR_VARCHAR_TYPE_STRING\":\"varchar(70)\"}",
         "name": "StudentName",
         "type": "\"string\""
        },
        {
         "metadata": "{\"__CHAR_VARCHAR_TYPE_STRING\":\"varchar(20)\"}",
         "name": "Subject",
         "type": "\"string\""
        },
        {
         "metadata": "{}",
         "name": "Marks",
         "type": "\"integer\""
        },
        {
         "metadata": "{}",
         "name": "PERCENT_RANK",
         "type": "\"double\""
        },
        {
         "metadata": "{}",
         "name": "PERCENT_RANK_GROUP",
         "type": "\"double\""
        }
       ],
       "type": "table"
      }
     },
     "output_type": "display_data"
    }
   ],
   "source": [
    "%sql\n",
    "SELECT StudentName,Subject,Marks,\n",
    "    PERCENT_RANK() OVER (  ORDER BY MARKS) AS PERCENT_RANK,\n",
    "    PERCENT_RANK() OVER ( PARTITION BY Subject ORDER BY MARKS) AS PERCENT_RANK_GROUP\n",
    "FROM\n",
    "    ExamResult ORDER BY MARKS;"
   ]
  },
  {
   "cell_type": "markdown",
   "metadata": {
    "application/vnd.databricks.v1+cell": {
     "cellMetadata": {
      "byteLimit": 2048000,
      "rowLimit": 10000
     },
     "inputWidgets": {},
     "nuid": "8f6fda4a-4844-44cf-a3c3-9b1e47c55f2d",
     "showTitle": false,
     "title": ""
    }
   },
   "source": [
    "<h3><b>NTILE</b></h3>"
   ]
  },
  {
   "cell_type": "code",
   "execution_count": 0,
   "metadata": {
    "application/vnd.databricks.v1+cell": {
     "cellMetadata": {
      "byteLimit": 2048000,
      "implicitDf": true,
      "rowLimit": 10000
     },
     "inputWidgets": {},
     "nuid": "8edd1051-4174-45c8-b401-0d877ae14ed7",
     "showTitle": false,
     "title": ""
    }
   },
   "outputs": [
    {
     "output_type": "display_data",
     "data": {
      "text/html": [
       "<style scoped>\n",
       "  .table-result-container {\n",
       "    max-height: 300px;\n",
       "    overflow: auto;\n",
       "  }\n",
       "  table, th, td {\n",
       "    border: 1px solid black;\n",
       "    border-collapse: collapse;\n",
       "  }\n",
       "  th, td {\n",
       "    padding: 5px;\n",
       "  }\n",
       "  th {\n",
       "    text-align: left;\n",
       "  }\n",
       "</style><div class='table-result-container'><table class='table-result'><thead style='background-color: white'><tr><th>StudentName</th><th>Subject</th><th>Marks</th><th>NTILE</th><th>NTILE_GROUP</th></tr></thead><tbody><tr><td>Isabella</td><td>Maths</td><td>50</td><td>1</td><td>1</td></tr><tr><td>Olivia</td><td>Maths</td><td>55</td><td>1</td><td>1</td></tr><tr><td>Olivia</td><td>Science</td><td>60</td><td>1</td><td>1</td></tr><tr><td>Lily</td><td>Maths</td><td>65</td><td>2</td><td>2</td></tr><tr><td>Isabella</td><td>Science</td><td>70</td><td>2</td><td>1</td></tr><tr><td>Lily</td><td>english</td><td>70</td><td>3</td><td>1</td></tr><tr><td>Lily</td><td>Science</td><td>80</td><td>3</td><td>2</td></tr><tr><td>Olivia</td><td>english</td><td>89</td><td>4</td><td>1</td></tr><tr><td>Isabella</td><td>english</td><td>90</td><td>4</td><td>2</td></tr></tbody></table></div>"
      ]
     },
     "metadata": {
      "application/vnd.databricks.v1+output": {
       "addedWidgets": {},
       "aggData": [],
       "aggError": "",
       "aggOverflow": false,
       "aggSchema": [],
       "aggSeriesLimitReached": false,
       "aggType": "",
       "arguments": {},
       "columnCustomDisplayInfos": {},
       "data": [
        [
         "Isabella",
         "Maths",
         50,
         1,
         1
        ],
        [
         "Olivia",
         "Maths",
         55,
         1,
         1
        ],
        [
         "Olivia",
         "Science",
         60,
         1,
         1
        ],
        [
         "Lily",
         "Maths",
         65,
         2,
         2
        ],
        [
         "Isabella",
         "Science",
         70,
         2,
         1
        ],
        [
         "Lily",
         "english",
         70,
         3,
         1
        ],
        [
         "Lily",
         "Science",
         80,
         3,
         2
        ],
        [
         "Olivia",
         "english",
         89,
         4,
         1
        ],
        [
         "Isabella",
         "english",
         90,
         4,
         2
        ]
       ],
       "datasetInfos": [],
       "dbfsResultPath": null,
       "isJsonSchema": true,
       "metadata": {},
       "overflow": false,
       "plotOptions": {
        "customPlotOptions": {},
        "displayType": "table",
        "pivotAggregation": null,
        "pivotColumns": null,
        "xColumns": null,
        "yColumns": null
       },
       "removedWidgets": [],
       "schema": [
        {
         "metadata": "{\"__CHAR_VARCHAR_TYPE_STRING\":\"varchar(70)\"}",
         "name": "StudentName",
         "type": "\"string\""
        },
        {
         "metadata": "{\"__CHAR_VARCHAR_TYPE_STRING\":\"varchar(20)\"}",
         "name": "Subject",
         "type": "\"string\""
        },
        {
         "metadata": "{}",
         "name": "Marks",
         "type": "\"integer\""
        },
        {
         "metadata": "{}",
         "name": "NTILE",
         "type": "\"integer\""
        },
        {
         "metadata": "{}",
         "name": "NTILE_GROUP",
         "type": "\"integer\""
        }
       ],
       "type": "table"
      }
     },
     "output_type": "display_data"
    }
   ],
   "source": [
    "%sql\n",
    "SELECT StudentName,Subject,Marks,\n",
    "    NTILE(4) OVER (  ORDER BY MARKS) AS NTILE,\n",
    "    NTILE(2) OVER ( PARTITION BY Subject ORDER BY MARKS) AS NTILE_GROUP\n",
    "FROM\n",
    "    ExamResult ORDER BY MARKS;"
   ]
  },
  {
   "cell_type": "markdown",
   "metadata": {
    "application/vnd.databricks.v1+cell": {
     "cellMetadata": {
      "byteLimit": 2048000,
      "rowLimit": 10000
     },
     "inputWidgets": {},
     "nuid": "480212c2-6673-4158-9476-d9d4769d6567",
     "showTitle": false,
     "title": ""
    }
   },
   "source": [
    "<h2><b>VALUE</b></h2>"
   ]
  },
  {
   "cell_type": "markdown",
   "metadata": {
    "application/vnd.databricks.v1+cell": {
     "cellMetadata": {
      "byteLimit": 2048000,
      "rowLimit": 10000
     },
     "inputWidgets": {},
     "nuid": "69a77dc9-2f12-468e-bd70-700f4dcfc620",
     "showTitle": false,
     "title": ""
    }
   },
   "source": [
    "<h3><b>LAG</b></h3>"
   ]
  },
  {
   "cell_type": "code",
   "execution_count": 0,
   "metadata": {
    "application/vnd.databricks.v1+cell": {
     "cellMetadata": {
      "byteLimit": 2048000,
      "implicitDf": true,
      "rowLimit": 10000
     },
     "inputWidgets": {},
     "nuid": "4b6bf543-ef07-466e-8e9a-8a99601dfcfd",
     "showTitle": false,
     "title": ""
    }
   },
   "outputs": [
    {
     "output_type": "display_data",
     "data": {
      "text/html": [
       "<style scoped>\n",
       "  .table-result-container {\n",
       "    max-height: 300px;\n",
       "    overflow: auto;\n",
       "  }\n",
       "  table, th, td {\n",
       "    border: 1px solid black;\n",
       "    border-collapse: collapse;\n",
       "  }\n",
       "  th, td {\n",
       "    padding: 5px;\n",
       "  }\n",
       "  th {\n",
       "    text-align: left;\n",
       "  }\n",
       "</style><div class='table-result-container'><table class='table-result'><thead style='background-color: white'><tr><th>StudentName</th><th>Subject</th><th>Marks</th><th>LAG</th><th>LAG_GROUP</th></tr></thead><tbody><tr><td>Isabella</td><td>Maths</td><td>50</td><td>0</td><td>0</td></tr><tr><td>Olivia</td><td>Maths</td><td>55</td><td>50</td><td>50</td></tr><tr><td>Olivia</td><td>Science</td><td>60</td><td>55</td><td>0</td></tr><tr><td>Lily</td><td>Maths</td><td>65</td><td>60</td><td>55</td></tr><tr><td>Isabella</td><td>Science</td><td>70</td><td>65</td><td>60</td></tr><tr><td>Lily</td><td>english</td><td>70</td><td>70</td><td>0</td></tr><tr><td>Lily</td><td>Science</td><td>80</td><td>70</td><td>70</td></tr><tr><td>Olivia</td><td>english</td><td>89</td><td>80</td><td>70</td></tr><tr><td>Isabella</td><td>english</td><td>90</td><td>89</td><td>89</td></tr></tbody></table></div>"
      ]
     },
     "metadata": {
      "application/vnd.databricks.v1+output": {
       "addedWidgets": {},
       "aggData": [],
       "aggError": "",
       "aggOverflow": false,
       "aggSchema": [],
       "aggSeriesLimitReached": false,
       "aggType": "",
       "arguments": {},
       "columnCustomDisplayInfos": {},
       "data": [
        [
         "Isabella",
         "Maths",
         50,
         0,
         0
        ],
        [
         "Olivia",
         "Maths",
         55,
         50,
         50
        ],
        [
         "Olivia",
         "Science",
         60,
         55,
         0
        ],
        [
         "Lily",
         "Maths",
         65,
         60,
         55
        ],
        [
         "Isabella",
         "Science",
         70,
         65,
         60
        ],
        [
         "Lily",
         "english",
         70,
         70,
         0
        ],
        [
         "Lily",
         "Science",
         80,
         70,
         70
        ],
        [
         "Olivia",
         "english",
         89,
         80,
         70
        ],
        [
         "Isabella",
         "english",
         90,
         89,
         89
        ]
       ],
       "datasetInfos": [],
       "dbfsResultPath": null,
       "isJsonSchema": true,
       "metadata": {},
       "overflow": false,
       "plotOptions": {
        "customPlotOptions": {},
        "displayType": "table",
        "pivotAggregation": null,
        "pivotColumns": null,
        "xColumns": null,
        "yColumns": null
       },
       "removedWidgets": [],
       "schema": [
        {
         "metadata": "{\"__CHAR_VARCHAR_TYPE_STRING\":\"varchar(70)\"}",
         "name": "StudentName",
         "type": "\"string\""
        },
        {
         "metadata": "{\"__CHAR_VARCHAR_TYPE_STRING\":\"varchar(20)\"}",
         "name": "Subject",
         "type": "\"string\""
        },
        {
         "metadata": "{}",
         "name": "Marks",
         "type": "\"integer\""
        },
        {
         "metadata": "{}",
         "name": "LAG",
         "type": "\"integer\""
        },
        {
         "metadata": "{}",
         "name": "LAG_GROUP",
         "type": "\"integer\""
        }
       ],
       "type": "table"
      }
     },
     "output_type": "display_data"
    }
   ],
   "source": [
    "%sql\n",
    "SELECT StudentName,Subject,Marks,\n",
    "    LAG(MARKS,1,0) OVER (  ORDER BY MARKS) AS LAG,\n",
    "    LAG(MARKS,1,0) OVER ( PARTITION BY Subject ORDER BY MARKS) AS LAG_GROUP\n",
    "FROM\n",
    "    ExamResult ORDER BY MARKS;"
   ]
  },
  {
   "cell_type": "markdown",
   "metadata": {
    "application/vnd.databricks.v1+cell": {
     "cellMetadata": {
      "byteLimit": 2048000,
      "rowLimit": 10000
     },
     "inputWidgets": {},
     "nuid": "808f0d4e-5d6d-4176-bf5a-5bead10aeba3",
     "showTitle": false,
     "title": ""
    }
   },
   "source": [
    "<h3><b>LEAD</b></h3>"
   ]
  },
  {
   "cell_type": "code",
   "execution_count": 0,
   "metadata": {
    "application/vnd.databricks.v1+cell": {
     "cellMetadata": {
      "byteLimit": 2048000,
      "implicitDf": true,
      "rowLimit": 10000
     },
     "inputWidgets": {},
     "nuid": "92153289-ad6b-4311-bb8c-7cb37fd2273e",
     "showTitle": false,
     "title": ""
    }
   },
   "outputs": [
    {
     "output_type": "display_data",
     "data": {
      "text/html": [
       "<style scoped>\n",
       "  .table-result-container {\n",
       "    max-height: 300px;\n",
       "    overflow: auto;\n",
       "  }\n",
       "  table, th, td {\n",
       "    border: 1px solid black;\n",
       "    border-collapse: collapse;\n",
       "  }\n",
       "  th, td {\n",
       "    padding: 5px;\n",
       "  }\n",
       "  th {\n",
       "    text-align: left;\n",
       "  }\n",
       "</style><div class='table-result-container'><table class='table-result'><thead style='background-color: white'><tr><th>StudentName</th><th>Subject</th><th>Marks</th><th>LEAD</th><th>LEAD_GROUP</th></tr></thead><tbody><tr><td>Isabella</td><td>Maths</td><td>50</td><td>55</td><td>55</td></tr><tr><td>Olivia</td><td>Maths</td><td>55</td><td>60</td><td>65</td></tr><tr><td>Olivia</td><td>Science</td><td>60</td><td>65</td><td>70</td></tr><tr><td>Lily</td><td>Maths</td><td>65</td><td>70</td><td>0</td></tr><tr><td>Isabella</td><td>Science</td><td>70</td><td>70</td><td>80</td></tr><tr><td>Lily</td><td>english</td><td>70</td><td>80</td><td>89</td></tr><tr><td>Lily</td><td>Science</td><td>80</td><td>89</td><td>0</td></tr><tr><td>Olivia</td><td>english</td><td>89</td><td>90</td><td>90</td></tr><tr><td>Isabella</td><td>english</td><td>90</td><td>0</td><td>0</td></tr></tbody></table></div>"
      ]
     },
     "metadata": {
      "application/vnd.databricks.v1+output": {
       "addedWidgets": {},
       "aggData": [],
       "aggError": "",
       "aggOverflow": false,
       "aggSchema": [],
       "aggSeriesLimitReached": false,
       "aggType": "",
       "arguments": {},
       "columnCustomDisplayInfos": {},
       "data": [
        [
         "Isabella",
         "Maths",
         50,
         55,
         55
        ],
        [
         "Olivia",
         "Maths",
         55,
         60,
         65
        ],
        [
         "Olivia",
         "Science",
         60,
         65,
         70
        ],
        [
         "Lily",
         "Maths",
         65,
         70,
         0
        ],
        [
         "Isabella",
         "Science",
         70,
         70,
         80
        ],
        [
         "Lily",
         "english",
         70,
         80,
         89
        ],
        [
         "Lily",
         "Science",
         80,
         89,
         0
        ],
        [
         "Olivia",
         "english",
         89,
         90,
         90
        ],
        [
         "Isabella",
         "english",
         90,
         0,
         0
        ]
       ],
       "datasetInfos": [],
       "dbfsResultPath": null,
       "isJsonSchema": true,
       "metadata": {},
       "overflow": false,
       "plotOptions": {
        "customPlotOptions": {},
        "displayType": "table",
        "pivotAggregation": null,
        "pivotColumns": null,
        "xColumns": null,
        "yColumns": null
       },
       "removedWidgets": [],
       "schema": [
        {
         "metadata": "{\"__CHAR_VARCHAR_TYPE_STRING\":\"varchar(70)\"}",
         "name": "StudentName",
         "type": "\"string\""
        },
        {
         "metadata": "{\"__CHAR_VARCHAR_TYPE_STRING\":\"varchar(20)\"}",
         "name": "Subject",
         "type": "\"string\""
        },
        {
         "metadata": "{}",
         "name": "Marks",
         "type": "\"integer\""
        },
        {
         "metadata": "{}",
         "name": "LEAD",
         "type": "\"integer\""
        },
        {
         "metadata": "{}",
         "name": "LEAD_GROUP",
         "type": "\"integer\""
        }
       ],
       "type": "table"
      }
     },
     "output_type": "display_data"
    }
   ],
   "source": [
    "%sql\n",
    "SELECT StudentName,Subject,Marks,\n",
    "    LEAD(MARKS,1,0) OVER (  ORDER BY MARKS) AS LEAD,\n",
    "    LEAD(MARKS,1,0) OVER ( PARTITION BY Subject ORDER BY MARKS) AS LEAD_GROUP\n",
    "FROM\n",
    "    ExamResult ORDER BY MARKS;"
   ]
  },
  {
   "cell_type": "markdown",
   "metadata": {
    "application/vnd.databricks.v1+cell": {
     "cellMetadata": {
      "byteLimit": 2048000,
      "rowLimit": 10000
     },
     "inputWidgets": {},
     "nuid": "df270db9-4db1-4957-8df3-a2b82f6a7c1e",
     "showTitle": false,
     "title": ""
    }
   },
   "source": [
    "<h3><b>FIRST_VALUE</b></h3>"
   ]
  },
  {
   "cell_type": "code",
   "execution_count": 0,
   "metadata": {
    "application/vnd.databricks.v1+cell": {
     "cellMetadata": {
      "byteLimit": 2048000,
      "implicitDf": true,
      "rowLimit": 10000
     },
     "inputWidgets": {},
     "nuid": "793c4b78-3b2a-46b2-875a-3c5e49043309",
     "showTitle": false,
     "title": ""
    }
   },
   "outputs": [
    {
     "output_type": "display_data",
     "data": {
      "text/html": [
       "<style scoped>\n",
       "  .table-result-container {\n",
       "    max-height: 300px;\n",
       "    overflow: auto;\n",
       "  }\n",
       "  table, th, td {\n",
       "    border: 1px solid black;\n",
       "    border-collapse: collapse;\n",
       "  }\n",
       "  th, td {\n",
       "    padding: 5px;\n",
       "  }\n",
       "  th {\n",
       "    text-align: left;\n",
       "  }\n",
       "</style><div class='table-result-container'><table class='table-result'><thead style='background-color: white'><tr><th>StudentName</th><th>Subject</th><th>Marks</th><th>FIRST_VALUE</th><th>FIRST_VALUE_GROUP</th></tr></thead><tbody><tr><td>Isabella</td><td>Maths</td><td>50</td><td>50</td><td>50</td></tr><tr><td>Olivia</td><td>Maths</td><td>55</td><td>50</td><td>50</td></tr><tr><td>Lily</td><td>Maths</td><td>65</td><td>50</td><td>50</td></tr><tr><td>Olivia</td><td>Science</td><td>60</td><td>50</td><td>60</td></tr><tr><td>Isabella</td><td>Science</td><td>70</td><td>50</td><td>60</td></tr><tr><td>Lily</td><td>Science</td><td>80</td><td>50</td><td>60</td></tr><tr><td>Lily</td><td>english</td><td>70</td><td>50</td><td>70</td></tr><tr><td>Olivia</td><td>english</td><td>89</td><td>50</td><td>70</td></tr><tr><td>Isabella</td><td>english</td><td>90</td><td>50</td><td>70</td></tr></tbody></table></div>"
      ]
     },
     "metadata": {
      "application/vnd.databricks.v1+output": {
       "addedWidgets": {},
       "aggData": [],
       "aggError": "",
       "aggOverflow": false,
       "aggSchema": [],
       "aggSeriesLimitReached": false,
       "aggType": "",
       "arguments": {},
       "columnCustomDisplayInfos": {},
       "data": [
        [
         "Isabella",
         "Maths",
         50,
         50,
         50
        ],
        [
         "Olivia",
         "Maths",
         55,
         50,
         50
        ],
        [
         "Lily",
         "Maths",
         65,
         50,
         50
        ],
        [
         "Olivia",
         "Science",
         60,
         50,
         60
        ],
        [
         "Isabella",
         "Science",
         70,
         50,
         60
        ],
        [
         "Lily",
         "Science",
         80,
         50,
         60
        ],
        [
         "Lily",
         "english",
         70,
         50,
         70
        ],
        [
         "Olivia",
         "english",
         89,
         50,
         70
        ],
        [
         "Isabella",
         "english",
         90,
         50,
         70
        ]
       ],
       "datasetInfos": [],
       "dbfsResultPath": null,
       "isJsonSchema": true,
       "metadata": {},
       "overflow": false,
       "plotOptions": {
        "customPlotOptions": {},
        "displayType": "table",
        "pivotAggregation": null,
        "pivotColumns": null,
        "xColumns": null,
        "yColumns": null
       },
       "removedWidgets": [],
       "schema": [
        {
         "metadata": "{\"__CHAR_VARCHAR_TYPE_STRING\":\"varchar(70)\"}",
         "name": "StudentName",
         "type": "\"string\""
        },
        {
         "metadata": "{\"__CHAR_VARCHAR_TYPE_STRING\":\"varchar(20)\"}",
         "name": "Subject",
         "type": "\"string\""
        },
        {
         "metadata": "{}",
         "name": "Marks",
         "type": "\"integer\""
        },
        {
         "metadata": "{}",
         "name": "FIRST_VALUE",
         "type": "\"integer\""
        },
        {
         "metadata": "{}",
         "name": "FIRST_VALUE_GROUP",
         "type": "\"integer\""
        }
       ],
       "type": "table"
      }
     },
     "output_type": "display_data"
    }
   ],
   "source": [
    "%sql\n",
    "SELECT StudentName,Subject,Marks,\n",
    "    FIRST_VALUE(MARKS) OVER (  ORDER BY MARKS) AS FIRST_VALUE,\n",
    "    FIRST_VALUE(MARKS) OVER ( PARTITION BY Subject ORDER BY MARKS) AS FIRST_VALUE_GROUP\n",
    "FROM\n",
    "    ExamResult ORDER BY Subject;"
   ]
  },
  {
   "cell_type": "markdown",
   "metadata": {
    "application/vnd.databricks.v1+cell": {
     "cellMetadata": {
      "byteLimit": 2048000,
      "rowLimit": 10000
     },
     "inputWidgets": {},
     "nuid": "04a2e8e0-8dde-4564-b99e-4bec1a8859ca",
     "showTitle": false,
     "title": ""
    }
   },
   "source": [
    "<h3><b>LAST_VALUE</b></h3>"
   ]
  },
  {
   "cell_type": "code",
   "execution_count": 0,
   "metadata": {
    "application/vnd.databricks.v1+cell": {
     "cellMetadata": {
      "byteLimit": 2048000,
      "implicitDf": true,
      "rowLimit": 10000
     },
     "inputWidgets": {},
     "nuid": "418e4568-64a8-4ec7-a37b-059a244dd488",
     "showTitle": false,
     "title": ""
    }
   },
   "outputs": [
    {
     "output_type": "display_data",
     "data": {
      "text/html": [
       "<style scoped>\n",
       "  .table-result-container {\n",
       "    max-height: 300px;\n",
       "    overflow: auto;\n",
       "  }\n",
       "  table, th, td {\n",
       "    border: 1px solid black;\n",
       "    border-collapse: collapse;\n",
       "  }\n",
       "  th, td {\n",
       "    padding: 5px;\n",
       "  }\n",
       "  th {\n",
       "    text-align: left;\n",
       "  }\n",
       "</style><div class='table-result-container'><table class='table-result'><thead style='background-color: white'><tr><th>StudentName</th><th>Subject</th><th>Marks</th><th>LAST_VALUE</th><th>LAST_VALUE_GROUP</th></tr></thead><tbody><tr><td>Isabella</td><td>Maths</td><td>50</td><td>50</td><td>50</td></tr><tr><td>Olivia</td><td>Maths</td><td>55</td><td>55</td><td>55</td></tr><tr><td>Lily</td><td>Maths</td><td>65</td><td>65</td><td>65</td></tr><tr><td>Olivia</td><td>Science</td><td>60</td><td>60</td><td>60</td></tr><tr><td>Isabella</td><td>Science</td><td>70</td><td>70</td><td>70</td></tr><tr><td>Lily</td><td>Science</td><td>80</td><td>80</td><td>80</td></tr><tr><td>Lily</td><td>english</td><td>70</td><td>70</td><td>70</td></tr><tr><td>Olivia</td><td>english</td><td>89</td><td>89</td><td>89</td></tr><tr><td>Isabella</td><td>english</td><td>90</td><td>90</td><td>90</td></tr></tbody></table></div>"
      ]
     },
     "metadata": {
      "application/vnd.databricks.v1+output": {
       "addedWidgets": {},
       "aggData": [],
       "aggError": "",
       "aggOverflow": false,
       "aggSchema": [],
       "aggSeriesLimitReached": false,
       "aggType": "",
       "arguments": {},
       "columnCustomDisplayInfos": {},
       "data": [
        [
         "Isabella",
         "Maths",
         50,
         50,
         50
        ],
        [
         "Olivia",
         "Maths",
         55,
         55,
         55
        ],
        [
         "Lily",
         "Maths",
         65,
         65,
         65
        ],
        [
         "Olivia",
         "Science",
         60,
         60,
         60
        ],
        [
         "Isabella",
         "Science",
         70,
         70,
         70
        ],
        [
         "Lily",
         "Science",
         80,
         80,
         80
        ],
        [
         "Lily",
         "english",
         70,
         70,
         70
        ],
        [
         "Olivia",
         "english",
         89,
         89,
         89
        ],
        [
         "Isabella",
         "english",
         90,
         90,
         90
        ]
       ],
       "datasetInfos": [],
       "dbfsResultPath": null,
       "isJsonSchema": true,
       "metadata": {},
       "overflow": false,
       "plotOptions": {
        "customPlotOptions": {},
        "displayType": "table",
        "pivotAggregation": null,
        "pivotColumns": null,
        "xColumns": null,
        "yColumns": null
       },
       "removedWidgets": [],
       "schema": [
        {
         "metadata": "{\"__CHAR_VARCHAR_TYPE_STRING\":\"varchar(70)\"}",
         "name": "StudentName",
         "type": "\"string\""
        },
        {
         "metadata": "{\"__CHAR_VARCHAR_TYPE_STRING\":\"varchar(20)\"}",
         "name": "Subject",
         "type": "\"string\""
        },
        {
         "metadata": "{}",
         "name": "Marks",
         "type": "\"integer\""
        },
        {
         "metadata": "{}",
         "name": "LAST_VALUE",
         "type": "\"integer\""
        },
        {
         "metadata": "{}",
         "name": "LAST_VALUE_GROUP",
         "type": "\"integer\""
        }
       ],
       "type": "table"
      }
     },
     "output_type": "display_data"
    }
   ],
   "source": [
    "%sql\n",
    "SELECT StudentName,Subject,Marks,\n",
    "    LAST_VALUE(MARKS) OVER ( ORDER BY MARKS) AS LAST_VALUE,\n",
    "    LAST_VALUE(MARKS) OVER ( PARTITION BY Subject ORDER BY MARKS) AS LAST_VALUE_GROUP\n",
    "FROM\n",
    "    ExamResult ORDER BY Subject;"
   ]
  },
  {
   "cell_type": "markdown",
   "metadata": {
    "application/vnd.databricks.v1+cell": {
     "cellMetadata": {
      "byteLimit": 2048000,
      "rowLimit": 10000
     },
     "inputWidgets": {},
     "nuid": "e2352ebb-89d6-4307-a72a-6c2cfe212108",
     "showTitle": false,
     "title": ""
    }
   },
   "source": [
    "<h3><b>NTH_VALUE</b></h3>"
   ]
  },
  {
   "cell_type": "code",
   "execution_count": 0,
   "metadata": {
    "application/vnd.databricks.v1+cell": {
     "cellMetadata": {
      "byteLimit": 2048000,
      "implicitDf": true,
      "rowLimit": 10000
     },
     "inputWidgets": {},
     "nuid": "9614d479-e7e1-4a93-821e-a96b8bfc348f",
     "showTitle": false,
     "title": ""
    }
   },
   "outputs": [
    {
     "output_type": "display_data",
     "data": {
      "text/html": [
       "<style scoped>\n",
       "  .table-result-container {\n",
       "    max-height: 300px;\n",
       "    overflow: auto;\n",
       "  }\n",
       "  table, th, td {\n",
       "    border: 1px solid black;\n",
       "    border-collapse: collapse;\n",
       "  }\n",
       "  th, td {\n",
       "    padding: 5px;\n",
       "  }\n",
       "  th {\n",
       "    text-align: left;\n",
       "  }\n",
       "</style><div class='table-result-container'><table class='table-result'><thead style='background-color: white'><tr><th>StudentName</th><th>Subject</th><th>Marks</th><th>NTH_VALUE</th><th>NTH_VALUE_GROUP</th></tr></thead><tbody><tr><td>Isabella</td><td>Maths</td><td>50</td><td>null</td><td>null</td></tr><tr><td>Olivia</td><td>Maths</td><td>55</td><td>null</td><td>55</td></tr><tr><td>Lily</td><td>Maths</td><td>65</td><td>60</td><td>55</td></tr><tr><td>Olivia</td><td>Science</td><td>60</td><td>60</td><td>null</td></tr><tr><td>Isabella</td><td>Science</td><td>70</td><td>60</td><td>70</td></tr><tr><td>Lily</td><td>Science</td><td>80</td><td>60</td><td>70</td></tr><tr><td>Lily</td><td>english</td><td>70</td><td>60</td><td>null</td></tr><tr><td>Olivia</td><td>english</td><td>89</td><td>60</td><td>89</td></tr><tr><td>Isabella</td><td>english</td><td>90</td><td>60</td><td>89</td></tr></tbody></table></div>"
      ]
     },
     "metadata": {
      "application/vnd.databricks.v1+output": {
       "addedWidgets": {},
       "aggData": [],
       "aggError": "",
       "aggOverflow": false,
       "aggSchema": [],
       "aggSeriesLimitReached": false,
       "aggType": "",
       "arguments": {},
       "columnCustomDisplayInfos": {},
       "data": [
        [
         "Isabella",
         "Maths",
         50,
         null,
         null
        ],
        [
         "Olivia",
         "Maths",
         55,
         null,
         55
        ],
        [
         "Lily",
         "Maths",
         65,
         60,
         55
        ],
        [
         "Olivia",
         "Science",
         60,
         60,
         null
        ],
        [
         "Isabella",
         "Science",
         70,
         60,
         70
        ],
        [
         "Lily",
         "Science",
         80,
         60,
         70
        ],
        [
         "Lily",
         "english",
         70,
         60,
         null
        ],
        [
         "Olivia",
         "english",
         89,
         60,
         89
        ],
        [
         "Isabella",
         "english",
         90,
         60,
         89
        ]
       ],
       "datasetInfos": [],
       "dbfsResultPath": null,
       "isJsonSchema": true,
       "metadata": {},
       "overflow": false,
       "plotOptions": {
        "customPlotOptions": {},
        "displayType": "table",
        "pivotAggregation": null,
        "pivotColumns": null,
        "xColumns": null,
        "yColumns": null
       },
       "removedWidgets": [],
       "schema": [
        {
         "metadata": "{\"__CHAR_VARCHAR_TYPE_STRING\":\"varchar(70)\"}",
         "name": "StudentName",
         "type": "\"string\""
        },
        {
         "metadata": "{\"__CHAR_VARCHAR_TYPE_STRING\":\"varchar(20)\"}",
         "name": "Subject",
         "type": "\"string\""
        },
        {
         "metadata": "{}",
         "name": "Marks",
         "type": "\"integer\""
        },
        {
         "metadata": "{}",
         "name": "NTH_VALUE",
         "type": "\"integer\""
        },
        {
         "metadata": "{}",
         "name": "NTH_VALUE_GROUP",
         "type": "\"integer\""
        }
       ],
       "type": "table"
      }
     },
     "output_type": "display_data"
    }
   ],
   "source": [
    "%sql\n",
    "SELECT StudentName,Subject,Marks,\n",
    "    NTH_VALUE(MARKS,3) OVER (  ORDER BY MARKS) AS NTH_VALUE,\n",
    "    NTH_VALUE(MARKS,2) OVER ( PARTITION BY Subject ORDER BY MARKS) AS NTH_VALUE_GROUP\n",
    "FROM\n",
    "    ExamResult ORDER BY Subject;"
   ]
  }
 ],
 "metadata": {
  "application/vnd.databricks.v1+notebook": {
   "dashboards": [],
   "environmentMetadata": null,
   "language": "python",
   "notebookMetadata": {
    "mostRecentlyExecutedCommandWithImplicitDF": {
     "commandId": 2011467133517485,
     "dataframes": [
      "_sqldf"
     ]
    },
    "pythonIndentUnit": 4
   },
   "notebookName": "Day 9 (Pyspark)",
   "widgets": {}
  }
 },
 "nbformat": 4,
 "nbformat_minor": 0
}
