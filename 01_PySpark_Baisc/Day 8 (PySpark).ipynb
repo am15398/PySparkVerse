{
 "cells": [
  {
   "cell_type": "code",
   "execution_count": 0,
   "metadata": {
    "application/vnd.databricks.v1+cell": {
     "cellMetadata": {
      "byteLimit": 2048000,
      "rowLimit": 10000
     },
     "inputWidgets": {},
     "nuid": "69c135d5-ef09-4a3e-a102-f2ff082ba34f",
     "showTitle": false,
     "title": ""
    }
   },
   "outputs": [],
   "source": [
    "from pyspark.sql import functions as F  \n",
    "from pyspark.sql.types import StringType, StructType, StructField\n"
   ]
  },
  {
   "cell_type": "code",
   "execution_count": 0,
   "metadata": {
    "application/vnd.databricks.v1+cell": {
     "cellMetadata": {
      "byteLimit": 2048000,
      "rowLimit": 10000
     },
     "inputWidgets": {},
     "nuid": "e8efc857-6ab7-4dc0-b096-4ea0ce7f450d",
     "showTitle": false,
     "title": ""
    }
   },
   "outputs": [
    {
     "output_type": "stream",
     "name": "stdout",
     "output_type": "stream",
     "text": [
      "+----------+---------+---+------+---------+--------------------------------------------------------------------------------------+\n|first_name|last_name|age|sex   |state    |file_path                                                                             |\n+----------+---------+---+------+---------+--------------------------------------------------------------------------------------+\n|Rahul     |Kumar    |28 |Male  |karnataka|dbfs:/FileStore/shared_uploads/ayushmaurya15398@gmail.com/multiple_files/karnataka.csv|\n|Priya     |Sharma   |35 |Female|karnataka|dbfs:/FileStore/shared_uploads/ayushmaurya15398@gmail.com/multiple_files/karnataka.csv|\n|Suresh    |Patil    |42 |Male  |karnataka|dbfs:/FileStore/shared_uploads/ayushmaurya15398@gmail.com/multiple_files/karnataka.csv|\n|Amit      |Sharma   |28 |Male  |rajasthan|dbfs:/FileStore/shared_uploads/ayushmaurya15398@gmail.com/multiple_files/rajasthan.csv|\n|Neha      |Verma    |35 |Female|rajasthan|dbfs:/FileStore/shared_uploads/ayushmaurya15398@gmail.com/multiple_files/rajasthan.csv|\n|Rajesh    |Singh    |42 |Male  |rajasthan|dbfs:/FileStore/shared_uploads/ayushmaurya15398@gmail.com/multiple_files/rajasthan.csv|\n|Sandeep   |Mohanty  |28 |Male  |odisha   |dbfs:/FileStore/shared_uploads/ayushmaurya15398@gmail.com/multiple_files/odisha.csv   |\n|Priyanka  |Sahu     |35 |Female|odisha   |dbfs:/FileStore/shared_uploads/ayushmaurya15398@gmail.com/multiple_files/odisha.csv   |\n+----------+---------+---+------+---------+--------------------------------------------------------------------------------------+\n\n"
     ]
    }
   ],
   "source": [
    "# read multiple file with filename in new column \n",
    "\n",
    "path=r'dbfs:/FileStore/shared_uploads/ayushmaurya15398@gmail.com/multiple_files/*.csv'\n",
    "df= spark.read.format(\"csv\")\\\n",
    "    .option(\"header\",\"true\")\\\n",
    "        .option(\"inferSchema\",\"true\").load(path)\n",
    "df=spark.read.csv(path,header=True)\n",
    "columns_mapping={'state': F.split(F.substring_index( F.input_file_name(),'/',-1),'\\.')[0]\\\n",
    "    ,'file_path': F.input_file_name()}\n",
    "df=df.withColumns(columns_mapping)\n",
    "df.show(truncate =False)"
   ]
  },
  {
   "cell_type": "code",
   "execution_count": 0,
   "metadata": {
    "application/vnd.databricks.v1+cell": {
     "cellMetadata": {
      "byteLimit": 2048000,
      "rowLimit": 10000
     },
     "inputWidgets": {},
     "nuid": "264c7567-e1b1-4fea-aecc-584117c2289f",
     "showTitle": false,
     "title": ""
    }
   },
   "outputs": [
    {
     "output_type": "stream",
     "name": "stdout",
     "output_type": "stream",
     "text": [
      "+-----+----+---------+\n| Name| Age|  Country|\n+-----+----+---------+\n| John|  25|      USA|\n|Alice|  30|   Canada|\n|  Bob|  22|       UK|\n| Mike|null|   Brazil|\n| Sara|null|Australia|\n+-----+----+---------+\n\n"
     ]
    }
   ],
   "source": [
    "# Union DataFrames with different schemas\n",
    "\n",
    "data1 = [(\"John\", 25, \"USA\"),\n",
    "         (\"Alice\", 30, \"Canada\"),\n",
    "         (\"Bob\", 22, \"UK\")]\n",
    "columns1 = [\"Name\", \"Age\", \"Country\"]\n",
    "df1 = spark.createDataFrame(data1, columns1)\n",
    "\n",
    "data2 = [(\"Mike\", \"Brazil\"),\n",
    "         (\"Sara\", \"Australia\")]\n",
    "columns2 = [\"Name\", \"Country\"]\n",
    "df2 = spark.createDataFrame(data2, columns2)\n",
    "\n",
    "# Add missing columns to df2 to match df1 schema\n",
    "for col in set(df1.columns) - set(df2.columns):\n",
    "    df2 = df2.withColumn(col, F.lit(None))\n",
    "\n",
    "union_df = df1.unionByName(df2)\n",
    "\n",
    "union_df.show()\n"
   ]
  },
  {
   "cell_type": "code",
   "execution_count": 0,
   "metadata": {
    "application/vnd.databricks.v1+cell": {
     "cellMetadata": {
      "byteLimit": 2048000,
      "rowLimit": 10000
     },
     "inputWidgets": {},
     "nuid": "af44ee9e-7407-4fa8-b079-ce9be0325da0",
     "showTitle": false,
     "title": ""
    }
   },
   "outputs": [],
   "source": [
    "#merge schema true example in Pyspark\n",
    "\n",
    "data1 = [(\"John\", 25, \"USA\"),\n",
    "         (\"Alice\", 30, \"Canada\"),\n",
    "         (\"Bob\", 22, \"UK\")]\n",
    "columns1 = [\"Name\", \"Age\", \"Country\"]\n",
    "df1 = spark.createDataFrame(data1, columns1)\n",
    "\n",
    "data2 = [(\"Mike\", \"Brazil\"),\n",
    "         (\"Sara\", \"Australia\")]\n",
    "columns2 = [\"Name\", \"Country\"]\n",
    "df2 = spark.createDataFrame(data2, columns2)\n",
    "\n",
    "df1.write.option(\"mergeSchema\", \"true\").saveAsTable(\"merge_table\")"
   ]
  },
  {
   "cell_type": "code",
   "execution_count": 0,
   "metadata": {
    "application/vnd.databricks.v1+cell": {
     "cellMetadata": {
      "byteLimit": 2048000,
      "implicitDf": true,
      "rowLimit": 10000
     },
     "inputWidgets": {},
     "nuid": "c43541c1-7d4c-43ff-a607-a1ec3bf3310e",
     "showTitle": false,
     "title": ""
    }
   },
   "outputs": [
    {
     "output_type": "display_data",
     "data": {
      "text/html": [
       "<style scoped>\n",
       "  .table-result-container {\n",
       "    max-height: 300px;\n",
       "    overflow: auto;\n",
       "  }\n",
       "  table, th, td {\n",
       "    border: 1px solid black;\n",
       "    border-collapse: collapse;\n",
       "  }\n",
       "  th, td {\n",
       "    padding: 5px;\n",
       "  }\n",
       "  th {\n",
       "    text-align: left;\n",
       "  }\n",
       "</style><div class='table-result-container'><table class='table-result'><thead style='background-color: white'><tr><th>Name</th><th>Age</th><th>Country</th></tr></thead><tbody><tr><td>Alice</td><td>30</td><td>Canada</td></tr><tr><td>John</td><td>25</td><td>USA</td></tr><tr><td>Bob</td><td>22</td><td>UK</td></tr></tbody></table></div>"
      ]
     },
     "metadata": {
      "application/vnd.databricks.v1+output": {
       "addedWidgets": {},
       "aggData": [],
       "aggError": "",
       "aggOverflow": false,
       "aggSchema": [],
       "aggSeriesLimitReached": false,
       "aggType": "",
       "arguments": {},
       "columnCustomDisplayInfos": {},
       "data": [
        [
         "Alice",
         30,
         "Canada"
        ],
        [
         "John",
         25,
         "USA"
        ],
        [
         "Bob",
         22,
         "UK"
        ]
       ],
       "datasetInfos": [],
       "dbfsResultPath": null,
       "isJsonSchema": true,
       "metadata": {},
       "overflow": false,
       "plotOptions": {
        "customPlotOptions": {},
        "displayType": "table",
        "pivotAggregation": null,
        "pivotColumns": null,
        "xColumns": null,
        "yColumns": null
       },
       "removedWidgets": [],
       "schema": [
        {
         "metadata": "{}",
         "name": "Name",
         "type": "\"string\""
        },
        {
         "metadata": "{}",
         "name": "Age",
         "type": "\"long\""
        },
        {
         "metadata": "{}",
         "name": "Country",
         "type": "\"string\""
        }
       ],
       "type": "table"
      }
     },
     "output_type": "display_data"
    }
   ],
   "source": [
    "%sql\n",
    "select * from merge_table"
   ]
  },
  {
   "cell_type": "code",
   "execution_count": 0,
   "metadata": {
    "application/vnd.databricks.v1+cell": {
     "cellMetadata": {
      "byteLimit": 2048000,
      "rowLimit": 10000
     },
     "inputWidgets": {},
     "nuid": "5cb21df2-4581-49d6-afd9-099b6b341c16",
     "showTitle": false,
     "title": ""
    }
   },
   "outputs": [],
   "source": [
    "df2.write.option(\"mergeSchema\", \"true\").mode(\"append\").saveAsTable(\"merge_table\")"
   ]
  },
  {
   "cell_type": "code",
   "execution_count": 0,
   "metadata": {
    "application/vnd.databricks.v1+cell": {
     "cellMetadata": {
      "byteLimit": 2048000,
      "implicitDf": true,
      "rowLimit": 10000
     },
     "inputWidgets": {},
     "nuid": "2f5edc6c-4b59-47b1-8e01-837235f4ce1b",
     "showTitle": false,
     "title": ""
    }
   },
   "outputs": [
    {
     "output_type": "display_data",
     "data": {
      "text/html": [
       "<style scoped>\n",
       "  .table-result-container {\n",
       "    max-height: 300px;\n",
       "    overflow: auto;\n",
       "  }\n",
       "  table, th, td {\n",
       "    border: 1px solid black;\n",
       "    border-collapse: collapse;\n",
       "  }\n",
       "  th, td {\n",
       "    padding: 5px;\n",
       "  }\n",
       "  th {\n",
       "    text-align: left;\n",
       "  }\n",
       "</style><div class='table-result-container'><table class='table-result'><thead style='background-color: white'><tr><th>Name</th><th>Age</th><th>Country</th></tr></thead><tbody><tr><td>Alice</td><td>30</td><td>Canada</td></tr><tr><td>John</td><td>25</td><td>USA</td></tr><tr><td>Bob</td><td>22</td><td>UK</td></tr><tr><td>Sara</td><td>null</td><td>Australia</td></tr><tr><td>Mike</td><td>null</td><td>Brazil</td></tr></tbody></table></div>"
      ]
     },
     "metadata": {
      "application/vnd.databricks.v1+output": {
       "addedWidgets": {},
       "aggData": [],
       "aggError": "",
       "aggOverflow": false,
       "aggSchema": [],
       "aggSeriesLimitReached": false,
       "aggType": "",
       "arguments": {},
       "columnCustomDisplayInfos": {},
       "data": [
        [
         "Alice",
         30,
         "Canada"
        ],
        [
         "John",
         25,
         "USA"
        ],
        [
         "Bob",
         22,
         "UK"
        ],
        [
         "Sara",
         null,
         "Australia"
        ],
        [
         "Mike",
         null,
         "Brazil"
        ]
       ],
       "datasetInfos": [],
       "dbfsResultPath": null,
       "isJsonSchema": true,
       "metadata": {},
       "overflow": false,
       "plotOptions": {
        "customPlotOptions": {},
        "displayType": "table",
        "pivotAggregation": null,
        "pivotColumns": null,
        "xColumns": null,
        "yColumns": null
       },
       "removedWidgets": [],
       "schema": [
        {
         "metadata": "{}",
         "name": "Name",
         "type": "\"string\""
        },
        {
         "metadata": "{}",
         "name": "Age",
         "type": "\"long\""
        },
        {
         "metadata": "{}",
         "name": "Country",
         "type": "\"string\""
        }
       ],
       "type": "table"
      }
     },
     "output_type": "display_data"
    }
   ],
   "source": [
    "%sql\n",
    "select * from merge_table"
   ]
  },
  {
   "cell_type": "markdown",
   "metadata": {
    "application/vnd.databricks.v1+cell": {
     "cellMetadata": {
      "byteLimit": 2048000,
      "rowLimit": 10000
     },
     "inputWidgets": {},
     "nuid": "8fc66903-2d95-4e02-8f67-ceb338c73e84",
     "showTitle": false,
     "title": ""
    }
   },
   "source": [
    "<h2> Struct col </h2>"
   ]
  },
  {
   "cell_type": "code",
   "execution_count": 0,
   "metadata": {
    "application/vnd.databricks.v1+cell": {
     "cellMetadata": {
      "byteLimit": 2048000,
      "rowLimit": 10000
     },
     "inputWidgets": {},
     "nuid": "bad5e4e6-ebc6-446b-9bd0-38c696f9f2f8",
     "showTitle": false,
     "title": ""
    }
   },
   "outputs": [
    {
     "output_type": "stream",
     "name": "stdout",
     "output_type": "stream",
     "text": [
      "+----------+---------+---+------+---------+--------------------+-------------------+\n|first_name|last_name|age|   sex|    state|           file_path|          my_struct|\n+----------+---------+---+------+---------+--------------------+-------------------+\n|     Rahul|    Kumar| 28|  Male|karnataka|dbfs:/FileStore/s...| {Rahul, karnataka}|\n|     Priya|   Sharma| 35|Female|karnataka|dbfs:/FileStore/s...| {Priya, karnataka}|\n|    Suresh|    Patil| 42|  Male|karnataka|dbfs:/FileStore/s...|{Suresh, karnataka}|\n|      Amit|   Sharma| 28|  Male|rajasthan|dbfs:/FileStore/s...|  {Amit, rajasthan}|\n|      Neha|    Verma| 35|Female|rajasthan|dbfs:/FileStore/s...|  {Neha, rajasthan}|\n|    Rajesh|    Singh| 42|  Male|rajasthan|dbfs:/FileStore/s...|{Rajesh, rajasthan}|\n|   Sandeep|  Mohanty| 28|  Male|   odisha|dbfs:/FileStore/s...|  {Sandeep, odisha}|\n|  Priyanka|     Sahu| 35|Female|   odisha|dbfs:/FileStore/s...| {Priyanka, odisha}|\n+----------+---------+---+------+---------+--------------------+-------------------+\n\n+----------+---------+---+------+---------+--------------------+-------------------+---------------+----------------+\n|first_name|last_name|age|   sex|    state|           file_path|          my_struct|first_name_name|first_name_state|\n+----------+---------+---+------+---------+--------------------+-------------------+---------------+----------------+\n|     Rahul|    Kumar| 28|  Male|karnataka|dbfs:/FileStore/s...| {Rahul, karnataka}|          Rahul|       karnataka|\n|     Priya|   Sharma| 35|Female|karnataka|dbfs:/FileStore/s...| {Priya, karnataka}|          Priya|       karnataka|\n|    Suresh|    Patil| 42|  Male|karnataka|dbfs:/FileStore/s...|{Suresh, karnataka}|         Suresh|       karnataka|\n|      Amit|   Sharma| 28|  Male|rajasthan|dbfs:/FileStore/s...|  {Amit, rajasthan}|           Amit|       rajasthan|\n|      Neha|    Verma| 35|Female|rajasthan|dbfs:/FileStore/s...|  {Neha, rajasthan}|           Neha|       rajasthan|\n|    Rajesh|    Singh| 42|  Male|rajasthan|dbfs:/FileStore/s...|{Rajesh, rajasthan}|         Rajesh|       rajasthan|\n|   Sandeep|  Mohanty| 28|  Male|   odisha|dbfs:/FileStore/s...|  {Sandeep, odisha}|        Sandeep|          odisha|\n|  Priyanka|     Sahu| 35|Female|   odisha|dbfs:/FileStore/s...| {Priyanka, odisha}|       Priyanka|          odisha|\n+----------+---------+---+------+---------+--------------------+-------------------+---------------+----------------+\n\n"
     ]
    }
   ],
   "source": [
    "# Make a new Struct column (similar to Python's `dict()`) – F.struct(*cols)\n",
    "df = df.withColumn('my_struct', F.struct(F.col('first_name'), F.col('state')))\n",
    "df.show()\n",
    "# Get item from struct by key – col.getField(str)\n",
    "df.withColumn('first_name_name', F.col('my_struct').getField('first_name')).\\\n",
    "    withColumn('first_name_state', F.col('my_struct').getField('state')).show()"
   ]
  }
 ],
 "metadata": {
  "application/vnd.databricks.v1+notebook": {
   "dashboards": [],
   "environmentMetadata": null,
   "language": "python",
   "notebookMetadata": {
    "mostRecentlyExecutedCommandWithImplicitDF": {
     "commandId": 3436189632738994,
     "dataframes": [
      "_sqldf"
     ]
    },
    "pythonIndentUnit": 4
   },
   "notebookName": "Day 8 (PySpark)",
   "widgets": {}
  }
 },
 "nbformat": 4,
 "nbformat_minor": 0
}
