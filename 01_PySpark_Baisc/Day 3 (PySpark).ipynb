{
 "cells": [
  {
   "cell_type": "code",
   "execution_count": 0,
   "metadata": {
    "application/vnd.databricks.v1+cell": {
     "cellMetadata": {
      "byteLimit": 2048000,
      "rowLimit": 10000
     },
     "inputWidgets": {},
     "nuid": "55390515-7f64-4301-b6cd-59bd95272ab7",
     "showTitle": false,
     "title": ""
    }
   },
   "outputs": [],
   "source": [
    "from pyspark.sql import SparkSession\n",
    "from pyspark.sql import functions as F\n",
    "# Create a Spark session\n",
    "spark = SparkSession.builder.appName(\"Day3\").getOrCreate()"
   ]
  },
  {
   "cell_type": "code",
   "execution_count": 0,
   "metadata": {
    "application/vnd.databricks.v1+cell": {
     "cellMetadata": {
      "byteLimit": 2048000,
      "rowLimit": 10000
     },
     "inputWidgets": {},
     "nuid": "f7ff34a1-f613-45c7-bc17-0690d5ef746c",
     "showTitle": false,
     "title": ""
    }
   },
   "outputs": [
    {
     "output_type": "stream",
     "name": "stdout",
     "output_type": "stream",
     "text": [
      "+-------+-----------+------+-------------+\n|   name|       dept|salary|         city|\n+-------+-----------+------+-------------+\n|  Alice|         HR| 50000|     New York|\n|    Bob|Engineering| 60000|San Francisco|\n|Charlie|         HR| 55000|  Los Angeles|\n|  David|Engineering| 62000|      Seattle|\n|    Eva|    Finance| 70000|      Chicago|\n|  Frank|    Finance| 75000|      Houston|\n|  Grace|Engineering| 65000|       Boston|\n| Hannah|         HR| 48000|        Miami|\n|    Ian|    Finance| 68000|       Dallas|\n|Jessica|Engineering| 63000|      Atlanta|\n+-------+-----------+------+-------------+\n\n+-------+----------+\n|   name|emp_status|\n+-------+----------+\n|  Alice|    Active|\n|    Bob|  Inactive|\n|Charlie|  Inactive|\n|  David|    Active|\n|    Eva|    Active|\n|  Frank|    Active|\n+-------+----------+\n\n"
     ]
    }
   ],
   "source": [
    "# Sample data \n",
    "data = [\n",
    "    (\"Alice\", \"HR\", 50000, \"New York\"),\n",
    "    (\"Bob\", \"Engineering\", 60000, \"San Francisco\"),\n",
    "    (\"Charlie\", \"HR\", 55000, \"Los Angeles\"),\n",
    "    (\"David\", \"Engineering\", 62000, \"Seattle\"),\n",
    "    (\"Eva\", \"Finance\", 70000, \"Chicago\"),\n",
    "    (\"Frank\", \"Finance\", 75000, \"Houston\"),\n",
    "    (\"Grace\", \"Engineering\", 65000, \"Boston\"),\n",
    "    (\"Hannah\", \"HR\", 48000, \"Miami\"),\n",
    "    (\"Ian\", \"Finance\", 68000, \"Dallas\"),\n",
    "    (\"Jessica\", \"Engineering\", 63000, \"Atlanta\")\n",
    "]\n",
    "\n",
    "# Define the schema for the DataFrame\n",
    "schema = [\"name\", \"dept\", \"salary\", \"city\"]\n",
    "\n",
    "# Create the DataFrame\n",
    "df = spark.createDataFrame(data, schema)\n",
    "\n",
    "df.show()\n",
    "\n",
    "\n",
    "\n",
    "# Sample data \n",
    "j_data = [\n",
    "    (\"Alice\", \"Active\"),\n",
    "    (\"Bob\", \"Inactive\"),\n",
    "    (\"Charlie\", \"Inactive\"),\n",
    "    (\"David\", \"Active\"),\n",
    "    (\"Eva\", \"Active\"),\n",
    "    (\"Frank\", \"Active\")\n",
    "]\n",
    "\n",
    "# Define the schema for the DataFrame\n",
    "j_schema = [\"name\", \"emp_status\"]\n",
    "\n",
    "# Create the DataFrame\n",
    "j_df = spark.createDataFrame(j_data, j_schema)\n",
    "\n",
    "j_df.show()"
   ]
  },
  {
   "cell_type": "code",
   "execution_count": 0,
   "metadata": {
    "application/vnd.databricks.v1+cell": {
     "cellMetadata": {
      "byteLimit": 2048000,
      "rowLimit": 10000
     },
     "inputWidgets": {},
     "nuid": "6f81dcbf-bd3e-447f-b31f-15216235d5a2",
     "showTitle": false,
     "title": ""
    }
   },
   "outputs": [],
   "source": [
    "#creating table from dataframe \n",
    "df.write.format(\"parquet\").saveAsTable(\"day_three\")"
   ]
  },
  {
   "cell_type": "code",
   "execution_count": 0,
   "metadata": {
    "application/vnd.databricks.v1+cell": {
     "cellMetadata": {
      "byteLimit": 2048000,
      "implicitDf": true,
      "rowLimit": 10000
     },
     "inputWidgets": {},
     "nuid": "a6588b5d-f46e-4ff9-b64c-57fd14fe9a84",
     "showTitle": false,
     "title": ""
    }
   },
   "outputs": [
    {
     "output_type": "display_data",
     "data": {
      "text/html": [
       "<style scoped>\n",
       "  .table-result-container {\n",
       "    max-height: 300px;\n",
       "    overflow: auto;\n",
       "  }\n",
       "  table, th, td {\n",
       "    border: 1px solid black;\n",
       "    border-collapse: collapse;\n",
       "  }\n",
       "  th, td {\n",
       "    padding: 5px;\n",
       "  }\n",
       "  th {\n",
       "    text-align: left;\n",
       "  }\n",
       "</style><div class='table-result-container'><table class='table-result'><thead style='background-color: white'><tr><th>name</th><th>dept</th><th>salary</th><th>city</th></tr></thead><tbody><tr><td>Bob</td><td>Engineering</td><td>60000</td><td>San Francisco</td></tr><tr><td>Grace</td><td>Engineering</td><td>65000</td><td>Boston</td></tr><tr><td>Charlie</td><td>HR</td><td>55000</td><td>Los Angeles</td></tr><tr><td>Frank</td><td>Finance</td><td>75000</td><td>Houston</td></tr><tr><td>Ian</td><td>Finance</td><td>68000</td><td>Dallas</td></tr><tr><td>Jessica</td><td>Engineering</td><td>63000</td><td>Atlanta</td></tr><tr><td>David</td><td>Engineering</td><td>62000</td><td>Seattle</td></tr><tr><td>Eva</td><td>Finance</td><td>70000</td><td>Chicago</td></tr><tr><td>Alice</td><td>HR</td><td>50000</td><td>New York</td></tr><tr><td>Hannah</td><td>HR</td><td>48000</td><td>Miami</td></tr></tbody></table></div>"
      ]
     },
     "metadata": {
      "application/vnd.databricks.v1+output": {
       "addedWidgets": {},
       "aggData": [],
       "aggError": "",
       "aggOverflow": false,
       "aggSchema": [],
       "aggSeriesLimitReached": false,
       "aggType": "",
       "arguments": {},
       "columnCustomDisplayInfos": {},
       "data": [
        [
         "Bob",
         "Engineering",
         60000,
         "San Francisco"
        ],
        [
         "Grace",
         "Engineering",
         65000,
         "Boston"
        ],
        [
         "Charlie",
         "HR",
         55000,
         "Los Angeles"
        ],
        [
         "Frank",
         "Finance",
         75000,
         "Houston"
        ],
        [
         "Ian",
         "Finance",
         68000,
         "Dallas"
        ],
        [
         "Jessica",
         "Engineering",
         63000,
         "Atlanta"
        ],
        [
         "David",
         "Engineering",
         62000,
         "Seattle"
        ],
        [
         "Eva",
         "Finance",
         70000,
         "Chicago"
        ],
        [
         "Alice",
         "HR",
         50000,
         "New York"
        ],
        [
         "Hannah",
         "HR",
         48000,
         "Miami"
        ]
       ],
       "datasetInfos": [],
       "dbfsResultPath": null,
       "isJsonSchema": true,
       "metadata": {},
       "overflow": false,
       "plotOptions": {
        "customPlotOptions": {},
        "displayType": "table",
        "pivotAggregation": null,
        "pivotColumns": null,
        "xColumns": null,
        "yColumns": null
       },
       "removedWidgets": [],
       "schema": [
        {
         "metadata": "{}",
         "name": "name",
         "type": "\"string\""
        },
        {
         "metadata": "{}",
         "name": "dept",
         "type": "\"string\""
        },
        {
         "metadata": "{}",
         "name": "salary",
         "type": "\"long\""
        },
        {
         "metadata": "{}",
         "name": "city",
         "type": "\"string\""
        }
       ],
       "type": "table"
      }
     },
     "output_type": "display_data"
    }
   ],
   "source": [
    "%sql\n",
    "select * from day_three"
   ]
  },
  {
   "cell_type": "code",
   "execution_count": 0,
   "metadata": {
    "application/vnd.databricks.v1+cell": {
     "cellMetadata": {
      "byteLimit": 2048000,
      "implicitDf": true,
      "rowLimit": 10000
     },
     "inputWidgets": {},
     "nuid": "214cb5e3-be37-41d3-8410-a264382e8784",
     "showTitle": false,
     "title": ""
    }
   },
   "outputs": [],
   "source": [
    "# insert data \n",
    "df.write.insertInto(\"day_three\")"
   ]
  },
  {
   "cell_type": "code",
   "execution_count": 0,
   "metadata": {
    "application/vnd.databricks.v1+cell": {
     "cellMetadata": {
      "byteLimit": 2048000,
      "implicitDf": true,
      "rowLimit": 10000
     },
     "inputWidgets": {},
     "nuid": "8d9cb5c3-203a-4201-9770-fed3d27e98b4",
     "showTitle": false,
     "title": ""
    }
   },
   "outputs": [
    {
     "output_type": "display_data",
     "data": {
      "text/html": [
       "<style scoped>\n",
       "  .table-result-container {\n",
       "    max-height: 300px;\n",
       "    overflow: auto;\n",
       "  }\n",
       "  table, th, td {\n",
       "    border: 1px solid black;\n",
       "    border-collapse: collapse;\n",
       "  }\n",
       "  th, td {\n",
       "    padding: 5px;\n",
       "  }\n",
       "  th {\n",
       "    text-align: left;\n",
       "  }\n",
       "</style><div class='table-result-container'><table class='table-result'><thead style='background-color: white'><tr><th>name</th><th>dept</th><th>salary</th><th>city</th></tr></thead><tbody><tr><td>Bob</td><td>Engineering</td><td>60000</td><td>San Francisco</td></tr><tr><td>Bob</td><td>Engineering</td><td>60000</td><td>San Francisco</td></tr><tr><td>Grace</td><td>Engineering</td><td>65000</td><td>Boston</td></tr><tr><td>Grace</td><td>Engineering</td><td>65000</td><td>Boston</td></tr><tr><td>Charlie</td><td>HR</td><td>55000</td><td>Los Angeles</td></tr><tr><td>Charlie</td><td>HR</td><td>55000</td><td>Los Angeles</td></tr><tr><td>Frank</td><td>Finance</td><td>75000</td><td>Houston</td></tr><tr><td>Frank</td><td>Finance</td><td>75000</td><td>Houston</td></tr><tr><td>Ian</td><td>Finance</td><td>68000</td><td>Dallas</td></tr><tr><td>Jessica</td><td>Engineering</td><td>63000</td><td>Atlanta</td></tr><tr><td>Ian</td><td>Finance</td><td>68000</td><td>Dallas</td></tr><tr><td>Jessica</td><td>Engineering</td><td>63000</td><td>Atlanta</td></tr><tr><td>David</td><td>Engineering</td><td>62000</td><td>Seattle</td></tr><tr><td>Eva</td><td>Finance</td><td>70000</td><td>Chicago</td></tr><tr><td>David</td><td>Engineering</td><td>62000</td><td>Seattle</td></tr><tr><td>Eva</td><td>Finance</td><td>70000</td><td>Chicago</td></tr><tr><td>Alice</td><td>HR</td><td>50000</td><td>New York</td></tr><tr><td>Alice</td><td>HR</td><td>50000</td><td>New York</td></tr><tr><td>Hannah</td><td>HR</td><td>48000</td><td>Miami</td></tr><tr><td>Hannah</td><td>HR</td><td>48000</td><td>Miami</td></tr></tbody></table></div>"
      ]
     },
     "metadata": {
      "application/vnd.databricks.v1+output": {
       "addedWidgets": {},
       "aggData": [],
       "aggError": "",
       "aggOverflow": false,
       "aggSchema": [],
       "aggSeriesLimitReached": false,
       "aggType": "",
       "arguments": {},
       "columnCustomDisplayInfos": {},
       "data": [
        [
         "Bob",
         "Engineering",
         60000,
         "San Francisco"
        ],
        [
         "Bob",
         "Engineering",
         60000,
         "San Francisco"
        ],
        [
         "Grace",
         "Engineering",
         65000,
         "Boston"
        ],
        [
         "Grace",
         "Engineering",
         65000,
         "Boston"
        ],
        [
         "Charlie",
         "HR",
         55000,
         "Los Angeles"
        ],
        [
         "Charlie",
         "HR",
         55000,
         "Los Angeles"
        ],
        [
         "Frank",
         "Finance",
         75000,
         "Houston"
        ],
        [
         "Frank",
         "Finance",
         75000,
         "Houston"
        ],
        [
         "Ian",
         "Finance",
         68000,
         "Dallas"
        ],
        [
         "Jessica",
         "Engineering",
         63000,
         "Atlanta"
        ],
        [
         "Ian",
         "Finance",
         68000,
         "Dallas"
        ],
        [
         "Jessica",
         "Engineering",
         63000,
         "Atlanta"
        ],
        [
         "David",
         "Engineering",
         62000,
         "Seattle"
        ],
        [
         "Eva",
         "Finance",
         70000,
         "Chicago"
        ],
        [
         "David",
         "Engineering",
         62000,
         "Seattle"
        ],
        [
         "Eva",
         "Finance",
         70000,
         "Chicago"
        ],
        [
         "Alice",
         "HR",
         50000,
         "New York"
        ],
        [
         "Alice",
         "HR",
         50000,
         "New York"
        ],
        [
         "Hannah",
         "HR",
         48000,
         "Miami"
        ],
        [
         "Hannah",
         "HR",
         48000,
         "Miami"
        ]
       ],
       "datasetInfos": [],
       "dbfsResultPath": null,
       "isJsonSchema": true,
       "metadata": {},
       "overflow": false,
       "plotOptions": {
        "customPlotOptions": {},
        "displayType": "table",
        "pivotAggregation": null,
        "pivotColumns": null,
        "xColumns": null,
        "yColumns": null
       },
       "removedWidgets": [],
       "schema": [
        {
         "metadata": "{}",
         "name": "name",
         "type": "\"string\""
        },
        {
         "metadata": "{}",
         "name": "dept",
         "type": "\"string\""
        },
        {
         "metadata": "{}",
         "name": "salary",
         "type": "\"long\""
        },
        {
         "metadata": "{}",
         "name": "city",
         "type": "\"string\""
        }
       ],
       "type": "table"
      }
     },
     "output_type": "display_data"
    }
   ],
   "source": [
    "%sql\n",
    "select * from day_three"
   ]
  },
  {
   "cell_type": "code",
   "execution_count": 0,
   "metadata": {
    "application/vnd.databricks.v1+cell": {
     "cellMetadata": {
      "byteLimit": 2048000,
      "rowLimit": 10000
     },
     "inputWidgets": {},
     "nuid": "a12a646e-53e6-4e1a-8c84-fcbd049e1942",
     "showTitle": false,
     "title": ""
    }
   },
   "outputs": [],
   "source": [
    "#create table with specific column\n",
    "df.select(\"name\",\"city\").write.format(\"parquet\").saveAsTable(\"day_three_spec_col\")"
   ]
  },
  {
   "cell_type": "code",
   "execution_count": 0,
   "metadata": {
    "application/vnd.databricks.v1+cell": {
     "cellMetadata": {
      "byteLimit": 2048000,
      "implicitDf": true,
      "rowLimit": 10000
     },
     "inputWidgets": {},
     "nuid": "ee7b2ab4-b11a-4c47-9a19-1c9a7fd11e9f",
     "showTitle": false,
     "title": ""
    }
   },
   "outputs": [
    {
     "output_type": "display_data",
     "data": {
      "text/html": [
       "<style scoped>\n",
       "  .table-result-container {\n",
       "    max-height: 300px;\n",
       "    overflow: auto;\n",
       "  }\n",
       "  table, th, td {\n",
       "    border: 1px solid black;\n",
       "    border-collapse: collapse;\n",
       "  }\n",
       "  th, td {\n",
       "    padding: 5px;\n",
       "  }\n",
       "  th {\n",
       "    text-align: left;\n",
       "  }\n",
       "</style><div class='table-result-container'><table class='table-result'><thead style='background-color: white'><tr><th>name</th><th>city</th></tr></thead><tbody><tr><td>Charlie</td><td>Los Angeles</td></tr><tr><td>Bob</td><td>San Francisco</td></tr><tr><td>Alice</td><td>New York</td></tr><tr><td>Frank</td><td>Houston</td></tr><tr><td>Grace</td><td>Boston</td></tr><tr><td>Hannah</td><td>Miami</td></tr><tr><td>Ian</td><td>Dallas</td></tr><tr><td>Jessica</td><td>Atlanta</td></tr><tr><td>David</td><td>Seattle</td></tr><tr><td>Eva</td><td>Chicago</td></tr></tbody></table></div>"
      ]
     },
     "metadata": {
      "application/vnd.databricks.v1+output": {
       "addedWidgets": {},
       "aggData": [],
       "aggError": "",
       "aggOverflow": false,
       "aggSchema": [],
       "aggSeriesLimitReached": false,
       "aggType": "",
       "arguments": {},
       "columnCustomDisplayInfos": {},
       "data": [
        [
         "Charlie",
         "Los Angeles"
        ],
        [
         "Bob",
         "San Francisco"
        ],
        [
         "Alice",
         "New York"
        ],
        [
         "Frank",
         "Houston"
        ],
        [
         "Grace",
         "Boston"
        ],
        [
         "Hannah",
         "Miami"
        ],
        [
         "Ian",
         "Dallas"
        ],
        [
         "Jessica",
         "Atlanta"
        ],
        [
         "David",
         "Seattle"
        ],
        [
         "Eva",
         "Chicago"
        ]
       ],
       "datasetInfos": [],
       "dbfsResultPath": null,
       "isJsonSchema": true,
       "metadata": {},
       "overflow": false,
       "plotOptions": {
        "customPlotOptions": {},
        "displayType": "table",
        "pivotAggregation": null,
        "pivotColumns": null,
        "xColumns": null,
        "yColumns": null
       },
       "removedWidgets": [],
       "schema": [
        {
         "metadata": "{}",
         "name": "name",
         "type": "\"string\""
        },
        {
         "metadata": "{}",
         "name": "city",
         "type": "\"string\""
        }
       ],
       "type": "table"
      }
     },
     "output_type": "display_data"
    }
   ],
   "source": [
    "%sql\n",
    "select * from day_three_spec_col"
   ]
  },
  {
   "cell_type": "code",
   "execution_count": 0,
   "metadata": {
    "application/vnd.databricks.v1+cell": {
     "cellMetadata": {
      "byteLimit": 2048000,
      "rowLimit": 10000
     },
     "inputWidgets": {},
     "nuid": "e98566d1-1f4f-4abe-a853-01b0f41b90d9",
     "showTitle": false,
     "title": ""
    }
   },
   "outputs": [
    {
     "output_type": "stream",
     "name": "stdout",
     "output_type": "stream",
     "text": [
      "+-----------+---------+\n|       dept|count_emp|\n+-----------+---------+\n|         HR|        3|\n|Engineering|        4|\n|    Finance|        3|\n+-----------+---------+\n\n"
     ]
    }
   ],
   "source": [
    "# Aggregate with alias \n",
    "df.groupBy(\"dept\").agg(F.count(\"*\").alias(\"count_emp\")).show()"
   ]
  },
  {
   "cell_type": "code",
   "execution_count": 0,
   "metadata": {
    "application/vnd.databricks.v1+cell": {
     "cellMetadata": {
      "byteLimit": 2048000,
      "rowLimit": 10000
     },
     "inputWidgets": {},
     "nuid": "47b87416-20d7-4197-85d8-f83dd140fb6b",
     "showTitle": false,
     "title": ""
    }
   },
   "outputs": [
    {
     "output_type": "stream",
     "name": "stdout",
     "output_type": "stream",
     "text": [
      "+------+----+------+-----+\n|  name|dept|salary| city|\n+------+----+------+-----+\n|Hannah|  HR| 48000|Miami|\n+------+----+------+-----+\n\n"
     ]
    }
   ],
   "source": [
    "#nested subquery\n",
    "df.filter(F.col(\"dept\")==\"HR\").alias(\"fil_hr\").filter(\"fil_hr.city=='Miami'\").show()"
   ]
  },
  {
   "cell_type": "code",
   "execution_count": 0,
   "metadata": {
    "application/vnd.databricks.v1+cell": {
     "cellMetadata": {
      "byteLimit": 2048000,
      "rowLimit": 10000
     },
     "inputWidgets": {},
     "nuid": "8cbd1766-c2fe-4cc2-aeaa-1249cf7ead32",
     "showTitle": false,
     "title": ""
    }
   },
   "outputs": [
    {
     "output_type": "stream",
     "name": "stdout",
     "output_type": "stream",
     "text": [
      "+-------+-----------+------+-------------+-------+----------+\n|   name|       dept|salary|         city|   name|emp_status|\n+-------+-----------+------+-------------+-------+----------+\n|  Alice|         HR| 50000|     New York|  Alice|    Active|\n|  Alice|         HR| 50000|     New York|    Bob|  Inactive|\n|  Alice|         HR| 50000|     New York|Charlie|  Inactive|\n|  Alice|         HR| 50000|     New York|  David|    Active|\n|  Alice|         HR| 50000|     New York|    Eva|    Active|\n|  Alice|         HR| 50000|     New York|  Frank|    Active|\n|    Bob|Engineering| 60000|San Francisco|  Alice|    Active|\n|    Bob|Engineering| 60000|San Francisco|    Bob|  Inactive|\n|    Bob|Engineering| 60000|San Francisco|Charlie|  Inactive|\n|    Bob|Engineering| 60000|San Francisco|  David|    Active|\n|    Bob|Engineering| 60000|San Francisco|    Eva|    Active|\n|    Bob|Engineering| 60000|San Francisco|  Frank|    Active|\n|Charlie|         HR| 55000|  Los Angeles|  Alice|    Active|\n|Charlie|         HR| 55000|  Los Angeles|    Bob|  Inactive|\n|Charlie|         HR| 55000|  Los Angeles|Charlie|  Inactive|\n|Charlie|         HR| 55000|  Los Angeles|  David|    Active|\n|Charlie|         HR| 55000|  Los Angeles|    Eva|    Active|\n|Charlie|         HR| 55000|  Los Angeles|  Frank|    Active|\n|  David|Engineering| 62000|      Seattle|  Alice|    Active|\n|    Eva|    Finance| 70000|      Chicago|  Alice|    Active|\n+-------+-----------+------+-------------+-------+----------+\nonly showing top 20 rows\n\n"
     ]
    }
   ],
   "source": [
    "#cross join\n",
    "df.crossJoin(j_df).show()"
   ]
  },
  {
   "cell_type": "code",
   "execution_count": 0,
   "metadata": {
    "application/vnd.databricks.v1+cell": {
     "cellMetadata": {
      "byteLimit": 2048000,
      "rowLimit": 10000
     },
     "inputWidgets": {},
     "nuid": "96320061-a8d0-448a-a416-c2532cd8910d",
     "showTitle": false,
     "title": ""
    }
   },
   "outputs": [
    {
     "output_type": "stream",
     "name": "stdout",
     "output_type": "stream",
     "text": [
      "+-----------+-------+\n|       dept|cnt_emp|\n+-----------+-------+\n|Engineering|      4|\n+-----------+-------+\n\n"
     ]
    }
   ],
   "source": [
    "#group by havig count greater then \n",
    "df.groupBy(\"dept\").agg(F.count(\"*\").alias(\"cnt_emp\")).alias(\"cnt\")\\\n",
    "    .filter(\"cnt.cnt_emp>3\").show()"
   ]
  },
  {
   "cell_type": "code",
   "execution_count": 0,
   "metadata": {
    "application/vnd.databricks.v1+cell": {
     "cellMetadata": {
      "byteLimit": 2048000,
      "rowLimit": 10000
     },
     "inputWidgets": {},
     "nuid": "e9d6ab06-aad9-4b43-b890-e77b51626192",
     "showTitle": false,
     "title": ""
    }
   },
   "outputs": [
    {
     "output_type": "stream",
     "name": "stdout",
     "output_type": "stream",
     "text": [
      "+-------+-----------+------+-------------+-------+----------+\n|   name|       dept|salary|         city|   name|emp_status|\n+-------+-----------+------+-------------+-------+----------+\n|  Alice|         HR| 50000|     New York|  Alice|    Active|\n|    Bob|Engineering| 60000|San Francisco|    Bob|  Inactive|\n|Charlie|         HR| 55000|  Los Angeles|Charlie|  Inactive|\n|  David|Engineering| 62000|      Seattle|  David|    Active|\n|    Eva|    Finance| 70000|      Chicago|    Eva|    Active|\n|  Frank|    Finance| 75000|      Houston|  Frank|    Active|\n+-------+-----------+------+-------------+-------+----------+\n\n"
     ]
    }
   ],
   "source": [
    "# alais for table join ( defualt is inner)\n",
    "df.alias(\"a\").join(j_df.alias(\"b\"),F.col(\"a.name\")==F.col(\"b.name\")).show()"
   ]
  },
  {
   "cell_type": "code",
   "execution_count": 0,
   "metadata": {
    "application/vnd.databricks.v1+cell": {
     "cellMetadata": {
      "byteLimit": 2048000,
      "rowLimit": 10000
     },
     "inputWidgets": {},
     "nuid": "684a1b92-9140-4142-83b0-eacc34c7cdb8",
     "showTitle": false,
     "title": ""
    }
   },
   "outputs": [
    {
     "output_type": "stream",
     "name": "stdout",
     "output_type": "stream",
     "text": [
      "+-----------+----------+\n|       dept|emp_status|\n+-----------+----------+\n|         HR|    Active|\n|Engineering|  Inactive|\n|         HR|  Inactive|\n|Engineering|    Active|\n|    Finance|    Active|\n|    Finance|    Active|\n+-----------+----------+\n\n+-----------+----------+\n|       dept|emp_status|\n+-----------+----------+\n|         HR|    Active|\n|Engineering|  Inactive|\n|         HR|  Inactive|\n|Engineering|    Active|\n|    Finance|    Active|\n|    Finance|    Active|\n+-----------+----------+\n\n"
     ]
    }
   ],
   "source": [
    "#select from multiple table \n",
    "df.alias(\"a\").join(j_df.alias(\"b\"),F.col(\"a.name\")==F.col(\"b.name\")).select(\"a.dept\",\"b.emp_status\").show()\n",
    "#or \n",
    "df.join(j_df,df.name==j_df.name).select(df.dept,j_df.emp_status).show()"
   ]
  }
 ],
 "metadata": {
  "application/vnd.databricks.v1+notebook": {
   "dashboards": [],
   "language": "python",
   "notebookMetadata": {
    "mostRecentlyExecutedCommandWithImplicitDF": {
     "commandId": 858561018502342,
     "dataframes": [
      "_sqldf"
     ]
    },
    "pythonIndentUnit": 4
   },
   "notebookName": "Day 3 (PySpark)",
   "widgets": {}
  }
 },
 "nbformat": 4,
 "nbformat_minor": 0
}
