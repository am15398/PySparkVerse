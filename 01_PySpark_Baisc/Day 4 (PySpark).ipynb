{
 "cells": [
  {
   "cell_type": "code",
   "execution_count": 0,
   "metadata": {
    "application/vnd.databricks.v1+cell": {
     "cellMetadata": {
      "byteLimit": 2048000,
      "rowLimit": 10000
     },
     "inputWidgets": {},
     "nuid": "1f9191c6-aeff-4242-95c2-e5adcc1c3276",
     "showTitle": false,
     "title": ""
    }
   },
   "outputs": [],
   "source": [
    "from pyspark.sql import SparkSession\n",
    "from pyspark.sql import functions as F\n",
    "# Create a Spark session\n",
    "spark = SparkSession.builder.appName(\"Day4\").getOrCreate()"
   ]
  },
  {
   "cell_type": "code",
   "execution_count": 0,
   "metadata": {
    "application/vnd.databricks.v1+cell": {
     "cellMetadata": {
      "byteLimit": 2048000,
      "rowLimit": 10000
     },
     "inputWidgets": {},
     "nuid": "20c54a1a-0e25-44ef-8f8c-0aa97da81104",
     "showTitle": false,
     "title": ""
    }
   },
   "outputs": [
    {
     "output_type": "stream",
     "name": "stdout",
     "output_type": "stream",
     "text": [
      "+-------+-----------+------+-----------------+------------+\n|   name|       dept|salary|             city|joining_date|\n+-------+-----------+------+-----------------+------------+\n|  Alice|         HR| 50000|         New York|  2022-01-15|\n|    Bob|Engineering| 60000|    San Francisco|  2021-11-20|\n|Charlie|         HR| 55000|   Los Angeles   |  2022-02-10|\n|  David|Engineering| 62000|          Seattle|  2022-03-05|\n|    Eva|    Finance| 70000|        Chicago  |  2021-09-30|\n|  Frank|    Finance| 75000|          Houston|  2022-04-01|\n|  Grace|Engineering| 65000|           Boston|  2022-01-05|\n| Hannah|         HR| 48000|            Miami|  2021-12-10|\n|    Ian|    Finance| 68000|           Dallas|  2022-02-20|\n|Jessica|Engineering| 63000|          Atlanta|        null|\n+-------+-----------+------+-----------------+------------+\n\n"
     ]
    }
   ],
   "source": [
    "# Sample data \n",
    "data = [\n",
    "    (\"Alice\", \"HR\", 50000, \"New York\",\"2022-01-15\"),\n",
    "    (\"Bob\", \"Engineering\", 60000, \"    San Francisco\",\"2021-11-20\"),\n",
    "    (\"Charlie\", \"HR\", 55000, \"Los Angeles   \", \"2022-02-10\"),\n",
    "    (\"David\", \"Engineering\", 62000, \"Seattle\", \"2022-03-05\"),\n",
    "    (\"Eva\", \"Finance\", 70000, \"Chicago  \", \"2021-09-30\"),\n",
    "    (\"Frank\", \"Finance\", 75000, \"Houston\", \"2022-04-01\"),\n",
    "    (\"Grace\", \"Engineering\", 65000, \"Boston\", \"2022-01-05\"),\n",
    "    (\"Hannah\", \"HR\", 48000, \"Miami\", \"2021-12-10\"),\n",
    "    (\"Ian\", \"Finance\", 68000, \"Dallas\", \"2022-02-20\"),\n",
    "    (\"Jessica\", \"Engineering\", 63000, \"Atlanta\",None)\n",
    "]\n",
    "\n",
    "# Define the schema for the DataFrame\n",
    "schema = [\"name\", \"dept\", \"salary\", \"city\",\"joining_date\"]\n",
    "\n",
    "# Create the DataFrame\n",
    "df = spark.createDataFrame(data, schema)\n",
    "\n",
    "df.show()"
   ]
  },
  {
   "cell_type": "code",
   "execution_count": 0,
   "metadata": {
    "application/vnd.databricks.v1+cell": {
     "cellMetadata": {
      "byteLimit": 2048000,
      "rowLimit": 10000
     },
     "inputWidgets": {},
     "nuid": "7fbf8800-ce13-42cb-b20d-4be360869576",
     "showTitle": false,
     "title": ""
    }
   },
   "outputs": [
    {
     "output_type": "stream",
     "name": "stdout",
     "output_type": "stream",
     "text": [
      "+------------+\n|joining_year|\n+------------+\n|        2022|\n|        2021|\n|        2022|\n|        2022|\n|        2021|\n|        2022|\n|        2022|\n|        2021|\n|        2022|\n|        null|\n+------------+\n\n"
     ]
    }
   ],
   "source": [
    "# extract date part \n",
    "df.select(F.year(F.col(\"joining_date\")).alias(\"joining_year\")).show()"
   ]
  },
  {
   "cell_type": "code",
   "execution_count": 0,
   "metadata": {
    "application/vnd.databricks.v1+cell": {
     "cellMetadata": {
      "byteLimit": 2048000,
      "rowLimit": 10000
     },
     "inputWidgets": {},
     "nuid": "06663f93-353e-4155-8950-787ee5789387",
     "showTitle": false,
     "title": ""
    }
   },
   "outputs": [
    {
     "output_type": "stream",
     "name": "stdout",
     "output_type": "stream",
     "text": [
      "+-------+-----------+------+--------------+------------+\n|   name|       dept|salary|          city|joining_date|\n+-------+-----------+------+--------------+------------+\n|  Alice|         HR| 50000|      New York|  2022-01-15|\n|Charlie|         HR| 55000|Los Angeles   |  2022-02-10|\n|  David|Engineering| 62000|       Seattle|  2022-03-05|\n|  Frank|    Finance| 75000|       Houston|  2022-04-01|\n|  Grace|Engineering| 65000|        Boston|  2022-01-05|\n|    Ian|    Finance| 68000|        Dallas|  2022-02-20|\n+-------+-----------+------+--------------+------------+\n\n"
     ]
    }
   ],
   "source": [
    "# inequality filtering\n",
    "df.filter(F.year(F.col(\"joining_date\"))!=\"2021\").show()"
   ]
  },
  {
   "cell_type": "code",
   "execution_count": 0,
   "metadata": {
    "application/vnd.databricks.v1+cell": {
     "cellMetadata": {
      "byteLimit": 2048000,
      "rowLimit": 10000
     },
     "inputWidgets": {},
     "nuid": "ff2f940b-290f-4b08-ac48-2db3a3eea9ef",
     "showTitle": false,
     "title": ""
    }
   },
   "outputs": [
    {
     "output_type": "stream",
     "name": "stdout",
     "output_type": "stream",
     "text": [
      "+-------+-----------+------+--------------+------------+\n|   name|       dept|salary|          city|joining_date|\n+-------+-----------+------+--------------+------------+\n|  Alice|         HR| 50000|      New York|  2022-01-15|\n|Charlie|         HR| 55000|Los Angeles   |  2022-02-10|\n|  Grace|Engineering| 65000|        Boston|  2022-01-05|\n|    Ian|    Finance| 68000|        Dallas|  2022-02-20|\n+-------+-----------+------+--------------+------------+\n\n"
     ]
    }
   ],
   "source": [
    "# in list\n",
    "df.filter(F.month(F.col(\"joining_date\")).isin(\"1\",\"2\")).show()"
   ]
  },
  {
   "cell_type": "code",
   "execution_count": 0,
   "metadata": {
    "application/vnd.databricks.v1+cell": {
     "cellMetadata": {
      "byteLimit": 2048000,
      "rowLimit": 10000
     },
     "inputWidgets": {},
     "nuid": "f473557b-16f9-4fee-812f-dcf92b56106d",
     "showTitle": false,
     "title": ""
    }
   },
   "outputs": [
    {
     "output_type": "stream",
     "name": "stdout",
     "output_type": "stream",
     "text": [
      "+------+-----------+------+-----------------+------------+\n|  name|       dept|salary|             city|joining_date|\n+------+-----------+------+-----------------+------------+\n|   Bob|Engineering| 60000|    San Francisco|  2021-11-20|\n| David|Engineering| 62000|          Seattle|  2022-03-05|\n|   Eva|    Finance| 70000|        Chicago  |  2021-09-30|\n| Frank|    Finance| 75000|          Houston|  2022-04-01|\n|Hannah|         HR| 48000|            Miami|  2021-12-10|\n+------+-----------+------+-----------------+------------+\n\n"
     ]
    }
   ],
   "source": [
    "# not in list\n",
    "df.filter(~F.month(F.col(\"joining_date\")).isin(\"1\",\"2\")).show()"
   ]
  },
  {
   "cell_type": "code",
   "execution_count": 0,
   "metadata": {
    "application/vnd.databricks.v1+cell": {
     "cellMetadata": {
      "byteLimit": 2048000,
      "rowLimit": 10000
     },
     "inputWidgets": {},
     "nuid": "4487d383-3713-4d03-83ad-ab47512139db",
     "showTitle": false,
     "title": ""
    }
   },
   "outputs": [
    {
     "output_type": "stream",
     "name": "stdout",
     "output_type": "stream",
     "text": [
      "+-------+-----------+------+-------+------------+\n|   name|       dept|salary|   city|joining_date|\n+-------+-----------+------+-------+------------+\n|Jessica|Engineering| 63000|Atlanta|        null|\n+-------+-----------+------+-------+------------+\n\n"
     ]
    }
   ],
   "source": [
    "# null values\n",
    "df.filter(df.joining_date.isNull()).show()"
   ]
  },
  {
   "cell_type": "code",
   "execution_count": 0,
   "metadata": {
    "application/vnd.databricks.v1+cell": {
     "cellMetadata": {
      "byteLimit": 2048000,
      "rowLimit": 10000
     },
     "inputWidgets": {},
     "nuid": "b8eef2af-2e19-41df-8658-27bc636dc992",
     "showTitle": false,
     "title": ""
    }
   },
   "outputs": [
    {
     "output_type": "stream",
     "name": "stdout",
     "output_type": "stream",
     "text": [
      "+-------+-----------+------+-----------------+------------+\n|   name|       dept|salary|             city|joining_date|\n+-------+-----------+------+-----------------+------------+\n|  Alice|         HR| 50000|         New York|  2022-01-15|\n|    Bob|Engineering| 60000|    San Francisco|  2021-11-20|\n|Charlie|         HR| 55000|   Los Angeles   |  2022-02-10|\n|  David|Engineering| 62000|          Seattle|  2022-03-05|\n|    Eva|    Finance| 70000|        Chicago  |  2021-09-30|\n|  Frank|    Finance| 75000|          Houston|  2022-04-01|\n|  Grace|Engineering| 65000|           Boston|  2022-01-05|\n| Hannah|         HR| 48000|            Miami|  2021-12-10|\n|    Ian|    Finance| 68000|           Dallas|  2022-02-20|\n+-------+-----------+------+-----------------+------------+\n\n"
     ]
    }
   ],
   "source": [
    "# not null values\n",
    "df.filter(df.joining_date.isNotNull()).show()"
   ]
  },
  {
   "cell_type": "code",
   "execution_count": 0,
   "metadata": {
    "application/vnd.databricks.v1+cell": {
     "cellMetadata": {
      "byteLimit": 2048000,
      "rowLimit": 10000
     },
     "inputWidgets": {},
     "nuid": "91cfce85-5dd8-4002-93af-976fc3323c3e",
     "showTitle": false,
     "title": ""
    }
   },
   "outputs": [
    {
     "output_type": "stream",
     "name": "stdout",
     "output_type": "stream",
     "text": [
      "+-----------------+\n|      upper(city)|\n+-----------------+\n|         NEW YORK|\n|    SAN FRANCISCO|\n|   LOS ANGELES   |\n|          SEATTLE|\n|        CHICAGO  |\n|          HOUSTON|\n|           BOSTON|\n|            MIAMI|\n|           DALLAS|\n|          ATLANTA|\n+-----------------+\n\n"
     ]
    }
   ],
   "source": [
    "#upper case\n",
    "df.select(F.upper(\"city\")).show()"
   ]
  },
  {
   "cell_type": "code",
   "execution_count": 0,
   "metadata": {
    "application/vnd.databricks.v1+cell": {
     "cellMetadata": {
      "byteLimit": 2048000,
      "rowLimit": 10000
     },
     "inputWidgets": {},
     "nuid": "6f3a2bbc-7ca4-4bb8-8ff5-7d5ed59995be",
     "showTitle": false,
     "title": ""
    }
   },
   "outputs": [
    {
     "output_type": "stream",
     "name": "stdout",
     "output_type": "stream",
     "text": [
      "+-----------------+\n|      lower(city)|\n+-----------------+\n|         new york|\n|    san francisco|\n|   los angeles   |\n|          seattle|\n|        chicago  |\n|          houston|\n|           boston|\n|            miami|\n|           dallas|\n|          atlanta|\n+-----------------+\n\n"
     ]
    }
   ],
   "source": [
    "#lower case\n",
    "df.select(F.lower(\"city\")).show()"
   ]
  },
  {
   "cell_type": "code",
   "execution_count": 0,
   "metadata": {
    "application/vnd.databricks.v1+cell": {
     "cellMetadata": {
      "byteLimit": 2048000,
      "rowLimit": 10000
     },
     "inputWidgets": {},
     "nuid": "644eafb4-ae6a-4f95-ad04-e6d5ecc9b0eb",
     "showTitle": false,
     "title": ""
    }
   },
   "outputs": [
    {
     "output_type": "stream",
     "name": "stdout",
     "output_type": "stream",
     "text": [
      "+------------+\n|length(city)|\n+------------+\n|           8|\n|          17|\n|          14|\n|           7|\n|           9|\n|           7|\n|           6|\n|           5|\n|           6|\n|           7|\n+------------+\n\n"
     ]
    }
   ],
   "source": [
    "# length\n",
    "df.select(F.length(\"city\")).show()"
   ]
  },
  {
   "cell_type": "code",
   "execution_count": 0,
   "metadata": {
    "application/vnd.databricks.v1+cell": {
     "cellMetadata": {
      "byteLimit": 2048000,
      "rowLimit": 10000
     },
     "inputWidgets": {},
     "nuid": "687d4987-2f92-4552-b783-99c61eb3da03",
     "showTitle": false,
     "title": ""
    }
   },
   "outputs": [
    {
     "output_type": "stream",
     "name": "stdout",
     "output_type": "stream",
     "text": [
      "+-------------+\n|   trim(city)|\n+-------------+\n|     New York|\n|San Francisco|\n|  Los Angeles|\n|      Seattle|\n|      Chicago|\n|      Houston|\n|       Boston|\n|        Miami|\n|       Dallas|\n|      Atlanta|\n+-------------+\n\n"
     ]
    }
   ],
   "source": [
    "#trim case\n",
    "df.select(F.trim(\"city\")).show()"
   ]
  },
  {
   "cell_type": "code",
   "execution_count": 0,
   "metadata": {
    "application/vnd.databricks.v1+cell": {
     "cellMetadata": {
      "byteLimit": 2048000,
      "rowLimit": 10000
     },
     "inputWidgets": {},
     "nuid": "68ca6ce7-9ccc-45f7-88e6-1cf0c2ae7596",
     "showTitle": false,
     "title": ""
    }
   },
   "outputs": [
    {
     "output_type": "stream",
     "name": "stdout",
     "output_type": "stream",
     "text": [
      "+--------------+\n|   ltrim(city)|\n+--------------+\n|      New York|\n| San Francisco|\n|Los Angeles   |\n|       Seattle|\n|     Chicago  |\n|       Houston|\n|        Boston|\n|         Miami|\n|        Dallas|\n|       Atlanta|\n+--------------+\n\n"
     ]
    }
   ],
   "source": [
    "# ltrim case\n",
    "df.select(F.ltrim(\"city\")).show()"
   ]
  },
  {
   "cell_type": "code",
   "execution_count": 0,
   "metadata": {
    "application/vnd.databricks.v1+cell": {
     "cellMetadata": {
      "byteLimit": 2048000,
      "rowLimit": 10000
     },
     "inputWidgets": {},
     "nuid": "1204112e-f569-4488-9578-676109c192a6",
     "showTitle": false,
     "title": ""
    }
   },
   "outputs": [
    {
     "output_type": "stream",
     "name": "stdout",
     "output_type": "stream",
     "text": [
      "+-----------------+\n|      rtrim(city)|\n+-----------------+\n|         New York|\n|    San Francisco|\n|      Los Angeles|\n|          Seattle|\n|          Chicago|\n|          Houston|\n|           Boston|\n|            Miami|\n|           Dallas|\n|          Atlanta|\n+-----------------+\n\n"
     ]
    }
   ],
   "source": [
    "# rtrim case\n",
    "df.select(F.rtrim(\"city\")).show()"
   ]
  },
  {
   "cell_type": "code",
   "execution_count": 0,
   "metadata": {
    "application/vnd.databricks.v1+cell": {
     "cellMetadata": {
      "byteLimit": 2048000,
      "rowLimit": 10000
     },
     "inputWidgets": {},
     "nuid": "94cfb5ca-ebad-4098-ae74-a37125977bca",
     "showTitle": false,
     "title": ""
    }
   },
   "outputs": [
    {
     "output_type": "stream",
     "name": "stdout",
     "output_type": "stream",
     "text": [
      "+-----------------+\n|          replace|\n+-----------------+\n|         New_York|\n|____San_Francisco|\n|   Los_Angeles___|\n|          Seattle|\n|        Chicago__|\n|          Houston|\n|           Boston|\n|            Miami|\n|           Dallas|\n|          Atlanta|\n+-----------------+\n\n"
     ]
    }
   ],
   "source": [
    "#string replace \n",
    "df.select(F.regexp_replace(\"city\",\" \",\"_\").alias(\"replace\")).show()"
   ]
  },
  {
   "cell_type": "code",
   "execution_count": 0,
   "metadata": {
    "application/vnd.databricks.v1+cell": {
     "cellMetadata": {
      "byteLimit": 2048000,
      "rowLimit": 10000
     },
     "inputWidgets": {},
     "nuid": "a8eb3989-ad24-4032-a17a-524bdab455ee",
     "showTitle": false,
     "title": ""
    }
   },
   "outputs": [
    {
     "output_type": "stream",
     "name": "stdout",
     "output_type": "stream",
     "text": [
      "+------------+\n|default_date|\n+------------+\n|  2022-01-15|\n|  2021-11-20|\n|  2022-02-10|\n|  2022-03-05|\n|  2021-09-30|\n|  2022-04-01|\n|  2022-01-05|\n|  2021-12-10|\n|  2022-02-20|\n|  2024-04-08|\n+------------+\n\n"
     ]
    }
   ],
   "source": [
    "# coalesce\n",
    "df.select(F.coalesce(\"joining_date\",F.current_date()).alias(\"default_date\")).show()"
   ]
  },
  {
   "cell_type": "code",
   "execution_count": 0,
   "metadata": {
    "application/vnd.databricks.v1+cell": {
     "cellMetadata": {
      "byteLimit": 2048000,
      "rowLimit": 10000
     },
     "inputWidgets": {},
     "nuid": "c84ca3ad-7d8e-4688-9cb2-aa76371e1f19",
     "showTitle": false,
     "title": ""
    }
   },
   "outputs": [
    {
     "output_type": "stream",
     "name": "stdout",
     "output_type": "stream",
     "text": [
      "+---------+\n|date_diff|\n+---------+\n|      814|\n|      870|\n|      788|\n|      765|\n|      921|\n|      738|\n|      824|\n|      850|\n|      778|\n|        0|\n+---------+\n\n"
     ]
    }
   ],
   "source": [
    "# date diff\n",
    "df.select(F.datediff(F.current_date(),F.coalesce(\"joining_date\",F.current_date())).alias(\"date_diff\")).show()"
   ]
  },
  {
   "cell_type": "code",
   "execution_count": 0,
   "metadata": {
    "application/vnd.databricks.v1+cell": {
     "cellMetadata": {
      "byteLimit": 2048000,
      "rowLimit": 10000
     },
     "inputWidgets": {},
     "nuid": "bbd3b0fb-5c26-455a-bd01-9e92fd2c38b8",
     "showTitle": false,
     "title": ""
    }
   },
   "outputs": [
    {
     "output_type": "stream",
     "name": "stdout",
     "output_type": "stream",
     "text": [
      "+----------+------------+\n|add_months|joining_date|\n+----------+------------+\n|2022-03-15|  2022-01-15|\n|2022-01-20|  2021-11-20|\n|2022-04-10|  2022-02-10|\n|2022-05-05|  2022-03-05|\n|2021-11-30|  2021-09-30|\n|2022-06-01|  2022-04-01|\n|2022-03-05|  2022-01-05|\n|2022-02-10|  2021-12-10|\n|2022-04-20|  2022-02-20|\n|      null|        null|\n+----------+------------+\n\n"
     ]
    }
   ],
   "source": [
    "# add months to date\n",
    "df.select(F.add_months(\"joining_date\",2).alias(\"add_months\"),\"joining_date\").show()"
   ]
  }
 ],
 "metadata": {
  "application/vnd.databricks.v1+notebook": {
   "dashboards": [],
   "language": "python",
   "notebookMetadata": {
    "pythonIndentUnit": 4
   },
   "notebookName": "Day 4 (PySpark)",
   "widgets": {}
  }
 },
 "nbformat": 4,
 "nbformat_minor": 0
}
