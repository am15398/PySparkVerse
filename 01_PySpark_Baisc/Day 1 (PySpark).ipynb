{
 "cells": [
  {
   "cell_type": "code",
   "execution_count": 0,
   "metadata": {
    "application/vnd.databricks.v1+cell": {
     "cellMetadata": {
      "byteLimit": 2048000,
      "rowLimit": 10000
     },
     "inputWidgets": {},
     "nuid": "d8f6a52f-2e50-45ee-b642-8d04a5403722",
     "showTitle": false,
     "title": ""
    }
   },
   "outputs": [],
   "source": [
    "# string concatenation\n",
    "from pyspark.sql import SparkSession\n",
    "from pyspark.sql.functions import col,avg,when,countDistinct,substring,concat,lit,concat_ws\n",
    "# Create a Spark session\n",
    "\n",
    "spark = SparkSession.builder.appName(\"Day1\").getOrCreate()"
   ]
  },
  {
   "cell_type": "code",
   "execution_count": 0,
   "metadata": {
    "application/vnd.databricks.v1+cell": {
     "cellMetadata": {
      "byteLimit": 2048000,
      "rowLimit": 10000
     },
     "inputWidgets": {},
     "nuid": "e4afd1a9-875d-4b2c-9015-32d06f5be6aa",
     "showTitle": false,
     "title": ""
    }
   },
   "outputs": [
    {
     "output_type": "stream",
     "name": "stdout",
     "output_type": "stream",
     "text": [
      "+-------+---+-----------+------+\n|   Name|Age|       City|Salary|\n+-------+---+-----------+------+\n|  Alice| 34|   New York|120000|\n|    Bob| 28|    Chicago| 95000|\n|Charlie| 40|Los Angeles|150000|\n|  David| 23|    Houston| 80000|\n|    Eve| 36|     Boston|135000|\n+-------+---+-----------+------+\n\n+-------+----+\n|   Name|Dept|\n+-------+----+\n|  Alice|  IT|\n|    Bob|  HR|\n|Charlie|  HR|\n+-------+----+\n\n"
     ]
    }
   ],
   "source": [
    "# Sample data\n",
    "data = [(\"Alice\", 34, \"New York\", 120000),\n",
    "    (\"Bob\", 28, \"Chicago\", 95000),\n",
    "    (\"Charlie\", 40, \"Los Angeles\", 150000),\n",
    "    (\"David\", 23, \"Houston\", 80000),\n",
    "    (\"Eve\", 36, \"Boston\", 135000)]\n",
    "\n",
    "# Define the schema for the DataFrame\n",
    "schema = [\"Name\", \"Age\", \"City\", \"Salary\"]\n",
    "\n",
    "# Create a DataFrame using the provided data and schema\n",
    "df = spark.createDataFrame(data, schema)\n",
    "\n",
    "df.show()\n",
    "\n",
    "# Sample data for join \n",
    "data_j = [(\"Alice\", \"IT\"), (\"Bob\", \"HR\"), (\"Charlie\", \"HR\")]\n",
    "# Define the schema for the DataFrame\n",
    "schema_j = [\"Name\", \"Dept\"]\n",
    "\n",
    "# Create a DataFrame using the provided data and schema\n",
    "df_j = spark.createDataFrame(data_j, schema_j)\n",
    "df_j.show()"
   ]
  },
  {
   "cell_type": "code",
   "execution_count": 0,
   "metadata": {
    "application/vnd.databricks.v1+cell": {
     "cellMetadata": {
      "byteLimit": 2048000,
      "rowLimit": 10000
     },
     "inputWidgets": {},
     "nuid": "8d2f2200-bf55-47fd-a35c-e3f52bf7eea4",
     "showTitle": false,
     "title": ""
    }
   },
   "outputs": [
    {
     "output_type": "stream",
     "name": "stdout",
     "output_type": "stream",
     "text": [
      "Out[133]: 5"
     ]
    }
   ],
   "source": [
    "# count\n",
    "df.count()"
   ]
  },
  {
   "cell_type": "code",
   "execution_count": 0,
   "metadata": {
    "application/vnd.databricks.v1+cell": {
     "cellMetadata": {
      "byteLimit": 2048000,
      "rowLimit": 10000
     },
     "inputWidgets": {},
     "nuid": "de18c9db-73e2-4ece-a9af-256f10282634",
     "showTitle": false,
     "title": ""
    }
   },
   "outputs": [
    {
     "output_type": "stream",
     "name": "stdout",
     "output_type": "stream",
     "text": [
      "+-------+-----------+\n|   Name|       City|\n+-------+-----------+\n|  Alice|   New York|\n|    Bob|    Chicago|\n|Charlie|Los Angeles|\n|  David|    Houston|\n|    Eve|     Boston|\n+-------+-----------+\n\n"
     ]
    }
   ],
   "source": [
    "#Select columns\n",
    "df.select(\"Name\",\"City\").show()"
   ]
  },
  {
   "cell_type": "code",
   "execution_count": 0,
   "metadata": {
    "application/vnd.databricks.v1+cell": {
     "cellMetadata": {
      "byteLimit": 2048000,
      "rowLimit": 10000
     },
     "inputWidgets": {},
     "nuid": "115a4bdb-f8fc-47d5-999c-ededb7316400",
     "showTitle": false,
     "title": ""
    }
   },
   "outputs": [
    {
     "output_type": "stream",
     "name": "stdout",
     "output_type": "stream",
     "text": [
      "+-------+---+-----------+------+\n|   Name|Age|       City|Salary|\n+-------+---+-----------+------+\n|  Alice| 34|   New York|120000|\n|Charlie| 40|Los Angeles|150000|\n|    Eve| 36|     Boston|135000|\n+-------+---+-----------+------+\n\n"
     ]
    }
   ],
   "source": [
    "#Filter Rows\n",
    "df.filter(col(\"Age\")>30).show()"
   ]
  },
  {
   "cell_type": "code",
   "execution_count": 0,
   "metadata": {
    "application/vnd.databricks.v1+cell": {
     "cellMetadata": {
      "byteLimit": 2048000,
      "rowLimit": 10000
     },
     "inputWidgets": {},
     "nuid": "d4d804d8-3d38-4196-a3ad-429d843b04f4",
     "showTitle": false,
     "title": ""
    }
   },
   "outputs": [
    {
     "output_type": "stream",
     "name": "stdout",
     "output_type": "stream",
     "text": [
      "+--------+\n| Avg_sal|\n+--------+\n|116000.0|\n+--------+\n\n"
     ]
    }
   ],
   "source": [
    "#Avg of column & Alias \n",
    "df.select(avg(\"salary\").alias(\"Avg_sal\")).show()"
   ]
  },
  {
   "cell_type": "code",
   "execution_count": 0,
   "metadata": {
    "application/vnd.databricks.v1+cell": {
     "cellMetadata": {
      "byteLimit": 2048000,
      "rowLimit": 10000
     },
     "inputWidgets": {},
     "nuid": "4f6d6cec-00c6-48c4-8051-b983c8157ab6",
     "showTitle": false,
     "title": ""
    }
   },
   "outputs": [
    {
     "output_type": "stream",
     "name": "stdout",
     "output_type": "stream",
     "text": [
      "+-----------+-----+\n|       City|count|\n+-----------+-----+\n|   New York|    1|\n|    Chicago|    1|\n|Los Angeles|    1|\n|    Houston|    1|\n|     Boston|    1|\n+-----------+-----+\n\n"
     ]
    }
   ],
   "source": [
    "#group by\n",
    "df.groupBy(\"City\").count().show()"
   ]
  },
  {
   "cell_type": "code",
   "execution_count": 0,
   "metadata": {
    "application/vnd.databricks.v1+cell": {
     "cellMetadata": {
      "byteLimit": 2048000,
      "rowLimit": 10000
     },
     "inputWidgets": {},
     "nuid": "68109cdb-bca4-41db-be18-03f603728947",
     "showTitle": false,
     "title": ""
    }
   },
   "outputs": [
    {
     "output_type": "stream",
     "name": "stdout",
     "output_type": "stream",
     "text": [
      "+-------+---+-----------+------+\n|   Name|Age|       City|Salary|\n+-------+---+-----------+------+\n|  David| 23|    Houston| 80000|\n|    Bob| 28|    Chicago| 95000|\n|  Alice| 34|   New York|120000|\n|    Eve| 36|     Boston|135000|\n|Charlie| 40|Los Angeles|150000|\n+-------+---+-----------+------+\n\n+-------+---+-----------+------+\n|   Name|Age|       City|Salary|\n+-------+---+-----------+------+\n|Charlie| 40|Los Angeles|150000|\n|    Eve| 36|     Boston|135000|\n|  Alice| 34|   New York|120000|\n|    Bob| 28|    Chicago| 95000|\n|  David| 23|    Houston| 80000|\n+-------+---+-----------+------+\n\n"
     ]
    }
   ],
   "source": [
    "#order by\n",
    "df.orderBy(col(\"salary\")).show()\n",
    "# order by salary descending \n",
    "df.orderBy(col(\"salary\").desc()).show()"
   ]
  },
  {
   "cell_type": "code",
   "execution_count": 0,
   "metadata": {
    "application/vnd.databricks.v1+cell": {
     "cellMetadata": {
      "byteLimit": 2048000,
      "rowLimit": 10000
     },
     "inputWidgets": {},
     "nuid": "63166a95-5fa4-4027-9ffc-12377df07b9d",
     "showTitle": false,
     "title": ""
    }
   },
   "outputs": [
    {
     "output_type": "stream",
     "name": "stdout",
     "output_type": "stream",
     "text": [
      "+-------+---+-----------+------+-------+----+\n|   Name|Age|       City|Salary|   Name|Dept|\n+-------+---+-----------+------+-------+----+\n|  Alice| 34|   New York|120000|  Alice|  IT|\n|    Bob| 28|    Chicago| 95000|    Bob|  HR|\n|Charlie| 40|Los Angeles|150000|Charlie|  HR|\n+-------+---+-----------+------+-------+----+\n\n+-------+---+----+\n|   Name|Age|Dept|\n+-------+---+----+\n|  Alice| 34|  IT|\n|    Bob| 28|  HR|\n|Charlie| 40|  HR|\n+-------+---+----+\n\n"
     ]
    }
   ],
   "source": [
    "#Join  \n",
    "df.join(df_j,df.Name==df_j.Name).show()\n",
    "#using Alias in join \n",
    "df.alias(\"A\").join(df_j.alias(\"B\"),df.Name==df_j.Name).select(\"A.Name\",\"A.Age\",\"B.Dept\").show()"
   ]
  },
  {
   "cell_type": "code",
   "execution_count": 0,
   "metadata": {
    "application/vnd.databricks.v1+cell": {
     "cellMetadata": {
      "byteLimit": 2048000,
      "rowLimit": 10000
     },
     "inputWidgets": {},
     "nuid": "6176aec7-6969-4de3-a183-e085dcb7d064",
     "showTitle": false,
     "title": ""
    }
   },
   "outputs": [
    {
     "output_type": "stream",
     "name": "stdout",
     "output_type": "stream",
     "text": [
      "+-------+---+-----------+------+\n|   Name|Age|       City|Salary|\n+-------+---+-----------+------+\n|  Alice| 34|   New York|120000|\n|    Bob| 28|    Chicago| 95000|\n|Charlie| 40|Los Angeles|150000|\n|  David| 23|    Houston| 80000|\n|    Eve| 36|     Boston|135000|\n|  Alice| 34|   New York|120000|\n|    Bob| 28|    Chicago| 95000|\n|Charlie| 40|Los Angeles|150000|\n|  David| 23|    Houston| 80000|\n|    Eve| 36|     Boston|135000|\n+-------+---+-----------+------+\n\n"
     ]
    }
   ],
   "source": [
    "#unionAll\n",
    "df.unionAll(df).show()"
   ]
  },
  {
   "cell_type": "code",
   "execution_count": 0,
   "metadata": {
    "application/vnd.databricks.v1+cell": {
     "cellMetadata": {
      "byteLimit": 2048000,
      "rowLimit": 10000
     },
     "inputWidgets": {},
     "nuid": "c29eb28a-2202-49fa-a979-52e3f9801fbf",
     "showTitle": false,
     "title": ""
    }
   },
   "outputs": [
    {
     "output_type": "stream",
     "name": "stdout",
     "output_type": "stream",
     "text": [
      "+-------+---+-----------+------+\n|   Name|Age|       City|Salary|\n+-------+---+-----------+------+\n|  Alice| 34|   New York|120000|\n|    Bob| 28|    Chicago| 95000|\n|Charlie| 40|Los Angeles|150000|\n|  David| 23|    Houston| 80000|\n|    Eve| 36|     Boston|135000|\n|  Alice| 34|   New York|120000|\n|    Bob| 28|    Chicago| 95000|\n|Charlie| 40|Los Angeles|150000|\n|  David| 23|    Houston| 80000|\n|    Eve| 36|     Boston|135000|\n+-------+---+-----------+------+\n\n"
     ]
    }
   ],
   "source": [
    "#union\n",
    "df.union(df).show()"
   ]
  },
  {
   "cell_type": "code",
   "execution_count": 0,
   "metadata": {
    "application/vnd.databricks.v1+cell": {
     "cellMetadata": {
      "byteLimit": 2048000,
      "rowLimit": 10000
     },
     "inputWidgets": {},
     "nuid": "89ec878a-df31-418a-93df-adb907d6ce27",
     "showTitle": false,
     "title": ""
    }
   },
   "outputs": [],
   "source": [
    "# union & unionAll both have same result \n",
    "# to remove duplicate you have to use distinct or dropDuplicates\n",
    "union_df=df.union(df)\n",
    "unionAll_df=df.union(df)"
   ]
  },
  {
   "cell_type": "code",
   "execution_count": 0,
   "metadata": {
    "application/vnd.databricks.v1+cell": {
     "cellMetadata": {
      "byteLimit": 2048000,
      "rowLimit": 10000
     },
     "inputWidgets": {},
     "nuid": "7abd29cf-b0f1-4086-b879-251955a19b9e",
     "showTitle": false,
     "title": ""
    }
   },
   "outputs": [
    {
     "output_type": "stream",
     "name": "stdout",
     "output_type": "stream",
     "text": [
      "+-------+---+-----------+------+\n|   Name|Age|       City|Salary|\n+-------+---+-----------+------+\n|  Alice| 34|   New York|120000|\n|    Bob| 28|    Chicago| 95000|\n|Charlie| 40|Los Angeles|150000|\n|  David| 23|    Houston| 80000|\n|    Eve| 36|     Boston|135000|\n+-------+---+-----------+------+\n\n+-------+---+-----------+------+\n|   Name|Age|       City|Salary|\n+-------+---+-----------+------+\n|  Alice| 34|   New York|120000|\n|    Bob| 28|    Chicago| 95000|\n|Charlie| 40|Los Angeles|150000|\n|  David| 23|    Houston| 80000|\n|    Eve| 36|     Boston|135000|\n+-------+---+-----------+------+\n\n"
     ]
    }
   ],
   "source": [
    "#distinct\n",
    "union_df.distinct().show()\n",
    "unionAll_df.distinct().show()"
   ]
  },
  {
   "cell_type": "code",
   "execution_count": 0,
   "metadata": {
    "application/vnd.databricks.v1+cell": {
     "cellMetadata": {
      "byteLimit": 2048000,
      "rowLimit": 10000
     },
     "inputWidgets": {},
     "nuid": "331df4a9-2226-4b77-a6ad-3fa8590b29a9",
     "showTitle": false,
     "title": ""
    }
   },
   "outputs": [
    {
     "output_type": "stream",
     "name": "stdout",
     "output_type": "stream",
     "text": [
      "+-------+---+-----------+------+\n|   Name|Age|       City|Salary|\n+-------+---+-----------+------+\n|  Alice| 34|   New York|120000|\n|    Bob| 28|    Chicago| 95000|\n|Charlie| 40|Los Angeles|150000|\n|  David| 23|    Houston| 80000|\n|    Eve| 36|     Boston|135000|\n+-------+---+-----------+------+\n\n+-------+---+-----------+------+\n|   Name|Age|       City|Salary|\n+-------+---+-----------+------+\n|  Alice| 34|   New York|120000|\n|    Bob| 28|    Chicago| 95000|\n|Charlie| 40|Los Angeles|150000|\n|  David| 23|    Houston| 80000|\n|    Eve| 36|     Boston|135000|\n+-------+---+-----------+------+\n\n"
     ]
    }
   ],
   "source": [
    "#dropDuplicates\n",
    "union_df.dropDuplicates().show()\n",
    "unionAll_df.dropDuplicates().show()"
   ]
  },
  {
   "cell_type": "code",
   "execution_count": 0,
   "metadata": {
    "application/vnd.databricks.v1+cell": {
     "cellMetadata": {
      "byteLimit": 2048000,
      "rowLimit": 10000
     },
     "inputWidgets": {},
     "nuid": "4fc0a712-d6ca-40d9-b23c-ced2d871a222",
     "showTitle": false,
     "title": ""
    }
   },
   "outputs": [
    {
     "output_type": "stream",
     "name": "stdout",
     "output_type": "stream",
     "text": [
      "+-----+---+--------+------+\n| Name|Age|    City|Salary|\n+-----+---+--------+------+\n|Alice| 34|New York|120000|\n|  Bob| 28| Chicago| 95000|\n+-----+---+--------+------+\n\n"
     ]
    }
   ],
   "source": [
    "#limit\n",
    "df.limit(2).show()"
   ]
  },
  {
   "cell_type": "code",
   "execution_count": 0,
   "metadata": {
    "application/vnd.databricks.v1+cell": {
     "cellMetadata": {
      "byteLimit": 2048000,
      "rowLimit": 10000
     },
     "inputWidgets": {},
     "nuid": "0106076b-07b6-4ff4-a058-03d5ca2ea396",
     "showTitle": false,
     "title": ""
    }
   },
   "outputs": [
    {
     "output_type": "stream",
     "name": "stdout",
     "output_type": "stream",
     "text": [
      "+-------+---+-----------+------+--------------+\n|   Name|Age|       City|Salary|revised_Salary|\n+-------+---+-----------+------+--------------+\n|  Alice| 34|   New York|120000|      132000.0|\n|    Bob| 28|    Chicago| 95000|      104500.0|\n|Charlie| 40|Los Angeles|150000|      165000.0|\n|  David| 23|    Houston| 80000|       88000.0|\n|    Eve| 36|     Boston|135000|      148500.0|\n+-------+---+-----------+------+--------------+\n\n"
     ]
    }
   ],
   "source": [
    "#new Column (10% hike )\n",
    "revised_Salary_df=df.withColumn(\"revised_Salary\",col(\"Salary\")+col(\"Salary\")*10/100)\n",
    "revised_Salary_df.show()"
   ]
  },
  {
   "cell_type": "code",
   "execution_count": 0,
   "metadata": {
    "application/vnd.databricks.v1+cell": {
     "cellMetadata": {
      "byteLimit": 2048000,
      "rowLimit": 10000
     },
     "inputWidgets": {},
     "nuid": "5557d7c4-46ba-468d-9c79-456b2b6633e6",
     "showTitle": false,
     "title": ""
    }
   },
   "outputs": [
    {
     "output_type": "stream",
     "name": "stdout",
     "output_type": "stream",
     "text": [
      "+-------+---+-----------+------+\n|   Name|Age|       City|Salary|\n+-------+---+-----------+------+\n|Charlie| 40|Los Angeles|150000|\n|    Eve| 36|     Boston|135000|\n+-------+---+-----------+------+\n\n"
     ]
    }
   ],
   "source": [
    "# Filter on multiple column \n",
    "df.filter((col(\"Age\")>30) & (col(\"Salary\")>130000)).show()"
   ]
  },
  {
   "cell_type": "code",
   "execution_count": 0,
   "metadata": {
    "application/vnd.databricks.v1+cell": {
     "cellMetadata": {
      "byteLimit": 2048000,
      "rowLimit": 10000
     },
     "inputWidgets": {},
     "nuid": "b3e36bb4-98b3-4d8b-bf32-525ba5ebdd52",
     "showTitle": false,
     "title": ""
    }
   },
   "outputs": [
    {
     "output_type": "stream",
     "name": "stdout",
     "output_type": "stream",
     "text": [
      "+-------+\n|   Name|\n+-------+\n|  Alice|\n|Charlie|\n|    Eve|\n+-------+\n\n"
     ]
    }
   ],
   "source": [
    "#Subquery\n",
    "df.filter(col(\"Age\")>30).alias(\"new_df\").select(\"new_df.Name\").show()"
   ]
  },
  {
   "cell_type": "code",
   "execution_count": 0,
   "metadata": {
    "application/vnd.databricks.v1+cell": {
     "cellMetadata": {
      "byteLimit": 2048000,
      "rowLimit": 10000
     },
     "inputWidgets": {},
     "nuid": "e56f0dd8-58cb-4a06-a24d-f646be93a72c",
     "showTitle": false,
     "title": ""
    }
   },
   "outputs": [
    {
     "output_type": "stream",
     "name": "stdout",
     "output_type": "stream",
     "text": [
      "+----+---+-------+------+\n|Name|Age|   City|Salary|\n+----+---+-------+------+\n| Bob| 28|Chicago| 95000|\n+----+---+-------+------+\n\n"
     ]
    }
   ],
   "source": [
    "#Between\n",
    "df.filter(col(\"Age\").between(25,30)).show()"
   ]
  },
  {
   "cell_type": "code",
   "execution_count": 0,
   "metadata": {
    "application/vnd.databricks.v1+cell": {
     "cellMetadata": {
      "byteLimit": 2048000,
      "rowLimit": 10000
     },
     "inputWidgets": {},
     "nuid": "be6a7a57-bd8a-44ac-8fc6-d8ba696ede46",
     "showTitle": false,
     "title": ""
    }
   },
   "outputs": [
    {
     "output_type": "stream",
     "name": "stdout",
     "output_type": "stream",
     "text": [
      "+-----+---+-------+------+\n| Name|Age|   City|Salary|\n+-----+---+-------+------+\n|David| 23|Houston| 80000|\n|  Eve| 36| Boston|135000|\n+-----+---+-------+------+\n\n"
     ]
    }
   ],
   "source": [
    "#like \n",
    "df.filter(col(\"City\").like(\"%on\")).show()"
   ]
  },
  {
   "cell_type": "code",
   "execution_count": 0,
   "metadata": {
    "application/vnd.databricks.v1+cell": {
     "cellMetadata": {
      "byteLimit": 2048000,
      "rowLimit": 10000
     },
     "inputWidgets": {},
     "nuid": "67ac9ca1-1225-4e98-9078-f889239bb91c",
     "showTitle": false,
     "title": ""
    }
   },
   "outputs": [
    {
     "output_type": "stream",
     "name": "stdout",
     "output_type": "stream",
     "text": [
      "+-------+----+----------------------+\n|Name   |Dept|dept_full_name        |\n+-------+----+----------------------+\n|Alice  |IT  |Information technology|\n|Bob    |HR  |Human resources       |\n|Charlie|HR  |Human resources       |\n+-------+----+----------------------+\n\n"
     ]
    }
   ],
   "source": [
    "#Case \n",
    "df_j.withColumn(\"dept_full_name\",when(col(\"Dept\")==\"IT\",\"Information technology\")\\\n",
    "    .when(col(\"Dept\")==\"HR\",\"Human resources\")\\\n",
    "        .otherwise(None)).show(truncate=False)"
   ]
  },
  {
   "cell_type": "code",
   "execution_count": 0,
   "metadata": {
    "application/vnd.databricks.v1+cell": {
     "cellMetadata": {
      "byteLimit": 2048000,
      "rowLimit": 10000
     },
     "inputWidgets": {},
     "nuid": "d5908e54-990d-4c83-b485-702d02096e2c",
     "showTitle": false,
     "title": ""
    }
   },
   "outputs": [
    {
     "output_type": "stream",
     "name": "stdout",
     "output_type": "stream",
     "text": [
      "+--------+\n|  Salary|\n+--------+\n|120000.0|\n| 95000.0|\n|150000.0|\n| 80000.0|\n|135000.0|\n+--------+\n\n"
     ]
    }
   ],
   "source": [
    "#Cast data type \n",
    "df.select(col(\"Salary\").cast(\"float\")).show()"
   ]
  },
  {
   "cell_type": "code",
   "execution_count": 0,
   "metadata": {
    "application/vnd.databricks.v1+cell": {
     "cellMetadata": {
      "byteLimit": 2048000,
      "rowLimit": 10000
     },
     "inputWidgets": {},
     "nuid": "70c672ef-1039-446f-9453-939aa954c815",
     "showTitle": false,
     "title": ""
    }
   },
   "outputs": [
    {
     "output_type": "stream",
     "name": "stdout",
     "output_type": "stream",
     "text": [
      "+--------------------+\n|count(DISTINCT Name)|\n+--------------------+\n|                   5|\n+--------------------+\n\n"
     ]
    }
   ],
   "source": [
    "# countDistinct\n",
    "union_df.select(countDistinct(\"Name\")).show()"
   ]
  },
  {
   "cell_type": "code",
   "execution_count": 0,
   "metadata": {
    "application/vnd.databricks.v1+cell": {
     "cellMetadata": {
      "byteLimit": 2048000,
      "rowLimit": 10000
     },
     "inputWidgets": {},
     "nuid": "867e2f02-a2e1-4bf6-9026-0ba15cb0e516",
     "showTitle": false,
     "title": ""
    }
   },
   "outputs": [
    {
     "output_type": "stream",
     "name": "stdout",
     "output_type": "stream",
     "text": [
      "+--------------+\n|substring_name|\n+--------------+\n|           Ali|\n|           Bob|\n|           Cha|\n|           Dav|\n|           Eve|\n+--------------+\n\n"
     ]
    }
   ],
   "source": [
    "#substring\n",
    "df.select(substring(\"Name\",1,3).alias(\"substring_name\")).show()"
   ]
  },
  {
   "cell_type": "code",
   "execution_count": 0,
   "metadata": {
    "application/vnd.databricks.v1+cell": {
     "cellMetadata": {
      "byteLimit": 2048000,
      "rowLimit": 10000
     },
     "inputWidgets": {},
     "nuid": "969e56a2-fcd7-44f2-82a0-d43929445432",
     "showTitle": false,
     "title": ""
    }
   },
   "outputs": [
    {
     "output_type": "stream",
     "name": "stdout",
     "output_type": "stream",
     "text": [
      "+-------+---+-----------+------+-------------+\n|   Name|Age|       City|Salary|new_dummy_col|\n+-------+---+-----------+------+-------------+\n|  Alice| 34|   New York|120000|        dummy|\n|    Bob| 28|    Chicago| 95000|        dummy|\n|Charlie| 40|Los Angeles|150000|        dummy|\n|  David| 23|    Houston| 80000|        dummy|\n|    Eve| 36|     Boston|135000|        dummy|\n+-------+---+-----------+------+-------------+\n\n"
     ]
    }
   ],
   "source": [
    "#lit\n",
    "df.withColumn(\"new_dummy_col\",lit(\"dummy\")).show()"
   ]
  },
  {
   "cell_type": "code",
   "execution_count": 0,
   "metadata": {
    "application/vnd.databricks.v1+cell": {
     "cellMetadata": {
      "byteLimit": 2048000,
      "rowLimit": 10000
     },
     "inputWidgets": {},
     "nuid": "9cc41c61-713c-45d7-93cd-5d41acb6f271",
     "showTitle": false,
     "title": ""
    }
   },
   "outputs": [
    {
     "output_type": "stream",
     "name": "stdout",
     "output_type": "stream",
     "text": [
      "+---------------------+\n|concat_col           |\n+---------------------+\n|Alice : New York     |\n|Bob : Chicago        |\n|Charlie : Los Angeles|\n|David : Houston      |\n|Eve : Boston         |\n+---------------------+\n\n"
     ]
    }
   ],
   "source": [
    "#concat column\n",
    "df.select(concat(\"Name\",lit(\" : \"),\"City\").alias(\"concat_col\")).show(truncate=False)"
   ]
  },
  {
   "cell_type": "code",
   "execution_count": 0,
   "metadata": {
    "application/vnd.databricks.v1+cell": {
     "cellMetadata": {
      "byteLimit": 2048000,
      "rowLimit": 10000
     },
     "inputWidgets": {},
     "nuid": "cf22f87b-36dd-4aea-97ac-cef7afba9e48",
     "showTitle": false,
     "title": ""
    }
   },
   "outputs": [
    {
     "output_type": "stream",
     "name": "stdout",
     "output_type": "stream",
     "text": [
      "+-------+---+-----------+------+------------------------------+\n|Name   |Age|City       |Salary|concat_ws                     |\n+-------+---+-----------+------+------------------------------+\n|Alice  |34 |New York   |120000|Alice : New York : 120000     |\n|Bob    |28 |Chicago    |95000 |Bob : Chicago : 95000         |\n|Charlie|40 |Los Angeles|150000|Charlie : Los Angeles : 150000|\n|David  |23 |Houston    |80000 |David : Houston : 80000       |\n|Eve    |36 |Boston     |135000|Eve : Boston : 135000         |\n+-------+---+-----------+------+------------------------------+\n\n"
     ]
    }
   ],
   "source": [
    "# string concatenation\n",
    "df.withColumn(\"concat_ws\",concat_ws(\" : \",\"Name\",\"City\",\"salary\")).show( truncate =False)"
   ]
  }
 ],
 "metadata": {
  "application/vnd.databricks.v1+notebook": {
   "dashboards": [],
   "language": "python",
   "notebookMetadata": {
    "pythonIndentUnit": 4
   },
   "notebookName": "Day 1 (PySpark)",
   "widgets": {}
  }
 },
 "nbformat": 4,
 "nbformat_minor": 0
}
