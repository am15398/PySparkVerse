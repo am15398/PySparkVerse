{
 "cells": [
  {
   "cell_type": "markdown",
   "metadata": {
    "application/vnd.databricks.v1+cell": {
     "cellMetadata": {},
     "inputWidgets": {},
     "nuid": "fdd2c74b-a94f-4bad-901a-3e554b48d7c0",
     "showTitle": false,
     "title": ""
    }
   },
   "source": [
    "* Set is a collection which is unordered and unindexed. No duplicate members.{}\n",
    "* * Adding and Removing Elements\n",
    "* * Set Operations\n",
    "* * Subset and Superset\n",
    "* * Copying\n",
    "* * len"
   ]
  },
  {
   "cell_type": "markdown",
   "metadata": {
    "application/vnd.databricks.v1+cell": {
     "cellMetadata": {},
     "inputWidgets": {},
     "nuid": "74159f60-f407-4a2a-9599-6ff8854e9fc5",
     "showTitle": false,
     "title": ""
    }
   },
   "source": [
    "### Adding and Removing Elements\n",
    "* * add\n",
    "* * remove\n",
    "* * discard\n",
    "* * pop\n",
    "* * clear"
   ]
  },
  {
   "cell_type": "code",
   "execution_count": 0,
   "metadata": {
    "application/vnd.databricks.v1+cell": {
     "cellMetadata": {
      "byteLimit": 2048000,
      "rowLimit": 10000
     },
     "inputWidgets": {},
     "nuid": "35c919e5-f208-4817-b72a-29b91bf650b6",
     "showTitle": false,
     "title": ""
    }
   },
   "outputs": [
    {
     "output_type": "stream",
     "name": "stdout",
     "output_type": "stream",
     "text": [
      "add : {1, 2, 3, 4}\nremove : {1, 2, 4}\ndiscard : {1, 4}\npop : {4}\nclear : set()\n"
     ]
    }
   ],
   "source": [
    "s = {1, 2, 3}\n",
    "s.add(4)\n",
    "print(\"add :\",s)  \n",
    "s.remove(3)  \n",
    "print(\"remove :\",s) \n",
    "s.discard(2) \n",
    "print(\"discard :\",s) \n",
    "s.pop()  \n",
    "print(\"pop :\",s) \n",
    "s.clear() \n",
    "print(\"clear :\",s) "
   ]
  },
  {
   "cell_type": "markdown",
   "metadata": {
    "application/vnd.databricks.v1+cell": {
     "cellMetadata": {},
     "inputWidgets": {},
     "nuid": "de85f2eb-cd9c-4f3b-bfe1-b46a0c0b6c30",
     "showTitle": false,
     "title": ""
    }
   },
   "source": [
    "### Set Operations\n",
    "* * union\n",
    "* * intersection\n",
    "* * difference\n",
    "* * symmetric_difference"
   ]
  },
  {
   "cell_type": "code",
   "execution_count": 0,
   "metadata": {
    "application/vnd.databricks.v1+cell": {
     "cellMetadata": {
      "byteLimit": 2048000,
      "rowLimit": 10000
     },
     "inputWidgets": {},
     "nuid": "13d9f2ba-2e3e-4de3-885d-ad6883ae656e",
     "showTitle": false,
     "title": ""
    }
   },
   "outputs": [
    {
     "output_type": "stream",
     "name": "stdout",
     "output_type": "stream",
     "text": [
      "union : {1, 2, 3, 4, 5}\nintersection : {3}\ndifference : {1, 2}\nsymmetric_difference : {1, 2, 4, 5}\n"
     ]
    }
   ],
   "source": [
    "s1 = {1, 2, 3}\n",
    "s2 = {3, 4, 5}  \n",
    "print('union :', s1.union(s2))\n",
    "print('intersection :', s1.intersection(s2)) \n",
    "print('difference :', s1.difference(s2)) \n",
    "print('symmetric_difference :', s1.symmetric_difference(s2)) "
   ]
  },
  {
   "cell_type": "markdown",
   "metadata": {
    "application/vnd.databricks.v1+cell": {
     "cellMetadata": {},
     "inputWidgets": {},
     "nuid": "5004dfe2-af14-44aa-85d1-ed1a40c7c343",
     "showTitle": false,
     "title": ""
    }
   },
   "source": [
    "### Subset and Superset\n",
    "* * issubset\n",
    "* * issuperset\n",
    "* * isdisjoint"
   ]
  },
  {
   "cell_type": "code",
   "execution_count": 0,
   "metadata": {
    "application/vnd.databricks.v1+cell": {
     "cellMetadata": {
      "byteLimit": 2048000,
      "rowLimit": 10000
     },
     "inputWidgets": {},
     "nuid": "a40a977e-fc5f-422c-949e-e8e5a6e1ec08",
     "showTitle": false,
     "title": ""
    }
   },
   "outputs": [
    {
     "output_type": "stream",
     "name": "stdout",
     "output_type": "stream",
     "text": [
      "issubset : True\nissubset : True\nissubset : True\n"
     ]
    }
   ],
   "source": [
    "s1 = {1, 2}\n",
    "s2 = {1, 2, 3}\n",
    "print('issubset :',s1.issubset(s2))  \n",
    "print('issubset :',s2.issuperset(s1) ) \n",
    "print('issubset :',s1.isdisjoint({3, 4})) \n"
   ]
  },
  {
   "cell_type": "markdown",
   "metadata": {
    "application/vnd.databricks.v1+cell": {
     "cellMetadata": {},
     "inputWidgets": {},
     "nuid": "a341eb7a-80aa-4f31-a30c-739623fb737e",
     "showTitle": false,
     "title": ""
    }
   },
   "source": [
    "### Copying"
   ]
  },
  {
   "cell_type": "code",
   "execution_count": 0,
   "metadata": {
    "application/vnd.databricks.v1+cell": {
     "cellMetadata": {
      "byteLimit": 2048000,
      "rowLimit": 10000
     },
     "inputWidgets": {},
     "nuid": "0e3b1242-6b8d-4073-bf0c-85a40fd71330",
     "showTitle": false,
     "title": ""
    }
   },
   "outputs": [
    {
     "output_type": "stream",
     "name": "stdout",
     "output_type": "stream",
     "text": [
      "{1, 2, 3}\n"
     ]
    }
   ],
   "source": [
    "s1 = {1, 2, 3}\n",
    "s2 = s1.copy()  \n",
    "print(s2)"
   ]
  },
  {
   "cell_type": "markdown",
   "metadata": {
    "application/vnd.databricks.v1+cell": {
     "cellMetadata": {},
     "inputWidgets": {},
     "nuid": "bd87821f-bce6-4563-9096-1168cf633db0",
     "showTitle": false,
     "title": ""
    }
   },
   "source": [
    "### Len"
   ]
  },
  {
   "cell_type": "code",
   "execution_count": 0,
   "metadata": {
    "application/vnd.databricks.v1+cell": {
     "cellMetadata": {
      "byteLimit": 2048000,
      "rowLimit": 10000
     },
     "inputWidgets": {},
     "nuid": "a4ef68e8-7c4a-43dd-8245-0fd9d1e69533",
     "showTitle": false,
     "title": ""
    }
   },
   "outputs": [
    {
     "output_type": "execute_result",
     "data": {
      "text/plain": [
       "3"
      ]
     },
     "execution_count": 14,
     "metadata": {},
     "output_type": "execute_result"
    }
   ],
   "source": [
    "s = {1, 2, 3}\n",
    "len(s)  "
   ]
  }
 ],
 "metadata": {
  "application/vnd.databricks.v1+notebook": {
   "dashboards": [],
   "environmentMetadata": null,
   "language": "python",
   "notebookMetadata": {
    "pythonIndentUnit": 4
   },
   "notebookName": "04 Set",
   "widgets": {}
  }
 },
 "nbformat": 4,
 "nbformat_minor": 0
}
