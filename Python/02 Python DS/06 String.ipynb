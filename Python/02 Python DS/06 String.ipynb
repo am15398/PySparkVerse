{
 "cells": [
  {
   "cell_type": "markdown",
   "metadata": {
    "application/vnd.databricks.v1+cell": {
     "cellMetadata": {},
     "inputWidgets": {},
     "nuid": "85f681bb-0781-4a3a-999a-4cd4529df342",
     "showTitle": false,
     "title": ""
    }
   },
   "source": [
    "### String Methods for Querying\n",
    "* * isalnum\n",
    "* * isalpha\n",
    "* * isdigit\n",
    "* * islower\n",
    "* * isupper\n",
    "* * isspace\n",
    "* * startswith\n",
    "* * endswith"
   ]
  },
  {
   "cell_type": "code",
   "execution_count": 0,
   "metadata": {
    "application/vnd.databricks.v1+cell": {
     "cellMetadata": {
      "byteLimit": 2048000,
      "rowLimit": 10000
     },
     "inputWidgets": {},
     "nuid": "2b61ec13-c38a-432d-bade-2c1752fcdc86",
     "showTitle": false,
     "title": ""
    }
   },
   "outputs": [
    {
     "output_type": "stream",
     "name": "stdout",
     "output_type": "stream",
     "text": [
      "alpha num : True\nalpha : True\ndigit : False\nlower : True\nisupper : False\nisspace : False\nstartswith : True\nendswith : True\n"
     ]
    }
   ],
   "source": [
    "str_1='abcba'\n",
    "print('alpha num :',str_1.isalnum()) #Returns True if all characters in the string are alphanumeric.\n",
    "print('alpha :',str_1.isalpha())#Returns True if all characters in the string are alphabetic.\n",
    "print('digit :',str_1.isdigit()) #Returns True if all characters in the string are digits.\n",
    "print('lower :',str_1.islower()) #Returns True if all characters in the string are lowercase.\n",
    "print('isupper :',str_1.isupper()) #Returns True if all characters in the string are uppercase.\n",
    "print('isspace :',str_1.isspace()) #Returns True if all characters in the string are whitespace.\n",
    "print('startswith :',str_1.startswith('a')) #Returns True if the string starts with the specified prefix.\n",
    "print('endswith :',str_1.endswith('a')) #Returns True if the string ends with the specified suffix."
   ]
  },
  {
   "cell_type": "markdown",
   "metadata": {
    "application/vnd.databricks.v1+cell": {
     "cellMetadata": {},
     "inputWidgets": {},
     "nuid": "9c9cf7bc-4122-4831-b05e-13eae2850ef1",
     "showTitle": false,
     "title": ""
    }
   },
   "source": [
    "### String Methods for Modification\n",
    "* * lower\n",
    "* * upper\n",
    "* * capitalize\n",
    "* * title\n",
    "* * swapcase\n",
    "* * strip\n",
    "* * lstrip\n",
    "* * rstrip\n",
    "* * replace"
   ]
  },
  {
   "cell_type": "code",
   "execution_count": 0,
   "metadata": {
    "application/vnd.databricks.v1+cell": {
     "cellMetadata": {
      "byteLimit": 2048000,
      "rowLimit": 10000
     },
     "inputWidgets": {},
     "nuid": "cb529cd0-5cdf-4819-8db2-293639a156d8",
     "showTitle": false,
     "title": ""
    }
   },
   "outputs": [
    {
     "output_type": "stream",
     "name": "stdout",
     "output_type": "stream",
     "text": [
      "lower :  ahfabncl \nupper :  AHFABNCL \ncapitalize :  ahfabncl \ntitle :  Ahfabncl \nswapcase :  AHFABNCL \nstrip : ahfabncl\nlstrip : ahfabncl \nrstrip :  ahfabncl\nreplace :  zhfzbncl \n"
     ]
    }
   ],
   "source": [
    "\n",
    "\n",
    "print('lower :',str.lower()) #Converts all characters in the string to lowercase.\n",
    "print('upper :',str.upper()) #Converts all characters in the string to uppercase.\n",
    "print('capitalize :',str.capitalize()) #Capitalizes the first character of the string.\n",
    "print('title :',str.title()) #Converts the first character of each word to uppercase.\n",
    "print('swapcase :',str.swapcase()) #Swaps case, converting uppercase to lowercase and vice versa.\n",
    "print('strip :',str.strip()) #Removes leading and trailing whitespace (or specified characters).\n",
    "print('lstrip :',str.lstrip()) #Removes leading whitespace (or specified characters).\n",
    "print('rstrip :',str.rstrip()) #Removes trailing whitespace (or specified characters).\n",
    "print('replace :',str.replace('a', 'z', 2)) #Replaces occurrences of a substring with another substring."
   ]
  },
  {
   "cell_type": "markdown",
   "metadata": {
    "application/vnd.databricks.v1+cell": {
     "cellMetadata": {},
     "inputWidgets": {},
     "nuid": "7c185fe4-75ed-4752-a715-3628deb03d71",
     "showTitle": false,
     "title": ""
    }
   },
   "source": [
    "### String Methods for Searching\n",
    "* * find\n",
    "* * rfind\n",
    "* * index\n",
    "* * rindex\n",
    "* * count"
   ]
  },
  {
   "cell_type": "code",
   "execution_count": 0,
   "metadata": {
    "application/vnd.databricks.v1+cell": {
     "cellMetadata": {
      "byteLimit": 2048000,
      "rowLimit": 10000
     },
     "inputWidgets": {},
     "nuid": "3e96ebfa-cd01-4c0d-8dc8-de53a61733e7",
     "showTitle": false,
     "title": ""
    }
   },
   "outputs": [
    {
     "output_type": "stream",
     "name": "stdout",
     "output_type": "stream",
     "text": [
      "find : 2\nrfind : 8\nrindex : 9\ncount : 2\n"
     ]
    },
    {
     "output_type": "display_data",
     "data": {
      "text/plain": [
       "\u001B[0;31m---------------------------------------------------------------------------\u001B[0m\n",
       "\u001B[0;31mValueError\u001B[0m                                Traceback (most recent call last)\n",
       "File \u001B[0;32m<command-2667725543329504>, line 6\u001B[0m\n",
       "\u001B[1;32m      4\u001B[0m \u001B[38;5;28mprint\u001B[39m(\u001B[38;5;124m'\u001B[39m\u001B[38;5;124mrindex :\u001B[39m\u001B[38;5;124m'\u001B[39m,\u001B[38;5;28mstr\u001B[39m\u001B[38;5;241m.\u001B[39mrindex(\u001B[38;5;124m'\u001B[39m\u001B[38;5;124mh\u001B[39m\u001B[38;5;124m'\u001B[39m)) \u001B[38;5;66;03m#Similar to rfind(), but raises ValueError if the substring is not found.\u001B[39;00m\n",
       "\u001B[1;32m      5\u001B[0m \u001B[38;5;28mprint\u001B[39m(\u001B[38;5;124m'\u001B[39m\u001B[38;5;124mcount :\u001B[39m\u001B[38;5;124m'\u001B[39m,\u001B[38;5;28mstr\u001B[39m\u001B[38;5;241m.\u001B[39mcount(\u001B[38;5;124m'\u001B[39m\u001B[38;5;124my\u001B[39m\u001B[38;5;124m'\u001B[39m)) \u001B[38;5;66;03m#Returns the number of non-overlapping occurrences of a substring.\u001B[39;00m\n",
       "\u001B[0;32m----> 6\u001B[0m \u001B[38;5;28mprint\u001B[39m(\u001B[38;5;124m'\u001B[39m\u001B[38;5;124mindex :\u001B[39m\u001B[38;5;124m'\u001B[39m,\u001B[38;5;28mstr\u001B[39m\u001B[38;5;241m.\u001B[39mindex(\u001B[38;5;124m'\u001B[39m\u001B[38;5;124md\u001B[39m\u001B[38;5;124m'\u001B[39m))\n",
       "\n",
       "\u001B[0;31mValueError\u001B[0m: substring not found"
      ]
     },
     "metadata": {
      "application/vnd.databricks.v1+output": {
       "addedWidgets": {},
       "arguments": {},
       "datasetInfos": [],
       "jupyterProps": {
        "ename": "ValueError",
        "evalue": "substring not found"
       },
       "metadata": {
        "errorSummary": "<span class='ansi-red-fg'>ValueError</span>: substring not found"
       },
       "removedWidgets": [],
       "sqlProps": null,
       "stackFrames": [
        "\u001B[0;31m---------------------------------------------------------------------------\u001B[0m",
        "\u001B[0;31mValueError\u001B[0m                                Traceback (most recent call last)",
        "File \u001B[0;32m<command-2667725543329504>, line 6\u001B[0m\n\u001B[1;32m      4\u001B[0m \u001B[38;5;28mprint\u001B[39m(\u001B[38;5;124m'\u001B[39m\u001B[38;5;124mrindex :\u001B[39m\u001B[38;5;124m'\u001B[39m,\u001B[38;5;28mstr\u001B[39m\u001B[38;5;241m.\u001B[39mrindex(\u001B[38;5;124m'\u001B[39m\u001B[38;5;124mh\u001B[39m\u001B[38;5;124m'\u001B[39m)) \u001B[38;5;66;03m#Similar to rfind(), but raises ValueError if the substring is not found.\u001B[39;00m\n\u001B[1;32m      5\u001B[0m \u001B[38;5;28mprint\u001B[39m(\u001B[38;5;124m'\u001B[39m\u001B[38;5;124mcount :\u001B[39m\u001B[38;5;124m'\u001B[39m,\u001B[38;5;28mstr\u001B[39m\u001B[38;5;241m.\u001B[39mcount(\u001B[38;5;124m'\u001B[39m\u001B[38;5;124my\u001B[39m\u001B[38;5;124m'\u001B[39m)) \u001B[38;5;66;03m#Returns the number of non-overlapping occurrences of a substring.\u001B[39;00m\n\u001B[0;32m----> 6\u001B[0m \u001B[38;5;28mprint\u001B[39m(\u001B[38;5;124m'\u001B[39m\u001B[38;5;124mindex :\u001B[39m\u001B[38;5;124m'\u001B[39m,\u001B[38;5;28mstr\u001B[39m\u001B[38;5;241m.\u001B[39mindex(\u001B[38;5;124m'\u001B[39m\u001B[38;5;124md\u001B[39m\u001B[38;5;124m'\u001B[39m))\n",
        "\u001B[0;31mValueError\u001B[0m: substring not found"
       ],
       "type": "baseError"
      }
     },
     "output_type": "display_data"
    }
   ],
   "source": [
    "str='ayushayush'\n",
    "print('find :',str.find('u')) #Returns the lowest index where the substring is found.\n",
    "print('rfind :',str.rfind('s')) #Returns the highest index where the substring is found.\n",
    "print('rindex :',str.rindex('h')) #Similar to rfind(), but raises ValueError if the substring is not found.\n",
    "print('count :',str.count('y')) #Returns the number of non-overlapping occurrences of a substring.\n",
    "print('index :',str.index('d')) #Similar to find(), but raises ValueError if the substring is not found."
   ]
  },
  {
   "cell_type": "markdown",
   "metadata": {
    "application/vnd.databricks.v1+cell": {
     "cellMetadata": {},
     "inputWidgets": {},
     "nuid": "57548d99-81dd-4732-97c2-9cd4e7305c01",
     "showTitle": false,
     "title": ""
    }
   },
   "source": [
    "### String Methods for Splitting and Joining\n",
    "* * split\n",
    "* * rsplit\n",
    "* * splitlines\n",
    "* * partition\n",
    "* * rpartition\n",
    "* * join"
   ]
  },
  {
   "cell_type": "code",
   "execution_count": 0,
   "metadata": {
    "application/vnd.databricks.v1+cell": {
     "cellMetadata": {
      "byteLimit": 2048000,
      "rowLimit": 10000
     },
     "inputWidgets": {},
     "nuid": "6a252da7-2541-428b-ac60-4bc0bcef373d",
     "showTitle": false,
     "title": ""
    }
   },
   "outputs": [
    {
     "output_type": "stream",
     "name": "stdout",
     "output_type": "stream",
     "text": [
      "split : ['ayush', 'maurya']\nrsplit : ['ayush', 'maurya']\nsplitlines : ['ayush maurya']\npartition : ('', 'a', 'yush maurya')\nrpartition : ('ayush maury', 'a', '')\njoin : a\n"
     ]
    }
   ],
   "source": [
    "str='ayush maurya'\n",
    "print('split :',str.split(' ')) #Splits the string at the specified separator.\n",
    "print('rsplit :',str.rsplit(' ')) #Splits the string at the specified separator, starting from the right.\n",
    "print('splitlines :',str.splitlines()) #Splits the string at line breaks.\n",
    "print('partition :',str.partition('a')) #Splits the string into a tuple at the first occurrence of the separator.\n",
    "print('rpartition :',str.rpartition('a')) #Splits the string into a tuple at the last occurrence of the separator.\n",
    "print('join :',str.join('a')) #Concatenates an iterable of strings, inserting the original string as a separator."
   ]
  },
  {
   "cell_type": "markdown",
   "metadata": {
    "application/vnd.databricks.v1+cell": {
     "cellMetadata": {},
     "inputWidgets": {},
     "nuid": "1567b925-65eb-41f9-90e1-b91e9ef488b9",
     "showTitle": false,
     "title": ""
    }
   },
   "source": [
    "###  String Methods for Formatting\n",
    "* * center\n",
    "* * ljust\n",
    "* * rjust\n",
    "* * zfill"
   ]
  },
  {
   "cell_type": "code",
   "execution_count": 0,
   "metadata": {
    "application/vnd.databricks.v1+cell": {
     "cellMetadata": {
      "byteLimit": 2048000,
      "rowLimit": 10000
     },
     "inputWidgets": {},
     "nuid": "8e297fa9-ded1-4a51-b3be-b0905aead096",
     "showTitle": false,
     "title": ""
    }
   },
   "outputs": [
    {
     "output_type": "stream",
     "name": "stdout",
     "output_type": "stream",
     "text": [
      "join : ***** abc *****\njoin :  abc **********\njoin : ********** abc \njoin : 0000000000 abc \n"
     ]
    }
   ],
   "source": [
    "str=' abc '\n",
    "print('join :',str.center(15, '*')) #Centers the string, padding it with the specified fill character.\n",
    "print('join :',str.ljust(15, '*')) #Left-justifies the string, padding it with the specified fill character.\n",
    "print('join :',str.rjust(15, '*')) #Right-justifies the string, padding it with the specified fill character.\n",
    "print('join :',str.zfill(15)) #Pads the string on the left with zeros to the specified width."
   ]
  },
  {
   "cell_type": "markdown",
   "metadata": {
    "application/vnd.databricks.v1+cell": {
     "cellMetadata": {},
     "inputWidgets": {},
     "nuid": "20e48aef-b6d0-43ec-b2fa-c36f4ed379be",
     "showTitle": false,
     "title": ""
    }
   },
   "source": [
    "### Encoding and Decoding Methods\n",
    "* * encode\n",
    "* * decode"
   ]
  },
  {
   "cell_type": "code",
   "execution_count": 0,
   "metadata": {
    "application/vnd.databricks.v1+cell": {
     "cellMetadata": {
      "byteLimit": 2048000,
      "rowLimit": 10000
     },
     "inputWidgets": {},
     "nuid": "06720c7a-60c5-4b70-bc77-ecef199b2c96",
     "showTitle": false,
     "title": ""
    }
   },
   "outputs": [
    {
     "output_type": "stream",
     "name": "stdout",
     "output_type": "stream",
     "text": [
      "Original string: Hello, 你好\nEncoded bytes: b'Hello, \\xe4\\xbd\\xa0\\xe5\\xa5\\xbd'\nEncoded bytes: b'Hello, \\xe4\\xbd\\xa0\\xe5\\xa5\\xbd'\nDecoded string: Hello, 你好\n"
     ]
    }
   ],
   "source": [
    "text = \"Hello, 你好\"\n",
    "encoded_bytes = text.encode(\"utf-8\")\n",
    "\n",
    "print(\"Original string:\", text)\n",
    "print(\"Encoded bytes:\", encoded_bytes)\n",
    "\n",
    "encoded_bytes = b'Hello, \\xe4\\xbd\\xa0\\xe5\\xa5\\xbd'\n",
    "decoded_string = encoded_bytes.decode(\"utf-8\")\n",
    "\n",
    "print(\"Encoded bytes:\", encoded_bytes)\n",
    "print(\"Decoded string:\", decoded_string)"
   ]
  }
 ],
 "metadata": {
  "application/vnd.databricks.v1+notebook": {
   "dashboards": [],
   "environmentMetadata": null,
   "language": "python",
   "notebookMetadata": {
    "pythonIndentUnit": 4
   },
   "notebookName": "06 String",
   "widgets": {}
  }
 },
 "nbformat": 4,
 "nbformat_minor": 0
}
