{
 "cells": [
  {
   "cell_type": "markdown",
   "metadata": {
    "application/vnd.databricks.v1+cell": {
     "cellMetadata": {
      "byteLimit": 2048000,
      "rowLimit": 10000
     },
     "inputWidgets": {},
     "nuid": "75874f96-96a7-460f-a49e-5e66a3705291",
     "showTitle": false,
     "title": ""
    }
   },
   "source": [
    "<h1> LIST </h1>"
   ]
  },
  {
   "cell_type": "markdown",
   "metadata": {
    "application/vnd.databricks.v1+cell": {
     "cellMetadata": {
      "byteLimit": 2048000,
      "rowLimit": 10000
     },
     "inputWidgets": {},
     "nuid": "019f8656-cade-40fb-a37f-3b6d757785dc",
     "showTitle": false,
     "title": ""
    }
   },
   "source": [
    "* List is a collection which is ordered and changeable(mutable). Allows duplicate members.[,]\n",
    "* Each element in the list is called an item and is identified by its position or index.\n",
    "* * Append\n",
    "* * Copy\n",
    "* * Count\n",
    "* * Extend\n",
    "* * Index\n",
    "* * Insert\n",
    "* * Pop\n",
    "* * Remove\n",
    "* * Reverse\n",
    "* * Sort\n",
    "* * Clear"
   ]
  },
  {
   "cell_type": "code",
   "execution_count": 0,
   "metadata": {
    "application/vnd.databricks.v1+cell": {
     "cellMetadata": {
      "byteLimit": 2048000,
      "rowLimit": 10000
     },
     "inputWidgets": {},
     "nuid": "1cea7adf-f064-4c1e-af9b-94fd8e24e688",
     "showTitle": false,
     "title": ""
    }
   },
   "outputs": [
    {
     "output_type": "stream",
     "name": "stdout",
     "output_type": "stream",
     "text": [
      "[10, 1, 12, 1, 13, 1, 14, 15, 16, 17, 18, 19, 20]\n"
     ]
    }
   ],
   "source": [
    "list_a = [10,1,12,1,13,1,14,15,16,17,18,19,20]\n",
    "print(list_a)"
   ]
  },
  {
   "cell_type": "markdown",
   "metadata": {
    "application/vnd.databricks.v1+cell": {
     "cellMetadata": {
      "byteLimit": 2048000,
      "rowLimit": 10000
     },
     "inputWidgets": {},
     "nuid": "ee1a990e-6fd6-4356-a40b-c248313583af",
     "showTitle": false,
     "title": ""
    }
   },
   "source": [
    "### Append"
   ]
  },
  {
   "cell_type": "code",
   "execution_count": 0,
   "metadata": {
    "application/vnd.databricks.v1+cell": {
     "cellMetadata": {
      "byteLimit": 2048000,
      "rowLimit": 10000
     },
     "inputWidgets": {},
     "nuid": "6eb4a492-fa54-4b9c-a753-174550f01e8a",
     "showTitle": false,
     "title": ""
    }
   },
   "outputs": [
    {
     "output_type": "stream",
     "name": "stdout",
     "output_type": "stream",
     "text": [
      "[10, 1, 12, 1, 13, 1, 14, 15, 16, 17, 18, 19, 20, 'abc']\n"
     ]
    }
   ],
   "source": [
    "list_a.append(\"abc\")\n",
    "print(list_a)"
   ]
  },
  {
   "cell_type": "markdown",
   "metadata": {
    "application/vnd.databricks.v1+cell": {
     "cellMetadata": {
      "byteLimit": 2048000,
      "rowLimit": 10000
     },
     "inputWidgets": {},
     "nuid": "7f31bd40-d009-48d9-a3ce-98f985dc04e9",
     "showTitle": false,
     "title": ""
    }
   },
   "source": [
    "### Copy"
   ]
  },
  {
   "cell_type": "code",
   "execution_count": 0,
   "metadata": {
    "application/vnd.databricks.v1+cell": {
     "cellMetadata": {
      "byteLimit": 2048000,
      "rowLimit": 10000
     },
     "inputWidgets": {},
     "nuid": "5b540882-1895-48f7-951f-27c8519c9d85",
     "showTitle": false,
     "title": ""
    }
   },
   "outputs": [
    {
     "output_type": "stream",
     "name": "stdout",
     "output_type": "stream",
     "text": [
      "[10, 1, 12, 1, 13, 1, 14, 15, 16, 17, 18, 19, 20, 'abc']\n"
     ]
    }
   ],
   "source": [
    "copy_list_a=list_a.copy()\n",
    "print(copy_list_a)"
   ]
  },
  {
   "cell_type": "markdown",
   "metadata": {
    "application/vnd.databricks.v1+cell": {
     "cellMetadata": {
      "byteLimit": 2048000,
      "rowLimit": 10000
     },
     "inputWidgets": {},
     "nuid": "f3e74058-c41a-47eb-8c89-f07c9b5900a5",
     "showTitle": false,
     "title": ""
    }
   },
   "source": [
    "### Count"
   ]
  },
  {
   "cell_type": "code",
   "execution_count": 0,
   "metadata": {
    "application/vnd.databricks.v1+cell": {
     "cellMetadata": {
      "byteLimit": 2048000,
      "rowLimit": 10000
     },
     "inputWidgets": {},
     "nuid": "f04baaed-65f6-454b-8f59-6bc7bb9f2044",
     "showTitle": false,
     "title": ""
    }
   },
   "outputs": [
    {
     "output_type": "stream",
     "name": "stdout",
     "output_type": "stream",
     "text": [
      "3\n1\n"
     ]
    }
   ],
   "source": [
    "print(list_a.count(1))\n",
    "print(list_a.count('abc'))"
   ]
  },
  {
   "cell_type": "markdown",
   "metadata": {
    "application/vnd.databricks.v1+cell": {
     "cellMetadata": {
      "byteLimit": 2048000,
      "rowLimit": 10000
     },
     "inputWidgets": {},
     "nuid": "77c263e5-5d43-4327-b138-6c97768aa894",
     "showTitle": false,
     "title": ""
    }
   },
   "source": [
    "### Extend"
   ]
  },
  {
   "cell_type": "code",
   "execution_count": 0,
   "metadata": {
    "application/vnd.databricks.v1+cell": {
     "cellMetadata": {
      "byteLimit": 2048000,
      "rowLimit": 10000
     },
     "inputWidgets": {},
     "nuid": "2c3b27c7-4ff9-4ae1-a344-c01ce3265f42",
     "showTitle": false,
     "title": ""
    }
   },
   "outputs": [
    {
     "output_type": "stream",
     "name": "stdout",
     "output_type": "stream",
     "text": [
      "new_list : [1, 2, 3, 'bcd']\nold_list : [10, 1, 12, 1, 13, 1, 14, 15, 16, 17, 18, 19, 20, 'abc']\nextend list : [10, 1, 12, 1, 13, 1, 14, 15, 16, 17, 18, 19, 20, 'abc', 1, 2, 3, 'bcd']\n"
     ]
    }
   ],
   "source": [
    "new_list=[1,2,3,'bcd']\n",
    "\n",
    "print('new_list :',new_list)\n",
    "print('old_list :',list_a)\n",
    "\n",
    "list_a.extend(new_list)\n",
    "\n",
    "print('extend list :',list_a)\n"
   ]
  },
  {
   "cell_type": "markdown",
   "metadata": {
    "application/vnd.databricks.v1+cell": {
     "cellMetadata": {
      "byteLimit": 2048000,
      "rowLimit": 10000
     },
     "inputWidgets": {},
     "nuid": "5222588b-afa8-4458-80b6-96e89266c2b3",
     "showTitle": false,
     "title": ""
    }
   },
   "source": [
    "### Index"
   ]
  },
  {
   "cell_type": "code",
   "execution_count": 0,
   "metadata": {
    "application/vnd.databricks.v1+cell": {
     "cellMetadata": {
      "byteLimit": 2048000,
      "rowLimit": 10000
     },
     "inputWidgets": {},
     "nuid": "fe7faf1c-39bb-4bb6-a900-587666790b04",
     "showTitle": false,
     "title": ""
    }
   },
   "outputs": [
    {
     "output_type": "stream",
     "name": "stdout",
     "output_type": "stream",
     "text": [
      "6\n17\n1\n"
     ]
    }
   ],
   "source": [
    "print(list_a.index(14))\n",
    "print(list_a.index('bcd'))\n",
    "print(list_a.index(1))\n",
    "\n",
    "\n"
   ]
  },
  {
   "cell_type": "markdown",
   "metadata": {
    "application/vnd.databricks.v1+cell": {
     "cellMetadata": {
      "byteLimit": 2048000,
      "rowLimit": 10000
     },
     "inputWidgets": {},
     "nuid": "3e1ec19f-40c4-4c85-88ff-7b375a95cf14",
     "showTitle": false,
     "title": ""
    }
   },
   "source": [
    "### Insert"
   ]
  },
  {
   "cell_type": "code",
   "execution_count": 0,
   "metadata": {
    "application/vnd.databricks.v1+cell": {
     "cellMetadata": {
      "byteLimit": 2048000,
      "rowLimit": 10000
     },
     "inputWidgets": {},
     "nuid": "1f18df74-8037-491b-9a91-f80e2cf4495d",
     "showTitle": false,
     "title": ""
    }
   },
   "outputs": [
    {
     "output_type": "stream",
     "name": "stdout",
     "output_type": "stream",
     "text": [
      "Before insert : [10, 1, 12, 1, 13, 1, 14, 15, 16, 17, 18, 19, 20, 'abc', 1, 2, 3, 'bcd']\nAfter insert : [10, 'ayush', 1, 12, 1, 13, 1, 14, 15, 16, 17, 18, 19, 20, 'abc', 1, 2, 3, 'bcd']\n"
     ]
    }
   ],
   "source": [
    "print('Before insert :',list_a)\n",
    "list_a.insert(1,'ayush')\n",
    "print('After insert :',list_a)"
   ]
  },
  {
   "cell_type": "markdown",
   "metadata": {
    "application/vnd.databricks.v1+cell": {
     "cellMetadata": {
      "byteLimit": 2048000,
      "rowLimit": 10000
     },
     "inputWidgets": {},
     "nuid": "be6774f7-a4f9-42ce-a60e-0075c8aae336",
     "showTitle": false,
     "title": ""
    }
   },
   "source": [
    "### Pop"
   ]
  },
  {
   "cell_type": "code",
   "execution_count": 0,
   "metadata": {
    "application/vnd.databricks.v1+cell": {
     "cellMetadata": {
      "byteLimit": 2048000,
      "rowLimit": 10000
     },
     "inputWidgets": {},
     "nuid": "1e0fa64d-668b-43d8-9eb3-6bc5c3dc5078",
     "showTitle": false,
     "title": ""
    }
   },
   "outputs": [
    {
     "output_type": "stream",
     "name": "stdout",
     "output_type": "stream",
     "text": [
      "Before Pop : [10, 'ayush', 1, 12, 1, 13, 1, 14, 15, 16, 17, 18, 19, 20, 'abc', 1, 2, 3, 'bcd']\nAfter Pop : [10, 1, 12, 1, 13, 1, 14, 15, 16, 17, 18, 19, 20, 'abc', 1, 2, 3, 'bcd']\n"
     ]
    }
   ],
   "source": [
    "print('Before Pop :',list_a)\n",
    "list_a.pop(1)\n",
    "print('After Pop :',list_a)"
   ]
  },
  {
   "cell_type": "markdown",
   "metadata": {
    "application/vnd.databricks.v1+cell": {
     "cellMetadata": {
      "byteLimit": 2048000,
      "rowLimit": 10000
     },
     "inputWidgets": {},
     "nuid": "22b8d98f-243e-4ceb-b7f8-6f86cadd2144",
     "showTitle": false,
     "title": ""
    }
   },
   "source": [
    "### Remove"
   ]
  },
  {
   "cell_type": "code",
   "execution_count": 0,
   "metadata": {
    "application/vnd.databricks.v1+cell": {
     "cellMetadata": {
      "byteLimit": 2048000,
      "rowLimit": 10000
     },
     "inputWidgets": {},
     "nuid": "d24c743a-58f4-44eb-99a8-40bdb7b9ab6f",
     "showTitle": false,
     "title": ""
    }
   },
   "outputs": [
    {
     "output_type": "stream",
     "name": "stdout",
     "output_type": "stream",
     "text": [
      "Before Remove : [10, 1, 12, 1, 13, 1, 14, 15, 16, 17, 18, 19, 20, 'abc', 1, 2, 3, 'bcd']\nAfter Remove : [10, 12, 1, 13, 1, 14, 15, 16, 17, 18, 19, 20, 'abc', 1, 2, 3, 'bcd']\n"
     ]
    }
   ],
   "source": [
    "print('Before Remove :',list_a)\n",
    "list_a.remove(1)\n",
    "print('After Remove :',list_a)"
   ]
  },
  {
   "cell_type": "markdown",
   "metadata": {
    "application/vnd.databricks.v1+cell": {
     "cellMetadata": {
      "byteLimit": 2048000,
      "rowLimit": 10000
     },
     "inputWidgets": {},
     "nuid": "bae7bac4-9962-456d-810b-3963ce67e3e5",
     "showTitle": false,
     "title": ""
    }
   },
   "source": [
    "### Reverse"
   ]
  },
  {
   "cell_type": "code",
   "execution_count": 0,
   "metadata": {
    "application/vnd.databricks.v1+cell": {
     "cellMetadata": {
      "byteLimit": 2048000,
      "rowLimit": 10000
     },
     "inputWidgets": {},
     "nuid": "ee8ceae4-742e-4368-beee-393ba5ac287e",
     "showTitle": false,
     "title": ""
    }
   },
   "outputs": [
    {
     "output_type": "stream",
     "name": "stdout",
     "output_type": "stream",
     "text": [
      "Before reverse : [10, 12, 1, 13, 1, 14, 15, 16, 17, 18, 19, 20, 'abc', 1, 2, 3, 'bcd']\nAfter reverse : ['bcd', 3, 2, 1, 'abc', 20, 19, 18, 17, 16, 15, 14, 1, 13, 1, 12, 10]\n"
     ]
    }
   ],
   "source": [
    "print('Before reverse :',list_a)\n",
    "list_a.reverse()\n",
    "print('After reverse :',list_a)"
   ]
  },
  {
   "cell_type": "markdown",
   "metadata": {
    "application/vnd.databricks.v1+cell": {
     "cellMetadata": {
      "byteLimit": 2048000,
      "rowLimit": 10000
     },
     "inputWidgets": {},
     "nuid": "0e01a9d9-446a-4b96-bb7a-3d9686547ca0",
     "showTitle": false,
     "title": ""
    }
   },
   "source": [
    "### Sort"
   ]
  },
  {
   "cell_type": "code",
   "execution_count": 0,
   "metadata": {
    "application/vnd.databricks.v1+cell": {
     "cellMetadata": {
      "byteLimit": 2048000,
      "rowLimit": 10000
     },
     "inputWidgets": {},
     "nuid": "cb7b99ec-d44c-48e2-86b5-8d29223a03bb",
     "showTitle": false,
     "title": ""
    }
   },
   "outputs": [
    {
     "output_type": "stream",
     "name": "stdout",
     "output_type": "stream",
     "text": [
      "Before Sort : ['bcd', 3, 2, 1, 'abc', 20, 19, 18, 17, 16, 15, 14, 1, 13, 1, 12, 10]\n"
     ]
    },
    {
     "output_type": "display_data",
     "data": {
      "text/plain": [
       "\u001B[0;31m---------------------------------------------------------------------------\u001B[0m\n",
       "\u001B[0;31mTypeError\u001B[0m                                 Traceback (most recent call last)\n",
       "File \u001B[0;32m<command-2832689666930048>, line 2\u001B[0m\n",
       "\u001B[1;32m      1\u001B[0m \u001B[38;5;28mprint\u001B[39m(\u001B[38;5;124m'\u001B[39m\u001B[38;5;124mBefore Sort :\u001B[39m\u001B[38;5;124m'\u001B[39m,list_a)\n",
       "\u001B[0;32m----> 2\u001B[0m list_a\u001B[38;5;241m.\u001B[39msort()\n",
       "\u001B[1;32m      3\u001B[0m \u001B[38;5;28mprint\u001B[39m(\u001B[38;5;124m'\u001B[39m\u001B[38;5;124mAfter Sort :\u001B[39m\u001B[38;5;124m'\u001B[39m,list_a)\n",
       "\n",
       "\u001B[0;31mTypeError\u001B[0m: '<' not supported between instances of 'int' and 'str'"
      ]
     },
     "metadata": {
      "application/vnd.databricks.v1+output": {
       "addedWidgets": {},
       "arguments": {},
       "datasetInfos": [],
       "jupyterProps": {
        "ename": "TypeError",
        "evalue": "'<' not supported between instances of 'int' and 'str'"
       },
       "metadata": {
        "errorSummary": "<span class='ansi-red-fg'>TypeError</span>: '<' not supported between instances of 'int' and 'str'"
       },
       "removedWidgets": [],
       "sqlProps": null,
       "stackFrames": [
        "\u001B[0;31m---------------------------------------------------------------------------\u001B[0m",
        "\u001B[0;31mTypeError\u001B[0m                                 Traceback (most recent call last)",
        "File \u001B[0;32m<command-2832689666930048>, line 2\u001B[0m\n\u001B[1;32m      1\u001B[0m \u001B[38;5;28mprint\u001B[39m(\u001B[38;5;124m'\u001B[39m\u001B[38;5;124mBefore Sort :\u001B[39m\u001B[38;5;124m'\u001B[39m,list_a)\n\u001B[0;32m----> 2\u001B[0m list_a\u001B[38;5;241m.\u001B[39msort()\n\u001B[1;32m      3\u001B[0m \u001B[38;5;28mprint\u001B[39m(\u001B[38;5;124m'\u001B[39m\u001B[38;5;124mAfter Sort :\u001B[39m\u001B[38;5;124m'\u001B[39m,list_a)\n",
        "\u001B[0;31mTypeError\u001B[0m: '<' not supported between instances of 'int' and 'str'"
       ],
       "type": "baseError"
      }
     },
     "output_type": "display_data"
    }
   ],
   "source": [
    "print('Before Sort :',list_a)\n",
    "list_a.sort()\n",
    "print('After Sort :',list_a)"
   ]
  },
  {
   "cell_type": "code",
   "execution_count": 0,
   "metadata": {
    "application/vnd.databricks.v1+cell": {
     "cellMetadata": {
      "byteLimit": 2048000,
      "rowLimit": 10000
     },
     "inputWidgets": {},
     "nuid": "9d292653-4154-40c3-8a2d-44aa56c3cdcc",
     "showTitle": false,
     "title": ""
    }
   },
   "outputs": [
    {
     "output_type": "stream",
     "name": "stdout",
     "output_type": "stream",
     "text": [
      "Before Sort : [10, 2, 13, 4, 5, 0]\nAfter Sort : [0, 2, 4, 5, 10, 13]\n"
     ]
    }
   ],
   "source": [
    "list_sort=[10,2,13,4,5,0]\n",
    "print('Before Sort :',list_sort)\n",
    "list_sort.sort()\n",
    "print('After Sort :',list_sort)"
   ]
  },
  {
   "cell_type": "markdown",
   "metadata": {
    "application/vnd.databricks.v1+cell": {
     "cellMetadata": {
      "byteLimit": 2048000,
      "rowLimit": 10000
     },
     "inputWidgets": {},
     "nuid": "4774ce71-245e-4f99-bf8c-3752db3a3a5b",
     "showTitle": false,
     "title": ""
    }
   },
   "source": [
    "### Clear"
   ]
  },
  {
   "cell_type": "code",
   "execution_count": 0,
   "metadata": {
    "application/vnd.databricks.v1+cell": {
     "cellMetadata": {
      "byteLimit": 2048000,
      "rowLimit": 10000
     },
     "inputWidgets": {},
     "nuid": "13b392ab-4276-4430-afb0-d2a5af95fe21",
     "showTitle": false,
     "title": ""
    }
   },
   "outputs": [
    {
     "output_type": "stream",
     "name": "stdout",
     "output_type": "stream",
     "text": [
      "[]\n"
     ]
    }
   ],
   "source": [
    "list_sort.clear()\n",
    "print(list_sort)"
   ]
  }
 ],
 "metadata": {
  "application/vnd.databricks.v1+notebook": {
   "dashboards": [],
   "environmentMetadata": null,
   "language": "python",
   "notebookMetadata": {
    "pythonIndentUnit": 4
   },
   "notebookName": "01 List",
   "widgets": {}
  }
 },
 "nbformat": 4,
 "nbformat_minor": 0
}
