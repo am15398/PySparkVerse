{
 "cells": [
  {
   "cell_type": "code",
   "execution_count": 0,
   "metadata": {
    "application/vnd.databricks.v1+cell": {
     "cellMetadata": {
      "byteLimit": 2048000,
      "rowLimit": 10000
     },
     "inputWidgets": {},
     "nuid": "2ad2e292-c911-4403-8889-52465ab4e9ba",
     "showTitle": false,
     "title": ""
    }
   },
   "outputs": [
    {
     "output_type": "stream",
     "name": "stdout",
     "output_type": "stream",
     "text": [
      "150\n[10, 30, 60, 100, 150]\n"
     ]
    }
   ],
   "source": [
    "# Python code to get the Cumulative sum of a list \n",
    "def Cumulative(lists): \n",
    "    cum_list = [] \n",
    "    length = len(lists) \n",
    "    cum_list = [sum(lists[0:x]) for x in range(0, length+1)] \n",
    "    return cum_list[1:]\n",
    "\n",
    "lists = [10, 20, 30, 40, 50] \n",
    "print(sum(lists[0:len(lists)+1]))\n",
    "print (Cumulative(lists)) "
   ]
  },
  {
   "cell_type": "code",
   "execution_count": 0,
   "metadata": {
    "application/vnd.databricks.v1+cell": {
     "cellMetadata": {},
     "inputWidgets": {},
     "nuid": "deb43344-2ccb-42ef-966e-8b8aab449baa",
     "showTitle": false,
     "title": ""
    }
   },
   "outputs": [
    {
     "output_type": "display_data",
     "data": {
      "text/html": [
       "<style scoped>\n",
       "  .ansiout {\n",
       "    display: block;\n",
       "    unicode-bidi: embed;\n",
       "    white-space: pre-wrap;\n",
       "    word-wrap: break-word;\n",
       "    word-break: break-all;\n",
       "    font-family: \"Menlo\", \"Monaco\", \"Consolas\", \"Ubuntu Mono\", \"Source Code Pro\", monospace;\n",
       "    font-size: 13px;\n",
       "    color: #555;\n",
       "    margin-left: 4px;\n",
       "    line-height: 19px;\n",
       "  }\n",
       "</style>\n",
       "<div class=\"ansiout\">0\n",
       "1\n",
       "3\n",
       "6\n",
       "10\n",
       "15\n",
       "21\n",
       "28\n",
       "36\n",
       "45\n",
       "55\n",
       "</div>"
      ]
     },
     "metadata": {
      "application/vnd.databricks.v1+output": {
       "addedWidgets": {},
       "arguments": {},
       "data": "<div class=\"ansiout\">0\n1\n3\n6\n10\n15\n21\n28\n36\n45\n55\n</div>",
       "datasetInfos": [],
       "metadata": {},
       "removedWidgets": [],
       "type": "html"
      }
     },
     "output_type": "display_data"
    }
   ],
   "source": [
    "lists =[1,2,3,4,5,6,7,8,9,10]\n",
    "for x in range(0, 10+1):\n",
    "  #print(x)\n",
    "  print(sum(lists[0:x]))\n"
   ]
  },
  {
   "cell_type": "code",
   "execution_count": 0,
   "metadata": {
    "application/vnd.databricks.v1+cell": {
     "cellMetadata": {},
     "inputWidgets": {},
     "nuid": "0bce0457-8f9c-4b5b-a6ca-1cb365ec45d4",
     "showTitle": false,
     "title": ""
    }
   },
   "outputs": [
    {
     "output_type": "display_data",
     "data": {
      "text/html": [
       "<style scoped>\n",
       "  .ansiout {\n",
       "    display: block;\n",
       "    unicode-bidi: embed;\n",
       "    white-space: pre-wrap;\n",
       "    word-wrap: break-word;\n",
       "    word-break: break-all;\n",
       "    font-family: \"Menlo\", \"Monaco\", \"Consolas\", \"Ubuntu Mono\", \"Source Code Pro\", monospace;\n",
       "    font-size: 13px;\n",
       "    color: #555;\n",
       "    margin-left: 4px;\n",
       "    line-height: 19px;\n",
       "  }\n",
       "</style>\n",
       "<div class=\"ansiout\">Out[3]: 55</div>"
      ]
     },
     "metadata": {
      "application/vnd.databricks.v1+output": {
       "addedWidgets": {},
       "arguments": {},
       "data": "<div class=\"ansiout\">Out[3]: 55</div>",
       "datasetInfos": [],
       "metadata": {},
       "removedWidgets": [],
       "type": "html"
      }
     },
     "output_type": "display_data"
    }
   ],
   "source": [
    "# get sum of all values in list\n",
    "my_list = [1,2,3,4,5,6,7,8,9,10]\n",
    "sum(my_list)"
   ]
  },
  {
   "cell_type": "code",
   "execution_count": 0,
   "metadata": {
    "application/vnd.databricks.v1+cell": {
     "cellMetadata": {},
     "inputWidgets": {},
     "nuid": "b25dd9ac-e3b0-452b-98d3-727eaf160dea",
     "showTitle": false,
     "title": ""
    }
   },
   "outputs": [
    {
     "output_type": "display_data",
     "data": {
      "text/html": [
       "<style scoped>\n",
       "  .ansiout {\n",
       "    display: block;\n",
       "    unicode-bidi: embed;\n",
       "    white-space: pre-wrap;\n",
       "    word-wrap: break-word;\n",
       "    word-break: break-all;\n",
       "    font-family: \"Menlo\", \"Monaco\", \"Consolas\", \"Ubuntu Mono\", \"Source Code Pro\", monospace;\n",
       "    font-size: 13px;\n",
       "    color: #555;\n",
       "    margin-left: 4px;\n",
       "    line-height: 19px;\n",
       "  }\n",
       "</style>\n",
       "<div class=\"ansiout\">Out[5]: 55</div>"
      ]
     },
     "metadata": {
      "application/vnd.databricks.v1+output": {
       "addedWidgets": {},
       "arguments": {},
       "data": "<div class=\"ansiout\">Out[5]: 55</div>",
       "datasetInfos": [],
       "metadata": {},
       "removedWidgets": [],
       "type": "html"
      }
     },
     "output_type": "display_data"
    }
   ],
   "source": [
    "# Get sum of values from 1 To N without using  sum function\n",
    "# Using For loop and Range we can achive this.\n",
    "def sum_all(n):\n",
    "  a=0\n",
    "  for i in range(1,n+1):\n",
    "    a+=i # keep adding i into the sum - same as sum = sum +i\n",
    "  return a\n",
    "sum_all(10)"
   ]
  },
  {
   "cell_type": "code",
   "execution_count": 0,
   "metadata": {
    "application/vnd.databricks.v1+cell": {
     "cellMetadata": {
      "byteLimit": 2048000,
      "rowLimit": 10000
     },
     "inputWidgets": {},
     "nuid": "55a9b52f-45b4-40f0-9205-71db3a7d972a",
     "showTitle": false,
     "title": ""
    }
   },
   "outputs": [
    {
     "output_type": "display_data",
     "data": {
      "text/html": [
       "<style scoped>\n",
       "  .table-result-container {\n",
       "    max-height: 300px;\n",
       "    overflow: auto;\n",
       "  }\n",
       "  table, th, td {\n",
       "    border: 1px solid black;\n",
       "    border-collapse: collapse;\n",
       "  }\n",
       "  th, td {\n",
       "    padding: 5px;\n",
       "  }\n",
       "  th {\n",
       "    text-align: left;\n",
       "  }\n",
       "</style><div class='table-result-container'><table class='table-result'><thead style='background-color: white'><tr><th>id</th><th>value</th></tr></thead><tbody><tr><td>1</td><td>1</td></tr><tr><td>2</td><td>0</td></tr><tr><td>3</td><td>2</td></tr><tr><td>4</td><td>1</td></tr><tr><td>5</td><td>2</td></tr></tbody></table></div>"
      ]
     },
     "metadata": {
      "application/vnd.databricks.v1+output": {
       "addedWidgets": {},
       "aggData": [],
       "aggError": "",
       "aggOverflow": false,
       "aggSchema": [],
       "aggSeriesLimitReached": false,
       "aggType": "",
       "arguments": {},
       "columnCustomDisplayInfos": {},
       "data": [
        [
         1,
         1
        ],
        [
         2,
         0
        ],
        [
         3,
         2
        ],
        [
         4,
         1
        ],
        [
         5,
         2
        ]
       ],
       "datasetInfos": [],
       "dbfsResultPath": null,
       "isJsonSchema": true,
       "metadata": {},
       "overflow": false,
       "plotOptions": {
        "customPlotOptions": {},
        "displayType": "table",
        "pivotAggregation": null,
        "pivotColumns": null,
        "xColumns": null,
        "yColumns": null
       },
       "removedWidgets": [],
       "schema": [
        {
         "metadata": "{}",
         "name": "id",
         "type": "\"long\""
        },
        {
         "metadata": "{}",
         "name": "value",
         "type": "\"long\""
        }
       ],
       "type": "table"
      }
     },
     "output_type": "display_data"
    }
   ],
   "source": [
    "df = spark.createDataFrame([( 1, 1), ( 2, 0), ( 3, 2), (4, 1), ( 5, 2)],['id', 'value'])\n",
    "display(df)"
   ]
  },
  {
   "cell_type": "code",
   "execution_count": 0,
   "metadata": {
    "application/vnd.databricks.v1+cell": {
     "cellMetadata": {
      "byteLimit": 2048000,
      "rowLimit": 10000
     },
     "inputWidgets": {},
     "nuid": "6e5d905e-c77c-4646-b1af-55ae596be5bd",
     "showTitle": false,
     "title": ""
    }
   },
   "outputs": [
    {
     "output_type": "display_data",
     "data": {
      "text/html": [
       "<style scoped>\n",
       "  .table-result-container {\n",
       "    max-height: 300px;\n",
       "    overflow: auto;\n",
       "  }\n",
       "  table, th, td {\n",
       "    border: 1px solid black;\n",
       "    border-collapse: collapse;\n",
       "  }\n",
       "  th, td {\n",
       "    padding: 5px;\n",
       "  }\n",
       "  th {\n",
       "    text-align: left;\n",
       "  }\n",
       "</style><div class='table-result-container'><table class='table-result'><thead style='background-color: white'><tr><th>id</th><th>value</th><th>cumsum</th><th>am</th></tr></thead><tbody><tr><td>1</td><td>1</td><td>1</td><td>1</td></tr><tr><td>2</td><td>0</td><td>1</td><td>1</td></tr><tr><td>3</td><td>2</td><td>3</td><td>3</td></tr><tr><td>4</td><td>1</td><td>4</td><td>4</td></tr><tr><td>5</td><td>2</td><td>6</td><td>6</td></tr></tbody></table></div>"
      ]
     },
     "metadata": {
      "application/vnd.databricks.v1+output": {
       "addedWidgets": {},
       "aggData": [],
       "aggError": "",
       "aggOverflow": false,
       "aggSchema": [],
       "aggSeriesLimitReached": false,
       "aggType": "",
       "arguments": {},
       "columnCustomDisplayInfos": {},
       "data": [
        [
         1,
         1,
         1,
         1
        ],
        [
         2,
         0,
         1,
         1
        ],
        [
         3,
         2,
         3,
         3
        ],
        [
         4,
         1,
         4,
         4
        ],
        [
         5,
         2,
         6,
         6
        ]
       ],
       "datasetInfos": [],
       "dbfsResultPath": null,
       "isJsonSchema": true,
       "metadata": {},
       "overflow": false,
       "plotOptions": {
        "customPlotOptions": {},
        "displayType": "table",
        "pivotAggregation": null,
        "pivotColumns": null,
        "xColumns": null,
        "yColumns": null
       },
       "removedWidgets": [],
       "schema": [
        {
         "metadata": "{}",
         "name": "id",
         "type": "\"long\""
        },
        {
         "metadata": "{}",
         "name": "value",
         "type": "\"long\""
        },
        {
         "metadata": "{}",
         "name": "cumsum",
         "type": "\"long\""
        },
        {
         "metadata": "{}",
         "name": "am",
         "type": "\"long\""
        }
       ],
       "type": "table"
      }
     },
     "output_type": "display_data"
    }
   ],
   "source": [
    "#cumulative using pyspark\n",
    "\n",
    "from pyspark.sql.functions import expr ,col,sum\n",
    "from pyspark.sql import Window\n",
    " \n",
    "df =df.withColumn('cumsum',expr('sum(value) over (order by id)'))\n",
    "df=df.withColumn('am',sum(col(\"value\")).over(Window.orderBy(\"id\")))\n",
    "display(df)"
   ]
  },
  {
   "cell_type": "code",
   "execution_count": 0,
   "metadata": {
    "application/vnd.databricks.v1+cell": {
     "cellMetadata": {},
     "inputWidgets": {},
     "nuid": "411319c2-1724-4bd1-bd05-9266dde444f0",
     "showTitle": false,
     "title": ""
    }
   },
   "outputs": [
    {
     "output_type": "display_data",
     "data": {
      "text/html": [
       "<style scoped>\n",
       "  .table-result-container {\n",
       "    max-height: 300px;\n",
       "    overflow: auto;\n",
       "  }\n",
       "  table, th, td {\n",
       "    border: 1px solid black;\n",
       "    border-collapse: collapse;\n",
       "  }\n",
       "  th, td {\n",
       "    padding: 5px;\n",
       "  }\n",
       "  th {\n",
       "    text-align: left;\n",
       "  }\n",
       "</style><div class='table-result-container'><table class='table-result'><thead style='background-color: white'><tr><th>id</th><th>value</th><th>cumsum</th><th>cumsum1</th></tr></thead><tbody><tr><td>1</td><td>1</td><td>1</td><td>1</td></tr><tr><td>2</td><td>0</td><td>1</td><td>1</td></tr><tr><td>3</td><td>2</td><td>3</td><td>3</td></tr><tr><td>4</td><td>1</td><td>4</td><td>4</td></tr><tr><td>5</td><td>2</td><td>6</td><td>6</td></tr></tbody></table></div>"
      ]
     },
     "metadata": {
      "application/vnd.databricks.v1+output": {
       "addedWidgets": {},
       "aggData": [],
       "aggError": "",
       "aggOverflow": false,
       "aggSchema": [],
       "aggSeriesLimitReached": false,
       "aggType": "",
       "arguments": {},
       "columnCustomDisplayInfos": {},
       "data": [
        [
         1,
         1,
         1,
         1
        ],
        [
         2,
         0,
         1,
         1
        ],
        [
         3,
         2,
         3,
         3
        ],
        [
         4,
         1,
         4,
         4
        ],
        [
         5,
         2,
         6,
         6
        ]
       ],
       "datasetInfos": [],
       "dbfsResultPath": null,
       "isJsonSchema": true,
       "metadata": {},
       "overflow": false,
       "plotOptions": {
        "customPlotOptions": {},
        "displayType": "table",
        "pivotAggregation": null,
        "pivotColumns": null,
        "xColumns": null,
        "yColumns": null
       },
       "removedWidgets": [],
       "schema": [
        {
         "metadata": "{}",
         "name": "id",
         "type": "\"long\""
        },
        {
         "metadata": "{}",
         "name": "value",
         "type": "\"long\""
        },
        {
         "metadata": "{}",
         "name": "cumsum",
         "type": "\"long\""
        },
        {
         "metadata": "{}",
         "name": "cumsum1",
         "type": "\"long\""
        }
       ],
       "type": "table"
      }
     },
     "output_type": "display_data"
    }
   ],
   "source": [
    "from pyspark.sql.functions import sum\n",
    "from pyspark.sql import Window\n",
    " \n",
    "df = df.withColumn('cumsum1',sum('value').over(Window.orderBy('id')))\n",
    "display(df)"
   ]
  },
  {
   "cell_type": "code",
   "execution_count": 0,
   "metadata": {
    "application/vnd.databricks.v1+cell": {
     "cellMetadata": {},
     "inputWidgets": {},
     "nuid": "74f54244-42d4-467b-8dd2-497d16281953",
     "showTitle": false,
     "title": ""
    }
   },
   "outputs": [
    {
     "output_type": "display_data",
     "data": {
      "text/html": [
       "<style scoped>\n",
       "  .ansiout {\n",
       "    display: block;\n",
       "    unicode-bidi: embed;\n",
       "    white-space: pre-wrap;\n",
       "    word-wrap: break-word;\n",
       "    word-break: break-all;\n",
       "    font-family: \"Menlo\", \"Monaco\", \"Consolas\", \"Ubuntu Mono\", \"Source Code Pro\", monospace;\n",
       "    font-size: 13px;\n",
       "    color: #555;\n",
       "    margin-left: 4px;\n",
       "    line-height: 19px;\n",
       "  }\n",
       "</style>\n",
       "<div class=\"ansiout\">CPU times: user 8 ms, sys: 4 ms, total: 12 ms\n",
       "Wall time: 147 ms\n",
       "Out[8]: [12, 13, 14, 15, 16, 17, 18, 19, 20, 21]</div>"
      ]
     },
     "metadata": {
      "application/vnd.databricks.v1+output": {
       "addedWidgets": {},
       "arguments": {},
       "data": "<div class=\"ansiout\">CPU times: user 8 ms, sys: 4 ms, total: 12 ms\nWall time: 147 ms\nOut[8]: [12, 13, 14, 15, 16, 17, 18, 19, 20, 21]</div>",
       "datasetInfos": [],
       "metadata": {},
       "removedWidgets": [],
       "type": "html"
      }
     },
     "output_type": "display_data"
    }
   ],
   "source": [
    "%%time\n",
    "my_rdd = sc.parallelize([1,2,3,4,5,6,7,8,9,10],4)\n",
    "my_rdd.map(lambda x: x+11).collect()"
   ]
  },
  {
   "cell_type": "code",
   "execution_count": 0,
   "metadata": {
    "application/vnd.databricks.v1+cell": {
     "cellMetadata": {},
     "inputWidgets": {},
     "nuid": "ea4c7f5a-072b-4188-8f36-14d162dcd380",
     "showTitle": false,
     "title": ""
    }
   },
   "outputs": [
    {
     "output_type": "display_data",
     "data": {
      "text/html": [
       "<style scoped>\n",
       "  .ansiout {\n",
       "    display: block;\n",
       "    unicode-bidi: embed;\n",
       "    white-space: pre-wrap;\n",
       "    word-wrap: break-word;\n",
       "    word-break: break-all;\n",
       "    font-family: \"Menlo\", \"Monaco\", \"Consolas\", \"Ubuntu Mono\", \"Source Code Pro\", monospace;\n",
       "    font-size: 13px;\n",
       "    color: #555;\n",
       "    margin-left: 4px;\n",
       "    line-height: 19px;\n",
       "  }\n",
       "</style>\n",
       "<div class=\"ansiout\"></div>"
      ]
     },
     "metadata": {
      "application/vnd.databricks.v1+output": {
       "addedWidgets": {},
       "arguments": {},
       "data": "<div class=\"ansiout\"></div>",
       "datasetInfos": [],
       "metadata": {},
       "removedWidgets": [],
       "type": "html"
      }
     },
     "output_type": "display_data"
    }
   ],
   "source": [
    "baby_df = spark.read.csv(\"dbfs:/babynames.csv\",header=True,inferSchema=True)"
   ]
  },
  {
   "cell_type": "code",
   "execution_count": 0,
   "metadata": {
    "application/vnd.databricks.v1+cell": {
     "cellMetadata": {},
     "inputWidgets": {},
     "nuid": "1868b955-13cb-4e0e-b452-8964bbbbee1d",
     "showTitle": false,
     "title": ""
    }
   },
   "outputs": [
    {
     "output_type": "display_data",
     "data": {
      "text/html": [
       "<style scoped>\n",
       "  .table-result-container {\n",
       "    max-height: 300px;\n",
       "    overflow: auto;\n",
       "  }\n",
       "  table, th, td {\n",
       "    border: 1px solid black;\n",
       "    border-collapse: collapse;\n",
       "  }\n",
       "  th, td {\n",
       "    padding: 5px;\n",
       "  }\n",
       "  th {\n",
       "    text-align: left;\n",
       "  }\n",
       "</style><div class='table-result-container'><table class='table-result'><thead style='background-color: white'><tr><th>Year</th><th>First Name</th><th>Sex</th><th>Count</th></tr></thead><tbody><tr><td>2014</td><td>NIKO</td><td>M</td><td>5</td></tr><tr><td>2015</td><td>BASYA</td><td>F</td><td>5</td></tr><tr><td>2008</td><td>OMARI</td><td>M</td><td>14</td></tr><tr><td>2010</td><td>HUDSON</td><td>M</td><td>35</td></tr><tr><td>2014</td><td>ANASTASIA</td><td>F</td><td>52</td></tr><tr><td>2007</td><td>GEORGE</td><td>M</td><td>168</td></tr><tr><td>2013</td><td>MOLLY</td><td>F</td><td>95</td></tr><tr><td>2013</td><td>JADA</td><td>F</td><td>43</td></tr><tr><td>2017</td><td>FINNEGAN</td><td>M</td><td>7</td></tr><tr><td>2008</td><td>MOISHE</td><td>M</td><td>17</td></tr><tr><td>2011</td><td>ADELE</td><td>F</td><td>20</td></tr><tr><td>2008</td><td>YAAKOV</td><td>M</td><td>39</td></tr><tr><td>2013</td><td>EMILIA</td><td>F</td><td>77</td></tr><tr><td>2015</td><td>LORENZO</td><td>M</td><td>126</td></tr><tr><td>2013</td><td>LUIS</td><td>M</td><td>163</td></tr><tr><td>2011</td><td>ERIK</td><td>M</td><td>33</td></tr><tr><td>2011</td><td>ADEN</td><td>M</td><td>40</td></tr><tr><td>2009</td><td>JOHN</td><td>M</td><td>792</td></tr><tr><td>2013</td><td>AUGUST</td><td>M</td><td>31</td></tr><tr><td>2014</td><td>JENNY</td><td>F</td><td>23</td></tr><tr><td>2012</td><td>ARON</td><td>M</td><td>89</td></tr><tr><td>2013</td><td>PINCHUS</td><td>M</td><td>6</td></tr><tr><td>2010</td><td>KAITLYN</td><td>F</td><td>152</td></tr><tr><td>2011</td><td>AURORA</td><td>F</td><td>14</td></tr><tr><td>2014</td><td>JANELLE</td><td>F</td><td>23</td></tr><tr><td>2013</td><td>RUBY</td><td>F</td><td>89</td></tr><tr><td>2017</td><td>SIMCHA</td><td>M</td><td>28</td></tr><tr><td>2013</td><td>AYAAN</td><td>M</td><td>41</td></tr><tr><td>2009</td><td>BRUCHA</td><td>F</td><td>19</td></tr><tr><td>2016</td><td>ELYA</td><td>M</td><td>15</td></tr><tr><td>2017</td><td>JAYLEN</td><td>M</td><td>16</td></tr><tr><td>2017</td><td>DUVID</td><td>M</td><td>18</td></tr><tr><td>2014</td><td>AMEER</td><td>M</td><td>7</td></tr><tr><td>2011</td><td>GREYSON</td><td>M</td><td>18</td></tr><tr><td>2007</td><td>GIANLUCA</td><td>M</td><td>9</td></tr><tr><td>2015</td><td>AMINA</td><td>F</td><td>76</td></tr><tr><td>2017</td><td>JEFFERSON</td><td>M</td><td>23</td></tr><tr><td>2009</td><td>MOHAMMED</td><td>M</td><td>46</td></tr><tr><td>2015</td><td>RANDY</td><td>M</td><td>16</td></tr><tr><td>2015</td><td>BEN</td><td>M</td><td>16</td></tr><tr><td>2017</td><td>XANDER</td><td>M</td><td>23</td></tr><tr><td>2011</td><td>ALICE</td><td>F</td><td>105</td></tr><tr><td>2014</td><td>AWA</td><td>F</td><td>5</td></tr><tr><td>2016</td><td>MIRIAM</td><td>F</td><td>218</td></tr><tr><td>2008</td><td>ALYSON</td><td>F</td><td>5</td></tr><tr><td>2015</td><td>MORRIS</td><td>M</td><td>18</td></tr><tr><td>2014</td><td>LEWIS</td><td>M</td><td>5</td></tr><tr><td>2009</td><td>NAOMI</td><td>F</td><td>148</td></tr><tr><td>2015</td><td>MIREL</td><td>F</td><td>11</td></tr><tr><td>2007</td><td>RITA</td><td>F</td><td>13</td></tr><tr><td>2007</td><td>ELIANA</td><td>F</td><td>66</td></tr><tr><td>2008</td><td>NINA</td><td>F</td><td>84</td></tr><tr><td>2008</td><td>HAYDEN</td><td>F</td><td>31</td></tr><tr><td>2012</td><td>CHESKY</td><td>M</td><td>15</td></tr><tr><td>2008</td><td>TATIANA</td><td>F</td><td>51</td></tr><tr><td>2011</td><td>MARCUS</td><td>M</td><td>127</td></tr><tr><td>2011</td><td>SOPHIA</td><td>F</td><td>1380</td></tr><tr><td>2013</td><td>JAYLEEN</td><td>F</td><td>33</td></tr><tr><td>2014</td><td>JACK</td><td>M</td><td>600</td></tr><tr><td>2014</td><td>JUDITH</td><td>F</td><td>5</td></tr><tr><td>2008</td><td>ZISSY</td><td>F</td><td>23</td></tr><tr><td>2016</td><td>HARLEY</td><td>F</td><td>10</td></tr><tr><td>2009</td><td>GRIFFIN</td><td>M</td><td>46</td></tr><tr><td>2015</td><td>MATHIAS</td><td>M</td><td>13</td></tr><tr><td>2008</td><td>LUNA</td><td>F</td><td>10</td></tr><tr><td>2017</td><td>ELIZA</td><td>F</td><td>50</td></tr><tr><td>2016</td><td>SHLOMA</td><td>M</td><td>5</td></tr><tr><td>2012</td><td>ARIELLE</td><td>F</td><td>37</td></tr><tr><td>2017</td><td>QUEENIE</td><td>F</td><td>10</td></tr><tr><td>2007</td><td>THERESA</td><td>F</td><td>5</td></tr><tr><td>2016</td><td>CINDY</td><td>F</td><td>24</td></tr><tr><td>2008</td><td>TANNER</td><td>M</td><td>18</td></tr><tr><td>2016</td><td>DECLAN</td><td>M</td><td>147</td></tr><tr><td>2017</td><td>ISABELLE</td><td>F</td><td>125</td></tr><tr><td>2007</td><td>MOSES</td><td>M</td><td>35</td></tr><tr><td>2011</td><td>STACY</td><td>F</td><td>10</td></tr><tr><td>2011</td><td>ALANA</td><td>F</td><td>55</td></tr><tr><td>2014</td><td>EMANI</td><td>F</td><td>5</td></tr><tr><td>2015</td><td>KENDRICK</td><td>M</td><td>5</td></tr><tr><td>2009</td><td>SAMIR</td><td>M</td><td>15</td></tr><tr><td>2011</td><td>ANNABELLA</td><td>F</td><td>10</td></tr><tr><td>2015</td><td>NEIL</td><td>M</td><td>5</td></tr><tr><td>2007</td><td>ALLYSON</td><td>F</td><td>11</td></tr><tr><td>2013</td><td>DANIEL</td><td>M</td><td>1030</td></tr><tr><td>2017</td><td>GIANNI</td><td>M</td><td>24</td></tr><tr><td>2017</td><td>NICOLE</td><td>F</td><td>119</td></tr><tr><td>2007</td><td>GERALD</td><td>M</td><td>5</td></tr><tr><td>2014</td><td>YANKY</td><td>M</td><td>6</td></tr><tr><td>2017</td><td>GISELLE</td><td>F</td><td>21</td></tr><tr><td>2012</td><td>ALESSANDRO</td><td>M</td><td>6</td></tr><tr><td>2017</td><td>KARTER</td><td>M</td><td>58</td></tr><tr><td>2007</td><td>LESLEY</td><td>F</td><td>13</td></tr><tr><td>2014</td><td>AMALIA</td><td>F</td><td>24</td></tr><tr><td>2014</td><td>GIDEON</td><td>M</td><td>7</td></tr><tr><td>2007</td><td>MONICA</td><td>F</td><td>10</td></tr><tr><td>2013</td><td>KHLOE</td><td>F</td><td>118</td></tr><tr><td>2015</td><td>ENZO</td><td>M</td><td>39</td></tr><tr><td>2010</td><td>MCKENNA</td><td>F</td><td>8</td></tr><tr><td>2013</td><td>SYLVIA</td><td>F</td><td>11</td></tr><tr><td>2010</td><td>JAMIE</td><td>F</td><td>27</td></tr><tr><td>2010</td><td>PAOLA</td><td>F</td><td>5</td></tr><tr><td>2017</td><td>ANDREW</td><td>M</td><td>423</td></tr><tr><td>2017</td><td>AHMED</td><td>M</td><td>63</td></tr><tr><td>2017</td><td>EAN</td><td>M</td><td>11</td></tr><tr><td>2007</td><td>NAFTULI</td><td>M</td><td>19</td></tr><tr><td>2008</td><td>ROCCO</td><td>M</td><td>14</td></tr><tr><td>2016</td><td>YAKOV</td><td>M</td><td>75</td></tr><tr><td>2012</td><td>MAX</td><td>M</td><td>251</td></tr><tr><td>2010</td><td>ARIA</td><td>F</td><td>15</td></tr><tr><td>2014</td><td>JAIDA</td><td>F</td><td>6</td></tr><tr><td>2008</td><td>EDISON</td><td>M</td><td>5</td></tr><tr><td>2008</td><td>SAM</td><td>M</td><td>43</td></tr><tr><td>2013</td><td>BRITTANY</td><td>F</td><td>23</td></tr><tr><td>2012</td><td>CAMERON</td><td>F</td><td>7</td></tr><tr><td>2012</td><td>OSCAR</td><td>M</td><td>104</td></tr><tr><td>2014</td><td>PIPER</td><td>F</td><td>59</td></tr><tr><td>2017</td><td>HAILEY</td><td>F</td><td>231</td></tr><tr><td>2014</td><td>KAYLEIGH</td><td>F</td><td>15</td></tr><tr><td>2010</td><td>ALISON</td><td>F</td><td>68</td></tr><tr><td>2013</td><td>EFRAIM</td><td>M</td><td>22</td></tr><tr><td>2007</td><td>CHELSEA</td><td>F</td><td>127</td></tr><tr><td>2017</td><td>ETTY</td><td>F</td><td>11</td></tr><tr><td>2009</td><td>NYLAH</td><td>F</td><td>31</td></tr><tr><td>2010</td><td>HEAVEN</td><td>F</td><td>29</td></tr><tr><td>2014</td><td>MADDOX</td><td>M</td><td>5</td></tr><tr><td>2014</td><td>JULIEN</td><td>M</td><td>7</td></tr><tr><td>2007</td><td>ANITA</td><td>F</td><td>11</td></tr><tr><td>2010</td><td>MARIAMA</td><td>F</td><td>12</td></tr><tr><td>2008</td><td>RICHARD</td><td>M</td><td>246</td></tr><tr><td>2017</td><td>JAXSON</td><td>M</td><td>148</td></tr><tr><td>2011</td><td>JACKSON</td><td>M</td><td>422</td></tr><tr><td>2017</td><td>MELANY</td><td>F</td><td>24</td></tr><tr><td>2009</td><td>STANLEY</td><td>M</td><td>16</td></tr><tr><td>2010</td><td>THEO</td><td>M</td><td>10</td></tr><tr><td>2016</td><td>LAUREN</td><td>F</td><td>77</td></tr><tr><td>2011</td><td>ELIMELECH</td><td>M</td><td>20</td></tr><tr><td>2012</td><td>SKYLA</td><td>F</td><td>33</td></tr><tr><td>2009</td><td>CASSIDY</td><td>F</td><td>33</td></tr><tr><td>2011</td><td>MAXIMILIANO</td><td>M</td><td>10</td></tr><tr><td>2008</td><td>ALEX</td><td>M</td><td>326</td></tr><tr><td>2017</td><td>MILAN</td><td>M</td><td>29</td></tr><tr><td>2011</td><td>SURY</td><td>F</td><td>26</td></tr><tr><td>2012</td><td>PHOENIX</td><td>M</td><td>12</td></tr><tr><td>2014</td><td>ANABEL</td><td>F</td><td>5</td></tr><tr><td>2011</td><td>EASTON</td><td>M</td><td>21</td></tr><tr><td>2013</td><td>MICAH</td><td>M</td><td>79</td></tr><tr><td>2014</td><td>ARYEH</td><td>M</td><td>33</td></tr><tr><td>2008</td><td>JONATHAN</td><td>M</td><td>771</td></tr><tr><td>2011</td><td>CHARLOTTE</td><td>F</td><td>358</td></tr><tr><td>2017</td><td>HADLEY</td><td>F</td><td>17</td></tr><tr><td>2007</td><td>AHARON</td><td>M</td><td>9</td></tr><tr><td>2011</td><td>ROWAN</td><td>M</td><td>8</td></tr><tr><td>2012</td><td>MAKAI</td><td>M</td><td>10</td></tr><tr><td>2007</td><td>LEA</td><td>F</td><td>20</td></tr><tr><td>2013</td><td>ZOEY</td><td>F</td><td>232</td></tr><tr><td>2009</td><td>JULIANNA</td><td>F</td><td>129</td></tr><tr><td>2010</td><td>HERSHY</td><td>M</td><td>35</td></tr><tr><td>2009</td><td>ALEXANDRIA</td><td>F</td><td>15</td></tr><tr><td>2013</td><td>JAMAL</td><td>M</td><td>10</td></tr><tr><td>2010</td><td>LUKAS</td><td>M</td><td>30</td></tr><tr><td>2010</td><td>QUINN</td><td>F</td><td>20</td></tr><tr><td>2007</td><td>VIOLET</td><td>F</td><td>33</td></tr><tr><td>2017</td><td>DARREN</td><td>M</td><td>17</td></tr><tr><td>2011</td><td>CHARLIE</td><td>M</td><td>16</td></tr><tr><td>2016</td><td>LAURA</td><td>F</td><td>11</td></tr><tr><td>2017</td><td>PAISLEY</td><td>F</td><td>28</td></tr><tr><td>2010</td><td>NATASHA</td><td>F</td><td>10</td></tr><tr><td>2009</td><td>ANJALI</td><td>F</td><td>11</td></tr><tr><td>2010</td><td>BRADY</td><td>M</td><td>63</td></tr><tr><td>2012</td><td>HAYLEE</td><td>F</td><td>5</td></tr><tr><td>2017</td><td>HANNAH</td><td>F</td><td>344</td></tr><tr><td>2011</td><td>ROHAN</td><td>M</td><td>10</td></tr><tr><td>2017</td><td>DAMIEN</td><td>M</td><td>12</td></tr><tr><td>2014</td><td>LYLAH</td><td>F</td><td>5</td></tr><tr><td>2007</td><td>LIAM</td><td>M</td><td>392</td></tr><tr><td>2009</td><td>AUBREY</td><td>F</td><td>37</td></tr><tr><td>2014</td><td>AMADOU</td><td>M</td><td>9</td></tr><tr><td>2015</td><td>MARK</td><td>M</td><td>107</td></tr><tr><td>2008</td><td>CHRISTINE</td><td>F</td><td>30</td></tr><tr><td>2013</td><td>LIV</td><td>F</td><td>12</td></tr><tr><td>2011</td><td>KAI</td><td>M</td><td>60</td></tr><tr><td>2015</td><td>MILAN</td><td>F</td><td>11</td></tr><tr><td>2014</td><td>ANAIS</td><td>F</td><td>10</td></tr><tr><td>2009</td><td>LEILANI</td><td>F</td><td>37</td></tr><tr><td>2011</td><td>JANE</td><td>F</td><td>27</td></tr><tr><td>2014</td><td>LOGAN</td><td>M</td><td>757</td></tr><tr><td>2007</td><td>REESE</td><td>F</td><td>19</td></tr><tr><td>2014</td><td>CECELIA</td><td>F</td><td>7</td></tr><tr><td>2016</td><td>ELI</td><td>M</td><td>295</td></tr><tr><td>2009</td><td>CHESKEL</td><td>M</td><td>17</td></tr><tr><td>2013</td><td>TALIA</td><td>F</td><td>82</td></tr><tr><td>2008</td><td>ADONIS</td><td>M</td><td>12</td></tr><tr><td>2008</td><td>QUINN</td><td>M</td><td>35</td></tr><tr><td>2012</td><td>BATSHEVA</td><td>F</td><td>66</td></tr><tr><td>2009</td><td>ANGEL</td><td>F</td><td>27</td></tr><tr><td>2008</td><td>YOSEF</td><td>M</td><td>74</td></tr><tr><td>2017</td><td>CHRIS</td><td>M</td><td>29</td></tr><tr><td>2013</td><td>ERICA</td><td>F</td><td>11</td></tr><tr><td>2015</td><td>MARC</td><td>M</td><td>23</td></tr><tr><td>2015</td><td>LEAH</td><td>F</td><td>586</td></tr><tr><td>2016</td><td>MARINA</td><td>F</td><td>10</td></tr><tr><td>2010</td><td>MIRACLE</td><td>F</td><td>5</td></tr><tr><td>2012</td><td>HAWA</td><td>F</td><td>10</td></tr><tr><td>2011</td><td>NYLA</td><td>F</td><td>66</td></tr><tr><td>2015</td><td>JOSEPHINE</td><td>F</td><td>97</td></tr><tr><td>2016</td><td>EVERETT</td><td>M</td><td>54</td></tr><tr><td>2010</td><td>GABRIEL</td><td>M</td><td>635</td></tr><tr><td>2011</td><td>CLARE</td><td>F</td><td>5</td></tr><tr><td>2017</td><td>ELUZER</td><td>M</td><td>11</td></tr><tr><td>2010</td><td>MILEY</td><td>F</td><td>39</td></tr><tr><td>2012</td><td>DOVID</td><td>M</td><td>29</td></tr><tr><td>2016</td><td>NOELLE</td><td>F</td><td>14</td></tr><tr><td>2017</td><td>JORDAN</td><td>M</td><td>238</td></tr><tr><td>2013</td><td>MARGOT</td><td>F</td><td>11</td></tr><tr><td>2009</td><td>MANUEL</td><td>M</td><td>42</td></tr><tr><td>2008</td><td>MINDY</td><td>F</td><td>30</td></tr><tr><td>2015</td><td>DEVORAH</td><td>F</td><td>40</td></tr><tr><td>2016</td><td>EVE</td><td>F</td><td>6</td></tr><tr><td>2010</td><td>BARUCH</td><td>M</td><td>21</td></tr><tr><td>2013</td><td>JASON</td><td>M</td><td>397</td></tr><tr><td>2008</td><td>DAYANA</td><td>F</td><td>26</td></tr><tr><td>2009</td><td>KYLIE</td><td>F</td><td>118</td></tr><tr><td>2013</td><td>JAX</td><td>M</td><td>10</td></tr><tr><td>2014</td><td>DANIELLE</td><td>F</td><td>61</td></tr><tr><td>2017</td><td>MUSA</td><td>M</td><td>23</td></tr><tr><td>2010</td><td>LOLA</td><td>F</td><td>43</td></tr><tr><td>2014</td><td>ABIGAIL</td><td>F</td><td>651</td></tr><tr><td>2010</td><td>LYDIA</td><td>F</td><td>26</td></tr><tr><td>2015</td><td>EMMANUEL</td><td>M</td><td>179</td></tr><tr><td>2007</td><td>PETER</td><td>M</td><td>222</td></tr><tr><td>2010</td><td>SEBASTIAN</td><td>M</td><td>403</td></tr><tr><td>2014</td><td>EMILY</td><td>F</td><td>810</td></tr><tr><td>2012</td><td>JAXON</td><td>M</td><td>65</td></tr><tr><td>2017</td><td>CHAIM</td><td>M</td><td>209</td></tr><tr><td>2007</td><td>JOHANNA</td><td>F</td><td>7</td></tr><tr><td>2015</td><td>JORDAN</td><td>F</td><td>16</td></tr><tr><td>2016</td><td>IDY</td><td>F</td><td>19</td></tr><tr><td>2011</td><td>JAZMIN</td><td>F</td><td>15</td></tr><tr><td>2012</td><td>RICARDO</td><td>M</td><td>17</td></tr><tr><td>2008</td><td>LILLIANA</td><td>F</td><td>12</td></tr><tr><td>2008</td><td>ELLIE</td><td>F</td><td>39</td></tr><tr><td>2017</td><td>COLETTE</td><td>F</td><td>28</td></tr><tr><td>2012</td><td>BROOKLYN</td><td>F</td><td>48</td></tr><tr><td>2017</td><td>GOLDY</td><td>F</td><td>53</td></tr><tr><td>2007</td><td>LINA</td><td>F</td><td>10</td></tr><tr><td>2011</td><td>AXEL</td><td>M</td><td>107</td></tr><tr><td>2014</td><td>JOHAN</td><td>M</td><td>29</td></tr><tr><td>2010</td><td>RAFAEL</td><td>M</td><td>85</td></tr><tr><td>2015</td><td>YOUSSEF</td><td>M</td><td>11</td></tr><tr><td>2017</td><td>BRUCHY</td><td>F</td><td>28</td></tr><tr><td>2008</td><td>KATIE</td><td>F</td><td>101</td></tr><tr><td>2014</td><td>RYAN</td><td>M</td><td>853</td></tr><tr><td>2015</td><td>JUDAH</td><td>M</td><td>31</td></tr><tr><td>2009</td><td>FIONA</td><td>F</td><td>103</td></tr><tr><td>2016</td><td>OPHELIA</td><td>F</td><td>5</td></tr><tr><td>2017</td><td>JENNIFER</td><td>F</td><td>48</td></tr><tr><td>2011</td><td>SADIE</td><td>F</td><td>70</td></tr><tr><td>2016</td><td>NORA</td><td>F</td><td>201</td></tr><tr><td>2017</td><td>SPENCER</td><td>M</td><td>28</td></tr><tr><td>2013</td><td>CONNOR</td><td>M</td><td>327</td></tr><tr><td>2017</td><td>ARIELLA</td><td>F</td><td>84</td></tr><tr><td>2007</td><td>YANDEL</td><td>M</td><td>13</td></tr><tr><td>2013</td><td>MENDY</td><td>M</td><td>23</td></tr><tr><td>2014</td><td>EZEQUIEL</td><td>M</td><td>5</td></tr><tr><td>2017</td><td>JUSTICE</td><td>M</td><td>16</td></tr><tr><td>2007</td><td>MAMADOU</td><td>M</td><td>27</td></tr><tr><td>2008</td><td>SHLOMO</td><td>M</td><td>55</td></tr><tr><td>2014</td><td>MIKE</td><td>M</td><td>16</td></tr><tr><td>2010</td><td>MIKAELA</td><td>F</td><td>14</td></tr><tr><td>2010</td><td>NATHALIE</td><td>F</td><td>19</td></tr><tr><td>2011</td><td>KADEN</td><td>M</td><td>53</td></tr><tr><td>2011</td><td>SELENA</td><td>F</td><td>15</td></tr><tr><td>2016</td><td>ADAM</td><td>M</td><td>347</td></tr><tr><td>2007</td><td>SHIRA</td><td>F</td><td>32</td></tr><tr><td>2009</td><td>MENDEL</td><td>M</td><td>56</td></tr><tr><td>2012</td><td>SUMMER</td><td>F</td><td>53</td></tr><tr><td>2013</td><td>ADRIANNA</td><td>F</td><td>87</td></tr><tr><td>2015</td><td>KAILEY</td><td>F</td><td>6</td></tr><tr><td>2009</td><td>ARTHUR</td><td>M</td><td>13</td></tr><tr><td>2013</td><td>KALEB</td><td>M</td><td>24</td></tr><tr><td>2017</td><td>DAHLIA</td><td>F</td><td>5</td></tr><tr><td>2017</td><td>MICHAL</td><td>F</td><td>5</td></tr><tr><td>2013</td><td>MARCOS</td><td>M</td><td>7</td></tr><tr><td>2014</td><td>HAZEL</td><td>F</td><td>68</td></tr><tr><td>2016</td><td>KYLA</td><td>F</td><td>7</td></tr><tr><td>2014</td><td>ANABELLE</td><td>F</td><td>20</td></tr><tr><td>2010</td><td>TAYLOR</td><td>F</td><td>216</td></tr><tr><td>2014</td><td>EGYPT</td><td>F</td><td>11</td></tr><tr><td>2012</td><td>GABRIELLA</td><td>F</td><td>485</td></tr><tr><td>2012</td><td>GITTY</td><td>F</td><td>93</td></tr><tr><td>2007</td><td>OMAR</td><td>M</td><td>162</td></tr><tr><td>2009</td><td>HARPER</td><td>F</td><td>23</td></tr><tr><td>2015</td><td>MATHEW</td><td>M</td><td>26</td></tr><tr><td>2015</td><td>MILES</td><td>M</td><td>146</td></tr><tr><td>2008</td><td>SINCERE</td><td>M</td><td>11</td></tr><tr><td>2015</td><td>WARREN</td><td>M</td><td>5</td></tr><tr><td>2008</td><td>FREDERICK</td><td>M</td><td>16</td></tr><tr><td>2010</td><td>EDWIN</td><td>M</td><td>107</td></tr><tr><td>2011</td><td>ADINA</td><td>F</td><td>28</td></tr><tr><td>2007</td><td>YIDES</td><td>F</td><td>21</td></tr><tr><td>2009</td><td>ANGELICA</td><td>F</td><td>48</td></tr><tr><td>2008</td><td>JAKUB</td><td>M</td><td>26</td></tr><tr><td>2010</td><td>MEGAN</td><td>F</td><td>86</td></tr><tr><td>2015</td><td>PEARL</td><td>F</td><td>23</td></tr><tr><td>2010</td><td>JAZLYN</td><td>F</td><td>12</td></tr><tr><td>2009</td><td>BRYANT</td><td>M</td><td>32</td></tr><tr><td>2008</td><td>GENEVIEVE</td><td>F</td><td>13</td></tr><tr><td>2012</td><td>LAILA</td><td>F</td><td>139</td></tr><tr><td>2014</td><td>NELSON</td><td>M</td><td>30</td></tr><tr><td>2011</td><td>LILIANNA</td><td>F</td><td>8</td></tr><tr><td>2012</td><td>LINDA</td><td>F</td><td>15</td></tr><tr><td>2010</td><td>LILLY</td><td>F</td><td>40</td></tr><tr><td>2010</td><td>MIKAYLA</td><td>F</td><td>69</td></tr><tr><td>2014</td><td>LIA</td><td>F</td><td>72</td></tr><tr><td>2014</td><td>PHILIP</td><td>M</td><td>41</td></tr><tr><td>2014</td><td>KENZIE</td><td>F</td><td>6</td></tr><tr><td>2013</td><td>CARLOS</td><td>M</td><td>139</td></tr><tr><td>2016</td><td>KYSON</td><td>M</td><td>18</td></tr><tr><td>2015</td><td>YEHUDAH</td><td>M</td><td>5</td></tr><tr><td>2015</td><td>LIBBY</td><td>F</td><td>20</td></tr><tr><td>2015</td><td>AUTUMN</td><td>F</td><td>126</td></tr><tr><td>2008</td><td>NIA</td><td>F</td><td>33</td></tr><tr><td>2012</td><td>ANABELLA</td><td>F</td><td>5</td></tr><tr><td>2015</td><td>SABRINA</td><td>F</td><td>63</td></tr><tr><td>2009</td><td>SIENA</td><td>F</td><td>15</td></tr><tr><td>2010</td><td>YECHIEL</td><td>M</td><td>33</td></tr><tr><td>2014</td><td>CLARK</td><td>M</td><td>5</td></tr><tr><td>2016</td><td>ROMAN</td><td>M</td><td>107</td></tr><tr><td>2011</td><td>MELINA</td><td>F</td><td>17</td></tr><tr><td>2014</td><td>KATHERINE</td><td>F</td><td>169</td></tr><tr><td>2009</td><td>ARI</td><td>M</td><td>40</td></tr><tr><td>2009</td><td>FATOUMATA</td><td>F</td><td>43</td></tr><tr><td>2013</td><td>KAREN</td><td>F</td><td>43</td></tr><tr><td>2017</td><td>EVA</td><td>F</td><td>180</td></tr><tr><td>2014</td><td>ALPHA</td><td>M</td><td>12</td></tr><tr><td>2015</td><td>DESMOND</td><td>M</td><td>5</td></tr><tr><td>2009</td><td>CAMDEN</td><td>M</td><td>11</td></tr><tr><td>2014</td><td>KEEGAN</td><td>M</td><td>15</td></tr><tr><td>2009</td><td>COREY</td><td>M</td><td>21</td></tr><tr><td>2010</td><td>HAYDEN</td><td>M</td><td>55</td></tr><tr><td>2017</td><td>HANA</td><td>F</td><td>25</td></tr><tr><td>2016</td><td>SAVANNAH</td><td>F</td><td>260</td></tr><tr><td>2009</td><td>LILIANA</td><td>F</td><td>64</td></tr><tr><td>2007</td><td>KACPER</td><td>M</td><td>10</td></tr><tr><td>2013</td><td>LEONARDO</td><td>M</td><td>137</td></tr><tr><td>2012</td><td>ANTONELLA</td><td>F</td><td>5</td></tr><tr><td>2016</td><td>ANYA</td><td>F</td><td>5</td></tr><tr><td>2014</td><td>SAAD</td><td>M</td><td>7</td></tr><tr><td>2014</td><td>GIA</td><td>F</td><td>79</td></tr><tr><td>2010</td><td>GARRETT</td><td>M</td><td>5</td></tr><tr><td>2010</td><td>VINCENT</td><td>M</td><td>278</td></tr><tr><td>2010</td><td>ZLATY</td><td>F</td><td>11</td></tr><tr><td>2014</td><td>AIDEL</td><td>F</td><td>6</td></tr><tr><td>2011</td><td>CONNER</td><td>M</td><td>10</td></tr><tr><td>2011</td><td>TZIVIA</td><td>F</td><td>14</td></tr><tr><td>2016</td><td>NATHAN</td><td>M</td><td>390</td></tr><tr><td>2017</td><td>SAWYER</td><td>M</td><td>27</td></tr><tr><td>2016</td><td>WILLA</td><td>F</td><td>25</td></tr><tr><td>2014</td><td>PRIYA</td><td>F</td><td>5</td></tr><tr><td>2011</td><td>KIARA</td><td>F</td><td>62</td></tr><tr><td>2008</td><td>BIANCA</td><td>F</td><td>68</td></tr><tr><td>2010</td><td>MCKENZIE</td><td>F</td><td>8</td></tr><tr><td>2014</td><td>KEITH</td><td>M</td><td>11</td></tr><tr><td>2012</td><td>CADEN</td><td>M</td><td>27</td></tr><tr><td>2017</td><td>JORDYN</td><td>F</td><td>23</td></tr><tr><td>2012</td><td>MYA</td><td>F</td><td>112</td></tr><tr><td>2010</td><td>RUTH</td><td>F</td><td>25</td></tr><tr><td>2008</td><td>SONIA</td><td>F</td><td>23</td></tr><tr><td>2016</td><td>AHRON</td><td>M</td><td>17</td></tr><tr><td>2011</td><td>NICOLAS</td><td>M</td><td>138</td></tr><tr><td>2012</td><td>DYLAN</td><td>F</td><td>18</td></tr><tr><td>2015</td><td>PRESTON</td><td>M</td><td>71</td></tr><tr><td>2016</td><td>SHEA</td><td>F</td><td>15</td></tr><tr><td>2015</td><td>JOYCE</td><td>F</td><td>13</td></tr><tr><td>2014</td><td>HENCHY</td><td>F</td><td>15</td></tr><tr><td>2009</td><td>SANAA</td><td>F</td><td>11</td></tr><tr><td>2011</td><td>ZAHARA</td><td>F</td><td>10</td></tr><tr><td>2007</td><td>KAIA</td><td>F</td><td>7</td></tr><tr><td>2016</td><td>LEO</td><td>M</td><td>338</td></tr><tr><td>2007</td><td>SHOLOM</td><td>M</td><td>10</td></tr><tr><td>2011</td><td>JEFFREY</td><td>M</td><td>80</td></tr><tr><td>2010</td><td>JULIA</td><td>F</td><td>402</td></tr><tr><td>2011</td><td>EMERSON</td><td>F</td><td>11</td></tr><tr><td>2017</td><td>SHAYA</td><td>M</td><td>41</td></tr><tr><td>2014</td><td>PEDRO</td><td>M</td><td>15</td></tr><tr><td>2015</td><td>ROBERT</td><td>M</td><td>279</td></tr><tr><td>2010</td><td>RYLEE</td><td>F</td><td>25</td></tr><tr><td>2016</td><td>ADRIAN</td><td>M</td><td>325</td></tr><tr><td>2011</td><td>LILLY</td><td>F</td><td>37</td></tr><tr><td>2012</td><td>ALAN</td><td>M</td><td>95</td></tr><tr><td>2013</td><td>IDY</td><td>F</td><td>11</td></tr><tr><td>2010</td><td>TONY</td><td>M</td><td>15</td></tr><tr><td>2009</td><td>CAMILA</td><td>F</td><td>150</td></tr><tr><td>2011</td><td>MIKAYLA</td><td>F</td><td>85</td></tr><tr><td>2017</td><td>CASEY</td><td>F</td><td>6</td></tr><tr><td>2011</td><td>MEGAN</td><td>F</td><td>61</td></tr><tr><td>2016</td><td>LITZY</td><td>F</td><td>12</td></tr><tr><td>2010</td><td>LILIANNA</td><td>F</td><td>5</td></tr><tr><td>2012</td><td>ADRIEL</td><td>M</td><td>14</td></tr><tr><td>2015</td><td>LENA</td><td>F</td><td>43</td></tr><tr><td>2016</td><td>JASON</td><td>M</td><td>296</td></tr><tr><td>2007</td><td>EDWARD</td><td>M</td><td>180</td></tr><tr><td>2008</td><td>FAIGA</td><td>F</td><td>18</td></tr><tr><td>2014</td><td>INAAYA</td><td>F</td><td>5</td></tr><tr><td>2016</td><td>JAX</td><td>M</td><td>46</td></tr><tr><td>2017</td><td>BRODY</td><td>M</td><td>34</td></tr><tr><td>2014</td><td>AMARIS</td><td>F</td><td>5</td></tr><tr><td>2012</td><td>AILEEN</td><td>F</td><td>17</td></tr><tr><td>2013</td><td>EVE</td><td>F</td><td>10</td></tr><tr><td>2013</td><td>MUSHKA</td><td>F</td><td>11</td></tr><tr><td>2015</td><td>PRISCILLA</td><td>F</td><td>11</td></tr><tr><td>2009</td><td>JOSIAH</td><td>M</td><td>245</td></tr><tr><td>2007</td><td>ANDERSON</td><td>M</td><td>43</td></tr><tr><td>2010</td><td>MELINA</td><td>F</td><td>14</td></tr><tr><td>2012</td><td>ARYA</td><td>F</td><td>5</td></tr><tr><td>2013</td><td>EVERETT</td><td>M</td><td>39</td></tr><tr><td>2017</td><td>YOEL</td><td>M</td><td>24</td></tr><tr><td>2012</td><td>GIANNA</td><td>F</td><td>378</td></tr><tr><td>2008</td><td>CRISTIAN</td><td>M</td><td>115</td></tr><tr><td>2014</td><td>YASIN</td><td>M</td><td>5</td></tr><tr><td>2017</td><td>PARIS</td><td>F</td><td>35</td></tr><tr><td>2013</td><td>NOELLE</td><td>F</td><td>29</td></tr><tr><td>2016</td><td>MARGOT</td><td>F</td><td>6</td></tr><tr><td>2011</td><td>YECHIEL</td><td>M</td><td>34</td></tr><tr><td>2014</td><td>NICHOLAS</td><td>M</td><td>670</td></tr><tr><td>2011</td><td>HAYDEN</td><td>M</td><td>48</td></tr><tr><td>2017</td><td>NICOLETTE</td><td>F</td><td>5</td></tr><tr><td>2014</td><td>LILLIAN</td><td>F</td><td>221</td></tr><tr><td>2007</td><td>LUKE</td><td>M</td><td>375</td></tr><tr><td>2008</td><td>ZAIRE</td><td>M</td><td>21</td></tr><tr><td>2007</td><td>ANA</td><td>F</td><td>69</td></tr><tr><td>2013</td><td>ELI</td><td>M</td><td>308</td></tr><tr><td>2016</td><td>TALIA</td><td>F</td><td>85</td></tr><tr><td>2014</td><td>USHER</td><td>M</td><td>25</td></tr><tr><td>2007</td><td>JULIET</td><td>F</td><td>19</td></tr><tr><td>2012</td><td>NIKOLAS</td><td>M</td><td>5</td></tr><tr><td>2017</td><td>VIENNA</td><td>F</td><td>11</td></tr><tr><td>2012</td><td>APRIL</td><td>F</td><td>11</td></tr><tr><td>2009</td><td>MARQUIS</td><td>M</td><td>10</td></tr><tr><td>2013</td><td>KYLA</td><td>F</td><td>7</td></tr><tr><td>2011</td><td>VINCENT</td><td>M</td><td>292</td></tr><tr><td>2015</td><td>HERSHEL</td><td>M</td><td>31</td></tr><tr><td>2011</td><td>ERIKA</td><td>F</td><td>29</td></tr><tr><td>2007</td><td>XAVIER</td><td>M</td><td>341</td></tr><tr><td>2008</td><td>BENNY</td><td>M</td><td>13</td></tr><tr><td>2017</td><td>KEVIN</td><td>M</td><td>261</td></tr><tr><td>2012</td><td>JUSTIN</td><td>M</td><td>715</td></tr><tr><td>2014</td><td>HEATHER</td><td>F</td><td>10</td></tr><tr><td>2008</td><td>DAMIAN</td><td>M</td><td>86</td></tr><tr><td>2010</td><td>KIARA</td><td>F</td><td>49</td></tr><tr><td>2013</td><td>ADAM</td><td>M</td><td>362</td></tr><tr><td>2012</td><td>CHANA</td><td>F</td><td>189</td></tr><tr><td>2014</td><td>ARIEL</td><td>F</td><td>101</td></tr><tr><td>2011</td><td>MCKENZIE</td><td>F</td><td>41</td></tr><tr><td>2015</td><td>LEVI</td><td>M</td><td>190</td></tr><tr><td>2014</td><td>DEREK</td><td>M</td><td>143</td></tr><tr><td>2016</td><td>MARCOS</td><td>M</td><td>5</td></tr><tr><td>2007</td><td>SHOSHANA</td><td>F</td><td>19</td></tr><tr><td>2017</td><td>BENTLEY</td><td>M</td><td>32</td></tr><tr><td>2009</td><td>ANIYA</td><td>F</td><td>30</td></tr><tr><td>2010</td><td>TZIVIA</td><td>F</td><td>18</td></tr><tr><td>2016</td><td>ADRIANNA</td><td>F</td><td>42</td></tr><tr><td>2010</td><td>CONNER</td><td>M</td><td>5</td></tr><tr><td>2016</td><td>KALEB</td><td>M</td><td>43</td></tr><tr><td>2013</td><td>NORA</td><td>F</td><td>143</td></tr><tr><td>2011</td><td>RUTH</td><td>F</td><td>17</td></tr><tr><td>2009</td><td>EZRIEL</td><td>M</td><td>5</td></tr><tr><td>2015</td><td>ABRAHAM</td><td>M</td><td>244</td></tr><tr><td>2014</td><td>MILA</td><td>F</td><td>197</td></tr><tr><td>2016</td><td>CONNOR</td><td>M</td><td>319</td></tr><tr><td>2015</td><td>ELISA</td><td>F</td><td>16</td></tr><tr><td>2017</td><td>RACHEL</td><td>F</td><td>260</td></tr><tr><td>2016</td><td>MENDY</td><td>M</td><td>29</td></tr><tr><td>2010</td><td>EMERSON</td><td>F</td><td>13</td></tr><tr><td>2011</td><td>JULIA</td><td>F</td><td>351</td></tr><tr><td>2010</td><td>JEFFREY</td><td>M</td><td>92</td></tr><tr><td>2014</td><td>KARLA</td><td>F</td><td>14</td></tr><tr><td>2009</td><td>PHOEBE</td><td>F</td><td>39</td></tr><tr><td>2011</td><td>RYLEE</td><td>F</td><td>16</td></tr><tr><td>2015</td><td>GWENDOLYN</td><td>F</td><td>5</td></tr><tr><td>2015</td><td>ALVIN</td><td>M</td><td>44</td></tr><tr><td>2010</td><td>NICOLAS</td><td>M</td><td>142</td></tr><tr><td>2015</td><td>THEODORE</td><td>M</td><td>255</td></tr><tr><td>2008</td><td>JESSE</td><td>M</td><td>71</td></tr><tr><td>2015</td><td>ELLE</td><td>F</td><td>24</td></tr><tr><td>2009</td><td>ELSA</td><td>F</td><td>10</td></tr><tr><td>2014</td><td>ELISE</td><td>F</td><td>37</td></tr><tr><td>2016</td><td>KAREN</td><td>F</td><td>29</td></tr><tr><td>2008</td><td>TERRELL</td><td>M</td><td>13</td></tr><tr><td>2009</td><td>MATTHEW</td><td>M</td><td>1367</td></tr><tr><td>2013</td><td>SAVANNAH</td><td>F</td><td>205</td></tr><tr><td>2014</td><td>LIYANA</td><td>F</td><td>5</td></tr><tr><td>2015</td><td>LIPA</td><td>M</td><td>34</td></tr><tr><td>2008</td><td>MAXIMILIAN</td><td>M</td><td>20</td></tr><tr><td>2010</td><td>JANE</td><td>F</td><td>11</td></tr><tr><td>2007</td><td>ANNE</td><td>F</td><td>5</td></tr><tr><td>2008</td><td>ELLIANA</td><td>F</td><td>5</td></tr><tr><td>2012</td><td>ALEXIS</td><td>M</td><td>70</td></tr><tr><td>2012</td><td>SHIRLEY</td><td>F</td><td>24</td></tr><tr><td>2011</td><td>ELAINA</td><td>F</td><td>6</td></tr><tr><td>2017</td><td>VANESSA</td><td>F</td><td>30</td></tr><tr><td>2009</td><td>AMARA</td><td>F</td><td>5</td></tr><tr><td>2011</td><td>GABRIEL</td><td>M</td><td>612</td></tr><tr><td>2013</td><td>ROMAN</td><td>M</td><td>65</td></tr><tr><td>2011</td><td>MILEY</td><td>F</td><td>17</td></tr><tr><td>2014</td><td>TENZIN</td><td>M</td><td>39</td></tr><tr><td>2007</td><td>MARCO</td><td>M</td><td>73</td></tr><tr><td>2010</td><td>NYLA</td><td>F</td><td>63</td></tr><tr><td>2011</td><td>MIRACLE</td><td>F</td><td>10</td></tr><tr><td>2009</td><td>ZALMEN</td><td>M</td><td>10</td></tr><tr><td>2011</td><td>LOLA</td><td>F</td><td>43</td></tr><tr><td>2011</td><td>LYDIA</td><td>F</td><td>27</td></tr><tr><td>2014</td><td>ADIEL</td><td>M</td><td>5</td></tr><tr><td>2008</td><td>TY</td><td>M</td><td>5</td></tr><tr><td>2009</td><td>SAMANTHA</td><td>F</td><td>582</td></tr><tr><td>2014</td><td>AISSATOU</td><td>F</td><td>7</td></tr><tr><td>2015</td><td>LEV</td><td>M</td><td>10</td></tr><tr><td>2011</td><td>SEBASTIAN</td><td>M</td><td>418</td></tr><tr><td>2012</td><td>MARISA</td><td>F</td><td>6</td></tr><tr><td>2016</td><td>CARLOS</td><td>M</td><td>128</td></tr><tr><td>2007</td><td>JEAN</td><td>M</td><td>23</td></tr><tr><td>2014</td><td>GOLDA</td><td>F</td><td>19</td></tr><tr><td>2009</td><td>VICTOR</td><td>M</td><td>144</td></tr><tr><td>2009</td><td>MALIK</td><td>M</td><td>55</td></tr><tr><td>2012</td><td>LUCA</td><td>M</td><td>150</td></tr><tr><td>2012</td><td>SIENNA</td><td>F</td><td>92</td></tr><tr><td>2011</td><td>ELLIANNA</td><td>F</td><td>5</td></tr><tr><td>2015</td><td>FLETCHER</td><td>M</td><td>5</td></tr><tr><td>2009</td><td>REAGAN</td><td>F</td><td>7</td></tr><tr><td>2010</td><td>MILTON</td><td>M</td><td>5</td></tr><tr><td>2014</td><td>EDGAR</td><td>M</td><td>19</td></tr><tr><td>2007</td><td>SHAMAR</td><td>M</td><td>10</td></tr><tr><td>2011</td><td>BARUCH</td><td>M</td><td>23</td></tr><tr><td>2011</td><td>JANAE</td><td>F</td><td>10</td></tr><tr><td>2014</td><td>JAGGER</td><td>M</td><td>8</td></tr><tr><td>2010</td><td>JAZMIN</td><td>F</td><td>23</td></tr><tr><td>2016</td><td>ABDIEL</td><td>M</td><td>10</td></tr><tr><td>2017</td><td>KAREEM</td><td>M</td><td>10</td></tr><tr><td>2014</td><td>ALISHA</td><td>F</td><td>30</td></tr><tr><td>2012</td><td>SOPHIE</td><td>F</td><td>246</td></tr><tr><td>2013</td><td>ABDOULAYE</td><td>M</td><td>12</td></tr><tr><td>2007</td><td>YASMIN</td><td>F</td><td>21</td></tr><tr><td>2011</td><td>RAFAEL</td><td>M</td><td>83</td></tr><tr><td>2013</td><td>LEO</td><td>M</td><td>218</td></tr><tr><td>2012</td><td>KATE</td><td>F</td><td>74</td></tr><tr><td>2013</td><td>ADRIAN</td><td>M</td><td>324</td></tr><tr><td>2010</td><td>AXEL</td><td>M</td><td>38</td></tr><tr><td>2012</td><td>MOHAMMAD</td><td>M</td><td>60</td></tr><tr><td>2014</td><td>KENDRA</td><td>F</td><td>21</td></tr><tr><td>2017</td><td>GREGORY</td><td>M</td><td>17</td></tr><tr><td>2008</td><td>TREVOR</td><td>M</td><td>51</td></tr><tr><td>2010</td><td>NAHLA</td><td>F</td><td>11</td></tr><tr><td>2012</td><td>TROY</td><td>M</td><td>6</td></tr><tr><td>2014</td><td>FELICIA</td><td>F</td><td>5</td></tr><tr><td>2017</td><td>RUCHEL</td><td>F</td><td>14</td></tr><tr><td>2009</td><td>IRIS</td><td>F</td><td>38</td></tr><tr><td>2012</td><td>NOA</td><td>F</td><td>29</td></tr><tr><td>2014</td><td>MAE</td><td>F</td><td>5</td></tr><tr><td>2009</td><td>CHANY</td><td>F</td><td>27</td></tr><tr><td>2014</td><td>MELVIN</td><td>M</td><td>10</td></tr><tr><td>2011</td><td>HADASSA</td><td>F</td><td>10</td></tr><tr><td>2014</td><td>ELIANNA</td><td>F</td><td>5</td></tr><tr><td>2008</td><td>DANNY</td><td>M</td><td>63</td></tr><tr><td>2010</td><td>SADIE</td><td>F</td><td>68</td></tr><tr><td>2014</td><td>TRANY</td><td>F</td><td>12</td></tr><tr><td>2014</td><td>MD</td><td>M</td><td>6</td></tr><tr><td>2008</td><td>MEIR</td><td>M</td><td>46</td></tr><tr><td>2013</td><td>NATHAN</td><td>M</td><td>449</td></tr><tr><td>2012</td><td>MIRANDA</td><td>F</td><td>22</td></tr><tr><td>2008</td><td>CAITLIN</td><td>F</td><td>67</td></tr><tr><td>2011</td><td>NATHALIE</td><td>F</td><td>11</td></tr><tr><td>2014</td><td>CODY</td><td>M</td><td>22</td></tr><tr><td>2010</td><td>SELENA</td><td>F</td><td>34</td></tr><tr><td>2010</td><td>KADEN</td><td>M</td><td>27</td></tr><tr><td>2009</td><td>MUHAMMAD</td><td>M</td><td>62</td></tr><tr><td>2011</td><td>MIKAELA</td><td>F</td><td>19</td></tr><tr><td>2014</td><td>ESHAAL</td><td>F</td><td>7</td></tr><tr><td>2007</td><td>BAILEY</td><td>F</td><td>19</td></tr><tr><td>2013</td><td>ANYA</td><td>F</td><td>10</td></tr><tr><td>2015</td><td>SAMARA</td><td>F</td><td>10</td></tr><tr><td>2014</td><td>THOMAS</td><td>M</td><td>435</td></tr><tr><td>2010</td><td>ADINA</td><td>F</td><td>10</td></tr><tr><td>2011</td><td>EDWIN</td><td>M</td><td>116</td></tr><tr><td>2014</td><td>WYATT</td><td>M</td><td>154</td></tr><tr><td>2016</td><td>LEONARDO</td><td>M</td><td>187</td></tr><tr><td>2007</td><td>AIDEN</td><td>M</td><td>616</td></tr><tr><td>2011</td><td>TAYLOR</td><td>F</td><td>213</td></tr><tr><td>2007</td><td>LANDON</td><td>M</td><td>91</td></tr><tr><td>2017</td><td>LARA</td><td>F</td><td>10</td></tr><tr><td>2015</td><td>JOANNA</td><td>F</td><td>47</td></tr><tr><td>2011</td><td>JANNAT</td><td>F</td><td>13</td></tr><tr><td>2017</td><td>JOY</td><td>F</td><td>31</td></tr><tr><td>2015</td><td>NATHANAEL</td><td>M</td><td>10</td></tr><tr><td>2017</td><td>CYNTHIA</td><td>F</td><td>11</td></tr><tr><td>2013</td><td>MIRIAM</td><td>F</td><td>197</td></tr><tr><td>2014</td><td>IBRAHIMA</td><td>M</td><td>8</td></tr><tr><td>2014</td><td>YONAH</td><td>M</td><td>8</td></tr><tr><td>2008</td><td>SELINA</td><td>F</td><td>12</td></tr><tr><td>2012</td><td>GRAHAM</td><td>M</td><td>20</td></tr><tr><td>2011</td><td>JAMIE</td><td>F</td><td>23</td></tr><tr><td>2013</td><td>JULISSA</td><td>F</td><td>7</td></tr><tr><td>2011</td><td>PAOLA</td><td>F</td><td>10</td></tr><tr><td>2007</td><td>CAMILO</td><td>M</td><td>6</td></tr><tr><td>2008</td><td>KIMBERLY</td><td>F</td><td>216</td></tr><tr><td>2009</td><td>CHAYA</td><td>F</td><td>201</td></tr><tr><td>2012</td><td>SANTIAGO</td><td>M</td><td>58</td></tr><tr><td>2017</td><td>ELIAS</td><td>M</td><td>232</td></tr><tr><td>2008</td><td>ANNABEL</td><td>F</td><td>10</td></tr><tr><td>2014</td><td>MENASHE</td><td>M</td><td>19</td></tr><tr><td>2017</td><td>MESSIAH</td><td>M</td><td>63</td></tr><tr><td>2007</td><td>TIMOTHY</td><td>M</td><td>171</td></tr><tr><td>2008</td><td>OWEN</td><td>M</td><td>330</td></tr><tr><td>2012</td><td>NOEL</td><td>M</td><td>26</td></tr><tr><td>2011</td><td>MCKENNA</td><td>F</td><td>6</td></tr><tr><td>2015</td><td>PAYTON</td><td>F</td><td>21</td></tr><tr><td>2016</td><td>PINCHUS</td><td>M</td><td>18</td></tr><tr><td>2012</td><td>KAMILA</td><td>F</td><td>9</td></tr><tr><td>2017</td><td>DARWIN</td><td>M</td><td>7</td></tr><tr><td>2017</td><td>ARJUN</td><td>M</td><td>15</td></tr><tr><td>2011</td><td>ALISON</td><td>F</td><td>67</td></tr><tr><td>2007</td><td>ABBY</td><td>F</td><td>16</td></tr><tr><td>2007</td><td>CESAR</td><td>M</td><td>45</td></tr><tr><td>2011</td><td>ARIA</td><td>F</td><td>54</td></tr><tr><td>2007</td><td>BROOKE</td><td>F</td><td>212</td></tr><tr><td>2016</td><td>RUBY</td><td>F</td><td>114</td></tr><tr><td>2012</td><td>ISREAL</td><td>M</td><td>5</td></tr><tr><td>2014</td><td>SAMEER</td><td>M</td><td>6</td></tr><tr><td>2016</td><td>AYAAN</td><td>M</td><td>25</td></tr><tr><td>2016</td><td>MOLLY</td><td>F</td><td>66</td></tr><tr><td>2017</td><td>TRAVIS</td><td>M</td><td>17</td></tr><tr><td>2008</td><td>CATHERINE</td><td>F</td><td>119</td></tr><tr><td>2011</td><td>MARIAMA</td><td>F</td><td>10</td></tr><tr><td>2016</td><td>EMILIA</td><td>F</td><td>182</td></tr><tr><td>2017</td><td>OLIVE</td><td>F</td><td>11</td></tr><tr><td>2014</td><td>SHARON</td><td>F</td><td>21</td></tr><tr><td>2016</td><td>AUGUST</td><td>M</td><td>65</td></tr><tr><td>2011</td><td>HEAVEN</td><td>F</td><td>37</td></tr><tr><td>2016</td><td>LUIS</td><td>M</td><td>131</td></tr><tr><td>2012</td><td>BLAKE</td><td>F</td><td>6</td></tr><tr><td>2009</td><td>AMIRA</td><td>F</td><td>27</td></tr><tr><td>2007</td><td>SANIYA</td><td>F</td><td>18</td></tr><tr><td>2012</td><td>REID</td><td>M</td><td>5</td></tr><tr><td>2010</td><td>ELIMELECH</td><td>M</td><td>19</td></tr><tr><td>2012</td><td>ELLA</td><td>F</td><td>515</td></tr><tr><td>2008</td><td>MEGHAN</td><td>F</td><td>36</td></tr><tr><td>2010</td><td>JACKSON</td><td>M</td><td>364</td></tr><tr><td>2017</td><td>SEAN</td><td>M</td><td>83</td></tr><tr><td>2017</td><td>ISMAIL</td><td>M</td><td>12</td></tr><tr><td>2008</td><td>JADIEL</td><td>M</td><td>12</td></tr><tr><td>2009</td><td>DEVIN</td><td>M</td><td>175</td></tr><tr><td>2016</td><td>FISHEL</td><td>M</td><td>10</td></tr><tr><td>2009</td><td>MATTEO</td><td>M</td><td>60</td></tr><tr><td>2014</td><td>BRENNAN</td><td>M</td><td>24</td></tr><tr><td>2014</td><td>ALEENA</td><td>F</td><td>27</td></tr><tr><td>2016</td><td>AIZAH</td><td>F</td><td>13</td></tr><tr><td>2010</td><td>EASTON</td><td>M</td><td>9</td></tr><tr><td>2014</td><td>RENEE</td><td>F</td><td>11</td></tr><tr><td>2015</td><td>JACKY</td><td>M</td><td>10</td></tr><tr><td>2014</td><td>AMELIE</td><td>F</td><td>18</td></tr><tr><td>2016</td><td>DANIEL</td><td>M</td><td>892</td></tr><tr><td>2008</td><td>BRAYDEN</td><td>M</td><td>145</td></tr><tr><td>2015</td><td>JAKE</td><td>M</td><td>182</td></tr><tr><td>2010</td><td>CHARLOTTE</td><td>F</td><td>312</td></tr><tr><td>2007</td><td>JOEL</td><td>M</td><td>240</td></tr><tr><td>2009</td><td>YITTY</td><td>F</td><td>27</td></tr><tr><td>2012</td><td>GITTEL</td><td>F</td><td>18</td></tr><tr><td>2008</td><td>RAQUEL</td><td>F</td><td>6</td></tr><tr><td>2008</td><td>MORDECHAI</td><td>M</td><td>76</td></tr><tr><td>2010</td><td>SURY</td><td>F</td><td>18</td></tr><tr><td>2014</td><td>ARIANA</td><td>F</td><td>345</td></tr><tr><td>2007</td><td>AMARI</td><td>M</td><td>19</td></tr><tr><td>2015</td><td>FRAIDY</td><td>F</td><td>37</td></tr><tr><td>2014</td><td>FRIDA</td><td>F</td><td>5</td></tr><tr><td>2011</td><td>HERSHY</td><td>M</td><td>33</td></tr><tr><td>2011</td><td>LUKAS</td><td>M</td><td>35</td></tr><tr><td>2015</td><td>LINCOLN</td><td>M</td><td>91</td></tr><tr><td>2010</td><td>ROWAN</td><td>M</td><td>12</td></tr><tr><td>2013</td><td>CINDY</td><td>F</td><td>21</td></tr><tr><td>2013</td><td>DECLAN</td><td>M</td><td>141</td></tr><tr><td>2014</td><td>MARIAM</td><td>F</td><td>74</td></tr><tr><td>2007</td><td>ZACHARY</td><td>M</td><td>426</td></tr><tr><td>2012</td><td>ANNABELLE</td><td>F</td><td>65</td></tr><tr><td>2007</td><td>SKYLER</td><td>F</td><td>5</td></tr><tr><td>2007</td><td>HOPE</td><td>F</td><td>15</td></tr><tr><td>2010</td><td>KAI</td><td>M</td><td>68</td></tr><tr><td>2014</td><td>ELIZABETH</td><td>F</td><td>372</td></tr><tr><td>2007</td><td>JESSIE</td><td>F</td><td>10</td></tr><tr><td>2009</td><td>MCKAYLA</td><td>F</td><td>6</td></tr><tr><td>2014</td><td>CARMEN</td><td>F</td><td>24</td></tr><tr><td>2010</td><td>CHARLIE</td><td>M</td><td>43</td></tr><tr><td>2012</td><td>LAYLA</td><td>F</td><td>247</td></tr><tr><td>2011</td><td>QUINN</td><td>F</td><td>22</td></tr><tr><td>2011</td><td>BRADY</td><td>M</td><td>74</td></tr><tr><td>2014</td><td>JOSHUA</td><td>M</td><td>623</td></tr><tr><td>2017</td><td>PEYTON</td><td>F</td><td>119</td></tr><tr><td>2017</td><td>EMERY</td><td>F</td><td>13</td></tr><tr><td>2011</td><td>NATASHA</td><td>F</td><td>5</td></tr><tr><td>2010</td><td>ADEN</td><td>M</td><td>12</td></tr><tr><td>2015</td><td>GABRIELA</td><td>F</td><td>74</td></tr><tr><td>2010</td><td>ERIK</td><td>M</td><td>29</td></tr><tr><td>2016</td><td>EFRAIM</td><td>M</td><td>16</td></tr><tr><td>2014</td><td>NOAM</td><td>M</td><td>20</td></tr><tr><td>2011</td><td>HUDSON</td><td>M</td><td>97</td></tr><tr><td>2009</td><td>MADELYN</td><td>F</td><td>167</td></tr><tr><td>2008</td><td>NEVAEH</td><td>F</td><td>184</td></tr><tr><td>2009</td><td>BRIELLE</td><td>F</td><td>40</td></tr><tr><td>2008</td><td>EMERSON</td><td>M</td><td>15</td></tr><tr><td>2013</td><td>WOLF</td><td>M</td><td>9</td></tr><tr><td>2017</td><td>ELIJAH</td><td>M</td><td>393</td></tr><tr><td>2007</td><td>MAKENZIE</td><td>F</td><td>5</td></tr><tr><td>2008</td><td>CASSANDRA</td><td>F</td><td>14</td></tr><tr><td>2012</td><td>ALESSANDRA</td><td>F</td><td>38</td></tr><tr><td>2012</td><td>NATALIA</td><td>F</td><td>100</td></tr><tr><td>2014</td><td>JUNIPER</td><td>F</td><td>10</td></tr><tr><td>2012</td><td>ANGELA</td><td>F</td><td>90</td></tr><tr><td>2015</td><td>EMAAN</td><td>F</td><td>5</td></tr><tr><td>2017</td><td>ZOE</td><td>F</td><td>306</td></tr><tr><td>2010</td><td>AURORA</td><td>F</td><td>15</td></tr><tr><td>2016</td><td>BRITTANY</td><td>F</td><td>26</td></tr><tr><td>2015</td><td>DAISY</td><td>F</td><td>18</td></tr><tr><td>2009</td><td>NECHAMA</td><td>F</td><td>29</td></tr><tr><td>2011</td><td>KAITLYN</td><td>F</td><td>157</td></tr><tr><td>2014</td><td>ANSON</td><td>M</td><td>18</td></tr><tr><td>2014</td><td>TOMAS</td><td>M</td><td>10</td></tr><tr><td>2011</td><td>MILANIA</td><td>F</td><td>15</td></tr><tr><td>2012</td><td>ADA</td><td>F</td><td>11</td></tr><tr><td>2009</td><td>DANA</td><td>F</td><td>9</td></tr><tr><td>2007</td><td>MARIAH</td><td>F</td><td>71</td></tr><tr><td>2007</td><td>AVA</td><td>F</td><td>1043</td></tr><tr><td>2016</td><td>SYLVIA</td><td>F</td><td>10</td></tr><tr><td>2017</td><td>BREINDY</td><td>F</td><td>15</td></tr><tr><td>2008</td><td>JERMAINE</td><td>M</td><td>20</td></tr><tr><td>2009</td><td>ERIN</td><td>F</td><td>87</td></tr><tr><td>2017</td><td>ANDRES</td><td>M</td><td>11</td></tr><tr><td>2014</td><td>KHADIJAH</td><td>F</td><td>15</td></tr><tr><td>2015</td><td>JACOB</td><td>M</td><td>1238</td></tr><tr><td>2010</td><td>GREYSON</td><td>M</td><td>10</td></tr><tr><td>2011</td><td>CALLIE</td><td>F</td><td>24</td></tr><tr><td>2013</td><td>YAKOV</td><td>M</td><td>77</td></tr><tr><td>2015</td><td>YIDA</td><td>M</td><td>7</td></tr><tr><td>2012</td><td>IVAN</td><td>M</td><td>143</td></tr><tr><td>2014</td><td>NORAH</td><td>F</td><td>37</td></tr><tr><td>2017</td><td>ANDREA</td><td>F</td><td>41</td></tr><tr><td>2008</td><td>KHALIL</td><td>M</td><td>11</td></tr><tr><td>2010</td><td>ALICE</td><td>F</td><td>97</td></tr><tr><td>2009</td><td>SAMUEL</td><td>M</td><td>622</td></tr><tr><td>2014</td><td>STELLA</td><td>F</td><td>195</td></tr><tr><td>2009</td><td>DERRICK</td><td>M</td><td>16</td></tr><tr><td>2012</td><td>ELIYAHU</td><td>M</td><td>26</td></tr><tr><td>2009</td><td>VIVIANA</td><td>F</td><td>5</td></tr><tr><td>2016</td><td>KHLOE</td><td>F</td><td>92</td></tr><tr><td>2008</td><td>NATALIE</td><td>F</td><td>421</td></tr><tr><td>2010</td><td>MARCUS</td><td>M</td><td>134</td></tr><tr><td>2007</td><td>SHIA</td><td>M</td><td>11</td></tr><tr><td>2010</td><td>SOPHIA</td><td>F</td><td>1326</td></tr><tr><td>2014</td><td>HANNA</td><td>F</td><td>35</td></tr><tr><td>2015</td><td>BAILA</td><td>F</td><td>77</td></tr><tr><td>2012</td><td>ARIANNA</td><td>F</td><td>319</td></tr><tr><td>2013</td><td>TERRENCE</td><td>M</td><td>10</td></tr><tr><td>2017</td><td>GEMMA</td><td>F</td><td>27</td></tr><tr><td>2008</td><td>MIGUEL</td><td>M</td><td>164</td></tr><tr><td>2016</td><td>SCOTT</td><td>M</td><td>5</td></tr><tr><td>2013</td><td>LAURA</td><td>F</td><td>11</td></tr><tr><td>2007</td><td>MARY</td><td>F</td><td>69</td></tr><tr><td>2016</td><td>LIV</td><td>F</td><td>10</td></tr><tr><td>2009</td><td>MALACHI</td><td>M</td><td>96</td></tr><tr><td>2014</td><td>MACKENZIE</td><td>F</td><td>169</td></tr><tr><td>2008</td><td>TOBY</td><td>F</td><td>38</td></tr><tr><td>2008</td><td>SERENITY</td><td>F</td><td>94</td></tr><tr><td>2017</td><td>IAN</td><td>M</td><td>249</td></tr><tr><td>2012</td><td>ISAAC</td><td>M</td><td>371</td></tr><tr><td>2012</td><td>SHERRY</td><td>F</td><td>14</td></tr><tr><td>2009</td><td>JOSELYN</td><td>F</td><td>18</td></tr><tr><td>2015</td><td>ANIKA</td><td>F</td><td>11</td></tr><tr><td>2012</td><td>MARVIN</td><td>M</td><td>16</td></tr><tr><td>2014</td><td>SANIYAH</td><td>F</td><td>5</td></tr><tr><td>2016</td><td>ZOEY</td><td>F</td><td>203</td></tr><tr><td>2015</td><td>EMELY</td><td>F</td><td>90</td></tr><tr><td>2017</td><td>ALLISON</td><td>F</td><td>156</td></tr><tr><td>2009</td><td>RAYMOND</td><td>M</td><td>91</td></tr><tr><td>2008</td><td>ISABELA</td><td>F</td><td>10</td></tr><tr><td>2014</td><td>IMRAN</td><td>M</td><td>13</td></tr><tr><td>2017</td><td>ZAHRA</td><td>F</td><td>20</td></tr><tr><td>2010</td><td>ALANA</td><td>F</td><td>76</td></tr><tr><td>2012</td><td>OLIVER</td><td>M</td><td>278</td></tr><tr><td>2016</td><td>HOLDEN</td><td>M</td><td>5</td></tr><tr><td>2014</td><td>MILO</td><td>M</td><td>36</td></tr><tr><td>2015</td><td>KELSEY</td><td>F</td><td>16</td></tr><tr><td>2010</td><td>ANNABELLA</td><td>F</td><td>10</td></tr><tr><td>2012</td><td>VIVIAN</td><td>F</td><td>104</td></tr><tr><td>2016</td><td>MICAH</td><td>M</td><td>64</td></tr><tr><td>2008</td><td>KAYLA</td><td>F</td><td>544</td></tr><tr><td>2013</td><td>LAUREN</td><td>F</td><td>119</td></tr><tr><td>2017</td><td>BERL</td><td>M</td><td>8</td></tr><tr><td>2017</td><td>DANNA</td><td>F</td><td>12</td></tr><tr><td>2017</td><td>JAYCE</td><td>M</td><td>149</td></tr><tr><td>2008</td><td>DINA</td><td>F</td><td>43</td></tr><tr><td>2011</td><td>DARIEL</td><td>M</td><td>15</td></tr><tr><td>2015</td><td>SHMUEL</td><td>M</td><td>69</td></tr><tr><td>2007</td><td>HENRY</td><td>M</td><td>328</td></tr><tr><td>2011</td><td>LAWRENCE</td><td>M</td><td>20</td></tr><tr><td>2016</td><td>FRIEDA</td><td>F</td><td>12</td></tr><tr><td>2009</td><td>PESSY</td><td>F</td><td>28</td></tr><tr><td>2010</td><td>COLE</td><td>M</td><td>167</td></tr><tr><td>2009</td><td>YOCHEVED</td><td>F</td><td>21</td></tr><tr><td>2013</td><td>ESTER</td><td>F</td><td>5</td></tr><tr><td>2007</td><td>KATIE</td><td>F</td><td>97</td></tr><tr><td>2014</td><td>HECTOR</td><td>M</td><td>19</td></tr><tr><td>2017</td><td>JESUS</td><td>M</td><td>39</td></tr><tr><td>2017</td><td>FAIGY</td><td>F</td><td>102</td></tr><tr><td>2014</td><td>ZARA</td><td>F</td><td>68</td></tr><tr><td>2015</td><td>JILLIAN</td><td>F</td><td>5</td></tr><tr><td>2009</td><td>SOFIA</td><td>F</td><td>390</td></tr><tr><td>2014</td><td>BRACHA</td><td>F</td><td>25</td></tr><tr><td>2014</td><td>NEHEMIAH</td><td>M</td><td>6</td></tr><tr><td>2014</td><td>LARRY</td><td>M</td><td>5</td></tr><tr><td>2014</td><td>VIVIENNE</td><td>F</td><td>72</td></tr><tr><td>2007</td><td>SHLOMO</td><td>M</td><td>57</td></tr><tr><td>2008</td><td>MAMADOU</td><td>M</td><td>18</td></tr><tr><td>2013</td><td>ALIYAH</td><td>F</td><td>56</td></tr><tr><td>2012</td><td>SHMIEL</td><td>M</td><td>29</td></tr><tr><td>2008</td><td>YANDEL</td><td>M</td><td>12</td></tr><tr><td>2010</td><td>HONESTY</td><td>F</td><td>6</td></tr><tr><td>2013</td><td>DREW</td><td>M</td><td>10</td></tr><tr><td>2014</td><td>LEON</td><td>M</td><td>63</td></tr><tr><td>2016</td><td>MARIO</td><td>M</td><td>12</td></tr><tr><td>2014</td><td>RAYYAN</td><td>M</td><td>24</td></tr><tr><td>2016</td><td>KHADIJA</td><td>F</td><td>10</td></tr><tr><td>2014</td><td>NATHANIEL</td><td>M</td><td>250</td></tr><tr><td>2016</td><td>FRADEL</td><td>F</td><td>18</td></tr><tr><td>2014</td><td>ELKY</td><td>F</td><td>5</td></tr><tr><td>2014</td><td>KELVIN</td><td>M</td><td>15</td></tr><tr><td>2013</td><td>ALIVIA</td><td>F</td><td>11</td></tr><tr><td>2014</td><td>RIVKY</td><td>F</td><td>68</td></tr><tr><td>2009</td><td>KAELYN</td><td>F</td><td>11</td></tr><tr><td>2009</td><td>FRANCISCO</td><td>M</td><td>30</td></tr><tr><td>2016</td><td>RIFKA</td><td>F</td><td>13</td></tr><tr><td>2008</td><td>SHIRA</td><td>F</td><td>46</td></tr><tr><td>2011</td><td>YASEEN</td><td>M</td><td>10</td></tr><tr><td>2013</td><td>TZVI</td><td>M</td><td>53</td></tr><tr><td>2013</td><td>STEPHANIE</td><td>F</td><td>99</td></tr><tr><td>2007</td><td>SINCERE</td><td>M</td><td>12</td></tr><tr><td>2010</td><td>ARMANI</td><td>M</td><td>10</td></tr><tr><td>2014</td><td>BRYANNA</td><td>F</td><td>20</td></tr><tr><td>2008</td><td>OMAR</td><td>M</td><td>145</td></tr><tr><td>2017</td><td>MAXIM</td><td>M</td><td>10</td></tr><tr><td>2013</td><td>KRISTEN</td><td>F</td><td>5</td></tr><tr><td>2015</td><td>HINDA</td><td>F</td><td>28</td></tr><tr><td>2016</td><td>NICO</td><td>M</td><td>23</td></tr><tr><td>2013</td><td>JADEN</td><td>M</td><td>182</td></tr><tr><td>2010</td><td>MALKY</td><td>F</td><td>68</td></tr><tr><td>2009</td><td>ADRIANA</td><td>F</td><td>187</td></tr><tr><td>2012</td><td>EMMA</td><td>F</td><td>1165</td></tr><tr><td>2012</td><td>FANTA</td><td>F</td><td>10</td></tr><tr><td>2017</td><td>COLIN</td><td>M</td><td>66</td></tr><tr><td>2016</td><td>ELIEZER</td><td>M</td><td>49</td></tr><tr><td>2007</td><td>QUINN</td><td>M</td><td>23</td></tr><tr><td>2007</td><td>ADONIS</td><td>M</td><td>12</td></tr><tr><td>2009</td><td>JASMINE</td><td>F</td><td>196</td></tr><tr><td>2009</td><td>MICHELLE</td><td>F</td><td>256</td></tr><tr><td>2014</td><td>SANTINO</td><td>M</td><td>10</td></tr><tr><td>2008</td><td>REESE</td><td>F</td><td>44</td></tr><tr><td>2017</td><td>CARLY</td><td>F</td><td>6</td></tr><tr><td>2010</td><td>ATHENA</td><td>F</td><td>18</td></tr><tr><td>2014</td><td>SALOME</td><td>F</td><td>7</td></tr><tr><td>2011</td><td>JULIETTE</td><td>F</td><td>39</td></tr><tr><td>2009</td><td>ALBERT</td><td>M</td><td>33</td></tr><tr><td>2010</td><td>GRACE</td><td>F</td><td>414</td></tr><tr><td>2015</td><td>ANTONIA</td><td>F</td><td>6</td></tr><tr><td>2012</td><td>GIANA</td><td>F</td><td>10</td></tr><tr><td>2017</td><td>YOUSEF</td><td>M</td><td>11</td></tr><tr><td>2011</td><td>MADELINE</td><td>F</td><td>170</td></tr><tr><td>2014</td><td>CALVIN</td><td>M</td><td>44</td></tr><tr><td>2007</td><td>YOSEF</td><td>M</td><td>74</td></tr><tr><td>2017</td><td>ALICIA</td><td>F</td><td>12</td></tr><tr><td>2012</td><td>VICTORIA</td><td>F</td><td>451</td></tr><tr><td>2013</td><td>SYED</td><td>M</td><td>5</td></tr><tr><td>2008</td><td>PETER</td><td>M</td><td>184</td></tr><tr><td>2013</td><td>SASHA</td><td>F</td><td>27</td></tr><tr><td>2017</td><td>SOLOMON</td><td>M</td><td>49</td></tr><tr><td>2013</td><td>LUCAS</td><td>M</td><td>898</td></tr><tr><td>2017</td><td>JESSICA</td><td>F</td><td>45</td></tr><tr><td>2010</td><td>GENESIS</td><td>F</td><td>211</td></tr><tr><td>2017</td><td>ARLO</td><td>M</td><td>11</td></tr><tr><td>2007</td><td>DAYANA</td><td>F</td><td>12</td></tr><tr><td>2011</td><td>MORGAN</td><td>F</td><td>127</td></tr><tr><td>2011</td><td>CARTER</td><td>M</td><td>323</td></tr><tr><td>2007</td><td>MINDY</td><td>F</td><td>15</td></tr><tr><td>2011</td><td>RAIZEL</td><td>F</td><td>32</td></tr><tr><td>2014</td><td>DALIA</td><td>F</td><td>11</td></tr><tr><td>2016</td><td>TENZIN</td><td>F</td><td>19</td></tr><tr><td>2009</td><td>JACE</td><td>M</td><td>5</td></tr><tr><td>2007</td><td>ELLIE</td><td>F</td><td>47</td></tr><tr><td>2009</td><td>BRIAN</td><td>M</td><td>366</td></tr><tr><td>2012</td><td>JASIAH</td><td>M</td><td>5</td></tr><tr><td>2015</td><td>BRYCE</td><td>M</td><td>110</td></tr><tr><td>2007</td><td>LILLIANA</td><td>F</td><td>19</td></tr><tr><td>2013</td><td>LENNY</td><td>M</td><td>10</td></tr><tr><td>2012</td><td>RAIZY</td><td>F</td><td>62</td></tr><tr><td>2016</td><td>ADDISON</td><td>F</td><td>116</td></tr><tr><td>2010</td><td>JULIAN</td><td>M</td><td>334</td></tr><tr><td>2017</td><td>ISRAEL</td><td>M</td><td>62</td></tr><tr><td>2011</td><td>KENNETH</td><td>M</td><td>76</td></tr><tr><td>2013</td><td>JAIDEN</td><td>M</td><td>52</td></tr><tr><td>2011</td><td>ALONDRA</td><td>F</td><td>8</td></tr><tr><td>2014</td><td>JAYLA</td><td>F</td><td>66</td></tr><tr><td>2015</td><td>ALI</td><td>M</td><td>71</td></tr><tr><td>2010</td><td>AMY</td><td>F</td><td>167</td></tr><tr><td>2011</td><td>BRYAN</td><td>M</td><td>199</td></tr><tr><td>2015</td><td>YAEL</td><td>F</td><td>5</td></tr><tr><td>2015</td><td>MAURICE</td><td>M</td><td>11</td></tr><tr><td>2017</td><td>CHASE</td><td>M</td><td>242</td></tr><tr><td>2013</td><td>RYAN</td><td>F</td><td>8</td></tr><tr><td>2016</td><td>MARYAM</td><td>F</td><td>41</td></tr><tr><td>2017</td><td>MAYER</td><td>M</td><td>23</td></tr><tr><td>2010</td><td>MAXWELL</td><td>M</td><td>134</td></tr><tr><td>2014</td><td>MADISON</td><td>F</td><td>670</td></tr><tr><td>2008</td><td>KACPER</td><td>M</td><td>11</td></tr><tr><td>2009</td><td>MADELYNN</td><td>F</td><td>5</td></tr><tr><td>2010</td><td>YARETZI</td><td>F</td><td>11</td></tr><tr><td>2012</td><td>COLTON</td><td>M</td><td>88</td></tr><tr><td>2017</td><td>JULIANA</td><td>F</td><td>115</td></tr><tr><td>2016</td><td>JIMMY</td><td>M</td><td>6</td></tr><tr><td>2010</td><td>ELVIN</td><td>M</td><td>10</td></tr><tr><td>2007</td><td>BIANCA</td><td>F</td><td>97</td></tr><tr><td>2014</td><td>KARINA</td><td>F</td><td>22</td></tr><tr><td>2017</td><td>AVRUMY</td><td>M</td><td>7</td></tr><tr><td>2013</td><td>SHLOME</td><td>M</td><td>15</td></tr><tr><td>2016</td><td>LILA</td><td>F</td><td>82</td></tr><tr><td>2015</td><td>DANIELA</td><td>F</td><td>89</td></tr><tr><td>2014</td><td>TRISTAN</td><td>M</td><td>195</td></tr><tr><td>2015</td><td>MADELEINE</td><td>F</td><td>32</td></tr><tr><td>2013</td><td>ANISA</td><td>F</td><td>13</td></tr><tr><td>2011</td><td>COOPER</td><td>M</td><td>95</td></tr><tr><td>2014</td><td>KENDALL</td><td>F</td><td>60</td></tr><tr><td>2016</td><td>MOSHE</td><td>M</td><td>311</td></tr><tr><td>2012</td><td>SHULEM</td><td>M</td><td>49</td></tr><tr><td>2011</td><td>EVAN</td><td>M</td><td>485</td></tr><tr><td>2014</td><td>MARJORIE</td><td>F</td><td>23</td></tr><tr><td>2010</td><td>KAITLIN</td><td>F</td><td>5</td></tr><tr><td>2012</td><td>GAVRIEL</td><td>M</td><td>13</td></tr><tr><td>2014</td><td>REIZEL</td><td>F</td><td>6</td></tr><tr><td>2014</td><td>NAFTALI</td><td>M</td><td>28</td></tr><tr><td>2016</td><td>ROSE</td><td>F</td><td>92</td></tr><tr><td>2016</td><td>ARIEL</td><td>M</td><td>31</td></tr><tr><td>2016</td><td>BODHI</td><td>M</td><td>7</td></tr><tr><td>2014</td><td>PERRY</td><td>F</td><td>11</td></tr><tr><td>2012</td><td>AARON</td><td>M</td><td>472</td></tr><tr><td>2016</td><td>JARED</td><td>M</td><td>24</td></tr><tr><td>2014</td><td>THEA</td><td>F</td><td>5</td></tr><tr><td>2013</td><td>WILSON</td><td>M</td><td>16</td></tr><tr><td>2015</td><td>MASON</td><td>M</td><td>987</td></tr><tr><td>2013</td><td>ASHTON</td><td>M</td><td>79</td></tr><tr><td>2015</td><td>MARGARET</td><td>F</td><td>52</td></tr><tr><td>2017</td><td>MARIA</td><td>F</td><td>123</td></tr><tr><td>2009</td><td>MARILYN</td><td>F</td><td>13</td></tr><tr><td>2015</td><td>GABRIELLE</td><td>F</td><td>52</td></tr><tr><td>2014</td><td>KACEY</td><td>F</td><td>5</td></tr><tr><td>2015</td><td>MYLES</td><td>M</td><td>39</td></tr><tr><td>2009</td><td>BLAKE</td><td>M</td><td>124</td></tr><tr><td>2012</td><td>EZRA</td><td>M</td><td>57</td></tr><tr><td>2009</td><td>ANGIE</td><td>F</td><td>67</td></tr><tr><td>2015</td><td>LIANA</td><td>F</td><td>29</td></tr><tr><td>2016</td><td>ELENA</td><td>F</td><td>116</td></tr><tr><td>2017</td><td>ZAYDEN</td><td>M</td><td>16</td></tr><tr><td>2012</td><td>SIMA</td><td>F</td><td>18</td></tr><tr><td>2012</td><td>GRANT</td><td>M</td><td>24</td></tr><tr><td>2015</td><td>ASHLEY</td><td>F</td><td>286</td></tr><tr><td>2017</td><td>HUNTER</td><td>M</td><td>280</td></tr><tr><td>2014</td><td>JAYDA</td><td>F</td><td>11</td></tr><tr><td>2014</td><td>VALENCIA</td><td>F</td><td>5</td></tr><tr><td>2007</td><td>GENEVIEVE</td><td>F</td><td>5</td></tr><tr><td>2008</td><td>CAROLYN</td><td>F</td><td>6</td></tr><tr><td>2015</td><td>CHLOE</td><td>F</td><td>503</td></tr><tr><td>2014</td><td>ELENI</td><td>F</td><td>5</td></tr><tr><td>2017</td><td>ALEXANDER</td><td>M</td><td>774</td></tr><tr><td>2009</td><td>ALISSON</td><td>F</td><td>10</td></tr><tr><td>2014</td><td>FRANK</td><td>M</td><td>62</td></tr><tr><td>2015</td><td>MADDISON</td><td>F</td><td>5</td></tr><tr><td>2008</td><td>YIDES</td><td>F</td><td>18</td></tr><tr><td>2007</td><td>NIA</td><td>F</td><td>56</td></tr><tr><td>2009</td><td>DENNIS</td><td>M</td><td>34</td></tr><tr><td>2014</td><td>KRYSTAL</td><td>F</td><td>13</td></tr><tr><td>2014</td><td>JONAS</td><td>M</td><td>17</td></tr><tr><td>2015</td><td>BRAYAN</td><td>M</td><td>10</td></tr><tr><td>2016</td><td>ROY</td><td>M</td><td>11</td></tr><tr><td>2010</td><td>AUDREY</td><td>F</td><td>131</td></tr><tr><td>2013</td><td>BENJAMIN</td><td>M</td><td>715</td></tr><tr><td>2010</td><td>JAELYN</td><td>F</td><td>10</td></tr><tr><td>2011</td><td>BRYSON</td><td>M</td><td>12</td></tr><tr><td>2014</td><td>ADAN</td><td>M</td><td>11</td></tr><tr><td>2013</td><td>JUAN</td><td>M</td><td>86</td></tr><tr><td>2013</td><td>LUCIANA</td><td>F</td><td>6</td></tr><tr><td>2010</td><td>MALIA</td><td>F</td><td>35</td></tr><tr><td>2013</td><td>BRENDAN</td><td>M</td><td>43</td></tr><tr><td>2013</td><td>YUSUF</td><td>M</td><td>32</td></tr><tr><td>2011</td><td>SCARLETT</td><td>F</td><td>166</td></tr><tr><td>2012</td><td>NATHALY</td><td>F</td><td>6</td></tr><tr><td>2011</td><td>AMIYA</td><td>F</td><td>10</td></tr><tr><td>2009</td><td>HERSH</td><td>M</td><td>15</td></tr></tbody></table>Showing the first 1000 rows.</div>"
      ]
     },
     "metadata": {
      "application/vnd.databricks.v1+output": {
       "addedWidgets": {},
       "aggData": [],
       "aggError": "",
       "aggOverflow": false,
       "aggSchema": [],
       "aggSeriesLimitReached": false,
       "aggType": "",
       "arguments": {},
       "columnCustomDisplayInfos": {},
       "data": [
        [
         2014,
         "NIKO",
         "M",
         5
        ],
        [
         2015,
         "BASYA",
         "F",
         5
        ],
        [
         2008,
         "OMARI",
         "M",
         14
        ],
        [
         2010,
         "HUDSON",
         "M",
         35
        ],
        [
         2014,
         "ANASTASIA",
         "F",
         52
        ],
        [
         2007,
         "GEORGE",
         "M",
         168
        ],
        [
         2013,
         "MOLLY",
         "F",
         95
        ],
        [
         2013,
         "JADA",
         "F",
         43
        ],
        [
         2017,
         "FINNEGAN",
         "M",
         7
        ],
        [
         2008,
         "MOISHE",
         "M",
         17
        ],
        [
         2011,
         "ADELE",
         "F",
         20
        ],
        [
         2008,
         "YAAKOV",
         "M",
         39
        ],
        [
         2013,
         "EMILIA",
         "F",
         77
        ],
        [
         2015,
         "LORENZO",
         "M",
         126
        ],
        [
         2013,
         "LUIS",
         "M",
         163
        ],
        [
         2011,
         "ERIK",
         "M",
         33
        ],
        [
         2011,
         "ADEN",
         "M",
         40
        ],
        [
         2009,
         "JOHN",
         "M",
         792
        ],
        [
         2013,
         "AUGUST",
         "M",
         31
        ],
        [
         2014,
         "JENNY",
         "F",
         23
        ],
        [
         2012,
         "ARON",
         "M",
         89
        ],
        [
         2013,
         "PINCHUS",
         "M",
         6
        ],
        [
         2010,
         "KAITLYN",
         "F",
         152
        ],
        [
         2011,
         "AURORA",
         "F",
         14
        ],
        [
         2014,
         "JANELLE",
         "F",
         23
        ],
        [
         2013,
         "RUBY",
         "F",
         89
        ],
        [
         2017,
         "SIMCHA",
         "M",
         28
        ],
        [
         2013,
         "AYAAN",
         "M",
         41
        ],
        [
         2009,
         "BRUCHA",
         "F",
         19
        ],
        [
         2016,
         "ELYA",
         "M",
         15
        ],
        [
         2017,
         "JAYLEN",
         "M",
         16
        ],
        [
         2017,
         "DUVID",
         "M",
         18
        ],
        [
         2014,
         "AMEER",
         "M",
         7
        ],
        [
         2011,
         "GREYSON",
         "M",
         18
        ],
        [
         2007,
         "GIANLUCA",
         "M",
         9
        ],
        [
         2015,
         "AMINA",
         "F",
         76
        ],
        [
         2017,
         "JEFFERSON",
         "M",
         23
        ],
        [
         2009,
         "MOHAMMED",
         "M",
         46
        ],
        [
         2015,
         "RANDY",
         "M",
         16
        ],
        [
         2015,
         "BEN",
         "M",
         16
        ],
        [
         2017,
         "XANDER",
         "M",
         23
        ],
        [
         2011,
         "ALICE",
         "F",
         105
        ],
        [
         2014,
         "AWA",
         "F",
         5
        ],
        [
         2016,
         "MIRIAM",
         "F",
         218
        ],
        [
         2008,
         "ALYSON",
         "F",
         5
        ],
        [
         2015,
         "MORRIS",
         "M",
         18
        ],
        [
         2014,
         "LEWIS",
         "M",
         5
        ],
        [
         2009,
         "NAOMI",
         "F",
         148
        ],
        [
         2015,
         "MIREL",
         "F",
         11
        ],
        [
         2007,
         "RITA",
         "F",
         13
        ],
        [
         2007,
         "ELIANA",
         "F",
         66
        ],
        [
         2008,
         "NINA",
         "F",
         84
        ],
        [
         2008,
         "HAYDEN",
         "F",
         31
        ],
        [
         2012,
         "CHESKY",
         "M",
         15
        ],
        [
         2008,
         "TATIANA",
         "F",
         51
        ],
        [
         2011,
         "MARCUS",
         "M",
         127
        ],
        [
         2011,
         "SOPHIA",
         "F",
         1380
        ],
        [
         2013,
         "JAYLEEN",
         "F",
         33
        ],
        [
         2014,
         "JACK",
         "M",
         600
        ],
        [
         2014,
         "JUDITH",
         "F",
         5
        ],
        [
         2008,
         "ZISSY",
         "F",
         23
        ],
        [
         2016,
         "HARLEY",
         "F",
         10
        ],
        [
         2009,
         "GRIFFIN",
         "M",
         46
        ],
        [
         2015,
         "MATHIAS",
         "M",
         13
        ],
        [
         2008,
         "LUNA",
         "F",
         10
        ],
        [
         2017,
         "ELIZA",
         "F",
         50
        ],
        [
         2016,
         "SHLOMA",
         "M",
         5
        ],
        [
         2012,
         "ARIELLE",
         "F",
         37
        ],
        [
         2017,
         "QUEENIE",
         "F",
         10
        ],
        [
         2007,
         "THERESA",
         "F",
         5
        ],
        [
         2016,
         "CINDY",
         "F",
         24
        ],
        [
         2008,
         "TANNER",
         "M",
         18
        ],
        [
         2016,
         "DECLAN",
         "M",
         147
        ],
        [
         2017,
         "ISABELLE",
         "F",
         125
        ],
        [
         2007,
         "MOSES",
         "M",
         35
        ],
        [
         2011,
         "STACY",
         "F",
         10
        ],
        [
         2011,
         "ALANA",
         "F",
         55
        ],
        [
         2014,
         "EMANI",
         "F",
         5
        ],
        [
         2015,
         "KENDRICK",
         "M",
         5
        ],
        [
         2009,
         "SAMIR",
         "M",
         15
        ],
        [
         2011,
         "ANNABELLA",
         "F",
         10
        ],
        [
         2015,
         "NEIL",
         "M",
         5
        ],
        [
         2007,
         "ALLYSON",
         "F",
         11
        ],
        [
         2013,
         "DANIEL",
         "M",
         1030
        ],
        [
         2017,
         "GIANNI",
         "M",
         24
        ],
        [
         2017,
         "NICOLE",
         "F",
         119
        ],
        [
         2007,
         "GERALD",
         "M",
         5
        ],
        [
         2014,
         "YANKY",
         "M",
         6
        ],
        [
         2017,
         "GISELLE",
         "F",
         21
        ],
        [
         2012,
         "ALESSANDRO",
         "M",
         6
        ],
        [
         2017,
         "KARTER",
         "M",
         58
        ],
        [
         2007,
         "LESLEY",
         "F",
         13
        ],
        [
         2014,
         "AMALIA",
         "F",
         24
        ],
        [
         2014,
         "GIDEON",
         "M",
         7
        ],
        [
         2007,
         "MONICA",
         "F",
         10
        ],
        [
         2013,
         "KHLOE",
         "F",
         118
        ],
        [
         2015,
         "ENZO",
         "M",
         39
        ],
        [
         2010,
         "MCKENNA",
         "F",
         8
        ],
        [
         2013,
         "SYLVIA",
         "F",
         11
        ],
        [
         2010,
         "JAMIE",
         "F",
         27
        ],
        [
         2010,
         "PAOLA",
         "F",
         5
        ],
        [
         2017,
         "ANDREW",
         "M",
         423
        ],
        [
         2017,
         "AHMED",
         "M",
         63
        ],
        [
         2017,
         "EAN",
         "M",
         11
        ],
        [
         2007,
         "NAFTULI",
         "M",
         19
        ],
        [
         2008,
         "ROCCO",
         "M",
         14
        ],
        [
         2016,
         "YAKOV",
         "M",
         75
        ],
        [
         2012,
         "MAX",
         "M",
         251
        ],
        [
         2010,
         "ARIA",
         "F",
         15
        ],
        [
         2014,
         "JAIDA",
         "F",
         6
        ],
        [
         2008,
         "EDISON",
         "M",
         5
        ],
        [
         2008,
         "SAM",
         "M",
         43
        ],
        [
         2013,
         "BRITTANY",
         "F",
         23
        ],
        [
         2012,
         "CAMERON",
         "F",
         7
        ],
        [
         2012,
         "OSCAR",
         "M",
         104
        ],
        [
         2014,
         "PIPER",
         "F",
         59
        ],
        [
         2017,
         "HAILEY",
         "F",
         231
        ],
        [
         2014,
         "KAYLEIGH",
         "F",
         15
        ],
        [
         2010,
         "ALISON",
         "F",
         68
        ],
        [
         2013,
         "EFRAIM",
         "M",
         22
        ],
        [
         2007,
         "CHELSEA",
         "F",
         127
        ],
        [
         2017,
         "ETTY",
         "F",
         11
        ],
        [
         2009,
         "NYLAH",
         "F",
         31
        ],
        [
         2010,
         "HEAVEN",
         "F",
         29
        ],
        [
         2014,
         "MADDOX",
         "M",
         5
        ],
        [
         2014,
         "JULIEN",
         "M",
         7
        ],
        [
         2007,
         "ANITA",
         "F",
         11
        ],
        [
         2010,
         "MARIAMA",
         "F",
         12
        ],
        [
         2008,
         "RICHARD",
         "M",
         246
        ],
        [
         2017,
         "JAXSON",
         "M",
         148
        ],
        [
         2011,
         "JACKSON",
         "M",
         422
        ],
        [
         2017,
         "MELANY",
         "F",
         24
        ],
        [
         2009,
         "STANLEY",
         "M",
         16
        ],
        [
         2010,
         "THEO",
         "M",
         10
        ],
        [
         2016,
         "LAUREN",
         "F",
         77
        ],
        [
         2011,
         "ELIMELECH",
         "M",
         20
        ],
        [
         2012,
         "SKYLA",
         "F",
         33
        ],
        [
         2009,
         "CASSIDY",
         "F",
         33
        ],
        [
         2011,
         "MAXIMILIANO",
         "M",
         10
        ],
        [
         2008,
         "ALEX",
         "M",
         326
        ],
        [
         2017,
         "MILAN",
         "M",
         29
        ],
        [
         2011,
         "SURY",
         "F",
         26
        ],
        [
         2012,
         "PHOENIX",
         "M",
         12
        ],
        [
         2014,
         "ANABEL",
         "F",
         5
        ],
        [
         2011,
         "EASTON",
         "M",
         21
        ],
        [
         2013,
         "MICAH",
         "M",
         79
        ],
        [
         2014,
         "ARYEH",
         "M",
         33
        ],
        [
         2008,
         "JONATHAN",
         "M",
         771
        ],
        [
         2011,
         "CHARLOTTE",
         "F",
         358
        ],
        [
         2017,
         "HADLEY",
         "F",
         17
        ],
        [
         2007,
         "AHARON",
         "M",
         9
        ],
        [
         2011,
         "ROWAN",
         "M",
         8
        ],
        [
         2012,
         "MAKAI",
         "M",
         10
        ],
        [
         2007,
         "LEA",
         "F",
         20
        ],
        [
         2013,
         "ZOEY",
         "F",
         232
        ],
        [
         2009,
         "JULIANNA",
         "F",
         129
        ],
        [
         2010,
         "HERSHY",
         "M",
         35
        ],
        [
         2009,
         "ALEXANDRIA",
         "F",
         15
        ],
        [
         2013,
         "JAMAL",
         "M",
         10
        ],
        [
         2010,
         "LUKAS",
         "M",
         30
        ],
        [
         2010,
         "QUINN",
         "F",
         20
        ],
        [
         2007,
         "VIOLET",
         "F",
         33
        ],
        [
         2017,
         "DARREN",
         "M",
         17
        ],
        [
         2011,
         "CHARLIE",
         "M",
         16
        ],
        [
         2016,
         "LAURA",
         "F",
         11
        ],
        [
         2017,
         "PAISLEY",
         "F",
         28
        ],
        [
         2010,
         "NATASHA",
         "F",
         10
        ],
        [
         2009,
         "ANJALI",
         "F",
         11
        ],
        [
         2010,
         "BRADY",
         "M",
         63
        ],
        [
         2012,
         "HAYLEE",
         "F",
         5
        ],
        [
         2017,
         "HANNAH",
         "F",
         344
        ],
        [
         2011,
         "ROHAN",
         "M",
         10
        ],
        [
         2017,
         "DAMIEN",
         "M",
         12
        ],
        [
         2014,
         "LYLAH",
         "F",
         5
        ],
        [
         2007,
         "LIAM",
         "M",
         392
        ],
        [
         2009,
         "AUBREY",
         "F",
         37
        ],
        [
         2014,
         "AMADOU",
         "M",
         9
        ],
        [
         2015,
         "MARK",
         "M",
         107
        ],
        [
         2008,
         "CHRISTINE",
         "F",
         30
        ],
        [
         2013,
         "LIV",
         "F",
         12
        ],
        [
         2011,
         "KAI",
         "M",
         60
        ],
        [
         2015,
         "MILAN",
         "F",
         11
        ],
        [
         2014,
         "ANAIS",
         "F",
         10
        ],
        [
         2009,
         "LEILANI",
         "F",
         37
        ],
        [
         2011,
         "JANE",
         "F",
         27
        ],
        [
         2014,
         "LOGAN",
         "M",
         757
        ],
        [
         2007,
         "REESE",
         "F",
         19
        ],
        [
         2014,
         "CECELIA",
         "F",
         7
        ],
        [
         2016,
         "ELI",
         "M",
         295
        ],
        [
         2009,
         "CHESKEL",
         "M",
         17
        ],
        [
         2013,
         "TALIA",
         "F",
         82
        ],
        [
         2008,
         "ADONIS",
         "M",
         12
        ],
        [
         2008,
         "QUINN",
         "M",
         35
        ],
        [
         2012,
         "BATSHEVA",
         "F",
         66
        ],
        [
         2009,
         "ANGEL",
         "F",
         27
        ],
        [
         2008,
         "YOSEF",
         "M",
         74
        ],
        [
         2017,
         "CHRIS",
         "M",
         29
        ],
        [
         2013,
         "ERICA",
         "F",
         11
        ],
        [
         2015,
         "MARC",
         "M",
         23
        ],
        [
         2015,
         "LEAH",
         "F",
         586
        ],
        [
         2016,
         "MARINA",
         "F",
         10
        ],
        [
         2010,
         "MIRACLE",
         "F",
         5
        ],
        [
         2012,
         "HAWA",
         "F",
         10
        ],
        [
         2011,
         "NYLA",
         "F",
         66
        ],
        [
         2015,
         "JOSEPHINE",
         "F",
         97
        ],
        [
         2016,
         "EVERETT",
         "M",
         54
        ],
        [
         2010,
         "GABRIEL",
         "M",
         635
        ],
        [
         2011,
         "CLARE",
         "F",
         5
        ],
        [
         2017,
         "ELUZER",
         "M",
         11
        ],
        [
         2010,
         "MILEY",
         "F",
         39
        ],
        [
         2012,
         "DOVID",
         "M",
         29
        ],
        [
         2016,
         "NOELLE",
         "F",
         14
        ],
        [
         2017,
         "JORDAN",
         "M",
         238
        ],
        [
         2013,
         "MARGOT",
         "F",
         11
        ],
        [
         2009,
         "MANUEL",
         "M",
         42
        ],
        [
         2008,
         "MINDY",
         "F",
         30
        ],
        [
         2015,
         "DEVORAH",
         "F",
         40
        ],
        [
         2016,
         "EVE",
         "F",
         6
        ],
        [
         2010,
         "BARUCH",
         "M",
         21
        ],
        [
         2013,
         "JASON",
         "M",
         397
        ],
        [
         2008,
         "DAYANA",
         "F",
         26
        ],
        [
         2009,
         "KYLIE",
         "F",
         118
        ],
        [
         2013,
         "JAX",
         "M",
         10
        ],
        [
         2014,
         "DANIELLE",
         "F",
         61
        ],
        [
         2017,
         "MUSA",
         "M",
         23
        ],
        [
         2010,
         "LOLA",
         "F",
         43
        ],
        [
         2014,
         "ABIGAIL",
         "F",
         651
        ],
        [
         2010,
         "LYDIA",
         "F",
         26
        ],
        [
         2015,
         "EMMANUEL",
         "M",
         179
        ],
        [
         2007,
         "PETER",
         "M",
         222
        ],
        [
         2010,
         "SEBASTIAN",
         "M",
         403
        ],
        [
         2014,
         "EMILY",
         "F",
         810
        ],
        [
         2012,
         "JAXON",
         "M",
         65
        ],
        [
         2017,
         "CHAIM",
         "M",
         209
        ],
        [
         2007,
         "JOHANNA",
         "F",
         7
        ],
        [
         2015,
         "JORDAN",
         "F",
         16
        ],
        [
         2016,
         "IDY",
         "F",
         19
        ],
        [
         2011,
         "JAZMIN",
         "F",
         15
        ],
        [
         2012,
         "RICARDO",
         "M",
         17
        ],
        [
         2008,
         "LILLIANA",
         "F",
         12
        ],
        [
         2008,
         "ELLIE",
         "F",
         39
        ],
        [
         2017,
         "COLETTE",
         "F",
         28
        ],
        [
         2012,
         "BROOKLYN",
         "F",
         48
        ],
        [
         2017,
         "GOLDY",
         "F",
         53
        ],
        [
         2007,
         "LINA",
         "F",
         10
        ],
        [
         2011,
         "AXEL",
         "M",
         107
        ],
        [
         2014,
         "JOHAN",
         "M",
         29
        ],
        [
         2010,
         "RAFAEL",
         "M",
         85
        ],
        [
         2015,
         "YOUSSEF",
         "M",
         11
        ],
        [
         2017,
         "BRUCHY",
         "F",
         28
        ],
        [
         2008,
         "KATIE",
         "F",
         101
        ],
        [
         2014,
         "RYAN",
         "M",
         853
        ],
        [
         2015,
         "JUDAH",
         "M",
         31
        ],
        [
         2009,
         "FIONA",
         "F",
         103
        ],
        [
         2016,
         "OPHELIA",
         "F",
         5
        ],
        [
         2017,
         "JENNIFER",
         "F",
         48
        ],
        [
         2011,
         "SADIE",
         "F",
         70
        ],
        [
         2016,
         "NORA",
         "F",
         201
        ],
        [
         2017,
         "SPENCER",
         "M",
         28
        ],
        [
         2013,
         "CONNOR",
         "M",
         327
        ],
        [
         2017,
         "ARIELLA",
         "F",
         84
        ],
        [
         2007,
         "YANDEL",
         "M",
         13
        ],
        [
         2013,
         "MENDY",
         "M",
         23
        ],
        [
         2014,
         "EZEQUIEL",
         "M",
         5
        ],
        [
         2017,
         "JUSTICE",
         "M",
         16
        ],
        [
         2007,
         "MAMADOU",
         "M",
         27
        ],
        [
         2008,
         "SHLOMO",
         "M",
         55
        ],
        [
         2014,
         "MIKE",
         "M",
         16
        ],
        [
         2010,
         "MIKAELA",
         "F",
         14
        ],
        [
         2010,
         "NATHALIE",
         "F",
         19
        ],
        [
         2011,
         "KADEN",
         "M",
         53
        ],
        [
         2011,
         "SELENA",
         "F",
         15
        ],
        [
         2016,
         "ADAM",
         "M",
         347
        ],
        [
         2007,
         "SHIRA",
         "F",
         32
        ],
        [
         2009,
         "MENDEL",
         "M",
         56
        ],
        [
         2012,
         "SUMMER",
         "F",
         53
        ],
        [
         2013,
         "ADRIANNA",
         "F",
         87
        ],
        [
         2015,
         "KAILEY",
         "F",
         6
        ],
        [
         2009,
         "ARTHUR",
         "M",
         13
        ],
        [
         2013,
         "KALEB",
         "M",
         24
        ],
        [
         2017,
         "DAHLIA",
         "F",
         5
        ],
        [
         2017,
         "MICHAL",
         "F",
         5
        ],
        [
         2013,
         "MARCOS",
         "M",
         7
        ],
        [
         2014,
         "HAZEL",
         "F",
         68
        ],
        [
         2016,
         "KYLA",
         "F",
         7
        ],
        [
         2014,
         "ANABELLE",
         "F",
         20
        ],
        [
         2010,
         "TAYLOR",
         "F",
         216
        ],
        [
         2014,
         "EGYPT",
         "F",
         11
        ],
        [
         2012,
         "GABRIELLA",
         "F",
         485
        ],
        [
         2012,
         "GITTY",
         "F",
         93
        ],
        [
         2007,
         "OMAR",
         "M",
         162
        ],
        [
         2009,
         "HARPER",
         "F",
         23
        ],
        [
         2015,
         "MATHEW",
         "M",
         26
        ],
        [
         2015,
         "MILES",
         "M",
         146
        ],
        [
         2008,
         "SINCERE",
         "M",
         11
        ],
        [
         2015,
         "WARREN",
         "M",
         5
        ],
        [
         2008,
         "FREDERICK",
         "M",
         16
        ],
        [
         2010,
         "EDWIN",
         "M",
         107
        ],
        [
         2011,
         "ADINA",
         "F",
         28
        ],
        [
         2007,
         "YIDES",
         "F",
         21
        ],
        [
         2009,
         "ANGELICA",
         "F",
         48
        ],
        [
         2008,
         "JAKUB",
         "M",
         26
        ],
        [
         2010,
         "MEGAN",
         "F",
         86
        ],
        [
         2015,
         "PEARL",
         "F",
         23
        ],
        [
         2010,
         "JAZLYN",
         "F",
         12
        ],
        [
         2009,
         "BRYANT",
         "M",
         32
        ],
        [
         2008,
         "GENEVIEVE",
         "F",
         13
        ],
        [
         2012,
         "LAILA",
         "F",
         139
        ],
        [
         2014,
         "NELSON",
         "M",
         30
        ],
        [
         2011,
         "LILIANNA",
         "F",
         8
        ],
        [
         2012,
         "LINDA",
         "F",
         15
        ],
        [
         2010,
         "LILLY",
         "F",
         40
        ],
        [
         2010,
         "MIKAYLA",
         "F",
         69
        ],
        [
         2014,
         "LIA",
         "F",
         72
        ],
        [
         2014,
         "PHILIP",
         "M",
         41
        ],
        [
         2014,
         "KENZIE",
         "F",
         6
        ],
        [
         2013,
         "CARLOS",
         "M",
         139
        ],
        [
         2016,
         "KYSON",
         "M",
         18
        ],
        [
         2015,
         "YEHUDAH",
         "M",
         5
        ],
        [
         2015,
         "LIBBY",
         "F",
         20
        ],
        [
         2015,
         "AUTUMN",
         "F",
         126
        ],
        [
         2008,
         "NIA",
         "F",
         33
        ],
        [
         2012,
         "ANABELLA",
         "F",
         5
        ],
        [
         2015,
         "SABRINA",
         "F",
         63
        ],
        [
         2009,
         "SIENA",
         "F",
         15
        ],
        [
         2010,
         "YECHIEL",
         "M",
         33
        ],
        [
         2014,
         "CLARK",
         "M",
         5
        ],
        [
         2016,
         "ROMAN",
         "M",
         107
        ],
        [
         2011,
         "MELINA",
         "F",
         17
        ],
        [
         2014,
         "KATHERINE",
         "F",
         169
        ],
        [
         2009,
         "ARI",
         "M",
         40
        ],
        [
         2009,
         "FATOUMATA",
         "F",
         43
        ],
        [
         2013,
         "KAREN",
         "F",
         43
        ],
        [
         2017,
         "EVA",
         "F",
         180
        ],
        [
         2014,
         "ALPHA",
         "M",
         12
        ],
        [
         2015,
         "DESMOND",
         "M",
         5
        ],
        [
         2009,
         "CAMDEN",
         "M",
         11
        ],
        [
         2014,
         "KEEGAN",
         "M",
         15
        ],
        [
         2009,
         "COREY",
         "M",
         21
        ],
        [
         2010,
         "HAYDEN",
         "M",
         55
        ],
        [
         2017,
         "HANA",
         "F",
         25
        ],
        [
         2016,
         "SAVANNAH",
         "F",
         260
        ],
        [
         2009,
         "LILIANA",
         "F",
         64
        ],
        [
         2007,
         "KACPER",
         "M",
         10
        ],
        [
         2013,
         "LEONARDO",
         "M",
         137
        ],
        [
         2012,
         "ANTONELLA",
         "F",
         5
        ],
        [
         2016,
         "ANYA",
         "F",
         5
        ],
        [
         2014,
         "SAAD",
         "M",
         7
        ],
        [
         2014,
         "GIA",
         "F",
         79
        ],
        [
         2010,
         "GARRETT",
         "M",
         5
        ],
        [
         2010,
         "VINCENT",
         "M",
         278
        ],
        [
         2010,
         "ZLATY",
         "F",
         11
        ],
        [
         2014,
         "AIDEL",
         "F",
         6
        ],
        [
         2011,
         "CONNER",
         "M",
         10
        ],
        [
         2011,
         "TZIVIA",
         "F",
         14
        ],
        [
         2016,
         "NATHAN",
         "M",
         390
        ],
        [
         2017,
         "SAWYER",
         "M",
         27
        ],
        [
         2016,
         "WILLA",
         "F",
         25
        ],
        [
         2014,
         "PRIYA",
         "F",
         5
        ],
        [
         2011,
         "KIARA",
         "F",
         62
        ],
        [
         2008,
         "BIANCA",
         "F",
         68
        ],
        [
         2010,
         "MCKENZIE",
         "F",
         8
        ],
        [
         2014,
         "KEITH",
         "M",
         11
        ],
        [
         2012,
         "CADEN",
         "M",
         27
        ],
        [
         2017,
         "JORDYN",
         "F",
         23
        ],
        [
         2012,
         "MYA",
         "F",
         112
        ],
        [
         2010,
         "RUTH",
         "F",
         25
        ],
        [
         2008,
         "SONIA",
         "F",
         23
        ],
        [
         2016,
         "AHRON",
         "M",
         17
        ],
        [
         2011,
         "NICOLAS",
         "M",
         138
        ],
        [
         2012,
         "DYLAN",
         "F",
         18
        ],
        [
         2015,
         "PRESTON",
         "M",
         71
        ],
        [
         2016,
         "SHEA",
         "F",
         15
        ],
        [
         2015,
         "JOYCE",
         "F",
         13
        ],
        [
         2014,
         "HENCHY",
         "F",
         15
        ],
        [
         2009,
         "SANAA",
         "F",
         11
        ],
        [
         2011,
         "ZAHARA",
         "F",
         10
        ],
        [
         2007,
         "KAIA",
         "F",
         7
        ],
        [
         2016,
         "LEO",
         "M",
         338
        ],
        [
         2007,
         "SHOLOM",
         "M",
         10
        ],
        [
         2011,
         "JEFFREY",
         "M",
         80
        ],
        [
         2010,
         "JULIA",
         "F",
         402
        ],
        [
         2011,
         "EMERSON",
         "F",
         11
        ],
        [
         2017,
         "SHAYA",
         "M",
         41
        ],
        [
         2014,
         "PEDRO",
         "M",
         15
        ],
        [
         2015,
         "ROBERT",
         "M",
         279
        ],
        [
         2010,
         "RYLEE",
         "F",
         25
        ],
        [
         2016,
         "ADRIAN",
         "M",
         325
        ],
        [
         2011,
         "LILLY",
         "F",
         37
        ],
        [
         2012,
         "ALAN",
         "M",
         95
        ],
        [
         2013,
         "IDY",
         "F",
         11
        ],
        [
         2010,
         "TONY",
         "M",
         15
        ],
        [
         2009,
         "CAMILA",
         "F",
         150
        ],
        [
         2011,
         "MIKAYLA",
         "F",
         85
        ],
        [
         2017,
         "CASEY",
         "F",
         6
        ],
        [
         2011,
         "MEGAN",
         "F",
         61
        ],
        [
         2016,
         "LITZY",
         "F",
         12
        ],
        [
         2010,
         "LILIANNA",
         "F",
         5
        ],
        [
         2012,
         "ADRIEL",
         "M",
         14
        ],
        [
         2015,
         "LENA",
         "F",
         43
        ],
        [
         2016,
         "JASON",
         "M",
         296
        ],
        [
         2007,
         "EDWARD",
         "M",
         180
        ],
        [
         2008,
         "FAIGA",
         "F",
         18
        ],
        [
         2014,
         "INAAYA",
         "F",
         5
        ],
        [
         2016,
         "JAX",
         "M",
         46
        ],
        [
         2017,
         "BRODY",
         "M",
         34
        ],
        [
         2014,
         "AMARIS",
         "F",
         5
        ],
        [
         2012,
         "AILEEN",
         "F",
         17
        ],
        [
         2013,
         "EVE",
         "F",
         10
        ],
        [
         2013,
         "MUSHKA",
         "F",
         11
        ],
        [
         2015,
         "PRISCILLA",
         "F",
         11
        ],
        [
         2009,
         "JOSIAH",
         "M",
         245
        ],
        [
         2007,
         "ANDERSON",
         "M",
         43
        ],
        [
         2010,
         "MELINA",
         "F",
         14
        ],
        [
         2012,
         "ARYA",
         "F",
         5
        ],
        [
         2013,
         "EVERETT",
         "M",
         39
        ],
        [
         2017,
         "YOEL",
         "M",
         24
        ],
        [
         2012,
         "GIANNA",
         "F",
         378
        ],
        [
         2008,
         "CRISTIAN",
         "M",
         115
        ],
        [
         2014,
         "YASIN",
         "M",
         5
        ],
        [
         2017,
         "PARIS",
         "F",
         35
        ],
        [
         2013,
         "NOELLE",
         "F",
         29
        ],
        [
         2016,
         "MARGOT",
         "F",
         6
        ],
        [
         2011,
         "YECHIEL",
         "M",
         34
        ],
        [
         2014,
         "NICHOLAS",
         "M",
         670
        ],
        [
         2011,
         "HAYDEN",
         "M",
         48
        ],
        [
         2017,
         "NICOLETTE",
         "F",
         5
        ],
        [
         2014,
         "LILLIAN",
         "F",
         221
        ],
        [
         2007,
         "LUKE",
         "M",
         375
        ],
        [
         2008,
         "ZAIRE",
         "M",
         21
        ],
        [
         2007,
         "ANA",
         "F",
         69
        ],
        [
         2013,
         "ELI",
         "M",
         308
        ],
        [
         2016,
         "TALIA",
         "F",
         85
        ],
        [
         2014,
         "USHER",
         "M",
         25
        ],
        [
         2007,
         "JULIET",
         "F",
         19
        ],
        [
         2012,
         "NIKOLAS",
         "M",
         5
        ],
        [
         2017,
         "VIENNA",
         "F",
         11
        ],
        [
         2012,
         "APRIL",
         "F",
         11
        ],
        [
         2009,
         "MARQUIS",
         "M",
         10
        ],
        [
         2013,
         "KYLA",
         "F",
         7
        ],
        [
         2011,
         "VINCENT",
         "M",
         292
        ],
        [
         2015,
         "HERSHEL",
         "M",
         31
        ],
        [
         2011,
         "ERIKA",
         "F",
         29
        ],
        [
         2007,
         "XAVIER",
         "M",
         341
        ],
        [
         2008,
         "BENNY",
         "M",
         13
        ],
        [
         2017,
         "KEVIN",
         "M",
         261
        ],
        [
         2012,
         "JUSTIN",
         "M",
         715
        ],
        [
         2014,
         "HEATHER",
         "F",
         10
        ],
        [
         2008,
         "DAMIAN",
         "M",
         86
        ],
        [
         2010,
         "KIARA",
         "F",
         49
        ],
        [
         2013,
         "ADAM",
         "M",
         362
        ],
        [
         2012,
         "CHANA",
         "F",
         189
        ],
        [
         2014,
         "ARIEL",
         "F",
         101
        ],
        [
         2011,
         "MCKENZIE",
         "F",
         41
        ],
        [
         2015,
         "LEVI",
         "M",
         190
        ],
        [
         2014,
         "DEREK",
         "M",
         143
        ],
        [
         2016,
         "MARCOS",
         "M",
         5
        ],
        [
         2007,
         "SHOSHANA",
         "F",
         19
        ],
        [
         2017,
         "BENTLEY",
         "M",
         32
        ],
        [
         2009,
         "ANIYA",
         "F",
         30
        ],
        [
         2010,
         "TZIVIA",
         "F",
         18
        ],
        [
         2016,
         "ADRIANNA",
         "F",
         42
        ],
        [
         2010,
         "CONNER",
         "M",
         5
        ],
        [
         2016,
         "KALEB",
         "M",
         43
        ],
        [
         2013,
         "NORA",
         "F",
         143
        ],
        [
         2011,
         "RUTH",
         "F",
         17
        ],
        [
         2009,
         "EZRIEL",
         "M",
         5
        ],
        [
         2015,
         "ABRAHAM",
         "M",
         244
        ],
        [
         2014,
         "MILA",
         "F",
         197
        ],
        [
         2016,
         "CONNOR",
         "M",
         319
        ],
        [
         2015,
         "ELISA",
         "F",
         16
        ],
        [
         2017,
         "RACHEL",
         "F",
         260
        ],
        [
         2016,
         "MENDY",
         "M",
         29
        ],
        [
         2010,
         "EMERSON",
         "F",
         13
        ],
        [
         2011,
         "JULIA",
         "F",
         351
        ],
        [
         2010,
         "JEFFREY",
         "M",
         92
        ],
        [
         2014,
         "KARLA",
         "F",
         14
        ],
        [
         2009,
         "PHOEBE",
         "F",
         39
        ],
        [
         2011,
         "RYLEE",
         "F",
         16
        ],
        [
         2015,
         "GWENDOLYN",
         "F",
         5
        ],
        [
         2015,
         "ALVIN",
         "M",
         44
        ],
        [
         2010,
         "NICOLAS",
         "M",
         142
        ],
        [
         2015,
         "THEODORE",
         "M",
         255
        ],
        [
         2008,
         "JESSE",
         "M",
         71
        ],
        [
         2015,
         "ELLE",
         "F",
         24
        ],
        [
         2009,
         "ELSA",
         "F",
         10
        ],
        [
         2014,
         "ELISE",
         "F",
         37
        ],
        [
         2016,
         "KAREN",
         "F",
         29
        ],
        [
         2008,
         "TERRELL",
         "M",
         13
        ],
        [
         2009,
         "MATTHEW",
         "M",
         1367
        ],
        [
         2013,
         "SAVANNAH",
         "F",
         205
        ],
        [
         2014,
         "LIYANA",
         "F",
         5
        ],
        [
         2015,
         "LIPA",
         "M",
         34
        ],
        [
         2008,
         "MAXIMILIAN",
         "M",
         20
        ],
        [
         2010,
         "JANE",
         "F",
         11
        ],
        [
         2007,
         "ANNE",
         "F",
         5
        ],
        [
         2008,
         "ELLIANA",
         "F",
         5
        ],
        [
         2012,
         "ALEXIS",
         "M",
         70
        ],
        [
         2012,
         "SHIRLEY",
         "F",
         24
        ],
        [
         2011,
         "ELAINA",
         "F",
         6
        ],
        [
         2017,
         "VANESSA",
         "F",
         30
        ],
        [
         2009,
         "AMARA",
         "F",
         5
        ],
        [
         2011,
         "GABRIEL",
         "M",
         612
        ],
        [
         2013,
         "ROMAN",
         "M",
         65
        ],
        [
         2011,
         "MILEY",
         "F",
         17
        ],
        [
         2014,
         "TENZIN",
         "M",
         39
        ],
        [
         2007,
         "MARCO",
         "M",
         73
        ],
        [
         2010,
         "NYLA",
         "F",
         63
        ],
        [
         2011,
         "MIRACLE",
         "F",
         10
        ],
        [
         2009,
         "ZALMEN",
         "M",
         10
        ],
        [
         2011,
         "LOLA",
         "F",
         43
        ],
        [
         2011,
         "LYDIA",
         "F",
         27
        ],
        [
         2014,
         "ADIEL",
         "M",
         5
        ],
        [
         2008,
         "TY",
         "M",
         5
        ],
        [
         2009,
         "SAMANTHA",
         "F",
         582
        ],
        [
         2014,
         "AISSATOU",
         "F",
         7
        ],
        [
         2015,
         "LEV",
         "M",
         10
        ],
        [
         2011,
         "SEBASTIAN",
         "M",
         418
        ],
        [
         2012,
         "MARISA",
         "F",
         6
        ],
        [
         2016,
         "CARLOS",
         "M",
         128
        ],
        [
         2007,
         "JEAN",
         "M",
         23
        ],
        [
         2014,
         "GOLDA",
         "F",
         19
        ],
        [
         2009,
         "VICTOR",
         "M",
         144
        ],
        [
         2009,
         "MALIK",
         "M",
         55
        ],
        [
         2012,
         "LUCA",
         "M",
         150
        ],
        [
         2012,
         "SIENNA",
         "F",
         92
        ],
        [
         2011,
         "ELLIANNA",
         "F",
         5
        ],
        [
         2015,
         "FLETCHER",
         "M",
         5
        ],
        [
         2009,
         "REAGAN",
         "F",
         7
        ],
        [
         2010,
         "MILTON",
         "M",
         5
        ],
        [
         2014,
         "EDGAR",
         "M",
         19
        ],
        [
         2007,
         "SHAMAR",
         "M",
         10
        ],
        [
         2011,
         "BARUCH",
         "M",
         23
        ],
        [
         2011,
         "JANAE",
         "F",
         10
        ],
        [
         2014,
         "JAGGER",
         "M",
         8
        ],
        [
         2010,
         "JAZMIN",
         "F",
         23
        ],
        [
         2016,
         "ABDIEL",
         "M",
         10
        ],
        [
         2017,
         "KAREEM",
         "M",
         10
        ],
        [
         2014,
         "ALISHA",
         "F",
         30
        ],
        [
         2012,
         "SOPHIE",
         "F",
         246
        ],
        [
         2013,
         "ABDOULAYE",
         "M",
         12
        ],
        [
         2007,
         "YASMIN",
         "F",
         21
        ],
        [
         2011,
         "RAFAEL",
         "M",
         83
        ],
        [
         2013,
         "LEO",
         "M",
         218
        ],
        [
         2012,
         "KATE",
         "F",
         74
        ],
        [
         2013,
         "ADRIAN",
         "M",
         324
        ],
        [
         2010,
         "AXEL",
         "M",
         38
        ],
        [
         2012,
         "MOHAMMAD",
         "M",
         60
        ],
        [
         2014,
         "KENDRA",
         "F",
         21
        ],
        [
         2017,
         "GREGORY",
         "M",
         17
        ],
        [
         2008,
         "TREVOR",
         "M",
         51
        ],
        [
         2010,
         "NAHLA",
         "F",
         11
        ],
        [
         2012,
         "TROY",
         "M",
         6
        ],
        [
         2014,
         "FELICIA",
         "F",
         5
        ],
        [
         2017,
         "RUCHEL",
         "F",
         14
        ],
        [
         2009,
         "IRIS",
         "F",
         38
        ],
        [
         2012,
         "NOA",
         "F",
         29
        ],
        [
         2014,
         "MAE",
         "F",
         5
        ],
        [
         2009,
         "CHANY",
         "F",
         27
        ],
        [
         2014,
         "MELVIN",
         "M",
         10
        ],
        [
         2011,
         "HADASSA",
         "F",
         10
        ],
        [
         2014,
         "ELIANNA",
         "F",
         5
        ],
        [
         2008,
         "DANNY",
         "M",
         63
        ],
        [
         2010,
         "SADIE",
         "F",
         68
        ],
        [
         2014,
         "TRANY",
         "F",
         12
        ],
        [
         2014,
         "MD",
         "M",
         6
        ],
        [
         2008,
         "MEIR",
         "M",
         46
        ],
        [
         2013,
         "NATHAN",
         "M",
         449
        ],
        [
         2012,
         "MIRANDA",
         "F",
         22
        ],
        [
         2008,
         "CAITLIN",
         "F",
         67
        ],
        [
         2011,
         "NATHALIE",
         "F",
         11
        ],
        [
         2014,
         "CODY",
         "M",
         22
        ],
        [
         2010,
         "SELENA",
         "F",
         34
        ],
        [
         2010,
         "KADEN",
         "M",
         27
        ],
        [
         2009,
         "MUHAMMAD",
         "M",
         62
        ],
        [
         2011,
         "MIKAELA",
         "F",
         19
        ],
        [
         2014,
         "ESHAAL",
         "F",
         7
        ],
        [
         2007,
         "BAILEY",
         "F",
         19
        ],
        [
         2013,
         "ANYA",
         "F",
         10
        ],
        [
         2015,
         "SAMARA",
         "F",
         10
        ],
        [
         2014,
         "THOMAS",
         "M",
         435
        ],
        [
         2010,
         "ADINA",
         "F",
         10
        ],
        [
         2011,
         "EDWIN",
         "M",
         116
        ],
        [
         2014,
         "WYATT",
         "M",
         154
        ],
        [
         2016,
         "LEONARDO",
         "M",
         187
        ],
        [
         2007,
         "AIDEN",
         "M",
         616
        ],
        [
         2011,
         "TAYLOR",
         "F",
         213
        ],
        [
         2007,
         "LANDON",
         "M",
         91
        ],
        [
         2017,
         "LARA",
         "F",
         10
        ],
        [
         2015,
         "JOANNA",
         "F",
         47
        ],
        [
         2011,
         "JANNAT",
         "F",
         13
        ],
        [
         2017,
         "JOY",
         "F",
         31
        ],
        [
         2015,
         "NATHANAEL",
         "M",
         10
        ],
        [
         2017,
         "CYNTHIA",
         "F",
         11
        ],
        [
         2013,
         "MIRIAM",
         "F",
         197
        ],
        [
         2014,
         "IBRAHIMA",
         "M",
         8
        ],
        [
         2014,
         "YONAH",
         "M",
         8
        ],
        [
         2008,
         "SELINA",
         "F",
         12
        ],
        [
         2012,
         "GRAHAM",
         "M",
         20
        ],
        [
         2011,
         "JAMIE",
         "F",
         23
        ],
        [
         2013,
         "JULISSA",
         "F",
         7
        ],
        [
         2011,
         "PAOLA",
         "F",
         10
        ],
        [
         2007,
         "CAMILO",
         "M",
         6
        ],
        [
         2008,
         "KIMBERLY",
         "F",
         216
        ],
        [
         2009,
         "CHAYA",
         "F",
         201
        ],
        [
         2012,
         "SANTIAGO",
         "M",
         58
        ],
        [
         2017,
         "ELIAS",
         "M",
         232
        ],
        [
         2008,
         "ANNABEL",
         "F",
         10
        ],
        [
         2014,
         "MENASHE",
         "M",
         19
        ],
        [
         2017,
         "MESSIAH",
         "M",
         63
        ],
        [
         2007,
         "TIMOTHY",
         "M",
         171
        ],
        [
         2008,
         "OWEN",
         "M",
         330
        ],
        [
         2012,
         "NOEL",
         "M",
         26
        ],
        [
         2011,
         "MCKENNA",
         "F",
         6
        ],
        [
         2015,
         "PAYTON",
         "F",
         21
        ],
        [
         2016,
         "PINCHUS",
         "M",
         18
        ],
        [
         2012,
         "KAMILA",
         "F",
         9
        ],
        [
         2017,
         "DARWIN",
         "M",
         7
        ],
        [
         2017,
         "ARJUN",
         "M",
         15
        ],
        [
         2011,
         "ALISON",
         "F",
         67
        ],
        [
         2007,
         "ABBY",
         "F",
         16
        ],
        [
         2007,
         "CESAR",
         "M",
         45
        ],
        [
         2011,
         "ARIA",
         "F",
         54
        ],
        [
         2007,
         "BROOKE",
         "F",
         212
        ],
        [
         2016,
         "RUBY",
         "F",
         114
        ],
        [
         2012,
         "ISREAL",
         "M",
         5
        ],
        [
         2014,
         "SAMEER",
         "M",
         6
        ],
        [
         2016,
         "AYAAN",
         "M",
         25
        ],
        [
         2016,
         "MOLLY",
         "F",
         66
        ],
        [
         2017,
         "TRAVIS",
         "M",
         17
        ],
        [
         2008,
         "CATHERINE",
         "F",
         119
        ],
        [
         2011,
         "MARIAMA",
         "F",
         10
        ],
        [
         2016,
         "EMILIA",
         "F",
         182
        ],
        [
         2017,
         "OLIVE",
         "F",
         11
        ],
        [
         2014,
         "SHARON",
         "F",
         21
        ],
        [
         2016,
         "AUGUST",
         "M",
         65
        ],
        [
         2011,
         "HEAVEN",
         "F",
         37
        ],
        [
         2016,
         "LUIS",
         "M",
         131
        ],
        [
         2012,
         "BLAKE",
         "F",
         6
        ],
        [
         2009,
         "AMIRA",
         "F",
         27
        ],
        [
         2007,
         "SANIYA",
         "F",
         18
        ],
        [
         2012,
         "REID",
         "M",
         5
        ],
        [
         2010,
         "ELIMELECH",
         "M",
         19
        ],
        [
         2012,
         "ELLA",
         "F",
         515
        ],
        [
         2008,
         "MEGHAN",
         "F",
         36
        ],
        [
         2010,
         "JACKSON",
         "M",
         364
        ],
        [
         2017,
         "SEAN",
         "M",
         83
        ],
        [
         2017,
         "ISMAIL",
         "M",
         12
        ],
        [
         2008,
         "JADIEL",
         "M",
         12
        ],
        [
         2009,
         "DEVIN",
         "M",
         175
        ],
        [
         2016,
         "FISHEL",
         "M",
         10
        ],
        [
         2009,
         "MATTEO",
         "M",
         60
        ],
        [
         2014,
         "BRENNAN",
         "M",
         24
        ],
        [
         2014,
         "ALEENA",
         "F",
         27
        ],
        [
         2016,
         "AIZAH",
         "F",
         13
        ],
        [
         2010,
         "EASTON",
         "M",
         9
        ],
        [
         2014,
         "RENEE",
         "F",
         11
        ],
        [
         2015,
         "JACKY",
         "M",
         10
        ],
        [
         2014,
         "AMELIE",
         "F",
         18
        ],
        [
         2016,
         "DANIEL",
         "M",
         892
        ],
        [
         2008,
         "BRAYDEN",
         "M",
         145
        ],
        [
         2015,
         "JAKE",
         "M",
         182
        ],
        [
         2010,
         "CHARLOTTE",
         "F",
         312
        ],
        [
         2007,
         "JOEL",
         "M",
         240
        ],
        [
         2009,
         "YITTY",
         "F",
         27
        ],
        [
         2012,
         "GITTEL",
         "F",
         18
        ],
        [
         2008,
         "RAQUEL",
         "F",
         6
        ],
        [
         2008,
         "MORDECHAI",
         "M",
         76
        ],
        [
         2010,
         "SURY",
         "F",
         18
        ],
        [
         2014,
         "ARIANA",
         "F",
         345
        ],
        [
         2007,
         "AMARI",
         "M",
         19
        ],
        [
         2015,
         "FRAIDY",
         "F",
         37
        ],
        [
         2014,
         "FRIDA",
         "F",
         5
        ],
        [
         2011,
         "HERSHY",
         "M",
         33
        ],
        [
         2011,
         "LUKAS",
         "M",
         35
        ],
        [
         2015,
         "LINCOLN",
         "M",
         91
        ],
        [
         2010,
         "ROWAN",
         "M",
         12
        ],
        [
         2013,
         "CINDY",
         "F",
         21
        ],
        [
         2013,
         "DECLAN",
         "M",
         141
        ],
        [
         2014,
         "MARIAM",
         "F",
         74
        ],
        [
         2007,
         "ZACHARY",
         "M",
         426
        ],
        [
         2012,
         "ANNABELLE",
         "F",
         65
        ],
        [
         2007,
         "SKYLER",
         "F",
         5
        ],
        [
         2007,
         "HOPE",
         "F",
         15
        ],
        [
         2010,
         "KAI",
         "M",
         68
        ],
        [
         2014,
         "ELIZABETH",
         "F",
         372
        ],
        [
         2007,
         "JESSIE",
         "F",
         10
        ],
        [
         2009,
         "MCKAYLA",
         "F",
         6
        ],
        [
         2014,
         "CARMEN",
         "F",
         24
        ],
        [
         2010,
         "CHARLIE",
         "M",
         43
        ],
        [
         2012,
         "LAYLA",
         "F",
         247
        ],
        [
         2011,
         "QUINN",
         "F",
         22
        ],
        [
         2011,
         "BRADY",
         "M",
         74
        ],
        [
         2014,
         "JOSHUA",
         "M",
         623
        ],
        [
         2017,
         "PEYTON",
         "F",
         119
        ],
        [
         2017,
         "EMERY",
         "F",
         13
        ],
        [
         2011,
         "NATASHA",
         "F",
         5
        ],
        [
         2010,
         "ADEN",
         "M",
         12
        ],
        [
         2015,
         "GABRIELA",
         "F",
         74
        ],
        [
         2010,
         "ERIK",
         "M",
         29
        ],
        [
         2016,
         "EFRAIM",
         "M",
         16
        ],
        [
         2014,
         "NOAM",
         "M",
         20
        ],
        [
         2011,
         "HUDSON",
         "M",
         97
        ],
        [
         2009,
         "MADELYN",
         "F",
         167
        ],
        [
         2008,
         "NEVAEH",
         "F",
         184
        ],
        [
         2009,
         "BRIELLE",
         "F",
         40
        ],
        [
         2008,
         "EMERSON",
         "M",
         15
        ],
        [
         2013,
         "WOLF",
         "M",
         9
        ],
        [
         2017,
         "ELIJAH",
         "M",
         393
        ],
        [
         2007,
         "MAKENZIE",
         "F",
         5
        ],
        [
         2008,
         "CASSANDRA",
         "F",
         14
        ],
        [
         2012,
         "ALESSANDRA",
         "F",
         38
        ],
        [
         2012,
         "NATALIA",
         "F",
         100
        ],
        [
         2014,
         "JUNIPER",
         "F",
         10
        ],
        [
         2012,
         "ANGELA",
         "F",
         90
        ],
        [
         2015,
         "EMAAN",
         "F",
         5
        ],
        [
         2017,
         "ZOE",
         "F",
         306
        ],
        [
         2010,
         "AURORA",
         "F",
         15
        ],
        [
         2016,
         "BRITTANY",
         "F",
         26
        ],
        [
         2015,
         "DAISY",
         "F",
         18
        ],
        [
         2009,
         "NECHAMA",
         "F",
         29
        ],
        [
         2011,
         "KAITLYN",
         "F",
         157
        ],
        [
         2014,
         "ANSON",
         "M",
         18
        ],
        [
         2014,
         "TOMAS",
         "M",
         10
        ],
        [
         2011,
         "MILANIA",
         "F",
         15
        ],
        [
         2012,
         "ADA",
         "F",
         11
        ],
        [
         2009,
         "DANA",
         "F",
         9
        ],
        [
         2007,
         "MARIAH",
         "F",
         71
        ],
        [
         2007,
         "AVA",
         "F",
         1043
        ],
        [
         2016,
         "SYLVIA",
         "F",
         10
        ],
        [
         2017,
         "BREINDY",
         "F",
         15
        ],
        [
         2008,
         "JERMAINE",
         "M",
         20
        ],
        [
         2009,
         "ERIN",
         "F",
         87
        ],
        [
         2017,
         "ANDRES",
         "M",
         11
        ],
        [
         2014,
         "KHADIJAH",
         "F",
         15
        ],
        [
         2015,
         "JACOB",
         "M",
         1238
        ],
        [
         2010,
         "GREYSON",
         "M",
         10
        ],
        [
         2011,
         "CALLIE",
         "F",
         24
        ],
        [
         2013,
         "YAKOV",
         "M",
         77
        ],
        [
         2015,
         "YIDA",
         "M",
         7
        ],
        [
         2012,
         "IVAN",
         "M",
         143
        ],
        [
         2014,
         "NORAH",
         "F",
         37
        ],
        [
         2017,
         "ANDREA",
         "F",
         41
        ],
        [
         2008,
         "KHALIL",
         "M",
         11
        ],
        [
         2010,
         "ALICE",
         "F",
         97
        ],
        [
         2009,
         "SAMUEL",
         "M",
         622
        ],
        [
         2014,
         "STELLA",
         "F",
         195
        ],
        [
         2009,
         "DERRICK",
         "M",
         16
        ],
        [
         2012,
         "ELIYAHU",
         "M",
         26
        ],
        [
         2009,
         "VIVIANA",
         "F",
         5
        ],
        [
         2016,
         "KHLOE",
         "F",
         92
        ],
        [
         2008,
         "NATALIE",
         "F",
         421
        ],
        [
         2010,
         "MARCUS",
         "M",
         134
        ],
        [
         2007,
         "SHIA",
         "M",
         11
        ],
        [
         2010,
         "SOPHIA",
         "F",
         1326
        ],
        [
         2014,
         "HANNA",
         "F",
         35
        ],
        [
         2015,
         "BAILA",
         "F",
         77
        ],
        [
         2012,
         "ARIANNA",
         "F",
         319
        ],
        [
         2013,
         "TERRENCE",
         "M",
         10
        ],
        [
         2017,
         "GEMMA",
         "F",
         27
        ],
        [
         2008,
         "MIGUEL",
         "M",
         164
        ],
        [
         2016,
         "SCOTT",
         "M",
         5
        ],
        [
         2013,
         "LAURA",
         "F",
         11
        ],
        [
         2007,
         "MARY",
         "F",
         69
        ],
        [
         2016,
         "LIV",
         "F",
         10
        ],
        [
         2009,
         "MALACHI",
         "M",
         96
        ],
        [
         2014,
         "MACKENZIE",
         "F",
         169
        ],
        [
         2008,
         "TOBY",
         "F",
         38
        ],
        [
         2008,
         "SERENITY",
         "F",
         94
        ],
        [
         2017,
         "IAN",
         "M",
         249
        ],
        [
         2012,
         "ISAAC",
         "M",
         371
        ],
        [
         2012,
         "SHERRY",
         "F",
         14
        ],
        [
         2009,
         "JOSELYN",
         "F",
         18
        ],
        [
         2015,
         "ANIKA",
         "F",
         11
        ],
        [
         2012,
         "MARVIN",
         "M",
         16
        ],
        [
         2014,
         "SANIYAH",
         "F",
         5
        ],
        [
         2016,
         "ZOEY",
         "F",
         203
        ],
        [
         2015,
         "EMELY",
         "F",
         90
        ],
        [
         2017,
         "ALLISON",
         "F",
         156
        ],
        [
         2009,
         "RAYMOND",
         "M",
         91
        ],
        [
         2008,
         "ISABELA",
         "F",
         10
        ],
        [
         2014,
         "IMRAN",
         "M",
         13
        ],
        [
         2017,
         "ZAHRA",
         "F",
         20
        ],
        [
         2010,
         "ALANA",
         "F",
         76
        ],
        [
         2012,
         "OLIVER",
         "M",
         278
        ],
        [
         2016,
         "HOLDEN",
         "M",
         5
        ],
        [
         2014,
         "MILO",
         "M",
         36
        ],
        [
         2015,
         "KELSEY",
         "F",
         16
        ],
        [
         2010,
         "ANNABELLA",
         "F",
         10
        ],
        [
         2012,
         "VIVIAN",
         "F",
         104
        ],
        [
         2016,
         "MICAH",
         "M",
         64
        ],
        [
         2008,
         "KAYLA",
         "F",
         544
        ],
        [
         2013,
         "LAUREN",
         "F",
         119
        ],
        [
         2017,
         "BERL",
         "M",
         8
        ],
        [
         2017,
         "DANNA",
         "F",
         12
        ],
        [
         2017,
         "JAYCE",
         "M",
         149
        ],
        [
         2008,
         "DINA",
         "F",
         43
        ],
        [
         2011,
         "DARIEL",
         "M",
         15
        ],
        [
         2015,
         "SHMUEL",
         "M",
         69
        ],
        [
         2007,
         "HENRY",
         "M",
         328
        ],
        [
         2011,
         "LAWRENCE",
         "M",
         20
        ],
        [
         2016,
         "FRIEDA",
         "F",
         12
        ],
        [
         2009,
         "PESSY",
         "F",
         28
        ],
        [
         2010,
         "COLE",
         "M",
         167
        ],
        [
         2009,
         "YOCHEVED",
         "F",
         21
        ],
        [
         2013,
         "ESTER",
         "F",
         5
        ],
        [
         2007,
         "KATIE",
         "F",
         97
        ],
        [
         2014,
         "HECTOR",
         "M",
         19
        ],
        [
         2017,
         "JESUS",
         "M",
         39
        ],
        [
         2017,
         "FAIGY",
         "F",
         102
        ],
        [
         2014,
         "ZARA",
         "F",
         68
        ],
        [
         2015,
         "JILLIAN",
         "F",
         5
        ],
        [
         2009,
         "SOFIA",
         "F",
         390
        ],
        [
         2014,
         "BRACHA",
         "F",
         25
        ],
        [
         2014,
         "NEHEMIAH",
         "M",
         6
        ],
        [
         2014,
         "LARRY",
         "M",
         5
        ],
        [
         2014,
         "VIVIENNE",
         "F",
         72
        ],
        [
         2007,
         "SHLOMO",
         "M",
         57
        ],
        [
         2008,
         "MAMADOU",
         "M",
         18
        ],
        [
         2013,
         "ALIYAH",
         "F",
         56
        ],
        [
         2012,
         "SHMIEL",
         "M",
         29
        ],
        [
         2008,
         "YANDEL",
         "M",
         12
        ],
        [
         2010,
         "HONESTY",
         "F",
         6
        ],
        [
         2013,
         "DREW",
         "M",
         10
        ],
        [
         2014,
         "LEON",
         "M",
         63
        ],
        [
         2016,
         "MARIO",
         "M",
         12
        ],
        [
         2014,
         "RAYYAN",
         "M",
         24
        ],
        [
         2016,
         "KHADIJA",
         "F",
         10
        ],
        [
         2014,
         "NATHANIEL",
         "M",
         250
        ],
        [
         2016,
         "FRADEL",
         "F",
         18
        ],
        [
         2014,
         "ELKY",
         "F",
         5
        ],
        [
         2014,
         "KELVIN",
         "M",
         15
        ],
        [
         2013,
         "ALIVIA",
         "F",
         11
        ],
        [
         2014,
         "RIVKY",
         "F",
         68
        ],
        [
         2009,
         "KAELYN",
         "F",
         11
        ],
        [
         2009,
         "FRANCISCO",
         "M",
         30
        ],
        [
         2016,
         "RIFKA",
         "F",
         13
        ],
        [
         2008,
         "SHIRA",
         "F",
         46
        ],
        [
         2011,
         "YASEEN",
         "M",
         10
        ],
        [
         2013,
         "TZVI",
         "M",
         53
        ],
        [
         2013,
         "STEPHANIE",
         "F",
         99
        ],
        [
         2007,
         "SINCERE",
         "M",
         12
        ],
        [
         2010,
         "ARMANI",
         "M",
         10
        ],
        [
         2014,
         "BRYANNA",
         "F",
         20
        ],
        [
         2008,
         "OMAR",
         "M",
         145
        ],
        [
         2017,
         "MAXIM",
         "M",
         10
        ],
        [
         2013,
         "KRISTEN",
         "F",
         5
        ],
        [
         2015,
         "HINDA",
         "F",
         28
        ],
        [
         2016,
         "NICO",
         "M",
         23
        ],
        [
         2013,
         "JADEN",
         "M",
         182
        ],
        [
         2010,
         "MALKY",
         "F",
         68
        ],
        [
         2009,
         "ADRIANA",
         "F",
         187
        ],
        [
         2012,
         "EMMA",
         "F",
         1165
        ],
        [
         2012,
         "FANTA",
         "F",
         10
        ],
        [
         2017,
         "COLIN",
         "M",
         66
        ],
        [
         2016,
         "ELIEZER",
         "M",
         49
        ],
        [
         2007,
         "QUINN",
         "M",
         23
        ],
        [
         2007,
         "ADONIS",
         "M",
         12
        ],
        [
         2009,
         "JASMINE",
         "F",
         196
        ],
        [
         2009,
         "MICHELLE",
         "F",
         256
        ],
        [
         2014,
         "SANTINO",
         "M",
         10
        ],
        [
         2008,
         "REESE",
         "F",
         44
        ],
        [
         2017,
         "CARLY",
         "F",
         6
        ],
        [
         2010,
         "ATHENA",
         "F",
         18
        ],
        [
         2014,
         "SALOME",
         "F",
         7
        ],
        [
         2011,
         "JULIETTE",
         "F",
         39
        ],
        [
         2009,
         "ALBERT",
         "M",
         33
        ],
        [
         2010,
         "GRACE",
         "F",
         414
        ],
        [
         2015,
         "ANTONIA",
         "F",
         6
        ],
        [
         2012,
         "GIANA",
         "F",
         10
        ],
        [
         2017,
         "YOUSEF",
         "M",
         11
        ],
        [
         2011,
         "MADELINE",
         "F",
         170
        ],
        [
         2014,
         "CALVIN",
         "M",
         44
        ],
        [
         2007,
         "YOSEF",
         "M",
         74
        ],
        [
         2017,
         "ALICIA",
         "F",
         12
        ],
        [
         2012,
         "VICTORIA",
         "F",
         451
        ],
        [
         2013,
         "SYED",
         "M",
         5
        ],
        [
         2008,
         "PETER",
         "M",
         184
        ],
        [
         2013,
         "SASHA",
         "F",
         27
        ],
        [
         2017,
         "SOLOMON",
         "M",
         49
        ],
        [
         2013,
         "LUCAS",
         "M",
         898
        ],
        [
         2017,
         "JESSICA",
         "F",
         45
        ],
        [
         2010,
         "GENESIS",
         "F",
         211
        ],
        [
         2017,
         "ARLO",
         "M",
         11
        ],
        [
         2007,
         "DAYANA",
         "F",
         12
        ],
        [
         2011,
         "MORGAN",
         "F",
         127
        ],
        [
         2011,
         "CARTER",
         "M",
         323
        ],
        [
         2007,
         "MINDY",
         "F",
         15
        ],
        [
         2011,
         "RAIZEL",
         "F",
         32
        ],
        [
         2014,
         "DALIA",
         "F",
         11
        ],
        [
         2016,
         "TENZIN",
         "F",
         19
        ],
        [
         2009,
         "JACE",
         "M",
         5
        ],
        [
         2007,
         "ELLIE",
         "F",
         47
        ],
        [
         2009,
         "BRIAN",
         "M",
         366
        ],
        [
         2012,
         "JASIAH",
         "M",
         5
        ],
        [
         2015,
         "BRYCE",
         "M",
         110
        ],
        [
         2007,
         "LILLIANA",
         "F",
         19
        ],
        [
         2013,
         "LENNY",
         "M",
         10
        ],
        [
         2012,
         "RAIZY",
         "F",
         62
        ],
        [
         2016,
         "ADDISON",
         "F",
         116
        ],
        [
         2010,
         "JULIAN",
         "M",
         334
        ],
        [
         2017,
         "ISRAEL",
         "M",
         62
        ],
        [
         2011,
         "KENNETH",
         "M",
         76
        ],
        [
         2013,
         "JAIDEN",
         "M",
         52
        ],
        [
         2011,
         "ALONDRA",
         "F",
         8
        ],
        [
         2014,
         "JAYLA",
         "F",
         66
        ],
        [
         2015,
         "ALI",
         "M",
         71
        ],
        [
         2010,
         "AMY",
         "F",
         167
        ],
        [
         2011,
         "BRYAN",
         "M",
         199
        ],
        [
         2015,
         "YAEL",
         "F",
         5
        ],
        [
         2015,
         "MAURICE",
         "M",
         11
        ],
        [
         2017,
         "CHASE",
         "M",
         242
        ],
        [
         2013,
         "RYAN",
         "F",
         8
        ],
        [
         2016,
         "MARYAM",
         "F",
         41
        ],
        [
         2017,
         "MAYER",
         "M",
         23
        ],
        [
         2010,
         "MAXWELL",
         "M",
         134
        ],
        [
         2014,
         "MADISON",
         "F",
         670
        ],
        [
         2008,
         "KACPER",
         "M",
         11
        ],
        [
         2009,
         "MADELYNN",
         "F",
         5
        ],
        [
         2010,
         "YARETZI",
         "F",
         11
        ],
        [
         2012,
         "COLTON",
         "M",
         88
        ],
        [
         2017,
         "JULIANA",
         "F",
         115
        ],
        [
         2016,
         "JIMMY",
         "M",
         6
        ],
        [
         2010,
         "ELVIN",
         "M",
         10
        ],
        [
         2007,
         "BIANCA",
         "F",
         97
        ],
        [
         2014,
         "KARINA",
         "F",
         22
        ],
        [
         2017,
         "AVRUMY",
         "M",
         7
        ],
        [
         2013,
         "SHLOME",
         "M",
         15
        ],
        [
         2016,
         "LILA",
         "F",
         82
        ],
        [
         2015,
         "DANIELA",
         "F",
         89
        ],
        [
         2014,
         "TRISTAN",
         "M",
         195
        ],
        [
         2015,
         "MADELEINE",
         "F",
         32
        ],
        [
         2013,
         "ANISA",
         "F",
         13
        ],
        [
         2011,
         "COOPER",
         "M",
         95
        ],
        [
         2014,
         "KENDALL",
         "F",
         60
        ],
        [
         2016,
         "MOSHE",
         "M",
         311
        ],
        [
         2012,
         "SHULEM",
         "M",
         49
        ],
        [
         2011,
         "EVAN",
         "M",
         485
        ],
        [
         2014,
         "MARJORIE",
         "F",
         23
        ],
        [
         2010,
         "KAITLIN",
         "F",
         5
        ],
        [
         2012,
         "GAVRIEL",
         "M",
         13
        ],
        [
         2014,
         "REIZEL",
         "F",
         6
        ],
        [
         2014,
         "NAFTALI",
         "M",
         28
        ],
        [
         2016,
         "ROSE",
         "F",
         92
        ],
        [
         2016,
         "ARIEL",
         "M",
         31
        ],
        [
         2016,
         "BODHI",
         "M",
         7
        ],
        [
         2014,
         "PERRY",
         "F",
         11
        ],
        [
         2012,
         "AARON",
         "M",
         472
        ],
        [
         2016,
         "JARED",
         "M",
         24
        ],
        [
         2014,
         "THEA",
         "F",
         5
        ],
        [
         2013,
         "WILSON",
         "M",
         16
        ],
        [
         2015,
         "MASON",
         "M",
         987
        ],
        [
         2013,
         "ASHTON",
         "M",
         79
        ],
        [
         2015,
         "MARGARET",
         "F",
         52
        ],
        [
         2017,
         "MARIA",
         "F",
         123
        ],
        [
         2009,
         "MARILYN",
         "F",
         13
        ],
        [
         2015,
         "GABRIELLE",
         "F",
         52
        ],
        [
         2014,
         "KACEY",
         "F",
         5
        ],
        [
         2015,
         "MYLES",
         "M",
         39
        ],
        [
         2009,
         "BLAKE",
         "M",
         124
        ],
        [
         2012,
         "EZRA",
         "M",
         57
        ],
        [
         2009,
         "ANGIE",
         "F",
         67
        ],
        [
         2015,
         "LIANA",
         "F",
         29
        ],
        [
         2016,
         "ELENA",
         "F",
         116
        ],
        [
         2017,
         "ZAYDEN",
         "M",
         16
        ],
        [
         2012,
         "SIMA",
         "F",
         18
        ],
        [
         2012,
         "GRANT",
         "M",
         24
        ],
        [
         2015,
         "ASHLEY",
         "F",
         286
        ],
        [
         2017,
         "HUNTER",
         "M",
         280
        ],
        [
         2014,
         "JAYDA",
         "F",
         11
        ],
        [
         2014,
         "VALENCIA",
         "F",
         5
        ],
        [
         2007,
         "GENEVIEVE",
         "F",
         5
        ],
        [
         2008,
         "CAROLYN",
         "F",
         6
        ],
        [
         2015,
         "CHLOE",
         "F",
         503
        ],
        [
         2014,
         "ELENI",
         "F",
         5
        ],
        [
         2017,
         "ALEXANDER",
         "M",
         774
        ],
        [
         2009,
         "ALISSON",
         "F",
         10
        ],
        [
         2014,
         "FRANK",
         "M",
         62
        ],
        [
         2015,
         "MADDISON",
         "F",
         5
        ],
        [
         2008,
         "YIDES",
         "F",
         18
        ],
        [
         2007,
         "NIA",
         "F",
         56
        ],
        [
         2009,
         "DENNIS",
         "M",
         34
        ],
        [
         2014,
         "KRYSTAL",
         "F",
         13
        ],
        [
         2014,
         "JONAS",
         "M",
         17
        ],
        [
         2015,
         "BRAYAN",
         "M",
         10
        ],
        [
         2016,
         "ROY",
         "M",
         11
        ],
        [
         2010,
         "AUDREY",
         "F",
         131
        ],
        [
         2013,
         "BENJAMIN",
         "M",
         715
        ],
        [
         2010,
         "JAELYN",
         "F",
         10
        ],
        [
         2011,
         "BRYSON",
         "M",
         12
        ],
        [
         2014,
         "ADAN",
         "M",
         11
        ],
        [
         2013,
         "JUAN",
         "M",
         86
        ],
        [
         2013,
         "LUCIANA",
         "F",
         6
        ],
        [
         2010,
         "MALIA",
         "F",
         35
        ],
        [
         2013,
         "BRENDAN",
         "M",
         43
        ],
        [
         2013,
         "YUSUF",
         "M",
         32
        ],
        [
         2011,
         "SCARLETT",
         "F",
         166
        ],
        [
         2012,
         "NATHALY",
         "F",
         6
        ],
        [
         2011,
         "AMIYA",
         "F",
         10
        ],
        [
         2009,
         "HERSH",
         "M",
         15
        ]
       ],
       "datasetInfos": [],
       "dbfsResultPath": null,
       "isJsonSchema": true,
       "metadata": {},
       "overflow": true,
       "plotOptions": {
        "customPlotOptions": {},
        "displayType": "table",
        "pivotAggregation": null,
        "pivotColumns": null,
        "xColumns": null,
        "yColumns": null
       },
       "removedWidgets": [],
       "schema": [
        {
         "metadata": "{}",
         "name": "Year",
         "type": "\"integer\""
        },
        {
         "metadata": "{}",
         "name": "First Name",
         "type": "\"string\""
        },
        {
         "metadata": "{}",
         "name": "Sex",
         "type": "\"string\""
        },
        {
         "metadata": "{}",
         "name": "Count",
         "type": "\"integer\""
        }
       ],
       "type": "table"
      }
     },
     "output_type": "display_data"
    }
   ],
   "source": [
    "display(baby_df)"
   ]
  },
  {
   "cell_type": "code",
   "execution_count": 0,
   "metadata": {
    "application/vnd.databricks.v1+cell": {
     "cellMetadata": {},
     "inputWidgets": {},
     "nuid": "91dcdf30-476f-45d6-92f9-1d3ee0d471e4",
     "showTitle": false,
     "title": ""
    }
   },
   "outputs": [
    {
     "output_type": "display_data",
     "data": {
      "text/html": [
       "<style scoped>\n",
       "  .ansiout {\n",
       "    display: block;\n",
       "    unicode-bidi: embed;\n",
       "    white-space: pre-wrap;\n",
       "    word-wrap: break-word;\n",
       "    word-break: break-all;\n",
       "    font-family: \"Menlo\", \"Monaco\", \"Consolas\", \"Ubuntu Mono\", \"Source Code Pro\", monospace;\n",
       "    font-size: 13px;\n",
       "    color: #555;\n",
       "    margin-left: 4px;\n",
       "    line-height: 19px;\n",
       "  }\n",
       "</style>\n",
       "<div class=\"ansiout\">+---+-----+\n",
       "sex|count|\n",
       "+---+-----+\n",
       "  F|  577|\n",
       "  M|  510|\n",
       "+---+-----+\n",
       "\n",
       "CPU times: user 8 ms, sys: 0 ns, total: 8 ms\n",
       "Wall time: 1.4 s\n",
       "</div>"
      ]
     },
     "metadata": {
      "application/vnd.databricks.v1+output": {
       "addedWidgets": {},
       "arguments": {},
       "data": "<div class=\"ansiout\">+---+-----+\n|sex|count|\n+---+-----+\n|  F|  577|\n|  M|  510|\n+---+-----+\n\nCPU times: user 8 ms, sys: 0 ns, total: 8 ms\nWall time: 1.4 s\n</div>",
       "datasetInfos": [],
       "metadata": {},
       "removedWidgets": [],
       "type": "html"
      }
     },
     "output_type": "display_data"
    }
   ],
   "source": [
    "%%time\n",
    "from pyspark.sql import functions as f\n",
    "baby_df.select('*').filter(f.col('year')=='2010').groupBy(f.col('sex')).count().show()"
   ]
  },
  {
   "cell_type": "code",
   "execution_count": 0,
   "metadata": {
    "application/vnd.databricks.v1+cell": {
     "cellMetadata": {},
     "inputWidgets": {},
     "nuid": "933dceb9-6558-43b6-9d82-32774ff8fe8a",
     "showTitle": false,
     "title": ""
    }
   },
   "outputs": [
    {
     "output_type": "display_data",
     "data": {
      "text/html": [
       "<style scoped>\n",
       "  .ansiout {\n",
       "    display: block;\n",
       "    unicode-bidi: embed;\n",
       "    white-space: pre-wrap;\n",
       "    word-wrap: break-word;\n",
       "    word-break: break-all;\n",
       "    font-family: \"Menlo\", \"Monaco\", \"Consolas\", \"Ubuntu Mono\", \"Source Code Pro\", monospace;\n",
       "    font-size: 13px;\n",
       "    color: #555;\n",
       "    margin-left: 4px;\n",
       "    line-height: 19px;\n",
       "  }\n",
       "</style>\n",
       "<div class=\"ansiout\">CPU times: user 8 ms, sys: 0 ns, total: 8 ms\n",
       "Wall time: 165 ms\n",
       "Out[12]: [12, 13, 14, 15, 16, 17, 18, 19, 20, 21]</div>"
      ]
     },
     "metadata": {
      "application/vnd.databricks.v1+output": {
       "addedWidgets": {},
       "arguments": {},
       "data": "<div class=\"ansiout\">CPU times: user 8 ms, sys: 0 ns, total: 8 ms\nWall time: 165 ms\nOut[12]: [12, 13, 14, 15, 16, 17, 18, 19, 20, 21]</div>",
       "datasetInfos": [],
       "metadata": {},
       "removedWidgets": [],
       "type": "html"
      }
     },
     "output_type": "display_data"
    }
   ],
   "source": [
    "%%time\n",
    "#my_rdd.cache()\n",
    "my_rdd.map(lambda x: x+11).collect()"
   ]
  },
  {
   "cell_type": "code",
   "execution_count": 0,
   "metadata": {
    "application/vnd.databricks.v1+cell": {
     "cellMetadata": {},
     "inputWidgets": {},
     "nuid": "b297df7b-142b-4d73-b11a-b4b94d1abd19",
     "showTitle": false,
     "title": ""
    }
   },
   "outputs": [
    {
     "output_type": "display_data",
     "data": {
      "text/html": [
       "<style scoped>\n",
       "  .ansiout {\n",
       "    display: block;\n",
       "    unicode-bidi: embed;\n",
       "    white-space: pre-wrap;\n",
       "    word-wrap: break-word;\n",
       "    word-break: break-all;\n",
       "    font-family: \"Menlo\", \"Monaco\", \"Consolas\", \"Ubuntu Mono\", \"Source Code Pro\", monospace;\n",
       "    font-size: 13px;\n",
       "    color: #555;\n",
       "    margin-left: 4px;\n",
       "    line-height: 19px;\n",
       "  }\n",
       "</style>\n",
       "<div class=\"ansiout\">Yes\n",
       "</div>"
      ]
     },
     "metadata": {
      "application/vnd.databricks.v1+output": {
       "addedWidgets": {},
       "arguments": {},
       "data": "<div class=\"ansiout\">Yes\n</div>",
       "datasetInfos": [],
       "metadata": {},
       "removedWidgets": [],
       "type": "html"
      }
     },
     "output_type": "display_data"
    }
   ],
   "source": [
    "# 1. Python program to check if a string is palindrome or not\n",
    "# Input : malayalam\n",
    "# Output : Yes\n",
    "# Input : KITIKI\n",
    "# Output : No\n",
    "def palindrome(word):\n",
    "    for i in range(0, int(len(word)/2)):\n",
    "            if word[i] != word[len(word) - i - 1]:\n",
    "                return False\n",
    "    else:\n",
    "        return True\n",
    "        \n",
    "\n",
    "word = 'malayalam'\n",
    "output = palindrome(word)\n",
    "\n",
    "if output:\n",
    "    print(\"Yes\")\n",
    "else:\n",
    "    print(\"No\")"
   ]
  },
  {
   "cell_type": "code",
   "execution_count": 0,
   "metadata": {
    "application/vnd.databricks.v1+cell": {
     "cellMetadata": {},
     "inputWidgets": {},
     "nuid": "5371d2fe-ab7c-4860-b314-fc0c5dabc0e1",
     "showTitle": false,
     "title": ""
    }
   },
   "outputs": [
    {
     "output_type": "display_data",
     "data": {
      "text/html": [
       "<style scoped>\n",
       "  .ansiout {\n",
       "    display: block;\n",
       "    unicode-bidi: embed;\n",
       "    white-space: pre-wrap;\n",
       "    word-wrap: break-word;\n",
       "    word-break: break-all;\n",
       "    font-family: \"Menlo\", \"Monaco\", \"Consolas\", \"Ubuntu Mono\", \"Source Code Pro\", monospace;\n",
       "    font-size: 13px;\n",
       "    color: #555;\n",
       "    margin-left: 4px;\n",
       "    line-height: 19px;\n",
       "  }\n",
       "</style>\n",
       "<div class=\"ansiout\">Out[9]: &#39;this is sample reverse string&#39;</div>"
      ]
     },
     "metadata": {
      "application/vnd.databricks.v1+output": {
       "addedWidgets": {},
       "arguments": {},
       "data": "<div class=\"ansiout\">Out[9]: &#39;this is sample reverse string&#39;</div>",
       "datasetInfos": [],
       "metadata": {},
       "removedWidgets": [],
       "type": "html"
      }
     },
     "output_type": "display_data"
    }
   ],
   "source": [
    "# Reverse words in a given String in Python\n",
    "def reverseString(str):\n",
    "    words = str.split(\" \")\n",
    "    \n",
    "    rev_sentence = (\" \").join(reversed(words))\n",
    "    \n",
    "    return rev_sentence\n",
    "\n",
    "str = \"string reverse sample is this\"\n",
    "reverseString(str)"
   ]
  },
  {
   "cell_type": "code",
   "execution_count": 0,
   "metadata": {
    "application/vnd.databricks.v1+cell": {
     "cellMetadata": {},
     "inputWidgets": {},
     "nuid": "386d3bf6-db3f-4d1d-8a08-bb4513d4e945",
     "showTitle": false,
     "title": ""
    }
   },
   "outputs": [
    {
     "output_type": "display_data",
     "data": {
      "text/html": [
       "<style scoped>\n",
       "  .ansiout {\n",
       "    display: block;\n",
       "    unicode-bidi: embed;\n",
       "    white-space: pre-wrap;\n",
       "    word-wrap: break-word;\n",
       "    word-break: break-all;\n",
       "    font-family: \"Menlo\", \"Monaco\", \"Consolas\", \"Ubuntu Mono\", \"Source Code Pro\", monospace;\n",
       "    font-size: 13px;\n",
       "    color: #555;\n",
       "    margin-left: 4px;\n",
       "    line-height: 19px;\n",
       "  }\n",
       "</style>\n",
       "<div class=\"ansiout\">Using approach 1 : TETREPLACESTRING\n",
       "Using approach 2 : TETREPLACESTRING\n",
       "</div>"
      ]
     },
     "metadata": {
      "application/vnd.databricks.v1+output": {
       "addedWidgets": {},
       "arguments": {},
       "data": "<div class=\"ansiout\">Using approach 1 : TETREPLACESTRING\nUsing approach 2 : TETREPLACESTRING\n</div>",
       "datasetInfos": [],
       "metadata": {},
       "removedWidgets": [],
       "type": "html"
      }
     },
     "output_type": "display_data"
    }
   ],
   "source": [
    "# 3. Ways to remove i’th character from string in Python\n",
    "\n",
    "test_str = \"TESTREPLACESTRING\"\n",
    "\n",
    "n = 2\n",
    "\n",
    "new_str = test_str[:n] + test_str[n+1:]\n",
    "print(\"Using approach 1 :\", new_str)\n",
    "\n",
    "# another approach using join\n",
    "newString = ''.join([test_str[i] for i in range(len(test_str)) if i != n])\n",
    "print(\"Using approach 2 :\", newString)\n",
    "\n"
   ]
  },
  {
   "cell_type": "code",
   "execution_count": 0,
   "metadata": {
    "application/vnd.databricks.v1+cell": {
     "cellMetadata": {},
     "inputWidgets": {},
     "nuid": "526773f0-9810-4219-a007-c83ec055370a",
     "showTitle": false,
     "title": ""
    }
   },
   "outputs": [
    {
     "output_type": "display_data",
     "data": {
      "text/html": [
       "<style scoped>\n",
       "  .ansiout {\n",
       "    display: block;\n",
       "    unicode-bidi: embed;\n",
       "    white-space: pre-wrap;\n",
       "    word-wrap: break-word;\n",
       "    word-break: break-all;\n",
       "    font-family: \"Menlo\", \"Monaco\", \"Consolas\", \"Ubuntu Mono\", \"Source Code Pro\", monospace;\n",
       "    font-size: 13px;\n",
       "    color: #555;\n",
       "    margin-left: 4px;\n",
       "    line-height: 19px;\n",
       "  }\n",
       "</style>\n",
       "<div class=\"ansiout\">Yes\n",
       "</div>"
      ]
     },
     "metadata": {
      "application/vnd.databricks.v1+output": {
       "addedWidgets": {},
       "arguments": {},
       "data": "<div class=\"ansiout\">Yes\n</div>",
       "datasetInfos": [],
       "metadata": {},
       "removedWidgets": [],
       "type": "html"
      }
     },
     "output_type": "display_data"
    }
   ],
   "source": [
    "# 4. Python | Check if a Substring is Present in a Given String\n",
    "\n",
    "# Input : s1 = TEST s2=TESTS for STRNGS\n",
    "# Output : yes\n",
    "\n",
    "# Input : s1 = TEST s2=TESTS for STRINGS\n",
    "# Output : yes\n",
    "\n",
    "def subPresent(s1, s2):\n",
    "    if s1 in s2:\n",
    "        print(\"Yes\")\n",
    "    else:\n",
    "        print(\"No\")\n",
    "    \n",
    "s1 = \"TESTS\"\n",
    "s2 = \"TESTS for STRINGS\"\n",
    "\n",
    "subPresent(s1, s2)\n"
   ]
  },
  {
   "cell_type": "code",
   "execution_count": 0,
   "metadata": {
    "application/vnd.databricks.v1+cell": {
     "cellMetadata": {},
     "inputWidgets": {},
     "nuid": "9ab1cf6d-f911-435b-a94b-14d1075405b6",
     "showTitle": false,
     "title": ""
    }
   },
   "outputs": [
    {
     "output_type": "display_data",
     "data": {
      "text/html": [
       "<style scoped>\n",
       "  .ansiout {\n",
       "    display: block;\n",
       "    unicode-bidi: embed;\n",
       "    white-space: pre-wrap;\n",
       "    word-wrap: break-word;\n",
       "    word-break: break-all;\n",
       "    font-family: \"Menlo\", \"Monaco\", \"Consolas\", \"Ubuntu Mono\", \"Source Code Pro\", monospace;\n",
       "    font-size: 13px;\n",
       "    color: #555;\n",
       "    margin-left: 4px;\n",
       "    line-height: 19px;\n",
       "  }\n",
       "</style>\n",
       "<div class=\"ansiout\">Out[12]: 13</div>"
      ]
     },
     "metadata": {
      "application/vnd.databricks.v1+output": {
       "addedWidgets": {},
       "arguments": {},
       "data": "<div class=\"ansiout\">Out[12]: 13</div>",
       "datasetInfos": [],
       "metadata": {},
       "removedWidgets": [],
       "type": "html"
      }
     },
     "output_type": "display_data"
    }
   ],
   "source": [
    "#Find length of a string in python without using len function\n",
    "def lengthStr(word):\n",
    "    count = 0    \n",
    "    for i in word:\n",
    "        count += 1        \n",
    "    return count\n",
    "\n",
    "word = 'hello world !'\n",
    "lengthStr(word)"
   ]
  },
  {
   "cell_type": "code",
   "execution_count": 0,
   "metadata": {
    "application/vnd.databricks.v1+cell": {
     "cellMetadata": {},
     "inputWidgets": {},
     "nuid": "b6fda4f7-1453-4233-abf1-a5df39912560",
     "showTitle": false,
     "title": ""
    }
   },
   "outputs": [
    {
     "output_type": "display_data",
     "data": {
      "text/html": [
       "<style scoped>\n",
       "  .ansiout {\n",
       "    display: block;\n",
       "    unicode-bidi: embed;\n",
       "    white-space: pre-wrap;\n",
       "    word-wrap: break-word;\n",
       "    word-break: break-all;\n",
       "    font-family: \"Menlo\", \"Monaco\", \"Consolas\", \"Ubuntu Mono\", \"Source Code Pro\", monospace;\n",
       "    font-size: 13px;\n",
       "    color: #555;\n",
       "    margin-left: 4px;\n",
       "    line-height: 19px;\n",
       "  }\n",
       "</style>\n",
       "<div class=\"ansiout\">[&#39;my&#39;, &#39;name&#39;, &#39;is&#39;, &#39;ravi&#39;]\n",
       "my\n",
       "name\n",
       "is\n",
       "ravi\n",
       "</div>"
      ]
     },
     "metadata": {
      "application/vnd.databricks.v1+output": {
       "addedWidgets": {},
       "arguments": {},
       "data": "<div class=\"ansiout\">[&#39;my&#39;, &#39;name&#39;, &#39;is&#39;, &#39;ravi&#39;]\nmy\nname\nis\nravi\n</div>",
       "datasetInfos": [],
       "metadata": {},
       "removedWidgets": [],
       "type": "html"
      }
     },
     "output_type": "display_data"
    }
   ],
   "source": [
    "# 6. Python program to print even length words in a string\n",
    "\n",
    "# Input: s = \"This is a python language\"\n",
    "# Output: This\n",
    "#         is\n",
    "#         python\n",
    "#         language \n",
    " \n",
    "\n",
    "def evenLengthWords(s):\n",
    "    splitWord = s.split(\" \")\n",
    "    print(splitWord)\n",
    "\n",
    "    for i in splitWord:\n",
    "        if len(i) % 2 == 0:\n",
    "            print(i)\n",
    "            \n",
    "s = \"my name is ravi\"\n",
    "\n",
    "evenLengthWords(s)\n",
    "        "
   ]
  }
 ],
 "metadata": {
  "application/vnd.databricks.v1+notebook": {
   "dashboards": [],
   "language": "python",
   "notebookMetadata": {
    "pythonIndentUnit": 2
   },
   "notebookName": "Tutorial_14 Functions_Examples_3",
   "widgets": {}
  },
  "kernelspec": {
   "display_name": "Python 3",
   "language": "python",
   "name": "python3"
  },
  "language_info": {
   "codemirror_mode": {
    "name": "ipython",
    "version": 3
   },
   "file_extension": ".py",
   "mimetype": "text/x-python",
   "name": "python",
   "nbconvert_exporter": "python",
   "pygments_lexer": "ipython3",
   "version": "3.7.4"
  }
 },
 "nbformat": 4,
 "nbformat_minor": 0
}
