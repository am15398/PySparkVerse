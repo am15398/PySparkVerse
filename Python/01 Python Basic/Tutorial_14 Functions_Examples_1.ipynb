{
 "cells": [
  {
   "cell_type": "markdown",
   "metadata": {
    "application/vnd.databricks.v1+cell": {
     "cellMetadata": {},
     "inputWidgets": {},
     "nuid": "9dc5932a-ef57-439a-8061-01de6faaf3d3",
     "showTitle": false,
     "title": ""
    }
   },
   "source": [
    "###### `Booleans` : Python implements all of the usual operators for Boolean logic, but uses English words rather than symbols (&&, ||, etc.):"
   ]
  },
  {
   "cell_type": "code",
   "execution_count": 0,
   "metadata": {
    "application/vnd.databricks.v1+cell": {
     "cellMetadata": {},
     "inputWidgets": {},
     "nuid": "031f17e5-ded2-40e5-a187-34ad16c2e3e7",
     "showTitle": false,
     "title": ""
    }
   },
   "outputs": [
    {
     "output_type": "display_data",
     "data": {
      "text/html": [
       "<style scoped>\n",
       "  .ansiout {\n",
       "    display: block;\n",
       "    unicode-bidi: embed;\n",
       "    white-space: pre-wrap;\n",
       "    word-wrap: break-word;\n",
       "    word-break: break-all;\n",
       "    font-family: \"Menlo\", \"Monaco\", \"Consolas\", \"Ubuntu Mono\", \"Source Code Pro\", monospace;\n",
       "    font-size: 13px;\n",
       "    color: #555;\n",
       "    margin-left: 4px;\n",
       "    line-height: 19px;\n",
       "  }\n",
       "</style>\n",
       "<div class=\"ansiout\">&lt;class &#39;bool&#39;&gt;\n",
       "False\n",
       "True\n",
       "False\n",
       "True\n",
       "</div>"
      ]
     },
     "metadata": {
      "application/vnd.databricks.v1+output": {
       "addedWidgets": {},
       "arguments": {},
       "data": "<div class=\"ansiout\">&lt;class &#39;bool&#39;&gt;\nFalse\nTrue\nFalse\nTrue\n</div>",
       "datasetInfos": [],
       "metadata": {},
       "removedWidgets": [],
       "type": "html"
      }
     },
     "output_type": "display_data"
    }
   ],
   "source": [
    "t = True\n",
    "f = False\n",
    "print(type(t)) # Prints \"<class 'bool'>\"\n",
    "print(t and f) # Logical AND; prints \"False\"\n",
    "print(t or f)  # Logical OR; prints \"True\"\n",
    "print(not t)   # Logical NOT; prints \"False\"\n",
    "print(t != f)  # Logical XOR; prints \"True\""
   ]
  },
  {
   "cell_type": "markdown",
   "metadata": {
    "application/vnd.databricks.v1+cell": {
     "cellMetadata": {},
     "inputWidgets": {},
     "nuid": "51782f11-287a-4f8d-ae0a-2fdc57acd5ae",
     "showTitle": false,
     "title": ""
    }
   },
   "source": [
    "##### `Strings` : Python has great support for strings"
   ]
  },
  {
   "cell_type": "code",
   "execution_count": 0,
   "metadata": {
    "application/vnd.databricks.v1+cell": {
     "cellMetadata": {},
     "inputWidgets": {},
     "nuid": "68a9a1b7-4c99-485b-93d1-aa7a31058ce4",
     "showTitle": false,
     "title": ""
    }
   },
   "outputs": [
    {
     "output_type": "display_data",
     "data": {
      "text/html": [
       "<style scoped>\n",
       "  .ansiout {\n",
       "    display: block;\n",
       "    unicode-bidi: embed;\n",
       "    white-space: pre-wrap;\n",
       "    word-wrap: break-word;\n",
       "    word-break: break-all;\n",
       "    font-family: \"Menlo\", \"Monaco\", \"Consolas\", \"Ubuntu Mono\", \"Source Code Pro\", monospace;\n",
       "    font-size: 13px;\n",
       "    color: #555;\n",
       "    margin-left: 4px;\n",
       "    line-height: 19px;\n",
       "  }\n",
       "</style>\n",
       "<div class=\"ansiout\">hello\n",
       "5\n",
       "hello world\n",
       "hello world 12\n",
       "</div>"
      ]
     },
     "metadata": {
      "application/vnd.databricks.v1+output": {
       "addedWidgets": {},
       "arguments": {},
       "data": "<div class=\"ansiout\">hello\n5\nhello world\nhello world 12\n</div>",
       "datasetInfos": [],
       "metadata": {},
       "removedWidgets": [],
       "type": "html"
      }
     },
     "output_type": "display_data"
    }
   ],
   "source": [
    "hello = 'hello'    # String literals can use single quotes\n",
    "world = \"world\"    # or double quotes; it does not matter.\n",
    "print(hello)       # Prints \"hello\"\n",
    "print(len(hello))  # String length; prints \"5\"\n",
    "hw = hello + ' ' + world  # String concatenation\n",
    "print(hw)  # prints \"hello world\"\n",
    "st = '%s %s %d' % (hello, world, 12)  # sprintf style string formatting\n",
    "print(st)  # prints \"hello world 12\""
   ]
  },
  {
   "cell_type": "code",
   "execution_count": 0,
   "metadata": {
    "application/vnd.databricks.v1+cell": {
     "cellMetadata": {},
     "inputWidgets": {},
     "nuid": "3745a69e-0e2a-48ee-9bd9-c38b048625c5",
     "showTitle": false,
     "title": ""
    }
   },
   "outputs": [
    {
     "output_type": "display_data",
     "data": {
      "text/html": [
       "<style scoped>\n",
       "  .ansiout {\n",
       "    display: block;\n",
       "    unicode-bidi: embed;\n",
       "    white-space: pre-wrap;\n",
       "    word-wrap: break-word;\n",
       "    word-break: break-all;\n",
       "    font-family: \"Menlo\", \"Monaco\", \"Consolas\", \"Ubuntu Mono\", \"Source Code Pro\", monospace;\n",
       "    font-size: 13px;\n",
       "    color: #555;\n",
       "    margin-left: 4px;\n",
       "    line-height: 19px;\n",
       "  }\n",
       "</style>\n",
       "<div class=\"ansiout\">Hello\n",
       "HELLO\n",
       "  hello\n",
       " hello \n",
       "he(ell)(ell)o\n",
       "world\n",
       "</div>"
      ]
     },
     "metadata": {
      "application/vnd.databricks.v1+output": {
       "addedWidgets": {},
       "arguments": {},
       "data": "<div class=\"ansiout\">Hello\nHELLO\n  hello\n hello \nhe(ell)(ell)o\nworld\n</div>",
       "datasetInfos": [],
       "metadata": {},
       "removedWidgets": [],
       "type": "html"
      }
     },
     "output_type": "display_data"
    }
   ],
   "source": [
    "s = \"hello\"\n",
    "# Capitalize a string; prints \"Hello\"\n",
    "print(s.capitalize())  \n",
    "# Convert a string to uppercase; prints \"HELLO\"\n",
    "print(s.upper())       \n",
    "# Right-justify a string, padding with spaces; prints \"  hello\"\n",
    "print(s.rjust(7))\n",
    "# Center a string, padding with spaces; prints \" hello \"\n",
    "print(s.center(7)) \n",
    "# Replace all instances of one substring with another; # prints \"he(ell)(ell)o\"\n",
    "print(s.replace('l', '(ell)'))  \n",
    "                                \n",
    "# Strip leading and trailing whitespace; prints \"world\"\n",
    "print('  world '.strip())  "
   ]
  },
  {
   "cell_type": "code",
   "execution_count": 0,
   "metadata": {
    "application/vnd.databricks.v1+cell": {
     "cellMetadata": {},
     "inputWidgets": {},
     "nuid": "32c390d1-4ff4-4870-b307-74379996377f",
     "showTitle": false,
     "title": ""
    }
   },
   "outputs": [
    {
     "output_type": "display_data",
     "data": {
      "text/html": [
       "<style scoped>\n",
       "  .ansiout {\n",
       "    display: block;\n",
       "    unicode-bidi: embed;\n",
       "    white-space: pre-wrap;\n",
       "    word-wrap: break-word;\n",
       "    word-break: break-all;\n",
       "    font-family: \"Menlo\", \"Monaco\", \"Consolas\", \"Ubuntu Mono\", \"Source Code Pro\", monospace;\n",
       "    font-size: 13px;\n",
       "    color: #555;\n",
       "    margin-left: 4px;\n",
       "    line-height: 19px;\n",
       "  }\n",
       "</style>\n",
       "<div class=\"ansiout\">upper string :  HELLO WORLD 12\n",
       "Lower string :  hello world 12\n",
       "length of string : 14\n",
       "Reversed the String :  [5, 8, 3, 4, 1]\n",
       "sorted the String :  [1, 3, 4, 5, 8]\n",
       "sorted the String :  [&#39; &#39;, &#39; &#39;, &#39;1&#39;, &#39;2&#39;, &#39;d&#39;, &#39;e&#39;, &#39;h&#39;, &#39;l&#39;, &#39;l&#39;, &#39;l&#39;, &#39;o&#39;, &#39;o&#39;, &#39;r&#39;, &#39;w&#39;]\n",
       "sorted the String :  [&#39;hello world 12&#39;]\n",
       "</div>"
      ]
     },
     "metadata": {
      "application/vnd.databricks.v1+output": {
       "addedWidgets": {},
       "arguments": {},
       "data": "<div class=\"ansiout\">upper string :  HELLO WORLD 12\nLower string :  hello world 12\nlength of string : 14\nReversed the String :  [5, 8, 3, 4, 1]\nsorted the String :  [1, 3, 4, 5, 8]\nsorted the String :  [&#39; &#39;, &#39; &#39;, &#39;1&#39;, &#39;2&#39;, &#39;d&#39;, &#39;e&#39;, &#39;h&#39;, &#39;l&#39;, &#39;l&#39;, &#39;l&#39;, &#39;o&#39;, &#39;o&#39;, &#39;r&#39;, &#39;w&#39;]\nsorted the String :  [&#39;hello world 12&#39;]\n</div>",
       "datasetInfos": [],
       "metadata": {},
       "removedWidgets": [],
       "type": "html"
      }
     },
     "output_type": "display_data"
    }
   ],
   "source": [
    "#upper()\n",
    "print('upper string : ',st.upper())\n",
    "#lower()\n",
    "print('Lower string : ',st.lower())\n",
    "#len()\n",
    "print('length of string :' ,len(st))\n",
    "\n",
    "#Using reveresed() in string, tuple, list, and range\n",
    "print('Reversed the String : ',list(reversed([1,4,3,8,5])))\n",
    "#sorted\n",
    "print('sorted the String : ',sorted([1,4,3,8,5]))\n",
    "print('sorted the String : ',sorted(st))\n",
    "print('sorted the String : ',sorted([st]))\n"
   ]
  },
  {
   "cell_type": "markdown",
   "metadata": {
    "application/vnd.databricks.v1+cell": {
     "cellMetadata": {},
     "inputWidgets": {},
     "nuid": "bc607fb0-2ca2-4e16-9911-3d3280706b2f",
     "showTitle": false,
     "title": ""
    }
   },
   "source": [
    "##### this code gives the numbers of integers, floats, and strings present in the list\n"
   ]
  },
  {
   "cell_type": "code",
   "execution_count": 0,
   "metadata": {
    "application/vnd.databricks.v1+cell": {
     "cellMetadata": {},
     "inputWidgets": {},
     "nuid": "7014eb7c-6e66-403b-a8d5-96ba35095642",
     "showTitle": false,
     "title": ""
    }
   },
   "outputs": [
    {
     "output_type": "display_data",
     "data": {
      "text/html": [
       "<style scoped>\n",
       "  .ansiout {\n",
       "    display: block;\n",
       "    unicode-bidi: embed;\n",
       "    white-space: pre-wrap;\n",
       "    word-wrap: break-word;\n",
       "    word-break: break-all;\n",
       "    font-family: \"Menlo\", \"Monaco\", \"Consolas\", \"Ubuntu Mono\", \"Source Code Pro\", monospace;\n",
       "    font-size: 13px;\n",
       "    color: #555;\n",
       "    margin-left: 4px;\n",
       "    line-height: 19px;\n",
       "  }\n",
       "</style>\n",
       "<div class=\"ansiout\">integers 35\n",
       "integers 60\n",
       "integers True\n",
       "integers False\n",
       "Number of integers are: 4\n",
       "Number of Floats are: 1\n",
       "numbers of strings are: 3\n",
       "numbers of booleans are: 0\n",
       "</div>"
      ]
     },
     "metadata": {
      "application/vnd.databricks.v1+output": {
       "addedWidgets": {},
       "arguments": {},
       "data": "<div class=\"ansiout\">integers 35\nintegers 60\nintegers True\nintegers False\nNumber of integers are: 4\nNumber of Floats are: 1\nnumbers of strings are: 3\nnumbers of booleans are: 0\n</div>",
       "datasetInfos": [],
       "metadata": {},
       "removedWidgets": [],
       "type": "html"
      }
     },
     "output_type": "display_data"
    }
   ],
   "source": [
    "a= ['Raj',35,'b',45.5,'Ravi',60,True,False]\n",
    "i=f=s=b=o=0\n",
    "for j in a:\n",
    "    if isinstance(j,int):\n",
    "        print('integers',j)\n",
    "        i=i+1\n",
    "    elif isinstance(j,float):\n",
    "        f=f+1\n",
    "    elif isinstance(j,str):\n",
    "        s=s+1\n",
    "    elif isinstance(j,bool):\n",
    "        b=b+1\n",
    "    else:\n",
    "        o=0+1\n",
    "print('Number of integers are:',i)\n",
    "print('Number of Floats are:',f)\n",
    "print(\"numbers of strings are:\",s)\n",
    "print(\"numbers of booleans are:\",b)"
   ]
  },
  {
   "cell_type": "code",
   "execution_count": 0,
   "metadata": {
    "application/vnd.databricks.v1+cell": {
     "cellMetadata": {},
     "inputWidgets": {},
     "nuid": "bc3481d0-61b7-4722-8a85-0d8026ceb6a0",
     "showTitle": false,
     "title": ""
    }
   },
   "outputs": [
    {
     "output_type": "display_data",
     "data": {
      "text/html": [
       "<style scoped>\n",
       "  .ansiout {\n",
       "    display: block;\n",
       "    unicode-bidi: embed;\n",
       "    white-space: pre-wrap;\n",
       "    word-wrap: break-word;\n",
       "    word-break: break-all;\n",
       "    font-family: \"Menlo\", \"Monaco\", \"Consolas\", \"Ubuntu Mono\", \"Source Code Pro\", monospace;\n",
       "    font-size: 13px;\n",
       "    color: #555;\n",
       "    margin-left: 4px;\n",
       "    line-height: 19px;\n",
       "  }\n",
       "</style>\n",
       "<div class=\"ansiout\">String Values : Raj\n",
       "integer values 35\n",
       "String Values : b\n",
       "float values : 45.5\n",
       "String Values : Ravi\n",
       "integer values 60\n",
       "Boolean Values : True\n",
       "Boolean Values : False\n",
       "Number of integers are: 2\n",
       "Number of Floats are: 1\n",
       "numbers of strings are: 3\n",
       "numbers of booleans are: 2\n",
       "</div>"
      ]
     },
     "metadata": {
      "application/vnd.databricks.v1+output": {
       "addedWidgets": {},
       "arguments": {},
       "data": "<div class=\"ansiout\">String Values : Raj\ninteger values 35\nString Values : b\nfloat values : 45.5\nString Values : Ravi\ninteger values 60\nBoolean Values : True\nBoolean Values : False\nNumber of integers are: 2\nNumber of Floats are: 1\nnumbers of strings are: 3\nnumbers of booleans are: 2\n</div>",
       "datasetInfos": [],
       "metadata": {},
       "removedWidgets": [],
       "type": "html"
      }
     },
     "output_type": "display_data"
    }
   ],
   "source": [
    "#this code gives the numbers of integers, floats, and strings present in the list\n",
    "\n",
    "\n",
    "a= ['Raj',35,'b',45.5,'Ravi',60,True,False]\n",
    "i=f=s=b=o=0\n",
    "for j in a:\n",
    "    if type(j)==int:\n",
    "        print('integer values',j)\n",
    "        i=i+1\n",
    "    elif type(j)==float:\n",
    "        print('float values :',j)\n",
    "        f=f+1\n",
    "    elif type(j)==str:\n",
    "        print('String Values :',j)\n",
    "        s=s+1\n",
    "    elif type(j)==bool:\n",
    "        print('Boolean Values :',j)\n",
    "        b=b+1\n",
    "    else:\n",
    "        o=0+1\n",
    "print('Number of integers are:',i)\n",
    "print('Number of Floats are:',f)\n",
    "print(\"numbers of strings are:\",s)\n",
    "print(\"numbers of booleans are:\",b)"
   ]
  },
  {
   "cell_type": "markdown",
   "metadata": {
    "application/vnd.databricks.v1+cell": {
     "cellMetadata": {},
     "inputWidgets": {},
     "nuid": "ae23cea7-9f05-479e-a420-926e0533bcac",
     "showTitle": false,
     "title": ""
    }
   },
   "source": [
    "##### *args : Variable number of arguments\n",
    "*   `*`  single * for passing only parameter values.\n",
    "*   `**` for passing paramenter Name and Values we can use `**`\n",
    "* As per naming standard we will singe `*args` for only argument values  And `**kwargs` for passing argument name with values."
   ]
  },
  {
   "cell_type": "code",
   "execution_count": 0,
   "metadata": {
    "application/vnd.databricks.v1+cell": {
     "cellMetadata": {},
     "inputWidgets": {},
     "nuid": "0e659c31-498f-4cab-8ba1-0dead0c035d7",
     "showTitle": false,
     "title": ""
    }
   },
   "outputs": [
    {
     "output_type": "display_data",
     "data": {
      "text/html": [
       "<style scoped>\n",
       "  .ansiout {\n",
       "    display: block;\n",
       "    unicode-bidi: embed;\n",
       "    white-space: pre-wrap;\n",
       "    word-wrap: break-word;\n",
       "    word-break: break-all;\n",
       "    font-family: \"Menlo\", \"Monaco\", \"Consolas\", \"Ubuntu Mono\", \"Source Code Pro\", monospace;\n",
       "    font-size: 13px;\n",
       "    color: #555;\n",
       "    margin-left: 4px;\n",
       "    line-height: 19px;\n",
       "  }\n",
       "</style>\n",
       "<div class=\"ansiout\">Sum: 6\n",
       "Sum: 22\n",
       "Sum: 17\n",
       "</div>"
      ]
     },
     "metadata": {
      "application/vnd.databricks.v1+output": {
       "addedWidgets": {},
       "arguments": {},
       "data": "<div class=\"ansiout\">Sum: 6\nSum: 22\nSum: 17\n</div>",
       "datasetInfos": [],
       "metadata": {},
       "removedWidgets": [],
       "type": "html"
      }
     },
     "output_type": "display_data"
    }
   ],
   "source": [
    "def adder(*onlyvalue):\n",
    "    sum = 0\n",
    "    \n",
    "    for n in onlyvalue:\n",
    "        sum = sum + n\n",
    "\n",
    "    print(\"Sum:\",sum)\n",
    "\n",
    "adder(1,2,3)\n",
    "adder(4,5,6,7)\n",
    "adder(1,2,3,5,6)"
   ]
  },
  {
   "cell_type": "markdown",
   "metadata": {
    "application/vnd.databricks.v1+cell": {
     "cellMetadata": {},
     "inputWidgets": {},
     "nuid": "e4a1306e-af67-4412-884a-31fbff55251a",
     "showTitle": false,
     "title": ""
    }
   },
   "source": [
    "##### Variable number of arguments with `keys` And `Values`\n",
    "*  `**` for passing variable Name with Values."
   ]
  },
  {
   "cell_type": "code",
   "execution_count": 0,
   "metadata": {
    "application/vnd.databricks.v1+cell": {
     "cellMetadata": {},
     "inputWidgets": {},
     "nuid": "4b0537f9-17b3-4e06-8569-e01302a17bf6",
     "showTitle": false,
     "title": ""
    }
   },
   "outputs": [
    {
     "output_type": "display_data",
     "data": {
      "text/html": [
       "<style scoped>\n",
       "  .ansiout {\n",
       "    display: block;\n",
       "    unicode-bidi: embed;\n",
       "    white-space: pre-wrap;\n",
       "    word-wrap: break-word;\n",
       "    word-break: break-all;\n",
       "    font-family: \"Menlo\", \"Monaco\", \"Consolas\", \"Ubuntu Mono\", \"Source Code Pro\", monospace;\n",
       "    font-size: 13px;\n",
       "    color: #555;\n",
       "    margin-left: 4px;\n",
       "    line-height: 19px;\n",
       "  }\n",
       "</style>\n",
       "<div class=\"ansiout\">Variable Name : a And Variable Value is :1  \n",
       "Variable Name : b And Variable Value is :2  \n",
       "Variable Name : c And Variable Value is :3  \n",
       "</div>"
      ]
     },
     "metadata": {
      "application/vnd.databricks.v1+output": {
       "addedWidgets": {},
       "arguments": {},
       "data": "<div class=\"ansiout\">Variable Name : a And Variable Value is :1  \nVariable Name : b And Variable Value is :2  \nVariable Name : c And Variable Value is :3  \n</div>",
       "datasetInfos": [],
       "metadata": {},
       "removedWidgets": [],
       "type": "html"
      }
     },
     "output_type": "display_data"
    }
   ],
   "source": [
    "def adder(**key_value):\n",
    "    \n",
    "    for k,v in key_value.items():\n",
    "      print(\"Variable Name : {0} And Variable Value is :{1}  \".format(k,v))\n",
    "\n",
    "adder(a=1,b=2,c=3) "
   ]
  },
  {
   "cell_type": "markdown",
   "metadata": {
    "application/vnd.databricks.v1+cell": {
     "cellMetadata": {},
     "inputWidgets": {},
     "nuid": "96186f7b-9814-4b5a-9a22-d38d8b82341a",
     "showTitle": false,
     "title": ""
    }
   },
   "source": [
    "#### 1. Python program to add two numbers"
   ]
  },
  {
   "cell_type": "code",
   "execution_count": 0,
   "metadata": {
    "application/vnd.databricks.v1+cell": {
     "cellMetadata": {},
     "inputWidgets": {},
     "nuid": "046b292d-59af-48fc-8114-adffa4861702",
     "showTitle": false,
     "title": ""
    }
   },
   "outputs": [
    {
     "output_type": "display_data",
     "data": {
      "text/html": [
       "<style scoped>\n",
       "  .ansiout {\n",
       "    display: block;\n",
       "    unicode-bidi: embed;\n",
       "    white-space: pre-wrap;\n",
       "    word-wrap: break-word;\n",
       "    word-break: break-all;\n",
       "    font-family: \"Menlo\", \"Monaco\", \"Consolas\", \"Ubuntu Mono\", \"Source Code Pro\", monospace;\n",
       "    font-size: 13px;\n",
       "    color: #555;\n",
       "    margin-left: 4px;\n",
       "    line-height: 19px;\n",
       "  }\n",
       "</style>\n",
       "<div class=\"ansiout\">Sum of 5 and 6 is 11\n",
       "</div>"
      ]
     },
     "metadata": {
      "application/vnd.databricks.v1+output": {
       "addedWidgets": {},
       "arguments": {},
       "data": "<div class=\"ansiout\">Sum of 5 and 6 is 11\n</div>",
       "datasetInfos": [],
       "metadata": {},
       "removedWidgets": [],
       "type": "html"
      }
     },
     "output_type": "display_data"
    }
   ],
   "source": [
    "#Creating function with arguments\n",
    "def sum_of(a,b):\n",
    "  sum = a + b\n",
    "  print(\"Sum of {} and {} is {}\". format(a, b, sum))\n",
    "\n",
    "# Calling a function with parameters\n",
    "sum_of(5,6)"
   ]
  },
  {
   "cell_type": "markdown",
   "metadata": {
    "application/vnd.databricks.v1+cell": {
     "cellMetadata": {},
     "inputWidgets": {},
     "nuid": "f6c0904e-1f63-4315-8dac-2fc89c08650b",
     "showTitle": false,
     "title": ""
    }
   },
   "source": [
    "#### 2. Python Program for factorial of a number\n"
   ]
  },
  {
   "cell_type": "code",
   "execution_count": 0,
   "metadata": {
    "application/vnd.databricks.v1+cell": {
     "cellMetadata": {},
     "inputWidgets": {},
     "nuid": "ed593c97-0ff1-46aa-9e6e-e1e8d7c92c5b",
     "showTitle": false,
     "title": ""
    }
   },
   "outputs": [
    {
     "output_type": "display_data",
     "data": {
      "text/html": [
       "<style scoped>\n",
       "  .ansiout {\n",
       "    display: block;\n",
       "    unicode-bidi: embed;\n",
       "    white-space: pre-wrap;\n",
       "    word-wrap: break-word;\n",
       "    word-break: break-all;\n",
       "    font-family: \"Menlo\", \"Monaco\", \"Consolas\", \"Ubuntu Mono\", \"Source Code Pro\", monospace;\n",
       "    font-size: 13px;\n",
       "    color: #555;\n",
       "    margin-left: 4px;\n",
       "    line-height: 19px;\n",
       "  }\n",
       "</style>\n",
       "<div class=\"ansiout\">Fact of 10 is : 3628800\n",
       "</div>"
      ]
     },
     "metadata": {
      "application/vnd.databricks.v1+output": {
       "addedWidgets": {},
       "arguments": {},
       "data": "<div class=\"ansiout\">Fact of 10 is : 3628800\n</div>",
       "datasetInfos": [],
       "metadata": {},
       "removedWidgets": [],
       "type": "html"
      }
     },
     "output_type": "display_data"
    }
   ],
   "source": [
    "num = 10\n",
    "\n",
    "def fact(n):\n",
    "  \"\"\"\n",
    "  Python Program for factorial of a number\n",
    "  Arguemnts:\n",
    "  n : any number to generate Factorial\n",
    "  \"\"\"\n",
    "  if n < 0: \n",
    "    return 0\n",
    "  elif n == 0 or n == 1:\n",
    "    return 1\n",
    "  else:\n",
    "    fact = 1\n",
    "    while(n > 1):\n",
    "      fact = fact * n\n",
    "      n = n -1\n",
    "    return fact\n",
    "  \n",
    "print(\"Fact of\", num, \"is :\", fact(num))"
   ]
  },
  {
   "cell_type": "markdown",
   "metadata": {
    "application/vnd.databricks.v1+cell": {
     "cellMetadata": {},
     "inputWidgets": {},
     "nuid": "3955b686-bdb0-4701-8dc0-4a07389e2864",
     "showTitle": false,
     "title": ""
    }
   },
   "source": [
    "#### 3. Python Program for simple interest"
   ]
  },
  {
   "cell_type": "code",
   "execution_count": 0,
   "metadata": {
    "application/vnd.databricks.v1+cell": {
     "cellMetadata": {},
     "inputWidgets": {},
     "nuid": "574fc6d2-c43c-41f1-99a9-200791215668",
     "showTitle": false,
     "title": ""
    }
   },
   "outputs": [
    {
     "output_type": "display_data",
     "data": {
      "text/html": [
       "<style scoped>\n",
       "  .ansiout {\n",
       "    display: block;\n",
       "    unicode-bidi: embed;\n",
       "    white-space: pre-wrap;\n",
       "    word-wrap: break-word;\n",
       "    word-break: break-all;\n",
       "    font-family: \"Menlo\", \"Monaco\", \"Consolas\", \"Ubuntu Mono\", \"Source Code Pro\", monospace;\n",
       "    font-size: 13px;\n",
       "    color: #555;\n",
       "    margin-left: 4px;\n",
       "    line-height: 19px;\n",
       "  }\n",
       "</style>\n",
       "<div class=\"ansiout\"></div>"
      ]
     },
     "metadata": {
      "application/vnd.databricks.v1+output": {
       "addedWidgets": {},
       "arguments": {},
       "data": "<div class=\"ansiout\"></div>",
       "datasetInfos": [],
       "metadata": {},
       "removedWidgets": [],
       "type": "html"
      }
     },
     "output_type": "display_data"
    }
   ],
   "source": [
    "\n",
    "\n",
    "# SI = (P * R * T) / 100\n",
    "def simple_interest(P, R, T):\n",
    "    print(\"The principal amount is:\", P)\n",
    "    print(\"The rate of interest is:\", R)\n",
    "    print(\"The time in years is:\", T)\n",
    "    \n",
    "    SI = (P * R * T)/100\n",
    "    \n",
    "    print(\"Simple Interest is :\", SI)\n",
    "    return SI\n"
   ]
  },
  {
   "cell_type": "code",
   "execution_count": 0,
   "metadata": {
    "application/vnd.databricks.v1+cell": {
     "cellMetadata": {},
     "inputWidgets": {},
     "nuid": "1c2dc415-5dd9-44fa-bf69-67eef30734cc",
     "showTitle": false,
     "title": ""
    }
   },
   "outputs": [
    {
     "output_type": "display_data",
     "data": {
      "text/html": [
       "<style scoped>\n",
       "  .ansiout {\n",
       "    display: block;\n",
       "    unicode-bidi: embed;\n",
       "    white-space: pre-wrap;\n",
       "    word-wrap: break-word;\n",
       "    word-break: break-all;\n",
       "    font-family: \"Menlo\", \"Monaco\", \"Consolas\", \"Ubuntu Mono\", \"Source Code Pro\", monospace;\n",
       "    font-size: 13px;\n",
       "    color: #555;\n",
       "    margin-left: 4px;\n",
       "    line-height: 19px;\n",
       "  }\n",
       "</style>\n",
       "<div class=\"ansiout\">The principal amount is: 10000\n",
       "The rate of interest is: 8.0\n",
       "The time in years is: 12\n",
       "Simple Interest is : 9600.0\n",
       "Out[199]: 9600.0</div>"
      ]
     },
     "metadata": {
      "application/vnd.databricks.v1+output": {
       "addedWidgets": {},
       "arguments": {},
       "data": "<div class=\"ansiout\">The principal amount is: 10000\nThe rate of interest is: 8.0\nThe time in years is: 12\nSimple Interest is : 9600.0\nOut[199]: 9600.0</div>",
       "datasetInfos": [],
       "metadata": {},
       "removedWidgets": [],
       "type": "html"
      }
     },
     "output_type": "display_data"
    }
   ],
   "source": [
    "simple_interest(10000, 8.0, 12)"
   ]
  },
  {
   "cell_type": "markdown",
   "metadata": {
    "application/vnd.databricks.v1+cell": {
     "cellMetadata": {},
     "inputWidgets": {},
     "nuid": "e6d06983-5826-4949-bac3-c34e357f5824",
     "showTitle": false,
     "title": ""
    }
   },
   "source": [
    "#### 4. Python Program for compound interest\n"
   ]
  },
  {
   "cell_type": "code",
   "execution_count": 0,
   "metadata": {
    "application/vnd.databricks.v1+cell": {
     "cellMetadata": {},
     "inputWidgets": {},
     "nuid": "56ffd965-3daf-4b83-a790-03fa953fe85f",
     "showTitle": false,
     "title": ""
    }
   },
   "outputs": [
    {
     "output_type": "display_data",
     "data": {
      "text/html": [
       "<style scoped>\n",
       "  .ansiout {\n",
       "    display: block;\n",
       "    unicode-bidi: embed;\n",
       "    white-space: pre-wrap;\n",
       "    word-wrap: break-word;\n",
       "    word-break: break-all;\n",
       "    font-family: \"Menlo\", \"Monaco\", \"Consolas\", \"Ubuntu Mono\", \"Source Code Pro\", monospace;\n",
       "    font-size: 13px;\n",
       "    color: #555;\n",
       "    margin-left: 4px;\n",
       "    line-height: 19px;\n",
       "  }\n",
       "</style>\n",
       "<div class=\"ansiout\">Principal amount =  10000\n",
       "Rate of interest =  10.25\n",
       "Time duration in years =  5\n",
       "Compound Interest =  6288.946267774416\n",
       "</div>"
      ]
     },
     "metadata": {
      "application/vnd.databricks.v1+output": {
       "addedWidgets": {},
       "arguments": {},
       "data": "<div class=\"ansiout\">Principal amount =  10000\nRate of interest =  10.25\nTime duration in years =  5\nCompound Interest =  6288.946267774416\n</div>",
       "datasetInfos": [],
       "metadata": {},
       "removedWidgets": [],
       "type": "html"
      }
     },
     "output_type": "display_data"
    }
   ],
   "source": [
    "\n",
    "def amount(p, r, t):\n",
    "    print(\"Principal amount = \", p)\n",
    "    print(\"Rate of interest = \", r)\n",
    "    print(\"Time duration in years = \", t)\n",
    "    \n",
    "    A = p * (pow((1 + r/100), t))\n",
    "    \n",
    "    Compound_Interest = A - p\n",
    "    print(\"Compound Interest = \", Compound_Interest)\n",
    "    \n",
    "amount(10000, 10.25, 5)"
   ]
  },
  {
   "cell_type": "markdown",
   "metadata": {
    "application/vnd.databricks.v1+cell": {
     "cellMetadata": {},
     "inputWidgets": {},
     "nuid": "9fe25387-e31c-493c-9de5-68de4f899a16",
     "showTitle": false,
     "title": ""
    }
   },
   "source": [
    "#### 5. Python Program to check Armstrong Number\n"
   ]
  },
  {
   "cell_type": "code",
   "execution_count": 0,
   "metadata": {
    "application/vnd.databricks.v1+cell": {
     "cellMetadata": {},
     "inputWidgets": {},
     "nuid": "e09723ce-d358-49e6-9d89-256af1e1c9af",
     "showTitle": false,
     "title": ""
    }
   },
   "outputs": [
    {
     "output_type": "display_data",
     "data": {
      "text/html": [
       "<style scoped>\n",
       "  .ansiout {\n",
       "    display: block;\n",
       "    unicode-bidi: embed;\n",
       "    white-space: pre-wrap;\n",
       "    word-wrap: break-word;\n",
       "    word-break: break-all;\n",
       "    font-family: \"Menlo\", \"Monaco\", \"Consolas\", \"Ubuntu Mono\", \"Source Code Pro\", monospace;\n",
       "    font-size: 13px;\n",
       "    color: #555;\n",
       "    margin-left: 4px;\n",
       "    line-height: 19px;\n",
       "  }\n",
       "</style>\n",
       "<div class=\"ansiout\">153 is an Armstrong number.\n",
       "</div>"
      ]
     },
     "metadata": {
      "application/vnd.databricks.v1+output": {
       "addedWidgets": {},
       "arguments": {},
       "data": "<div class=\"ansiout\">153 is an Armstrong number.\n</div>",
       "datasetInfos": [],
       "metadata": {},
       "removedWidgets": [],
       "type": "html"
      }
     },
     "output_type": "display_data"
    }
   ],
   "source": [
    "\n",
    "## 153 is an Armstrong number.\n",
    "## 1*1*1 + 5*5*5 + 3*3*3 = 153\n",
    "\n",
    "## 1253 is not a Armstrong Number\n",
    "## 1*1*1*1 + 2*2*2*2 + 5*5*5*5 + 3*3*3*3 = 723\n",
    "\n",
    "# taking input from user\n",
    "num = 153\n",
    "\n",
    "#to make it suitable for all cases.\n",
    "order = len(str(num))\n",
    "\n",
    "# initialise the sum to be 0\n",
    "sum = 0\n",
    "\n",
    "# declare a temp variable equal to num\n",
    "temp = num\n",
    "\n",
    "while(temp > 0):\n",
    "    digit = temp % 10\n",
    "    sum = sum + (digit)**order\n",
    "    temp = temp // 10\n",
    "    \n",
    "if num == sum:\n",
    "    print(\"{} is an Armstrong number.\".format(num))\n",
    "\n",
    "else:\n",
    "    print(\"{} is not an Armstrong number.\".format(num))"
   ]
  },
  {
   "cell_type": "markdown",
   "metadata": {
    "application/vnd.databricks.v1+cell": {
     "cellMetadata": {},
     "inputWidgets": {},
     "nuid": "1fea5a27-4914-451c-bc75-063eb768437b",
     "showTitle": false,
     "title": ""
    }
   },
   "source": [
    "#### 6. Python Program to find area of a circle\n"
   ]
  },
  {
   "cell_type": "code",
   "execution_count": 0,
   "metadata": {
    "application/vnd.databricks.v1+cell": {
     "cellMetadata": {},
     "inputWidgets": {},
     "nuid": "2fcb8265-894e-447e-aad0-0b799c584a9a",
     "showTitle": false,
     "title": ""
    }
   },
   "outputs": [
    {
     "output_type": "display_data",
     "data": {
      "text/html": [
       "<style scoped>\n",
       "  .ansiout {\n",
       "    display: block;\n",
       "    unicode-bidi: embed;\n",
       "    white-space: pre-wrap;\n",
       "    word-wrap: break-word;\n",
       "    word-break: break-all;\n",
       "    font-family: \"Menlo\", \"Monaco\", \"Consolas\", \"Ubuntu Mono\", \"Source Code Pro\", monospace;\n",
       "    font-size: 13px;\n",
       "    color: #555;\n",
       "    margin-left: 4px;\n",
       "    line-height: 19px;\n",
       "  }\n",
       "</style>\n",
       "<div class=\"ansiout\">Area of circle :  9498.5\n",
       "</div>"
      ]
     },
     "metadata": {
      "application/vnd.databricks.v1+output": {
       "addedWidgets": {},
       "arguments": {},
       "data": "<div class=\"ansiout\">Area of circle :  9498.5\n</div>",
       "datasetInfos": [],
       "metadata": {},
       "removedWidgets": [],
       "type": "html"
      }
     },
     "output_type": "display_data"
    }
   ],
   "source": [
    "\n",
    "# Area of circle = pi * r**2\n",
    "\n",
    "def area_of_circle(r):\n",
    "    pi = 3.14\n",
    "    area = pi*(r)**2\n",
    "    return area\n",
    "\n",
    "radius = 55\n",
    "print(\"Area of circle : \", area_of_circle(radius))\n"
   ]
  },
  {
   "cell_type": "markdown",
   "metadata": {
    "application/vnd.databricks.v1+cell": {
     "cellMetadata": {},
     "inputWidgets": {},
     "nuid": "8396dac3-b3a5-4997-882e-326448f1dd0d",
     "showTitle": false,
     "title": ""
    }
   },
   "source": [
    "#### 7. Python program to print all Prime numbers in an Interval\n"
   ]
  },
  {
   "cell_type": "code",
   "execution_count": 0,
   "metadata": {
    "application/vnd.databricks.v1+cell": {
     "cellMetadata": {},
     "inputWidgets": {},
     "nuid": "2e75cfc3-06fe-4c10-bee8-6c43becf5bb8",
     "showTitle": false,
     "title": ""
    }
   },
   "outputs": [
    {
     "output_type": "display_data",
     "data": {
      "text/html": [
       "<style scoped>\n",
       "  .ansiout {\n",
       "    display: block;\n",
       "    unicode-bidi: embed;\n",
       "    white-space: pre-wrap;\n",
       "    word-wrap: break-word;\n",
       "    word-break: break-all;\n",
       "    font-family: \"Menlo\", \"Monaco\", \"Consolas\", \"Ubuntu Mono\", \"Source Code Pro\", monospace;\n",
       "    font-size: 13px;\n",
       "    color: #555;\n",
       "    margin-left: 4px;\n",
       "    line-height: 19px;\n",
       "  }\n",
       "</style>\n",
       "<div class=\"ansiout\"></div>"
      ]
     },
     "metadata": {
      "application/vnd.databricks.v1+output": {
       "addedWidgets": {},
       "arguments": {},
       "data": "<div class=\"ansiout\"></div>",
       "datasetInfos": [],
       "metadata": {},
       "removedWidgets": [],
       "type": "html"
      }
     },
     "output_type": "display_data"
    }
   ],
   "source": [
    "\n",
    "# Given two positive integer start and end. The task is to write a Python program to\n",
    "# print all Prime numbers in an Interval.\n",
    "\n",
    "def find_prime_numbers(a, b):\n",
    "    for num in range(a, b+1):\n",
    "        if num > 1:\n",
    "            for i in range(2, num):\n",
    "                if (num % i) == 0:\n",
    "                    break\n",
    "            else:\n",
    "                print(\"{} is a prime number.\".format(num))\n",
    "\n"
   ]
  },
  {
   "cell_type": "markdown",
   "metadata": {
    "application/vnd.databricks.v1+cell": {
     "cellMetadata": {},
     "inputWidgets": {},
     "nuid": "26b98fcf-cb73-406f-a654-6b4a89926cf8",
     "showTitle": false,
     "title": ""
    }
   },
   "source": [
    "#### 8. Python program to check whether a number is Prime or not\n"
   ]
  },
  {
   "cell_type": "code",
   "execution_count": 0,
   "metadata": {
    "application/vnd.databricks.v1+cell": {
     "cellMetadata": {},
     "inputWidgets": {},
     "nuid": "515b2950-837a-4ba6-ab76-a541eb6daeb2",
     "showTitle": false,
     "title": ""
    }
   },
   "outputs": [
    {
     "output_type": "display_data",
     "data": {
      "text/html": [
       "<style scoped>\n",
       "  .ansiout {\n",
       "    display: block;\n",
       "    unicode-bidi: embed;\n",
       "    white-space: pre-wrap;\n",
       "    word-wrap: break-word;\n",
       "    word-break: break-all;\n",
       "    font-family: \"Menlo\", \"Monaco\", \"Consolas\", \"Ubuntu Mono\", \"Source Code Pro\", monospace;\n",
       "    font-size: 13px;\n",
       "    color: #555;\n",
       "    margin-left: 4px;\n",
       "    line-height: 19px;\n",
       "  }\n",
       "</style>\n",
       "<div class=\"ansiout\"></div>"
      ]
     },
     "metadata": {
      "application/vnd.databricks.v1+output": {
       "addedWidgets": {},
       "arguments": {},
       "data": "<div class=\"ansiout\"></div>",
       "datasetInfos": [],
       "metadata": {},
       "removedWidgets": [],
       "type": "html"
      }
     },
     "output_type": "display_data"
    }
   ],
   "source": [
    "\n",
    "def check_prime_number(num):\n",
    "    if num > 1:\n",
    "        for i in range(2, num):\n",
    "            if (num % i) == 0:\n",
    "                print(\"{} is not a prime number.\".format(num))\n",
    "                break\n",
    "        else:\n",
    "            print(\"{} is a prime number.\".format(num))\n",
    "    else:\n",
    "        print(\"{} is not a prime number.\".fromat(num))\n",
    "\n"
   ]
  },
  {
   "cell_type": "code",
   "execution_count": 0,
   "metadata": {
    "application/vnd.databricks.v1+cell": {
     "cellMetadata": {},
     "inputWidgets": {},
     "nuid": "d5b7510e-bfe7-44de-b372-640b789e3065",
     "showTitle": false,
     "title": ""
    }
   },
   "outputs": [
    {
     "output_type": "display_data",
     "data": {
      "text/html": [
       "<style scoped>\n",
       "  .ansiout {\n",
       "    display: block;\n",
       "    unicode-bidi: embed;\n",
       "    white-space: pre-wrap;\n",
       "    word-wrap: break-word;\n",
       "    word-break: break-all;\n",
       "    font-family: \"Menlo\", \"Monaco\", \"Consolas\", \"Ubuntu Mono\", \"Source Code Pro\", monospace;\n",
       "    font-size: 13px;\n",
       "    color: #555;\n",
       "    margin-left: 4px;\n",
       "    line-height: 19px;\n",
       "  }\n",
       "</style>\n",
       "<div class=\"ansiout\">7 is a prime number.\n",
       "</div>"
      ]
     },
     "metadata": {
      "application/vnd.databricks.v1+output": {
       "addedWidgets": {},
       "arguments": {},
       "data": "<div class=\"ansiout\">7 is a prime number.\n</div>",
       "datasetInfos": [],
       "metadata": {},
       "removedWidgets": [],
       "type": "html"
      }
     },
     "output_type": "display_data"
    }
   ],
   "source": [
    "check_prime_number(7)"
   ]
  },
  {
   "cell_type": "markdown",
   "metadata": {
    "application/vnd.databricks.v1+cell": {
     "cellMetadata": {},
     "inputWidgets": {},
     "nuid": "a368698c-a2cf-4cfb-bbf5-5165f9a4d289",
     "showTitle": false,
     "title": ""
    }
   },
   "source": [
    "#### 9. Python Program for n-th Fibonacci number\n"
   ]
  },
  {
   "cell_type": "code",
   "execution_count": 0,
   "metadata": {
    "application/vnd.databricks.v1+cell": {
     "cellMetadata": {},
     "inputWidgets": {},
     "nuid": "ff6206b7-a400-4c43-a2c4-f0c07cd5d6c8",
     "showTitle": false,
     "title": ""
    }
   },
   "outputs": [
    {
     "output_type": "display_data",
     "data": {
      "text/html": [
       "<style scoped>\n",
       "  .ansiout {\n",
       "    display: block;\n",
       "    unicode-bidi: embed;\n",
       "    white-space: pre-wrap;\n",
       "    word-wrap: break-word;\n",
       "    word-break: break-all;\n",
       "    font-family: \"Menlo\", \"Monaco\", \"Consolas\", \"Ubuntu Mono\", \"Source Code Pro\", monospace;\n",
       "    font-size: 13px;\n",
       "    color: #555;\n",
       "    margin-left: 4px;\n",
       "    line-height: 19px;\n",
       "  }\n",
       "</style>\n",
       "<div class=\"ansiout\">0\n",
       "1\n",
       "1\n",
       "2\n",
       "3\n",
       "5\n",
       "8\n",
       "13\n",
       "21\n",
       "34\n",
       "55\n",
       "89\n",
       "144\n",
       "233\n",
       "377\n",
       "610\n",
       "987\n",
       "1597\n",
       "2584\n",
       "4181\n",
       "6765\n",
       "10946\n",
       "17711\n",
       "28657\n",
       "46368\n",
       "75025\n",
       "121393\n",
       "196418\n",
       "317811\n",
       "514229\n",
       "832040\n",
       "1346269\n",
       "2178309\n",
       "3524578\n",
       "5702887\n",
       "9227465\n",
       "14930352\n",
       "24157817\n",
       "39088169\n",
       "63245986\n",
       "102334155\n",
       "165580141\n",
       "267914296\n",
       "433494437\n",
       "701408733\n",
       "1134903170\n",
       "1836311903\n",
       "2971215073\n",
       "4807526976\n",
       "7778742049\n",
       "12586269025\n",
       "20365011074\n",
       "32951280099\n",
       "53316291173\n",
       "86267571272\n",
       "</div>"
      ]
     },
     "metadata": {
      "application/vnd.databricks.v1+output": {
       "addedWidgets": {},
       "arguments": {},
       "data": "<div class=\"ansiout\">0\n1\n1\n2\n3\n5\n8\n13\n21\n34\n55\n89\n144\n233\n377\n610\n987\n1597\n2584\n4181\n6765\n10946\n17711\n28657\n46368\n75025\n121393\n196418\n317811\n514229\n832040\n1346269\n2178309\n3524578\n5702887\n9227465\n14930352\n24157817\n39088169\n63245986\n102334155\n165580141\n267914296\n433494437\n701408733\n1134903170\n1836311903\n2971215073\n4807526976\n7778742049\n12586269025\n20365011074\n32951280099\n53316291173\n86267571272\n</div>",
       "datasetInfos": [],
       "metadata": {},
       "removedWidgets": [],
       "type": "html"
      }
     },
     "output_type": "display_data"
    }
   ],
   "source": [
    "\n",
    "def fibonacci(num):\n",
    "    n1, n2 = 0, 1\n",
    "    count = 0\n",
    "    \n",
    "    if num <= 0:\n",
    "        print(\"Enter a positive integer.\")\n",
    "    elif num == 1:\n",
    "        print(\"Fibonacci series is : \", n1)\n",
    "    else:\n",
    "        while count < num:\n",
    "            print(n1)\n",
    "            # swapping values\n",
    "            nth = n1 + n2\n",
    "            n1 = n2\n",
    "            n2 = nth\n",
    "            count += 1\n",
    "\n",
    "num = 55\n",
    "fibonacci(num)  "
   ]
  },
  {
   "cell_type": "markdown",
   "metadata": {
    "application/vnd.databricks.v1+cell": {
     "cellMetadata": {},
     "inputWidgets": {},
     "nuid": "28f64b39-c60e-4f82-bd60-bf51a45e4a54",
     "showTitle": false,
     "title": ""
    }
   },
   "source": [
    "#### 10. Python Program for Fibonacci numbers\n"
   ]
  },
  {
   "cell_type": "code",
   "execution_count": 0,
   "metadata": {
    "application/vnd.databricks.v1+cell": {
     "cellMetadata": {},
     "inputWidgets": {},
     "nuid": "2c918f80-c1e7-44f5-bc6f-da576c95f3e0",
     "showTitle": false,
     "title": ""
    }
   },
   "outputs": [
    {
     "output_type": "display_data",
     "data": {
      "text/html": [
       "<style scoped>\n",
       "  .ansiout {\n",
       "    display: block;\n",
       "    unicode-bidi: embed;\n",
       "    white-space: pre-wrap;\n",
       "    word-wrap: break-word;\n",
       "    word-break: break-all;\n",
       "    font-family: \"Menlo\", \"Monaco\", \"Consolas\", \"Ubuntu Mono\", \"Source Code Pro\", monospace;\n",
       "    font-size: 13px;\n",
       "    color: #555;\n",
       "    margin-left: 4px;\n",
       "    line-height: 19px;\n",
       "  }\n",
       "</style>\n",
       "<div class=\"ansiout\">66 th term of fibonacci series is : 17167680177565\n",
       "</div>"
      ]
     },
     "metadata": {
      "application/vnd.databricks.v1+output": {
       "addedWidgets": {},
       "arguments": {},
       "data": "<div class=\"ansiout\">66 th term of fibonacci series is : 17167680177565\n</div>",
       "datasetInfos": [],
       "metadata": {},
       "removedWidgets": [],
       "type": "html"
      }
     },
     "output_type": "display_data"
    }
   ],
   "source": [
    "# Find the nth term of fibonacci series.\n",
    "\n",
    "def sum_fibonacci(num):\n",
    "    n1, n2 = 0, 1\n",
    "    count = 0\n",
    "    \n",
    "    if num <= 0:\n",
    "        print(\"Please enter a positive integer value.\")\n",
    "    elif num == 1:\n",
    "        print(\"Nth term of fibanacci series is:\", n1)\n",
    "    else:\n",
    "        for i in range(num-2):\n",
    "            new_fib = n1 + n2\n",
    "            n1 = n2\n",
    "            n2 = new_fib\n",
    "        print(num,\"th term of fibonacci series is :\", n2)\n",
    "        \n",
    "num = 66\n",
    "sum_fibonacci(num)"
   ]
  },
  {
   "cell_type": "markdown",
   "metadata": {
    "application/vnd.databricks.v1+cell": {
     "cellMetadata": {},
     "inputWidgets": {},
     "nuid": "457a1807-694c-4482-9010-451e37269257",
     "showTitle": false,
     "title": ""
    }
   },
   "source": [
    "##### 11. Python Program to check if a given number is Fibonacci number? \n"
   ]
  },
  {
   "cell_type": "code",
   "execution_count": 0,
   "metadata": {
    "application/vnd.databricks.v1+cell": {
     "cellMetadata": {},
     "inputWidgets": {},
     "nuid": "4d4f8eda-326d-4455-9fc6-c26edf9a4849",
     "showTitle": false,
     "title": ""
    }
   },
   "outputs": [
    {
     "output_type": "display_data",
     "data": {
      "text/html": [
       "<style scoped>\n",
       "  .ansiout {\n",
       "    display: block;\n",
       "    unicode-bidi: embed;\n",
       "    white-space: pre-wrap;\n",
       "    word-wrap: break-word;\n",
       "    word-break: break-all;\n",
       "    font-family: \"Menlo\", \"Monaco\", \"Consolas\", \"Ubuntu Mono\", \"Source Code Pro\", monospace;\n",
       "    font-size: 13px;\n",
       "    color: #555;\n",
       "    margin-left: 4px;\n",
       "    line-height: 19px;\n",
       "  }\n",
       "</style>\n",
       "<div class=\"ansiout\">1 is a fibonacci number.\n",
       "2 is a fibonacci number.\n",
       "3 is a fibonacci number.\n",
       "4 is not a fibonacci number.\n",
       "5 is a fibonacci number.\n",
       "6 is not a fibonacci number.\n",
       "7 is not a fibonacci number.\n",
       "8 is a fibonacci number.\n",
       "9 is not a fibonacci number.\n",
       "10 is not a fibonacci number.\n",
       "11 is not a fibonacci number.\n",
       "12 is not a fibonacci number.\n",
       "13 is a fibonacci number.\n",
       "14 is not a fibonacci number.\n",
       "15 is not a fibonacci number.\n",
       "16 is not a fibonacci number.\n",
       "17 is not a fibonacci number.\n",
       "18 is not a fibonacci number.\n",
       "19 is not a fibonacci number.\n",
       "20 is not a fibonacci number.\n",
       "21 is a fibonacci number.\n",
       "22 is not a fibonacci number.\n",
       "23 is not a fibonacci number.\n",
       "24 is not a fibonacci number.\n",
       "25 is not a fibonacci number.\n",
       "26 is not a fibonacci number.\n",
       "27 is not a fibonacci number.\n",
       "28 is not a fibonacci number.\n",
       "29 is not a fibonacci number.\n",
       "30 is not a fibonacci number.\n",
       "31 is not a fibonacci number.\n",
       "32 is not a fibonacci number.\n",
       "33 is not a fibonacci number.\n",
       "34 is a fibonacci number.\n",
       "35 is not a fibonacci number.\n",
       "36 is not a fibonacci number.\n",
       "37 is not a fibonacci number.\n",
       "38 is not a fibonacci number.\n",
       "39 is not a fibonacci number.\n",
       "40 is not a fibonacci number.\n",
       "41 is not a fibonacci number.\n",
       "42 is not a fibonacci number.\n",
       "43 is not a fibonacci number.\n",
       "44 is not a fibonacci number.\n",
       "45 is not a fibonacci number.\n",
       "46 is not a fibonacci number.\n",
       "47 is not a fibonacci number.\n",
       "48 is not a fibonacci number.\n",
       "49 is not a fibonacci number.\n",
       "50 is not a fibonacci number.\n",
       "51 is not a fibonacci number.\n",
       "52 is not a fibonacci number.\n",
       "53 is not a fibonacci number.\n",
       "54 is not a fibonacci number.\n",
       "55 is a fibonacci number.\n",
       "56 is not a fibonacci number.\n",
       "57 is not a fibonacci number.\n",
       "58 is not a fibonacci number.\n",
       "59 is not a fibonacci number.\n",
       "60 is not a fibonacci number.\n",
       "61 is not a fibonacci number.\n",
       "62 is not a fibonacci number.\n",
       "63 is not a fibonacci number.\n",
       "64 is not a fibonacci number.\n",
       "65 is not a fibonacci number.\n",
       "66 is not a fibonacci number.\n",
       "67 is not a fibonacci number.\n",
       "68 is not a fibonacci number.\n",
       "69 is not a fibonacci number.\n",
       "70 is not a fibonacci number.\n",
       "71 is not a fibonacci number.\n",
       "72 is not a fibonacci number.\n",
       "73 is not a fibonacci number.\n",
       "74 is not a fibonacci number.\n",
       "75 is not a fibonacci number.\n",
       "76 is not a fibonacci number.\n",
       "77 is not a fibonacci number.\n",
       "</div>"
      ]
     },
     "metadata": {
      "application/vnd.databricks.v1+output": {
       "addedWidgets": {},
       "arguments": {},
       "data": "<div class=\"ansiout\">1 is a fibonacci number.\n2 is a fibonacci number.\n3 is a fibonacci number.\n4 is not a fibonacci number.\n5 is a fibonacci number.\n6 is not a fibonacci number.\n7 is not a fibonacci number.\n8 is a fibonacci number.\n9 is not a fibonacci number.\n10 is not a fibonacci number.\n11 is not a fibonacci number.\n12 is not a fibonacci number.\n13 is a fibonacci number.\n14 is not a fibonacci number.\n15 is not a fibonacci number.\n16 is not a fibonacci number.\n17 is not a fibonacci number.\n18 is not a fibonacci number.\n19 is not a fibonacci number.\n20 is not a fibonacci number.\n21 is a fibonacci number.\n22 is not a fibonacci number.\n23 is not a fibonacci number.\n24 is not a fibonacci number.\n25 is not a fibonacci number.\n26 is not a fibonacci number.\n27 is not a fibonacci number.\n28 is not a fibonacci number.\n29 is not a fibonacci number.\n30 is not a fibonacci number.\n31 is not a fibonacci number.\n32 is not a fibonacci number.\n33 is not a fibonacci number.\n34 is a fibonacci number.\n35 is not a fibonacci number.\n36 is not a fibonacci number.\n37 is not a fibonacci number.\n38 is not a fibonacci number.\n39 is not a fibonacci number.\n40 is not a fibonacci number.\n41 is not a fibonacci number.\n42 is not a fibonacci number.\n43 is not a fibonacci number.\n44 is not a fibonacci number.\n45 is not a fibonacci number.\n46 is not a fibonacci number.\n47 is not a fibonacci number.\n48 is not a fibonacci number.\n49 is not a fibonacci number.\n50 is not a fibonacci number.\n51 is not a fibonacci number.\n52 is not a fibonacci number.\n53 is not a fibonacci number.\n54 is not a fibonacci number.\n55 is a fibonacci number.\n56 is not a fibonacci number.\n57 is not a fibonacci number.\n58 is not a fibonacci number.\n59 is not a fibonacci number.\n60 is not a fibonacci number.\n61 is not a fibonacci number.\n62 is not a fibonacci number.\n63 is not a fibonacci number.\n64 is not a fibonacci number.\n65 is not a fibonacci number.\n66 is not a fibonacci number.\n67 is not a fibonacci number.\n68 is not a fibonacci number.\n69 is not a fibonacci number.\n70 is not a fibonacci number.\n71 is not a fibonacci number.\n72 is not a fibonacci number.\n73 is not a fibonacci number.\n74 is not a fibonacci number.\n75 is not a fibonacci number.\n76 is not a fibonacci number.\n77 is not a fibonacci number.\n</div>",
       "datasetInfos": [],
       "metadata": {},
       "removedWidgets": [],
       "type": "html"
      }
     },
     "output_type": "display_data"
    }
   ],
   "source": [
    "\n",
    "# A number is Fibonacci if and only if one or both of (5*n2 + 4) or (5*n2 – 4) is a perfect square.\n",
    "\n",
    "import math\n",
    "\n",
    "def isPerfectSquare(x):\n",
    "    s = int(math.sqrt(x))\n",
    "    return s*s == x\n",
    "\n",
    "def isFibanacci(n):\n",
    "    return isPerfectSquare(5*n*n + 4) or isPerfectSquare(5*n*n - 4)\n",
    "\n",
    "num = 77\n",
    "for i in range(1, num+1):\n",
    "    if(isFibanacci(i) == True):\n",
    "        print(i, \"is a fibonacci number.\")\n",
    "    else:\n",
    "        print(i, \"is not a fibonacci number.\")"
   ]
  },
  {
   "cell_type": "markdown",
   "metadata": {
    "application/vnd.databricks.v1+cell": {
     "cellMetadata": {},
     "inputWidgets": {},
     "nuid": "c607351b-5518-4ea8-9428-0940b182caa2",
     "showTitle": false,
     "title": ""
    }
   },
   "source": [
    "#### 12. Python Program for nth multiple of a number in Fibonacci Series\n"
   ]
  },
  {
   "cell_type": "code",
   "execution_count": 0,
   "metadata": {
    "application/vnd.databricks.v1+cell": {
     "cellMetadata": {},
     "inputWidgets": {},
     "nuid": "e89e38c2-79fc-4eba-84f2-c1a802315d9f",
     "showTitle": false,
     "title": ""
    }
   },
   "outputs": [
    {
     "output_type": "display_data",
     "data": {
      "text/html": [
       "<style scoped>\n",
       "  .ansiout {\n",
       "    display: block;\n",
       "    unicode-bidi: embed;\n",
       "    white-space: pre-wrap;\n",
       "    word-wrap: break-word;\n",
       "    word-break: break-all;\n",
       "    font-family: \"Menlo\", \"Monaco\", \"Consolas\", \"Ubuntu Mono\", \"Source Code Pro\", monospace;\n",
       "    font-size: 13px;\n",
       "    color: #555;\n",
       "    margin-left: 4px;\n",
       "    line-height: 19px;\n",
       "  }\n",
       "</style>\n",
       "<div class=\"ansiout\">Position of 5 th multiple of 7 in Fibonacci Series is 40\n",
       "</div>"
      ]
     },
     "metadata": {
      "application/vnd.databricks.v1+output": {
       "addedWidgets": {},
       "arguments": {},
       "data": "<div class=\"ansiout\">Position of 5 th multiple of 7 in Fibonacci Series is 40\n</div>",
       "datasetInfos": [],
       "metadata": {},
       "removedWidgets": [],
       "type": "html"
      }
     },
     "output_type": "display_data"
    }
   ],
   "source": [
    "\n",
    "# Given two integers n and k. Find position the n\\’th multiple of K in the Fibonacci series.\n",
    "\n",
    "def findPosition(k, n): \n",
    "    f1 = 0\n",
    "    f2 = 1\n",
    "    i =2;  \n",
    "    \n",
    "    while i!=0: \n",
    "        f3 = f1 + f2; \n",
    "        f1 = f2; \n",
    "        f2 = f3; \n",
    "  \n",
    "        if f2%k == 0: \n",
    "            return n*i \n",
    "        i+=1     \n",
    "    return \n",
    "   \n",
    "n = 5\n",
    "# Number of whose multiple we are finding \n",
    "k = 7\n",
    "  \n",
    "print(\"Position of\", n,\"th multiple of\",k,\"in Fibonacci Series is\", findPosition(k,n)); "
   ]
  },
  {
   "cell_type": "code",
   "execution_count": 0,
   "metadata": {
    "application/vnd.databricks.v1+cell": {
     "cellMetadata": {},
     "inputWidgets": {},
     "nuid": "1227ddc2-593d-4e7e-8656-16fb0a95b247",
     "showTitle": false,
     "title": ""
    }
   },
   "outputs": [
    {
     "output_type": "display_data",
     "data": {
      "text/html": [
       "<style scoped>\n",
       "  .ansiout {\n",
       "    display: block;\n",
       "    unicode-bidi: embed;\n",
       "    white-space: pre-wrap;\n",
       "    word-wrap: break-word;\n",
       "    word-break: break-all;\n",
       "    font-family: \"Menlo\", \"Monaco\", \"Consolas\", \"Ubuntu Mono\", \"Source Code Pro\", monospace;\n",
       "    font-size: 13px;\n",
       "    color: #555;\n",
       "    margin-left: 4px;\n",
       "    line-height: 19px;\n",
       "  }\n",
       "</style>\n",
       "<div class=\"ansiout\">ASCII value of input character * R * is: 82\n",
       "</div>"
      ]
     },
     "metadata": {
      "application/vnd.databricks.v1+output": {
       "addedWidgets": {},
       "arguments": {},
       "data": "<div class=\"ansiout\">ASCII value of input character * R * is: 82\n</div>",
       "datasetInfos": [],
       "metadata": {},
       "removedWidgets": [],
       "type": "html"
      }
     },
     "output_type": "display_data"
    }
   ],
   "source": [
    "# 13. Program to print ASCII Value of a character\n",
    "\n",
    "# For this problem we'll use ord() function in Python accepts a string of length 1 as an argument and returns\n",
    "# the unicode code point representation of the passed argument.\n",
    "\n",
    "char = 'R'\n",
    "\n",
    "print(\"ASCII value of input character *\",char,\"* is:\", ord(char))"
   ]
  },
  {
   "cell_type": "markdown",
   "metadata": {
    "application/vnd.databricks.v1+cell": {
     "cellMetadata": {},
     "inputWidgets": {},
     "nuid": "01fa9f00-c284-4775-93d1-a82aad923126",
     "showTitle": false,
     "title": ""
    }
   },
   "source": [
    "#### 14. Python Program for Sum of squares of first n natural numbers\n"
   ]
  },
  {
   "cell_type": "code",
   "execution_count": 0,
   "metadata": {
    "application/vnd.databricks.v1+cell": {
     "cellMetadata": {},
     "inputWidgets": {},
     "nuid": "ffad2c40-e917-475d-b852-486ddcee057e",
     "showTitle": false,
     "title": ""
    }
   },
   "outputs": [
    {
     "output_type": "display_data",
     "data": {
      "text/html": [
       "<style scoped>\n",
       "  .ansiout {\n",
       "    display: block;\n",
       "    unicode-bidi: embed;\n",
       "    white-space: pre-wrap;\n",
       "    word-wrap: break-word;\n",
       "    word-break: break-all;\n",
       "    font-family: \"Menlo\", \"Monaco\", \"Consolas\", \"Ubuntu Mono\", \"Source Code Pro\", monospace;\n",
       "    font-size: 13px;\n",
       "    color: #555;\n",
       "    margin-left: 4px;\n",
       "    line-height: 19px;\n",
       "  }\n",
       "</style>\n",
       "<div class=\"ansiout\">Out[211]: 56980</div>"
      ]
     },
     "metadata": {
      "application/vnd.databricks.v1+output": {
       "addedWidgets": {},
       "arguments": {},
       "data": "<div class=\"ansiout\">Out[211]: 56980</div>",
       "datasetInfos": [],
       "metadata": {},
       "removedWidgets": [],
       "type": "html"
      }
     },
     "output_type": "display_data"
    }
   ],
   "source": [
    "\n",
    "def sum_of_square(n) : \n",
    "  \n",
    "    # Iterate i from 1  \n",
    "    # and n finding  \n",
    "    # square of i and \n",
    "    # add to sum. \n",
    "    sum = 0\n",
    "    for i in range(1, n+1) : \n",
    "        sum = sum + (i * i) \n",
    "      \n",
    "    return sum \n",
    "  \n",
    "n =55\n",
    "sum_of_square(n)"
   ]
  },
  {
   "cell_type": "markdown",
   "metadata": {
    "application/vnd.databricks.v1+cell": {
     "cellMetadata": {},
     "inputWidgets": {},
     "nuid": "636d8d46-55c5-48e9-ab52-740d5b72ecd0",
     "showTitle": false,
     "title": ""
    }
   },
   "source": [
    "#### 15. Python Program for cube sum of first n natural numbers\n"
   ]
  },
  {
   "cell_type": "code",
   "execution_count": 0,
   "metadata": {
    "application/vnd.databricks.v1+cell": {
     "cellMetadata": {},
     "inputWidgets": {},
     "nuid": "b5bb4ddc-ae7d-4cba-9579-850b706b7c0e",
     "showTitle": false,
     "title": ""
    }
   },
   "outputs": [
    {
     "output_type": "display_data",
     "data": {
      "text/html": [
       "<style scoped>\n",
       "  .ansiout {\n",
       "    display: block;\n",
       "    unicode-bidi: embed;\n",
       "    white-space: pre-wrap;\n",
       "    word-wrap: break-word;\n",
       "    word-break: break-all;\n",
       "    font-family: \"Menlo\", \"Monaco\", \"Consolas\", \"Ubuntu Mono\", \"Source Code Pro\", monospace;\n",
       "    font-size: 13px;\n",
       "    color: #555;\n",
       "    margin-left: 4px;\n",
       "    line-height: 19px;\n",
       "  }\n",
       "</style>\n",
       "<div class=\"ansiout\">Out[212]: 980100</div>"
      ]
     },
     "metadata": {
      "application/vnd.databricks.v1+output": {
       "addedWidgets": {},
       "arguments": {},
       "data": "<div class=\"ansiout\">Out[212]: 980100</div>",
       "datasetInfos": [],
       "metadata": {},
       "removedWidgets": [],
       "type": "html"
      }
     },
     "output_type": "display_data"
    }
   ],
   "source": [
    "\n",
    "def sum_of_cube(n):\n",
    "    sum = 0\n",
    "    \n",
    "    for i in range(0, n+1):\n",
    "        sum = sum + (i*i*i)\n",
    "        \n",
    "    return sum\n",
    "\n",
    "num = 44\n",
    "sum_of_cube(num)"
   ]
  },
  {
   "cell_type": "markdown",
   "metadata": {
    "application/vnd.databricks.v1+cell": {
     "cellMetadata": {},
     "inputWidgets": {},
     "nuid": "e93040dc-4abf-47cd-917f-f013071c24c0",
     "showTitle": false,
     "title": ""
    }
   },
   "source": [
    "#### 16. Python code to demonstrate star pattern \n"
   ]
  },
  {
   "cell_type": "code",
   "execution_count": 0,
   "metadata": {
    "application/vnd.databricks.v1+cell": {
     "cellMetadata": {},
     "inputWidgets": {},
     "nuid": "13ea5955-05a5-480d-bded-e33cfb74cdfd",
     "showTitle": false,
     "title": ""
    }
   },
   "outputs": [
    {
     "output_type": "display_data",
     "data": {
      "text/html": [
       "<style scoped>\n",
       "  .ansiout {\n",
       "    display: block;\n",
       "    unicode-bidi: embed;\n",
       "    white-space: pre-wrap;\n",
       "    word-wrap: break-word;\n",
       "    word-break: break-all;\n",
       "    font-family: \"Menlo\", \"Monaco\", \"Consolas\", \"Ubuntu Mono\", \"Source Code Pro\", monospace;\n",
       "    font-size: 13px;\n",
       "    color: #555;\n",
       "    margin-left: 4px;\n",
       "    line-height: 19px;\n",
       "  }\n",
       "</style>\n",
       "<div class=\"ansiout\">* \r\n",
       "* * \r\n",
       "* * * \r\n",
       "* * * * \r\n",
       "* * * * * \r\n",
       "</div>"
      ]
     },
     "metadata": {
      "application/vnd.databricks.v1+output": {
       "addedWidgets": {},
       "arguments": {},
       "data": "<div class=\"ansiout\">* \r\n* * \r\n* * * \r\n* * * * \r\n* * * * * \r\n</div>",
       "datasetInfos": [],
       "metadata": {},
       "removedWidgets": [],
       "type": "html"
      }
     },
     "output_type": "display_data"
    }
   ],
   "source": [
    "  \n",
    "# Function to demonstrate printing pattern \n",
    "def pypart(n): \n",
    "      \n",
    "    # outer loop to handle number of rows \n",
    "    # n in this case \n",
    "    for i in range(0, n): \n",
    "      \n",
    "        # inner loop to handle number of columns \n",
    "        # values changing acc. to outer loop \n",
    "        for j in range(0, i+1): \n",
    "          \n",
    "            # printing stars \n",
    "            print(\"* \",end=\"\") \n",
    "       \n",
    "        # ending line after each row \n",
    "        print(\"\\r\") \n",
    "  \n",
    "# Driver Code \n",
    "n = 5\n",
    "pypart(n) "
   ]
  },
  {
   "cell_type": "markdown",
   "metadata": {
    "application/vnd.databricks.v1+cell": {
     "cellMetadata": {},
     "inputWidgets": {},
     "nuid": "047eab52-b6d4-4160-ba93-45bcb824d57b",
     "showTitle": false,
     "title": ""
    }
   },
   "source": [
    "#### 17. This is the example of print simple reversed right angle pyramid pattern  \n"
   ]
  },
  {
   "cell_type": "code",
   "execution_count": 0,
   "metadata": {
    "application/vnd.databricks.v1+cell": {
     "cellMetadata": {},
     "inputWidgets": {},
     "nuid": "b97c2e5d-e3bc-4060-a489-7854c07517b0",
     "showTitle": false,
     "title": ""
    }
   },
   "outputs": [
    {
     "output_type": "display_data",
     "data": {
      "text/html": [
       "<style scoped>\n",
       "  .ansiout {\n",
       "    display: block;\n",
       "    unicode-bidi: embed;\n",
       "    white-space: pre-wrap;\n",
       "    word-wrap: break-word;\n",
       "    word-break: break-all;\n",
       "    font-family: \"Menlo\", \"Monaco\", \"Consolas\", \"Ubuntu Mono\", \"Source Code Pro\", monospace;\n",
       "    font-size: 13px;\n",
       "    color: #555;\n",
       "    margin-left: 4px;\n",
       "    line-height: 19px;\n",
       "  }\n",
       "</style>\n",
       "<div class=\"ansiout\">                  * \n",
       "                * * \n",
       "              * * * \n",
       "            * * * * \n",
       "          * * * * * \n",
       "        * * * * * * \n",
       "      * * * * * * * \n",
       "    * * * * * * * * \n",
       "  * * * * * * * * * \n",
       "* * * * * * * * * * \n",
       "</div>"
      ]
     },
     "metadata": {
      "application/vnd.databricks.v1+output": {
       "addedWidgets": {},
       "arguments": {},
       "data": "<div class=\"ansiout\">                  * \n                * * \n              * * * \n            * * * * \n          * * * * * \n        * * * * * * \n      * * * * * * * \n    * * * * * * * * \n  * * * * * * * * * \n* * * * * * * * * * \n</div>",
       "datasetInfos": [],
       "metadata": {},
       "removedWidgets": [],
       "type": "html"
      }
     },
     "output_type": "display_data"
    }
   ],
   "source": [
    "rows =10\n",
    "k = 2 * rows - 2  # It is used for number of spaces  \n",
    "for i in range(0, rows):  \n",
    "    for j in range(0, k):  \n",
    "        print(end=\" \")  \n",
    "    k = k - 2   # decrement k value after each iteration  \n",
    "    for j in range(0, i + 1):  \n",
    "        print(\"* \", end=\"\")  # printing star  \n",
    "    print(\"\")  "
   ]
  },
  {
   "cell_type": "markdown",
   "metadata": {
    "application/vnd.databricks.v1+cell": {
     "cellMetadata": {},
     "inputWidgets": {},
     "nuid": "043718d6-59fe-4290-aba5-b55d3eb32662",
     "showTitle": false,
     "title": ""
    }
   },
   "source": [
    "#### 18. Printing Downward half - Pyramid  \n"
   ]
  },
  {
   "cell_type": "code",
   "execution_count": 0,
   "metadata": {
    "application/vnd.databricks.v1+cell": {
     "cellMetadata": {},
     "inputWidgets": {},
     "nuid": "c290a764-f8e0-422c-9640-bfa8c04280a2",
     "showTitle": false,
     "title": ""
    }
   },
   "outputs": [
    {
     "output_type": "display_data",
     "data": {
      "text/html": [
       "<style scoped>\n",
       "  .ansiout {\n",
       "    display: block;\n",
       "    unicode-bidi: embed;\n",
       "    white-space: pre-wrap;\n",
       "    word-wrap: break-word;\n",
       "    word-break: break-all;\n",
       "    font-family: \"Menlo\", \"Monaco\", \"Consolas\", \"Ubuntu Mono\", \"Source Code Pro\", monospace;\n",
       "    font-size: 13px;\n",
       "    color: #555;\n",
       "    margin-left: 4px;\n",
       "    line-height: 19px;\n",
       "  }\n",
       "</style>\n",
       "<div class=\"ansiout\">* * * * * * * * * *  \n",
       "* * * * * * * * *  \n",
       "* * * * * * * *  \n",
       "* * * * * * *  \n",
       "* * * * * *  \n",
       "* * * * *  \n",
       "* * * *  \n",
       "* * *  \n",
       "* *  \n",
       "*  \n",
       " \n",
       "</div>"
      ]
     },
     "metadata": {
      "application/vnd.databricks.v1+output": {
       "addedWidgets": {},
       "arguments": {},
       "data": "<div class=\"ansiout\">* * * * * * * * * *  \n* * * * * * * * *  \n* * * * * * * *  \n* * * * * * *  \n* * * * * *  \n* * * * *  \n* * * *  \n* * *  \n* *  \n*  \n \n</div>",
       "datasetInfos": [],
       "metadata": {},
       "removedWidgets": [],
       "type": "html"
      }
     },
     "output_type": "display_data"
    }
   ],
   "source": [
    "rows = 10\n",
    "#The outer loop is executing in reversed order \n",
    "for i in range(rows + 1, 0, -1):    \n",
    "    for j in range(0, i - 1):  \n",
    "        print(\"*\", end=' ')  \n",
    "    print(\" \") "
   ]
  },
  {
   "cell_type": "markdown",
   "metadata": {
    "application/vnd.databricks.v1+cell": {
     "cellMetadata": {},
     "inputWidgets": {},
     "nuid": "632a354a-ca0a-4e43-b3e3-9dbbeb6eaa44",
     "showTitle": false,
     "title": ""
    }
   },
   "source": [
    "#### 19. Pattern - Printing Triangle Pyramid\n"
   ]
  },
  {
   "cell_type": "code",
   "execution_count": 0,
   "metadata": {
    "application/vnd.databricks.v1+cell": {
     "cellMetadata": {},
     "inputWidgets": {},
     "nuid": "edf1dac4-1b92-4bf5-ad65-b10c7722c8d0",
     "showTitle": false,
     "title": ""
    }
   },
   "outputs": [
    {
     "output_type": "display_data",
     "data": {
      "text/html": [
       "<style scoped>\n",
       "  .ansiout {\n",
       "    display: block;\n",
       "    unicode-bidi: embed;\n",
       "    white-space: pre-wrap;\n",
       "    word-wrap: break-word;\n",
       "    word-break: break-all;\n",
       "    font-family: \"Menlo\", \"Monaco\", \"Consolas\", \"Ubuntu Mono\", \"Source Code Pro\", monospace;\n",
       "    font-size: 13px;\n",
       "    color: #555;\n",
       "    margin-left: 4px;\n",
       "    line-height: 19px;\n",
       "  }\n",
       "</style>\n",
       "<div class=\"ansiout\">                  *   \n",
       "                 *  *   \n",
       "                *  *  *   \n",
       "               *  *  *  *   \n",
       "              *  *  *  *  *   \n",
       "             *  *  *  *  *  *   \n",
       "            *  *  *  *  *  *  *   \n",
       "           *  *  *  *  *  *  *  *   \n",
       "          *  *  *  *  *  *  *  *  *   \n",
       "         *  *  *  *  *  *  *  *  *  *   \n",
       "</div>"
      ]
     },
     "metadata": {
      "application/vnd.databricks.v1+output": {
       "addedWidgets": {},
       "arguments": {},
       "data": "<div class=\"ansiout\">                  *   \n                 *  *   \n                *  *  *   \n               *  *  *  *   \n              *  *  *  *  *   \n             *  *  *  *  *  *   \n            *  *  *  *  *  *  *   \n           *  *  *  *  *  *  *  *   \n          *  *  *  *  *  *  *  *  *   \n         *  *  *  *  *  *  *  *  *  *   \n</div>",
       "datasetInfos": [],
       "metadata": {},
       "removedWidgets": [],
       "type": "html"
      }
     },
     "output_type": "display_data"
    }
   ],
   "source": [
    "n = 10  \n",
    "m = (2 * n) - 2  \n",
    "for i in range(0, n):  \n",
    "    for j in range(0, m):  \n",
    "        print(end=\" \")  \n",
    "    m = m - 1  # decrementing m after each loop  \n",
    "    for j in range(0, i + 1):  \n",
    "        # printing full Triangle pyramid using stars  \n",
    "        print(\"* \", end=' ')  \n",
    "    print(\" \")"
   ]
  },
  {
   "cell_type": "markdown",
   "metadata": {
    "application/vnd.databricks.v1+cell": {
     "cellMetadata": {},
     "inputWidgets": {},
     "nuid": "96111740-0d54-475b-b9c7-88efa5bc7b59",
     "showTitle": false,
     "title": ""
    }
   },
   "source": [
    "#### 20. Pattern - Downward Triangle Pattern\n"
   ]
  },
  {
   "cell_type": "code",
   "execution_count": 0,
   "metadata": {
    "application/vnd.databricks.v1+cell": {
     "cellMetadata": {},
     "inputWidgets": {},
     "nuid": "06b7c5c7-5127-4556-8d29-63e482e64636",
     "showTitle": false,
     "title": ""
    }
   },
   "outputs": [
    {
     "output_type": "display_data",
     "data": {
      "text/html": [
       "<style scoped>\n",
       "  .ansiout {\n",
       "    display: block;\n",
       "    unicode-bidi: embed;\n",
       "    white-space: pre-wrap;\n",
       "    word-wrap: break-word;\n",
       "    word-break: break-all;\n",
       "    font-family: \"Menlo\", \"Monaco\", \"Consolas\", \"Ubuntu Mono\", \"Source Code Pro\", monospace;\n",
       "    font-size: 13px;\n",
       "    color: #555;\n",
       "    margin-left: 4px;\n",
       "    line-height: 19px;\n",
       "  }\n",
       "</style>\n",
       "<div class=\"ansiout\">                  * * * * * * * * * * * \n",
       "                   * * * * * * * * * * \n",
       "                    * * * * * * * * * \n",
       "                     * * * * * * * * \n",
       "                      * * * * * * * \n",
       "                       * * * * * * \n",
       "                        * * * * * \n",
       "                         * * * * \n",
       "                          * * * \n",
       "                           * * \n",
       "                            * \n",
       "</div>"
      ]
     },
     "metadata": {
      "application/vnd.databricks.v1+output": {
       "addedWidgets": {},
       "arguments": {},
       "data": "<div class=\"ansiout\">                  * * * * * * * * * * * \n                   * * * * * * * * * * \n                    * * * * * * * * * \n                     * * * * * * * * \n                      * * * * * * * \n                       * * * * * * \n                        * * * * * \n                         * * * * \n                          * * * \n                           * * \n                            * \n</div>",
       "datasetInfos": [],
       "metadata": {},
       "removedWidgets": [],
       "type": "html"
      }
     },
     "output_type": "display_data"
    }
   ],
   "source": [
    "rows = 10\n",
    "  \n",
    "# It is used to print space  \n",
    "k = 2 * rows - 2  \n",
    "# Outer loop in reverse order  \n",
    "for i in range(rows, -1, -1):  \n",
    "    # Inner loop will print the number of space.  \n",
    "    for j in range(k, 0, -1):  \n",
    "        print(end=\" \")  \n",
    "    k = k + 1  \n",
    "    # This inner loop will print the number o stars  \n",
    "    for j in range(0, i + 1):  \n",
    "        print(\"*\", end=\" \")  \n",
    "    print(\"\")  "
   ]
  },
  {
   "cell_type": "markdown",
   "metadata": {
    "application/vnd.databricks.v1+cell": {
     "cellMetadata": {},
     "inputWidgets": {},
     "nuid": "9914d78f-f130-49cc-a21a-0408bddabe65",
     "showTitle": false,
     "title": ""
    }
   },
   "source": [
    "#### 21. Diamond Shaped Pattern"
   ]
  },
  {
   "cell_type": "code",
   "execution_count": 0,
   "metadata": {
    "application/vnd.databricks.v1+cell": {
     "cellMetadata": {},
     "inputWidgets": {},
     "nuid": "cc375c49-8e52-4ac5-8d2d-e573c40ccbea",
     "showTitle": false,
     "title": ""
    }
   },
   "outputs": [
    {
     "output_type": "display_data",
     "data": {
      "text/html": [
       "<style scoped>\n",
       "  .ansiout {\n",
       "    display: block;\n",
       "    unicode-bidi: embed;\n",
       "    white-space: pre-wrap;\n",
       "    word-wrap: break-word;\n",
       "    word-break: break-all;\n",
       "    font-family: \"Menlo\", \"Monaco\", \"Consolas\", \"Ubuntu Mono\", \"Source Code Pro\", monospace;\n",
       "    font-size: 13px;\n",
       "    color: #555;\n",
       "    margin-left: 4px;\n",
       "    line-height: 19px;\n",
       "  }\n",
       "</style>\n",
       "<div class=\"ansiout\">                  * \n",
       "                 * * \n",
       "                * * * \n",
       "               * * * * \n",
       "              * * * * * \n",
       "             * * * * * * \n",
       "            * * * * * * * \n",
       "           * * * * * * * * \n",
       "          * * * * * * * * * \n",
       "         * * * * * * * * * * \n",
       "        * * * * * * * * * * * \n",
       "         * * * * * * * * * * \n",
       "          * * * * * * * * * \n",
       "           * * * * * * * * \n",
       "            * * * * * * * \n",
       "             * * * * * * \n",
       "              * * * * * \n",
       "               * * * * \n",
       "                * * * \n",
       "                 * * \n",
       "                  * \n",
       "</div>"
      ]
     },
     "metadata": {
      "application/vnd.databricks.v1+output": {
       "addedWidgets": {},
       "arguments": {},
       "data": "<div class=\"ansiout\">                  * \n                 * * \n                * * * \n               * * * * \n              * * * * * \n             * * * * * * \n            * * * * * * * \n           * * * * * * * * \n          * * * * * * * * * \n         * * * * * * * * * * \n        * * * * * * * * * * * \n         * * * * * * * * * * \n          * * * * * * * * * \n           * * * * * * * * \n            * * * * * * * \n             * * * * * * \n              * * * * * \n               * * * * \n                * * * \n                 * * \n                  * \n</div>",
       "datasetInfos": [],
       "metadata": {},
       "removedWidgets": [],
       "type": "html"
      }
     },
     "output_type": "display_data"
    }
   ],
   "source": [
    "rows = 10\n",
    "  \n",
    "# It is used to print the space  \n",
    "k = 2 * rows - 2  \n",
    "# Outer loop to print number of rows  \n",
    "for i in range(0, rows):  \n",
    "    # Inner loop is used to print number of space  \n",
    "    for j in range(0, k):  \n",
    "        print(end=\" \")  \n",
    "    # Decrement in k after each iteration  \n",
    "    k = k - 1  \n",
    "    # This inner loop is used to print stars  \n",
    "    for j in range(0, i + 1):  \n",
    "        print(\"* \", end=\"\")  \n",
    "    print(\"\")  \n",
    "  \n",
    "# Downward triangle Pyramid  \n",
    "# It is used to print the space  \n",
    "k = rows - 2  \n",
    "# Output for downward triangle pyramid  \n",
    "for i in range(rows, -1, -1):  \n",
    "    # inner loop will print the spaces  \n",
    "    for j in range(k, 0, -1):  \n",
    "        print(end=\" \")  \n",
    "    # Increment in k after each iteration  \n",
    "    k = k + 1  \n",
    "    # This inner loop will print number of stars  \n",
    "    for j in range(0, i + 1):  \n",
    "        print(\"* \", end=\"\")  \n",
    "    print(\"\")  "
   ]
  },
  {
   "cell_type": "markdown",
   "metadata": {
    "application/vnd.databricks.v1+cell": {
     "cellMetadata": {},
     "inputWidgets": {},
     "nuid": "514f0824-106f-4616-9935-a45818c78d8b",
     "showTitle": false,
     "title": ""
    }
   },
   "source": [
    "#### 22. Print two pyramid in a single pattern"
   ]
  },
  {
   "cell_type": "code",
   "execution_count": 0,
   "metadata": {
    "application/vnd.databricks.v1+cell": {
     "cellMetadata": {},
     "inputWidgets": {},
     "nuid": "5197a11e-7995-4587-ba54-603ffdde534b",
     "showTitle": false,
     "title": ""
    }
   },
   "outputs": [
    {
     "output_type": "display_data",
     "data": {
      "text/html": [
       "<style scoped>\n",
       "  .ansiout {\n",
       "    display: block;\n",
       "    unicode-bidi: embed;\n",
       "    white-space: pre-wrap;\n",
       "    word-wrap: break-word;\n",
       "    word-break: break-all;\n",
       "    font-family: \"Menlo\", \"Monaco\", \"Consolas\", \"Ubuntu Mono\", \"Source Code Pro\", monospace;\n",
       "    font-size: 13px;\n",
       "    color: #555;\n",
       "    margin-left: 4px;\n",
       "    line-height: 19px;\n",
       "  }\n",
       "</style>\n",
       "<div class=\"ansiout\">*  \n",
       "* *  \n",
       "* * *  \n",
       "* * * *  \n",
       "* * * * *  \n",
       "* * * * * *  \n",
       "* * * * * * *  \n",
       "* * * * * * * *  \n",
       "* * * * * * * * *  \n",
       "* * * * * * * * * *  \n",
       "* * * * * * * * * *  \n",
       "* * * * * * * * *  \n",
       "* * * * * * * *  \n",
       "* * * * * * *  \n",
       "* * * * * *  \n",
       "* * * * *  \n",
       "* * * *  \n",
       "* * *  \n",
       "* *  \n",
       "*  \n",
       " \n",
       "</div>"
      ]
     },
     "metadata": {
      "application/vnd.databricks.v1+output": {
       "addedWidgets": {},
       "arguments": {},
       "data": "<div class=\"ansiout\">*  \n* *  \n* * *  \n* * * *  \n* * * * *  \n* * * * * *  \n* * * * * * *  \n* * * * * * * *  \n* * * * * * * * *  \n* * * * * * * * * *  \n* * * * * * * * * *  \n* * * * * * * * *  \n* * * * * * * *  \n* * * * * * *  \n* * * * * *  \n* * * * *  \n* * * *  \n* * *  \n* *  \n*  \n \n</div>",
       "datasetInfos": [],
       "metadata": {},
       "removedWidgets": [],
       "type": "html"
      }
     },
     "output_type": "display_data"
    }
   ],
   "source": [
    "rows = 10 \n",
    "  \n",
    "# Outer loop will print the number of rows  \n",
    "for i in range(0, rows):  \n",
    "    # This inner loop will print the stars  \n",
    "    for j in range(0, i + 1):  \n",
    "        print(\"*\", end=' ')  \n",
    "    # Change line after each iteration  \n",
    "    print(\" \")  \n",
    "# For second pattern  \n",
    "for i in range(rows + 1, 0, -1):  \n",
    "    for j in range(0, i - 1):  \n",
    "        print(\"*\", end=' ')  \n",
    "    print(\" \")  "
   ]
  },
  {
   "cell_type": "markdown",
   "metadata": {
    "application/vnd.databricks.v1+cell": {
     "cellMetadata": {},
     "inputWidgets": {},
     "nuid": "873a9ae1-9ff1-4190-a432-e694390ab912",
     "showTitle": false,
     "title": ""
    }
   },
   "source": [
    "#### 23.Hourglass Pattern"
   ]
  },
  {
   "cell_type": "code",
   "execution_count": 0,
   "metadata": {
    "application/vnd.databricks.v1+cell": {
     "cellMetadata": {},
     "inputWidgets": {},
     "nuid": "fc9e795d-c066-4b97-a5ca-461383024ff3",
     "showTitle": false,
     "title": ""
    }
   },
   "outputs": [
    {
     "output_type": "display_data",
     "data": {
      "text/html": [
       "<style scoped>\n",
       "  .ansiout {\n",
       "    display: block;\n",
       "    unicode-bidi: embed;\n",
       "    white-space: pre-wrap;\n",
       "    word-wrap: break-word;\n",
       "    word-break: break-all;\n",
       "    font-family: \"Menlo\", \"Monaco\", \"Consolas\", \"Ubuntu Mono\", \"Source Code Pro\", monospace;\n",
       "    font-size: 13px;\n",
       "    color: #555;\n",
       "    margin-left: 4px;\n",
       "    line-height: 19px;\n",
       "  }\n",
       "</style>\n",
       "<div class=\"ansiout\">        * * * * * * * * * * * \n",
       "         * * * * * * * * * * \n",
       "          * * * * * * * * * \n",
       "           * * * * * * * * \n",
       "            * * * * * * * \n",
       "             * * * * * * \n",
       "              * * * * * \n",
       "               * * * * \n",
       "                * * * \n",
       "                 * * \n",
       "                  * \n",
       "* \n",
       "* * \n",
       "* * * \n",
       "* * * * \n",
       "* * * * * \n",
       "* * * * * * \n",
       "* * * * * * * \n",
       "* * * * * * * * \n",
       "* * * * * * * * * \n",
       "* * * * * * * * * * \n",
       "* * * * * * * * * * * \n",
       "</div>"
      ]
     },
     "metadata": {
      "application/vnd.databricks.v1+output": {
       "addedWidgets": {},
       "arguments": {},
       "data": "<div class=\"ansiout\">        * * * * * * * * * * * \n         * * * * * * * * * * \n          * * * * * * * * * \n           * * * * * * * * \n            * * * * * * * \n             * * * * * * \n              * * * * * \n               * * * * \n                * * * \n                 * * \n                  * \n* \n* * \n* * * \n* * * * \n* * * * * \n* * * * * * \n* * * * * * * \n* * * * * * * * \n* * * * * * * * * \n* * * * * * * * * * \n* * * * * * * * * * * \n</div>",
       "datasetInfos": [],
       "metadata": {},
       "removedWidgets": [],
       "type": "html"
      }
     },
     "output_type": "display_data"
    }
   ],
   "source": [
    "rows = 10  \n",
    "k = rows - 2  \n",
    "# This is used to print the downward pyramid  \n",
    "for i in range(rows, -1 , -1):  \n",
    "    for j in range(k , 0 , -1):  \n",
    "        print(end=\" \")  \n",
    "    k = k + 1  \n",
    "    for j in range(0, i+1):  \n",
    "        print(\"* \" , end=\"\")  \n",
    "    print()  \n",
    "  \n",
    "# This is used to print the upward pyramid  \n",
    "k = 2 * rows  - 2  \n",
    "for i in range(0 , rows+1):  \n",
    "    for j in range(0 , k):  \n",
    "        print(end=\"\")  \n",
    "    k = k - 1  \n",
    "    for j in range(0, i + 1):  \n",
    "        print(\"* \", end=\"\")  \n",
    "    print()  "
   ]
  },
  {
   "cell_type": "markdown",
   "metadata": {
    "application/vnd.databricks.v1+cell": {
     "cellMetadata": {},
     "inputWidgets": {},
     "nuid": "c10732d0-28f4-434f-ad28-27374d1226f9",
     "showTitle": false,
     "title": ""
    }
   },
   "source": [
    "#### 24. Number Pattern in Python"
   ]
  },
  {
   "cell_type": "code",
   "execution_count": 0,
   "metadata": {
    "application/vnd.databricks.v1+cell": {
     "cellMetadata": {},
     "inputWidgets": {},
     "nuid": "4e82ad56-85ec-4882-9952-1187731f02e5",
     "showTitle": false,
     "title": ""
    }
   },
   "outputs": [
    {
     "output_type": "display_data",
     "data": {
      "text/html": [
       "<style scoped>\n",
       "  .ansiout {\n",
       "    display: block;\n",
       "    unicode-bidi: embed;\n",
       "    white-space: pre-wrap;\n",
       "    word-wrap: break-word;\n",
       "    word-break: break-all;\n",
       "    font-family: \"Menlo\", \"Monaco\", \"Consolas\", \"Ubuntu Mono\", \"Source Code Pro\", monospace;\n",
       "    font-size: 13px;\n",
       "    color: #555;\n",
       "    margin-left: 4px;\n",
       "    line-height: 19px;\n",
       "  }\n",
       "</style>\n",
       "<div class=\"ansiout\"> \n",
       "1  \n",
       "2 2  \n",
       "3 3 3  \n",
       "4 4 4 4  \n",
       "5 5 5 5 5  \n",
       "6 6 6 6 6 6  \n",
       "7 7 7 7 7 7 7  \n",
       "8 8 8 8 8 8 8 8  \n",
       "9 9 9 9 9 9 9 9 9  \n",
       "10 10 10 10 10 10 10 10 10 10  \n",
       "</div>"
      ]
     },
     "metadata": {
      "application/vnd.databricks.v1+output": {
       "addedWidgets": {},
       "arguments": {},
       "data": "<div class=\"ansiout\"> \n1  \n2 2  \n3 3 3  \n4 4 4 4  \n5 5 5 5 5  \n6 6 6 6 6 6  \n7 7 7 7 7 7 7  \n8 8 8 8 8 8 8 8  \n9 9 9 9 9 9 9 9 9  \n10 10 10 10 10 10 10 10 10 10  \n</div>",
       "datasetInfos": [],
       "metadata": {},
       "removedWidgets": [],
       "type": "html"
      }
     },
     "output_type": "display_data"
    }
   ],
   "source": [
    "rows = 10 \n",
    "# Outer loop will print number of rows  \n",
    "for i in range(rows+1):  \n",
    "    # Inner loop will print the value of i after each iteration  \n",
    "    for j in range(i):  \n",
    "        print(i, end=\" \")  # print number  \n",
    "    # line after each row to display pattern correctly  \n",
    "    print(\" \")  "
   ]
  },
  {
   "cell_type": "markdown",
   "metadata": {
    "application/vnd.databricks.v1+cell": {
     "cellMetadata": {},
     "inputWidgets": {},
     "nuid": "727e2f3c-ec05-4580-b0a4-cd867f22dbe2",
     "showTitle": false,
     "title": ""
    }
   },
   "source": [
    "#### 25. Half pyramid pattern with the number"
   ]
  },
  {
   "cell_type": "code",
   "execution_count": 0,
   "metadata": {
    "application/vnd.databricks.v1+cell": {
     "cellMetadata": {},
     "inputWidgets": {},
     "nuid": "8a94f9db-8b02-42d7-af78-300b733e637d",
     "showTitle": false,
     "title": ""
    }
   },
   "outputs": [
    {
     "output_type": "display_data",
     "data": {
      "text/html": [
       "<style scoped>\n",
       "  .ansiout {\n",
       "    display: block;\n",
       "    unicode-bidi: embed;\n",
       "    white-space: pre-wrap;\n",
       "    word-wrap: break-word;\n",
       "    word-break: break-all;\n",
       "    font-family: \"Menlo\", \"Monaco\", \"Consolas\", \"Ubuntu Mono\", \"Source Code Pro\", monospace;\n",
       "    font-size: 13px;\n",
       "    color: #555;\n",
       "    margin-left: 4px;\n",
       "    line-height: 19px;\n",
       "  }\n",
       "</style>\n",
       "<div class=\"ansiout\">1 \n",
       "1 2 \n",
       "1 2 3 \n",
       "1 2 3 4 \n",
       "1 2 3 4 5 \n",
       "1 2 3 4 5 6 \n",
       "1 2 3 4 5 6 7 \n",
       "1 2 3 4 5 6 7 8 \n",
       "1 2 3 4 5 6 7 8 9 \n",
       "1 2 3 4 5 6 7 8 9 10 \n",
       "</div>"
      ]
     },
     "metadata": {
      "application/vnd.databricks.v1+output": {
       "addedWidgets": {},
       "arguments": {},
       "data": "<div class=\"ansiout\">1 \n1 2 \n1 2 3 \n1 2 3 4 \n1 2 3 4 5 \n1 2 3 4 5 6 \n1 2 3 4 5 6 7 \n1 2 3 4 5 6 7 8 \n1 2 3 4 5 6 7 8 9 \n1 2 3 4 5 6 7 8 9 10 \n</div>",
       "datasetInfos": [],
       "metadata": {},
       "removedWidgets": [],
       "type": "html"
      }
     },
     "output_type": "display_data"
    }
   ],
   "source": [
    "rows = 10\n",
    "  \n",
    "# This will print the rows  \n",
    "for i in range(1, rows+1):  \n",
    "    # This will print number of column  \n",
    "    for j in range(1, i + 1):  \n",
    "        print(j, end=' ')  \n",
    "    print(\"\")  "
   ]
  },
  {
   "cell_type": "markdown",
   "metadata": {
    "application/vnd.databricks.v1+cell": {
     "cellMetadata": {},
     "inputWidgets": {},
     "nuid": "cc414967-e9c4-451b-b6c3-4b734ae6f690",
     "showTitle": false,
     "title": ""
    }
   },
   "source": [
    "#### 26. Inverted Pyramid Pattern"
   ]
  },
  {
   "cell_type": "code",
   "execution_count": 0,
   "metadata": {
    "application/vnd.databricks.v1+cell": {
     "cellMetadata": {},
     "inputWidgets": {},
     "nuid": "cf852591-a7dd-49f4-83d8-db20eb0df18a",
     "showTitle": false,
     "title": ""
    }
   },
   "outputs": [
    {
     "output_type": "display_data",
     "data": {
      "text/html": [
       "<style scoped>\n",
       "  .ansiout {\n",
       "    display: block;\n",
       "    unicode-bidi: embed;\n",
       "    white-space: pre-wrap;\n",
       "    word-wrap: break-word;\n",
       "    word-break: break-all;\n",
       "    font-family: \"Menlo\", \"Monaco\", \"Consolas\", \"Ubuntu Mono\", \"Source Code Pro\", monospace;\n",
       "    font-size: 13px;\n",
       "    color: #555;\n",
       "    margin-left: 4px;\n",
       "    line-height: 19px;\n",
       "  }\n",
       "</style>\n",
       "<div class=\"ansiout\">1 1 1 1 1 1 1 1 1 1 \n",
       "2 2 2 2 2 2 2 2 2 \n",
       "3 3 3 3 3 3 3 3 \n",
       "4 4 4 4 4 4 4 \n",
       "5 5 5 5 5 5 \n",
       "6 6 6 6 6 \n",
       "7 7 7 7 \n",
       "8 8 8 \n",
       "9 9 \n",
       "10 \n",
       "</div>"
      ]
     },
     "metadata": {
      "application/vnd.databricks.v1+output": {
       "addedWidgets": {},
       "arguments": {},
       "data": "<div class=\"ansiout\">1 1 1 1 1 1 1 1 1 1 \n2 2 2 2 2 2 2 2 2 \n3 3 3 3 3 3 3 3 \n4 4 4 4 4 4 4 \n5 5 5 5 5 5 \n6 6 6 6 6 \n7 7 7 7 \n8 8 8 \n9 9 \n10 \n</div>",
       "datasetInfos": [],
       "metadata": {},
       "removedWidgets": [],
       "type": "html"
      }
     },
     "output_type": "display_data"
    }
   ],
   "source": [
    "rows = 10\n",
    "k = 0  \n",
    "# Reversed loop for downward inverted pattern  \n",
    "for i in range(rows, 0, -1):  \n",
    "    # Increment in k after each iteration  \n",
    "    k += 1  \n",
    "    for j in range(1, i + 1):  \n",
    "        print(k, end=' ')  \n",
    "    print()"
   ]
  },
  {
   "cell_type": "markdown",
   "metadata": {
    "application/vnd.databricks.v1+cell": {
     "cellMetadata": {},
     "inputWidgets": {},
     "nuid": "ac135ddf-94bf-4310-8826-7cbe080a64e8",
     "showTitle": false,
     "title": ""
    }
   },
   "source": [
    "#### 27.  Same number Inverted Pyramid"
   ]
  },
  {
   "cell_type": "code",
   "execution_count": 0,
   "metadata": {
    "application/vnd.databricks.v1+cell": {
     "cellMetadata": {},
     "inputWidgets": {},
     "nuid": "ac860896-d2da-49c3-ae9a-384db61a0706",
     "showTitle": false,
     "title": ""
    }
   },
   "outputs": [
    {
     "output_type": "display_data",
     "data": {
      "text/html": [
       "<style scoped>\n",
       "  .ansiout {\n",
       "    display: block;\n",
       "    unicode-bidi: embed;\n",
       "    white-space: pre-wrap;\n",
       "    word-wrap: break-word;\n",
       "    word-break: break-all;\n",
       "    font-family: \"Menlo\", \"Monaco\", \"Consolas\", \"Ubuntu Mono\", \"Source Code Pro\", monospace;\n",
       "    font-size: 13px;\n",
       "    color: #555;\n",
       "    margin-left: 4px;\n",
       "    line-height: 19px;\n",
       "  }\n",
       "</style>\n",
       "<div class=\"ansiout\">10 10 10 10 10 10 10 10 10 10 \n",
       "10 10 10 10 10 10 10 10 10 \n",
       "10 10 10 10 10 10 10 10 \n",
       "10 10 10 10 10 10 10 \n",
       "10 10 10 10 10 10 \n",
       "10 10 10 10 10 \n",
       "10 10 10 10 \n",
       "10 10 10 \n",
       "10 10 \n",
       "10 \n",
       "</div>"
      ]
     },
     "metadata": {
      "application/vnd.databricks.v1+output": {
       "addedWidgets": {},
       "arguments": {},
       "data": "<div class=\"ansiout\">10 10 10 10 10 10 10 10 10 10 \n10 10 10 10 10 10 10 10 10 \n10 10 10 10 10 10 10 10 \n10 10 10 10 10 10 10 \n10 10 10 10 10 10 \n10 10 10 10 10 \n10 10 10 10 \n10 10 10 \n10 10 \n10 \n</div>",
       "datasetInfos": [],
       "metadata": {},
       "removedWidgets": [],
       "type": "html"
      }
     },
     "output_type": "display_data"
    }
   ],
   "source": [
    "rows = 10\n",
    "# rows value assign to n variable  \n",
    "n = rows  \n",
    "# Download reversed loop  \n",
    "for i in range(rows, 0, -1):  \n",
    "    for j in range(0, i):  \n",
    "        # this will print the same number  \n",
    "        print(n, end=' ')  \n",
    "    print()  "
   ]
  },
  {
   "cell_type": "markdown",
   "metadata": {
    "application/vnd.databricks.v1+cell": {
     "cellMetadata": {},
     "inputWidgets": {},
     "nuid": "233a2c85-7149-44ea-a748-c4de823ae2f1",
     "showTitle": false,
     "title": ""
    }
   },
   "source": [
    "#### 28. Descending Order of Number"
   ]
  },
  {
   "cell_type": "code",
   "execution_count": 0,
   "metadata": {
    "application/vnd.databricks.v1+cell": {
     "cellMetadata": {},
     "inputWidgets": {},
     "nuid": "93d4b9e8-4a98-41ba-aeae-34de78d1a428",
     "showTitle": false,
     "title": ""
    }
   },
   "outputs": [
    {
     "output_type": "display_data",
     "data": {
      "text/html": [
       "<style scoped>\n",
       "  .ansiout {\n",
       "    display: block;\n",
       "    unicode-bidi: embed;\n",
       "    white-space: pre-wrap;\n",
       "    word-wrap: break-word;\n",
       "    word-break: break-all;\n",
       "    font-family: \"Menlo\", \"Monaco\", \"Consolas\", \"Ubuntu Mono\", \"Source Code Pro\", monospace;\n",
       "    font-size: 13px;\n",
       "    color: #555;\n",
       "    margin-left: 4px;\n",
       "    line-height: 19px;\n",
       "  }\n",
       "</style>\n",
       "<div class=\"ansiout\">10 10 10 10 10 10 10 10 10 10 \r\n",
       "9 9 9 9 9 9 9 9 9 \r\n",
       "8 8 8 8 8 8 8 8 \r\n",
       "7 7 7 7 7 7 7 \r\n",
       "6 6 6 6 6 6 \r\n",
       "5 5 5 5 5 \r\n",
       "4 4 4 4 \r\n",
       "3 3 3 \r\n",
       "2 2 \r\n",
       "1 \r\n",
       "</div>"
      ]
     },
     "metadata": {
      "application/vnd.databricks.v1+output": {
       "addedWidgets": {},
       "arguments": {},
       "data": "<div class=\"ansiout\">10 10 10 10 10 10 10 10 10 10 \r\n9 9 9 9 9 9 9 9 9 \r\n8 8 8 8 8 8 8 8 \r\n7 7 7 7 7 7 7 \r\n6 6 6 6 6 6 \r\n5 5 5 5 5 \r\n4 4 4 4 \r\n3 3 3 \r\n2 2 \r\n1 \r\n</div>",
       "datasetInfos": [],
       "metadata": {},
       "removedWidgets": [],
       "type": "html"
      }
     },
     "output_type": "display_data"
    }
   ],
   "source": [
    "rows = 10 \n",
    "# Downward loop for inverse loop  \n",
    "for i in range(rows, 0, -1):  \n",
    "    n = i   # assign value to n of i after each iteration  \n",
    "    for j in range(0, i):  \n",
    "        # print reduced value in each new line  \n",
    "        print(n, end=' ')  \n",
    "    print(\"\\r\")"
   ]
  },
  {
   "cell_type": "markdown",
   "metadata": {
    "application/vnd.databricks.v1+cell": {
     "cellMetadata": {},
     "inputWidgets": {},
     "nuid": "58d7a94c-1121-48cd-8e29-cee5173f8b40",
     "showTitle": false,
     "title": ""
    }
   },
   "source": [
    "#### 29. Print 1 to 10 numbers in Pattern"
   ]
  },
  {
   "cell_type": "code",
   "execution_count": 0,
   "metadata": {
    "application/vnd.databricks.v1+cell": {
     "cellMetadata": {},
     "inputWidgets": {},
     "nuid": "8ed732e1-9619-4704-8a48-1dd4517b71b9",
     "showTitle": false,
     "title": ""
    }
   },
   "outputs": [
    {
     "output_type": "display_data",
     "data": {
      "text/html": [
       "<style scoped>\n",
       "  .ansiout {\n",
       "    display: block;\n",
       "    unicode-bidi: embed;\n",
       "    white-space: pre-wrap;\n",
       "    word-wrap: break-word;\n",
       "    word-break: break-all;\n",
       "    font-family: \"Menlo\", \"Monaco\", \"Consolas\", \"Ubuntu Mono\", \"Source Code Pro\", monospace;\n",
       "    font-size: 13px;\n",
       "    color: #555;\n",
       "    margin-left: 4px;\n",
       "    line-height: 19px;\n",
       "  }\n",
       "</style>\n",
       "<div class=\"ansiout\">1 \n",
       "2 3 4 \n",
       "5 6 7 8 9 \n",
       "</div>"
      ]
     },
     "metadata": {
      "application/vnd.databricks.v1+output": {
       "addedWidgets": {},
       "arguments": {},
       "data": "<div class=\"ansiout\">1 \n2 3 4 \n5 6 7 8 9 \n</div>",
       "datasetInfos": [],
       "metadata": {},
       "removedWidgets": [],
       "type": "html"
      }
     },
     "output_type": "display_data"
    }
   ],
   "source": [
    "current_Number = 1  \n",
    "stop = 2  \n",
    "rows = 3  # Number of rows to print numbers  \n",
    "  \n",
    "for i in range(rows):  \n",
    "    for j in range(1, stop):  \n",
    "        print(current_Number, end=' ')  \n",
    "        current_Number += 1  \n",
    "    print(\"\")  \n",
    "    stop += 2 "
   ]
  },
  {
   "cell_type": "markdown",
   "metadata": {
    "application/vnd.databricks.v1+cell": {
     "cellMetadata": {},
     "inputWidgets": {},
     "nuid": "76287b5b-b85c-4753-9dc2-c7e077ee1130",
     "showTitle": false,
     "title": ""
    }
   },
   "source": [
    "#### 30. Reverse Pattern from 10 to 1"
   ]
  },
  {
   "cell_type": "code",
   "execution_count": 0,
   "metadata": {
    "application/vnd.databricks.v1+cell": {
     "cellMetadata": {},
     "inputWidgets": {},
     "nuid": "48405ad0-73a4-4c75-b36c-af709d8d19de",
     "showTitle": false,
     "title": ""
    }
   },
   "outputs": [
    {
     "output_type": "display_data",
     "data": {
      "text/html": [
       "<style scoped>\n",
       "  .ansiout {\n",
       "    display: block;\n",
       "    unicode-bidi: embed;\n",
       "    white-space: pre-wrap;\n",
       "    word-wrap: break-word;\n",
       "    word-break: break-all;\n",
       "    font-family: \"Menlo\", \"Monaco\", \"Consolas\", \"Ubuntu Mono\", \"Source Code Pro\", monospace;\n",
       "    font-size: 13px;\n",
       "    color: #555;\n",
       "    margin-left: 4px;\n",
       "    line-height: 19px;\n",
       "  }\n",
       "</style>\n",
       "<div class=\"ansiout\">10 9 8 7 6 5 4 3 2 1 \n",
       "9 8 7 6 5 4 3 2 1 \n",
       "8 7 6 5 4 3 2 1 \n",
       "7 6 5 4 3 2 1 \n",
       "6 5 4 3 2 1 \n",
       "5 4 3 2 1 \n",
       "4 3 2 1 \n",
       "3 2 1 \n",
       "2 1 \n",
       "1 \n",
       "\n",
       "</div>"
      ]
     },
     "metadata": {
      "application/vnd.databricks.v1+output": {
       "addedWidgets": {},
       "arguments": {},
       "data": "<div class=\"ansiout\">10 9 8 7 6 5 4 3 2 1 \n9 8 7 6 5 4 3 2 1 \n8 7 6 5 4 3 2 1 \n7 6 5 4 3 2 1 \n6 5 4 3 2 1 \n5 4 3 2 1 \n4 3 2 1 \n3 2 1 \n2 1 \n1 \n\n</div>",
       "datasetInfos": [],
       "metadata": {},
       "removedWidgets": [],
       "type": "html"
      }
     },
     "output_type": "display_data"
    }
   ],
   "source": [
    "rows = 10  \n",
    "for i in range(0, rows + 1):  \n",
    "    # inner loop for decrement in i values  \n",
    "    for j in range(rows - i, 0, -1):  \n",
    "        print(j, end=' ')  \n",
    "    print() "
   ]
  },
  {
   "cell_type": "markdown",
   "metadata": {
    "application/vnd.databricks.v1+cell": {
     "cellMetadata": {},
     "inputWidgets": {},
     "nuid": "fbb80b06-ea68-4b8b-851e-5fb5e000c8fe",
     "showTitle": false,
     "title": ""
    }
   },
   "source": [
    "#### 31. Square Pattern using with number"
   ]
  },
  {
   "cell_type": "code",
   "execution_count": 0,
   "metadata": {
    "application/vnd.databricks.v1+cell": {
     "cellMetadata": {},
     "inputWidgets": {},
     "nuid": "04c6f481-baed-4fcd-8c81-ae8c351fe63f",
     "showTitle": false,
     "title": ""
    }
   },
   "outputs": [
    {
     "output_type": "display_data",
     "data": {
      "text/html": [
       "<style scoped>\n",
       "  .ansiout {\n",
       "    display: block;\n",
       "    unicode-bidi: embed;\n",
       "    white-space: pre-wrap;\n",
       "    word-wrap: break-word;\n",
       "    word-break: break-all;\n",
       "    font-family: \"Menlo\", \"Monaco\", \"Consolas\", \"Ubuntu Mono\", \"Source Code Pro\", monospace;\n",
       "    font-size: 13px;\n",
       "    color: #555;\n",
       "    margin-left: 4px;\n",
       "    line-height: 19px;\n",
       "  }\n",
       "</style>\n",
       "<div class=\"ansiout\">1 2 3 4 5 6 7 8 9 10 \n",
       "2 2 3 4 5 6 7 8 9 10 \n",
       "3 3 3 4 5 6 7 8 9 10 \n",
       "4 4 4 4 5 6 7 8 9 10 \n",
       "5 5 5 5 5 6 7 8 9 10 \n",
       "6 6 6 6 6 6 7 8 9 10 \n",
       "7 7 7 7 7 7 7 8 9 10 \n",
       "8 8 8 8 8 8 8 8 9 10 \n",
       "9 9 9 9 9 9 9 9 9 10 \n",
       "10 10 10 10 10 10 10 10 10 10 \n",
       "</div>"
      ]
     },
     "metadata": {
      "application/vnd.databricks.v1+output": {
       "addedWidgets": {},
       "arguments": {},
       "data": "<div class=\"ansiout\">1 2 3 4 5 6 7 8 9 10 \n2 2 3 4 5 6 7 8 9 10 \n3 3 3 4 5 6 7 8 9 10 \n4 4 4 4 5 6 7 8 9 10 \n5 5 5 5 5 6 7 8 9 10 \n6 6 6 6 6 6 7 8 9 10 \n7 7 7 7 7 7 7 8 9 10 \n8 8 8 8 8 8 8 8 9 10 \n9 9 9 9 9 9 9 9 9 10 \n10 10 10 10 10 10 10 10 10 10 \n</div>",
       "datasetInfos": [],
       "metadata": {},
       "removedWidgets": [],
       "type": "html"
      }
     },
     "output_type": "display_data"
    }
   ],
   "source": [
    "rows = 10\n",
    "for i in range(1, rows + 1):  \n",
    "    for j in range(1, rows + 1):  \n",
    "        # Check condition if value of j is smaller or equal than  \n",
    "        # the j then print i otherwise print j  \n",
    "        if j <= i:  \n",
    "            print(i, end=' ')  \n",
    "        else:  \n",
    "            print(j, end=' ')  \n",
    "    print()  "
   ]
  },
  {
   "cell_type": "markdown",
   "metadata": {
    "application/vnd.databricks.v1+cell": {
     "cellMetadata": {},
     "inputWidgets": {},
     "nuid": "b53e21ad-b108-4d9a-ad84-ced41b5d9cb9",
     "showTitle": false,
     "title": ""
    }
   },
   "source": [
    "#### 32. Multiplication Number in Column"
   ]
  },
  {
   "cell_type": "code",
   "execution_count": 0,
   "metadata": {
    "application/vnd.databricks.v1+cell": {
     "cellMetadata": {},
     "inputWidgets": {},
     "nuid": "e51c2858-4254-41b0-bd53-8e3cc25590d8",
     "showTitle": false,
     "title": ""
    }
   },
   "outputs": [
    {
     "output_type": "display_data",
     "data": {
      "text/html": [
       "<style scoped>\n",
       "  .ansiout {\n",
       "    display: block;\n",
       "    unicode-bidi: embed;\n",
       "    white-space: pre-wrap;\n",
       "    word-wrap: break-word;\n",
       "    word-break: break-all;\n",
       "    font-family: \"Menlo\", \"Monaco\", \"Consolas\", \"Ubuntu Mono\", \"Source Code Pro\", monospace;\n",
       "    font-size: 13px;\n",
       "    color: #555;\n",
       "    margin-left: 4px;\n",
       "    line-height: 19px;\n",
       "  }\n",
       "</style>\n",
       "<div class=\"ansiout\">1  \n",
       "2  4  \n",
       "3  6  9  \n",
       "4  8  12  16  \n",
       "5  10  15  20  25  \n",
       "6  12  18  24  30  36  \n",
       "7  14  21  28  35  42  49  \n",
       "8  16  24  32  40  48  56  64  \n",
       "9  18  27  36  45  54  63  72  81  \n",
       "</div>"
      ]
     },
     "metadata": {
      "application/vnd.databricks.v1+output": {
       "addedWidgets": {},
       "arguments": {},
       "data": "<div class=\"ansiout\">1  \n2  4  \n3  6  9  \n4  8  12  16  \n5  10  15  20  25  \n6  12  18  24  30  36  \n7  14  21  28  35  42  49  \n8  16  24  32  40  48  56  64  \n9  18  27  36  45  54  63  72  81  \n</div>",
       "datasetInfos": [],
       "metadata": {},
       "removedWidgets": [],
       "type": "html"
      }
     },
     "output_type": "display_data"
    }
   ],
   "source": [
    "rows = 10  \n",
    "for i in range(1, rows):  \n",
    "    for j in range(1, i + 1):  \n",
    "        # It prints multiplication or row and column  \n",
    "        print(i * j, end='  ')  \n",
    "    print() "
   ]
  },
  {
   "cell_type": "markdown",
   "metadata": {
    "application/vnd.databricks.v1+cell": {
     "cellMetadata": {},
     "inputWidgets": {},
     "nuid": "56aa4c06-dcb8-46d1-8427-5a9ea0d8482a",
     "showTitle": false,
     "title": ""
    }
   },
   "source": [
    "#### 33. Right-angled pattern with characters"
   ]
  },
  {
   "cell_type": "code",
   "execution_count": 0,
   "metadata": {
    "application/vnd.databricks.v1+cell": {
     "cellMetadata": {},
     "inputWidgets": {},
     "nuid": "f9f939a3-2674-4c9c-82a2-990dd79c82af",
     "showTitle": false,
     "title": ""
    }
   },
   "outputs": [
    {
     "output_type": "display_data",
     "data": {
      "text/html": [
       "<style scoped>\n",
       "  .ansiout {\n",
       "    display: block;\n",
       "    unicode-bidi: embed;\n",
       "    white-space: pre-wrap;\n",
       "    word-wrap: break-word;\n",
       "    word-break: break-all;\n",
       "    font-family: \"Menlo\", \"Monaco\", \"Consolas\", \"Ubuntu Mono\", \"Source Code Pro\", monospace;\n",
       "    font-size: 13px;\n",
       "    color: #555;\n",
       "    margin-left: 4px;\n",
       "    line-height: 19px;\n",
       "  }\n",
       "</style>\n",
       "<div class=\"ansiout\">The character pattern \n",
       "A \n",
       "B C \n",
       "D E F \n",
       "G H I J \n",
       "K L M N O \n",
       "</div>"
      ]
     },
     "metadata": {
      "application/vnd.databricks.v1+output": {
       "addedWidgets": {},
       "arguments": {},
       "data": "<div class=\"ansiout\">The character pattern \nA \nB C \nD E F \nG H I J \nK L M N O \n</div>",
       "datasetInfos": [],
       "metadata": {},
       "removedWidgets": [],
       "type": "html"
      }
     },
     "output_type": "display_data"
    }
   ],
   "source": [
    "print(\"The character pattern \")  \n",
    "asciiValue = 65     #ASCII value of A  \n",
    "for i in range(0, 5):  \n",
    "    for j in range(0, i + 1):  \n",
    "        # It will convert the ASCII value to the character  \n",
    "        alphabate = chr(asciiValue)  \n",
    "        print(alphabate, end=' ')  \n",
    "        asciiValue += 1  \n",
    "    print()  "
   ]
  },
  {
   "cell_type": "markdown",
   "metadata": {
    "application/vnd.databricks.v1+cell": {
     "cellMetadata": {},
     "inputWidgets": {},
     "nuid": "391e601b-55ac-4a1a-85f0-09c450057629",
     "showTitle": false,
     "title": ""
    }
   },
   "source": [
    "##### This program shows an example of selection sort\n"
   ]
  },
  {
   "cell_type": "code",
   "execution_count": 0,
   "metadata": {
    "application/vnd.databricks.v1+cell": {
     "cellMetadata": {},
     "inputWidgets": {},
     "nuid": "8db6d62b-e42f-4d19-973a-74207ec96664",
     "showTitle": false,
     "title": ""
    }
   },
   "outputs": [
    {
     "output_type": "display_data",
     "data": {
      "text/html": [
       "<style scoped>\n",
       "  .ansiout {\n",
       "    display: block;\n",
       "    unicode-bidi: embed;\n",
       "    white-space: pre-wrap;\n",
       "    word-wrap: break-word;\n",
       "    word-break: break-all;\n",
       "    font-family: \"Menlo\", \"Monaco\", \"Consolas\", \"Ubuntu Mono\", \"Source Code Pro\", monospace;\n",
       "    font-size: 13px;\n",
       "    color: #555;\n",
       "    margin-left: 4px;\n",
       "    line-height: 19px;\n",
       "  }\n",
       "</style>\n",
       "<div class=\"ansiout\">Sorted List: [1, 2, 3, 4, 5, 6, 7, 9]\n",
       "</div>"
      ]
     },
     "metadata": {
      "application/vnd.databricks.v1+output": {
       "addedWidgets": {},
       "arguments": {},
       "data": "<div class=\"ansiout\">Sorted List: [1, 2, 3, 4, 5, 6, 7, 9]\n</div>",
       "datasetInfos": [],
       "metadata": {},
       "removedWidgets": [],
       "type": "html"
      }
     },
     "output_type": "display_data"
    }
   ],
   "source": [
    "#Selection sort iterates all the elements and if the smallest element in the list is found then that number\n",
    "#is swapped with the first\n",
    "\n",
    "#Best O(n^2); Average O(n^2); Worst O(n^2)\n",
    "\n",
    "def selectionSort(List):\n",
    "    for i in range(len(List) - 1): #For iterating n - 1 times\n",
    "        minimum = i\n",
    "        for j in range( i + 1, len(List)): # Compare i and i + 1 element\n",
    "            if(List[j] < List[minimum]):\n",
    "                minimum = j\n",
    "        if(minimum != i):\n",
    "            List[i], List[minimum] = List[minimum], List[i]\n",
    "    return List\n",
    "\n",
    "List = [3, 4, 2, 6, 5, 7, 1, 9]\n",
    "print('Sorted List:',selectionSort(List))"
   ]
  },
  {
   "cell_type": "markdown",
   "metadata": {
    "application/vnd.databricks.v1+cell": {
     "cellMetadata": {},
     "inputWidgets": {},
     "nuid": "9a14d13d-5a17-4e0f-aca0-9dba71cd2d76",
     "showTitle": false,
     "title": ""
    }
   },
   "source": [
    "#### This program checks for the character frequency in the given string\n"
   ]
  },
  {
   "cell_type": "code",
   "execution_count": 0,
   "metadata": {
    "application/vnd.databricks.v1+cell": {
     "cellMetadata": {},
     "inputWidgets": {},
     "nuid": "96fc774d-03eb-471d-9242-a12ffa72d083",
     "showTitle": false,
     "title": ""
    }
   },
   "outputs": [
    {
     "output_type": "display_data",
     "data": {
      "text/html": [
       "<style scoped>\n",
       "  .ansiout {\n",
       "    display: block;\n",
       "    unicode-bidi: embed;\n",
       "    white-space: pre-wrap;\n",
       "    word-wrap: break-word;\n",
       "    word-break: break-all;\n",
       "    font-family: \"Menlo\", \"Monaco\", \"Consolas\", \"Ubuntu Mono\", \"Source Code Pro\", monospace;\n",
       "    font-size: 13px;\n",
       "    color: #555;\n",
       "    margin-left: 4px;\n",
       "    line-height: 19px;\n",
       "  }\n",
       "</style>\n",
       "<div class=\"ansiout\">{&#39;t&#39;: 2, &#39;h&#39;: 1, &#39;i&#39;: 3, &#39;s&#39;: 4, &#39; &#39;: 3, &#39;a&#39;: 1, &#39;m&#39;: 1, &#39;p&#39;: 1, &#39;l&#39;: 1, &#39;e&#39;: 1, &#39;r&#39;: 1, &#39;n&#39;: 1, &#39;g&#39;: 1}\n",
       "</div>"
      ]
     },
     "metadata": {
      "application/vnd.databricks.v1+output": {
       "addedWidgets": {},
       "arguments": {},
       "data": "<div class=\"ansiout\">{&#39;t&#39;: 2, &#39;h&#39;: 1, &#39;i&#39;: 3, &#39;s&#39;: 4, &#39; &#39;: 3, &#39;a&#39;: 1, &#39;m&#39;: 1, &#39;p&#39;: 1, &#39;l&#39;: 1, &#39;e&#39;: 1, &#39;r&#39;: 1, &#39;n&#39;: 1, &#39;g&#39;: 1}\n</div>",
       "datasetInfos": [],
       "metadata": {},
       "removedWidgets": [],
       "type": "html"
      }
     },
     "output_type": "display_data"
    }
   ],
   "source": [
    "#This program checks for the character frequency in the given string\n",
    "\n",
    "def charFrequency(userInput):\n",
    "    '''This fuction helps to count the char frequency in the given string '''\n",
    "    userInput = userInput.lower() #covert to lowercase\n",
    "    dict = {}\n",
    "    for char in userInput:\n",
    "        keys = dict.keys()\n",
    "        if char in keys:\n",
    "            dict[char] += 1\n",
    "        else:\n",
    "            dict[char] = 1\n",
    "    return dict\n",
    "\n",
    "userInput = 'This is sample string'\n",
    "print(charFrequency(userInput))"
   ]
  },
  {
   "cell_type": "markdown",
   "metadata": {
    "application/vnd.databricks.v1+cell": {
     "cellMetadata": {},
     "inputWidgets": {},
     "nuid": "16be9a1c-3b42-4745-a654-74687d6aa873",
     "showTitle": false,
     "title": ""
    }
   },
   "source": [
    "#### This program converts the given binary number to its decimal equivalent\n"
   ]
  },
  {
   "cell_type": "code",
   "execution_count": 0,
   "metadata": {
    "application/vnd.databricks.v1+cell": {
     "cellMetadata": {},
     "inputWidgets": {},
     "nuid": "b44b1966-2ab9-4547-b67f-34e0f124019d",
     "showTitle": false,
     "title": ""
    }
   },
   "outputs": [
    {
     "output_type": "display_data",
     "data": {
      "text/html": [
       "<style scoped>\n",
       "  .ansiout {\n",
       "    display: block;\n",
       "    unicode-bidi: embed;\n",
       "    white-space: pre-wrap;\n",
       "    word-wrap: break-word;\n",
       "    word-break: break-all;\n",
       "    font-family: \"Menlo\", \"Monaco\", \"Consolas\", \"Ubuntu Mono\", \"Source Code Pro\", monospace;\n",
       "    font-size: 13px;\n",
       "    color: #555;\n",
       "    margin-left: 4px;\n",
       "    line-height: 19px;\n",
       "  }\n",
       "</style>\n",
       "<div class=\"ansiout\">Decimal equivalent of 100 is 4.0\n",
       "</div>"
      ]
     },
     "metadata": {
      "application/vnd.databricks.v1+output": {
       "addedWidgets": {},
       "arguments": {},
       "data": "<div class=\"ansiout\">Decimal equivalent of 100 is 4.0\n</div>",
       "datasetInfos": [],
       "metadata": {},
       "removedWidgets": [],
       "type": "html"
      }
     },
     "output_type": "display_data"
    }
   ],
   "source": [
    "\n",
    "def binaryToDecimal(binary):\n",
    "    '''This function calculates the decimal equivalent to given binary number'''\n",
    "    binary1 = binary\n",
    "    decimal, i, n = 0, 0, 0\n",
    "    while(binary != 0):\n",
    "        dec = binary % 10\n",
    "        decimal = decimal + dec * pow(2, i)\n",
    "        binary = binary//10\n",
    "        i += 1\n",
    "    print('Decimal equivalent of {} is {}'.format(binary1, decimal))\n",
    "\n",
    "userInput = 100\n",
    "binaryToDecimal(userInput)"
   ]
  },
  {
   "cell_type": "markdown",
   "metadata": {
    "application/vnd.databricks.v1+cell": {
     "cellMetadata": {},
     "inputWidgets": {},
     "nuid": "a00aefce-d7d0-4128-83cb-8c49a46aa101",
     "showTitle": false,
     "title": ""
    }
   },
   "source": [
    "#### Program to convert decimal to its equivalent binary\n"
   ]
  },
  {
   "cell_type": "code",
   "execution_count": 0,
   "metadata": {
    "application/vnd.databricks.v1+cell": {
     "cellMetadata": {},
     "inputWidgets": {},
     "nuid": "b81c4b39-2f83-4b3c-8883-5c49f1ffbe0d",
     "showTitle": false,
     "title": ""
    }
   },
   "outputs": [
    {
     "output_type": "display_data",
     "data": {
      "text/html": [
       "<style scoped>\n",
       "  .ansiout {\n",
       "    display: block;\n",
       "    unicode-bidi: embed;\n",
       "    white-space: pre-wrap;\n",
       "    word-wrap: break-word;\n",
       "    word-break: break-all;\n",
       "    font-family: \"Menlo\", \"Monaco\", \"Consolas\", \"Ubuntu Mono\", \"Source Code Pro\", monospace;\n",
       "    font-size: 13px;\n",
       "    color: #555;\n",
       "    margin-left: 4px;\n",
       "    line-height: 19px;\n",
       "  }\n",
       "</style>\n",
       "<div class=\"ansiout\">000010110\n",
       "</div>"
      ]
     },
     "metadata": {
      "application/vnd.databricks.v1+output": {
       "addedWidgets": {},
       "arguments": {},
       "data": "<div class=\"ansiout\">000010110\n</div>",
       "datasetInfos": [],
       "metadata": {},
       "removedWidgets": [],
       "type": "html"
      }
     },
     "output_type": "display_data"
    }
   ],
   "source": [
    "\n",
    "def decimalToBinary(n):\n",
    "  \"\"\"\n",
    "   unction to print binary number for the input decimal using recursion\n",
    "   \"\"\"\n",
    "  if n > 1:\n",
    "    decimalToBinary(n//2)\n",
    "    print(n % 2,end = '')\n",
    "    \n",
    "#Enter the decimal number to find its binary equivalent:\n",
    "userInput = 534\n",
    "decimalToBinary(userInput)\n",
    "print()"
   ]
  },
  {
   "cell_type": "markdown",
   "metadata": {
    "application/vnd.databricks.v1+cell": {
     "cellMetadata": {},
     "inputWidgets": {},
     "nuid": "36053067-494c-4619-909b-94f90d86a5c0",
     "showTitle": false,
     "title": ""
    }
   },
   "source": [
    "##### This program counts the vowels present in the user input\n"
   ]
  },
  {
   "cell_type": "code",
   "execution_count": 0,
   "metadata": {
    "application/vnd.databricks.v1+cell": {
     "cellMetadata": {},
     "inputWidgets": {},
     "nuid": "0d952de9-27bb-41a8-a11b-5395250c2b63",
     "showTitle": false,
     "title": ""
    }
   },
   "outputs": [
    {
     "output_type": "display_data",
     "data": {
      "text/html": [
       "<style scoped>\n",
       "  .ansiout {\n",
       "    display: block;\n",
       "    unicode-bidi: embed;\n",
       "    white-space: pre-wrap;\n",
       "    word-wrap: break-word;\n",
       "    word-break: break-all;\n",
       "    font-family: \"Menlo\", \"Monaco\", \"Consolas\", \"Ubuntu Mono\", \"Source Code Pro\", monospace;\n",
       "    font-size: 13px;\n",
       "    color: #555;\n",
       "    margin-left: 4px;\n",
       "    line-height: 19px;\n",
       "  }\n",
       "</style>\n",
       "<div class=\"ansiout\">Vowel Count:  9\n",
       "</div>"
      ]
     },
     "metadata": {
      "application/vnd.databricks.v1+output": {
       "addedWidgets": {},
       "arguments": {},
       "data": "<div class=\"ansiout\">Vowel Count:  9\n</div>",
       "datasetInfos": [],
       "metadata": {},
       "removedWidgets": [],
       "type": "html"
      }
     },
     "output_type": "display_data"
    }
   ],
   "source": [
    "def countVowels(sentence):\n",
    "    '''This function counts the vowels'''\n",
    "    count = 0\n",
    "    sentence = sentence.lower()\n",
    "    for c in sentence:\n",
    "        if c in ['a', 'e', 'i', 'o', 'u']:\n",
    "            count += 1\n",
    "    return count\n",
    "\n",
    "\n",
    "userInput = \"Enter the string to check for vowels\"\n",
    "count = countVowels(userInput)\n",
    "print('Vowel Count: ',count)"
   ]
  },
  {
   "cell_type": "code",
   "execution_count": 0,
   "metadata": {
    "application/vnd.databricks.v1+cell": {
     "cellMetadata": {},
     "inputWidgets": {},
     "nuid": "7e94141d-9637-4897-bd6f-7c8c95be55e8",
     "showTitle": false,
     "title": ""
    }
   },
   "outputs": [
    {
     "output_type": "display_data",
     "data": {
      "text/html": [
       "<style scoped>\n",
       "  .ansiout {\n",
       "    display: block;\n",
       "    unicode-bidi: embed;\n",
       "    white-space: pre-wrap;\n",
       "    word-wrap: break-word;\n",
       "    word-break: break-all;\n",
       "    font-family: \"Menlo\", \"Monaco\", \"Consolas\", \"Ubuntu Mono\", \"Source Code Pro\", monospace;\n",
       "    font-size: 13px;\n",
       "    color: #555;\n",
       "    margin-left: 4px;\n",
       "    line-height: 19px;\n",
       "  }\n",
       "</style>\n",
       "<div class=\"ansiout\">Sorted List: [1, 2, 3, 4, 5, 6, 7, 9]\n",
       "</div>"
      ]
     },
     "metadata": {
      "application/vnd.databricks.v1+output": {
       "addedWidgets": {},
       "arguments": {},
       "data": "<div class=\"ansiout\">Sorted List: [1, 2, 3, 4, 5, 6, 7, 9]\n</div>",
       "datasetInfos": [],
       "metadata": {},
       "removedWidgets": [],
       "type": "html"
      }
     },
     "output_type": "display_data"
    }
   ],
   "source": [
    "#  Best = Average = Worst = O(nlog(n))\n",
    "\n",
    "def merge(a,b):\n",
    "    \"\"\" Function to merge two arrays \"\"\"\n",
    "    c = []\n",
    "    while len(a) != 0 and len(b) != 0:\n",
    "        if a[0] < b[0]:\n",
    "            c.append(a[0])\n",
    "            a.remove(a[0])\n",
    "        else:\n",
    "            c.append(b[0])\n",
    "            b.remove(b[0])\n",
    "    if len(a) == 0:\n",
    "        c += b\n",
    "    else:\n",
    "        c += a\n",
    "    return c\n",
    "\n",
    "# Code for merge sort\n",
    "def mergeSort(x):\n",
    "    \"\"\" Function to sort an array using merge sort algorithm \"\"\"\n",
    "    if len(x) == 0 or len(x) == 1:\n",
    "        return x\n",
    "    else:\n",
    "        middle = len(x)//2\n",
    "        a = mergeSort(x[:middle])\n",
    "        b = mergeSort(x[middle:])\n",
    "        return merge(a,b)\n",
    "\n",
    "List = [3, 4, 2, 6, 5, 7, 1, 9]\n",
    "print('Sorted List:',mergeSort(List))"
   ]
  },
  {
   "cell_type": "code",
   "execution_count": 0,
   "metadata": {
    "application/vnd.databricks.v1+cell": {
     "cellMetadata": {},
     "inputWidgets": {},
     "nuid": "d6482b6a-e4fa-45df-ba83-b0e41c36ec35",
     "showTitle": false,
     "title": ""
    }
   },
   "outputs": [
    {
     "output_type": "display_data",
     "data": {
      "text/html": [
       "<style scoped>\n",
       "  .ansiout {\n",
       "    display: block;\n",
       "    unicode-bidi: embed;\n",
       "    white-space: pre-wrap;\n",
       "    word-wrap: break-word;\n",
       "    word-break: break-all;\n",
       "    font-family: \"Menlo\", \"Monaco\", \"Consolas\", \"Ubuntu Mono\", \"Source Code Pro\", monospace;\n",
       "    font-size: 13px;\n",
       "    color: #555;\n",
       "    margin-left: 4px;\n",
       "    line-height: 19px;\n",
       "  }\n",
       "</style>\n",
       "<div class=\"ansiout\">/databricks/driver\n",
       "Here i is 1\n",
       "Here i is 2\n",
       "Here i is 3\n",
       "Here i is 4\n",
       "Here i is 5\n",
       "Here i is 6\n",
       "Here i is 7\n",
       "Here i is 8\n",
       "Here i is 9\n",
       "</div>"
      ]
     },
     "metadata": {
      "application/vnd.databricks.v1+output": {
       "addedWidgets": {},
       "arguments": {},
       "data": "<div class=\"ansiout\">/databricks/driver\nHere i is 1\nHere i is 2\nHere i is 3\nHere i is 4\nHere i is 5\nHere i is 6\nHere i is 7\nHere i is 8\nHere i is 9\n</div>",
       "datasetInfos": [],
       "metadata": {},
       "removedWidgets": [],
       "type": "html"
      }
     },
     "output_type": "display_data"
    }
   ],
   "source": [
    "#This program illustrates the example for os module in short\n",
    "\n",
    "import os\n",
    "import time\n",
    "\n",
    "print(os.getcwd()) #Prints the current working directory\n",
    "\n",
    "os.mkdir('newDir1')\n",
    "for i in range(1,10):\n",
    "    print('Here i is',i)\n",
    "    os.rename('newDir' + str(i),'newDir' + str(i + 1))\n",
    "    time.sleep(2)"
   ]
  },
  {
   "cell_type": "markdown",
   "metadata": {
    "application/vnd.databricks.v1+cell": {
     "cellMetadata": {},
     "inputWidgets": {},
     "nuid": "5bd174d9-3eb2-4b7a-9c40-d3b6f13b99d7",
     "showTitle": false,
     "title": ""
    }
   },
   "source": [
    "##### This program guesses the randomnly generated number\n"
   ]
  },
  {
   "cell_type": "markdown",
   "metadata": {
    "application/vnd.databricks.v1+cell": {
     "cellMetadata": {},
     "inputWidgets": {},
     "nuid": "08eddb43-a979-47b4-a2ae-a9b04748c9f8",
     "showTitle": false,
     "title": ""
    }
   },
   "source": [
    "##### This program gives a demo of how can you pass arguments while running python programs\n"
   ]
  },
  {
   "cell_type": "code",
   "execution_count": 0,
   "metadata": {
    "application/vnd.databricks.v1+cell": {
     "cellMetadata": {},
     "inputWidgets": {},
     "nuid": "76eaf0b4-720e-4bd5-af25-83eabb91f034",
     "showTitle": false,
     "title": ""
    }
   },
   "outputs": [
    {
     "output_type": "display_data",
     "data": {
      "text/html": [
       "<style scoped>\n",
       "  .ansiout {\n",
       "    display: block;\n",
       "    unicode-bidi: embed;\n",
       "    white-space: pre-wrap;\n",
       "    word-wrap: break-word;\n",
       "    word-break: break-all;\n",
       "    font-family: \"Menlo\", \"Monaco\", \"Consolas\", \"Ubuntu Mono\", \"Source Code Pro\", monospace;\n",
       "    font-size: 13px;\n",
       "    color: #555;\n",
       "    margin-left: 4px;\n",
       "    line-height: 19px;\n",
       "  }\n",
       "</style>\n",
       "<div class=\"ansiout\">This is the name of the script: /local_disk0/tmp/1618809644903-0/PythonShell.py\n",
       "First argument: 46655\n",
       "Second argument: 0\n",
       "33\n",
       "</div>"
      ]
     },
     "metadata": {
      "application/vnd.databricks.v1+output": {
       "addedWidgets": {},
       "arguments": {},
       "data": "<div class=\"ansiout\">This is the name of the script: /local_disk0/tmp/1618809644903-0/PythonShell.py\nFirst argument: 46655\nSecond argument: 0\n33\n</div>",
       "datasetInfos": [],
       "metadata": {},
       "removedWidgets": [],
       "type": "html"
      }
     },
     "output_type": "display_data"
    }
   ],
   "source": [
    "#This program gives a demo of how can you pass arguments while running python programs\n",
    "\n",
    "import sys\n",
    "\n",
    "def arguments(a):\n",
    "    '''This function prints the argruments passed while running the python program'''\n",
    "    try:\n",
    "        \n",
    "        print('This is the name of the script:', sys.argv[0])\n",
    "        print('First argument:', sys.argv[1])\n",
    "        print('Second argument:', sys.argv[2])\n",
    "        print(a)\n",
    "    except IndexError:\n",
    "        print('Give only two arguments')\n",
    "        \n",
    "        \n",
    "arguments(33)"
   ]
  },
  {
   "cell_type": "markdown",
   "metadata": {
    "application/vnd.databricks.v1+cell": {
     "cellMetadata": {},
     "inputWidgets": {},
     "nuid": "c67d7850-eace-4421-ae5c-c8e3c9e03a09",
     "showTitle": false,
     "title": ""
    }
   },
   "source": [
    "##### This program guesses the randomnly generated number\n",
    "### Stopping infinite loop using `sys.exit` function"
   ]
  },
  {
   "cell_type": "code",
   "execution_count": 0,
   "metadata": {
    "application/vnd.databricks.v1+cell": {
     "cellMetadata": {},
     "inputWidgets": {},
     "nuid": "91f78fcc-5dd3-4848-8712-0378c80da81d",
     "showTitle": false,
     "title": ""
    }
   },
   "outputs": [
    {
     "output_type": "display_data",
     "data": {
      "text/html": [
       "<style scoped>\n",
       "  .ansiout {\n",
       "    display: block;\n",
       "    unicode-bidi: embed;\n",
       "    white-space: pre-wrap;\n",
       "    word-wrap: break-word;\n",
       "    word-break: break-all;\n",
       "    font-family: \"Menlo\", \"Monaco\", \"Consolas\", \"Ubuntu Mono\", \"Source Code Pro\", monospace;\n",
       "    font-size: 13px;\n",
       "    color: #555;\n",
       "    margin-left: 4px;\n",
       "    line-height: 19px;\n",
       "  }\n",
       "</style>\n",
       "<div class=\"ansiout\">Too large  55\n",
       "</div>"
      ]
     },
     "metadata": {
      "application/vnd.databricks.v1+output": {
       "addedWidgets": {},
       "arguments": {},
       "data": "<div class=\"ansiout\">Too large  55\n</div>",
       "datasetInfos": [],
       "metadata": {},
       "removedWidgets": [],
       "type": "html"
      }
     },
     "output_type": "display_data"
    },
    {
     "output_type": "display_data",
     "data": {
      "text/html": [
       "<style scoped>\n",
       "  .ansiout {\n",
       "    display: block;\n",
       "    unicode-bidi: embed;\n",
       "    white-space: pre-wrap;\n",
       "    word-wrap: break-word;\n",
       "    word-break: break-all;\n",
       "    font-family: \"Menlo\", \"Monaco\", \"Consolas\", \"Ubuntu Mono\", \"Source Code Pro\", monospace;\n",
       "    font-size: 13px;\n",
       "    color: #555;\n",
       "    margin-left: 4px;\n",
       "    line-height: 19px;\n",
       "  }\n",
       "</style>\n",
       "<div class=\"ansiout\">An exception has occurred, use %tb to see the full traceback.\n",
       "\n",
       "<span class=\"ansi-red-fg\">SystemExit</span><span class=\"ansi-red-fg\">:</span> exiting python program from infine loop\n",
       "</div>"
      ]
     },
     "metadata": {
      "application/vnd.databricks.v1+output": {
       "arguments": {},
       "data": "<div class=\"ansiout\">An exception has occurred, use %tb to see the full traceback.\n\n<span class=\"ansi-red-fg\">SystemExit</span><span class=\"ansi-red-fg\">:</span> exiting python program from infine loop\n</div>",
       "errorSummary": "<span class=\"ansi-red-fg\">SystemExit</span><span class=\"ansi-red-fg\">:</span> exiting python program from infine loop",
       "errorTraceType": null,
       "metadata": {},
       "type": "ipynbError"
      }
     },
     "output_type": "display_data"
    }
   ],
   "source": [
    "#This program guesses the randomnly generated number\n",
    "# for exit program importing sys module\n",
    "import sys\n",
    "import random\n",
    "\n",
    "def guess(num):\n",
    "    ''' This function guesses the randomnly generated number '''\n",
    "    randomNumber = random.randint(0, 21)\n",
    "    count = 0\n",
    "\n",
    "    while True:\n",
    "        count += 1\n",
    "        number = num\n",
    "        if number < randomNumber:\n",
    "            print('Too small')\n",
    "        elif number > randomNumber:\n",
    "            print('Too large ',number)\n",
    "            if count<20:\n",
    "              sys.exit(\"exiting python program from infine loop\")\n",
    "            \n",
    "        else:\n",
    "            print('You have got it in', count, 'tries')\n",
    "            break\n",
    "            \n",
    "            \n",
    "\n",
    "guess(55)\n",
    "\n",
    " \n",
    " "
   ]
  }
 ],
 "metadata": {
  "application/vnd.databricks.v1+notebook": {
   "dashboards": [],
   "language": "python",
   "notebookMetadata": {
    "pythonIndentUnit": 2
   },
   "notebookName": "Tutorial_14 Functions_Examples_1",
   "widgets": {}
  },
  "kernelspec": {
   "display_name": "Python 3",
   "language": "python",
   "name": "python3"
  },
  "language_info": {
   "codemirror_mode": {
    "name": "ipython",
    "version": 3
   },
   "file_extension": ".py",
   "mimetype": "text/x-python",
   "name": "python",
   "nbconvert_exporter": "python",
   "pygments_lexer": "ipython3",
   "version": "3.7.4"
  }
 },
 "nbformat": 4,
 "nbformat_minor": 0
}
