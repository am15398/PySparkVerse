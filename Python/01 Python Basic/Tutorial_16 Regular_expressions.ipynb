{
 "cells": [
  {
   "cell_type": "markdown",
   "metadata": {
    "application/vnd.databricks.v1+cell": {
     "cellMetadata": {},
     "inputWidgets": {},
     "nuid": "c45ca918-1b39-445b-bb24-d1952352e998",
     "showTitle": false,
     "title": ""
    }
   },
   "source": [
    "#### Regular expressions\n",
    "* Regular expressions are almost their own little programming language for searching and parsing strings. As a matter of fact, entire books have been written on the topic of regular expressions. In this chapter, we will only cover the basics of regular expressions. For more detail on regular expressions, see: <https://docs.python.org/3/library/re.html>\n",
    "\n",
    "* The regular expression library re must be imported into your program before you can use it. The simplest use of the regular expression library is the search() function. The following program demonstrates a trivial use of the search function.\n",
    "* using string methods like `split` and `find` and using lists and string slicing to extract portions of the lines."
   ]
  },
  {
   "cell_type": "markdown",
   "metadata": {
    "application/vnd.databricks.v1+cell": {
     "cellMetadata": {},
     "inputWidgets": {},
     "nuid": "7ba84d96-ea1a-49a9-90c4-1ee74549d7e7",
     "showTitle": false,
     "title": ""
    }
   },
   "source": [
    "* `findall`\tReturns a list containing all matches\n",
    "* `search`\tReturns a Match object if there is a match anywhere in the string\n",
    "* `split`\tReturns a list where the string has been split at each match\n",
    "* `sub` \tReplaces one or many matches with a string"
   ]
  },
  {
   "cell_type": "code",
   "execution_count": 0,
   "metadata": {
    "application/vnd.databricks.v1+cell": {
     "cellMetadata": {},
     "inputWidgets": {},
     "nuid": "dd8b7dbe-2ffd-40de-a971-423399080da1",
     "showTitle": false,
     "title": ""
    }
   },
   "outputs": [
    {
     "output_type": "display_data",
     "data": {
      "text/html": [
       "<style scoped>\n",
       "  .ansiout {\n",
       "    display: block;\n",
       "    unicode-bidi: embed;\n",
       "    white-space: pre-wrap;\n",
       "    word-wrap: break-word;\n",
       "    word-break: break-all;\n",
       "    font-family: \"Menlo\", \"Monaco\", \"Consolas\", \"Ubuntu Mono\", \"Source Code Pro\", monospace;\n",
       "    font-size: 13px;\n",
       "    color: #555;\n",
       "    margin-left: 4px;\n",
       "    line-height: 19px;\n",
       "  }\n",
       "</style>\n",
       "<div class=\"ansiout\"></div>"
      ]
     },
     "metadata": {
      "application/vnd.databricks.v1+output": {
       "addedWidgets": {},
       "arguments": {},
       "data": "<div class=\"ansiout\"></div>",
       "datasetInfos": [],
       "metadata": {},
       "removedWidgets": [],
       "type": "html"
      }
     },
     "output_type": "display_data"
    }
   ],
   "source": [
    "list={}"
   ]
  },
  {
   "cell_type": "code",
   "execution_count": 0,
   "metadata": {
    "application/vnd.databricks.v1+cell": {
     "cellMetadata": {},
     "collapsed": true,
     "inputWidgets": {},
     "nuid": "c0fea151-c7d4-4ae8-92eb-7c0b1bc700e6",
     "showTitle": false,
     "title": ""
    }
   },
   "outputs": [
    {
     "output_type": "display_data",
     "data": {
      "text/html": [
       "<style scoped>\n",
       "  .ansiout {\n",
       "    display: block;\n",
       "    unicode-bidi: embed;\n",
       "    white-space: pre-wrap;\n",
       "    word-wrap: break-word;\n",
       "    word-break: break-all;\n",
       "    font-family: \"Menlo\", \"Monaco\", \"Consolas\", \"Ubuntu Mono\", \"Source Code Pro\", monospace;\n",
       "    font-size: 13px;\n",
       "    color: #555;\n",
       "    margin-left: 4px;\n",
       "    line-height: 19px;\n",
       "  }\n",
       "</style>\n",
       "<div class=\"ansiout\">Help on module re:\n",
       "\n",
       "NAME\n",
       "    re - Support for regular expressions (RE).\n",
       "\n",
       "MODULE REFERENCE\n",
       "    https://docs.python.org/3.8/library/re\n",
       "    \n",
       "    The following documentation is automatically generated from the Python\n",
       "    source files.  It may be incomplete, incorrect or include features that\n",
       "    are considered implementation detail and may vary between Python\n",
       "    implementations.  When in doubt, consult the module reference at the\n",
       "    location listed above.\n",
       "\n",
       "DESCRIPTION\n",
       "    This module provides regular expression matching operations similar to\n",
       "    those found in Perl.  It supports both 8-bit and Unicode strings; both\n",
       "    the pattern and the strings being processed can contain null bytes and\n",
       "    characters outside the US ASCII range.\n",
       "    \n",
       "    Regular expressions can contain both special and ordinary characters.\n",
       "    Most ordinary characters, like &#34;A&#34;, &#34;a&#34;, or &#34;0&#34;, are the simplest\n",
       "    regular expressions; they simply match themselves.  You can\n",
       "    concatenate ordinary characters, so last matches the string &#39;last&#39;.\n",
       "    \n",
       "    The special characters are:\n",
       "        &#34;.&#34;      Matches any character except a newline.\n",
       "        &#34;^&#34;      Matches the start of the string.\n",
       "        &#34;$&#34;      Matches the end of the string or just before the newline at\n",
       "                 the end of the string.\n",
       "        &#34;*&#34;      Matches 0 or more (greedy) repetitions of the preceding RE.\n",
       "                 Greedy means that it will match as many repetitions as possible.\n",
       "        &#34;+&#34;      Matches 1 or more (greedy) repetitions of the preceding RE.\n",
       "        &#34;?&#34;      Matches 0 or 1 (greedy) of the preceding RE.\n",
       "        *?,+?,?? Non-greedy versions of the previous three special characters.\n",
       "        {m,n}    Matches from m to n repetitions of the preceding RE.\n",
       "        {m,n}?   Non-greedy version of the above.\n",
       "        &#34;\\\\&#34;     Either escapes special characters or signals a special sequence.\n",
       "        []       Indicates a set of characters.\n",
       "                 A &#34;^&#34; as the first character indicates a complementing set.\n",
       "        &#34;|&#34;      A|B, creates an RE that will match either A or B.\n",
       "        (...)    Matches the RE inside the parentheses.\n",
       "                 The contents can be retrieved or matched later in the string.\n",
       "        (?aiLmsux) The letters set the corresponding flags defined below.\n",
       "        (?:...)  Non-grouping version of regular parentheses.\n",
       "        (?P&lt;name&gt;...) The substring matched by the group is accessible by name.\n",
       "        (?P=name)     Matches the text matched earlier by the group named name.\n",
       "        (?#...)  A comment; ignored.\n",
       "        (?=...)  Matches if ... matches next, but doesn&#39;t consume the string.\n",
       "        (?!...)  Matches if ... doesn&#39;t match next.\n",
       "        (?&lt;=...) Matches if preceded by ... (must be fixed length).\n",
       "        (?&lt;!...) Matches if not preceded by ... (must be fixed length).\n",
       "        (?(id/name)yes|no) Matches yes pattern if the group with id/name matched,\n",
       "                           the (optional) no pattern otherwise.\n",
       "    \n",
       "    The special sequences consist of &#34;\\\\&#34; and a character from the list\n",
       "    below.  If the ordinary character is not on the list, then the\n",
       "    resulting RE will match the second character.\n",
       "        \\number  Matches the contents of the group of the same number.\n",
       "        \\A       Matches only at the start of the string.\n",
       "        \\Z       Matches only at the end of the string.\n",
       "        \\b       Matches the empty string, but only at the start or end of a word.\n",
       "        \\B       Matches the empty string, but not at the start or end of a word.\n",
       "        \\d       Matches any decimal digit; equivalent to the set [0-9] in\n",
       "                 bytes patterns or string patterns with the ASCII flag.\n",
       "                 In string patterns without the ASCII flag, it will match the whole\n",
       "                 range of Unicode digits.\n",
       "        \\D       Matches any non-digit character; equivalent to [^\\d].\n",
       "        \\s       Matches any whitespace character; equivalent to [ \\t\\n\\r\\f\\v] in\n",
       "                 bytes patterns or string patterns with the ASCII flag.\n",
       "                 In string patterns without the ASCII flag, it will match the whole\n",
       "                 range of Unicode whitespace characters.\n",
       "        \\S       Matches any non-whitespace character; equivalent to [^\\s].\n",
       "        \\w       Matches any alphanumeric character; equivalent to [a-zA-Z0-9_]\n",
       "                 in bytes patterns or string patterns with the ASCII flag.\n",
       "                 In string patterns without the ASCII flag, it will match the\n",
       "                 range of Unicode alphanumeric characters (letters plus digits\n",
       "                 plus underscore).\n",
       "                 With LOCALE, it will match the set [0-9_] plus characters defined\n",
       "                 as letters for the current locale.\n",
       "        \\W       Matches the complement of \\w.\n",
       "        \\\\       Matches a literal backslash.\n",
       "    \n",
       "    This module exports the following functions:\n",
       "        match     Match a regular expression pattern to the beginning of a string.\n",
       "        fullmatch Match a regular expression pattern to all of a string.\n",
       "        search    Search a string for the presence of a pattern.\n",
       "        sub       Substitute occurrences of a pattern found in a string.\n",
       "        subn      Same as sub, but also return the number of substitutions made.\n",
       "        split     Split a string by the occurrences of a pattern.\n",
       "        findall   Find all occurrences of a pattern in a string.\n",
       "        finditer  Return an iterator yielding a Match object for each match.\n",
       "        compile   Compile a pattern into a Pattern object.\n",
       "        purge     Clear the regular expression cache.\n",
       "        escape    Backslash all non-alphanumerics in a string.\n",
       "    \n",
       "    Each function other than purge and escape can take an optional &#39;flags&#39; argument\n",
       "    consisting of one or more of the following module constants, joined by &#34;|&#34;.\n",
       "    A, L, and U are mutually exclusive.\n",
       "        A  ASCII       For string patterns, make \\w, \\W, \\b, \\B, \\d, \\D\n",
       "                       match the corresponding ASCII character categories\n",
       "                       (rather than the whole Unicode categories, which is the\n",
       "                       default).\n",
       "                       For bytes patterns, this flag is the only available\n",
       "                       behaviour and needn&#39;t be specified.\n",
       "        I  IGNORECASE  Perform case-insensitive matching.\n",
       "        L  LOCALE      Make \\w, \\W, \\b, \\B, dependent on the current locale.\n",
       "        M  MULTILINE   &#34;^&#34; matches the beginning of lines (after a newline)\n",
       "                       as well as the string.\n",
       "                       &#34;$&#34; matches the end of lines (before a newline) as well\n",
       "                       as the end of the string.\n",
       "        S  DOTALL      &#34;.&#34; matches any character at all, including the newline.\n",
       "        X  VERBOSE     Ignore whitespace and comments for nicer looking RE&#39;s.\n",
       "        U  UNICODE     For compatibility only. Ignored for string patterns (it\n",
       "                       is the default), and forbidden for bytes patterns.\n",
       "    \n",
       "    This module also defines an exception &#39;error&#39;.\n",
       "\n",
       "CLASSES\n",
       "    builtins.Exception(builtins.BaseException)\n",
       "        error\n",
       "    builtins.object\n",
       "        Match\n",
       "        Pattern\n",
       "    \n",
       "    class Match(builtins.object)\n",
       "  The result of re.match() and re.search().\n",
       "  Match objects always have a boolean value of True.\n",
       "  \n",
       "  Methods defined here:\n",
       "  \n",
       "  __copy__(self, /)\n",
       "  \n",
       "  __deepcopy__(self, memo, /)\n",
       "  \n",
       "  __getitem__(self, key, /)\n",
       "      Return self[key].\n",
       "  \n",
       "  __repr__(self, /)\n",
       "      Return repr(self).\n",
       "  \n",
       "  end(self, group=0, /)\n",
       "      Return index of the end of the substring matched by group.\n",
       "  \n",
       "  expand(self, /, template)\n",
       "      Return the string obtained by doing backslash substitution on the string template, as done by the sub() method.\n",
       "  \n",
       "  group(...)\n",
       "      group([group1, ...]) -&gt; str or tuple.\n",
       "      Return subgroup(s) of the match by indices or names.\n",
       "      For 0 returns the entire match.\n",
       "  \n",
       "  groupdict(self, /, default=None)\n",
       "      Return a dictionary containing all the named subgroups of the match, keyed by the subgroup name.\n",
       "      \n",
       "      default\n",
       "        Is used for groups that did not participate in the match.\n",
       "  \n",
       "  groups(self, /, default=None)\n",
       "      Return a tuple containing all the subgroups of the match, from 1.\n",
       "      \n",
       "      default\n",
       "        Is used for groups that did not participate in the match.\n",
       "  \n",
       "  span(self, group=0, /)\n",
       "      For match object m, return the 2-tuple (m.start(group), m.end(group)).\n",
       "  \n",
       "  start(self, group=0, /)\n",
       "      Return index of the start of the substring matched by group.\n",
       "  \n",
       "  ----------------------------------------------------------------------\n",
       "  Data descriptors defined here:\n",
       "  \n",
       "  endpos\n",
       "      The index into the string beyond which the RE engine will not go.\n",
       "  \n",
       "  lastgroup\n",
       "      The name of the last matched capturing group.\n",
       "  \n",
       "  lastindex\n",
       "      The integer index of the last matched capturing group.\n",
       "  \n",
       "  pos\n",
       "      The index into the string at which the RE engine started looking for a match.\n",
       "  \n",
       "  re\n",
       "      The regular expression object.\n",
       "  \n",
       "  regs\n",
       "  \n",
       "  string\n",
       "      The string passed to match() or search().\n",
       "    \n",
       "    class Pattern(builtins.object)\n",
       "  Compiled regular expression object.\n",
       "  \n",
       "  Methods defined here:\n",
       "  \n",
       "  __copy__(self, /)\n",
       "  \n",
       "  __deepcopy__(self, memo, /)\n",
       "  \n",
       "  __eq__(self, value, /)\n",
       "      Return self==value.\n",
       "  \n",
       "  __ge__(self, value, /)\n",
       "      Return self&gt;=value.\n",
       "  \n",
       "  __gt__(self, value, /)\n",
       "      Return self&gt;value.\n",
       "  \n",
       "  __hash__(self, /)\n",
       "      Return hash(self).\n",
       "  \n",
       "  __le__(self, value, /)\n",
       "      Return self&lt;=value.\n",
       "  \n",
       "  __lt__(self, value, /)\n",
       "      Return self&lt;value.\n",
       "  \n",
       "  __ne__(self, value, /)\n",
       "      Return self!=value.\n",
       "  \n",
       "  __repr__(self, /)\n",
       "      Return repr(self).\n",
       "  \n",
       "  findall(self, /, string, pos=0, endpos=9223372036854775807)\n",
       "      Return a list of all non-overlapping matches of pattern in string.\n",
       "  \n",
       "  finditer(self, /, string, pos=0, endpos=9223372036854775807)\n",
       "      Return an iterator over all non-overlapping matches for the RE pattern in string.\n",
       "      \n",
       "      For each match, the iterator returns a match object.\n",
       "  \n",
       "  fullmatch(self, /, string, pos=0, endpos=9223372036854775807)\n",
       "      Matches against all of the string.\n",
       "  \n",
       "  match(self, /, string, pos=0, endpos=9223372036854775807)\n",
       "      Matches zero or more characters at the beginning of the string.\n",
       "  \n",
       "  scanner(self, /, string, pos=0, endpos=9223372036854775807)\n",
       "  \n",
       "  search(self, /, string, pos=0, endpos=9223372036854775807)\n",
       "      Scan through string looking for a match, and return a corresponding match object instance.\n",
       "      \n",
       "      Return None if no position in the string matches.\n",
       "  \n",
       "  split(self, /, string, maxsplit=0)\n",
       "      Split string by the occurrences of pattern.\n",
       "  \n",
       "  sub(self, /, repl, string, count=0)\n",
       "      Return the string obtained by replacing the leftmost non-overlapping occurrences of pattern in string by the replacement repl.\n",
       "  \n",
       "  subn(self, /, repl, string, count=0)\n",
       "      Return the tuple (new_string, number_of_subs_made) found by replacing the leftmost non-overlapping occurrences of pattern with the replacement repl.\n",
       "  \n",
       "  ----------------------------------------------------------------------\n",
       "  Data descriptors defined here:\n",
       "  \n",
       "  flags\n",
       "      The regex matching flags.\n",
       "  \n",
       "  groupindex\n",
       "      A dictionary mapping group names to group numbers.\n",
       "  \n",
       "  groups\n",
       "      The number of capturing groups in the pattern.\n",
       "  \n",
       "  pattern\n",
       "      The pattern string from which the RE object was compiled.\n",
       "    \n",
       "    class error(builtins.Exception)\n",
       "  error(msg, pattern=None, pos=None)\n",
       "  \n",
       "  Exception raised for invalid regular expressions.\n",
       "  \n",
       "  Attributes:\n",
       "  \n",
       "      msg: The unformatted error message\n",
       "      pattern: The regular expression pattern\n",
       "      pos: The index in the pattern where compilation failed (may be None)\n",
       "      lineno: The line corresponding to pos (may be None)\n",
       "      colno: The column corresponding to pos (may be None)\n",
       "  \n",
       "  Method resolution order:\n",
       "      error\n",
       "      builtins.Exception\n",
       "      builtins.BaseException\n",
       "      builtins.object\n",
       "  \n",
       "  Methods defined here:\n",
       "  \n",
       "  __init__(self, msg, pattern=None, pos=None)\n",
       "      Initialize self.  See help(type(self)) for accurate signature.\n",
       "  \n",
       "  ----------------------------------------------------------------------\n",
       "  Data descriptors defined here:\n",
       "  \n",
       "  __weakref__\n",
       "      list of weak references to the object (if defined)\n",
       "  \n",
       "  ----------------------------------------------------------------------\n",
       "  Static methods inherited from builtins.Exception:\n",
       "  \n",
       "  __new__(*args, **kwargs) from builtins.type\n",
       "      Create and return a new object.  See help(type) for accurate signature.\n",
       "  \n",
       "  ----------------------------------------------------------------------\n",
       "  Methods inherited from builtins.BaseException:\n",
       "  \n",
       "  __delattr__(self, name, /)\n",
       "      Implement delattr(self, name).\n",
       "  \n",
       "  __getattribute__(self, name, /)\n",
       "      Return getattr(self, name).\n",
       "  \n",
       "  __reduce__(...)\n",
       "      Helper for pickle.\n",
       "  \n",
       "  __repr__(self, /)\n",
       "      Return repr(self).\n",
       "  \n",
       "  __setattr__(self, name, value, /)\n",
       "      Implement setattr(self, name, value).\n",
       "  \n",
       "  __setstate__(...)\n",
       "  \n",
       "  __str__(self, /)\n",
       "      Return str(self).\n",
       "  \n",
       "  with_traceback(...)\n",
       "      Exception.with_traceback(tb) --\n",
       "      set self.__traceback__ to tb and return self.\n",
       "  \n",
       "  ----------------------------------------------------------------------\n",
       "  Data descriptors inherited from builtins.BaseException:\n",
       "  \n",
       "  __cause__\n",
       "      exception cause\n",
       "  \n",
       "  __context__\n",
       "      exception context\n",
       "  \n",
       "  __dict__\n",
       "  \n",
       "  __suppress_context__\n",
       "  \n",
       "  __traceback__\n",
       "  \n",
       "  args\n",
       "\n",
       "FUNCTIONS\n",
       "    compile(pattern, flags=0)\n",
       "        Compile a regular expression pattern, returning a Pattern object.\n",
       "    \n",
       "    escape(pattern)\n",
       "        Escape special characters in a string.\n",
       "    \n",
       "    findall(pattern, string, flags=0)\n",
       "        Return a list of all non-overlapping matches in the string.\n",
       "        \n",
       "        If one or more capturing groups are present in the pattern, return\n",
       "        a list of groups; this will be a list of tuples if the pattern\n",
       "        has more than one group.\n",
       "        \n",
       "        Empty matches are included in the result.\n",
       "    \n",
       "    finditer(pattern, string, flags=0)\n",
       "        Return an iterator over all non-overlapping matches in the\n",
       "        string.  For each match, the iterator returns a Match object.\n",
       "        \n",
       "        Empty matches are included in the result.\n",
       "    \n",
       "    fullmatch(pattern, string, flags=0)\n",
       "        Try to apply the pattern to all of the string, returning\n",
       "        a Match object, or None if no match was found.\n",
       "    \n",
       "    match(pattern, string, flags=0)\n",
       "        Try to apply the pattern at the start of the string, returning\n",
       "        a Match object, or None if no match was found.\n",
       "    \n",
       "    purge()\n",
       "        Clear the regular expression caches\n",
       "    \n",
       "    search(pattern, string, flags=0)\n",
       "        Scan through string looking for a match to the pattern, returning\n",
       "        a Match object, or None if no match was found.\n",
       "    \n",
       "    split(pattern, string, maxsplit=0, flags=0)\n",
       "        Split the source string by the occurrences of the pattern,\n",
       "        returning a list containing the resulting substrings.  If\n",
       "        capturing parentheses are used in pattern, then the text of all\n",
       "        groups in the pattern are also returned as part of the resulting\n",
       "        list.  If maxsplit is nonzero, at most maxsplit splits occur,\n",
       "        and the remainder of the string is returned as the final element\n",
       "        of the list.\n",
       "    \n",
       "    sub(pattern, repl, string, count=0, flags=0)\n",
       "        Return the string obtained by replacing the leftmost\n",
       "        non-overlapping occurrences of the pattern in string by the\n",
       "        replacement repl.  repl can be either a string or a callable;\n",
       "        if a string, backslash escapes in it are processed.  If it is\n",
       "        a callable, it&#39;s passed the Match object and must return\n",
       "        a replacement string to be used.\n",
       "    \n",
       "    subn(pattern, repl, string, count=0, flags=0)\n",
       "        Return a 2-tuple containing (new_string, number).\n",
       "        new_string is the string obtained by replacing the leftmost\n",
       "        non-overlapping occurrences of the pattern in the source\n",
       "        string by the replacement repl.  number is the number of\n",
       "        substitutions that were made. repl can be either a string or a\n",
       "        callable; if a string, backslash escapes in it are processed.\n",
       "        If it is a callable, it&#39;s passed the Match object and must\n",
       "        return a replacement string to be used.\n",
       "    \n",
       "    template(pattern, flags=0)\n",
       "        Compile a template pattern, returning a Pattern object\n",
       "\n",
       "DATA\n",
       "    A = re.ASCII\n",
       "    ASCII = re.ASCII\n",
       "    DOTALL = re.DOTALL\n",
       "    I = re.IGNORECASE\n",
       "    IGNORECASE = re.IGNORECASE\n",
       "    L = re.LOCALE\n",
       "    LOCALE = re.LOCALE\n",
       "    M = re.MULTILINE\n",
       "    MULTILINE = re.MULTILINE\n",
       "    S = re.DOTALL\n",
       "    U = re.UNICODE\n",
       "    UNICODE = re.UNICODE\n",
       "    VERBOSE = re.VERBOSE\n",
       "    X = re.VERBOSE\n",
       "    __all__ = [&#39;match&#39;, &#39;fullmatch&#39;, &#39;search&#39;, &#39;sub&#39;, &#39;subn&#39;, &#39;split&#39;, &#39;fi...\n",
       "\n",
       "VERSION\n",
       "    2.2.1\n",
       "\n",
       "FILE\n",
       "    /usr/local/lib/python3.8/re.py\n",
       "\n",
       "\n",
       "</div>"
      ]
     },
     "metadata": {
      "application/vnd.databricks.v1+output": {
       "addedWidgets": {},
       "arguments": {},
       "data": "<div class=\"ansiout\">Help on module re:\n\nNAME\n    re - Support for regular expressions (RE).\n\nMODULE REFERENCE\n    https://docs.python.org/3.8/library/re\n    \n    The following documentation is automatically generated from the Python\n    source files.  It may be incomplete, incorrect or include features that\n    are considered implementation detail and may vary between Python\n    implementations.  When in doubt, consult the module reference at the\n    location listed above.\n\nDESCRIPTION\n    This module provides regular expression matching operations similar to\n    those found in Perl.  It supports both 8-bit and Unicode strings; both\n    the pattern and the strings being processed can contain null bytes and\n    characters outside the US ASCII range.\n    \n    Regular expressions can contain both special and ordinary characters.\n    Most ordinary characters, like &#34;A&#34;, &#34;a&#34;, or &#34;0&#34;, are the simplest\n    regular expressions; they simply match themselves.  You can\n    concatenate ordinary characters, so last matches the string &#39;last&#39;.\n    \n    The special characters are:\n        &#34;.&#34;      Matches any character except a newline.\n        &#34;^&#34;      Matches the start of the string.\n        &#34;$&#34;      Matches the end of the string or just before the newline at\n                 the end of the string.\n        &#34;*&#34;      Matches 0 or more (greedy) repetitions of the preceding RE.\n                 Greedy means that it will match as many repetitions as possible.\n        &#34;+&#34;      Matches 1 or more (greedy) repetitions of the preceding RE.\n        &#34;?&#34;      Matches 0 or 1 (greedy) of the preceding RE.\n        *?,+?,?? Non-greedy versions of the previous three special characters.\n        {m,n}    Matches from m to n repetitions of the preceding RE.\n        {m,n}?   Non-greedy version of the above.\n        &#34;\\\\&#34;     Either escapes special characters or signals a special sequence.\n        []       Indicates a set of characters.\n                 A &#34;^&#34; as the first character indicates a complementing set.\n        &#34;|&#34;      A|B, creates an RE that will match either A or B.\n        (...)    Matches the RE inside the parentheses.\n                 The contents can be retrieved or matched later in the string.\n        (?aiLmsux) The letters set the corresponding flags defined below.\n        (?:...)  Non-grouping version of regular parentheses.\n        (?P&lt;name&gt;...) The substring matched by the group is accessible by name.\n        (?P=name)     Matches the text matched earlier by the group named name.\n        (?#...)  A comment; ignored.\n        (?=...)  Matches if ... matches next, but doesn&#39;t consume the string.\n        (?!...)  Matches if ... doesn&#39;t match next.\n        (?&lt;=...) Matches if preceded by ... (must be fixed length).\n        (?&lt;!...) Matches if not preceded by ... (must be fixed length).\n        (?(id/name)yes|no) Matches yes pattern if the group with id/name matched,\n                           the (optional) no pattern otherwise.\n    \n    The special sequences consist of &#34;\\\\&#34; and a character from the list\n    below.  If the ordinary character is not on the list, then the\n    resulting RE will match the second character.\n        \\number  Matches the contents of the group of the same number.\n        \\A       Matches only at the start of the string.\n        \\Z       Matches only at the end of the string.\n        \\b       Matches the empty string, but only at the start or end of a word.\n        \\B       Matches the empty string, but not at the start or end of a word.\n        \\d       Matches any decimal digit; equivalent to the set [0-9] in\n                 bytes patterns or string patterns with the ASCII flag.\n                 In string patterns without the ASCII flag, it will match the whole\n                 range of Unicode digits.\n        \\D       Matches any non-digit character; equivalent to [^\\d].\n        \\s       Matches any whitespace character; equivalent to [ \\t\\n\\r\\f\\v] in\n                 bytes patterns or string patterns with the ASCII flag.\n                 In string patterns without the ASCII flag, it will match the whole\n                 range of Unicode whitespace characters.\n        \\S       Matches any non-whitespace character; equivalent to [^\\s].\n        \\w       Matches any alphanumeric character; equivalent to [a-zA-Z0-9_]\n                 in bytes patterns or string patterns with the ASCII flag.\n                 In string patterns without the ASCII flag, it will match the\n                 range of Unicode alphanumeric characters (letters plus digits\n                 plus underscore).\n                 With LOCALE, it will match the set [0-9_] plus characters defined\n                 as letters for the current locale.\n        \\W       Matches the complement of \\w.\n        \\\\       Matches a literal backslash.\n    \n    This module exports the following functions:\n        match     Match a regular expression pattern to the beginning of a string.\n        fullmatch Match a regular expression pattern to all of a string.\n        search    Search a string for the presence of a pattern.\n        sub       Substitute occurrences of a pattern found in a string.\n        subn      Same as sub, but also return the number of substitutions made.\n        split     Split a string by the occurrences of a pattern.\n        findall   Find all occurrences of a pattern in a string.\n        finditer  Return an iterator yielding a Match object for each match.\n        compile   Compile a pattern into a Pattern object.\n        purge     Clear the regular expression cache.\n        escape    Backslash all non-alphanumerics in a string.\n    \n    Each function other than purge and escape can take an optional &#39;flags&#39; argument\n    consisting of one or more of the following module constants, joined by &#34;|&#34;.\n    A, L, and U are mutually exclusive.\n        A  ASCII       For string patterns, make \\w, \\W, \\b, \\B, \\d, \\D\n                       match the corresponding ASCII character categories\n                       (rather than the whole Unicode categories, which is the\n                       default).\n                       For bytes patterns, this flag is the only available\n                       behaviour and needn&#39;t be specified.\n        I  IGNORECASE  Perform case-insensitive matching.\n        L  LOCALE      Make \\w, \\W, \\b, \\B, dependent on the current locale.\n        M  MULTILINE   &#34;^&#34; matches the beginning of lines (after a newline)\n                       as well as the string.\n                       &#34;$&#34; matches the end of lines (before a newline) as well\n                       as the end of the string.\n        S  DOTALL      &#34;.&#34; matches any character at all, including the newline.\n        X  VERBOSE     Ignore whitespace and comments for nicer looking RE&#39;s.\n        U  UNICODE     For compatibility only. Ignored for string patterns (it\n                       is the default), and forbidden for bytes patterns.\n    \n    This module also defines an exception &#39;error&#39;.\n\nCLASSES\n    builtins.Exception(builtins.BaseException)\n        error\n    builtins.object\n        Match\n        Pattern\n    \n    class Match(builtins.object)\n     |  The result of re.match() and re.search().\n     |  Match objects always have a boolean value of True.\n     |  \n     |  Methods defined here:\n     |  \n     |  __copy__(self, /)\n     |  \n     |  __deepcopy__(self, memo, /)\n     |  \n     |  __getitem__(self, key, /)\n     |      Return self[key].\n     |  \n     |  __repr__(self, /)\n     |      Return repr(self).\n     |  \n     |  end(self, group=0, /)\n     |      Return index of the end of the substring matched by group.\n     |  \n     |  expand(self, /, template)\n     |      Return the string obtained by doing backslash substitution on the string template, as done by the sub() method.\n     |  \n     |  group(...)\n     |      group([group1, ...]) -&gt; str or tuple.\n     |      Return subgroup(s) of the match by indices or names.\n     |      For 0 returns the entire match.\n     |  \n     |  groupdict(self, /, default=None)\n     |      Return a dictionary containing all the named subgroups of the match, keyed by the subgroup name.\n     |      \n     |      default\n     |        Is used for groups that did not participate in the match.\n     |  \n     |  groups(self, /, default=None)\n     |      Return a tuple containing all the subgroups of the match, from 1.\n     |      \n     |      default\n     |        Is used for groups that did not participate in the match.\n     |  \n     |  span(self, group=0, /)\n     |      For match object m, return the 2-tuple (m.start(group), m.end(group)).\n     |  \n     |  start(self, group=0, /)\n     |      Return index of the start of the substring matched by group.\n     |  \n     |  ----------------------------------------------------------------------\n     |  Data descriptors defined here:\n     |  \n     |  endpos\n     |      The index into the string beyond which the RE engine will not go.\n     |  \n     |  lastgroup\n     |      The name of the last matched capturing group.\n     |  \n     |  lastindex\n     |      The integer index of the last matched capturing group.\n     |  \n     |  pos\n     |      The index into the string at which the RE engine started looking for a match.\n     |  \n     |  re\n     |      The regular expression object.\n     |  \n     |  regs\n     |  \n     |  string\n     |      The string passed to match() or search().\n    \n    class Pattern(builtins.object)\n     |  Compiled regular expression object.\n     |  \n     |  Methods defined here:\n     |  \n     |  __copy__(self, /)\n     |  \n     |  __deepcopy__(self, memo, /)\n     |  \n     |  __eq__(self, value, /)\n     |      Return self==value.\n     |  \n     |  __ge__(self, value, /)\n     |      Return self&gt;=value.\n     |  \n     |  __gt__(self, value, /)\n     |      Return self&gt;value.\n     |  \n     |  __hash__(self, /)\n     |      Return hash(self).\n     |  \n     |  __le__(self, value, /)\n     |      Return self&lt;=value.\n     |  \n     |  __lt__(self, value, /)\n     |      Return self&lt;value.\n     |  \n     |  __ne__(self, value, /)\n     |      Return self!=value.\n     |  \n     |  __repr__(self, /)\n     |      Return repr(self).\n     |  \n     |  findall(self, /, string, pos=0, endpos=9223372036854775807)\n     |      Return a list of all non-overlapping matches of pattern in string.\n     |  \n     |  finditer(self, /, string, pos=0, endpos=9223372036854775807)\n     |      Return an iterator over all non-overlapping matches for the RE pattern in string.\n     |      \n     |      For each match, the iterator returns a match object.\n     |  \n     |  fullmatch(self, /, string, pos=0, endpos=9223372036854775807)\n     |      Matches against all of the string.\n     |  \n     |  match(self, /, string, pos=0, endpos=9223372036854775807)\n     |      Matches zero or more characters at the beginning of the string.\n     |  \n     |  scanner(self, /, string, pos=0, endpos=9223372036854775807)\n     |  \n     |  search(self, /, string, pos=0, endpos=9223372036854775807)\n     |      Scan through string looking for a match, and return a corresponding match object instance.\n     |      \n     |      Return None if no position in the string matches.\n     |  \n     |  split(self, /, string, maxsplit=0)\n     |      Split string by the occurrences of pattern.\n     |  \n     |  sub(self, /, repl, string, count=0)\n     |      Return the string obtained by replacing the leftmost non-overlapping occurrences of pattern in string by the replacement repl.\n     |  \n     |  subn(self, /, repl, string, count=0)\n     |      Return the tuple (new_string, number_of_subs_made) found by replacing the leftmost non-overlapping occurrences of pattern with the replacement repl.\n     |  \n     |  ----------------------------------------------------------------------\n     |  Data descriptors defined here:\n     |  \n     |  flags\n     |      The regex matching flags.\n     |  \n     |  groupindex\n     |      A dictionary mapping group names to group numbers.\n     |  \n     |  groups\n     |      The number of capturing groups in the pattern.\n     |  \n     |  pattern\n     |      The pattern string from which the RE object was compiled.\n    \n    class error(builtins.Exception)\n     |  error(msg, pattern=None, pos=None)\n     |  \n     |  Exception raised for invalid regular expressions.\n     |  \n     |  Attributes:\n     |  \n     |      msg: The unformatted error message\n     |      pattern: The regular expression pattern\n     |      pos: The index in the pattern where compilation failed (may be None)\n     |      lineno: The line corresponding to pos (may be None)\n     |      colno: The column corresponding to pos (may be None)\n     |  \n     |  Method resolution order:\n     |      error\n     |      builtins.Exception\n     |      builtins.BaseException\n     |      builtins.object\n     |  \n     |  Methods defined here:\n     |  \n     |  __init__(self, msg, pattern=None, pos=None)\n     |      Initialize self.  See help(type(self)) for accurate signature.\n     |  \n     |  ----------------------------------------------------------------------\n     |  Data descriptors defined here:\n     |  \n     |  __weakref__\n     |      list of weak references to the object (if defined)\n     |  \n     |  ----------------------------------------------------------------------\n     |  Static methods inherited from builtins.Exception:\n     |  \n     |  __new__(*args, **kwargs) from builtins.type\n     |      Create and return a new object.  See help(type) for accurate signature.\n     |  \n     |  ----------------------------------------------------------------------\n     |  Methods inherited from builtins.BaseException:\n     |  \n     |  __delattr__(self, name, /)\n     |      Implement delattr(self, name).\n     |  \n     |  __getattribute__(self, name, /)\n     |      Return getattr(self, name).\n     |  \n     |  __reduce__(...)\n     |      Helper for pickle.\n     |  \n     |  __repr__(self, /)\n     |      Return repr(self).\n     |  \n     |  __setattr__(self, name, value, /)\n     |      Implement setattr(self, name, value).\n     |  \n     |  __setstate__(...)\n     |  \n     |  __str__(self, /)\n     |      Return str(self).\n     |  \n     |  with_traceback(...)\n     |      Exception.with_traceback(tb) --\n     |      set self.__traceback__ to tb and return self.\n     |  \n     |  ----------------------------------------------------------------------\n     |  Data descriptors inherited from builtins.BaseException:\n     |  \n     |  __cause__\n     |      exception cause\n     |  \n     |  __context__\n     |      exception context\n     |  \n     |  __dict__\n     |  \n     |  __suppress_context__\n     |  \n     |  __traceback__\n     |  \n     |  args\n\nFUNCTIONS\n    compile(pattern, flags=0)\n        Compile a regular expression pattern, returning a Pattern object.\n    \n    escape(pattern)\n        Escape special characters in a string.\n    \n    findall(pattern, string, flags=0)\n        Return a list of all non-overlapping matches in the string.\n        \n        If one or more capturing groups are present in the pattern, return\n        a list of groups; this will be a list of tuples if the pattern\n        has more than one group.\n        \n        Empty matches are included in the result.\n    \n    finditer(pattern, string, flags=0)\n        Return an iterator over all non-overlapping matches in the\n        string.  For each match, the iterator returns a Match object.\n        \n        Empty matches are included in the result.\n    \n    fullmatch(pattern, string, flags=0)\n        Try to apply the pattern to all of the string, returning\n        a Match object, or None if no match was found.\n    \n    match(pattern, string, flags=0)\n        Try to apply the pattern at the start of the string, returning\n        a Match object, or None if no match was found.\n    \n    purge()\n        Clear the regular expression caches\n    \n    search(pattern, string, flags=0)\n        Scan through string looking for a match to the pattern, returning\n        a Match object, or None if no match was found.\n    \n    split(pattern, string, maxsplit=0, flags=0)\n        Split the source string by the occurrences of the pattern,\n        returning a list containing the resulting substrings.  If\n        capturing parentheses are used in pattern, then the text of all\n        groups in the pattern are also returned as part of the resulting\n        list.  If maxsplit is nonzero, at most maxsplit splits occur,\n        and the remainder of the string is returned as the final element\n        of the list.\n    \n    sub(pattern, repl, string, count=0, flags=0)\n        Return the string obtained by replacing the leftmost\n        non-overlapping occurrences of the pattern in string by the\n        replacement repl.  repl can be either a string or a callable;\n        if a string, backslash escapes in it are processed.  If it is\n        a callable, it&#39;s passed the Match object and must return\n        a replacement string to be used.\n    \n    subn(pattern, repl, string, count=0, flags=0)\n        Return a 2-tuple containing (new_string, number).\n        new_string is the string obtained by replacing the leftmost\n        non-overlapping occurrences of the pattern in the source\n        string by the replacement repl.  number is the number of\n        substitutions that were made. repl can be either a string or a\n        callable; if a string, backslash escapes in it are processed.\n        If it is a callable, it&#39;s passed the Match object and must\n        return a replacement string to be used.\n    \n    template(pattern, flags=0)\n        Compile a template pattern, returning a Pattern object\n\nDATA\n    A = re.ASCII\n    ASCII = re.ASCII\n    DOTALL = re.DOTALL\n    I = re.IGNORECASE\n    IGNORECASE = re.IGNORECASE\n    L = re.LOCALE\n    LOCALE = re.LOCALE\n    M = re.MULTILINE\n    MULTILINE = re.MULTILINE\n    S = re.DOTALL\n    U = re.UNICODE\n    UNICODE = re.UNICODE\n    VERBOSE = re.VERBOSE\n    X = re.VERBOSE\n    __all__ = [&#39;match&#39;, &#39;fullmatch&#39;, &#39;search&#39;, &#39;sub&#39;, &#39;subn&#39;, &#39;split&#39;, &#39;fi...\n\nVERSION\n    2.2.1\n\nFILE\n    /usr/local/lib/python3.8/re.py\n\n\n</div>",
       "datasetInfos": [],
       "metadata": {},
       "removedWidgets": [],
       "type": "html"
      }
     },
     "output_type": "display_data"
    }
   ],
   "source": [
    "import re\n",
    "help(re)"
   ]
  },
  {
   "cell_type": "code",
   "execution_count": 0,
   "metadata": {
    "application/vnd.databricks.v1+cell": {
     "cellMetadata": {},
     "inputWidgets": {},
     "nuid": "efb2ec6e-fb96-43cf-9aa6-28d63433fd4b",
     "showTitle": false,
     "title": ""
    }
   },
   "outputs": [
    {
     "output_type": "display_data",
     "data": {
      "text/html": [
       "<style scoped>\n",
       "  .ansiout {\n",
       "    display: block;\n",
       "    unicode-bidi: embed;\n",
       "    white-space: pre-wrap;\n",
       "    word-wrap: break-word;\n",
       "    word-break: break-all;\n",
       "    font-family: \"Menlo\", \"Monaco\", \"Consolas\", \"Ubuntu Mono\", \"Source Code Pro\", monospace;\n",
       "    font-size: 13px;\n",
       "    color: #555;\n",
       "    margin-left: 4px;\n",
       "    line-height: 19px;\n",
       "  }\n",
       "</style>\n",
       "<div class=\"ansiout\">[&#39; &#39;, &#39; &#39;, &#39; &#39;, &#39; &#39;, &#39; &#39;, &#39; &#39;, &#39; &#39;, &#39; &#39;, &#39; &#39;, &#39; &#39;, &#39; &#39;, &#39; &#39;]\n",
       "</div>"
      ]
     },
     "metadata": {
      "application/vnd.databricks.v1+output": {
       "addedWidgets": {},
       "arguments": {},
       "data": "<div class=\"ansiout\">[&#39; &#39;, &#39; &#39;, &#39; &#39;, &#39; &#39;, &#39; &#39;, &#39; &#39;, &#39; &#39;, &#39; &#39;, &#39; &#39;, &#39; &#39;, &#39; &#39;, &#39; &#39;]\n</div>",
       "datasetInfos": [],
       "metadata": {},
       "removedWidgets": [],
       "type": "html"
      }
     },
     "output_type": "display_data"
    }
   ],
   "source": [
    "import re\n",
    "\n",
    "txt = \"This is sample program where you can list of words in this text\"\n",
    "x = re.findall(\"\\s\", txt)\n",
    "print(x)\n",
    "#type(x)"
   ]
  },
  {
   "cell_type": "code",
   "execution_count": 0,
   "metadata": {
    "application/vnd.databricks.v1+cell": {
     "cellMetadata": {},
     "inputWidgets": {},
     "nuid": "f0e4870f-412f-49f6-b6a4-61a6bf6b9460",
     "showTitle": false,
     "title": ""
    }
   },
   "outputs": [
    {
     "output_type": "display_data",
     "data": {
      "text/html": [
       "<style scoped>\n",
       "  .ansiout {\n",
       "    display: block;\n",
       "    unicode-bidi: embed;\n",
       "    white-space: pre-wrap;\n",
       "    word-wrap: break-word;\n",
       "    word-break: break-all;\n",
       "    font-family: \"Menlo\", \"Monaco\", \"Consolas\", \"Ubuntu Mono\", \"Source Code Pro\", monospace;\n",
       "    font-size: 13px;\n",
       "    color: #555;\n",
       "    margin-left: 4px;\n",
       "    line-height: 19px;\n",
       "  }\n",
       "</style>\n",
       "<div class=\"ansiout\">Out[6]: &lt;re.Match object; span=(7, 8), match=&#39; &#39;&gt;</div>"
      ]
     },
     "metadata": {
      "application/vnd.databricks.v1+output": {
       "addedWidgets": {},
       "arguments": {},
       "data": "<div class=\"ansiout\">Out[6]: &lt;re.Match object; span=(7, 8), match=&#39; &#39;&gt;</div>",
       "datasetInfos": [],
       "metadata": {},
       "removedWidgets": [],
       "type": "html"
      }
     },
     "output_type": "display_data"
    }
   ],
   "source": [
    "import re\n",
    "\n",
    "txt = \"how to use regular expresssion\"\n",
    "x = re.search(\"\\s\", txt)\n",
    "print(x)"
   ]
  },
  {
   "cell_type": "code",
   "execution_count": 0,
   "metadata": {
    "application/vnd.databricks.v1+cell": {
     "cellMetadata": {},
     "inputWidgets": {},
     "nuid": "5f6e35bb-ceb5-4c01-87b8-8b13a55331c4",
     "showTitle": false,
     "title": ""
    }
   },
   "outputs": [
    {
     "output_type": "display_data",
     "data": {
      "text/html": [
       "<style scoped>\n",
       "  .ansiout {\n",
       "    display: block;\n",
       "    unicode-bidi: embed;\n",
       "    white-space: pre-wrap;\n",
       "    word-wrap: break-word;\n",
       "    word-break: break-all;\n",
       "    font-family: \"Menlo\", \"Monaco\", \"Consolas\", \"Ubuntu Mono\", \"Source Code Pro\", monospace;\n",
       "    font-size: 13px;\n",
       "    color: #555;\n",
       "    margin-left: 4px;\n",
       "    line-height: 19px;\n",
       "  }\n",
       "</style>"
      ]
     },
     "metadata": {
      "application/vnd.databricks.v1+output": {
       "arguments": {},
       "data": "",
       "errorSummary": "",
       "errorTraceType": null,
       "metadata": {},
       "type": "ipynbError"
      }
     },
     "output_type": "display_data"
    }
   ],
   "source": [
    "import re\n",
    "\n",
    "txt = \"How to use search in regular expression\"\n",
    "x = re.search(\"\\s\", txt)\n",
    "print(\"The first white-space character is located in position:\", x.start())"
   ]
  },
  {
   "cell_type": "code",
   "execution_count": 0,
   "metadata": {
    "application/vnd.databricks.v1+cell": {
     "cellMetadata": {},
     "inputWidgets": {},
     "nuid": "09c488a0-f91b-4f4a-bb74-1509fed78a3a",
     "showTitle": false,
     "title": ""
    }
   },
   "outputs": [
    {
     "output_type": "display_data",
     "data": {
      "text/html": [
       "<style scoped>\n",
       "  .ansiout {\n",
       "    display: block;\n",
       "    unicode-bidi: embed;\n",
       "    white-space: pre-wrap;\n",
       "    word-wrap: break-word;\n",
       "    word-break: break-all;\n",
       "    font-family: \"Menlo\", \"Monaco\", \"Consolas\", \"Ubuntu Mono\", \"Source Code Pro\", monospace;\n",
       "    font-size: 13px;\n",
       "    color: #555;\n",
       "    margin-left: 4px;\n",
       "    line-height: 19px;\n",
       "  }\n",
       "</style>\n",
       "<div class=\"ansiout\">[&#39;The&#39;, &#39;rain&#39;, &#39;in&#39;, &#39;Spain&#39;]\n",
       "</div>"
      ]
     },
     "metadata": {
      "application/vnd.databricks.v1+output": {
       "addedWidgets": {},
       "arguments": {},
       "data": "<div class=\"ansiout\">[&#39;The&#39;, &#39;rain&#39;, &#39;in&#39;, &#39;Spain&#39;]\n</div>",
       "datasetInfos": [],
       "metadata": {},
       "removedWidgets": [],
       "type": "html"
      }
     },
     "output_type": "display_data"
    }
   ],
   "source": [
    "import re\n",
    "\n",
    "txt = \"How to use split in regular expression\"\n",
    "x = re.split(\"\\s\", txt)\n",
    "print(x)"
   ]
  },
  {
   "cell_type": "markdown",
   "metadata": {
    "application/vnd.databricks.v1+cell": {
     "cellMetadata": {},
     "inputWidgets": {},
     "nuid": "8e47842e-9757-44e8-9100-ba72a64aacf6",
     "showTitle": false,
     "title": ""
    }
   },
   "source": [
    "* The sub() function replaces the matches with the text of your choice:\n",
    "\n"
   ]
  },
  {
   "cell_type": "code",
   "execution_count": 0,
   "metadata": {
    "application/vnd.databricks.v1+cell": {
     "cellMetadata": {},
     "inputWidgets": {},
     "nuid": "041c9807-019a-4d0f-8141-debac3b29a8c",
     "showTitle": false,
     "title": ""
    }
   },
   "outputs": [
    {
     "output_type": "display_data",
     "data": {
      "text/html": [
       "<style scoped>\n",
       "  .ansiout {\n",
       "    display: block;\n",
       "    unicode-bidi: embed;\n",
       "    white-space: pre-wrap;\n",
       "    word-wrap: break-word;\n",
       "    word-break: break-all;\n",
       "    font-family: \"Menlo\", \"Monaco\", \"Consolas\", \"Ubuntu Mono\", \"Source Code Pro\", monospace;\n",
       "    font-size: 13px;\n",
       "    color: #555;\n",
       "    margin-left: 4px;\n",
       "    line-height: 19px;\n",
       "  }\n",
       "</style>\n",
       "<div class=\"ansiout\">TheTESTrainTESTinTESTSpain\n",
       "</div>"
      ]
     },
     "metadata": {
      "application/vnd.databricks.v1+output": {
       "addedWidgets": {},
       "arguments": {},
       "data": "<div class=\"ansiout\">TheTESTrainTESTinTESTSpain\n</div>",
       "datasetInfos": [],
       "metadata": {},
       "removedWidgets": [],
       "type": "html"
      }
     },
     "output_type": "display_data"
    }
   ],
   "source": [
    "import re\n",
    "\n",
    "txt = \"How to substitue value in regular expression\"\n",
    "x = re.sub(\"\\s\", \"TEST\", txt)\n",
    "print(x)"
   ]
  },
  {
   "cell_type": "code",
   "execution_count": 0,
   "metadata": {
    "application/vnd.databricks.v1+cell": {
     "cellMetadata": {},
     "inputWidgets": {},
     "nuid": "170c1b81-34a6-4b24-af44-a616bfd55e73",
     "showTitle": false,
     "title": ""
    }
   },
   "outputs": [
    {
     "output_type": "display_data",
     "data": {
      "text/html": [
       "<style scoped>\n",
       "  .ansiout {\n",
       "    display: block;\n",
       "    unicode-bidi: embed;\n",
       "    white-space: pre-wrap;\n",
       "    word-wrap: break-word;\n",
       "    word-break: break-all;\n",
       "    font-family: \"Menlo\", \"Monaco\", \"Consolas\", \"Ubuntu Mono\", \"Source Code Pro\", monospace;\n",
       "    font-size: 13px;\n",
       "    color: #555;\n",
       "    margin-left: 4px;\n",
       "    line-height: 19px;\n",
       "  }\n",
       "</style>"
      ]
     },
     "metadata": {
      "application/vnd.databricks.v1+output": {
       "arguments": {},
       "data": "",
       "errorSummary": "",
       "errorTraceType": null,
       "metadata": {},
       "type": "ipynbError"
      }
     },
     "output_type": "display_data"
    }
   ],
   "source": [
    "import re\n",
    "\n",
    "pattern = '^\\D+'\n",
    "test_string = 'python relugar expressions learn with 22 examples'\n",
    "result = re.match(pattern, test_string)\n",
    "if result:\n",
    "  print(\"Search successful.\",result)\n",
    "else:\n",
    "  print(\"Search unsuccessful.\",result)\t"
   ]
  },
  {
   "cell_type": "markdown",
   "metadata": {
    "application/vnd.databricks.v1+cell": {
     "cellMetadata": {},
     "inputWidgets": {},
     "nuid": "8382b26c-12ce-4b23-af76-592f2efd4c6c",
     "showTitle": false,
     "title": ""
    }
   },
   "source": [
    "##### \\d\n",
    "* it will return all numbers [0-9] in single digit format"
   ]
  },
  {
   "cell_type": "code",
   "execution_count": 0,
   "metadata": {
    "application/vnd.databricks.v1+cell": {
     "cellMetadata": {},
     "inputWidgets": {},
     "nuid": "6d25dd4c-f467-46ca-ad7b-d0d953273cfb",
     "showTitle": false,
     "title": ""
    }
   },
   "outputs": [
    {
     "output_type": "display_data",
     "data": {
      "text/html": [
       "<style scoped>\n",
       "  .ansiout {\n",
       "    display: block;\n",
       "    unicode-bidi: embed;\n",
       "    white-space: pre-wrap;\n",
       "    word-wrap: break-word;\n",
       "    word-break: break-all;\n",
       "    font-family: \"Menlo\", \"Monaco\", \"Consolas\", \"Ubuntu Mono\", \"Source Code Pro\", monospace;\n",
       "    font-size: 13px;\n",
       "    color: #555;\n",
       "    margin-left: 4px;\n",
       "    line-height: 19px;\n",
       "  }\n",
       "</style>"
      ]
     },
     "metadata": {
      "application/vnd.databricks.v1+output": {
       "arguments": {},
       "data": "",
       "errorSummary": "",
       "errorTraceType": null,
       "metadata": {},
       "type": "ipynbError"
      }
     },
     "output_type": "display_data"
    }
   ],
   "source": [
    "# Program to extract numbers from a string\n",
    "import re\n",
    "\n",
    "string = 'if you are 2 see that 4th row 5th column and 77 records'\n",
    "pattern = '\\d'\n",
    "result = re.findall(pattern, string) \n",
    "print(result)"
   ]
  },
  {
   "cell_type": "markdown",
   "metadata": {
    "application/vnd.databricks.v1+cell": {
     "cellMetadata": {},
     "inputWidgets": {},
     "nuid": "4643c955-00c5-46ba-b218-991a9a6eb01f",
     "showTitle": false,
     "title": ""
    }
   },
   "source": [
    "##### \\d+\n",
    "* it will return all numbers [0-9] in group format"
   ]
  },
  {
   "cell_type": "code",
   "execution_count": 0,
   "metadata": {
    "application/vnd.databricks.v1+cell": {
     "cellMetadata": {},
     "inputWidgets": {},
     "nuid": "1797e5ed-c951-4d6b-a040-e73d0c556d29",
     "showTitle": false,
     "title": ""
    }
   },
   "outputs": [
    {
     "output_type": "display_data",
     "data": {
      "text/html": [
       "<style scoped>\n",
       "  .ansiout {\n",
       "    display: block;\n",
       "    unicode-bidi: embed;\n",
       "    white-space: pre-wrap;\n",
       "    word-wrap: break-word;\n",
       "    word-break: break-all;\n",
       "    font-family: \"Menlo\", \"Monaco\", \"Consolas\", \"Ubuntu Mono\", \"Source Code Pro\", monospace;\n",
       "    font-size: 13px;\n",
       "    color: #555;\n",
       "    margin-left: 4px;\n",
       "    line-height: 19px;\n",
       "  }\n",
       "</style>"
      ]
     },
     "metadata": {
      "application/vnd.databricks.v1+output": {
       "arguments": {},
       "data": "",
       "errorSummary": "",
       "errorTraceType": null,
       "metadata": {},
       "type": "ipynbError"
      }
     },
     "output_type": "display_data"
    }
   ],
   "source": [
    "# Program to extract numbers from a string\n",
    "import re\n",
    "\n",
    "string = 'find employee details in 40th row 2nd file and 30th column % & *  '\n",
    "pattern = '\\d+'\n",
    "result = re.findall(pattern, string) \n",
    "print(result)"
   ]
  },
  {
   "cell_type": "markdown",
   "metadata": {
    "application/vnd.databricks.v1+cell": {
     "cellMetadata": {},
     "inputWidgets": {},
     "nuid": "426f6bc0-0170-410a-b18e-71ec149c8bf3",
     "showTitle": false,
     "title": ""
    }
   },
   "source": [
    "##### \\D\n",
    "* it will return all characters [a-zA-Z] in single character format"
   ]
  },
  {
   "cell_type": "code",
   "execution_count": 0,
   "metadata": {
    "application/vnd.databricks.v1+cell": {
     "cellMetadata": {},
     "inputWidgets": {},
     "nuid": "9c6bf553-de19-4cba-b7c2-db352946a4fc",
     "showTitle": false,
     "title": ""
    }
   },
   "outputs": [
    {
     "output_type": "display_data",
     "data": {
      "text/html": [
       "<style scoped>\n",
       "  .ansiout {\n",
       "    display: block;\n",
       "    unicode-bidi: embed;\n",
       "    white-space: pre-wrap;\n",
       "    word-wrap: break-word;\n",
       "    word-break: break-all;\n",
       "    font-family: \"Menlo\", \"Monaco\", \"Consolas\", \"Ubuntu Mono\", \"Source Code Pro\", monospace;\n",
       "    font-size: 13px;\n",
       "    color: #555;\n",
       "    margin-left: 4px;\n",
       "    line-height: 19px;\n",
       "  }\n",
       "</style>"
      ]
     },
     "metadata": {
      "application/vnd.databricks.v1+output": {
       "arguments": {},
       "data": "",
       "errorSummary": "",
       "errorTraceType": null,
       "metadata": {},
       "type": "ipynbError"
      }
     },
     "output_type": "display_data"
    }
   ],
   "source": [
    "# Program to extract numbers from a string\n",
    "import re\n",
    "\n",
    "string = 'are you able to find 40th employee in 2nd column % & *'\n",
    "pattern = '\\D'\n",
    "result = re.findall(pattern, string) \n",
    "print(result)"
   ]
  },
  {
   "cell_type": "code",
   "execution_count": 0,
   "metadata": {
    "application/vnd.databricks.v1+cell": {
     "cellMetadata": {},
     "inputWidgets": {},
     "nuid": "d13c705d-e40e-445f-b9dc-6a16c99f2b69",
     "showTitle": false,
     "title": ""
    }
   },
   "outputs": [
    {
     "output_type": "display_data",
     "data": {
      "text/html": [
       "<style scoped>\n",
       "  .ansiout {\n",
       "    display: block;\n",
       "    unicode-bidi: embed;\n",
       "    white-space: pre-wrap;\n",
       "    word-wrap: break-word;\n",
       "    word-break: break-all;\n",
       "    font-family: \"Menlo\", \"Monaco\", \"Consolas\", \"Ubuntu Mono\", \"Source Code Pro\", monospace;\n",
       "    font-size: 13px;\n",
       "    color: #555;\n",
       "    margin-left: 4px;\n",
       "    line-height: 19px;\n",
       "  }\n",
       "</style>"
      ]
     },
     "metadata": {
      "application/vnd.databricks.v1+output": {
       "arguments": {},
       "data": "",
       "errorSummary": "",
       "errorTraceType": null,
       "metadata": {},
       "type": "ipynbError"
      }
     },
     "output_type": "display_data"
    }
   ],
   "source": [
    "# Program to extract numbers from a string\n",
    "import re\n",
    "\n",
    "string = 'yes i found in 2nd row 5th column and 10 duplicate records'\n",
    "pattern = '\\D+'\n",
    "result = re.findall(pattern, string) \n",
    "print(result)"
   ]
  },
  {
   "cell_type": "markdown",
   "metadata": {
    "application/vnd.databricks.v1+cell": {
     "cellMetadata": {},
     "inputWidgets": {},
     "nuid": "961dacdb-8cc5-475a-96b3-fe683795c2f9",
     "showTitle": false,
     "title": ""
    }
   },
   "source": [
    "##### \\w\n",
    "* it will return all characters as individual like `[a-zA-Z0-9_]`"
   ]
  },
  {
   "cell_type": "code",
   "execution_count": 0,
   "metadata": {
    "application/vnd.databricks.v1+cell": {
     "cellMetadata": {},
     "inputWidgets": {},
     "nuid": "8ecb2d8b-e2e1-4f4f-8fb8-194ce247f0f9",
     "showTitle": false,
     "title": ""
    }
   },
   "outputs": [
    {
     "output_type": "display_data",
     "data": {
      "text/html": [
       "<style scoped>\n",
       "  .ansiout {\n",
       "    display: block;\n",
       "    unicode-bidi: embed;\n",
       "    white-space: pre-wrap;\n",
       "    word-wrap: break-word;\n",
       "    word-break: break-all;\n",
       "    font-family: \"Menlo\", \"Monaco\", \"Consolas\", \"Ubuntu Mono\", \"Source Code Pro\", monospace;\n",
       "    font-size: 13px;\n",
       "    color: #555;\n",
       "    margin-left: 4px;\n",
       "    line-height: 19px;\n",
       "  }\n",
       "</style>"
      ]
     },
     "metadata": {
      "application/vnd.databricks.v1+output": {
       "arguments": {},
       "data": "",
       "errorSummary": "",
       "errorTraceType": null,
       "metadata": {},
       "type": "ipynbError"
      }
     },
     "output_type": "display_data"
    }
   ],
   "source": [
    "# Program to extract numbers from a string\n",
    "import re\n",
    "\n",
    "string = 'yes i found in 2nd row 5th column and 10 duplicate records'\n",
    "pattern = '\\w'\n",
    "result = re.findall(pattern, string) \n",
    "print(result)"
   ]
  },
  {
   "cell_type": "code",
   "execution_count": 0,
   "metadata": {
    "application/vnd.databricks.v1+cell": {
     "cellMetadata": {},
     "inputWidgets": {},
     "nuid": "b21804b6-e928-4087-be29-c82d6ea8830e",
     "showTitle": false,
     "title": ""
    }
   },
   "outputs": [
    {
     "output_type": "display_data",
     "data": {
      "text/html": [
       "<style scoped>\n",
       "  .ansiout {\n",
       "    display: block;\n",
       "    unicode-bidi: embed;\n",
       "    white-space: pre-wrap;\n",
       "    word-wrap: break-word;\n",
       "    word-break: break-all;\n",
       "    font-family: \"Menlo\", \"Monaco\", \"Consolas\", \"Ubuntu Mono\", \"Source Code Pro\", monospace;\n",
       "    font-size: 13px;\n",
       "    color: #555;\n",
       "    margin-left: 4px;\n",
       "    line-height: 19px;\n",
       "  }\n",
       "</style>"
      ]
     },
     "metadata": {
      "application/vnd.databricks.v1+output": {
       "arguments": {},
       "data": "",
       "errorSummary": "",
       "errorTraceType": null,
       "metadata": {},
       "type": "ipynbError"
      }
     },
     "output_type": "display_data"
    }
   ],
   "source": [
    "# Program to extract numbers from a string\n",
    "import re\n",
    "\n",
    "string = 'yes i found in 2nd row 5th column and 10 duplicate records'\n",
    "pattern = '\\w+'\n",
    "result = re.findall(pattern, string) \n",
    "print(result)"
   ]
  },
  {
   "cell_type": "markdown",
   "metadata": {
    "application/vnd.databricks.v1+cell": {
     "cellMetadata": {},
     "inputWidgets": {},
     "nuid": "a18e0530-0992-4abe-9cfa-64be3525c0d4",
     "showTitle": false,
     "title": ""
    }
   },
   "source": [
    "##### \\W\n",
    "* opposite of \\w and its equal to `[^a-zA-Z0-9_].`"
   ]
  },
  {
   "cell_type": "code",
   "execution_count": 0,
   "metadata": {
    "application/vnd.databricks.v1+cell": {
     "cellMetadata": {},
     "inputWidgets": {},
     "nuid": "93e69e55-8d4c-4268-9caa-066e35c53ba5",
     "showTitle": false,
     "title": ""
    }
   },
   "outputs": [
    {
     "output_type": "display_data",
     "data": {
      "text/html": [
       "<style scoped>\n",
       "  .ansiout {\n",
       "    display: block;\n",
       "    unicode-bidi: embed;\n",
       "    white-space: pre-wrap;\n",
       "    word-wrap: break-word;\n",
       "    word-break: break-all;\n",
       "    font-family: \"Menlo\", \"Monaco\", \"Consolas\", \"Ubuntu Mono\", \"Source Code Pro\", monospace;\n",
       "    font-size: 13px;\n",
       "    color: #555;\n",
       "    margin-left: 4px;\n",
       "    line-height: 19px;\n",
       "  }\n",
       "</style>"
      ]
     },
     "metadata": {
      "application/vnd.databricks.v1+output": {
       "arguments": {},
       "data": "",
       "errorSummary": "",
       "errorTraceType": null,
       "metadata": {},
       "type": "ipynbError"
      }
     },
     "output_type": "display_data"
    }
   ],
   "source": [
    "# Program to extract numbers from a string\n",
    "import re\n",
    "\n",
    "string = 'yes i found in 2nd row 5th column and 10 duplicate records'\n",
    "pattern = '\\W'\n",
    "result = re.findall(pattern, string) \n",
    "print(result)"
   ]
  }
 ],
 "metadata": {
  "application/vnd.databricks.v1+notebook": {
   "dashboards": [],
   "language": "python",
   "notebookMetadata": {
    "pythonIndentUnit": 2
   },
   "notebookName": "Tutorial_16 Regular_expressions",
   "widgets": {}
  }
 },
 "nbformat": 4,
 "nbformat_minor": 0
}
