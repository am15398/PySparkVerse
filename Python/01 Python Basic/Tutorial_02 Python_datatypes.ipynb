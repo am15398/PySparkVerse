{
 "cells": [
  {
   "cell_type": "code",
   "execution_count": 0,
   "metadata": {
    "application/vnd.databricks.v1+cell": {
     "cellMetadata": {},
     "inputWidgets": {},
     "nuid": "9d89671c-08ec-4875-a6fa-d3856cf4e74c",
     "showTitle": false,
     "title": ""
    }
   },
   "outputs": [
    {
     "output_type": "display_data",
     "data": {
      "text/html": [
       "<style scoped>\n",
       "  .ansiout {\n",
       "    display: block;\n",
       "    unicode-bidi: embed;\n",
       "    white-space: pre-wrap;\n",
       "    word-wrap: break-word;\n",
       "    word-break: break-all;\n",
       "    font-family: \"Menlo\", \"Monaco\", \"Consolas\", \"Ubuntu Mono\", \"Source Code Pro\", monospace;\n",
       "    font-size: 13px;\n",
       "    color: #555;\n",
       "    margin-left: 4px;\n",
       "    line-height: 19px;\n",
       "  }\n",
       "</style>\n",
       "<div class=\"ansiout\">Var2 is less than 10\n",
       "</div>"
      ]
     },
     "metadata": {
      "application/vnd.databricks.v1+output": {
       "addedWidgets": {},
       "arguments": {},
       "data": "<div class=\"ansiout\">Var2 is less than 10\n</div>",
       "datasetInfos": [],
       "metadata": {},
       "removedWidgets": [],
       "type": "html"
      }
     },
     "output_type": "display_data"
    }
   ],
   "source": [
    "var2 = 5\n",
    "print('Var is greater than 10') if var2 >10 else print('Var2 is less than 10')\n",
    "  "
   ]
  },
  {
   "cell_type": "code",
   "execution_count": 0,
   "metadata": {
    "application/vnd.databricks.v1+cell": {
     "cellMetadata": {},
     "inputWidgets": {},
     "nuid": "5ebfa881-5d7d-4757-a616-ae9d67308cb8",
     "showTitle": false,
     "title": ""
    }
   },
   "outputs": [
    {
     "output_type": "display_data",
     "data": {
      "text/html": [
       "<style scoped>\n",
       "  .ansiout {\n",
       "    display: block;\n",
       "    unicode-bidi: embed;\n",
       "    white-space: pre-wrap;\n",
       "    word-wrap: break-word;\n",
       "    word-break: break-all;\n",
       "    font-family: \"Menlo\", \"Monaco\", \"Consolas\", \"Ubuntu Mono\", \"Source Code Pro\", monospace;\n",
       "    font-size: 13px;\n",
       "    color: #555;\n",
       "    margin-left: 4px;\n",
       "    line-height: 19px;\n",
       "  }\n",
       "</style>"
      ]
     },
     "metadata": {
      "application/vnd.databricks.v1+output": {
       "arguments": {},
       "data": "",
       "errorSummary": "",
       "errorTraceType": null,
       "metadata": {},
       "type": "ipynbError"
      }
     },
     "output_type": "display_data"
    }
   ],
   "source": [
    "Type casting "
   ]
  },
  {
   "cell_type": "code",
   "execution_count": 0,
   "metadata": {
    "application/vnd.databricks.v1+cell": {
     "cellMetadata": {},
     "collapsed": true,
     "inputWidgets": {},
     "nuid": "ee9cb793-9568-47bf-9b2a-bd02b2e1b8ac",
     "showTitle": false,
     "title": ""
    }
   },
   "outputs": [],
   "source": [
    "help(range)"
   ]
  },
  {
   "cell_type": "code",
   "execution_count": 0,
   "metadata": {
    "application/vnd.databricks.v1+cell": {
     "cellMetadata": {
      "byteLimit": 2048000,
      "rowLimit": 10000
     },
     "inputWidgets": {},
     "nuid": "721b6526-9385-4c0b-b6dd-f0b51ff91d2c",
     "showTitle": false,
     "title": ""
    }
   },
   "outputs": [
    {
     "output_type": "stream",
     "name": "stdout",
     "output_type": "stream",
     "text": [
      "Out[4]: str"
     ]
    }
   ],
   "source": [
    "# string,\n",
    "string_type = 'single quote'\n",
    "type(string_type)\n",
    "string_type=\"double quote\"\n",
    "type(string_type)"
   ]
  },
  {
   "cell_type": "markdown",
   "metadata": {
    "application/vnd.databricks.v1+cell": {
     "cellMetadata": {},
     "inputWidgets": {},
     "nuid": "e5ca1a5b-a29c-4ecb-a831-9a53bb92ad34",
     "showTitle": false,
     "title": ""
    }
   },
   "source": [
    "#### Data Types...\n",
    "* 1) STR\n",
    "* 2) INT\n",
    "* 3) FLOAT\n",
    "* 4) COMPLEX\n",
    "* 5) LIST\n",
    "* 6) TUPLE\n",
    "* 7) RANGE\n",
    "* 8) DICT\n",
    "* 9) SET\n",
    "* 10) FROZENSET\n",
    "* 11) BOOL\n",
    "* 12) BYTES\n",
    "* 13) BYTEARRAY\n",
    "* 14) MEMORYVIEW"
   ]
  },
  {
   "cell_type": "markdown",
   "metadata": {
    "application/vnd.databricks.v1+cell": {
     "cellMetadata": {},
     "inputWidgets": {},
     "nuid": "d56638c4-910a-4e7c-8a70-07e1013f95aa",
     "showTitle": false,
     "title": ""
    }
   },
   "source": [
    "##### Range data Type\n",
    "* The range() function is used to generate a sequence of numbers over time. \n",
    "* At its simplest, it accepts an integer and returns a range object (a type of iterable)\n",
    "* syntax: `range(start, stop, step)`\n",
    "* `start`\tOptional. An integer number specifying at which position to start. Default is 0\n",
    "* `stop`\tRequired. An integer number specifying at which position to stop (not included).\n",
    "* `step`\tOptional. An integer number specifying the incrementation. Default is 1"
   ]
  },
  {
   "cell_type": "code",
   "execution_count": 0,
   "metadata": {
    "application/vnd.databricks.v1+cell": {
     "cellMetadata": {},
     "inputWidgets": {},
     "nuid": "7da11de8-5e9a-4cbd-9d66-beca8f716428",
     "showTitle": false,
     "title": ""
    }
   },
   "outputs": [
    {
     "output_type": "display_data",
     "data": {
      "text/html": [
       "<style scoped>\n",
       "  .ansiout {\n",
       "    display: block;\n",
       "    unicode-bidi: embed;\n",
       "    white-space: pre-wrap;\n",
       "    word-wrap: break-word;\n",
       "    word-break: break-all;\n",
       "    font-family: \"Menlo\", \"Monaco\", \"Consolas\", \"Ubuntu Mono\", \"Source Code Pro\", monospace;\n",
       "    font-size: 13px;\n",
       "    color: #555;\n",
       "    margin-left: 4px;\n",
       "    line-height: 19px;\n",
       "  }\n",
       "</style>\n",
       "<div class=\"ansiout\"></div>"
      ]
     },
     "metadata": {
      "application/vnd.databricks.v1+output": {
       "addedWidgets": {},
       "arguments": {},
       "data": "<div class=\"ansiout\"></div>",
       "datasetInfos": [],
       "metadata": {},
       "removedWidgets": [],
       "type": "html"
      }
     },
     "output_type": "display_data"
    }
   ],
   "source": [
    "v_range = range(10,100,5) # n-1\n"
   ]
  },
  {
   "cell_type": "code",
   "execution_count": 0,
   "metadata": {
    "application/vnd.databricks.v1+cell": {
     "cellMetadata": {},
     "inputWidgets": {},
     "nuid": "38991503-c138-4ea3-814b-f02fccc74b60",
     "showTitle": false,
     "title": ""
    }
   },
   "outputs": [
    {
     "output_type": "display_data",
     "data": {
      "text/html": [
       "<style scoped>\n",
       "  .ansiout {\n",
       "    display: block;\n",
       "    unicode-bidi: embed;\n",
       "    white-space: pre-wrap;\n",
       "    word-wrap: break-word;\n",
       "    word-break: break-all;\n",
       "    font-family: \"Menlo\", \"Monaco\", \"Consolas\", \"Ubuntu Mono\", \"Source Code Pro\", monospace;\n",
       "    font-size: 13px;\n",
       "    color: #555;\n",
       "    margin-left: 4px;\n",
       "    line-height: 19px;\n",
       "  }\n",
       "</style>\n",
       "<div class=\"ansiout\">Out[31]: [10, 15, 20, 25, 30, 35, 40, 45, 50, 55, 60, 65, 70, 75, 80, 85, 90, 95]</div>"
      ]
     },
     "metadata": {
      "application/vnd.databricks.v1+output": {
       "addedWidgets": {},
       "arguments": {},
       "data": "<div class=\"ansiout\">Out[31]: [10, 15, 20, 25, 30, 35, 40, 45, 50, 55, 60, 65, 70, 75, 80, 85, 90, 95]</div>",
       "datasetInfos": [],
       "metadata": {},
       "removedWidgets": [],
       "type": "html"
      }
     },
     "output_type": "display_data"
    }
   ],
   "source": [
    "list(v_range)"
   ]
  },
  {
   "cell_type": "code",
   "execution_count": 0,
   "metadata": {
    "application/vnd.databricks.v1+cell": {
     "cellMetadata": {},
     "collapsed": true,
     "inputWidgets": {},
     "nuid": "cded3284-8690-4815-87ff-6110fe630e32",
     "showTitle": false,
     "title": ""
    }
   },
   "outputs": [
    {
     "output_type": "display_data",
     "data": {
      "text/html": [
       "<style scoped>\n",
       "  .ansiout {\n",
       "    display: block;\n",
       "    unicode-bidi: embed;\n",
       "    white-space: pre-wrap;\n",
       "    word-wrap: break-word;\n",
       "    word-break: break-all;\n",
       "    font-family: \"Menlo\", \"Monaco\", \"Consolas\", \"Ubuntu Mono\", \"Source Code Pro\", monospace;\n",
       "    font-size: 13px;\n",
       "    color: #555;\n",
       "    margin-left: 4px;\n",
       "    line-height: 19px;\n",
       "  }\n",
       "</style>\n",
       "<div class=\"ansiout\">5\n",
       "10\n",
       "15\n",
       "20\n",
       "25\n",
       "30\n",
       "35\n",
       "40\n",
       "45\n",
       "50\n",
       "55\n",
       "60\n",
       "65\n",
       "70\n",
       "75\n",
       "80\n",
       "85\n",
       "90\n",
       "95\n",
       "</div>"
      ]
     },
     "metadata": {
      "application/vnd.databricks.v1+output": {
       "addedWidgets": {},
       "arguments": {},
       "data": "<div class=\"ansiout\">5\n10\n15\n20\n25\n30\n35\n40\n45\n50\n55\n60\n65\n70\n75\n80\n85\n90\n95\n</div>",
       "datasetInfos": [],
       "metadata": {},
       "removedWidgets": [],
       "type": "html"
      }
     },
     "output_type": "display_data"
    }
   ],
   "source": [
    "v_range =range(5,100,5)\n"
   ]
  },
  {
   "cell_type": "code",
   "execution_count": 0,
   "metadata": {
    "application/vnd.databricks.v1+cell": {
     "cellMetadata": {},
     "inputWidgets": {},
     "nuid": "21d1d7db-0b3a-469b-ad48-7443dd6494a7",
     "showTitle": false,
     "title": ""
    }
   },
   "outputs": [
    {
     "output_type": "display_data",
     "data": {
      "text/html": [
       "<style scoped>\n",
       "  .ansiout {\n",
       "    display: block;\n",
       "    unicode-bidi: embed;\n",
       "    white-space: pre-wrap;\n",
       "    word-wrap: break-word;\n",
       "    word-break: break-all;\n",
       "    font-family: \"Menlo\", \"Monaco\", \"Consolas\", \"Ubuntu Mono\", \"Source Code Pro\", monospace;\n",
       "    font-size: 13px;\n",
       "    color: #555;\n",
       "    margin-left: 4px;\n",
       "    line-height: 19px;\n",
       "  }\n",
       "</style>\n",
       "<div class=\"ansiout\">&lt;class &#39;range&#39;&gt;\n",
       "(0, 1, 2, 3, 4, 5, 6, 7, 8, 9)\n",
       "</div>"
      ]
     },
     "metadata": {
      "application/vnd.databricks.v1+output": {
       "addedWidgets": {},
       "arguments": {},
       "data": "<div class=\"ansiout\">&lt;class &#39;range&#39;&gt;\n(0, 1, 2, 3, 4, 5, 6, 7, 8, 9)\n</div>",
       "datasetInfos": [],
       "metadata": {},
       "removedWidgets": [],
       "type": "html"
      }
     },
     "output_type": "display_data"
    }
   ],
   "source": [
    "range_v = range(10)\n",
    "print(type(range_v))\n",
    "print(tuple(range_v))"
   ]
  },
  {
   "cell_type": "code",
   "execution_count": 0,
   "metadata": {
    "application/vnd.databricks.v1+cell": {
     "cellMetadata": {
      "byteLimit": 2048000,
      "rowLimit": 10000
     },
     "inputWidgets": {},
     "nuid": "a2191b6c-43c4-40db-9641-86093c4d32ca",
     "showTitle": false,
     "title": ""
    }
   },
   "outputs": [
    {
     "output_type": "stream",
     "name": "stdout",
     "output_type": "stream",
     "text": [
      "range(0, 10)\n[0, 1, 2, 3, 4, 5, 6, 7, 8, 9]\n"
     ]
    }
   ],
   "source": [
    "range_v=range(10)\n",
    "print(range_v)\n",
    "print(list(range_v))"
   ]
  },
  {
   "cell_type": "code",
   "execution_count": 0,
   "metadata": {
    "application/vnd.databricks.v1+cell": {
     "cellMetadata": {},
     "inputWidgets": {},
     "nuid": "204a6346-a43a-4981-b888-0f4ee4ce9827",
     "showTitle": false,
     "title": ""
    }
   },
   "outputs": [
    {
     "output_type": "display_data",
     "data": {
      "text/html": [
       "<style scoped>\n",
       "  .ansiout {\n",
       "    display: block;\n",
       "    unicode-bidi: embed;\n",
       "    white-space: pre-wrap;\n",
       "    word-wrap: break-word;\n",
       "    word-break: break-all;\n",
       "    font-family: \"Menlo\", \"Monaco\", \"Consolas\", \"Ubuntu Mono\", \"Source Code Pro\", monospace;\n",
       "    font-size: 13px;\n",
       "    color: #555;\n",
       "    margin-left: 4px;\n",
       "    line-height: 19px;\n",
       "  }\n",
       "</style>\n",
       "<div class=\"ansiout\">Range values are generated :  [3, 4, 5, 6, 7, 8, 9]\n",
       "v_range data type is :  &lt;class &#39;range&#39;&gt;\n",
       "</div>"
      ]
     },
     "metadata": {
      "application/vnd.databricks.v1+output": {
       "addedWidgets": {},
       "arguments": {},
       "data": "<div class=\"ansiout\">Range values are generated :  [3, 4, 5, 6, 7, 8, 9]\nv_range data type is :  &lt;class &#39;range&#39;&gt;\n</div>",
       "datasetInfos": [],
       "metadata": {},
       "removedWidgets": [],
       "type": "html"
      }
     },
     "output_type": "display_data"
    }
   ],
   "source": [
    "v_range = range(3,10)\n",
    "print('Range values are generated : ',list(v_range))\n",
    "print('v_range data type is : ', type(v_range))"
   ]
  },
  {
   "cell_type": "code",
   "execution_count": 0,
   "metadata": {
    "application/vnd.databricks.v1+cell": {
     "cellMetadata": {},
     "inputWidgets": {},
     "nuid": "b07153a4-3e0d-4a19-b2ef-3789a2297c8e",
     "showTitle": false,
     "title": ""
    }
   },
   "outputs": [
    {
     "output_type": "display_data",
     "data": {
      "text/html": [
       "<style scoped>\n",
       "  .ansiout {\n",
       "    display: block;\n",
       "    unicode-bidi: embed;\n",
       "    white-space: pre-wrap;\n",
       "    word-wrap: break-word;\n",
       "    word-break: break-all;\n",
       "    font-family: \"Menlo\", \"Monaco\", \"Consolas\", \"Ubuntu Mono\", \"Source Code Pro\", monospace;\n",
       "    font-size: 13px;\n",
       "    color: #555;\n",
       "    margin-left: 4px;\n",
       "    line-height: 19px;\n",
       "  }\n",
       "</style>\n",
       "<div class=\"ansiout\">Out[5]: [-100, -99, -98, -97, -96]</div>"
      ]
     },
     "metadata": {
      "application/vnd.databricks.v1+output": {
       "addedWidgets": {},
       "arguments": {},
       "data": "<div class=\"ansiout\">Out[5]: [-100, -99, -98, -97, -96]</div>",
       "datasetInfos": [],
       "metadata": {},
       "removedWidgets": [],
       "type": "html"
      }
     },
     "output_type": "display_data"
    }
   ],
   "source": [
    "list(range(-100, -95))"
   ]
  },
  {
   "cell_type": "code",
   "execution_count": 0,
   "metadata": {
    "application/vnd.databricks.v1+cell": {
     "cellMetadata": {},
     "inputWidgets": {},
     "nuid": "1e343234-0f49-4544-b7a2-90abea41baec",
     "showTitle": false,
     "title": ""
    }
   },
   "outputs": [
    {
     "output_type": "display_data",
     "data": {
      "text/html": [
       "<style scoped>\n",
       "  .ansiout {\n",
       "    display: block;\n",
       "    unicode-bidi: embed;\n",
       "    white-space: pre-wrap;\n",
       "    word-wrap: break-word;\n",
       "    word-break: break-all;\n",
       "    font-family: \"Menlo\", \"Monaco\", \"Consolas\", \"Ubuntu Mono\", \"Source Code Pro\", monospace;\n",
       "    font-size: 13px;\n",
       "    color: #555;\n",
       "    margin-left: 4px;\n",
       "    line-height: 19px;\n",
       "  }\n",
       "</style>\n",
       "<div class=\"ansiout\">Out[7]: [1, 6, 11, 16]</div>"
      ]
     },
     "metadata": {
      "application/vnd.databricks.v1+output": {
       "addedWidgets": {},
       "arguments": {},
       "data": "<div class=\"ansiout\">Out[7]: [1, 6, 11, 16]</div>",
       "datasetInfos": [],
       "metadata": {},
       "removedWidgets": [],
       "type": "html"
      }
     },
     "output_type": "display_data"
    }
   ],
   "source": [
    "list(range(1, 20, 5))  # Increment by 5"
   ]
  },
  {
   "cell_type": "code",
   "execution_count": 0,
   "metadata": {
    "application/vnd.databricks.v1+cell": {
     "cellMetadata": {
      "byteLimit": 2048000,
      "rowLimit": 10000
     },
     "inputWidgets": {},
     "nuid": "121d3c42-4ad1-49ce-ac98-316517860d45",
     "showTitle": false,
     "title": ""
    }
   },
   "outputs": [
    {
     "output_type": "stream",
     "name": "stdout",
     "output_type": "stream",
     "text": [
      "[50, 51, 52, 53, 54, 55, 56, 57, 58, 59, 60, 61, 62, 63, 64, 65, 66, 67, 68, 69, 70, 71, 72, 73, 74, 75, 76, 77, 78, 79, 80, 81, 82, 83, 84, 85, 86, 87, 88, 89, 90, 91, 92, 93, 94, 95, 96, 97, 98, 99, 100, 101, 102, 103, 104, 105, 106, 107, 108, 109, 110, 111, 112, 113, 114, 115, 116, 117, 118, 119, 120, 121, 122, 123, 124, 125, 126, 127, 128, 129, 130, 131, 132, 133, 134, 135, 136, 137, 138, 139, 140, 141, 142, 143, 144, 145, 146, 147, 148, 149]\n<class 'range'>\n"
     ]
    }
   ],
   "source": [
    "x_range = range(50,150)\n",
    "print(list(x_range))\n",
    "print(type(x_range))"
   ]
  },
  {
   "cell_type": "code",
   "execution_count": 0,
   "metadata": {
    "application/vnd.databricks.v1+cell": {
     "cellMetadata": {},
     "inputWidgets": {},
     "nuid": "a25835e0-3080-496b-b4a7-ac4ed254e80b",
     "showTitle": false,
     "title": ""
    }
   },
   "outputs": [],
   "source": [
    "range_x=range(100,120)\n",
    "print(list(range_x))"
   ]
  },
  {
   "cell_type": "code",
   "execution_count": 0,
   "metadata": {
    "application/vnd.databricks.v1+cell": {
     "cellMetadata": {},
     "inputWidgets": {},
     "nuid": "cae0d21d-9a75-493a-b2e4-62c7666e5e50",
     "showTitle": false,
     "title": ""
    }
   },
   "outputs": [],
   "source": [
    "x = range(6)\t#range\t\n",
    "print('Range Data Type : ',type(x))\n",
    "print(x)\n",
    "print(list(x))\n",
    "y = range(1,10)\n",
    "print(list(y))"
   ]
  },
  {
   "cell_type": "markdown",
   "metadata": {
    "application/vnd.databricks.v1+cell": {
     "cellMetadata": {},
     "inputWidgets": {},
     "nuid": "7bdfc952-ef35-4276-a9f1-68aaa1a6bbf7",
     "showTitle": false,
     "title": ""
    }
   },
   "source": [
    "#### String Data Type\n",
    "* Strings are amongst the most popular types in Python. We can create them simply by enclosing characters in quotes.\n",
    "* Python treats single quotes the same as double quotes. \n",
    "* Creating strings is as simple as assigning a value to a variable"
   ]
  },
  {
   "cell_type": "code",
   "execution_count": 0,
   "metadata": {
    "application/vnd.databricks.v1+cell": {
     "cellMetadata": {},
     "inputWidgets": {},
     "nuid": "11f9257f-bd65-459a-94b8-1f960e02c39e",
     "showTitle": false,
     "title": ""
    }
   },
   "outputs": [],
   "source": [
    "help(x)"
   ]
  },
  {
   "cell_type": "code",
   "execution_count": 0,
   "metadata": {
    "application/vnd.databricks.v1+cell": {
     "cellMetadata": {},
     "inputWidgets": {},
     "nuid": "e11a7d3f-4059-4b27-86a1-b834989cc0de",
     "showTitle": false,
     "title": ""
    }
   },
   "outputs": [
    {
     "output_type": "display_data",
     "data": {
      "text/html": [
       "<style scoped>\n",
       "  .ansiout {\n",
       "    display: block;\n",
       "    unicode-bidi: embed;\n",
       "    white-space: pre-wrap;\n",
       "    word-wrap: break-word;\n",
       "    word-break: break-all;\n",
       "    font-family: \"Menlo\", \"Monaco\", \"Consolas\", \"Ubuntu Mono\", \"Source Code Pro\", monospace;\n",
       "    font-size: 13px;\n",
       "    color: #555;\n",
       "    margin-left: 4px;\n",
       "    line-height: 19px;\n",
       "  }\n",
       "</style>\n",
       "<div class=\"ansiout\">String Data Type:  &lt;class &#39;str&#39;&gt;\n",
       "Hello World\n",
       "This is pyspark Telugu Youtube channel\n",
       "&lt;class &#39;str&#39;&gt;\n",
       "</div>"
      ]
     },
     "metadata": {
      "application/vnd.databricks.v1+output": {
       "addedWidgets": {},
       "arguments": {},
       "data": "<div class=\"ansiout\">String Data Type:  &lt;class &#39;str&#39;&gt;\nHello World\nThis is pyspark Telugu Youtube channel\n&lt;class &#39;str&#39;&gt;\n</div>",
       "datasetInfos": [],
       "metadata": {},
       "removedWidgets": [],
       "type": "html"
      }
     },
     "output_type": "display_data"
    }
   ],
   "source": [
    "y_str = 'This is pyspark Telugu Youtube channel'\n",
    "x = \"Hello World\"\t#str\n",
    "print('String Data Type: ',type(x))\n",
    "print(x)\n",
    "print(y_str)\n",
    "print(type(y_str))"
   ]
  },
  {
   "cell_type": "markdown",
   "metadata": {
    "application/vnd.databricks.v1+cell": {
     "cellMetadata": {},
     "inputWidgets": {},
     "nuid": "796d28b4-496e-4f7d-8961-5621b125194e",
     "showTitle": false,
     "title": ""
    }
   },
   "source": [
    "#### Int Data Type\n",
    "* hey are positive or negative whole numbers with no decimal point. Integers in Python 3 are of unlimited size."
   ]
  },
  {
   "cell_type": "code",
   "execution_count": 0,
   "metadata": {
    "application/vnd.databricks.v1+cell": {
     "cellMetadata": {},
     "inputWidgets": {},
     "nuid": "1a8ae74e-ec82-40b1-932b-5f9a0e5ee767",
     "showTitle": false,
     "title": ""
    }
   },
   "outputs": [
    {
     "output_type": "display_data",
     "data": {
      "text/html": [
       "<style scoped>\n",
       "  .ansiout {\n",
       "    display: block;\n",
       "    unicode-bidi: embed;\n",
       "    white-space: pre-wrap;\n",
       "    word-wrap: break-word;\n",
       "    word-break: break-all;\n",
       "    font-family: \"Menlo\", \"Monaco\", \"Consolas\", \"Ubuntu Mono\", \"Source Code Pro\", monospace;\n",
       "    font-size: 13px;\n",
       "    color: #555;\n",
       "    margin-left: 4px;\n",
       "    line-height: 19px;\n",
       "  }\n",
       "</style>\n",
       "<div class=\"ansiout\">Out[11]: int</div>"
      ]
     },
     "metadata": {
      "application/vnd.databricks.v1+output": {
       "addedWidgets": {},
       "arguments": {},
       "data": "<div class=\"ansiout\">Out[11]: int</div>",
       "datasetInfos": [],
       "metadata": {},
       "removedWidgets": [],
       "type": "html"
      }
     },
     "output_type": "display_data"
    }
   ],
   "source": [
    "a=55\n",
    "a\n",
    "type(a)"
   ]
  },
  {
   "cell_type": "code",
   "execution_count": 0,
   "metadata": {
    "application/vnd.databricks.v1+cell": {
     "cellMetadata": {},
     "inputWidgets": {},
     "nuid": "7a73eeb8-9319-4201-acc0-ad2d9601ee54",
     "showTitle": false,
     "title": ""
    }
   },
   "outputs": [
    {
     "output_type": "display_data",
     "data": {
      "text/html": [
       "<style scoped>\n",
       "  .ansiout {\n",
       "    display: block;\n",
       "    unicode-bidi: embed;\n",
       "    white-space: pre-wrap;\n",
       "    word-wrap: break-word;\n",
       "    word-break: break-all;\n",
       "    font-family: \"Menlo\", \"Monaco\", \"Consolas\", \"Ubuntu Mono\", \"Source Code Pro\", monospace;\n",
       "    font-size: 13px;\n",
       "    color: #555;\n",
       "    margin-left: 4px;\n",
       "    line-height: 19px;\n",
       "  }\n",
       "</style>\n",
       "<div class=\"ansiout\">Int Data Type :  &lt;class &#39;int&#39;&gt;\n",
       "34\n",
       "&lt;class &#39;int&#39;&gt;\n",
       "</div>"
      ]
     },
     "metadata": {
      "application/vnd.databricks.v1+output": {
       "addedWidgets": {},
       "arguments": {},
       "data": "<div class=\"ansiout\">Int Data Type :  &lt;class &#39;int&#39;&gt;\n34\n&lt;class &#39;int&#39;&gt;\n</div>",
       "datasetInfos": [],
       "metadata": {},
       "removedWidgets": [],
       "type": "html"
      }
     },
     "output_type": "display_data"
    }
   ],
   "source": [
    "x = 34\t#int\t\n",
    "y = 534 #int\n",
    "print('Int Data Type : ',type(x))\n",
    "print(x)\n",
    "print(type(y))"
   ]
  },
  {
   "cell_type": "markdown",
   "metadata": {
    "application/vnd.databricks.v1+cell": {
     "cellMetadata": {},
     "inputWidgets": {},
     "nuid": "afa2658c-9b06-4be8-b32f-fbc80328014b",
     "showTitle": false,
     "title": ""
    }
   },
   "source": [
    "#### Float Data Type\n",
    "* they represent real numbers and are written with a decimal point dividing the integer and the fractional parts. \n",
    "* Floats may also be in scientific notation, with E or e indicating the power of 10 (2.5e2 = 2.5 x 102 = 250)."
   ]
  },
  {
   "cell_type": "code",
   "execution_count": 0,
   "metadata": {
    "application/vnd.databricks.v1+cell": {
     "cellMetadata": {},
     "inputWidgets": {},
     "nuid": "8a47c601-d1e4-47e8-a6d4-5d59b2255b70",
     "showTitle": false,
     "title": ""
    }
   },
   "outputs": [
    {
     "output_type": "display_data",
     "data": {
      "text/html": [
       "<style scoped>\n",
       "  .ansiout {\n",
       "    display: block;\n",
       "    unicode-bidi: embed;\n",
       "    white-space: pre-wrap;\n",
       "    word-wrap: break-word;\n",
       "    word-break: break-all;\n",
       "    font-family: \"Menlo\", \"Monaco\", \"Consolas\", \"Ubuntu Mono\", \"Source Code Pro\", monospace;\n",
       "    font-size: 13px;\n",
       "    color: #555;\n",
       "    margin-left: 4px;\n",
       "    line-height: 19px;\n",
       "  }\n",
       "</style>\n",
       "<div class=\"ansiout\">Float Data Type :  &lt;class &#39;float&#39;&gt;\n",
       "20.2342\n",
       "</div>"
      ]
     },
     "metadata": {
      "application/vnd.databricks.v1+output": {
       "addedWidgets": {},
       "arguments": {},
       "data": "<div class=\"ansiout\">Float Data Type :  &lt;class &#39;float&#39;&gt;\n20.2342\n</div>",
       "datasetInfos": [],
       "metadata": {},
       "removedWidgets": [],
       "type": "html"
      }
     },
     "output_type": "display_data"
    }
   ],
   "source": [
    "x = 20.2342\t#float\t\n",
    "print('Float Data Type : ',type(x))\n",
    "print(x)"
   ]
  },
  {
   "cell_type": "markdown",
   "metadata": {
    "application/vnd.databricks.v1+cell": {
     "cellMetadata": {},
     "inputWidgets": {},
     "nuid": "c49ecfae-6730-43f1-84f2-08ce46aabc50",
     "showTitle": false,
     "title": ""
    }
   },
   "source": [
    "#### List\n",
    "* List is a collection which is ordered and changeable. Allows duplicate members.\n",
    "* In Python lists are written with square brackets."
   ]
  },
  {
   "cell_type": "code",
   "execution_count": 0,
   "metadata": {
    "application/vnd.databricks.v1+cell": {
     "cellMetadata": {},
     "inputWidgets": {},
     "nuid": "a8158799-bd70-4405-856c-4ce9d95ee9f2",
     "showTitle": false,
     "title": ""
    }
   },
   "outputs": [
    {
     "output_type": "display_data",
     "data": {
      "text/html": [
       "<style scoped>\n",
       "  .ansiout {\n",
       "    display: block;\n",
       "    unicode-bidi: embed;\n",
       "    white-space: pre-wrap;\n",
       "    word-wrap: break-word;\n",
       "    word-break: break-all;\n",
       "    font-family: \"Menlo\", \"Monaco\", \"Consolas\", \"Ubuntu Mono\", \"Source Code Pro\", monospace;\n",
       "    font-size: 13px;\n",
       "    color: #555;\n",
       "    margin-left: 4px;\n",
       "    line-height: 19px;\n",
       "  }\n",
       "</style>\n",
       "<div class=\"ansiout\">Out[17]: list</div>"
      ]
     },
     "metadata": {
      "application/vnd.databricks.v1+output": {
       "addedWidgets": {},
       "arguments": {},
       "data": "<div class=\"ansiout\">Out[17]: list</div>",
       "datasetInfos": [],
       "metadata": {},
       "removedWidgets": [],
       "type": "html"
      }
     },
     "output_type": "display_data"
    }
   ],
   "source": [
    "bool_v =[1,2,3,\"sfsdf\",True,'sdfsd']\n",
    "type(bool_v)"
   ]
  },
  {
   "cell_type": "code",
   "execution_count": 0,
   "metadata": {
    "application/vnd.databricks.v1+cell": {
     "cellMetadata": {},
     "inputWidgets": {},
     "nuid": "a64947a1-e96d-4b55-8f26-03267c9a73c6",
     "showTitle": false,
     "title": ""
    }
   },
   "outputs": [
    {
     "output_type": "display_data",
     "data": {
      "text/html": [
       "<style scoped>\n",
       "  .ansiout {\n",
       "    display: block;\n",
       "    unicode-bidi: embed;\n",
       "    white-space: pre-wrap;\n",
       "    word-wrap: break-word;\n",
       "    word-break: break-all;\n",
       "    font-family: \"Menlo\", \"Monaco\", \"Consolas\", \"Ubuntu Mono\", \"Source Code Pro\", monospace;\n",
       "    font-size: 13px;\n",
       "    color: #555;\n",
       "    margin-left: 4px;\n",
       "    line-height: 19px;\n",
       "  }\n",
       "</style>\n",
       "<div class=\"ansiout\">&lt;class &#39;list&#39;&gt;\n",
       "this is index 2\n",
       "</div>"
      ]
     },
     "metadata": {
      "application/vnd.databricks.v1+output": {
       "addedWidgets": {},
       "arguments": {},
       "data": "<div class=\"ansiout\">&lt;class &#39;list&#39;&gt;\nthis is index 2\n</div>",
       "datasetInfos": [],
       "metadata": {},
       "removedWidgets": [],
       "type": "html"
      }
     },
     "output_type": "display_data"
    }
   ],
   "source": [
    "a = [1,0,\"this is index 2\",1,2,2,2,3,4,5,6,7,8,'String','NAme',44.33,True]\n",
    "print(type(a))\n",
    "print(a[2])"
   ]
  },
  {
   "cell_type": "code",
   "execution_count": 0,
   "metadata": {
    "application/vnd.databricks.v1+cell": {
     "cellMetadata": {},
     "inputWidgets": {},
     "nuid": "aaf57a98-4b14-429f-b143-e810da77fb54",
     "showTitle": false,
     "title": ""
    }
   },
   "outputs": [
    {
     "output_type": "display_data",
     "data": {
      "text/html": [
       "<style scoped>\n",
       "  .ansiout {\n",
       "    display: block;\n",
       "    unicode-bidi: embed;\n",
       "    white-space: pre-wrap;\n",
       "    word-wrap: break-word;\n",
       "    word-break: break-all;\n",
       "    font-family: \"Menlo\", \"Monaco\", \"Consolas\", \"Ubuntu Mono\", \"Source Code Pro\", monospace;\n",
       "    font-size: 13px;\n",
       "    color: #555;\n",
       "    margin-left: 4px;\n",
       "    line-height: 19px;\n",
       "  }\n",
       "</style>\n",
       "<div class=\"ansiout\"> List Data Type :  &lt;class &#39;list&#39;&gt;\n",
       "2323\n",
       "</div>"
      ]
     },
     "metadata": {
      "application/vnd.databricks.v1+output": {
       "addedWidgets": {},
       "arguments": {},
       "data": "<div class=\"ansiout\"> List Data Type :  &lt;class &#39;list&#39;&gt;\n2323\n</div>",
       "datasetInfos": [],
       "metadata": {},
       "removedWidgets": [],
       "type": "html"
      }
     },
     "output_type": "display_data"
    }
   ],
   "source": [
    "x = [\"apple\",23,2323,34.34, \"banana\", \"cherry\",11,22,11,22,1,1,2,2,2,3,3]\t#list\t\n",
    "print(' List Data Type : ',type(x))\n",
    "print(x[2])"
   ]
  },
  {
   "cell_type": "code",
   "execution_count": 0,
   "metadata": {
    "application/vnd.databricks.v1+cell": {
     "cellMetadata": {},
     "inputWidgets": {},
     "nuid": "747b7f4c-b272-4c41-a984-d5c264ec32fc",
     "showTitle": false,
     "title": ""
    }
   },
   "outputs": [],
   "source": [
    "num_list=[1,2,3,4,5,6,7,7,7,6,6,5,5,8,8,9,9,]\n",
    "print(type(num_list))\n",
    "print(num_list)"
   ]
  },
  {
   "cell_type": "markdown",
   "metadata": {
    "application/vnd.databricks.v1+cell": {
     "cellMetadata": {},
     "inputWidgets": {},
     "nuid": "00daa76a-8ecb-4a10-900a-4910e47ccfc5",
     "showTitle": false,
     "title": ""
    }
   },
   "source": [
    "#### Tuple\n",
    "* Tuple is a collection which is ordered and unchangeable. Allows duplicate members.\n",
    "* In Python tuples are written with round brackets.\n",
    "\n"
   ]
  },
  {
   "cell_type": "code",
   "execution_count": 0,
   "metadata": {
    "application/vnd.databricks.v1+cell": {
     "cellMetadata": {},
     "inputWidgets": {},
     "nuid": "9751c7c9-0364-4b60-b96c-77980048c5ce",
     "showTitle": false,
     "title": ""
    }
   },
   "outputs": [
    {
     "output_type": "display_data",
     "data": {
      "text/html": [
       "<style scoped>\n",
       "  .ansiout {\n",
       "    display: block;\n",
       "    unicode-bidi: embed;\n",
       "    white-space: pre-wrap;\n",
       "    word-wrap: break-word;\n",
       "    word-break: break-all;\n",
       "    font-family: \"Menlo\", \"Monaco\", \"Consolas\", \"Ubuntu Mono\", \"Source Code Pro\", monospace;\n",
       "    font-size: 13px;\n",
       "    color: #555;\n",
       "    margin-left: 4px;\n",
       "    line-height: 19px;\n",
       "  }\n",
       "</style>\n",
       "<div class=\"ansiout\">Out[19]: tuple</div>"
      ]
     },
     "metadata": {
      "application/vnd.databricks.v1+output": {
       "addedWidgets": {},
       "arguments": {},
       "data": "<div class=\"ansiout\">Out[19]: tuple</div>",
       "datasetInfos": [],
       "metadata": {},
       "removedWidgets": [],
       "type": "html"
      }
     },
     "output_type": "display_data"
    }
   ],
   "source": [
    "a_tuple=(1,2,3,4)\n",
    "type(a_tuple)"
   ]
  },
  {
   "cell_type": "code",
   "execution_count": 0,
   "metadata": {
    "application/vnd.databricks.v1+cell": {
     "cellMetadata": {},
     "inputWidgets": {},
     "nuid": "eceae243-08dd-4b18-9b38-c2b895c83ec7",
     "showTitle": false,
     "title": ""
    }
   },
   "outputs": [
    {
     "output_type": "display_data",
     "data": {
      "text/html": [
       "<style scoped>\n",
       "  .ansiout {\n",
       "    display: block;\n",
       "    unicode-bidi: embed;\n",
       "    white-space: pre-wrap;\n",
       "    word-wrap: break-word;\n",
       "    word-break: break-all;\n",
       "    font-family: \"Menlo\", \"Monaco\", \"Consolas\", \"Ubuntu Mono\", \"Source Code Pro\", monospace;\n",
       "    font-size: 13px;\n",
       "    color: #555;\n",
       "    margin-left: 4px;\n",
       "    line-height: 19px;\n",
       "  }\n",
       "</style>\n",
       "<div class=\"ansiout\">Tuple Data Type :  &lt;class &#39;tuple&#39;&gt;\n",
       "apple\n",
       "</div>"
      ]
     },
     "metadata": {
      "application/vnd.databricks.v1+output": {
       "addedWidgets": {},
       "arguments": {},
       "data": "<div class=\"ansiout\">Tuple Data Type :  &lt;class &#39;tuple&#39;&gt;\napple\n</div>",
       "datasetInfos": [],
       "metadata": {},
       "removedWidgets": [],
       "type": "html"
      }
     },
     "output_type": "display_data"
    }
   ],
   "source": [
    "x = (\"apple\", 12,1212,121.12,\"banana\", \"cherry\")\t#tuple\t\n",
    "print('Tuple Data Type : ', type(x))\n",
    "print(x[0])"
   ]
  },
  {
   "cell_type": "code",
   "execution_count": 0,
   "metadata": {
    "application/vnd.databricks.v1+cell": {
     "cellMetadata": {},
     "inputWidgets": {},
     "nuid": "8aa07cc0-8ec2-4b1e-be90-3dbafb2720f3",
     "showTitle": false,
     "title": ""
    }
   },
   "outputs": [],
   "source": [
    "num_tuple = (1,2,3,4,5,6,6,7,7,8,8,9,9,10)\n",
    "print(type(num_tuple))\n",
    "print(num_tuple)"
   ]
  },
  {
   "cell_type": "markdown",
   "metadata": {
    "application/vnd.databricks.v1+cell": {
     "cellMetadata": {},
     "inputWidgets": {},
     "nuid": "71768265-1030-4102-9609-46d3b2fb7005",
     "showTitle": false,
     "title": ""
    }
   },
   "source": [
    "#### Dictionary\n",
    "* Dictionary is a collection which is unordered, changeable and indexed. No duplicate members.\n",
    "\n",
    "* In Python dictionaries are written with curly brackets, and they have keys and values.\n",
    "\n"
   ]
  },
  {
   "cell_type": "code",
   "execution_count": 0,
   "metadata": {
    "application/vnd.databricks.v1+cell": {
     "cellMetadata": {},
     "inputWidgets": {},
     "nuid": "85947b6a-f286-4e34-ac33-9e440511941f",
     "showTitle": false,
     "title": ""
    }
   },
   "outputs": [
    {
     "output_type": "display_data",
     "data": {
      "text/html": [
       "<style scoped>\n",
       "  .ansiout {\n",
       "    display: block;\n",
       "    unicode-bidi: embed;\n",
       "    white-space: pre-wrap;\n",
       "    word-wrap: break-word;\n",
       "    word-break: break-all;\n",
       "    font-family: \"Menlo\", \"Monaco\", \"Consolas\", \"Ubuntu Mono\", \"Source Code Pro\", monospace;\n",
       "    font-size: 13px;\n",
       "    color: #555;\n",
       "    margin-left: 4px;\n",
       "    line-height: 19px;\n",
       "  }\n",
       "</style>\n",
       "<div class=\"ansiout\">Dictionary Data Type :  &lt;class &#39;dict&#39;&gt;\n",
       "Bangalore\n",
       "</div>"
      ]
     },
     "metadata": {
      "application/vnd.databricks.v1+output": {
       "addedWidgets": {},
       "arguments": {},
       "data": "<div class=\"ansiout\">Dictionary Data Type :  &lt;class &#39;dict&#39;&gt;\nBangalore\n</div>",
       "datasetInfos": [],
       "metadata": {},
       "removedWidgets": [],
       "type": "html"
      }
     },
     "output_type": "display_data"
    }
   ],
   "source": [
    "x = {\"name\" : \"John\", \"age\" : 36,\"loc\":\"Bangalore\"}\t#dict\t\n",
    "print('Dictionary Data Type : ',type(x))\n",
    "print(x['loc'])"
   ]
  },
  {
   "cell_type": "code",
   "execution_count": 0,
   "metadata": {
    "application/vnd.databricks.v1+cell": {
     "cellMetadata": {},
     "inputWidgets": {},
     "nuid": "0af194f7-88c6-4f16-a805-48ef49bf0a52",
     "showTitle": false,
     "title": ""
    }
   },
   "outputs": [
    {
     "output_type": "display_data",
     "data": {
      "text/html": [
       "<style scoped>\n",
       "  .ansiout {\n",
       "    display: block;\n",
       "    unicode-bidi: embed;\n",
       "    white-space: pre-wrap;\n",
       "    word-wrap: break-word;\n",
       "    word-break: break-all;\n",
       "    font-family: \"Menlo\", \"Monaco\", \"Consolas\", \"Ubuntu Mono\", \"Source Code Pro\", monospace;\n",
       "    font-size: 13px;\n",
       "    color: #555;\n",
       "    margin-left: 4px;\n",
       "    line-height: 19px;\n",
       "  }\n",
       "</style>\n",
       "<div class=\"ansiout\"></div>"
      ]
     },
     "metadata": {
      "application/vnd.databricks.v1+output": {
       "addedWidgets": {},
       "arguments": {},
       "data": "<div class=\"ansiout\"></div>",
       "datasetInfos": [],
       "metadata": {},
       "removedWidgets": [],
       "type": "html"
      }
     },
     "output_type": "display_data"
    }
   ],
   "source": [
    "a_set = set()\n"
   ]
  },
  {
   "cell_type": "markdown",
   "metadata": {
    "application/vnd.databricks.v1+cell": {
     "cellMetadata": {},
     "inputWidgets": {},
     "nuid": "3bccdac7-c300-467d-8e54-6c0ac8314eb3",
     "showTitle": false,
     "title": ""
    }
   },
   "source": [
    "#### Sets\n",
    "* A set is a collection which is unordered and unindexed.  No duplicate members.\n",
    "\n",
    "* In Python, sets are written with curly brackets.\n",
    "\n"
   ]
  },
  {
   "cell_type": "code",
   "execution_count": 0,
   "metadata": {
    "application/vnd.databricks.v1+cell": {
     "cellMetadata": {},
     "inputWidgets": {},
     "nuid": "8ce0757e-93f8-4be5-9150-307607affe7e",
     "showTitle": false,
     "title": ""
    }
   },
   "outputs": [
    {
     "output_type": "display_data",
     "data": {
      "text/html": [
       "<style scoped>\n",
       "  .ansiout {\n",
       "    display: block;\n",
       "    unicode-bidi: embed;\n",
       "    white-space: pre-wrap;\n",
       "    word-wrap: break-word;\n",
       "    word-break: break-all;\n",
       "    font-family: \"Menlo\", \"Monaco\", \"Consolas\", \"Ubuntu Mono\", \"Source Code Pro\", monospace;\n",
       "    font-size: 13px;\n",
       "    color: #555;\n",
       "    margin-left: 4px;\n",
       "    line-height: 19px;\n",
       "  }\n",
       "</style>\n",
       "<div class=\"ansiout\">Set Data Type :  &lt;class &#39;set&#39;&gt;\n",
       "{&#39;apple&#39;, &#39;cherry&#39;, &#39;banana&#39;}\n",
       "</div>"
      ]
     },
     "metadata": {
      "application/vnd.databricks.v1+output": {
       "addedWidgets": {},
       "arguments": {},
       "data": "<div class=\"ansiout\">Set Data Type :  &lt;class &#39;set&#39;&gt;\n{&#39;apple&#39;, &#39;cherry&#39;, &#39;banana&#39;}\n</div>",
       "datasetInfos": [],
       "metadata": {},
       "removedWidgets": [],
       "type": "html"
      }
     },
     "output_type": "display_data"
    }
   ],
   "source": [
    "x = {\"apple\", \"banana\", \"cherry\",\"cherry\"}\t#set\t\n",
    "print('Set Data Type : ',type(x))\n",
    "print(x)"
   ]
  },
  {
   "cell_type": "code",
   "execution_count": 0,
   "metadata": {
    "application/vnd.databricks.v1+cell": {
     "cellMetadata": {
      "byteLimit": 2048000,
      "rowLimit": 10000
     },
     "inputWidgets": {},
     "nuid": "6ec25021-50ad-49a0-ab78-69f031652787",
     "showTitle": false,
     "title": ""
    }
   },
   "outputs": [
    {
     "output_type": "stream",
     "name": "stdout",
     "output_type": "stream",
     "text": [
      "Out[8]: {1, 2, 3, 4, 5, 6, 7, 8, 9}"
     ]
    }
   ],
   "source": [
    "a_set = {1,1,1,2,2,2,3,4,4,5,5,5,6,7,8,9}\n",
    "a_set"
   ]
  },
  {
   "cell_type": "markdown",
   "metadata": {
    "application/vnd.databricks.v1+cell": {
     "cellMetadata": {},
     "inputWidgets": {},
     "nuid": "7dd6c651-ece1-40dd-aabe-f820a8538ec5",
     "showTitle": false,
     "title": ""
    }
   },
   "source": [
    "#### frozenset()\n",
    "* The frozenset() is an inbuilt function is Python which takes an iterable object as input and makes them immutable. Simply it freezes the iterable objects and makes them unchangeable.\n"
   ]
  },
  {
   "cell_type": "code",
   "execution_count": 0,
   "metadata": {
    "application/vnd.databricks.v1+cell": {
     "cellMetadata": {},
     "inputWidgets": {},
     "nuid": "491b7d82-5999-4897-8ac7-42f6b0757912",
     "showTitle": false,
     "title": ""
    }
   },
   "outputs": [
    {
     "output_type": "display_data",
     "data": {
      "text/html": [
       "<style scoped>\n",
       "  .ansiout {\n",
       "    display: block;\n",
       "    unicode-bidi: embed;\n",
       "    white-space: pre-wrap;\n",
       "    word-wrap: break-word;\n",
       "    word-break: break-all;\n",
       "    font-family: \"Menlo\", \"Monaco\", \"Consolas\", \"Ubuntu Mono\", \"Source Code Pro\", monospace;\n",
       "    font-size: 13px;\n",
       "    color: #555;\n",
       "    margin-left: 4px;\n",
       "    line-height: 19px;\n",
       "  }\n",
       "</style>\n",
       "<div class=\"ansiout\">Frozenset Data Type :  &lt;class &#39;frozenset&#39;&gt;\n",
       "frozenset({&#39;apple&#39;, &#39;cherry&#39;, &#39;banana&#39;})\n",
       "</div>"
      ]
     },
     "metadata": {
      "application/vnd.databricks.v1+output": {
       "addedWidgets": {},
       "arguments": {},
       "data": "<div class=\"ansiout\">Frozenset Data Type :  &lt;class &#39;frozenset&#39;&gt;\nfrozenset({&#39;apple&#39;, &#39;cherry&#39;, &#39;banana&#39;})\n</div>",
       "datasetInfos": [],
       "metadata": {},
       "removedWidgets": [],
       "type": "html"
      }
     },
     "output_type": "display_data"
    }
   ],
   "source": [
    "x = frozenset({\"apple\", \"banana\", \"cherry\"})\t#frozenset\t\n",
    "print('Frozenset Data Type : ',type(x))\n",
    "print(x)"
   ]
  },
  {
   "cell_type": "markdown",
   "metadata": {
    "application/vnd.databricks.v1+cell": {
     "cellMetadata": {},
     "inputWidgets": {},
     "nuid": "6d223cb5-833a-4acb-9cdf-9453e9041e0b",
     "showTitle": false,
     "title": ""
    }
   },
   "source": [
    "#### Bool\n",
    "* The boolean data type is either True or False. In Python, boolean variables are defined by the True and False keywords."
   ]
  },
  {
   "cell_type": "code",
   "execution_count": 0,
   "metadata": {
    "application/vnd.databricks.v1+cell": {
     "cellMetadata": {},
     "inputWidgets": {},
     "nuid": "a00c3798-a222-4d50-8a32-dfde0dfcd1b5",
     "showTitle": false,
     "title": ""
    }
   },
   "outputs": [
    {
     "output_type": "display_data",
     "data": {
      "text/html": [
       "<style scoped>\n",
       "  .ansiout {\n",
       "    display: block;\n",
       "    unicode-bidi: embed;\n",
       "    white-space: pre-wrap;\n",
       "    word-wrap: break-word;\n",
       "    word-break: break-all;\n",
       "    font-family: \"Menlo\", \"Monaco\", \"Consolas\", \"Ubuntu Mono\", \"Source Code Pro\", monospace;\n",
       "    font-size: 13px;\n",
       "    color: #555;\n",
       "    margin-left: 4px;\n",
       "    line-height: 19px;\n",
       "  }\n",
       "</style>\n",
       "<div class=\"ansiout\">variable a type is :  &lt;class &#39;bool&#39;&gt;\n",
       "variable b type is :  &lt;class &#39;bool&#39;&gt;\n",
       "</div>"
      ]
     },
     "metadata": {
      "application/vnd.databricks.v1+output": {
       "addedWidgets": {},
       "arguments": {},
       "data": "<div class=\"ansiout\">variable a type is :  &lt;class &#39;bool&#39;&gt;\nvariable b type is :  &lt;class &#39;bool&#39;&gt;\n</div>",
       "datasetInfos": [],
       "metadata": {},
       "removedWidgets": [],
       "type": "html"
      }
     },
     "output_type": "display_data"
    }
   ],
   "source": [
    "a=False\n",
    "b=True\n",
    "print('variable a type is : ',type(a))\n",
    "print('variable b type is : ',type(b))"
   ]
  },
  {
   "cell_type": "code",
   "execution_count": 0,
   "metadata": {
    "application/vnd.databricks.v1+cell": {
     "cellMetadata": {},
     "inputWidgets": {},
     "nuid": "e35cc609-f6c9-471e-83a4-835b33ae07a8",
     "showTitle": false,
     "title": ""
    }
   },
   "outputs": [
    {
     "output_type": "display_data",
     "data": {
      "text/html": [
       "<style scoped>\n",
       "  .ansiout {\n",
       "    display: block;\n",
       "    unicode-bidi: embed;\n",
       "    white-space: pre-wrap;\n",
       "    word-wrap: break-word;\n",
       "    word-break: break-all;\n",
       "    font-family: \"Menlo\", \"Monaco\", \"Consolas\", \"Ubuntu Mono\", \"Source Code Pro\", monospace;\n",
       "    font-size: 13px;\n",
       "    color: #555;\n",
       "    margin-left: 4px;\n",
       "    line-height: 19px;\n",
       "  }\n",
       "</style>\n",
       "<div class=\"ansiout\">Out[37]: False</div>"
      ]
     },
     "metadata": {
      "application/vnd.databricks.v1+output": {
       "addedWidgets": {},
       "arguments": {},
       "data": "<div class=\"ansiout\">Out[37]: False</div>",
       "datasetInfos": [],
       "metadata": {},
       "removedWidgets": [],
       "type": "html"
      }
     },
     "output_type": "display_data"
    }
   ],
   "source": [
    "num =0\n",
    "bool(num)\n",
    "# y or n  or True or False or 1 or 0 or active or inactive"
   ]
  },
  {
   "cell_type": "code",
   "execution_count": 0,
   "metadata": {
    "application/vnd.databricks.v1+cell": {
     "cellMetadata": {},
     "inputWidgets": {},
     "nuid": "0eb97c36-dd66-4337-befe-05f3dc563929",
     "showTitle": false,
     "title": ""
    }
   },
   "outputs": [],
   "source": [
    "x = False\t#bool\t\n",
    "print('Bool Data Type : ',type(x))\n",
    "print(x)"
   ]
  },
  {
   "cell_type": "code",
   "execution_count": 0,
   "metadata": {
    "application/vnd.databricks.v1+cell": {
     "cellMetadata": {},
     "inputWidgets": {},
     "nuid": "8c33a2fa-fc7e-4f9b-964e-e74d7acb3762",
     "showTitle": false,
     "title": ""
    }
   },
   "outputs": [],
   "source": [
    "bool_f=False\n",
    "print(type(bool_f))\n",
    "print(bool_f)"
   ]
  },
  {
   "cell_type": "markdown",
   "metadata": {
    "application/vnd.databricks.v1+cell": {
     "cellMetadata": {},
     "inputWidgets": {},
     "nuid": "f735a6b0-8cde-402c-99fb-f9695940c43c",
     "showTitle": false,
     "title": ""
    }
   },
   "source": [
    "#### Bytes\n",
    "* Return a new \"bytes\" object, which is an immutable sequence of small integers in the range 0 <= x < 256, print as ASCII characters when displayed. bytes is an immutable version of bytearray – it has the same non-mutating methods and the same indexing and slicing behavior."
   ]
  },
  {
   "cell_type": "code",
   "execution_count": 0,
   "metadata": {
    "application/vnd.databricks.v1+cell": {
     "cellMetadata": {},
     "inputWidgets": {},
     "nuid": "f5ce4d13-8a0d-42b2-82a9-92d8db0b094d",
     "showTitle": false,
     "title": ""
    }
   },
   "outputs": [
    {
     "output_type": "display_data",
     "data": {
      "text/html": [
       "<style scoped>\n",
       "  .ansiout {\n",
       "    display: block;\n",
       "    unicode-bidi: embed;\n",
       "    white-space: pre-wrap;\n",
       "    word-wrap: break-word;\n",
       "    word-break: break-all;\n",
       "    font-family: \"Menlo\", \"Monaco\", \"Consolas\", \"Ubuntu Mono\", \"Source Code Pro\", monospace;\n",
       "    font-size: 13px;\n",
       "    color: #555;\n",
       "    margin-left: 4px;\n",
       "    line-height: 19px;\n",
       "  }\n",
       "</style>\n",
       "<div class=\"ansiout\">Bytes Data Type :  &lt;class &#39;bytes&#39;&gt;\n",
       "b&#39;Hello&#39;\n",
       "</div>"
      ]
     },
     "metadata": {
      "application/vnd.databricks.v1+output": {
       "addedWidgets": {},
       "arguments": {},
       "data": "<div class=\"ansiout\">Bytes Data Type :  &lt;class &#39;bytes&#39;&gt;\nb&#39;Hello&#39;\n</div>",
       "datasetInfos": [],
       "metadata": {},
       "removedWidgets": [],
       "type": "html"
      }
     },
     "output_type": "display_data"
    }
   ],
   "source": [
    "x = b\"Hello\"\t#bytes\t\n",
    "print('Bytes Data Type : ',type(x))\n",
    "print(x)"
   ]
  },
  {
   "cell_type": "code",
   "execution_count": 0,
   "metadata": {
    "application/vnd.databricks.v1+cell": {
     "cellMetadata": {},
     "inputWidgets": {},
     "nuid": "570f416b-6590-49a3-b88e-cfededeebf66",
     "showTitle": false,
     "title": ""
    }
   },
   "outputs": [
    {
     "output_type": "display_data",
     "data": {
      "text/html": [
       "<style scoped>\n",
       "  .ansiout {\n",
       "    display: block;\n",
       "    unicode-bidi: embed;\n",
       "    white-space: pre-wrap;\n",
       "    word-wrap: break-word;\n",
       "    word-break: break-all;\n",
       "    font-family: \"Menlo\", \"Monaco\", \"Consolas\", \"Ubuntu Mono\", \"Source Code Pro\", monospace;\n",
       "    font-size: 13px;\n",
       "    color: #555;\n",
       "    margin-left: 4px;\n",
       "    line-height: 19px;\n",
       "  }\n",
       "</style>\n",
       "<div class=\"ansiout\">Out[35]: bytes</div>"
      ]
     },
     "metadata": {
      "application/vnd.databricks.v1+output": {
       "addedWidgets": {},
       "arguments": {},
       "data": "<div class=\"ansiout\">Out[35]: bytes</div>",
       "datasetInfos": [],
       "metadata": {},
       "removedWidgets": [],
       "type": "html"
      }
     },
     "output_type": "display_data"
    }
   ],
   "source": [
    "type(x)"
   ]
  },
  {
   "cell_type": "markdown",
   "metadata": {
    "application/vnd.databricks.v1+cell": {
     "cellMetadata": {},
     "inputWidgets": {},
     "nuid": "f5efa2aa-e2ee-4454-83a9-b022b33ed76b",
     "showTitle": false,
     "title": ""
    }
   },
   "source": [
    "#### bytearray()\n",
    "* bytearray() method returns a bytearray object which is an array of given bytes. It gives a mutable sequence of integers in the range 0 <= x < 256.\n",
    "* The difference between bytes() and bytearray() is that bytes() returns an object that cannot be modified, and bytearray() returns an object that can be modified.\n"
   ]
  },
  {
   "cell_type": "code",
   "execution_count": 0,
   "metadata": {
    "application/vnd.databricks.v1+cell": {
     "cellMetadata": {},
     "inputWidgets": {},
     "nuid": "1c33e263-9e62-4718-987b-5bd32a768f91",
     "showTitle": false,
     "title": ""
    }
   },
   "outputs": [
    {
     "output_type": "display_data",
     "data": {
      "text/html": [
       "<style scoped>\n",
       "  .ansiout {\n",
       "    display: block;\n",
       "    unicode-bidi: embed;\n",
       "    white-space: pre-wrap;\n",
       "    word-wrap: break-word;\n",
       "    word-break: break-all;\n",
       "    font-family: \"Menlo\", \"Monaco\", \"Consolas\", \"Ubuntu Mono\", \"Source Code Pro\", monospace;\n",
       "    font-size: 13px;\n",
       "    color: #555;\n",
       "    margin-left: 4px;\n",
       "    line-height: 19px;\n",
       "  }\n",
       "</style>\n",
       "<div class=\"ansiout\">Byte Array Data Type :  &lt;class &#39;bytearray&#39;&gt;\n",
       "bytearray(b&#39;\\x0e&#39;)\n",
       "</div>"
      ]
     },
     "metadata": {
      "application/vnd.databricks.v1+output": {
       "addedWidgets": {},
       "arguments": {},
       "data": "<div class=\"ansiout\">Byte Array Data Type :  &lt;class &#39;bytearray&#39;&gt;\nbytearray(b&#39;\\x0e&#39;)\n</div>",
       "datasetInfos": [],
       "metadata": {},
       "removedWidgets": [],
       "type": "html"
      }
     },
     "output_type": "display_data"
    }
   ],
   "source": [
    "# Converting inter into bytearray\n",
    "x = bytearray([14]) \t#bytearray\t\n",
    "print('Byte Array Data Type : ',type(x))\n",
    "print(x)"
   ]
  },
  {
   "cell_type": "markdown",
   "metadata": {
    "application/vnd.databricks.v1+cell": {
     "cellMetadata": {},
     "inputWidgets": {},
     "nuid": "124d707d-c972-4f26-a6c2-393a758ff146",
     "showTitle": false,
     "title": ""
    }
   },
   "source": [
    "#### Memoryview()\n",
    "* The memoryview() function returns a memory view object from a specified object.\n",
    "* A memory view is a safe way to expose the buffer protocol in Python.\n",
    "* It allows you to access the internal buffers of an object by creating a memory view object."
   ]
  },
  {
   "cell_type": "code",
   "execution_count": 0,
   "metadata": {
    "application/vnd.databricks.v1+cell": {
     "cellMetadata": {},
     "inputWidgets": {},
     "nuid": "4bbc5758-3a97-47a6-bad5-eaf519f1c992",
     "showTitle": false,
     "title": ""
    }
   },
   "outputs": [
    {
     "output_type": "display_data",
     "data": {
      "text/html": [
       "<style scoped>\n",
       "  .ansiout {\n",
       "    display: block;\n",
       "    unicode-bidi: embed;\n",
       "    white-space: pre-wrap;\n",
       "    word-wrap: break-word;\n",
       "    word-break: break-all;\n",
       "    font-family: \"Menlo\", \"Monaco\", \"Consolas\", \"Ubuntu Mono\", \"Source Code Pro\", monospace;\n",
       "    font-size: 13px;\n",
       "    color: #555;\n",
       "    margin-left: 4px;\n",
       "    line-height: 19px;\n",
       "  }\n",
       "</style>\n",
       "<div class=\"ansiout\">Memory View Data Type :  &lt;class &#39;memoryview&#39;&gt;\n",
       "&lt;memory at 0x7f47985907c0&gt;\n",
       "72\n",
       "101\n",
       "</div>"
      ]
     },
     "metadata": {
      "application/vnd.databricks.v1+output": {
       "addedWidgets": {},
       "arguments": {},
       "data": "<div class=\"ansiout\">Memory View Data Type :  &lt;class &#39;memoryview&#39;&gt;\n&lt;memory at 0x7f47985907c0&gt;\n72\n101\n</div>",
       "datasetInfos": [],
       "metadata": {},
       "removedWidgets": [],
       "type": "html"
      }
     },
     "output_type": "display_data"
    }
   ],
   "source": [
    "x = memoryview(bytes(5))\t#memoryview\n",
    "print('Memory View Data Type : ',type(x))\n",
    "x = memoryview(b\"Hello\")\n",
    "print(x)\n",
    "#return the Unicode of the first character\n",
    "print(x[0])\n",
    "#return the Unicode of the second character\n",
    "print(x[1])"
   ]
  },
  {
   "cell_type": "code",
   "execution_count": 0,
   "metadata": {
    "application/vnd.databricks.v1+cell": {
     "cellMetadata": {},
     "inputWidgets": {},
     "nuid": "0d0c75da-775c-4b88-8b02-f5a1cf2f5aad",
     "showTitle": false,
     "title": ""
    }
   },
   "outputs": [
    {
     "output_type": "display_data",
     "data": {
      "text/html": [
       "<style scoped>\n",
       "  .ansiout {\n",
       "    display: block;\n",
       "    unicode-bidi: embed;\n",
       "    white-space: pre-wrap;\n",
       "    word-wrap: break-word;\n",
       "    word-break: break-all;\n",
       "    font-family: \"Menlo\", \"Monaco\", \"Consolas\", \"Ubuntu Mono\", \"Source Code Pro\", monospace;\n",
       "    font-size: 13px;\n",
       "    color: #555;\n",
       "    margin-left: 4px;\n",
       "    line-height: 19px;\n",
       "  }\n",
       "</style>\n",
       "<div class=\"ansiout\">Out[43]: memoryview</div>"
      ]
     },
     "metadata": {
      "application/vnd.databricks.v1+output": {
       "addedWidgets": {},
       "arguments": {},
       "data": "<div class=\"ansiout\">Out[43]: memoryview</div>",
       "datasetInfos": [],
       "metadata": {},
       "removedWidgets": [],
       "type": "html"
      }
     },
     "output_type": "display_data"
    }
   ],
   "source": [
    "type(x)"
   ]
  },
  {
   "cell_type": "markdown",
   "metadata": {
    "application/vnd.databricks.v1+cell": {
     "cellMetadata": {},
     "inputWidgets": {},
     "nuid": "8b6eca39-dcf0-4505-8c81-0c9fcc159d7b",
     "showTitle": false,
     "title": ""
    }
   },
   "source": [
    "#### Complex integer data type\n",
    "* Complex numbers have a real and imaginary part, which are each implemented using double in C. \n",
    "* To extract these parts from a complex number z, use z.real and z.imag.\n",
    "\n",
    "\n",
    "* Returns a complex number constructed from arguments\n",
    "* Complex numbers are specified as `<real part>+<imaginary part>j`.  \n",
    "* J (or j) represents the square root of -1 (which is an imaginary number)\n",
    "* Syntax `complex(re,im) ` a complex number with real part re, imaginary part im. im defaults to zero.\t\n",
    "* Complex numbers have a real and imaginary part, which are each implemented using double in C. To extract these parts from a complex number z, use z.real and z.imag."
   ]
  },
  {
   "cell_type": "code",
   "execution_count": 0,
   "metadata": {
    "application/vnd.databricks.v1+cell": {
     "cellMetadata": {},
     "inputWidgets": {},
     "nuid": "e7b98495-dce5-4965-a17e-73593b1046e7",
     "showTitle": false,
     "title": ""
    }
   },
   "outputs": [
    {
     "output_type": "display_data",
     "data": {
      "text/html": [
       "<style scoped>\n",
       "  .ansiout {\n",
       "    display: block;\n",
       "    unicode-bidi: embed;\n",
       "    white-space: pre-wrap;\n",
       "    word-wrap: break-word;\n",
       "    word-break: break-all;\n",
       "    font-family: \"Menlo\", \"Monaco\", \"Consolas\", \"Ubuntu Mono\", \"Source Code Pro\", monospace;\n",
       "    font-size: 13px;\n",
       "    color: #555;\n",
       "    margin-left: 4px;\n",
       "    line-height: 19px;\n",
       "  }\n",
       "</style>\n",
       "<div class=\"ansiout\">Complex Data Type :  &lt;class &#39;complex&#39;&gt;\n",
       "(10+55j)\n",
       "real value  :  10.0\n",
       "image value :  55.0\n",
       "</div>"
      ]
     },
     "metadata": {
      "application/vnd.databricks.v1+output": {
       "addedWidgets": {},
       "arguments": {},
       "data": "<div class=\"ansiout\">Complex Data Type :  &lt;class &#39;complex&#39;&gt;\n(10+55j)\nreal value  :  10.0\nimage value :  55.0\n</div>",
       "datasetInfos": [],
       "metadata": {},
       "removedWidgets": [],
       "type": "html"
      }
     },
     "output_type": "display_data"
    }
   ],
   "source": [
    "x = 10+55j\t#complex\t(method or function )\n",
    "print('Complex Data Type : ',type(x))\n",
    "print(x) \n",
    "print('real value  : ' ,x.real)\n",
    "print('image value : ',x.imag)"
   ]
  },
  {
   "cell_type": "code",
   "execution_count": 0,
   "metadata": {
    "application/vnd.databricks.v1+cell": {
     "cellMetadata": {},
     "inputWidgets": {},
     "nuid": "6a1572bc-a94e-42d0-b6a7-b1858ec19a65",
     "showTitle": false,
     "title": ""
    }
   },
   "outputs": [
    {
     "output_type": "display_data",
     "data": {
      "text/html": [
       "<style scoped>\n",
       "  .ansiout {\n",
       "    display: block;\n",
       "    unicode-bidi: embed;\n",
       "    white-space: pre-wrap;\n",
       "    word-wrap: break-word;\n",
       "    word-break: break-all;\n",
       "    font-family: \"Menlo\", \"Monaco\", \"Consolas\", \"Ubuntu Mono\", \"Source Code Pro\", monospace;\n",
       "    font-size: 13px;\n",
       "    color: #555;\n",
       "    margin-left: 4px;\n",
       "    line-height: 19px;\n",
       "  }\n",
       "</style>\n",
       "<div class=\"ansiout\">Below are the various functions we can use with complex numbers:\n",
       "1-&gt;Addition of two complex numbers: (9+6j)\n",
       "2-&gt;Addition of two complex numbers: (3+2j)\n",
       "3-&gt;Addition of two complex numbers: (10+24j)\n",
       "4-&gt;Addition of two complex numbers: (2+0j)\n",
       "</div>"
      ]
     },
     "metadata": {
      "application/vnd.databricks.v1+output": {
       "addedWidgets": {},
       "arguments": {},
       "data": "<div class=\"ansiout\">Below are the various functions we can use with complex numbers:\n1-&gt;Addition of two complex numbers: (9+6j)\n2-&gt;Addition of two complex numbers: (3+2j)\n3-&gt;Addition of two complex numbers: (10+24j)\n4-&gt;Addition of two complex numbers: (2+0j)\n</div>",
       "datasetInfos": [],
       "metadata": {},
       "removedWidgets": [],
       "type": "html"
      }
     },
     "output_type": "display_data"
    }
   ],
   "source": [
    "a = 6+4j\n",
    "b = 3+2j\n",
    "print(\"Below are the various functions we can use with complex numbers:\")\n",
    "print(\"1->Addition of two complex numbers:\",a+b)\n",
    "print(\"2->Addition of two complex numbers:\",a-b)\n",
    "print(\"3->Addition of two complex numbers:\",a*b)\n",
    "print(\"4->Addition of two complex numbers:\",a/b)\n",
    "#print(\"5->Addition of two complex numbers:\",a//b) -->TypeError: can't take floor of complex number.\n",
    "#print(\"6->Addition of two complex numbers:\",a%b)--> TypeError: can't mod complex numbers."
   ]
  },
  {
   "cell_type": "markdown",
   "metadata": {
    "application/vnd.databricks.v1+cell": {
     "cellMetadata": {},
     "inputWidgets": {},
     "nuid": "c0578e59-ec04-484d-94dd-e7cb9cbf2439",
     "showTitle": false,
     "title": ""
    }
   },
   "source": [
    "\n",
    "####  Date & Time Types\n"
   ]
  },
  {
   "cell_type": "code",
   "execution_count": 0,
   "metadata": {
    "application/vnd.databricks.v1+cell": {
     "cellMetadata": {},
     "inputWidgets": {},
     "nuid": "f1409905-de8e-457f-896b-f05dc88641e7",
     "showTitle": false,
     "title": ""
    }
   },
   "outputs": [
    {
     "output_type": "display_data",
     "data": {
      "text/html": [
       "<style scoped>\n",
       "  .ansiout {\n",
       "    display: block;\n",
       "    unicode-bidi: embed;\n",
       "    white-space: pre-wrap;\n",
       "    word-wrap: break-word;\n",
       "    word-break: break-all;\n",
       "    font-family: \"Menlo\", \"Monaco\", \"Consolas\", \"Ubuntu Mono\", \"Source Code Pro\", monospace;\n",
       "    font-size: 13px;\n",
       "    color: #555;\n",
       "    margin-left: 4px;\n",
       "    line-height: 19px;\n",
       "  }\n",
       "</style>\n",
       "<div class=\"ansiout\">2021-05-05 04:10:42.049061\n",
       "Out[44]: datetime.datetime</div>"
      ]
     },
     "metadata": {
      "application/vnd.databricks.v1+output": {
       "addedWidgets": {},
       "arguments": {},
       "data": "<div class=\"ansiout\">2021-05-05 04:10:42.049061\nOut[44]: datetime.datetime</div>",
       "datasetInfos": [],
       "metadata": {},
       "removedWidgets": [],
       "type": "html"
      }
     },
     "output_type": "display_data"
    }
   ],
   "source": [
    "import datetime\n",
    "x = datetime.datetime.now()\n",
    "print(x)\n",
    "type(x)"
   ]
  },
  {
   "cell_type": "code",
   "execution_count": 0,
   "metadata": {
    "application/vnd.databricks.v1+cell": {
     "cellMetadata": {},
     "collapsed": true,
     "inputWidgets": {},
     "nuid": "a38960cf-4b41-4056-87ab-2ca601b55bc8",
     "showTitle": false,
     "title": ""
    }
   },
   "outputs": [
    {
     "output_type": "display_data",
     "data": {
      "text/html": [
       "<style scoped>\n",
       "  .ansiout {\n",
       "    display: block;\n",
       "    unicode-bidi: embed;\n",
       "    white-space: pre-wrap;\n",
       "    word-wrap: break-word;\n",
       "    word-break: break-all;\n",
       "    font-family: \"Menlo\", \"Monaco\", \"Consolas\", \"Ubuntu Mono\", \"Source Code Pro\", monospace;\n",
       "    font-size: 13px;\n",
       "    color: #555;\n",
       "    margin-left: 4px;\n",
       "    line-height: 19px;\n",
       "  }\n",
       "</style>\n",
       "<div class=\"ansiout\">Help on datetime object:\n",
       "\n",
       "class datetime(date)\n",
       "  datetime(year, month, day[, hour[, minute[, second[, microsecond[,tzinfo]]]]])\n",
       "  \n",
       "  The year, month and day arguments are required. tzinfo may be None, or an\n",
       "  instance of a tzinfo subclass. The remaining arguments may be ints.\n",
       "  \n",
       "  Method resolution order:\n",
       "      datetime\n",
       "      date\n",
       "      builtins.object\n",
       "  \n",
       "  Methods defined here:\n",
       "  \n",
       "  __add__(self, value, /)\n",
       "      Return self+value.\n",
       "  \n",
       "  __eq__(self, value, /)\n",
       "      Return self==value.\n",
       "  \n",
       "  __ge__(self, value, /)\n",
       "      Return self&gt;=value.\n",
       "  \n",
       "  __getattribute__(self, name, /)\n",
       "      Return getattr(self, name).\n",
       "  \n",
       "  __gt__(self, value, /)\n",
       "      Return self&gt;value.\n",
       "  \n",
       "  __hash__(self, /)\n",
       "      Return hash(self).\n",
       "  \n",
       "  __le__(self, value, /)\n",
       "      Return self&lt;=value.\n",
       "  \n",
       "  __lt__(self, value, /)\n",
       "      Return self&lt;value.\n",
       "  \n",
       "  __ne__(self, value, /)\n",
       "      Return self!=value.\n",
       "  \n",
       "  __radd__(self, value, /)\n",
       "      Return value+self.\n",
       "  \n",
       "  __reduce__(...)\n",
       "      __reduce__() -&gt; (cls, state)\n",
       "  \n",
       "  __reduce_ex__(...)\n",
       "      __reduce_ex__(proto) -&gt; (cls, state)\n",
       "  \n",
       "  __repr__(self, /)\n",
       "      Return repr(self).\n",
       "  \n",
       "  __rsub__(self, value, /)\n",
       "      Return value-self.\n",
       "  \n",
       "  __str__(self, /)\n",
       "      Return str(self).\n",
       "  \n",
       "  __sub__(self, value, /)\n",
       "      Return self-value.\n",
       "  \n",
       "  astimezone(...)\n",
       "      tz -&gt; convert to local time in new timezone tz\n",
       "  \n",
       "  ctime(...)\n",
       "      Return ctime() style string.\n",
       "  \n",
       "  date(...)\n",
       "      Return date object with same year, month and day.\n",
       "  \n",
       "  dst(...)\n",
       "      Return self.tzinfo.dst(self).\n",
       "  \n",
       "  isoformat(...)\n",
       "      [sep] -&gt; string in ISO 8601 format, YYYY-MM-DDT[HH[:MM[:SS[.mmm[uuu]]]]][+HH:MM].\n",
       "      sep is used to separate the year from the time, and defaults to &#39;T&#39;.\n",
       "      timespec specifies what components of the time to include (allowed values are &#39;auto&#39;, &#39;hours&#39;, &#39;minutes&#39;, &#39;seconds&#39;, &#39;milliseconds&#39;, and &#39;microseconds&#39;).\n",
       "  \n",
       "  replace(...)\n",
       "      Return datetime with new specified fields.\n",
       "  \n",
       "  time(...)\n",
       "      Return time object with same time but with tzinfo=None.\n",
       "  \n",
       "  timestamp(...)\n",
       "      Return POSIX timestamp as float.\n",
       "  \n",
       "  timetuple(...)\n",
       "      Return time tuple, compatible with time.localtime().\n",
       "  \n",
       "  timetz(...)\n",
       "      Return time object with same time and tzinfo.\n",
       "  \n",
       "  tzname(...)\n",
       "      Return self.tzinfo.tzname(self).\n",
       "  \n",
       "  utcoffset(...)\n",
       "      Return self.tzinfo.utcoffset(self).\n",
       "  \n",
       "  utctimetuple(...)\n",
       "      Return UTC time tuple, compatible with time.localtime().\n",
       "  \n",
       "  ----------------------------------------------------------------------\n",
       "  Class methods defined here:\n",
       "  \n",
       "  combine(...) from builtins.type\n",
       "      date, time -&gt; datetime with same date and time fields\n",
       "  \n",
       "  fromisoformat(...) from builtins.type\n",
       "      string -&gt; datetime from datetime.isoformat() output\n",
       "  \n",
       "  fromtimestamp(...) from builtins.type\n",
       "      timestamp[, tz] -&gt; tz&#39;s local time from POSIX timestamp.\n",
       "  \n",
       "  now(tz=None) from builtins.type\n",
       "      Returns new datetime object representing current time local to tz.\n",
       "      \n",
       "        tz\n",
       "          Timezone object.\n",
       "      \n",
       "      If no tz is specified, uses local timezone.\n",
       "  \n",
       "  strptime(...) from builtins.type\n",
       "      string, format -&gt; new datetime parsed from a string (like time.strptime()).\n",
       "  \n",
       "  utcfromtimestamp(...) from builtins.type\n",
       "      Construct a naive UTC datetime from a POSIX timestamp.\n",
       "  \n",
       "  utcnow(...) from builtins.type\n",
       "      Return a new datetime representing UTC day and time.\n",
       "  \n",
       "  ----------------------------------------------------------------------\n",
       "  Static methods defined here:\n",
       "  \n",
       "  __new__(*args, **kwargs) from builtins.type\n",
       "      Create and return a new object.  See help(type) for accurate signature.\n",
       "  \n",
       "  ----------------------------------------------------------------------\n",
       "  Data descriptors defined here:\n",
       "  \n",
       "  fold\n",
       "  \n",
       "  hour\n",
       "  \n",
       "  microsecond\n",
       "  \n",
       "  minute\n",
       "  \n",
       "  second\n",
       "  \n",
       "  tzinfo\n",
       "  \n",
       "  ----------------------------------------------------------------------\n",
       "  Data and other attributes defined here:\n",
       "  \n",
       "  max = datetime.datetime(9999, 12, 31, 23, 59, 59, 999999)\n",
       "  \n",
       "  min = datetime.datetime(1, 1, 1, 0, 0)\n",
       "  \n",
       "  resolution = datetime.timedelta(microseconds=1)\n",
       "  \n",
       "  ----------------------------------------------------------------------\n",
       "  Methods inherited from date:\n",
       "  \n",
       "  __format__(...)\n",
       "      Formats self with strftime.\n",
       "  \n",
       "  isocalendar(...)\n",
       "      Return a 3-tuple containing ISO year, week number, and weekday.\n",
       "  \n",
       "  isoweekday(...)\n",
       "      Return the day of the week represented by the date.\n",
       "      Monday == 1 ... Sunday == 7\n",
       "  \n",
       "  strftime(...)\n",
       "      format -&gt; strftime() style string.\n",
       "  \n",
       "  toordinal(...)\n",
       "      Return proleptic Gregorian ordinal.  January 1 of year 1 is day 1.\n",
       "  \n",
       "  weekday(...)\n",
       "      Return the day of the week represented by the date.\n",
       "      Monday == 0 ... Sunday == 6\n",
       "  \n",
       "  ----------------------------------------------------------------------\n",
       "  Class methods inherited from date:\n",
       "  \n",
       "  fromordinal(...) from builtins.type\n",
       "      int -&gt; date corresponding to a proleptic Gregorian ordinal.\n",
       "  \n",
       "  today(...) from builtins.type\n",
       "      Current date or datetime:  same as self.__class__.fromtimestamp(time.time()).\n",
       "  \n",
       "  ----------------------------------------------------------------------\n",
       "  Data descriptors inherited from date:\n",
       "  \n",
       "  day\n",
       "  \n",
       "  month\n",
       "  \n",
       "  year\n",
       "\n",
       "</div>"
      ]
     },
     "metadata": {
      "application/vnd.databricks.v1+output": {
       "addedWidgets": {},
       "arguments": {},
       "data": "<div class=\"ansiout\">Help on datetime object:\n\nclass datetime(date)\n |  datetime(year, month, day[, hour[, minute[, second[, microsecond[,tzinfo]]]]])\n |  \n |  The year, month and day arguments are required. tzinfo may be None, or an\n |  instance of a tzinfo subclass. The remaining arguments may be ints.\n |  \n |  Method resolution order:\n |      datetime\n |      date\n |      builtins.object\n |  \n |  Methods defined here:\n |  \n |  __add__(self, value, /)\n |      Return self+value.\n |  \n |  __eq__(self, value, /)\n |      Return self==value.\n |  \n |  __ge__(self, value, /)\n |      Return self&gt;=value.\n |  \n |  __getattribute__(self, name, /)\n |      Return getattr(self, name).\n |  \n |  __gt__(self, value, /)\n |      Return self&gt;value.\n |  \n |  __hash__(self, /)\n |      Return hash(self).\n |  \n |  __le__(self, value, /)\n |      Return self&lt;=value.\n |  \n |  __lt__(self, value, /)\n |      Return self&lt;value.\n |  \n |  __ne__(self, value, /)\n |      Return self!=value.\n |  \n |  __radd__(self, value, /)\n |      Return value+self.\n |  \n |  __reduce__(...)\n |      __reduce__() -&gt; (cls, state)\n |  \n |  __reduce_ex__(...)\n |      __reduce_ex__(proto) -&gt; (cls, state)\n |  \n |  __repr__(self, /)\n |      Return repr(self).\n |  \n |  __rsub__(self, value, /)\n |      Return value-self.\n |  \n |  __str__(self, /)\n |      Return str(self).\n |  \n |  __sub__(self, value, /)\n |      Return self-value.\n |  \n |  astimezone(...)\n |      tz -&gt; convert to local time in new timezone tz\n |  \n |  ctime(...)\n |      Return ctime() style string.\n |  \n |  date(...)\n |      Return date object with same year, month and day.\n |  \n |  dst(...)\n |      Return self.tzinfo.dst(self).\n |  \n |  isoformat(...)\n |      [sep] -&gt; string in ISO 8601 format, YYYY-MM-DDT[HH[:MM[:SS[.mmm[uuu]]]]][+HH:MM].\n |      sep is used to separate the year from the time, and defaults to &#39;T&#39;.\n |      timespec specifies what components of the time to include (allowed values are &#39;auto&#39;, &#39;hours&#39;, &#39;minutes&#39;, &#39;seconds&#39;, &#39;milliseconds&#39;, and &#39;microseconds&#39;).\n |  \n |  replace(...)\n |      Return datetime with new specified fields.\n |  \n |  time(...)\n |      Return time object with same time but with tzinfo=None.\n |  \n |  timestamp(...)\n |      Return POSIX timestamp as float.\n |  \n |  timetuple(...)\n |      Return time tuple, compatible with time.localtime().\n |  \n |  timetz(...)\n |      Return time object with same time and tzinfo.\n |  \n |  tzname(...)\n |      Return self.tzinfo.tzname(self).\n |  \n |  utcoffset(...)\n |      Return self.tzinfo.utcoffset(self).\n |  \n |  utctimetuple(...)\n |      Return UTC time tuple, compatible with time.localtime().\n |  \n |  ----------------------------------------------------------------------\n |  Class methods defined here:\n |  \n |  combine(...) from builtins.type\n |      date, time -&gt; datetime with same date and time fields\n |  \n |  fromisoformat(...) from builtins.type\n |      string -&gt; datetime from datetime.isoformat() output\n |  \n |  fromtimestamp(...) from builtins.type\n |      timestamp[, tz] -&gt; tz&#39;s local time from POSIX timestamp.\n |  \n |  now(tz=None) from builtins.type\n |      Returns new datetime object representing current time local to tz.\n |      \n |        tz\n |          Timezone object.\n |      \n |      If no tz is specified, uses local timezone.\n |  \n |  strptime(...) from builtins.type\n |      string, format -&gt; new datetime parsed from a string (like time.strptime()).\n |  \n |  utcfromtimestamp(...) from builtins.type\n |      Construct a naive UTC datetime from a POSIX timestamp.\n |  \n |  utcnow(...) from builtins.type\n |      Return a new datetime representing UTC day and time.\n |  \n |  ----------------------------------------------------------------------\n |  Static methods defined here:\n |  \n |  __new__(*args, **kwargs) from builtins.type\n |      Create and return a new object.  See help(type) for accurate signature.\n |  \n |  ----------------------------------------------------------------------\n |  Data descriptors defined here:\n |  \n |  fold\n |  \n |  hour\n |  \n |  microsecond\n |  \n |  minute\n |  \n |  second\n |  \n |  tzinfo\n |  \n |  ----------------------------------------------------------------------\n |  Data and other attributes defined here:\n |  \n |  max = datetime.datetime(9999, 12, 31, 23, 59, 59, 999999)\n |  \n |  min = datetime.datetime(1, 1, 1, 0, 0)\n |  \n |  resolution = datetime.timedelta(microseconds=1)\n |  \n |  ----------------------------------------------------------------------\n |  Methods inherited from date:\n |  \n |  __format__(...)\n |      Formats self with strftime.\n |  \n |  isocalendar(...)\n |      Return a 3-tuple containing ISO year, week number, and weekday.\n |  \n |  isoweekday(...)\n |      Return the day of the week represented by the date.\n |      Monday == 1 ... Sunday == 7\n |  \n |  strftime(...)\n |      format -&gt; strftime() style string.\n |  \n |  toordinal(...)\n |      Return proleptic Gregorian ordinal.  January 1 of year 1 is day 1.\n |  \n |  weekday(...)\n |      Return the day of the week represented by the date.\n |      Monday == 0 ... Sunday == 6\n |  \n |  ----------------------------------------------------------------------\n |  Class methods inherited from date:\n |  \n |  fromordinal(...) from builtins.type\n |      int -&gt; date corresponding to a proleptic Gregorian ordinal.\n |  \n |  today(...) from builtins.type\n |      Current date or datetime:  same as self.__class__.fromtimestamp(time.time()).\n |  \n |  ----------------------------------------------------------------------\n |  Data descriptors inherited from date:\n |  \n |  day\n |  \n |  month\n |  \n |  year\n\n</div>",
       "datasetInfos": [],
       "metadata": {},
       "removedWidgets": [],
       "type": "html"
      }
     },
     "output_type": "display_data"
    }
   ],
   "source": [
    "help(x)"
   ]
  },
  {
   "cell_type": "markdown",
   "metadata": {
    "application/vnd.databricks.v1+cell": {
     "cellMetadata": {},
     "inputWidgets": {},
     "nuid": "e2583116-a4ff-440d-9f8f-f21f5ee94ec1",
     "showTitle": false,
     "title": ""
    }
   },
   "source": [
    "#### strftime()\n",
    "* The method is called strftime(), and takes one parameter, format, to specify the format of the returned string:\n",
    "\n",
    "* Options\n",
    "\n",
    "%a\tWeekday, short version\tWed\t\n",
    "%A\tWeekday, full version\tWednesday\t\n",
    "%w\tWeekday as a number 0-6, 0 is Sunday\t3\t\n",
    "%d\tDay of month 01-31\t31\t\n",
    "%b\tMonth name, short version\tDec\t\n",
    "%B\tMonth name, full version\tDecember\t\n",
    "%m\tMonth as a number 01-12\t12\t\n",
    "%y\tYear, short version, without century\t18\t\n",
    "%Y\tYear, full version\t2018\t\n",
    "%H\tHour 00-23\t17\t\n",
    "%I\tHour 00-12\t05\t\n",
    "%p\tAM/PM\tPM\t\n",
    "%M\tMinute 00-59\t41\t\n",
    "%S\tSecond 00-59\t08\t\n",
    "%f\tMicrosecond 000000-999999\t548513\t\n",
    "%z\tUTC offset\t+0100\t\n",
    "%Z\tTimezone\tCST\t\n",
    "%j\tDay number of year 001-366\t365\t\n",
    "%U\tWeek number of year, Sunday as the first day of week, 00-53\t52\t\n",
    "%W\tWeek number of year, Monday as the first day of week, 00-53\t52\t\n",
    "%c\tLocal version of date and time\tMon Dec 31 17:41:00 2018\t\n",
    "%x\tLocal version of date\t12/31/18\t\n",
    "%X\tLocal version of time\t17:41:00\t\n",
    "%%\tA % character\t%"
   ]
  },
  {
   "cell_type": "code",
   "execution_count": 0,
   "metadata": {
    "application/vnd.databricks.v1+cell": {
     "cellMetadata": {},
     "inputWidgets": {},
     "nuid": "f2fd599c-5a9f-464e-a53e-59d3124dd89f",
     "showTitle": false,
     "title": ""
    }
   },
   "outputs": [],
   "source": []
  },
  {
   "cell_type": "code",
   "execution_count": 0,
   "metadata": {
    "application/vnd.databricks.v1+cell": {
     "cellMetadata": {},
     "collapsed": true,
     "inputWidgets": {},
     "nuid": "f41d491e-f86f-4974-8c8e-52bb043f53c1",
     "showTitle": false,
     "title": ""
    }
   },
   "outputs": [
    {
     "output_type": "display_data",
     "data": {
      "text/html": [
       "<style scoped>\n",
       "  .ansiout {\n",
       "    display: block;\n",
       "    unicode-bidi: embed;\n",
       "    white-space: pre-wrap;\n",
       "    word-wrap: break-word;\n",
       "    word-break: break-all;\n",
       "    font-family: \"Menlo\", \"Monaco\", \"Consolas\", \"Ubuntu Mono\", \"Source Code Pro\", monospace;\n",
       "    font-size: 13px;\n",
       "    color: #555;\n",
       "    margin-left: 4px;\n",
       "    line-height: 19px;\n",
       "  }\n",
       "</style>\n",
       "<div class=\"ansiout\">Help on datetime object:\n",
       "\n",
       "class datetime(date)\n",
       "  datetime(year, month, day[, hour[, minute[, second[, microsecond[,tzinfo]]]]])\n",
       "  \n",
       "  The year, month and day arguments are required. tzinfo may be None, or an\n",
       "  instance of a tzinfo subclass. The remaining arguments may be ints.\n",
       "  \n",
       "  Method resolution order:\n",
       "      datetime\n",
       "      date\n",
       "      builtins.object\n",
       "  \n",
       "  Methods defined here:\n",
       "  \n",
       "  __add__(self, value, /)\n",
       "      Return self+value.\n",
       "  \n",
       "  __eq__(self, value, /)\n",
       "      Return self==value.\n",
       "  \n",
       "  __ge__(self, value, /)\n",
       "      Return self&gt;=value.\n",
       "  \n",
       "  __getattribute__(self, name, /)\n",
       "      Return getattr(self, name).\n",
       "  \n",
       "  __gt__(self, value, /)\n",
       "      Return self&gt;value.\n",
       "  \n",
       "  __hash__(self, /)\n",
       "      Return hash(self).\n",
       "  \n",
       "  __le__(self, value, /)\n",
       "      Return self&lt;=value.\n",
       "  \n",
       "  __lt__(self, value, /)\n",
       "      Return self&lt;value.\n",
       "  \n",
       "  __ne__(self, value, /)\n",
       "      Return self!=value.\n",
       "  \n",
       "  __radd__(self, value, /)\n",
       "      Return value+self.\n",
       "  \n",
       "  __reduce__(...)\n",
       "      __reduce__() -&gt; (cls, state)\n",
       "  \n",
       "  __reduce_ex__(...)\n",
       "      __reduce_ex__(proto) -&gt; (cls, state)\n",
       "  \n",
       "  __repr__(self, /)\n",
       "      Return repr(self).\n",
       "  \n",
       "  __rsub__(self, value, /)\n",
       "      Return value-self.\n",
       "  \n",
       "  __str__(self, /)\n",
       "      Return str(self).\n",
       "  \n",
       "  __sub__(self, value, /)\n",
       "      Return self-value.\n",
       "  \n",
       "  astimezone(...)\n",
       "      tz -&gt; convert to local time in new timezone tz\n",
       "  \n",
       "  ctime(...)\n",
       "      Return ctime() style string.\n",
       "  \n",
       "  date(...)\n",
       "      Return date object with same year, month and day.\n",
       "  \n",
       "  dst(...)\n",
       "      Return self.tzinfo.dst(self).\n",
       "  \n",
       "  isoformat(...)\n",
       "      [sep] -&gt; string in ISO 8601 format, YYYY-MM-DDT[HH[:MM[:SS[.mmm[uuu]]]]][+HH:MM].\n",
       "      sep is used to separate the year from the time, and defaults to &#39;T&#39;.\n",
       "      timespec specifies what components of the time to include (allowed values are &#39;auto&#39;, &#39;hours&#39;, &#39;minutes&#39;, &#39;seconds&#39;, &#39;milliseconds&#39;, and &#39;microseconds&#39;).\n",
       "  \n",
       "  replace(...)\n",
       "      Return datetime with new specified fields.\n",
       "  \n",
       "  time(...)\n",
       "      Return time object with same time but with tzinfo=None.\n",
       "  \n",
       "  timestamp(...)\n",
       "      Return POSIX timestamp as float.\n",
       "  \n",
       "  timetuple(...)\n",
       "      Return time tuple, compatible with time.localtime().\n",
       "  \n",
       "  timetz(...)\n",
       "      Return time object with same time and tzinfo.\n",
       "  \n",
       "  tzname(...)\n",
       "      Return self.tzinfo.tzname(self).\n",
       "  \n",
       "  utcoffset(...)\n",
       "      Return self.tzinfo.utcoffset(self).\n",
       "  \n",
       "  utctimetuple(...)\n",
       "      Return UTC time tuple, compatible with time.localtime().\n",
       "  \n",
       "  ----------------------------------------------------------------------\n",
       "  Class methods defined here:\n",
       "  \n",
       "  combine(...) from builtins.type\n",
       "      date, time -&gt; datetime with same date and time fields\n",
       "  \n",
       "  fromisoformat(...) from builtins.type\n",
       "      string -&gt; datetime from datetime.isoformat() output\n",
       "  \n",
       "  fromtimestamp(...) from builtins.type\n",
       "      timestamp[, tz] -&gt; tz&#39;s local time from POSIX timestamp.\n",
       "  \n",
       "  now(tz=None) from builtins.type\n",
       "      Returns new datetime object representing current time local to tz.\n",
       "      \n",
       "        tz\n",
       "          Timezone object.\n",
       "      \n",
       "      If no tz is specified, uses local timezone.\n",
       "  \n",
       "  strptime(...) from builtins.type\n",
       "      string, format -&gt; new datetime parsed from a string (like time.strptime()).\n",
       "  \n",
       "  utcfromtimestamp(...) from builtins.type\n",
       "      Construct a naive UTC datetime from a POSIX timestamp.\n",
       "  \n",
       "  utcnow(...) from builtins.type\n",
       "      Return a new datetime representing UTC day and time.\n",
       "  \n",
       "  ----------------------------------------------------------------------\n",
       "  Static methods defined here:\n",
       "  \n",
       "  __new__(*args, **kwargs) from builtins.type\n",
       "      Create and return a new object.  See help(type) for accurate signature.\n",
       "  \n",
       "  ----------------------------------------------------------------------\n",
       "  Data descriptors defined here:\n",
       "  \n",
       "  fold\n",
       "  \n",
       "  hour\n",
       "  \n",
       "  microsecond\n",
       "  \n",
       "  minute\n",
       "  \n",
       "  second\n",
       "  \n",
       "  tzinfo\n",
       "  \n",
       "  ----------------------------------------------------------------------\n",
       "  Data and other attributes defined here:\n",
       "  \n",
       "  max = datetime.datetime(9999, 12, 31, 23, 59, 59, 999999)\n",
       "  \n",
       "  min = datetime.datetime(1, 1, 1, 0, 0)\n",
       "  \n",
       "  resolution = datetime.timedelta(microseconds=1)\n",
       "  \n",
       "  ----------------------------------------------------------------------\n",
       "  Methods inherited from date:\n",
       "  \n",
       "  __format__(...)\n",
       "      Formats self with strftime.\n",
       "  \n",
       "  isocalendar(...)\n",
       "      Return a 3-tuple containing ISO year, week number, and weekday.\n",
       "  \n",
       "  isoweekday(...)\n",
       "      Return the day of the week represented by the date.\n",
       "      Monday == 1 ... Sunday == 7\n",
       "  \n",
       "  strftime(...)\n",
       "      format -&gt; strftime() style string.\n",
       "  \n",
       "  toordinal(...)\n",
       "      Return proleptic Gregorian ordinal.  January 1 of year 1 is day 1.\n",
       "  \n",
       "  weekday(...)\n",
       "      Return the day of the week represented by the date.\n",
       "      Monday == 0 ... Sunday == 6\n",
       "  \n",
       "  ----------------------------------------------------------------------\n",
       "  Class methods inherited from date:\n",
       "  \n",
       "  fromordinal(...) from builtins.type\n",
       "      int -&gt; date corresponding to a proleptic Gregorian ordinal.\n",
       "  \n",
       "  today(...) from builtins.type\n",
       "      Current date or datetime:  same as self.__class__.fromtimestamp(time.time()).\n",
       "  \n",
       "  ----------------------------------------------------------------------\n",
       "  Data descriptors inherited from date:\n",
       "  \n",
       "  day\n",
       "  \n",
       "  month\n",
       "  \n",
       "  year\n",
       "\n",
       "</div>"
      ]
     },
     "metadata": {
      "application/vnd.databricks.v1+output": {
       "addedWidgets": {},
       "arguments": {},
       "data": "<div class=\"ansiout\">Help on datetime object:\n\nclass datetime(date)\n |  datetime(year, month, day[, hour[, minute[, second[, microsecond[,tzinfo]]]]])\n |  \n |  The year, month and day arguments are required. tzinfo may be None, or an\n |  instance of a tzinfo subclass. The remaining arguments may be ints.\n |  \n |  Method resolution order:\n |      datetime\n |      date\n |      builtins.object\n |  \n |  Methods defined here:\n |  \n |  __add__(self, value, /)\n |      Return self+value.\n |  \n |  __eq__(self, value, /)\n |      Return self==value.\n |  \n |  __ge__(self, value, /)\n |      Return self&gt;=value.\n |  \n |  __getattribute__(self, name, /)\n |      Return getattr(self, name).\n |  \n |  __gt__(self, value, /)\n |      Return self&gt;value.\n |  \n |  __hash__(self, /)\n |      Return hash(self).\n |  \n |  __le__(self, value, /)\n |      Return self&lt;=value.\n |  \n |  __lt__(self, value, /)\n |      Return self&lt;value.\n |  \n |  __ne__(self, value, /)\n |      Return self!=value.\n |  \n |  __radd__(self, value, /)\n |      Return value+self.\n |  \n |  __reduce__(...)\n |      __reduce__() -&gt; (cls, state)\n |  \n |  __reduce_ex__(...)\n |      __reduce_ex__(proto) -&gt; (cls, state)\n |  \n |  __repr__(self, /)\n |      Return repr(self).\n |  \n |  __rsub__(self, value, /)\n |      Return value-self.\n |  \n |  __str__(self, /)\n |      Return str(self).\n |  \n |  __sub__(self, value, /)\n |      Return self-value.\n |  \n |  astimezone(...)\n |      tz -&gt; convert to local time in new timezone tz\n |  \n |  ctime(...)\n |      Return ctime() style string.\n |  \n |  date(...)\n |      Return date object with same year, month and day.\n |  \n |  dst(...)\n |      Return self.tzinfo.dst(self).\n |  \n |  isoformat(...)\n |      [sep] -&gt; string in ISO 8601 format, YYYY-MM-DDT[HH[:MM[:SS[.mmm[uuu]]]]][+HH:MM].\n |      sep is used to separate the year from the time, and defaults to &#39;T&#39;.\n |      timespec specifies what components of the time to include (allowed values are &#39;auto&#39;, &#39;hours&#39;, &#39;minutes&#39;, &#39;seconds&#39;, &#39;milliseconds&#39;, and &#39;microseconds&#39;).\n |  \n |  replace(...)\n |      Return datetime with new specified fields.\n |  \n |  time(...)\n |      Return time object with same time but with tzinfo=None.\n |  \n |  timestamp(...)\n |      Return POSIX timestamp as float.\n |  \n |  timetuple(...)\n |      Return time tuple, compatible with time.localtime().\n |  \n |  timetz(...)\n |      Return time object with same time and tzinfo.\n |  \n |  tzname(...)\n |      Return self.tzinfo.tzname(self).\n |  \n |  utcoffset(...)\n |      Return self.tzinfo.utcoffset(self).\n |  \n |  utctimetuple(...)\n |      Return UTC time tuple, compatible with time.localtime().\n |  \n |  ----------------------------------------------------------------------\n |  Class methods defined here:\n |  \n |  combine(...) from builtins.type\n |      date, time -&gt; datetime with same date and time fields\n |  \n |  fromisoformat(...) from builtins.type\n |      string -&gt; datetime from datetime.isoformat() output\n |  \n |  fromtimestamp(...) from builtins.type\n |      timestamp[, tz] -&gt; tz&#39;s local time from POSIX timestamp.\n |  \n |  now(tz=None) from builtins.type\n |      Returns new datetime object representing current time local to tz.\n |      \n |        tz\n |          Timezone object.\n |      \n |      If no tz is specified, uses local timezone.\n |  \n |  strptime(...) from builtins.type\n |      string, format -&gt; new datetime parsed from a string (like time.strptime()).\n |  \n |  utcfromtimestamp(...) from builtins.type\n |      Construct a naive UTC datetime from a POSIX timestamp.\n |  \n |  utcnow(...) from builtins.type\n |      Return a new datetime representing UTC day and time.\n |  \n |  ----------------------------------------------------------------------\n |  Static methods defined here:\n |  \n |  __new__(*args, **kwargs) from builtins.type\n |      Create and return a new object.  See help(type) for accurate signature.\n |  \n |  ----------------------------------------------------------------------\n |  Data descriptors defined here:\n |  \n |  fold\n |  \n |  hour\n |  \n |  microsecond\n |  \n |  minute\n |  \n |  second\n |  \n |  tzinfo\n |  \n |  ----------------------------------------------------------------------\n |  Data and other attributes defined here:\n |  \n |  max = datetime.datetime(9999, 12, 31, 23, 59, 59, 999999)\n |  \n |  min = datetime.datetime(1, 1, 1, 0, 0)\n |  \n |  resolution = datetime.timedelta(microseconds=1)\n |  \n |  ----------------------------------------------------------------------\n |  Methods inherited from date:\n |  \n |  __format__(...)\n |      Formats self with strftime.\n |  \n |  isocalendar(...)\n |      Return a 3-tuple containing ISO year, week number, and weekday.\n |  \n |  isoweekday(...)\n |      Return the day of the week represented by the date.\n |      Monday == 1 ... Sunday == 7\n |  \n |  strftime(...)\n |      format -&gt; strftime() style string.\n |  \n |  toordinal(...)\n |      Return proleptic Gregorian ordinal.  January 1 of year 1 is day 1.\n |  \n |  weekday(...)\n |      Return the day of the week represented by the date.\n |      Monday == 0 ... Sunday == 6\n |  \n |  ----------------------------------------------------------------------\n |  Class methods inherited from date:\n |  \n |  fromordinal(...) from builtins.type\n |      int -&gt; date corresponding to a proleptic Gregorian ordinal.\n |  \n |  today(...) from builtins.type\n |      Current date or datetime:  same as self.__class__.fromtimestamp(time.time()).\n |  \n |  ----------------------------------------------------------------------\n |  Data descriptors inherited from date:\n |  \n |  day\n |  \n |  month\n |  \n |  year\n\n</div>",
       "datasetInfos": [],
       "metadata": {},
       "removedWidgets": [],
       "type": "html"
      }
     },
     "output_type": "display_data"
    }
   ],
   "source": [
    "help(today_date)"
   ]
  },
  {
   "cell_type": "code",
   "execution_count": 0,
   "metadata": {
    "application/vnd.databricks.v1+cell": {
     "cellMetadata": {},
     "inputWidgets": {},
     "nuid": "5275e55d-388d-430a-8cbd-83afb66a68c5",
     "showTitle": false,
     "title": ""
    }
   },
   "outputs": [
    {
     "output_type": "display_data",
     "data": {
      "text/html": [
       "<style scoped>\n",
       "  .ansiout {\n",
       "    display: block;\n",
       "    unicode-bidi: embed;\n",
       "    white-space: pre-wrap;\n",
       "    word-wrap: break-word;\n",
       "    word-break: break-all;\n",
       "    font-family: \"Menlo\", \"Monaco\", \"Consolas\", \"Ubuntu Mono\", \"Source Code Pro\", monospace;\n",
       "    font-size: 13px;\n",
       "    color: #555;\n",
       "    margin-left: 4px;\n",
       "    line-height: 19px;\n",
       "  }\n",
       "</style>\n",
       "<div class=\"ansiout\">Help on datetime object:\n",
       "\n",
       "class datetime(date)\n",
       "  datetime(year, month, day[, hour[, minute[, second[, microsecond[,tzinfo]]]]])\n",
       "  \n",
       "  The year, month and day arguments are required. tzinfo may be None, or an\n",
       "  instance of a tzinfo subclass. The remaining arguments may be ints.\n",
       "  \n",
       "  Method resolution order:\n",
       "      datetime\n",
       "      date\n",
       "      builtins.object\n",
       "  \n",
       "  Methods defined here:\n",
       "  \n",
       "  __add__(self, value, /)\n",
       "      Return self+value.\n",
       "  \n",
       "  __eq__(self, value, /)\n",
       "      Return self==value.\n",
       "  \n",
       "  __ge__(self, value, /)\n",
       "      Return self&gt;=value.\n",
       "  \n",
       "  __getattribute__(self, name, /)\n",
       "      Return getattr(self, name).\n",
       "  \n",
       "  __gt__(self, value, /)\n",
       "      Return self&gt;value.\n",
       "  \n",
       "  __hash__(self, /)\n",
       "      Return hash(self).\n",
       "  \n",
       "  __le__(self, value, /)\n",
       "      Return self&lt;=value.\n",
       "  \n",
       "  __lt__(self, value, /)\n",
       "      Return self&lt;value.\n",
       "  \n",
       "  __ne__(self, value, /)\n",
       "      Return self!=value.\n",
       "  \n",
       "  __radd__(self, value, /)\n",
       "      Return value+self.\n",
       "  \n",
       "  __reduce__(...)\n",
       "      __reduce__() -&gt; (cls, state)\n",
       "  \n",
       "  __reduce_ex__(...)\n",
       "      __reduce_ex__(proto) -&gt; (cls, state)\n",
       "  \n",
       "  __repr__(self, /)\n",
       "      Return repr(self).\n",
       "  \n",
       "  __rsub__(self, value, /)\n",
       "      Return value-self.\n",
       "  \n",
       "  __str__(self, /)\n",
       "      Return str(self).\n",
       "  \n",
       "  __sub__(self, value, /)\n",
       "      Return self-value.\n",
       "  \n",
       "  astimezone(...)\n",
       "      tz -&gt; convert to local time in new timezone tz\n",
       "  \n",
       "  ctime(...)\n",
       "      Return ctime() style string.\n",
       "  \n",
       "  date(...)\n",
       "      Return date object with same year, month and day.\n",
       "  \n",
       "  dst(...)\n",
       "      Return self.tzinfo.dst(self).\n",
       "  \n",
       "  isoformat(...)\n",
       "      [sep] -&gt; string in ISO 8601 format, YYYY-MM-DDT[HH[:MM[:SS[.mmm[uuu]]]]][+HH:MM].\n",
       "      sep is used to separate the year from the time, and defaults to &#39;T&#39;.\n",
       "      timespec specifies what components of the time to include (allowed values are &#39;auto&#39;, &#39;hours&#39;, &#39;minutes&#39;, &#39;seconds&#39;, &#39;milliseconds&#39;, and &#39;microseconds&#39;).\n",
       "  \n",
       "  replace(...)\n",
       "      Return datetime with new specified fields.\n",
       "  \n",
       "  time(...)\n",
       "      Return time object with same time but with tzinfo=None.\n",
       "  \n",
       "  timestamp(...)\n",
       "      Return POSIX timestamp as float.\n",
       "  \n",
       "  timetuple(...)\n",
       "      Return time tuple, compatible with time.localtime().\n",
       "  \n",
       "  timetz(...)\n",
       "      Return time object with same time and tzinfo.\n",
       "  \n",
       "  tzname(...)\n",
       "      Return self.tzinfo.tzname(self).\n",
       "  \n",
       "  utcoffset(...)\n",
       "      Return self.tzinfo.utcoffset(self).\n",
       "  \n",
       "  utctimetuple(...)\n",
       "      Return UTC time tuple, compatible with time.localtime().\n",
       "  \n",
       "  ----------------------------------------------------------------------\n",
       "  Class methods defined here:\n",
       "  \n",
       "  combine(...) from builtins.type\n",
       "      date, time -&gt; datetime with same date and time fields\n",
       "  \n",
       "  fromisoformat(...) from builtins.type\n",
       "      string -&gt; datetime from datetime.isoformat() output\n",
       "  \n",
       "  fromtimestamp(...) from builtins.type\n",
       "      timestamp[, tz] -&gt; tz&#39;s local time from POSIX timestamp.\n",
       "  \n",
       "  now(tz=None) from builtins.type\n",
       "      Returns new datetime object representing current time local to tz.\n",
       "      \n",
       "        tz\n",
       "          Timezone object.\n",
       "      \n",
       "      If no tz is specified, uses local timezone.\n",
       "  \n",
       "  strptime(...) from builtins.type\n",
       "      string, format -&gt; new datetime parsed from a string (like time.strptime()).\n",
       "  \n",
       "  utcfromtimestamp(...) from builtins.type\n",
       "      Construct a naive UTC datetime from a POSIX timestamp.\n",
       "  \n",
       "  utcnow(...) from builtins.type\n",
       "      Return a new datetime representing UTC day and time.\n",
       "  \n",
       "  ----------------------------------------------------------------------\n",
       "  Static methods defined here:\n",
       "  \n",
       "  __new__(*args, **kwargs) from builtins.type\n",
       "      Create and return a new object.  See help(type) for accurate signature.\n",
       "  \n",
       "  ----------------------------------------------------------------------\n",
       "  Data descriptors defined here:\n",
       "  \n",
       "  fold\n",
       "  \n",
       "  hour\n",
       "  \n",
       "  microsecond\n",
       "  \n",
       "  minute\n",
       "  \n",
       "  second\n",
       "  \n",
       "  tzinfo\n",
       "  \n",
       "  ----------------------------------------------------------------------\n",
       "  Data and other attributes defined here:\n",
       "  \n",
       "  max = datetime.datetime(9999, 12, 31, 23, 59, 59, 999999)\n",
       "  \n",
       "  min = datetime.datetime(1, 1, 1, 0, 0)\n",
       "  \n",
       "  resolution = datetime.timedelta(microseconds=1)\n",
       "  \n",
       "  ----------------------------------------------------------------------\n",
       "  Methods inherited from date:\n",
       "  \n",
       "  __format__(...)\n",
       "      Formats self with strftime.\n",
       "  \n",
       "  isocalendar(...)\n",
       "      Return a 3-tuple containing ISO year, week number, and weekday.\n",
       "  \n",
       "  isoweekday(...)\n",
       "      Return the day of the week represented by the date.\n",
       "      Monday == 1 ... Sunday == 7\n",
       "  \n",
       "  strftime(...)\n",
       "      format -&gt; strftime() style string.\n",
       "  \n",
       "  toordinal(...)\n",
       "      Return proleptic Gregorian ordinal.  January 1 of year 1 is day 1.\n",
       "  \n",
       "  weekday(...)\n",
       "      Return the day of the week represented by the date.\n",
       "      Monday == 0 ... Sunday == 6\n",
       "  \n",
       "  ----------------------------------------------------------------------\n",
       "  Class methods inherited from date:\n",
       "  \n",
       "  fromordinal(...) from builtins.type\n",
       "      int -&gt; date corresponding to a proleptic Gregorian ordinal.\n",
       "  \n",
       "  today(...) from builtins.type\n",
       "      Current date or datetime:  same as self.__class__.fromtimestamp(time.time()).\n",
       "  \n",
       "  ----------------------------------------------------------------------\n",
       "  Data descriptors inherited from date:\n",
       "  \n",
       "  day\n",
       "  \n",
       "  month\n",
       "  \n",
       "  year\n",
       "\n",
       "</div>"
      ]
     },
     "metadata": {
      "application/vnd.databricks.v1+output": {
       "addedWidgets": {},
       "arguments": {},
       "data": "<div class=\"ansiout\">Help on datetime object:\n\nclass datetime(date)\n |  datetime(year, month, day[, hour[, minute[, second[, microsecond[,tzinfo]]]]])\n |  \n |  The year, month and day arguments are required. tzinfo may be None, or an\n |  instance of a tzinfo subclass. The remaining arguments may be ints.\n |  \n |  Method resolution order:\n |      datetime\n |      date\n |      builtins.object\n |  \n |  Methods defined here:\n |  \n |  __add__(self, value, /)\n |      Return self+value.\n |  \n |  __eq__(self, value, /)\n |      Return self==value.\n |  \n |  __ge__(self, value, /)\n |      Return self&gt;=value.\n |  \n |  __getattribute__(self, name, /)\n |      Return getattr(self, name).\n |  \n |  __gt__(self, value, /)\n |      Return self&gt;value.\n |  \n |  __hash__(self, /)\n |      Return hash(self).\n |  \n |  __le__(self, value, /)\n |      Return self&lt;=value.\n |  \n |  __lt__(self, value, /)\n |      Return self&lt;value.\n |  \n |  __ne__(self, value, /)\n |      Return self!=value.\n |  \n |  __radd__(self, value, /)\n |      Return value+self.\n |  \n |  __reduce__(...)\n |      __reduce__() -&gt; (cls, state)\n |  \n |  __reduce_ex__(...)\n |      __reduce_ex__(proto) -&gt; (cls, state)\n |  \n |  __repr__(self, /)\n |      Return repr(self).\n |  \n |  __rsub__(self, value, /)\n |      Return value-self.\n |  \n |  __str__(self, /)\n |      Return str(self).\n |  \n |  __sub__(self, value, /)\n |      Return self-value.\n |  \n |  astimezone(...)\n |      tz -&gt; convert to local time in new timezone tz\n |  \n |  ctime(...)\n |      Return ctime() style string.\n |  \n |  date(...)\n |      Return date object with same year, month and day.\n |  \n |  dst(...)\n |      Return self.tzinfo.dst(self).\n |  \n |  isoformat(...)\n |      [sep] -&gt; string in ISO 8601 format, YYYY-MM-DDT[HH[:MM[:SS[.mmm[uuu]]]]][+HH:MM].\n |      sep is used to separate the year from the time, and defaults to &#39;T&#39;.\n |      timespec specifies what components of the time to include (allowed values are &#39;auto&#39;, &#39;hours&#39;, &#39;minutes&#39;, &#39;seconds&#39;, &#39;milliseconds&#39;, and &#39;microseconds&#39;).\n |  \n |  replace(...)\n |      Return datetime with new specified fields.\n |  \n |  time(...)\n |      Return time object with same time but with tzinfo=None.\n |  \n |  timestamp(...)\n |      Return POSIX timestamp as float.\n |  \n |  timetuple(...)\n |      Return time tuple, compatible with time.localtime().\n |  \n |  timetz(...)\n |      Return time object with same time and tzinfo.\n |  \n |  tzname(...)\n |      Return self.tzinfo.tzname(self).\n |  \n |  utcoffset(...)\n |      Return self.tzinfo.utcoffset(self).\n |  \n |  utctimetuple(...)\n |      Return UTC time tuple, compatible with time.localtime().\n |  \n |  ----------------------------------------------------------------------\n |  Class methods defined here:\n |  \n |  combine(...) from builtins.type\n |      date, time -&gt; datetime with same date and time fields\n |  \n |  fromisoformat(...) from builtins.type\n |      string -&gt; datetime from datetime.isoformat() output\n |  \n |  fromtimestamp(...) from builtins.type\n |      timestamp[, tz] -&gt; tz&#39;s local time from POSIX timestamp.\n |  \n |  now(tz=None) from builtins.type\n |      Returns new datetime object representing current time local to tz.\n |      \n |        tz\n |          Timezone object.\n |      \n |      If no tz is specified, uses local timezone.\n |  \n |  strptime(...) from builtins.type\n |      string, format -&gt; new datetime parsed from a string (like time.strptime()).\n |  \n |  utcfromtimestamp(...) from builtins.type\n |      Construct a naive UTC datetime from a POSIX timestamp.\n |  \n |  utcnow(...) from builtins.type\n |      Return a new datetime representing UTC day and time.\n |  \n |  ----------------------------------------------------------------------\n |  Static methods defined here:\n |  \n |  __new__(*args, **kwargs) from builtins.type\n |      Create and return a new object.  See help(type) for accurate signature.\n |  \n |  ----------------------------------------------------------------------\n |  Data descriptors defined here:\n |  \n |  fold\n |  \n |  hour\n |  \n |  microsecond\n |  \n |  minute\n |  \n |  second\n |  \n |  tzinfo\n |  \n |  ----------------------------------------------------------------------\n |  Data and other attributes defined here:\n |  \n |  max = datetime.datetime(9999, 12, 31, 23, 59, 59, 999999)\n |  \n |  min = datetime.datetime(1, 1, 1, 0, 0)\n |  \n |  resolution = datetime.timedelta(microseconds=1)\n |  \n |  ----------------------------------------------------------------------\n |  Methods inherited from date:\n |  \n |  __format__(...)\n |      Formats self with strftime.\n |  \n |  isocalendar(...)\n |      Return a 3-tuple containing ISO year, week number, and weekday.\n |  \n |  isoweekday(...)\n |      Return the day of the week represented by the date.\n |      Monday == 1 ... Sunday == 7\n |  \n |  strftime(...)\n |      format -&gt; strftime() style string.\n |  \n |  toordinal(...)\n |      Return proleptic Gregorian ordinal.  January 1 of year 1 is day 1.\n |  \n |  weekday(...)\n |      Return the day of the week represented by the date.\n |      Monday == 0 ... Sunday == 6\n |  \n |  ----------------------------------------------------------------------\n |  Class methods inherited from date:\n |  \n |  fromordinal(...) from builtins.type\n |      int -&gt; date corresponding to a proleptic Gregorian ordinal.\n |  \n |  today(...) from builtins.type\n |      Current date or datetime:  same as self.__class__.fromtimestamp(time.time()).\n |  \n |  ----------------------------------------------------------------------\n |  Data descriptors inherited from date:\n |  \n |  day\n |  \n |  month\n |  \n |  year\n\n</div>",
       "datasetInfos": [],
       "metadata": {},
       "removedWidgets": [],
       "type": "html"
      }
     },
     "output_type": "display_data"
    }
   ],
   "source": [
    "help(today_date)"
   ]
  },
  {
   "cell_type": "code",
   "execution_count": 0,
   "metadata": {
    "application/vnd.databricks.v1+cell": {
     "cellMetadata": {},
     "inputWidgets": {},
     "nuid": "f19bd876-96aa-4480-befa-05385320b0df",
     "showTitle": false,
     "title": ""
    }
   },
   "outputs": [
    {
     "output_type": "display_data",
     "data": {
      "text/html": [
       "<style scoped>\n",
       "  .ansiout {\n",
       "    display: block;\n",
       "    unicode-bidi: embed;\n",
       "    white-space: pre-wrap;\n",
       "    word-wrap: break-word;\n",
       "    word-break: break-all;\n",
       "    font-family: \"Menlo\", \"Monaco\", \"Consolas\", \"Ubuntu Mono\", \"Source Code Pro\", monospace;\n",
       "    font-size: 13px;\n",
       "    color: #555;\n",
       "    margin-left: 4px;\n",
       "    line-height: 19px;\n",
       "  }\n",
       "</style>\n",
       "<div class=\"ansiout\">Date :  2021-05-05 04:15:56.806032\n",
       "Year :  2021\n",
       "Month :  5\n",
       "Day :  5\n",
       "Wednesday\n",
       "Wed\n",
       "May\n",
       "May\n",
       "04\n",
       "04\n",
       "</div>"
      ]
     },
     "metadata": {
      "application/vnd.databricks.v1+output": {
       "addedWidgets": {},
       "arguments": {},
       "data": "<div class=\"ansiout\">Date :  2021-05-05 04:15:56.806032\nYear :  2021\nMonth :  5\nDay :  5\nWednesday\nWed\nMay\nMay\n04\n04\n</div>",
       "datasetInfos": [],
       "metadata": {},
       "removedWidgets": [],
       "type": "html"
      }
     },
     "output_type": "display_data"
    }
   ],
   "source": [
    "import datetime\n",
    "\n",
    "today_date = datetime.datetime.now()\n",
    "\n",
    "print('Date : ',today_date)\n",
    "print('Year : ',today_date.year)\n",
    "print('Month : ',today_date.month)\n",
    "print('Day : ',today_date.day)\n",
    "print(today_date.strftime(\"%A\"))\n",
    "print(today_date.strftime(\"%a\"))\n",
    "print(today_date.strftime(\"%B\"))\n",
    "print(today_date.strftime(\"%b\"))\n",
    "print(today_date.strftime(\"%H\"))\n",
    "print(today_date.strftime(\"%I\"))"
   ]
  },
  {
   "cell_type": "code",
   "execution_count": 0,
   "metadata": {
    "application/vnd.databricks.v1+cell": {
     "cellMetadata": {},
     "inputWidgets": {},
     "nuid": "525c2b91-970d-4dac-8420-27ef8c296879",
     "showTitle": false,
     "title": ""
    }
   },
   "outputs": [
    {
     "output_type": "display_data",
     "data": {
      "text/html": [
       "<style scoped>\n",
       "  .ansiout {\n",
       "    display: block;\n",
       "    unicode-bidi: embed;\n",
       "    white-space: pre-wrap;\n",
       "    word-wrap: break-word;\n",
       "    word-break: break-all;\n",
       "    font-family: \"Menlo\", \"Monaco\", \"Consolas\", \"Ubuntu Mono\", \"Source Code Pro\", monospace;\n",
       "    font-size: 13px;\n",
       "    color: #555;\n",
       "    margin-left: 4px;\n",
       "    line-height: 19px;\n",
       "  }\n",
       "</style>\n",
       "<div class=\"ansiout\">Help on module datetime:\n",
       "\n",
       "NAME\n",
       "    datetime - Fast implementation of the datetime type.\n",
       "\n",
       "CLASSES\n",
       "    builtins.object\n",
       "        date\n",
       "            datetime\n",
       "        time\n",
       "        timedelta\n",
       "        tzinfo\n",
       "            timezone\n",
       "    \n",
       "    class date(builtins.object)\n",
       "  date(year, month, day) --&gt; date object\n",
       "  \n",
       "  Methods defined here:\n",
       "  \n",
       "  __add__(self, value, /)\n",
       "      Return self+value.\n",
       "  \n",
       "  __eq__(self, value, /)\n",
       "      Return self==value.\n",
       "  \n",
       "  __format__(...)\n",
       "      Formats self with strftime.\n",
       "  \n",
       "  __ge__(self, value, /)\n",
       "      Return self&gt;=value.\n",
       "  \n",
       "  __getattribute__(self, name, /)\n",
       "      Return getattr(self, name).\n",
       "  \n",
       "  __gt__(self, value, /)\n",
       "      Return self&gt;value.\n",
       "  \n",
       "  __hash__(self, /)\n",
       "      Return hash(self).\n",
       "  \n",
       "  __le__(self, value, /)\n",
       "      Return self&lt;=value.\n",
       "  \n",
       "  __lt__(self, value, /)\n",
       "      Return self&lt;value.\n",
       "  \n",
       "  __ne__(self, value, /)\n",
       "      Return self!=value.\n",
       "  \n",
       "  __radd__(self, value, /)\n",
       "      Return value+self.\n",
       "  \n",
       "  __reduce__(...)\n",
       "      __reduce__() -&gt; (cls, state)\n",
       "  \n",
       "  __repr__(self, /)\n",
       "      Return repr(self).\n",
       "  \n",
       "  __rsub__(self, value, /)\n",
       "      Return value-self.\n",
       "  \n",
       "  __str__(self, /)\n",
       "      Return str(self).\n",
       "  \n",
       "  __sub__(self, value, /)\n",
       "      Return self-value.\n",
       "  \n",
       "  ctime(...)\n",
       "      Return ctime() style string.\n",
       "  \n",
       "  isocalendar(...)\n",
       "      Return a 3-tuple containing ISO year, week number, and weekday.\n",
       "  \n",
       "  isoformat(...)\n",
       "      Return string in ISO 8601 format, YYYY-MM-DD.\n",
       "  \n",
       "  isoweekday(...)\n",
       "      Return the day of the week represented by the date.\n",
       "      Monday == 1 ... Sunday == 7\n",
       "  \n",
       "  replace(...)\n",
       "      Return date with new specified fields.\n",
       "  \n",
       "  strftime(...)\n",
       "      format -&gt; strftime() style string.\n",
       "  \n",
       "  timetuple(...)\n",
       "      Return time tuple, compatible with time.localtime().\n",
       "  \n",
       "  toordinal(...)\n",
       "      Return proleptic Gregorian ordinal.  January 1 of year 1 is day 1.\n",
       "  \n",
       "  weekday(...)\n",
       "      Return the day of the week represented by the date.\n",
       "      Monday == 0 ... Sunday == 6\n",
       "  \n",
       "  ----------------------------------------------------------------------\n",
       "  Class methods defined here:\n",
       "  \n",
       "  fromisoformat(...) from builtins.type\n",
       "      str -&gt; Construct a date from the output of date.isoformat()\n",
       "  \n",
       "  fromordinal(...) from builtins.type\n",
       "      int -&gt; date corresponding to a proleptic Gregorian ordinal.\n",
       "  \n",
       "  fromtimestamp(...) from builtins.type\n",
       "      timestamp -&gt; local date from a POSIX timestamp (like time.time()).\n",
       "  \n",
       "  today(...) from builtins.type\n",
       "      Current date or datetime:  same as self.__class__.fromtimestamp(time.time()).\n",
       "  \n",
       "  ----------------------------------------------------------------------\n",
       "  Static methods defined here:\n",
       "  \n",
       "  __new__(*args, **kwargs) from builtins.type\n",
       "      Create and return a new object.  See help(type) for accurate signature.\n",
       "  \n",
       "  ----------------------------------------------------------------------\n",
       "  Data descriptors defined here:\n",
       "  \n",
       "  day\n",
       "  \n",
       "  month\n",
       "  \n",
       "  year\n",
       "  \n",
       "  ----------------------------------------------------------------------\n",
       "  Data and other attributes defined here:\n",
       "  \n",
       "  max = datetime.date(9999, 12, 31)\n",
       "  \n",
       "  min = datetime.date(1, 1, 1)\n",
       "  \n",
       "  resolution = datetime.timedelta(days=1)\n",
       "    \n",
       "    class datetime(date)\n",
       "  datetime(year, month, day[, hour[, minute[, second[, microsecond[,tzinfo]]]]])\n",
       "  \n",
       "  The year, month and day arguments are required. tzinfo may be None, or an\n",
       "  instance of a tzinfo subclass. The remaining arguments may be ints.\n",
       "  \n",
       "  Method resolution order:\n",
       "      datetime\n",
       "      date\n",
       "      builtins.object\n",
       "  \n",
       "  Methods defined here:\n",
       "  \n",
       "  __add__(self, value, /)\n",
       "      Return self+value.\n",
       "  \n",
       "  __eq__(self, value, /)\n",
       "      Return self==value.\n",
       "  \n",
       "  __ge__(self, value, /)\n",
       "      Return self&gt;=value.\n",
       "  \n",
       "  __getattribute__(self, name, /)\n",
       "      Return getattr(self, name).\n",
       "  \n",
       "  __gt__(self, value, /)\n",
       "      Return self&gt;value.\n",
       "  \n",
       "  __hash__(self, /)\n",
       "      Return hash(self).\n",
       "  \n",
       "  __le__(self, value, /)\n",
       "      Return self&lt;=value.\n",
       "  \n",
       "  __lt__(self, value, /)\n",
       "      Return self&lt;value.\n",
       "  \n",
       "  __ne__(self, value, /)\n",
       "      Return self!=value.\n",
       "  \n",
       "  __radd__(self, value, /)\n",
       "      Return value+self.\n",
       "  \n",
       "  __reduce__(...)\n",
       "      __reduce__() -&gt; (cls, state)\n",
       "  \n",
       "  __reduce_ex__(...)\n",
       "      __reduce_ex__(proto) -&gt; (cls, state)\n",
       "  \n",
       "  __repr__(self, /)\n",
       "      Return repr(self).\n",
       "  \n",
       "  __rsub__(self, value, /)\n",
       "      Return value-self.\n",
       "  \n",
       "  __str__(self, /)\n",
       "      Return str(self).\n",
       "  \n",
       "  __sub__(self, value, /)\n",
       "      Return self-value.\n",
       "  \n",
       "  astimezone(...)\n",
       "      tz -&gt; convert to local time in new timezone tz\n",
       "  \n",
       "  ctime(...)\n",
       "      Return ctime() style string.\n",
       "  \n",
       "  date(...)\n",
       "      Return date object with same year, month and day.\n",
       "  \n",
       "  dst(...)\n",
       "      Return self.tzinfo.dst(self).\n",
       "  \n",
       "  isoformat(...)\n",
       "      [sep] -&gt; string in ISO 8601 format, YYYY-MM-DDT[HH[:MM[:SS[.mmm[uuu]]]]][+HH:MM].\n",
       "      sep is used to separate the year from the time, and defaults to &#39;T&#39;.\n",
       "      timespec specifies what components of the time to include (allowed values are &#39;auto&#39;, &#39;hours&#39;, &#39;minutes&#39;, &#39;seconds&#39;, &#39;milliseconds&#39;, and &#39;microseconds&#39;).\n",
       "  \n",
       "  replace(...)\n",
       "      Return datetime with new specified fields.\n",
       "  \n",
       "  time(...)\n",
       "      Return time object with same time but with tzinfo=None.\n",
       "  \n",
       "  timestamp(...)\n",
       "      Return POSIX timestamp as float.\n",
       "  \n",
       "  timetuple(...)\n",
       "      Return time tuple, compatible with time.localtime().\n",
       "  \n",
       "  timetz(...)\n",
       "      Return time object with same time and tzinfo.\n",
       "  \n",
       "  tzname(...)\n",
       "      Return self.tzinfo.tzname(self).\n",
       "  \n",
       "  utcoffset(...)\n",
       "      Return self.tzinfo.utcoffset(self).\n",
       "  \n",
       "  utctimetuple(...)\n",
       "      Return UTC time tuple, compatible with time.localtime().\n",
       "  \n",
       "  ----------------------------------------------------------------------\n",
       "  Class methods defined here:\n",
       "  \n",
       "  combine(...) from builtins.type\n",
       "      date, time -&gt; datetime with same date and time fields\n",
       "  \n",
       "  fromisoformat(...) from builtins.type\n",
       "      string -&gt; datetime from datetime.isoformat() output\n",
       "  \n",
       "  fromtimestamp(...) from builtins.type\n",
       "      timestamp[, tz] -&gt; tz&#39;s local time from POSIX timestamp.\n",
       "  \n",
       "  now(tz=None) from builtins.type\n",
       "      Returns new datetime object representing current time local to tz.\n",
       "      \n",
       "        tz\n",
       "          Timezone object.\n",
       "      \n",
       "      If no tz is specified, uses local timezone.\n",
       "  \n",
       "  strptime(...) from builtins.type\n",
       "      string, format -&gt; new datetime parsed from a string (like time.strptime()).\n",
       "  \n",
       "  utcfromtimestamp(...) from builtins.type\n",
       "      Construct a naive UTC datetime from a POSIX timestamp.\n",
       "  \n",
       "  utcnow(...) from builtins.type\n",
       "      Return a new datetime representing UTC day and time.\n",
       "  \n",
       "  ----------------------------------------------------------------------\n",
       "  Static methods defined here:\n",
       "  \n",
       "  __new__(*args, **kwargs) from builtins.type\n",
       "      Create and return a new object.  See help(type) for accurate signature.\n",
       "  \n",
       "  ----------------------------------------------------------------------\n",
       "  Data descriptors defined here:\n",
       "  \n",
       "  fold\n",
       "  \n",
       "  hour\n",
       "  \n",
       "  microsecond\n",
       "  \n",
       "  minute\n",
       "  \n",
       "  second\n",
       "  \n",
       "  tzinfo\n",
       "  \n",
       "  ----------------------------------------------------------------------\n",
       "  Data and other attributes defined here:\n",
       "  \n",
       "  max = datetime.datetime(9999, 12, 31, 23, 59, 59, 999999)\n",
       "  \n",
       "  min = datetime.datetime(1, 1, 1, 0, 0)\n",
       "  \n",
       "  resolution = datetime.timedelta(microseconds=1)\n",
       "  \n",
       "  ----------------------------------------------------------------------\n",
       "  Methods inherited from date:\n",
       "  \n",
       "  __format__(...)\n",
       "      Formats self with strftime.\n",
       "  \n",
       "  isocalendar(...)\n",
       "      Return a 3-tuple containing ISO year, week number, and weekday.\n",
       "  \n",
       "  isoweekday(...)\n",
       "      Return the day of the week represented by the date.\n",
       "      Monday == 1 ... Sunday == 7\n",
       "  \n",
       "  strftime(...)\n",
       "      format -&gt; strftime() style string.\n",
       "  \n",
       "  toordinal(...)\n",
       "      Return proleptic Gregorian ordinal.  January 1 of year 1 is day 1.\n",
       "  \n",
       "  weekday(...)\n",
       "      Return the day of the week represented by the date.\n",
       "      Monday == 0 ... Sunday == 6\n",
       "  \n",
       "  ----------------------------------------------------------------------\n",
       "  Class methods inherited from date:\n",
       "  \n",
       "  fromordinal(...) from builtins.type\n",
       "      int -&gt; date corresponding to a proleptic Gregorian ordinal.\n",
       "  \n",
       "  today(...) from builtins.type\n",
       "      Current date or datetime:  same as self.__class__.fromtimestamp(time.time()).\n",
       "  \n",
       "  ----------------------------------------------------------------------\n",
       "  Data descriptors inherited from date:\n",
       "  \n",
       "  day\n",
       "  \n",
       "  month\n",
       "  \n",
       "  year\n",
       "    \n",
       "    class time(builtins.object)\n",
       "  time([hour[, minute[, second[, microsecond[, tzinfo]]]]]) --&gt; a time object\n",
       "  \n",
       "  All arguments are optional. tzinfo may be None, or an instance of\n",
       "  a tzinfo subclass. The remaining arguments may be ints.\n",
       "  \n",
       "  Methods defined here:\n",
       "  \n",
       "  __eq__(self, value, /)\n",
       "      Return self==value.\n",
       "  \n",
       "  __format__(...)\n",
       "      Formats self with strftime.\n",
       "  \n",
       "  __ge__(self, value, /)\n",
       "      Return self&gt;=value.\n",
       "  \n",
       "  __getattribute__(self, name, /)\n",
       "      Return getattr(self, name).\n",
       "  \n",
       "  __gt__(self, value, /)\n",
       "      Return self&gt;value.\n",
       "  \n",
       "  __hash__(self, /)\n",
       "      Return hash(self).\n",
       "  \n",
       "  __le__(self, value, /)\n",
       "      Return self&lt;=value.\n",
       "  \n",
       "  __lt__(self, value, /)\n",
       "      Return self&lt;value.\n",
       "  \n",
       "  __ne__(self, value, /)\n",
       "      Return self!=value.\n",
       "  \n",
       "  __reduce__(...)\n",
       "      __reduce__() -&gt; (cls, state)\n",
       "  \n",
       "  __reduce_ex__(...)\n",
       "      __reduce_ex__(proto) -&gt; (cls, state)\n",
       "  \n",
       "  __repr__(self, /)\n",
       "      Return repr(self).\n",
       "  \n",
       "  __str__(self, /)\n",
       "      Return str(self).\n",
       "  \n",
       "  dst(...)\n",
       "      Return self.tzinfo.dst(self).\n",
       "  \n",
       "  isoformat(...)\n",
       "      Return string in ISO 8601 format, [HH[:MM[:SS[.mmm[uuu]]]]][+HH:MM].\n",
       "      \n",
       "      timespec specifies what components of the time to include.\n",
       "  \n",
       "  replace(...)\n",
       "      Return time with new specified fields.\n",
       "  \n",
       "  strftime(...)\n",
       "      format -&gt; strftime() style string.\n",
       "  \n",
       "  tzname(...)\n",
       "      Return self.tzinfo.tzname(self).\n",
       "  \n",
       "  utcoffset(...)\n",
       "      Return self.tzinfo.utcoffset(self).\n",
       "  \n",
       "  ----------------------------------------------------------------------\n",
       "  Class methods defined here:\n",
       "  \n",
       "  fromisoformat(...) from builtins.type\n",
       "      string -&gt; time from time.isoformat() output\n",
       "  \n",
       "  ----------------------------------------------------------------------\n",
       "  Static methods defined here:\n",
       "  \n",
       "  __new__(*args, **kwargs) from builtins.type\n",
       "      Create and return a new object.  See help(type) for accurate signature.\n",
       "  \n",
       "  ----------------------------------------------------------------------\n",
       "  Data descriptors defined here:\n",
       "  \n",
       "  fold\n",
       "  \n",
       "  hour\n",
       "  \n",
       "  microsecond\n",
       "  \n",
       "  minute\n",
       "  \n",
       "  second\n",
       "  \n",
       "  tzinfo\n",
       "  \n",
       "  ----------------------------------------------------------------------\n",
       "  Data and other attributes defined here:\n",
       "  \n",
       "  max = datetime.time(23, 59, 59, 999999)\n",
       "  \n",
       "  min = datetime.time(0, 0)\n",
       "  \n",
       "  resolution = datetime.timedelta(microseconds=1)\n",
       "    \n",
       "    class timedelta(builtins.object)\n",
       "  Difference between two datetime values.\n",
       "  \n",
       "  timedelta(days=0, seconds=0, microseconds=0, milliseconds=0, minutes=0, hours=0, weeks=0)\n",
       "  \n",
       "  All arguments are optional and default to 0.\n",
       "  Arguments may be integers or floats, and may be positive or negative.\n",
       "  \n",
       "  Methods defined here:\n",
       "  \n",
       "  __abs__(self, /)\n",
       "      abs(self)\n",
       "  \n",
       "  __add__(self, value, /)\n",
       "      Return self+value.\n",
       "  \n",
       "  __bool__(self, /)\n",
       "      self != 0\n",
       "  \n",
       "  __divmod__(self, value, /)\n",
       "      Return divmod(self, value).\n",
       "  \n",
       "  __eq__(self, value, /)\n",
       "      Return self==value.\n",
       "  \n",
       "  __floordiv__(self, value, /)\n",
       "      Return self//value.\n",
       "  \n",
       "  __ge__(self, value, /)\n",
       "      Return self&gt;=value.\n",
       "  \n",
       "  __getattribute__(self, name, /)\n",
       "      Return getattr(self, name).\n",
       "  \n",
       "  __gt__(self, value, /)\n",
       "      Return self&gt;value.\n",
       "  \n",
       "  __hash__(self, /)\n",
       "      Return hash(self).\n",
       "  \n",
       "  __le__(self, value, /)\n",
       "      Return self&lt;=value.\n",
       "  \n",
       "  __lt__(self, value, /)\n",
       "      Return self&lt;value.\n",
       "  \n",
       "  __mod__(self, value, /)\n",
       "      Return self%value.\n",
       "  \n",
       "  __mul__(self, value, /)\n",
       "      Return self*value.\n",
       "  \n",
       "  __ne__(self, value, /)\n",
       "      Return self!=value.\n",
       "  \n",
       "  __neg__(self, /)\n",
       "      -self\n",
       "  \n",
       "  __pos__(self, /)\n",
       "      +self\n",
       "  \n",
       "  __radd__(self, value, /)\n",
       "      Return value+self.\n",
       "  \n",
       "  __rdivmod__(self, value, /)\n",
       "      Return divmod(value, self).\n",
       "  \n",
       "  __reduce__(...)\n",
       "      __reduce__() -&gt; (cls, state)\n",
       "  \n",
       "  __repr__(self, /)\n",
       "      Return repr(self).\n",
       "  \n",
       "  __rfloordiv__(self, value, /)\n",
       "      Return value//self.\n",
       "  \n",
       "  __rmod__(self, value, /)\n",
       "      Return value%self.\n",
       "  \n",
       "  __rmul__(self, value, /)\n",
       "      Return value*self.\n",
       "  \n",
       "  __rsub__(self, value, /)\n",
       "      Return value-self.\n",
       "  \n",
       "  __rtruediv__(self, value, /)\n",
       "      Return value/self.\n",
       "  \n",
       "  __str__(self, /)\n",
       "      Return str(self).\n",
       "  \n",
       "  __sub__(self, value, /)\n",
       "      Return self-value.\n",
       "  \n",
       "  __truediv__(self, value, /)\n",
       "      Return self/value.\n",
       "  \n",
       "  total_seconds(...)\n",
       "      Total seconds in the duration.\n",
       "  \n",
       "  ----------------------------------------------------------------------\n",
       "  Static methods defined here:\n",
       "  \n",
       "  __new__(*args, **kwargs) from builtins.type\n",
       "      Create and return a new object.  See help(type) for accurate signature.\n",
       "  \n",
       "  ----------------------------------------------------------------------\n",
       "  Data descriptors defined here:\n",
       "  \n",
       "  days\n",
       "      Number of days.\n",
       "  \n",
       "  microseconds\n",
       "      Number of microseconds (&gt;= 0 and less than 1 second).\n",
       "  \n",
       "  seconds\n",
       "      Number of seconds (&gt;= 0 and less than 1 day).\n",
       "  \n",
       "  ----------------------------------------------------------------------\n",
       "  Data and other attributes defined here:\n",
       "  \n",
       "  max = datetime.timedelta(days=999999999, seconds=86399, microseconds=9...\n",
       "  \n",
       "  min = datetime.timedelta(days=-999999999)\n",
       "  \n",
       "  resolution = datetime.timedelta(microseconds=1)\n",
       "    \n",
       "    class timezone(tzinfo)\n",
       "  Fixed offset from UTC implementation of tzinfo.\n",
       "  \n",
       "  Method resolution order:\n",
       "      timezone\n",
       "      tzinfo\n",
       "      builtins.object\n",
       "  \n",
       "  Methods defined here:\n",
       "  \n",
       "  __eq__(self, value, /)\n",
       "      Return self==value.\n",
       "  \n",
       "  __ge__(self, value, /)\n",
       "      Return self&gt;=value.\n",
       "  \n",
       "  __getinitargs__(...)\n",
       "      pickle support\n",
       "  \n",
       "  __gt__(self, value, /)\n",
       "      Return self&gt;value.\n",
       "  \n",
       "  __hash__(self, /)\n",
       "      Return hash(self).\n",
       "  \n",
       "  __le__(self, value, /)\n",
       "      Return self&lt;=value.\n",
       "  \n",
       "  __lt__(self, value, /)\n",
       "      Return self&lt;value.\n",
       "  \n",
       "  __ne__(self, value, /)\n",
       "      Return self!=value.\n",
       "  \n",
       "  __repr__(self, /)\n",
       "      Return repr(self).\n",
       "  \n",
       "  __str__(self, /)\n",
       "      Return str(self).\n",
       "  \n",
       "  dst(...)\n",
       "      Return None.\n",
       "  \n",
       "  fromutc(...)\n",
       "      datetime in UTC -&gt; datetime in local time.\n",
       "  \n",
       "  tzname(...)\n",
       "      If name is specified when timezone is created, returns the name.  Otherwise returns offset as &#39;UTC(+|-)HH:MM&#39;.\n",
       "  \n",
       "  utcoffset(...)\n",
       "      Return fixed offset.\n",
       "  \n",
       "  ----------------------------------------------------------------------\n",
       "  Static methods defined here:\n",
       "  \n",
       "  __new__(*args, **kwargs) from builtins.type\n",
       "      Create and return a new object.  See help(type) for accurate signature.\n",
       "  \n",
       "  ----------------------------------------------------------------------\n",
       "  Data and other attributes defined here:\n",
       "  \n",
       "  max = datetime.timezone(datetime.timedelta(seconds=86340))\n",
       "  \n",
       "  min = datetime.timezone(datetime.timedelta(days=-1, seconds=60))\n",
       "  \n",
       "  utc = datetime.timezone.utc\n",
       "  \n",
       "  ----------------------------------------------------------------------\n",
       "  Methods inherited from tzinfo:\n",
       "  \n",
       "  __getattribute__(self, name, /)\n",
       "      Return getattr(self, name).\n",
       "  \n",
       "  __reduce__(...)\n",
       "      -&gt; (cls, state)\n",
       "    \n",
       "    class tzinfo(builtins.object)\n",
       "  Abstract base class for time zone info objects.\n",
       "  \n",
       "  Methods defined here:\n",
       "  \n",
       "  __getattribute__(self, name, /)\n",
       "      Return getattr(self, name).\n",
       "  \n",
       "  __reduce__(...)\n",
       "      -&gt; (cls, state)\n",
       "  \n",
       "  dst(...)\n",
       "      datetime -&gt; DST offset as timedelta positive east of UTC.\n",
       "  \n",
       "  fromutc(...)\n",
       "      datetime in UTC -&gt; datetime in local time.\n",
       "  \n",
       "  tzname(...)\n",
       "      datetime -&gt; string name of time zone.\n",
       "  \n",
       "  utcoffset(...)\n",
       "      datetime -&gt; timedelta showing offset from UTC, negative values indicating West of UTC\n",
       "  \n",
       "  ----------------------------------------------------------------------\n",
       "  Static methods defined here:\n",
       "  \n",
       "  __new__(*args, **kwargs) from builtins.type\n",
       "      Create and return a new object.  See help(type) for accurate signature.\n",
       "\n",
       "DATA\n",
       "    MAXYEAR = 9999\n",
       "    MINYEAR = 1\n",
       "    datetime_CAPI = &lt;capsule object &#34;datetime.datetime_CAPI&#34;&gt;\n",
       "\n",
       "FILE\n",
       "    /usr/lib/python3.7/datetime.py\n",
       "\n",
       "\n",
       "</div>"
      ]
     },
     "metadata": {
      "application/vnd.databricks.v1+output": {
       "addedWidgets": {},
       "arguments": {},
       "data": "<div class=\"ansiout\">Help on module datetime:\n\nNAME\n    datetime - Fast implementation of the datetime type.\n\nCLASSES\n    builtins.object\n        date\n            datetime\n        time\n        timedelta\n        tzinfo\n            timezone\n    \n    class date(builtins.object)\n     |  date(year, month, day) --&gt; date object\n     |  \n     |  Methods defined here:\n     |  \n     |  __add__(self, value, /)\n     |      Return self+value.\n     |  \n     |  __eq__(self, value, /)\n     |      Return self==value.\n     |  \n     |  __format__(...)\n     |      Formats self with strftime.\n     |  \n     |  __ge__(self, value, /)\n     |      Return self&gt;=value.\n     |  \n     |  __getattribute__(self, name, /)\n     |      Return getattr(self, name).\n     |  \n     |  __gt__(self, value, /)\n     |      Return self&gt;value.\n     |  \n     |  __hash__(self, /)\n     |      Return hash(self).\n     |  \n     |  __le__(self, value, /)\n     |      Return self&lt;=value.\n     |  \n     |  __lt__(self, value, /)\n     |      Return self&lt;value.\n     |  \n     |  __ne__(self, value, /)\n     |      Return self!=value.\n     |  \n     |  __radd__(self, value, /)\n     |      Return value+self.\n     |  \n     |  __reduce__(...)\n     |      __reduce__() -&gt; (cls, state)\n     |  \n     |  __repr__(self, /)\n     |      Return repr(self).\n     |  \n     |  __rsub__(self, value, /)\n     |      Return value-self.\n     |  \n     |  __str__(self, /)\n     |      Return str(self).\n     |  \n     |  __sub__(self, value, /)\n     |      Return self-value.\n     |  \n     |  ctime(...)\n     |      Return ctime() style string.\n     |  \n     |  isocalendar(...)\n     |      Return a 3-tuple containing ISO year, week number, and weekday.\n     |  \n     |  isoformat(...)\n     |      Return string in ISO 8601 format, YYYY-MM-DD.\n     |  \n     |  isoweekday(...)\n     |      Return the day of the week represented by the date.\n     |      Monday == 1 ... Sunday == 7\n     |  \n     |  replace(...)\n     |      Return date with new specified fields.\n     |  \n     |  strftime(...)\n     |      format -&gt; strftime() style string.\n     |  \n     |  timetuple(...)\n     |      Return time tuple, compatible with time.localtime().\n     |  \n     |  toordinal(...)\n     |      Return proleptic Gregorian ordinal.  January 1 of year 1 is day 1.\n     |  \n     |  weekday(...)\n     |      Return the day of the week represented by the date.\n     |      Monday == 0 ... Sunday == 6\n     |  \n     |  ----------------------------------------------------------------------\n     |  Class methods defined here:\n     |  \n     |  fromisoformat(...) from builtins.type\n     |      str -&gt; Construct a date from the output of date.isoformat()\n     |  \n     |  fromordinal(...) from builtins.type\n     |      int -&gt; date corresponding to a proleptic Gregorian ordinal.\n     |  \n     |  fromtimestamp(...) from builtins.type\n     |      timestamp -&gt; local date from a POSIX timestamp (like time.time()).\n     |  \n     |  today(...) from builtins.type\n     |      Current date or datetime:  same as self.__class__.fromtimestamp(time.time()).\n     |  \n     |  ----------------------------------------------------------------------\n     |  Static methods defined here:\n     |  \n     |  __new__(*args, **kwargs) from builtins.type\n     |      Create and return a new object.  See help(type) for accurate signature.\n     |  \n     |  ----------------------------------------------------------------------\n     |  Data descriptors defined here:\n     |  \n     |  day\n     |  \n     |  month\n     |  \n     |  year\n     |  \n     |  ----------------------------------------------------------------------\n     |  Data and other attributes defined here:\n     |  \n     |  max = datetime.date(9999, 12, 31)\n     |  \n     |  min = datetime.date(1, 1, 1)\n     |  \n     |  resolution = datetime.timedelta(days=1)\n    \n    class datetime(date)\n     |  datetime(year, month, day[, hour[, minute[, second[, microsecond[,tzinfo]]]]])\n     |  \n     |  The year, month and day arguments are required. tzinfo may be None, or an\n     |  instance of a tzinfo subclass. The remaining arguments may be ints.\n     |  \n     |  Method resolution order:\n     |      datetime\n     |      date\n     |      builtins.object\n     |  \n     |  Methods defined here:\n     |  \n     |  __add__(self, value, /)\n     |      Return self+value.\n     |  \n     |  __eq__(self, value, /)\n     |      Return self==value.\n     |  \n     |  __ge__(self, value, /)\n     |      Return self&gt;=value.\n     |  \n     |  __getattribute__(self, name, /)\n     |      Return getattr(self, name).\n     |  \n     |  __gt__(self, value, /)\n     |      Return self&gt;value.\n     |  \n     |  __hash__(self, /)\n     |      Return hash(self).\n     |  \n     |  __le__(self, value, /)\n     |      Return self&lt;=value.\n     |  \n     |  __lt__(self, value, /)\n     |      Return self&lt;value.\n     |  \n     |  __ne__(self, value, /)\n     |      Return self!=value.\n     |  \n     |  __radd__(self, value, /)\n     |      Return value+self.\n     |  \n     |  __reduce__(...)\n     |      __reduce__() -&gt; (cls, state)\n     |  \n     |  __reduce_ex__(...)\n     |      __reduce_ex__(proto) -&gt; (cls, state)\n     |  \n     |  __repr__(self, /)\n     |      Return repr(self).\n     |  \n     |  __rsub__(self, value, /)\n     |      Return value-self.\n     |  \n     |  __str__(self, /)\n     |      Return str(self).\n     |  \n     |  __sub__(self, value, /)\n     |      Return self-value.\n     |  \n     |  astimezone(...)\n     |      tz -&gt; convert to local time in new timezone tz\n     |  \n     |  ctime(...)\n     |      Return ctime() style string.\n     |  \n     |  date(...)\n     |      Return date object with same year, month and day.\n     |  \n     |  dst(...)\n     |      Return self.tzinfo.dst(self).\n     |  \n     |  isoformat(...)\n     |      [sep] -&gt; string in ISO 8601 format, YYYY-MM-DDT[HH[:MM[:SS[.mmm[uuu]]]]][+HH:MM].\n     |      sep is used to separate the year from the time, and defaults to &#39;T&#39;.\n     |      timespec specifies what components of the time to include (allowed values are &#39;auto&#39;, &#39;hours&#39;, &#39;minutes&#39;, &#39;seconds&#39;, &#39;milliseconds&#39;, and &#39;microseconds&#39;).\n     |  \n     |  replace(...)\n     |      Return datetime with new specified fields.\n     |  \n     |  time(...)\n     |      Return time object with same time but with tzinfo=None.\n     |  \n     |  timestamp(...)\n     |      Return POSIX timestamp as float.\n     |  \n     |  timetuple(...)\n     |      Return time tuple, compatible with time.localtime().\n     |  \n     |  timetz(...)\n     |      Return time object with same time and tzinfo.\n     |  \n     |  tzname(...)\n     |      Return self.tzinfo.tzname(self).\n     |  \n     |  utcoffset(...)\n     |      Return self.tzinfo.utcoffset(self).\n     |  \n     |  utctimetuple(...)\n     |      Return UTC time tuple, compatible with time.localtime().\n     |  \n     |  ----------------------------------------------------------------------\n     |  Class methods defined here:\n     |  \n     |  combine(...) from builtins.type\n     |      date, time -&gt; datetime with same date and time fields\n     |  \n     |  fromisoformat(...) from builtins.type\n     |      string -&gt; datetime from datetime.isoformat() output\n     |  \n     |  fromtimestamp(...) from builtins.type\n     |      timestamp[, tz] -&gt; tz&#39;s local time from POSIX timestamp.\n     |  \n     |  now(tz=None) from builtins.type\n     |      Returns new datetime object representing current time local to tz.\n     |      \n     |        tz\n     |          Timezone object.\n     |      \n     |      If no tz is specified, uses local timezone.\n     |  \n     |  strptime(...) from builtins.type\n     |      string, format -&gt; new datetime parsed from a string (like time.strptime()).\n     |  \n     |  utcfromtimestamp(...) from builtins.type\n     |      Construct a naive UTC datetime from a POSIX timestamp.\n     |  \n     |  utcnow(...) from builtins.type\n     |      Return a new datetime representing UTC day and time.\n     |  \n     |  ----------------------------------------------------------------------\n     |  Static methods defined here:\n     |  \n     |  __new__(*args, **kwargs) from builtins.type\n     |      Create and return a new object.  See help(type) for accurate signature.\n     |  \n     |  ----------------------------------------------------------------------\n     |  Data descriptors defined here:\n     |  \n     |  fold\n     |  \n     |  hour\n     |  \n     |  microsecond\n     |  \n     |  minute\n     |  \n     |  second\n     |  \n     |  tzinfo\n     |  \n     |  ----------------------------------------------------------------------\n     |  Data and other attributes defined here:\n     |  \n     |  max = datetime.datetime(9999, 12, 31, 23, 59, 59, 999999)\n     |  \n     |  min = datetime.datetime(1, 1, 1, 0, 0)\n     |  \n     |  resolution = datetime.timedelta(microseconds=1)\n     |  \n     |  ----------------------------------------------------------------------\n     |  Methods inherited from date:\n     |  \n     |  __format__(...)\n     |      Formats self with strftime.\n     |  \n     |  isocalendar(...)\n     |      Return a 3-tuple containing ISO year, week number, and weekday.\n     |  \n     |  isoweekday(...)\n     |      Return the day of the week represented by the date.\n     |      Monday == 1 ... Sunday == 7\n     |  \n     |  strftime(...)\n     |      format -&gt; strftime() style string.\n     |  \n     |  toordinal(...)\n     |      Return proleptic Gregorian ordinal.  January 1 of year 1 is day 1.\n     |  \n     |  weekday(...)\n     |      Return the day of the week represented by the date.\n     |      Monday == 0 ... Sunday == 6\n     |  \n     |  ----------------------------------------------------------------------\n     |  Class methods inherited from date:\n     |  \n     |  fromordinal(...) from builtins.type\n     |      int -&gt; date corresponding to a proleptic Gregorian ordinal.\n     |  \n     |  today(...) from builtins.type\n     |      Current date or datetime:  same as self.__class__.fromtimestamp(time.time()).\n     |  \n     |  ----------------------------------------------------------------------\n     |  Data descriptors inherited from date:\n     |  \n     |  day\n     |  \n     |  month\n     |  \n     |  year\n    \n    class time(builtins.object)\n     |  time([hour[, minute[, second[, microsecond[, tzinfo]]]]]) --&gt; a time object\n     |  \n     |  All arguments are optional. tzinfo may be None, or an instance of\n     |  a tzinfo subclass. The remaining arguments may be ints.\n     |  \n     |  Methods defined here:\n     |  \n     |  __eq__(self, value, /)\n     |      Return self==value.\n     |  \n     |  __format__(...)\n     |      Formats self with strftime.\n     |  \n     |  __ge__(self, value, /)\n     |      Return self&gt;=value.\n     |  \n     |  __getattribute__(self, name, /)\n     |      Return getattr(self, name).\n     |  \n     |  __gt__(self, value, /)\n     |      Return self&gt;value.\n     |  \n     |  __hash__(self, /)\n     |      Return hash(self).\n     |  \n     |  __le__(self, value, /)\n     |      Return self&lt;=value.\n     |  \n     |  __lt__(self, value, /)\n     |      Return self&lt;value.\n     |  \n     |  __ne__(self, value, /)\n     |      Return self!=value.\n     |  \n     |  __reduce__(...)\n     |      __reduce__() -&gt; (cls, state)\n     |  \n     |  __reduce_ex__(...)\n     |      __reduce_ex__(proto) -&gt; (cls, state)\n     |  \n     |  __repr__(self, /)\n     |      Return repr(self).\n     |  \n     |  __str__(self, /)\n     |      Return str(self).\n     |  \n     |  dst(...)\n     |      Return self.tzinfo.dst(self).\n     |  \n     |  isoformat(...)\n     |      Return string in ISO 8601 format, [HH[:MM[:SS[.mmm[uuu]]]]][+HH:MM].\n     |      \n     |      timespec specifies what components of the time to include.\n     |  \n     |  replace(...)\n     |      Return time with new specified fields.\n     |  \n     |  strftime(...)\n     |      format -&gt; strftime() style string.\n     |  \n     |  tzname(...)\n     |      Return self.tzinfo.tzname(self).\n     |  \n     |  utcoffset(...)\n     |      Return self.tzinfo.utcoffset(self).\n     |  \n     |  ----------------------------------------------------------------------\n     |  Class methods defined here:\n     |  \n     |  fromisoformat(...) from builtins.type\n     |      string -&gt; time from time.isoformat() output\n     |  \n     |  ----------------------------------------------------------------------\n     |  Static methods defined here:\n     |  \n     |  __new__(*args, **kwargs) from builtins.type\n     |      Create and return a new object.  See help(type) for accurate signature.\n     |  \n     |  ----------------------------------------------------------------------\n     |  Data descriptors defined here:\n     |  \n     |  fold\n     |  \n     |  hour\n     |  \n     |  microsecond\n     |  \n     |  minute\n     |  \n     |  second\n     |  \n     |  tzinfo\n     |  \n     |  ----------------------------------------------------------------------\n     |  Data and other attributes defined here:\n     |  \n     |  max = datetime.time(23, 59, 59, 999999)\n     |  \n     |  min = datetime.time(0, 0)\n     |  \n     |  resolution = datetime.timedelta(microseconds=1)\n    \n    class timedelta(builtins.object)\n     |  Difference between two datetime values.\n     |  \n     |  timedelta(days=0, seconds=0, microseconds=0, milliseconds=0, minutes=0, hours=0, weeks=0)\n     |  \n     |  All arguments are optional and default to 0.\n     |  Arguments may be integers or floats, and may be positive or negative.\n     |  \n     |  Methods defined here:\n     |  \n     |  __abs__(self, /)\n     |      abs(self)\n     |  \n     |  __add__(self, value, /)\n     |      Return self+value.\n     |  \n     |  __bool__(self, /)\n     |      self != 0\n     |  \n     |  __divmod__(self, value, /)\n     |      Return divmod(self, value).\n     |  \n     |  __eq__(self, value, /)\n     |      Return self==value.\n     |  \n     |  __floordiv__(self, value, /)\n     |      Return self//value.\n     |  \n     |  __ge__(self, value, /)\n     |      Return self&gt;=value.\n     |  \n     |  __getattribute__(self, name, /)\n     |      Return getattr(self, name).\n     |  \n     |  __gt__(self, value, /)\n     |      Return self&gt;value.\n     |  \n     |  __hash__(self, /)\n     |      Return hash(self).\n     |  \n     |  __le__(self, value, /)\n     |      Return self&lt;=value.\n     |  \n     |  __lt__(self, value, /)\n     |      Return self&lt;value.\n     |  \n     |  __mod__(self, value, /)\n     |      Return self%value.\n     |  \n     |  __mul__(self, value, /)\n     |      Return self*value.\n     |  \n     |  __ne__(self, value, /)\n     |      Return self!=value.\n     |  \n     |  __neg__(self, /)\n     |      -self\n     |  \n     |  __pos__(self, /)\n     |      +self\n     |  \n     |  __radd__(self, value, /)\n     |      Return value+self.\n     |  \n     |  __rdivmod__(self, value, /)\n     |      Return divmod(value, self).\n     |  \n     |  __reduce__(...)\n     |      __reduce__() -&gt; (cls, state)\n     |  \n     |  __repr__(self, /)\n     |      Return repr(self).\n     |  \n     |  __rfloordiv__(self, value, /)\n     |      Return value//self.\n     |  \n     |  __rmod__(self, value, /)\n     |      Return value%self.\n     |  \n     |  __rmul__(self, value, /)\n     |      Return value*self.\n     |  \n     |  __rsub__(self, value, /)\n     |      Return value-self.\n     |  \n     |  __rtruediv__(self, value, /)\n     |      Return value/self.\n     |  \n     |  __str__(self, /)\n     |      Return str(self).\n     |  \n     |  __sub__(self, value, /)\n     |      Return self-value.\n     |  \n     |  __truediv__(self, value, /)\n     |      Return self/value.\n     |  \n     |  total_seconds(...)\n     |      Total seconds in the duration.\n     |  \n     |  ----------------------------------------------------------------------\n     |  Static methods defined here:\n     |  \n     |  __new__(*args, **kwargs) from builtins.type\n     |      Create and return a new object.  See help(type) for accurate signature.\n     |  \n     |  ----------------------------------------------------------------------\n     |  Data descriptors defined here:\n     |  \n     |  days\n     |      Number of days.\n     |  \n     |  microseconds\n     |      Number of microseconds (&gt;= 0 and less than 1 second).\n     |  \n     |  seconds\n     |      Number of seconds (&gt;= 0 and less than 1 day).\n     |  \n     |  ----------------------------------------------------------------------\n     |  Data and other attributes defined here:\n     |  \n     |  max = datetime.timedelta(days=999999999, seconds=86399, microseconds=9...\n     |  \n     |  min = datetime.timedelta(days=-999999999)\n     |  \n     |  resolution = datetime.timedelta(microseconds=1)\n    \n    class timezone(tzinfo)\n     |  Fixed offset from UTC implementation of tzinfo.\n     |  \n     |  Method resolution order:\n     |      timezone\n     |      tzinfo\n     |      builtins.object\n     |  \n     |  Methods defined here:\n     |  \n     |  __eq__(self, value, /)\n     |      Return self==value.\n     |  \n     |  __ge__(self, value, /)\n     |      Return self&gt;=value.\n     |  \n     |  __getinitargs__(...)\n     |      pickle support\n     |  \n     |  __gt__(self, value, /)\n     |      Return self&gt;value.\n     |  \n     |  __hash__(self, /)\n     |      Return hash(self).\n     |  \n     |  __le__(self, value, /)\n     |      Return self&lt;=value.\n     |  \n     |  __lt__(self, value, /)\n     |      Return self&lt;value.\n     |  \n     |  __ne__(self, value, /)\n     |      Return self!=value.\n     |  \n     |  __repr__(self, /)\n     |      Return repr(self).\n     |  \n     |  __str__(self, /)\n     |      Return str(self).\n     |  \n     |  dst(...)\n     |      Return None.\n     |  \n     |  fromutc(...)\n     |      datetime in UTC -&gt; datetime in local time.\n     |  \n     |  tzname(...)\n     |      If name is specified when timezone is created, returns the name.  Otherwise returns offset as &#39;UTC(+|-)HH:MM&#39;.\n     |  \n     |  utcoffset(...)\n     |      Return fixed offset.\n     |  \n     |  ----------------------------------------------------------------------\n     |  Static methods defined here:\n     |  \n     |  __new__(*args, **kwargs) from builtins.type\n     |      Create and return a new object.  See help(type) for accurate signature.\n     |  \n     |  ----------------------------------------------------------------------\n     |  Data and other attributes defined here:\n     |  \n     |  max = datetime.timezone(datetime.timedelta(seconds=86340))\n     |  \n     |  min = datetime.timezone(datetime.timedelta(days=-1, seconds=60))\n     |  \n     |  utc = datetime.timezone.utc\n     |  \n     |  ----------------------------------------------------------------------\n     |  Methods inherited from tzinfo:\n     |  \n     |  __getattribute__(self, name, /)\n     |      Return getattr(self, name).\n     |  \n     |  __reduce__(...)\n     |      -&gt; (cls, state)\n    \n    class tzinfo(builtins.object)\n     |  Abstract base class for time zone info objects.\n     |  \n     |  Methods defined here:\n     |  \n     |  __getattribute__(self, name, /)\n     |      Return getattr(self, name).\n     |  \n     |  __reduce__(...)\n     |      -&gt; (cls, state)\n     |  \n     |  dst(...)\n     |      datetime -&gt; DST offset as timedelta positive east of UTC.\n     |  \n     |  fromutc(...)\n     |      datetime in UTC -&gt; datetime in local time.\n     |  \n     |  tzname(...)\n     |      datetime -&gt; string name of time zone.\n     |  \n     |  utcoffset(...)\n     |      datetime -&gt; timedelta showing offset from UTC, negative values indicating West of UTC\n     |  \n     |  ----------------------------------------------------------------------\n     |  Static methods defined here:\n     |  \n     |  __new__(*args, **kwargs) from builtins.type\n     |      Create and return a new object.  See help(type) for accurate signature.\n\nDATA\n    MAXYEAR = 9999\n    MINYEAR = 1\n    datetime_CAPI = &lt;capsule object &#34;datetime.datetime_CAPI&#34;&gt;\n\nFILE\n    /usr/lib/python3.7/datetime.py\n\n\n</div>",
       "datasetInfos": [],
       "metadata": {},
       "removedWidgets": [],
       "type": "html"
      }
     },
     "output_type": "display_data"
    }
   ],
   "source": [
    "help(datetime)"
   ]
  },
  {
   "cell_type": "code",
   "execution_count": 0,
   "metadata": {
    "application/vnd.databricks.v1+cell": {
     "cellMetadata": {
      "byteLimit": 2048000,
      "rowLimit": 10000
     },
     "inputWidgets": {},
     "nuid": "b758ae8f-8090-401b-9e9e-12bb64bc8185",
     "showTitle": false,
     "title": ""
    }
   },
   "outputs": [
    {
     "output_type": "stream",
     "name": "stdout",
     "output_type": "stream",
     "text": [
      "2020-05-17 23:23:10\n"
     ]
    }
   ],
   "source": [
    "import datetime\n",
    "\n",
    "x = datetime.datetime(2020, 5, 17, 23, 23, 10)\n",
    "\n",
    "print(x)"
   ]
  },
  {
   "cell_type": "code",
   "execution_count": 0,
   "metadata": {
    "application/vnd.databricks.v1+cell": {
     "cellMetadata": {},
     "inputWidgets": {},
     "nuid": "c011e9a8-d834-4bd6-badc-ec6e9a7a83ff",
     "showTitle": false,
     "title": ""
    }
   },
   "outputs": [],
   "source": [
    "import time;      # This is required to include time module.\n",
    "\n",
    "localtime = time.localtime(time.time())\n",
    "print (\"Local current time is :\", localtime)\n",
    "type(localtime)"
   ]
  },
  {
   "cell_type": "markdown",
   "metadata": {
    "application/vnd.databricks.v1+cell": {
     "cellMetadata": {},
     "inputWidgets": {},
     "nuid": "c12705a3-1ba5-47d4-8581-a9722dc65903",
     "showTitle": false,
     "title": ""
    }
   },
   "source": [
    "### Data Type Conversion\n",
    "\n",
    "* str() : Used to convert integer into a string.\n",
    "* int(a,base) : This function converts any data type to integer. ‘Base’ specifies the base in which string is if data type is string.\n",
    "* float() : This function is used to convert any data type to a floating point number\n",
    "* ord() : This function is used to convert a character to integer.\n",
    "* hex() : This function is to convert integer to hexadecimal string.\n",
    "* oct() : This function is to convert integer to octal string.\n",
    "* tuple() : This function is used to convert to a tuple.\n",
    "* set() : This function returns the type after converting to set.\n",
    "* list() : This function is used to convert any data type to a list type.\n",
    "* dict() : This function is used to convert a tuple of order (key,value) into a dictionary.\n",
    "* complex(real,imag) : : This function converts real numbers to complex(real,imag) number.\n",
    "* chr(number) : : This function converts number to its corresponding ASCII character.\n",
    "\n",
    "\n",
    "\n"
   ]
  },
  {
   "cell_type": "code",
   "execution_count": 0,
   "metadata": {
    "application/vnd.databricks.v1+cell": {
     "cellMetadata": {},
     "inputWidgets": {},
     "nuid": "9a9281b9-b713-4421-9214-9472f626a4a0",
     "showTitle": false,
     "title": ""
    }
   },
   "outputs": [
    {
     "output_type": "display_data",
     "data": {
      "text/html": [
       "<style scoped>\n",
       "  .ansiout {\n",
       "    display: block;\n",
       "    unicode-bidi: embed;\n",
       "    white-space: pre-wrap;\n",
       "    word-wrap: break-word;\n",
       "    word-break: break-all;\n",
       "    font-family: \"Menlo\", \"Monaco\", \"Consolas\", \"Ubuntu Mono\", \"Source Code Pro\", monospace;\n",
       "    font-size: 13px;\n",
       "    color: #555;\n",
       "    margin-left: 4px;\n",
       "    line-height: 19px;\n",
       "  }\n",
       "</style>\n",
       "<div class=\"ansiout\">(4+1j)\n",
       "</div>"
      ]
     },
     "metadata": {
      "application/vnd.databricks.v1+output": {
       "addedWidgets": {},
       "arguments": {},
       "data": "<div class=\"ansiout\">(4+1j)\n</div>",
       "datasetInfos": [],
       "metadata": {},
       "removedWidgets": [],
       "type": "html"
      }
     },
     "output_type": "display_data"
    }
   ],
   "source": [
    "complex_num = 8+4j\n",
    "complex_num1 =4+3j\n",
    "print(complex_num-complex_num1)"
   ]
  },
  {
   "cell_type": "markdown",
   "metadata": {
    "application/vnd.databricks.v1+cell": {
     "cellMetadata": {},
     "inputWidgets": {},
     "nuid": "f6840a94-8faa-46e6-964b-7b403e59874f",
     "showTitle": false,
     "title": ""
    }
   },
   "source": [
    "#### Convert String To Bytes\n"
   ]
  },
  {
   "cell_type": "code",
   "execution_count": 0,
   "metadata": {
    "application/vnd.databricks.v1+cell": {
     "cellMetadata": {},
     "inputWidgets": {},
     "nuid": "a2ab1419-934d-4395-a0ca-2f4ff6a1e115",
     "showTitle": false,
     "title": ""
    }
   },
   "outputs": [],
   "source": [
    "string = \"This is sample String.\"\n",
    "# string with encoding 'utf-8'\n",
    "bytes = bytes(string, 'utf-8')\n",
    "print(bytes)"
   ]
  },
  {
   "cell_type": "markdown",
   "metadata": {
    "application/vnd.databricks.v1+cell": {
     "cellMetadata": {},
     "inputWidgets": {},
     "nuid": "ea2982af-30d7-4292-8ce6-a1a7dce9540c",
     "showTitle": false,
     "title": ""
    }
   },
   "source": [
    "#### Convert int to bytes .."
   ]
  },
  {
   "cell_type": "code",
   "execution_count": 0,
   "metadata": {
    "application/vnd.databricks.v1+cell": {
     "cellMetadata": {},
     "inputWidgets": {},
     "nuid": "bf7fdf2b-6c72-4098-bbbe-ff94b55c3e24",
     "showTitle": false,
     "title": ""
    }
   },
   "outputs": [],
   "source": [
    "#int\n",
    "#str"
   ]
  },
  {
   "cell_type": "code",
   "execution_count": 0,
   "metadata": {
    "application/vnd.databricks.v1+cell": {
     "cellMetadata": {},
     "inputWidgets": {},
     "nuid": "1c91e1d5-fc45-4c3e-b948-946ae944a7c6",
     "showTitle": false,
     "title": ""
    }
   },
   "outputs": [],
   "source": [
    "a=10\n",
    "b='88'\n",
    "print(a+int(b))"
   ]
  },
  {
   "cell_type": "code",
   "execution_count": 0,
   "metadata": {
    "application/vnd.databricks.v1+cell": {
     "cellMetadata": {},
     "inputWidgets": {},
     "nuid": "7fc9dfbe-42fb-4ff3-a049-26cb1a0402ba",
     "showTitle": false,
     "title": ""
    }
   },
   "outputs": [],
   "source": [
    "a=10\n",
    "b='88'\n",
    "print(a+int(b))"
   ]
  },
  {
   "cell_type": "code",
   "execution_count": 0,
   "metadata": {
    "application/vnd.databricks.v1+cell": {
     "cellMetadata": {},
     "inputWidgets": {},
     "nuid": "96613f0e-d8cb-42a2-8af6-ea5a8f06e4ea",
     "showTitle": false,
     "title": ""
    }
   },
   "outputs": [],
   "source": [
    "c=str(a)+b\n",
    "print(c)"
   ]
  },
  {
   "cell_type": "code",
   "execution_count": 0,
   "metadata": {
    "application/vnd.databricks.v1+cell": {
     "cellMetadata": {},
     "inputWidgets": {},
     "nuid": "bdff57e1-d079-431c-9ae8-42b0265d21ef",
     "showTitle": false,
     "title": ""
    }
   },
   "outputs": [
    {
     "output_type": "display_data",
     "data": {
      "text/html": [
       "<style scoped>\n",
       "  .ansiout {\n",
       "    display: block;\n",
       "    unicode-bidi: embed;\n",
       "    white-space: pre-wrap;\n",
       "    word-wrap: break-word;\n",
       "    word-break: break-all;\n",
       "    font-family: \"Menlo\", \"Monaco\", \"Consolas\", \"Ubuntu Mono\", \"Source Code Pro\", monospace;\n",
       "    font-size: 13px;\n",
       "    color: #555;\n",
       "    margin-left: 4px;\n",
       "    line-height: 19px;\n",
       "  }\n",
       "</style>\n",
       "<div class=\"ansiout\">The type of variable having value 100  is  &lt;class &#39;int&#39;&gt;\n",
       "The type of variable having value 10.2345  is  &lt;class &#39;float&#39;&gt;\n",
       "The type of variable having value (100+3j)  is  &lt;class &#39;complex&#39;&gt;\n",
       "</div>"
      ]
     },
     "metadata": {
      "application/vnd.databricks.v1+output": {
       "addedWidgets": {},
       "arguments": {},
       "data": "<div class=\"ansiout\">The type of variable having value 100  is  &lt;class &#39;int&#39;&gt;\nThe type of variable having value 10.2345  is  &lt;class &#39;float&#39;&gt;\nThe type of variable having value (100+3j)  is  &lt;class &#39;complex&#39;&gt;\n</div>",
       "datasetInfos": [],
       "metadata": {},
       "removedWidgets": [],
       "type": "html"
      }
     },
     "output_type": "display_data"
    }
   ],
   "source": [
    "#create a variable with integer value.\n",
    "a=100\n",
    "print(\"The type of variable having value\", a, \" is \", type(a))\n",
    "#create a variable with float value.\n",
    "b=10.2345\n",
    "print(\"The type of variable having value\", b, \" is \", type(b))\n",
    "#create a variable with complex value. (real part + img part)\n",
    "c=100+3j\n",
    "print(\"The type of variable having value\", c, \" is \", type(c))"
   ]
  },
  {
   "cell_type": "code",
   "execution_count": 0,
   "metadata": {
    "application/vnd.databricks.v1+cell": {
     "cellMetadata": {},
     "inputWidgets": {},
     "nuid": "32327565-20d6-4651-8233-fdbd457e51ef",
     "showTitle": false,
     "title": ""
    }
   },
   "outputs": [
    {
     "output_type": "display_data",
     "data": {
      "text/html": [
       "<style scoped>\n",
       "  .ansiout {\n",
       "    display: block;\n",
       "    unicode-bidi: embed;\n",
       "    white-space: pre-wrap;\n",
       "    word-wrap: break-word;\n",
       "    word-break: break-all;\n",
       "    font-family: \"Menlo\", \"Monaco\", \"Consolas\", \"Ubuntu Mono\", \"Source Code Pro\", monospace;\n",
       "    font-size: 13px;\n",
       "    color: #555;\n",
       "    margin-left: 4px;\n",
       "    line-height: 19px;\n",
       "  }\n",
       "</style>\n",
       "<div class=\"ansiout\"></div>"
      ]
     },
     "metadata": {
      "application/vnd.databricks.v1+output": {
       "addedWidgets": {},
       "arguments": {},
       "data": "<div class=\"ansiout\"></div>",
       "datasetInfos": [],
       "metadata": {},
       "removedWidgets": [],
       "type": "html"
      }
     },
     "output_type": "display_data"
    }
   ],
   "source": [
    "v1 = int(2.7) # 2\n",
    "v2 = int(-3.9) # -3\n",
    "v3 = int(\"2\") # 2\n",
    "v4 = int(\"11\", 16) # 17, base 16\n",
    "v6 = float(2) # 2.0\n",
    "v7 = float(\"2.7\") # 2.7\n",
    "v8 = float(\"2.7E-2\") # 0.027\n",
    "v9 = float(False) # 0.0\n",
    "vA = float(True) # 1.0\n",
    "vB = str(4.5) # \"4.5\"\n",
    "vC = str([1, 3, 5]) # \"[1, 3, 5]\"\n",
    "vD = bool(0) # False; bool fn since Python 2.2.1\n",
    "vE = bool(3) # True\n",
    "vF = bool([]) # False - empty list\n",
    "vG = bool([False]) # True - non-empty list\n",
    "vH = bool({}) # False - empty dict; same for empty tuple\n",
    "vI = bool(\"\") # False - empty string\n",
    "vJ = bool(\" \") # True - non-empty string\n",
    "vK = bool(None) # False\n",
    "vL = bool(len) # True\n",
    "vM = set([1, 2])\n",
    "vN = list(vM)\n",
    "vO = list({1: \"a\", 2: \"b\"}) # dict -> list of keys\n",
    "vP = tuple(vN)\n",
    "vQ = list(\"abc\") # ['a', 'b', 'c']\n"
   ]
  },
  {
   "cell_type": "markdown",
   "metadata": {
    "application/vnd.databricks.v1+cell": {
     "cellMetadata": {},
     "inputWidgets": {},
     "nuid": "220e9219-50d5-4665-a15c-44201751b951",
     "showTitle": false,
     "title": ""
    }
   },
   "source": [
    "#### sys.getsizeof()\n",
    "* Return the size of an object in bytes. The object can be any type of object. \n",
    "* All built-in objects will return correct results, but this does not have to hold true for third-party extensions as it is implementation specific."
   ]
  },
  {
   "cell_type": "code",
   "execution_count": 0,
   "metadata": {
    "application/vnd.databricks.v1+cell": {
     "cellMetadata": {},
     "inputWidgets": {},
     "nuid": "5ab254c4-2965-4ce4-a194-6a826c4d3314",
     "showTitle": false,
     "title": ""
    }
   },
   "outputs": [
    {
     "output_type": "display_data",
     "data": {
      "text/html": [
       "<style scoped>\n",
       "  .ansiout {\n",
       "    display: block;\n",
       "    unicode-bidi: embed;\n",
       "    white-space: pre-wrap;\n",
       "    word-wrap: break-word;\n",
       "    word-break: break-all;\n",
       "    font-family: \"Menlo\", \"Monaco\", \"Consolas\", \"Ubuntu Mono\", \"Source Code Pro\", monospace;\n",
       "    font-size: 13px;\n",
       "    color: #555;\n",
       "    margin-left: 4px;\n",
       "    line-height: 19px;\n",
       "  }\n",
       "</style>\n",
       "<div class=\"ansiout\">Out[1]: 64</div>"
      ]
     },
     "metadata": {
      "application/vnd.databricks.v1+output": {
       "addedWidgets": {},
       "arguments": {},
       "data": "<div class=\"ansiout\">Out[1]: 64</div>",
       "datasetInfos": [],
       "metadata": {},
       "removedWidgets": [],
       "type": "html"
      }
     },
     "output_type": "display_data"
    }
   ],
   "source": [
    "import sys\n",
    "a='this is no data'\n",
    "sys.getsizeof(a)"
   ]
  },
  {
   "cell_type": "markdown",
   "metadata": {
    "application/vnd.databricks.v1+cell": {
     "cellMetadata": {},
     "inputWidgets": {},
     "nuid": "296597c4-348f-4571-9407-863f7a4c584c",
     "showTitle": false,
     "title": ""
    }
   },
   "source": [
    "##### Program to print ASCII Value of a character\n",
    "* ord() : It coverts the given string of length one, return an integer representing the unicode code point of the character. \n",
    "* For example, ord(‘a’) returns the integer 97."
   ]
  },
  {
   "cell_type": "code",
   "execution_count": 0,
   "metadata": {
    "application/vnd.databricks.v1+cell": {
     "cellMetadata": {},
     "inputWidgets": {},
     "nuid": "dd889106-edca-4cee-9644-753193c45639",
     "showTitle": false,
     "title": ""
    }
   },
   "outputs": [
    {
     "output_type": "display_data",
     "data": {
      "text/html": [
       "<style scoped>\n",
       "  .ansiout {\n",
       "    display: block;\n",
       "    unicode-bidi: embed;\n",
       "    white-space: pre-wrap;\n",
       "    word-wrap: break-word;\n",
       "    word-break: break-all;\n",
       "    font-family: \"Menlo\", \"Monaco\", \"Consolas\", \"Ubuntu Mono\", \"Source Code Pro\", monospace;\n",
       "    font-size: 13px;\n",
       "    color: #555;\n",
       "    margin-left: 4px;\n",
       "    line-height: 19px;\n",
       "  }\n",
       "</style>\n",
       "<div class=\"ansiout\">The ASCII value of  !  is :  33\n",
       "The ASCII value of  *  is :  42\n",
       "The ASCII value of  %  is :  37\n",
       "The ASCII value of  $  is :  36\n",
       "The ASCII value of  &amp;  is :  38\n",
       "The ASCII value of  -  is :  45\n",
       "The ASCII value of  =  is :  61\n",
       "</div>"
      ]
     },
     "metadata": {
      "application/vnd.databricks.v1+output": {
       "addedWidgets": {},
       "arguments": {},
       "data": "<div class=\"ansiout\">The ASCII value of  !  is :  33\nThe ASCII value of  *  is :  42\nThe ASCII value of  %  is :  37\nThe ASCII value of  $  is :  36\nThe ASCII value of  &amp;  is :  38\nThe ASCII value of  -  is :  45\nThe ASCII value of  =  is :  61\n</div>",
       "datasetInfos": [],
       "metadata": {},
       "removedWidgets": [],
       "type": "html"
      }
     },
     "output_type": "display_data"
    }
   ],
   "source": [
    "char='!'\n",
    "print(\"The ASCII value of \",char,\" is : \",ord(char))\n",
    "char='*'\n",
    "print(\"The ASCII value of \",char,\" is : \",ord(char))\n",
    "char='%'\n",
    "print(\"The ASCII value of \",char,\" is : \",ord(char))\n",
    "char='$'\n",
    "print(\"The ASCII value of \",char,\" is : \",ord(char))\n",
    "char='&'\n",
    "print(\"The ASCII value of \",char,\" is : \",ord(char))\n",
    "char='-'\n",
    "print(\"The ASCII value of \",char,\" is : \",ord(char))\n",
    "char='='\n",
    "print(\"The ASCII value of \",char,\" is : \",ord(char))"
   ]
  }
 ],
 "metadata": {
  "application/vnd.databricks.v1+notebook": {
   "dashboards": [],
   "language": "python",
   "notebookMetadata": {
    "pythonIndentUnit": 2
   },
   "notebookName": "Tutorial_02 Python_datatypes",
   "widgets": {}
  }
 },
 "nbformat": 4,
 "nbformat_minor": 0
}
