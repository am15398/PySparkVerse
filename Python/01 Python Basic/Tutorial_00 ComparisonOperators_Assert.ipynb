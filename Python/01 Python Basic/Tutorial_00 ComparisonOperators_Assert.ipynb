{
 "cells": [
  {
   "cell_type": "markdown",
   "metadata": {
    "application/vnd.databricks.v1+cell": {
     "cellMetadata": {},
     "inputWidgets": {},
     "nuid": "cf53821e-6981-4830-8623-3a3b272760ec",
     "showTitle": false,
     "title": ""
    }
   },
   "source": [
    "# Comparison Operators \n",
    "\n",
    "In this lecture we will be learning about Comparison Operators in Python. These operators will allow us to compare variables and output a Boolean value (True or False). \n",
    "\n",
    "If you have any sort of background in Math, these operators should be very straight forward.\n",
    "\n",
    "First we'll present a table of the comparison operators and then work through some examples:\n",
    "\n",
    "<h2> Table of Comparison Operators </h2><p>  In the table below, a=3 and b=4.</p>\n",
    "\n",
    "<table class=\"table table-bordered\">\n",
    "<tr>\n",
    "<th style=\"width:10%\">Operator</th><th style=\"width:45%\">Description</th><th>Example</th>\n",
    "</tr>\n",
    "<tr>\n",
    "<td>==</td>\n",
    "<td>If the values of two operands are equal, then the condition becomes true.</td>\n",
    "<td> (a == b) is not true.</td>\n",
    "</tr>\n",
    "<tr>\n",
    "<td>!=</td>\n",
    "<td>If values of two operands are not equal, then condition becomes true.</td>\n",
    "<td>(a != b) is true</td>\n",
    "</tr>\n",
    "<tr>\n",
    "<td>&gt;</td>\n",
    "<td>If the value of left operand is greater than the value of right operand, then condition becomes true.</td>\n",
    "<td> (a &gt; b) is not true.</td>\n",
    "</tr>\n",
    "<tr>\n",
    "<td>&lt;</td>\n",
    "<td>If the value of left operand is less than the value of right operand, then condition becomes true.</td>\n",
    "<td> (a &lt; b) is true.</td>\n",
    "</tr>\n",
    "<tr>\n",
    "<td>&gt;=</td>\n",
    "<td>If the value of left operand is greater than or equal to the value of right operand, then condition becomes true.</td>\n",
    "<td> (a &gt;= b) is not true. </td>\n",
    "</tr>\n",
    "<tr>\n",
    "<td>&lt;=</td>\n",
    "<td>If the value of left operand is less than or equal to the value of right operand, then condition becomes true.</td>\n",
    "<td> (a &lt;= b) is true. </td>\n",
    "</tr>\n",
    "</table>"
   ]
  },
  {
   "cell_type": "markdown",
   "metadata": {
    "application/vnd.databricks.v1+cell": {
     "cellMetadata": {},
     "inputWidgets": {},
     "nuid": "96b53345-6b29-4efc-a7a8-f08f2613bca6",
     "showTitle": false,
     "title": ""
    }
   },
   "source": [
    "Let's now work through quick examples of each of these.\n",
    "\n",
    "#### Equal"
   ]
  },
  {
   "cell_type": "code",
   "execution_count": 0,
   "metadata": {
    "application/vnd.databricks.v1+cell": {
     "cellMetadata": {},
     "inputWidgets": {},
     "nuid": "2939b672-0e84-4f33-88b1-851eb94c1f6d",
     "showTitle": false,
     "title": ""
    }
   },
   "outputs": [],
   "source": [
    "33 == 33"
   ]
  },
  {
   "cell_type": "code",
   "execution_count": 0,
   "metadata": {
    "application/vnd.databricks.v1+cell": {
     "cellMetadata": {},
     "inputWidgets": {},
     "nuid": "4ba39ee0-592f-45e0-a33a-7f1581ba62eb",
     "showTitle": false,
     "title": ""
    }
   },
   "outputs": [],
   "source": [
    "33 == 44"
   ]
  },
  {
   "cell_type": "markdown",
   "metadata": {
    "application/vnd.databricks.v1+cell": {
     "cellMetadata": {},
     "inputWidgets": {},
     "nuid": "c7cc76e8-8ce2-4988-b713-545962731943",
     "showTitle": false,
     "title": ""
    }
   },
   "source": [
    "Note that <code>==</code> is a <em>comparison</em> operator, while <code>=</code> is an <em>assignment</em> operator."
   ]
  },
  {
   "cell_type": "markdown",
   "metadata": {
    "application/vnd.databricks.v1+cell": {
     "cellMetadata": {},
     "inputWidgets": {},
     "nuid": "536a12d5-baec-4781-bc8d-20d95ebd3a19",
     "showTitle": false,
     "title": ""
    }
   },
   "source": [
    "#### Not Equal"
   ]
  },
  {
   "cell_type": "code",
   "execution_count": 0,
   "metadata": {
    "application/vnd.databricks.v1+cell": {
     "cellMetadata": {},
     "inputWidgets": {},
     "nuid": "0e52bd26-d823-41bc-9c13-fac2919be31b",
     "showTitle": false,
     "title": ""
    }
   },
   "outputs": [],
   "source": [
    "10 != 20"
   ]
  },
  {
   "cell_type": "code",
   "execution_count": 0,
   "metadata": {
    "application/vnd.databricks.v1+cell": {
     "cellMetadata": {},
     "inputWidgets": {},
     "nuid": "34a33c6d-5a74-4bb5-842b-0318b6af812b",
     "showTitle": false,
     "title": ""
    }
   },
   "outputs": [],
   "source": [
    "40 != 40"
   ]
  },
  {
   "cell_type": "markdown",
   "metadata": {
    "application/vnd.databricks.v1+cell": {
     "cellMetadata": {},
     "inputWidgets": {},
     "nuid": "6c354e41-323a-4ec6-9fa0-48931b0d06a6",
     "showTitle": false,
     "title": ""
    }
   },
   "source": [
    "#### Greater Than"
   ]
  },
  {
   "cell_type": "code",
   "execution_count": 0,
   "metadata": {
    "application/vnd.databricks.v1+cell": {
     "cellMetadata": {},
     "inputWidgets": {},
     "nuid": "5ff7f712-4cca-4ef3-bab6-b322d58f79d4",
     "showTitle": false,
     "title": ""
    }
   },
   "outputs": [],
   "source": [
    "44 > 22"
   ]
  },
  {
   "cell_type": "code",
   "execution_count": 0,
   "metadata": {
    "application/vnd.databricks.v1+cell": {
     "cellMetadata": {},
     "inputWidgets": {},
     "nuid": "501fc0e1-edc4-43f3-9703-309f8b3d20fb",
     "showTitle": false,
     "title": ""
    }
   },
   "outputs": [],
   "source": [
    "33 > 11"
   ]
  },
  {
   "cell_type": "markdown",
   "metadata": {
    "application/vnd.databricks.v1+cell": {
     "cellMetadata": {},
     "inputWidgets": {},
     "nuid": "ca8fc534-bf4e-43b0-a3a5-28bfa885401f",
     "showTitle": false,
     "title": ""
    }
   },
   "source": [
    "#### Less Than"
   ]
  },
  {
   "cell_type": "code",
   "execution_count": 0,
   "metadata": {
    "application/vnd.databricks.v1+cell": {
     "cellMetadata": {},
     "inputWidgets": {},
     "nuid": "67dead01-a3dd-4518-a74e-62b47a7e364f",
     "showTitle": false,
     "title": ""
    }
   },
   "outputs": [],
   "source": [
    "21 < 41"
   ]
  },
  {
   "cell_type": "code",
   "execution_count": 0,
   "metadata": {
    "application/vnd.databricks.v1+cell": {
     "cellMetadata": {},
     "inputWidgets": {},
     "nuid": "d7469969-cba2-4dc2-8325-c5b76334cf28",
     "showTitle": false,
     "title": ""
    }
   },
   "outputs": [],
   "source": [
    "23 < 13"
   ]
  },
  {
   "cell_type": "markdown",
   "metadata": {
    "application/vnd.databricks.v1+cell": {
     "cellMetadata": {},
     "inputWidgets": {},
     "nuid": "558afde4-ab57-4d31-bb92-270cb174354e",
     "showTitle": false,
     "title": ""
    }
   },
   "source": [
    "#### Greater Than or Equal to"
   ]
  },
  {
   "cell_type": "code",
   "execution_count": 0,
   "metadata": {
    "application/vnd.databricks.v1+cell": {
     "cellMetadata": {},
     "inputWidgets": {},
     "nuid": "d7f2c870-5f6c-4910-982a-2733f9ee65f0",
     "showTitle": false,
     "title": ""
    }
   },
   "outputs": [],
   "source": [
    "24 >= 24"
   ]
  },
  {
   "cell_type": "code",
   "execution_count": 0,
   "metadata": {
    "application/vnd.databricks.v1+cell": {
     "cellMetadata": {},
     "inputWidgets": {},
     "nuid": "cad79203-c44a-420f-b729-456240e66a2d",
     "showTitle": false,
     "title": ""
    }
   },
   "outputs": [],
   "source": [
    "23 >= 12"
   ]
  },
  {
   "cell_type": "markdown",
   "metadata": {
    "application/vnd.databricks.v1+cell": {
     "cellMetadata": {},
     "inputWidgets": {},
     "nuid": "6fec8d7e-d9b7-405c-86fa-8717eca42e13",
     "showTitle": false,
     "title": ""
    }
   },
   "source": [
    "#### Less than or Equal to"
   ]
  },
  {
   "cell_type": "code",
   "execution_count": 0,
   "metadata": {
    "application/vnd.databricks.v1+cell": {
     "cellMetadata": {},
     "inputWidgets": {},
     "nuid": "e962a963-55be-406f-be0d-5f8427897006",
     "showTitle": false,
     "title": ""
    }
   },
   "outputs": [],
   "source": [
    "23 <= 23"
   ]
  },
  {
   "cell_type": "code",
   "execution_count": 0,
   "metadata": {
    "application/vnd.databricks.v1+cell": {
     "cellMetadata": {},
     "inputWidgets": {},
     "nuid": "fa4aab37-2f8f-4671-bcb1-af2cc90fadac",
     "showTitle": false,
     "title": ""
    }
   },
   "outputs": [],
   "source": [
    "21 <= 41"
   ]
  },
  {
   "cell_type": "markdown",
   "metadata": {
    "application/vnd.databricks.v1+cell": {
     "cellMetadata": {},
     "inputWidgets": {},
     "nuid": "a1bae7ec-6ac1-4a84-8749-9fd72442e2c0",
     "showTitle": false,
     "title": ""
    }
   },
   "source": [
    "#### Python Logical Operators\n",
    "|Operator|\tDescription\t| Examples\n",
    "|----|-----|----\n",
    "|__and__ \t|Returns True if both statements are true\t|x < 5 and  x < 10\t\n",
    "|__or__\t|Returns True if one of the statements is true\t|x < 5 or x < 4\t\n",
    "|__not__\t|Reverse the result, returns False if the result is true\t|not(x < 5 and x < 10)\t\n"
   ]
  },
  {
   "cell_type": "code",
   "execution_count": 0,
   "metadata": {
    "application/vnd.databricks.v1+cell": {
     "cellMetadata": {},
     "inputWidgets": {},
     "nuid": "56149ad3-824f-4da9-8081-05fa6269b798",
     "showTitle": false,
     "title": ""
    }
   },
   "outputs": [],
   "source": [
    "10<20 and 20<30\n"
   ]
  },
  {
   "cell_type": "code",
   "execution_count": 0,
   "metadata": {
    "application/vnd.databricks.v1+cell": {
     "cellMetadata": {},
     "inputWidgets": {},
     "nuid": "939e84a8-bbcc-4b0b-a79b-a01092cc6441",
     "showTitle": false,
     "title": ""
    }
   },
   "outputs": [],
   "source": [
    "10 < 30 > 20\n"
   ]
  },
  {
   "cell_type": "code",
   "execution_count": 0,
   "metadata": {
    "application/vnd.databricks.v1+cell": {
     "cellMetadata": {},
     "inputWidgets": {},
     "nuid": "30d2cdb0-d1fc-4186-be21-85afb4352917",
     "showTitle": false,
     "title": ""
    }
   },
   "outputs": [],
   "source": [
    "print(10<30 and 30>20)\n",
    "print(not(10<30 and 30>20))\n"
   ]
  },
  {
   "cell_type": "markdown",
   "metadata": {
    "application/vnd.databricks.v1+cell": {
     "cellMetadata": {},
     "inputWidgets": {},
     "nuid": "696b8cf5-604f-4b8f-97c8-4906e0d130d5",
     "showTitle": false,
     "title": ""
    }
   },
   "source": [
    "It's important to note that Python is checking both instances of the comparisons. We can also use or to write comparisons in Python. For example:\n",
    "\n"
   ]
  },
  {
   "cell_type": "code",
   "execution_count": 0,
   "metadata": {
    "application/vnd.databricks.v1+cell": {
     "cellMetadata": {},
     "inputWidgets": {},
     "nuid": "9f638e1c-918e-47a9-bb09-c124d0692acc",
     "showTitle": false,
     "title": ""
    }
   },
   "outputs": [],
   "source": [
    "11==11 or 111==11\n"
   ]
  },
  {
   "cell_type": "code",
   "execution_count": 0,
   "metadata": {
    "application/vnd.databricks.v1+cell": {
     "cellMetadata": {},
     "inputWidgets": {},
     "nuid": "f17d2417-7ea9-4966-8bd7-72e3d8702f1c",
     "showTitle": false,
     "title": ""
    }
   },
   "outputs": [],
   "source": [
    "11==22 or 22<33\n"
   ]
  },
  {
   "cell_type": "markdown",
   "metadata": {
    "application/vnd.databricks.v1+cell": {
     "cellMetadata": {},
     "inputWidgets": {},
     "nuid": "7a8df3f8-50ed-4bd8-93bb-e650689a0158",
     "showTitle": false,
     "title": ""
    }
   },
   "source": [
    "#### enumerate\n",
    "* enumerate is a very useful function to use with for loops\n",
    "* Enumerate() method adds a counter to an iterable and returns it in a form of enumerate object. \n",
    "* This enumerate object can then be used directly in for loops or be converted into a list of tuples using list() method."
   ]
  },
  {
   "cell_type": "code",
   "execution_count": 0,
   "metadata": {
    "application/vnd.databricks.v1+cell": {
     "cellMetadata": {},
     "inputWidgets": {},
     "nuid": "342d100e-bd7c-46e9-b65f-81147c4c0327",
     "showTitle": false,
     "title": ""
    }
   },
   "outputs": [],
   "source": [
    "for i,letter in enumerate('pyspark'):\n",
    "    print(\"At index {} the letter is {}\".format(i,letter))"
   ]
  },
  {
   "cell_type": "markdown",
   "metadata": {
    "application/vnd.databricks.v1+cell": {
     "cellMetadata": {},
     "inputWidgets": {},
     "nuid": "ddc656ac-3a95-467a-b7b8-0735e0b6962a",
     "showTitle": false,
     "title": ""
    }
   },
   "source": [
    "#### zip()\n",
    "* The zip() function returns a zip object, which is an iterator of tuples where the first item in each passed iterator is paired together, and then the second item in each passed iterator are paired together"
   ]
  },
  {
   "cell_type": "code",
   "execution_count": 0,
   "metadata": {
    "application/vnd.databricks.v1+cell": {
     "cellMetadata": {},
     "inputWidgets": {},
     "nuid": "1e95b3b6-c181-439e-9259-565158e42862",
     "showTitle": false,
     "title": ""
    }
   },
   "outputs": [],
   "source": [
    "list_a = [1,2,3,4,5]\n",
    "list_b = [3,4,5,6,7,8,9,10]\n",
    "\n",
    "x = zip(list_a, list_b)  # its create zip object.\n",
    "print(list(x))"
   ]
  },
  {
   "cell_type": "markdown",
   "metadata": {
    "application/vnd.databricks.v1+cell": {
     "cellMetadata": {},
     "inputWidgets": {},
     "nuid": "2a2a5dce-d7c4-4263-b444-d234f0e0237f",
     "showTitle": false,
     "title": ""
    }
   },
   "source": [
    "#### min() and max() Functions\n",
    "* Quickly check the minimum or maximum of a list with these functions"
   ]
  },
  {
   "cell_type": "code",
   "execution_count": 0,
   "metadata": {
    "application/vnd.databricks.v1+cell": {
     "cellMetadata": {},
     "inputWidgets": {},
     "nuid": "5ff21fb5-2897-46be-abfb-66f5787f0d3d",
     "showTitle": false,
     "title": ""
    }
   },
   "outputs": [],
   "source": [
    "list_a = [1,2,3,4,5]\n",
    "print('min value : ',min(list_a))\n",
    "print('max value : ',max(list_a))"
   ]
  },
  {
   "cell_type": "markdown",
   "metadata": {
    "application/vnd.databricks.v1+cell": {
     "cellMetadata": {},
     "inputWidgets": {},
     "nuid": "258a036e-d75e-4238-9dfb-9d8e2c37d8f5",
     "showTitle": false,
     "title": ""
    }
   },
   "source": [
    "#### isinstance(object,type)\n",
    "* The isinstance() function returns True if the specified object is of the specified type, otherwise False. "
   ]
  },
  {
   "cell_type": "code",
   "execution_count": 0,
   "metadata": {
    "application/vnd.databricks.v1+cell": {
     "cellMetadata": {},
     "inputWidgets": {},
     "nuid": "9227733a-edb8-428d-a709-10cdbd4d2880",
     "showTitle": false,
     "title": ""
    }
   },
   "outputs": [],
   "source": [
    "test = isinstance(5, int)\n",
    "print(test)\n",
    "print(isinstance(\"test\",str))"
   ]
  },
  {
   "cell_type": "markdown",
   "metadata": {
    "application/vnd.databricks.v1+cell": {
     "cellMetadata": {},
     "inputWidgets": {},
     "nuid": "27dc199c-6437-45a5-9f7d-6e77e1e6c69f",
     "showTitle": false,
     "title": ""
    }
   },
   "source": [
    "#### reversed(list)\n",
    "* The reversed() function returns a reversed iterator object."
   ]
  },
  {
   "cell_type": "code",
   "execution_count": 0,
   "metadata": {
    "application/vnd.databricks.v1+cell": {
     "cellMetadata": {},
     "inputWidgets": {},
     "nuid": "ba6f9406-6cd1-476f-86cd-aaadb229a96c",
     "showTitle": false,
     "title": ""
    }
   },
   "outputs": [],
   "source": [
    "list = [\"a\", \"b\", \"c\", \"d\"]\n",
    "result = reversed(list)\n",
    "for x in result:\n",
    "  print(x)"
   ]
  },
  {
   "cell_type": "markdown",
   "metadata": {
    "application/vnd.databricks.v1+cell": {
     "cellMetadata": {},
     "inputWidgets": {},
     "nuid": "c240285e-1a94-4924-8dda-b55297aa2a09",
     "showTitle": false,
     "title": ""
    }
   },
   "source": [
    "#### sorted(list)\n",
    "* The sorted() function returns a sorted list of the specified iterable object.\n",
    "* `sorted(iterable, key=key, reverse=reverse)\n",
    "`\n"
   ]
  },
  {
   "cell_type": "code",
   "execution_count": 0,
   "metadata": {
    "application/vnd.databricks.v1+cell": {
     "cellMetadata": {},
     "inputWidgets": {},
     "nuid": "a8ccf47b-a941-43d5-b238-2bf90ff36a74",
     "showTitle": false,
     "title": ""
    }
   },
   "outputs": [],
   "source": [
    "a = (\"b\", \"g\", \"a\", \"d\", \"f\", \"c\", \"h\", \"e\")\n",
    "x = sorted(a)\n",
    "print(x)"
   ]
  },
  {
   "cell_type": "code",
   "execution_count": 0,
   "metadata": {
    "application/vnd.databricks.v1+cell": {
     "cellMetadata": {},
     "inputWidgets": {},
     "nuid": "bbb3479e-36e4-44f3-bc2f-ea3204021e51",
     "showTitle": false,
     "title": ""
    }
   },
   "outputs": [],
   "source": [
    "a = (\"b\", \"g\", \"a\", \"d\", \"f\", \"c\", \"h\", \"e\")\n",
    "x = sorted(a,reverse=True)\n",
    "print(x)"
   ]
  },
  {
   "cell_type": "markdown",
   "metadata": {
    "application/vnd.databricks.v1+cell": {
     "cellMetadata": {},
     "inputWidgets": {},
     "nuid": "ad2a78a4-0f51-49f5-8d23-11dbff852635",
     "showTitle": false,
     "title": ""
    }
   },
   "source": [
    "##### globals()\n",
    "* The globals() function returns the global symbol table as a dictionary - key value pair data of all objects\n",
    "*  Python interpreter maintains a data structure containing information about each identifier appearing in the program's source code. This information is about the type, value, scope level, and location of an identifier (also called symbol)"
   ]
  },
  {
   "cell_type": "code",
   "execution_count": 0,
   "metadata": {
    "application/vnd.databricks.v1+cell": {
     "cellMetadata": {},
     "inputWidgets": {},
     "nuid": "d8e98518-5709-4981-b2a9-7ad1336a49de",
     "showTitle": false,
     "title": ""
    }
   },
   "outputs": [],
   "source": [
    "var = globals()\n",
    "print(var)"
   ]
  },
  {
   "cell_type": "markdown",
   "metadata": {
    "application/vnd.databricks.v1+cell": {
     "cellMetadata": {},
     "inputWidgets": {},
     "nuid": "52ecd8dc-9e78-4510-80ec-4f48c3f5c29a",
     "showTitle": false,
     "title": ""
    }
   },
   "source": [
    "#### locals()\n",
    "* locals() returns the global and local symbols table respectively. Python interpreter maintains a data structure containing information about each identifier appearing in the program's source code. This information is about the type, value, scope level, and location of an identifier (also called symbol)"
   ]
  },
  {
   "cell_type": "code",
   "execution_count": 0,
   "metadata": {
    "application/vnd.databricks.v1+cell": {
     "cellMetadata": {},
     "inputWidgets": {},
     "nuid": "441420c0-bda7-49df-9539-aca79b6b68bf",
     "showTitle": false,
     "title": ""
    }
   },
   "outputs": [],
   "source": [
    "loc = locals()\n",
    "print(loc)"
   ]
  },
  {
   "cell_type": "code",
   "execution_count": 0,
   "metadata": {
    "application/vnd.databricks.v1+cell": {
     "cellMetadata": {},
     "inputWidgets": {},
     "nuid": "c75f1f0d-209a-4b30-af04-5b57e7665bb5",
     "showTitle": false,
     "title": ""
    }
   },
   "outputs": [
    {
     "output_type": "display_data",
     "data": {
      "text/html": [
       "<style scoped>\n",
       "  .ansiout {\n",
       "    display: block;\n",
       "    unicode-bidi: embed;\n",
       "    white-space: pre-wrap;\n",
       "    word-wrap: break-word;\n",
       "    word-break: break-all;\n",
       "    font-family: \"Menlo\", \"Monaco\", \"Consolas\", \"Ubuntu Mono\", \"Source Code Pro\", monospace;\n",
       "    font-size: 13px;\n",
       "    color: #555;\n",
       "    margin-left: 4px;\n",
       "    line-height: 19px;\n",
       "  }\n",
       "</style>\n",
       "<div class=\"ansiout\">global symbol table: {&#39;sc&#39;: &lt;SparkContext master=local[8] appName=Databricks Shell&gt;, &#39;sqlContext&#39;: &lt;pyspark.sql.context.SQLContext object at 0x7f4716b039d0&gt;, &#39;table&#39;: &lt;bound method SQLContext.table of &lt;pyspark.sql.context.SQLContext object at 0x7f4716b039d0&gt;&gt;, &#39;sql&#39;: &lt;bound method SQLContext.sql of &lt;pyspark.sql.context.SQLContext object at 0x7f4716b039d0&gt;&gt;, &#39;udf&#39;: &lt;function udf at 0x7f4716bb9a60&gt;, &#39;display&#39;: &lt;bound method PythonShell.display of &lt;PythonShellImpl.PythonShell object at 0x7f4716b03be0&gt;&gt;, &#39;displayHTML&#39;: &lt;bound method PythonShell.displayHTML of &lt;PythonShellImpl.PythonShell object at 0x7f4716b03be0&gt;&gt;, &#39;getArgument&#39;: &lt;bound method WidgetsHandlerImpl.getArgument of Package &#39;dbutils.widgets&#39;. For more information, type &#39;dbutils.widgets.help()&#39; in a cell.&gt;, &#39;dbutils&#39;: Package &#39;dbutils&#39;. For more information, type &#39;dbutils.help()&#39; in a cell., &#39;spark&#39;: &lt;pyspark.sql.session.SparkSession object at 0x7f4716b038b0&gt;, &#39;__name__&#39;: &#39;__main__&#39;, &#39;__builtin__&#39;: &lt;module &#39;builtins&#39; (built-in)&gt;, &#39;__builtins__&#39;: &lt;module &#39;builtins&#39; (built-in)&gt;, &#39;_ih&#39;: [&#39;&#39;, &#34;def sum(x,y):\\n        z=x+y\\n        print (&#39;global symbol table:&#39;, globals())\\n        print (&#39;local symbol table:&#39;, locals())\\n        return z\\nsum(1,2)&#34;], &#39;_oh&#39;: {}, &#39;_dh&#39;: [&#39;/databricks/driver&#39;], &#39;In&#39;: [&#39;&#39;, &#34;def sum(x,y):\\n        z=x+y\\n        print (&#39;global symbol table:&#39;, globals())\\n        print (&#39;local symbol table:&#39;, locals())\\n        return z\\nsum(1,2)&#34;], &#39;Out&#39;: {}, &#39;get_ipython&#39;: &lt;bound method InteractiveShell.get_ipython of &lt;PythonShellImpl.PythonShell.create_shell.&lt;locals&gt;.IPythonShell object at 0x7f4716aee250&gt;&gt;, &#39;exit&#39;: &lt;IPython.core.autocall.ExitAutocall object at 0x7f4716b91910&gt;, &#39;quit&#39;: &lt;IPython.core.autocall.ExitAutocall object at 0x7f4716b91910&gt;, &#39;_&#39;: &#39;&#39;, &#39;__&#39;: &#39;&#39;, &#39;___&#39;: &#39;&#39;, &#39;_i&#39;: &#39;&#39;, &#39;_ii&#39;: &#39;&#39;, &#39;_iii&#39;: &#39;&#39;, &#39;_i1&#39;: &#34;def sum(x,y):\\n        z=x+y\\n        print (&#39;global symbol table:&#39;, globals())\\n        print (&#39;local symbol table:&#39;, locals())\\n        return z\\nsum(1,2)&#34;, &#39;sum&#39;: &lt;function sum at 0x7f4716b07790&gt;}\n",
       "local symbol table: {&#39;x&#39;: 1, &#39;y&#39;: 2, &#39;z&#39;: 3}\n",
       "Out[1]: 3</div>"
      ]
     },
     "metadata": {
      "application/vnd.databricks.v1+output": {
       "addedWidgets": {},
       "arguments": {},
       "data": "<div class=\"ansiout\">global symbol table: {&#39;sc&#39;: &lt;SparkContext master=local[8] appName=Databricks Shell&gt;, &#39;sqlContext&#39;: &lt;pyspark.sql.context.SQLContext object at 0x7f4716b039d0&gt;, &#39;table&#39;: &lt;bound method SQLContext.table of &lt;pyspark.sql.context.SQLContext object at 0x7f4716b039d0&gt;&gt;, &#39;sql&#39;: &lt;bound method SQLContext.sql of &lt;pyspark.sql.context.SQLContext object at 0x7f4716b039d0&gt;&gt;, &#39;udf&#39;: &lt;function udf at 0x7f4716bb9a60&gt;, &#39;display&#39;: &lt;bound method PythonShell.display of &lt;PythonShellImpl.PythonShell object at 0x7f4716b03be0&gt;&gt;, &#39;displayHTML&#39;: &lt;bound method PythonShell.displayHTML of &lt;PythonShellImpl.PythonShell object at 0x7f4716b03be0&gt;&gt;, &#39;getArgument&#39;: &lt;bound method WidgetsHandlerImpl.getArgument of Package &#39;dbutils.widgets&#39;. For more information, type &#39;dbutils.widgets.help()&#39; in a cell.&gt;, &#39;dbutils&#39;: Package &#39;dbutils&#39;. For more information, type &#39;dbutils.help()&#39; in a cell., &#39;spark&#39;: &lt;pyspark.sql.session.SparkSession object at 0x7f4716b038b0&gt;, &#39;__name__&#39;: &#39;__main__&#39;, &#39;__builtin__&#39;: &lt;module &#39;builtins&#39; (built-in)&gt;, &#39;__builtins__&#39;: &lt;module &#39;builtins&#39; (built-in)&gt;, &#39;_ih&#39;: [&#39;&#39;, &#34;def sum(x,y):\\n        z=x+y\\n        print (&#39;global symbol table:&#39;, globals())\\n        print (&#39;local symbol table:&#39;, locals())\\n        return z\\nsum(1,2)&#34;], &#39;_oh&#39;: {}, &#39;_dh&#39;: [&#39;/databricks/driver&#39;], &#39;In&#39;: [&#39;&#39;, &#34;def sum(x,y):\\n        z=x+y\\n        print (&#39;global symbol table:&#39;, globals())\\n        print (&#39;local symbol table:&#39;, locals())\\n        return z\\nsum(1,2)&#34;], &#39;Out&#39;: {}, &#39;get_ipython&#39;: &lt;bound method InteractiveShell.get_ipython of &lt;PythonShellImpl.PythonShell.create_shell.&lt;locals&gt;.IPythonShell object at 0x7f4716aee250&gt;&gt;, &#39;exit&#39;: &lt;IPython.core.autocall.ExitAutocall object at 0x7f4716b91910&gt;, &#39;quit&#39;: &lt;IPython.core.autocall.ExitAutocall object at 0x7f4716b91910&gt;, &#39;_&#39;: &#39;&#39;, &#39;__&#39;: &#39;&#39;, &#39;___&#39;: &#39;&#39;, &#39;_i&#39;: &#39;&#39;, &#39;_ii&#39;: &#39;&#39;, &#39;_iii&#39;: &#39;&#39;, &#39;_i1&#39;: &#34;def sum(x,y):\\n        z=x+y\\n        print (&#39;global symbol table:&#39;, globals())\\n        print (&#39;local symbol table:&#39;, locals())\\n        return z\\nsum(1,2)&#34;, &#39;sum&#39;: &lt;function sum at 0x7f4716b07790&gt;}\nlocal symbol table: {&#39;x&#39;: 1, &#39;y&#39;: 2, &#39;z&#39;: 3}\nOut[1]: 3</div>",
       "datasetInfos": [],
       "metadata": {},
       "removedWidgets": [],
       "type": "html"
      }
     },
     "output_type": "display_data"
    }
   ],
   "source": [
    "def sum(x,y):\n",
    "        z=x+y\n",
    "        print ('global symbol list:', globals())\n",
    "        print ('local symbol list:', locals())\n",
    "        return z\n",
    "sum(1,2)"
   ]
  },
  {
   "cell_type": "markdown",
   "metadata": {
    "application/vnd.databricks.v1+cell": {
     "cellMetadata": {},
     "inputWidgets": {},
     "nuid": "fe302c6e-1238-4e02-9cd6-9d82f78c0daf",
     "showTitle": false,
     "title": ""
    }
   },
   "source": [
    "#### len()\n",
    "* len() function will give length of object or no of items in object"
   ]
  },
  {
   "cell_type": "code",
   "execution_count": 0,
   "metadata": {
    "application/vnd.databricks.v1+cell": {
     "cellMetadata": {},
     "inputWidgets": {},
     "nuid": "85ec8a04-e3d8-438c-8c83-fdd0308444b3",
     "showTitle": false,
     "title": ""
    }
   },
   "outputs": [],
   "source": [
    "list_a = [1,2,3,4,5]\n",
    "print('no of items : ',len(list_a)) "
   ]
  },
  {
   "cell_type": "markdown",
   "metadata": {
    "application/vnd.databricks.v1+cell": {
     "cellMetadata": {},
     "inputWidgets": {},
     "nuid": "be9e27e7-72d6-4450-942e-08e5831a47e5",
     "showTitle": false,
     "title": ""
    }
   },
   "source": [
    "#### random\n",
    "* Python comes with a built in random library. There are a lot of functions included in this random library, so we will only show you two useful functions for now."
   ]
  },
  {
   "cell_type": "code",
   "execution_count": 0,
   "metadata": {
    "application/vnd.databricks.v1+cell": {
     "cellMetadata": {},
     "inputWidgets": {},
     "nuid": "90c17683-22ce-4867-81cb-80bca484d9a6",
     "showTitle": false,
     "title": ""
    }
   },
   "outputs": [
    {
     "output_type": "display_data",
     "data": {
      "text/html": [
       "<style scoped>\n",
       "  .ansiout {\n",
       "    display: block;\n",
       "    unicode-bidi: embed;\n",
       "    white-space: pre-wrap;\n",
       "    word-wrap: break-word;\n",
       "    word-break: break-all;\n",
       "    font-family: \"Menlo\", \"Monaco\", \"Consolas\", \"Ubuntu Mono\", \"Source Code Pro\", monospace;\n",
       "    font-size: 13px;\n",
       "    color: #555;\n",
       "    margin-left: 4px;\n",
       "    line-height: 19px;\n",
       "  }\n",
       "</style>"
      ]
     },
     "metadata": {
      "application/vnd.databricks.v1+output": {
       "arguments": {},
       "data": "",
       "errorSummary": "",
       "errorTraceType": null,
       "metadata": {},
       "type": "ipynbError"
      }
     },
     "output_type": "display_data"
    }
   ],
   "source": [
    "from random import shuffle\n",
    "list_a = [1,2,3,4,5]\n",
    "shuffle(list_a)\n",
    "list_a"
   ]
  },
  {
   "cell_type": "code",
   "execution_count": 0,
   "metadata": {
    "application/vnd.databricks.v1+cell": {
     "cellMetadata": {},
     "inputWidgets": {},
     "nuid": "e7bf8db0-56be-42ca-8502-47fa15dd20ee",
     "showTitle": false,
     "title": ""
    }
   },
   "outputs": [],
   "source": [
    "from random import randint\n",
    "# Return random integer in range [a, b], including both end points.\n",
    "randint(0,100)"
   ]
  },
  {
   "cell_type": "markdown",
   "metadata": {
    "application/vnd.databricks.v1+cell": {
     "cellMetadata": {},
     "inputWidgets": {},
     "nuid": "4430dbd0-fa9b-46e9-9c66-953f4d602c81",
     "showTitle": false,
     "title": ""
    }
   },
   "source": [
    "#### split()"
   ]
  },
  {
   "cell_type": "code",
   "execution_count": 0,
   "metadata": {
    "application/vnd.databricks.v1+cell": {
     "cellMetadata": {},
     "inputWidgets": {},
     "nuid": "f514c25d-faf2-4ff3-8305-98bf80a60a2d",
     "showTitle": false,
     "title": ""
    }
   },
   "outputs": [],
   "source": [
    "string = \"this is sample string which i can split into words based on space\"\n",
    "output = string.split(\" \")\n",
    "output"
   ]
  },
  {
   "cell_type": "markdown",
   "metadata": {
    "application/vnd.databricks.v1+cell": {
     "cellMetadata": {},
     "inputWidgets": {},
     "nuid": "d4799549-09c3-4cc6-a0e8-551fa532c1de",
     "showTitle": false,
     "title": ""
    }
   },
   "source": [
    "#### upper()\n",
    "* Converting string into upper case using `upper()` function"
   ]
  },
  {
   "cell_type": "code",
   "execution_count": 0,
   "metadata": {
    "application/vnd.databricks.v1+cell": {
     "cellMetadata": {},
     "inputWidgets": {},
     "nuid": "f8fe85f7-a5d3-471d-8069-62fa9c4b81b7",
     "showTitle": false,
     "title": ""
    }
   },
   "outputs": [],
   "source": [
    "string = \"pyspark training\"\n",
    "output = string.upper()\n",
    "output"
   ]
  },
  {
   "cell_type": "markdown",
   "metadata": {
    "application/vnd.databricks.v1+cell": {
     "cellMetadata": {},
     "inputWidgets": {},
     "nuid": "21003515-b92d-43cd-a0a3-d78a2b0ae0fa",
     "showTitle": false,
     "title": ""
    }
   },
   "source": [
    "#### lower()\n",
    "* Converting string into lower case using `lower()` funciton"
   ]
  },
  {
   "cell_type": "code",
   "execution_count": 0,
   "metadata": {
    "application/vnd.databricks.v1+cell": {
     "cellMetadata": {},
     "inputWidgets": {},
     "nuid": "bf1888c4-41f2-4a51-8494-968190908fd9",
     "showTitle": false,
     "title": ""
    }
   },
   "outputs": [],
   "source": [
    "string = \"PYSPARK TraiNiNG\"\n",
    "output = string.lower()\n",
    "output"
   ]
  },
  {
   "cell_type": "markdown",
   "metadata": {
    "application/vnd.databricks.v1+cell": {
     "cellMetadata": {},
     "inputWidgets": {},
     "nuid": "e1ce655c-5929-462d-b9bc-538e19fe0078",
     "showTitle": false,
     "title": ""
    }
   },
   "source": [
    "#### replace(from,to)\n",
    "* replace character by character using `replace()` function"
   ]
  },
  {
   "cell_type": "code",
   "execution_count": 0,
   "metadata": {
    "application/vnd.databricks.v1+cell": {
     "cellMetadata": {},
     "inputWidgets": {},
     "nuid": "64e55b18-62a6-4a84-96b7-6d199d460898",
     "showTitle": false,
     "title": ""
    }
   },
   "outputs": [],
   "source": [
    "string = \"DATABRICKS TRAINING\"\n",
    "\n",
    "string = string.replace('S','SSSS').replace(\"B\",\"BBBB\")\n",
    "string\n"
   ]
  },
  {
   "cell_type": "markdown",
   "metadata": {
    "application/vnd.databricks.v1+cell": {
     "cellMetadata": {},
     "inputWidgets": {},
     "nuid": "a9aa0825-7dbb-4ece-94d6-ccb30363e8ad",
     "showTitle": false,
     "title": ""
    }
   },
   "source": [
    "#### strip()\n",
    "* __`strip()`__ - Remove white spaces at the beginning and at the end of the string"
   ]
  },
  {
   "cell_type": "code",
   "execution_count": 0,
   "metadata": {
    "application/vnd.databricks.v1+cell": {
     "cellMetadata": {},
     "inputWidgets": {},
     "nuid": "08754bb4-d835-44c4-85e0-1e3caabf6e4f",
     "showTitle": false,
     "title": ""
    }
   },
   "outputs": [],
   "source": [
    "string =\"  pyspark  \"\n",
    "output = string.strip()\n",
    "print('before strip : ',string)\n",
    "print('after strip : ',output)"
   ]
  },
  {
   "cell_type": "markdown",
   "metadata": {
    "application/vnd.databricks.v1+cell": {
     "cellMetadata": {},
     "inputWidgets": {},
     "nuid": "43eeb576-ef79-4cad-83f2-69c717b94430",
     "showTitle": false,
     "title": ""
    }
   },
   "source": [
    "#### capitalize()\n",
    "* the capitalize() method returns a copy of the original string and converts the first character of the string to a capital (uppercase) letter while making all other characters in the string lowercase"
   ]
  },
  {
   "cell_type": "code",
   "execution_count": 0,
   "metadata": {
    "application/vnd.databricks.v1+cell": {
     "cellMetadata": {},
     "inputWidgets": {},
     "nuid": "b05129ef-5693-4f65-97a1-b90d51e1225e",
     "showTitle": false,
     "title": ""
    }
   },
   "outputs": [],
   "source": [
    "string= \"pyspark training\"\n",
    "output = string.split(\" \")\n",
    "for i in output:\n",
    "  i = i.capitalize()\n",
    "  print(i)"
   ]
  },
  {
   "cell_type": "markdown",
   "metadata": {
    "application/vnd.databricks.v1+cell": {
     "cellMetadata": {},
     "inputWidgets": {},
     "nuid": "4d482932-b21a-465c-a976-10559f593819",
     "showTitle": false,
     "title": ""
    }
   },
   "source": [
    "#### filter(func,data) \n",
    "* filtering data using filter function"
   ]
  },
  {
   "cell_type": "code",
   "execution_count": 0,
   "metadata": {
    "application/vnd.databricks.v1+cell": {
     "cellMetadata": {},
     "inputWidgets": {},
     "nuid": "a9b7796b-7e87-4b92-8c05-646942bed903",
     "showTitle": false,
     "title": ""
    }
   },
   "outputs": [],
   "source": [
    "def func_odd(num):\n",
    "    if num%2 ==0:\n",
    "        return True"
   ]
  },
  {
   "cell_type": "code",
   "execution_count": 0,
   "metadata": {
    "application/vnd.databricks.v1+cell": {
     "cellMetadata": {},
     "inputWidgets": {},
     "nuid": "495cf76d-0d14-43e7-adc9-fc4aff20b5e0",
     "showTitle": false,
     "title": ""
    }
   },
   "outputs": [],
   "source": [
    "data =range(20)\n",
    "#Named python function with filter\n",
    "print(list(filter(func_odd,data)))\n",
    "# Lambda function with filer\n",
    "print(list(filter(lambda a: a%2==0,data)))"
   ]
  },
  {
   "cell_type": "markdown",
   "metadata": {
    "application/vnd.databricks.v1+cell": {
     "cellMetadata": {},
     "inputWidgets": {},
     "nuid": "ee8bb872-d12b-4e94-8db1-57b58be28e24",
     "showTitle": false,
     "title": ""
    }
   },
   "source": [
    "#### reduce(func,list)"
   ]
  },
  {
   "cell_type": "code",
   "execution_count": 0,
   "metadata": {
    "application/vnd.databricks.v1+cell": {
     "cellMetadata": {},
     "inputWidgets": {},
     "nuid": "a421eaa1-98dd-4750-b029-ac3db4b2f1fc",
     "showTitle": false,
     "title": ""
    }
   },
   "outputs": [],
   "source": [
    "from functools import reduce\n",
    "data =[1,2,3,4,5,6,7,8,9,10]\n",
    "reduce(lambda x,y: x+y,data)"
   ]
  },
  {
   "cell_type": "markdown",
   "metadata": {
    "application/vnd.databricks.v1+cell": {
     "cellMetadata": {},
     "inputWidgets": {},
     "nuid": "8a7cd6d3-a0e5-4389-8548-d1ea6e99d2e4",
     "showTitle": false,
     "title": ""
    }
   },
   "source": [
    "#### what is recursion?\n",
    "* Recursion is the process of defining something in terms of itself.\n",
    "* In Python, we know that a function can call other functions. It is even possible for the function to call itself. \n",
    "* These types of construct are termed as recursive functions."
   ]
  },
  {
   "cell_type": "code",
   "execution_count": 0,
   "metadata": {
    "application/vnd.databricks.v1+cell": {
     "cellMetadata": {},
     "inputWidgets": {},
     "nuid": "df709f52-1351-46bf-83f4-4b5acff338f8",
     "showTitle": false,
     "title": ""
    }
   },
   "outputs": [
    {
     "output_type": "display_data",
     "data": {
      "text/html": [
       "<style scoped>\n",
       "  .ansiout {\n",
       "    display: block;\n",
       "    unicode-bidi: embed;\n",
       "    white-space: pre-wrap;\n",
       "    word-wrap: break-word;\n",
       "    word-break: break-all;\n",
       "    font-family: \"Menlo\", \"Monaco\", \"Consolas\", \"Ubuntu Mono\", \"Source Code Pro\", monospace;\n",
       "    font-size: 13px;\n",
       "    color: #555;\n",
       "    margin-left: 4px;\n",
       "    line-height: 19px;\n",
       "  }\n",
       "</style>"
      ]
     },
     "metadata": {
      "application/vnd.databricks.v1+output": {
       "arguments": {},
       "data": "",
       "errorSummary": "",
       "errorTraceType": null,
       "metadata": {},
       "type": "ipynbError"
      }
     },
     "output_type": "display_data"
    }
   ],
   "source": [
    "def sum_recursion(arr):\n",
    "    \n",
    "    if len(arr) == 1:\n",
    "        return arr[0]\n",
    "    else:\n",
    "        return arr[0] + sum_recursion(arr[1:])\n",
    "      \n",
    "list=[1,2,3,4,5,6]\n",
    "sum_recursion(list)"
   ]
  },
  {
   "cell_type": "code",
   "execution_count": 0,
   "metadata": {
    "application/vnd.databricks.v1+cell": {
     "cellMetadata": {},
     "inputWidgets": {},
     "nuid": "6f48e7e4-bdd4-40ce-af6c-7c676cc58b31",
     "showTitle": false,
     "title": ""
    }
   },
   "outputs": [],
   "source": [
    "b=' '\n",
    "str=\"databricks training\"\n",
    "str[-1]"
   ]
  },
  {
   "cell_type": "code",
   "execution_count": 0,
   "metadata": {
    "application/vnd.databricks.v1+cell": {
     "cellMetadata": {},
     "inputWidgets": {},
     "nuid": "ee72fc99-f673-44ee-89b4-fff77d61f80d",
     "showTitle": false,
     "title": ""
    }
   },
   "outputs": [],
   "source": [
    "def reverse_string(str):\n",
    "    \"\"\"\n",
    "    Reverse a String using [:-1]\n",
    "    \"\"\"\n",
    "    if len(str) <= 1:\n",
    "        return str\n",
    "    else:\n",
    "        return str[-1] + reverse_string(str[:-1])\n",
    "reverse_string(\"databricks training\")"
   ]
  },
  {
   "cell_type": "markdown",
   "metadata": {
    "application/vnd.databricks.v1+cell": {
     "cellMetadata": {},
     "inputWidgets": {},
     "nuid": "98467559-c564-4973-9438-2000d465f461",
     "showTitle": false,
     "title": ""
    }
   },
   "source": [
    "##### isupper() and islower()\n",
    "* validating upper and lower case string using `isupper() and islower() ` functions and it will return `true` or `false`"
   ]
  },
  {
   "cell_type": "code",
   "execution_count": 0,
   "metadata": {
    "application/vnd.databricks.v1+cell": {
     "cellMetadata": {},
     "inputWidgets": {},
     "nuid": "564c803a-ff4f-48be-a469-6d817177d485",
     "showTitle": false,
     "title": ""
    }
   },
   "outputs": [],
   "source": [
    "string =\"pyspark\"\n",
    "if string.isupper():\n",
    "  print('its upper case')\n",
    "elif string.islower():\n",
    "  print('its lower case')\n",
    "else:\n",
    "  print('its mixed case')"
   ]
  },
  {
   "cell_type": "code",
   "execution_count": 0,
   "metadata": {
    "application/vnd.databricks.v1+cell": {
     "cellMetadata": {},
     "inputWidgets": {},
     "nuid": "42ff1b13-762b-41fe-84a8-14ee5bc90faf",
     "showTitle": false,
     "title": ""
    }
   },
   "outputs": [],
   "source": []
  },
  {
   "cell_type": "markdown",
   "metadata": {
    "application/vnd.databricks.v1+cell": {
     "cellMetadata": {},
     "inputWidgets": {},
     "nuid": "e3f7b111-6f12-4b30-9147-baab1c980e07",
     "showTitle": false,
     "title": ""
    }
   },
   "source": [
    "#### List Comprehensions\n",
    "* In addition to sequence operations and list methods, Python includes a more advanced operation called a list comprehension.\n",
    "* __`List comprehensions`__ allow us to build out lists using a different notation. \n",
    "* You can think of it as essentially a one line for loop built inside of brackets. "
   ]
  },
  {
   "cell_type": "code",
   "execution_count": 0,
   "metadata": {
    "application/vnd.databricks.v1+cell": {
     "cellMetadata": {},
     "inputWidgets": {},
     "nuid": "06556bf5-bc54-4c22-8fae-cdb845d04df4",
     "showTitle": false,
     "title": ""
    }
   },
   "outputs": [],
   "source": [
    "# Square numbers in range and turn into list\n",
    "Square = [x**2 for x in range(0,11)]\n",
    "Square"
   ]
  },
  {
   "cell_type": "code",
   "execution_count": 0,
   "metadata": {
    "application/vnd.databricks.v1+cell": {
     "cellMetadata": {},
     "inputWidgets": {},
     "nuid": "5517b75e-77b4-435b-9d9f-3cefa8586058",
     "showTitle": false,
     "title": ""
    }
   },
   "outputs": [],
   "source": [
    "# Check for even numbers in a range\n",
    "even = [x for x in range(11) if x % 2 == 0]\n",
    "even"
   ]
  },
  {
   "cell_type": "code",
   "execution_count": 0,
   "metadata": {
    "application/vnd.databricks.v1+cell": {
     "cellMetadata": {},
     "inputWidgets": {},
     "nuid": "b86b2d64-912a-4d1c-bbcb-e7f518ad20cf",
     "showTitle": false,
     "title": ""
    }
   },
   "outputs": [],
   "source": [
    "# Check for odd numbers in a range\n",
    "odd = [x for x in range(20) if x % 2 == 1 ]\n",
    "odd"
   ]
  },
  {
   "cell_type": "code",
   "execution_count": 0,
   "metadata": {
    "application/vnd.databricks.v1+cell": {
     "cellMetadata": {},
     "inputWidgets": {},
     "nuid": "1d4493ae-b55d-450c-add6-f1908f7a7251",
     "showTitle": false,
     "title": ""
    }
   },
   "outputs": [],
   "source": [
    "lst = [ x**2 for x in [x**2 for x in range(11)]]\n",
    "lst"
   ]
  },
  {
   "cell_type": "markdown",
   "metadata": {
    "application/vnd.databricks.v1+cell": {
     "cellMetadata": {},
     "inputWidgets": {},
     "nuid": "12454a7d-fa47-44d8-8661-e64951d720e8",
     "showTitle": false,
     "title": ""
    }
   },
   "source": [
    "#### assert"
   ]
  },
  {
   "cell_type": "code",
   "execution_count": 0,
   "metadata": {
    "application/vnd.databricks.v1+cell": {
     "cellMetadata": {},
     "inputWidgets": {},
     "nuid": "4bbff574-a930-4e67-9d22-9ce48588aa43",
     "showTitle": false,
     "title": ""
    }
   },
   "outputs": [],
   "source": [
    "a=5\n",
    "b=5\n",
    "assert (a==b),\"Condition matching. A and B values are same\""
   ]
  },
  {
   "cell_type": "code",
   "execution_count": 0,
   "metadata": {
    "application/vnd.databricks.v1+cell": {
     "cellMetadata": {},
     "inputWidgets": {},
     "nuid": "fab5fc50-0174-46d1-9fda-a1336141dcdb",
     "showTitle": false,
     "title": ""
    }
   },
   "outputs": [],
   "source": [
    "a=5\n",
    "a=7\n",
    "assert (a==b),\"A and B is not matching\""
   ]
  }
 ],
 "metadata": {
  "application/vnd.databricks.v1+notebook": {
   "dashboards": [],
   "language": "python",
   "notebookMetadata": {
    "pythonIndentUnit": 2
   },
   "notebookName": "Tutorial_00 ComparisonOperators_Assert",
   "widgets": {}
  },
  "kernelspec": {
   "display_name": "Python 3",
   "language": "python",
   "name": "python3"
  },
  "language_info": {
   "codemirror_mode": {
    "name": "ipython",
    "version": 3
   },
   "file_extension": ".py",
   "mimetype": "text/x-python",
   "name": "python",
   "nbconvert_exporter": "python",
   "pygments_lexer": "ipython3",
   "version": "3.6.6"
  }
 },
 "nbformat": 4,
 "nbformat_minor": 0
}
